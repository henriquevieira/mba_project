{
 "cells": [
  {
   "cell_type": "code",
   "execution_count": 1,
   "metadata": {},
   "outputs": [],
   "source": [
    "import re\n",
    "import numpy as np\n",
    "import pandas as pd\n",
    "\n",
    "from nltk import tokenize\n",
    "from nltk.corpus import stopwords\n",
    "from nltk.stem import PorterStemmer"
   ]
  },
  {
   "cell_type": "markdown",
   "metadata": {},
   "source": [
    "#### Loading content"
   ]
  },
  {
   "cell_type": "code",
   "execution_count": 2,
   "metadata": {},
   "outputs": [
    {
     "data": {
      "text/plain": [
       "(300, 6)"
      ]
     },
     "execution_count": 2,
     "metadata": {},
     "output_type": "execute_result"
    }
   ],
   "source": [
    "patents = pd.read_csv('patents_data.csv')\n",
    "patents.shape"
   ]
  },
  {
   "cell_type": "code",
   "execution_count": 3,
   "metadata": {},
   "outputs": [
    {
     "data": {
      "text/html": [
       "<div>\n",
       "<style scoped>\n",
       "    .dataframe tbody tr th:only-of-type {\n",
       "        vertical-align: middle;\n",
       "    }\n",
       "\n",
       "    .dataframe tbody tr th {\n",
       "        vertical-align: top;\n",
       "    }\n",
       "\n",
       "    .dataframe thead th {\n",
       "        text-align: right;\n",
       "    }\n",
       "</style>\n",
       "<table border=\"1\" class=\"dataframe\">\n",
       "  <thead>\n",
       "    <tr style=\"text-align: right;\">\n",
       "      <th></th>\n",
       "      <th>idx</th>\n",
       "      <th>title_raw</th>\n",
       "      <th>text_raw</th>\n",
       "      <th>title</th>\n",
       "      <th>text</th>\n",
       "      <th>content</th>\n",
       "    </tr>\n",
       "  </thead>\n",
       "  <tbody>\n",
       "    <tr>\n",
       "      <th>0</th>\n",
       "      <td>0387659</td>\n",
       "      <td>\\n\\n                    SYSTEMS AND METHODS FO...</td>\n",
       "      <td>\\n            The present disclosure provides ...</td>\n",
       "      <td>systems and methods for adjusting the output o...</td>\n",
       "      <td>the present disclosure provides systems and me...</td>\n",
       "      <td>systems and methods for adjusting the output o...</td>\n",
       "    </tr>\n",
       "    <tr>\n",
       "      <th>1</th>\n",
       "      <td>10729058</td>\n",
       "      <td>\\n\\n                    Systems and methods fo...</td>\n",
       "      <td>\\n            The present disclosure provides ...</td>\n",
       "      <td>systems and methods for adjusting the output o...</td>\n",
       "      <td>the present disclosure provides systems and me...</td>\n",
       "      <td>systems and methods for adjusting the output o...</td>\n",
       "    </tr>\n",
       "    <tr>\n",
       "      <th>2</th>\n",
       "      <td>6745128</td>\n",
       "      <td>\\n\\n                    Methods and systems fo...</td>\n",
       "      <td>\\n            Methods and systems for characte...</td>\n",
       "      <td>methods and systems for managing farmland</td>\n",
       "      <td>methods and systems for characterizing and man...</td>\n",
       "      <td>methods and systems for managing farmland meth...</td>\n",
       "    </tr>\n",
       "    <tr>\n",
       "      <th>3</th>\n",
       "      <td>6549852</td>\n",
       "      <td>\\n\\n                    Methods and systems fo...</td>\n",
       "      <td>\\n            Methods and systems for characte...</td>\n",
       "      <td>methods and systems for managing farmland</td>\n",
       "      <td>methods and systems for characterizing and man...</td>\n",
       "      <td>methods and systems for managing farmland meth...</td>\n",
       "    </tr>\n",
       "    <tr>\n",
       "      <th>4</th>\n",
       "      <td>0018431</td>\n",
       "      <td>\\n\\n                    METHODS AND SYSTEMS FO...</td>\n",
       "      <td>\\n            Methods and systems for characte...</td>\n",
       "      <td>methods and systems for managing farmland</td>\n",
       "      <td>methods and systems for characterizing and man...</td>\n",
       "      <td>methods and systems for managing farmland meth...</td>\n",
       "    </tr>\n",
       "  </tbody>\n",
       "</table>\n",
       "</div>"
      ],
      "text/plain": [
       "        idx                                          title_raw  \\\n",
       "0   0387659  \\n\\n                    SYSTEMS AND METHODS FO...   \n",
       "1  10729058  \\n\\n                    Systems and methods fo...   \n",
       "2   6745128  \\n\\n                    Methods and systems fo...   \n",
       "3   6549852  \\n\\n                    Methods and systems fo...   \n",
       "4   0018431  \\n\\n                    METHODS AND SYSTEMS FO...   \n",
       "\n",
       "                                            text_raw  \\\n",
       "0  \\n            The present disclosure provides ...   \n",
       "1  \\n            The present disclosure provides ...   \n",
       "2  \\n            Methods and systems for characte...   \n",
       "3  \\n            Methods and systems for characte...   \n",
       "4  \\n            Methods and systems for characte...   \n",
       "\n",
       "                                               title  \\\n",
       "0  systems and methods for adjusting the output o...   \n",
       "1  systems and methods for adjusting the output o...   \n",
       "2          methods and systems for managing farmland   \n",
       "3          methods and systems for managing farmland   \n",
       "4          methods and systems for managing farmland   \n",
       "\n",
       "                                                text  \\\n",
       "0  the present disclosure provides systems and me...   \n",
       "1  the present disclosure provides systems and me...   \n",
       "2  methods and systems for characterizing and man...   \n",
       "3  methods and systems for characterizing and man...   \n",
       "4  methods and systems for characterizing and man...   \n",
       "\n",
       "                                             content  \n",
       "0  systems and methods for adjusting the output o...  \n",
       "1  systems and methods for adjusting the output o...  \n",
       "2  methods and systems for managing farmland meth...  \n",
       "3  methods and systems for managing farmland meth...  \n",
       "4  methods and systems for managing farmland meth...  "
      ]
     },
     "execution_count": 3,
     "metadata": {},
     "output_type": "execute_result"
    }
   ],
   "source": [
    "patents.head()"
   ]
  },
  {
   "cell_type": "code",
   "execution_count": 4,
   "metadata": {},
   "outputs": [
    {
     "data": {
      "text/plain": [
       "'systems and methods for adjusting the output of a field measurement system to conform to agronomy measurements the present disclosure provides systems and methods for adjusting the output of a field measurement system to conform to agronomy measurements. in particular, the present subject matter is directed to a calibration process and system that uses a calibration model to convert field measurement data expressed according to an automatic system metric into agronomy data that is expressed according to an agronomy metric.'"
      ]
     },
     "execution_count": 4,
     "metadata": {},
     "output_type": "execute_result"
    }
   ],
   "source": [
    "patents['content'].tolist()[0]"
   ]
  },
  {
   "cell_type": "markdown",
   "metadata": {},
   "source": [
    "#### Loading dictionary"
   ]
  },
  {
   "cell_type": "code",
   "execution_count": 5,
   "metadata": {},
   "outputs": [
    {
     "data": {
      "text/plain": [
       "(974, 3)"
      ]
     },
     "execution_count": 5,
     "metadata": {},
     "output_type": "execute_result"
    }
   ],
   "source": [
    "# todo remover a primeira coluna ao criar o dicionario na geracao de dicionario\n",
    "\n",
    "dictionary = pd.read_csv('dictionary.csv')\n",
    "dictionary = dictionary[dictionary.columns.tolist()[1:]]\n",
    "dictionary.shape"
   ]
  },
  {
   "cell_type": "code",
   "execution_count": 6,
   "metadata": {},
   "outputs": [
    {
     "data": {
      "text/html": [
       "<div>\n",
       "<style scoped>\n",
       "    .dataframe tbody tr th:only-of-type {\n",
       "        vertical-align: middle;\n",
       "    }\n",
       "\n",
       "    .dataframe tbody tr th {\n",
       "        vertical-align: top;\n",
       "    }\n",
       "\n",
       "    .dataframe thead th {\n",
       "        text-align: right;\n",
       "    }\n",
       "</style>\n",
       "<table border=\"1\" class=\"dataframe\">\n",
       "  <thead>\n",
       "    <tr style=\"text-align: right;\">\n",
       "      <th></th>\n",
       "      <th>topic</th>\n",
       "      <th>term</th>\n",
       "      <th>feature</th>\n",
       "    </tr>\n",
       "  </thead>\n",
       "  <tbody>\n",
       "    <tr>\n",
       "      <th>0</th>\n",
       "      <td>water_soil_plant</td>\n",
       "      <td>water</td>\n",
       "      <td>water</td>\n",
       "    </tr>\n",
       "    <tr>\n",
       "      <th>1</th>\n",
       "      <td>water_soil_plant</td>\n",
       "      <td>water</td>\n",
       "      <td>H2O</td>\n",
       "    </tr>\n",
       "    <tr>\n",
       "      <th>2</th>\n",
       "      <td>water_soil_plant</td>\n",
       "      <td>water</td>\n",
       "      <td>body_of_water</td>\n",
       "    </tr>\n",
       "    <tr>\n",
       "      <th>3</th>\n",
       "      <td>seed_plant_method</td>\n",
       "      <td>water</td>\n",
       "      <td>water</td>\n",
       "    </tr>\n",
       "    <tr>\n",
       "      <th>4</th>\n",
       "      <td>seed_plant_method</td>\n",
       "      <td>water</td>\n",
       "      <td>H2O</td>\n",
       "    </tr>\n",
       "  </tbody>\n",
       "</table>\n",
       "</div>"
      ],
      "text/plain": [
       "               topic   term        feature\n",
       "0   water_soil_plant  water          water\n",
       "1   water_soil_plant  water            H2O\n",
       "2   water_soil_plant  water  body_of_water\n",
       "3  seed_plant_method  water          water\n",
       "4  seed_plant_method  water            H2O"
      ]
     },
     "execution_count": 6,
     "metadata": {},
     "output_type": "execute_result"
    }
   ],
   "source": [
    "dictionary.head()"
   ]
  },
  {
   "cell_type": "code",
   "execution_count": 7,
   "metadata": {},
   "outputs": [
    {
     "data": {
      "text/html": [
       "<div>\n",
       "<style scoped>\n",
       "    .dataframe tbody tr th:only-of-type {\n",
       "        vertical-align: middle;\n",
       "    }\n",
       "\n",
       "    .dataframe tbody tr th {\n",
       "        vertical-align: top;\n",
       "    }\n",
       "\n",
       "    .dataframe thead th {\n",
       "        text-align: right;\n",
       "    }\n",
       "</style>\n",
       "<table border=\"1\" class=\"dataframe\">\n",
       "  <thead>\n",
       "    <tr style=\"text-align: right;\">\n",
       "      <th></th>\n",
       "      <th>topic</th>\n",
       "      <th>term</th>\n",
       "      <th>feature</th>\n",
       "      <th>feature_stem</th>\n",
       "    </tr>\n",
       "  </thead>\n",
       "  <tbody>\n",
       "    <tr>\n",
       "      <th>0</th>\n",
       "      <td>water_soil_plant</td>\n",
       "      <td>water</td>\n",
       "      <td>water</td>\n",
       "      <td>water</td>\n",
       "    </tr>\n",
       "    <tr>\n",
       "      <th>1</th>\n",
       "      <td>water_soil_plant</td>\n",
       "      <td>water</td>\n",
       "      <td>H2O</td>\n",
       "      <td>h2o</td>\n",
       "    </tr>\n",
       "    <tr>\n",
       "      <th>2</th>\n",
       "      <td>water_soil_plant</td>\n",
       "      <td>water</td>\n",
       "      <td>body_of_water</td>\n",
       "      <td>body_of_wat</td>\n",
       "    </tr>\n",
       "    <tr>\n",
       "      <th>3</th>\n",
       "      <td>seed_plant_method</td>\n",
       "      <td>water</td>\n",
       "      <td>water</td>\n",
       "      <td>water</td>\n",
       "    </tr>\n",
       "    <tr>\n",
       "      <th>4</th>\n",
       "      <td>seed_plant_method</td>\n",
       "      <td>water</td>\n",
       "      <td>H2O</td>\n",
       "      <td>h2o</td>\n",
       "    </tr>\n",
       "  </tbody>\n",
       "</table>\n",
       "</div>"
      ],
      "text/plain": [
       "               topic   term        feature feature_stem\n",
       "0   water_soil_plant  water          water        water\n",
       "1   water_soil_plant  water            H2O          h2o\n",
       "2   water_soil_plant  water  body_of_water  body_of_wat\n",
       "3  seed_plant_method  water          water        water\n",
       "4  seed_plant_method  water            H2O          h2o"
      ]
     },
     "execution_count": 7,
     "metadata": {},
     "output_type": "execute_result"
    }
   ],
   "source": [
    "# todo passar isso para a geracao de dicionario\n",
    "\n",
    "porter = PorterStemmer()\n",
    "dictionary['feature_stem'] = dictionary['feature'].apply(lambda x : porter.stem(x))\n",
    "dictionary.head()"
   ]
  },
  {
   "cell_type": "code",
   "execution_count": 8,
   "metadata": {},
   "outputs": [],
   "source": [
    "def preprocess_text(word_list):\n",
    "    \n",
    "    out_list = []\n",
    "    for word in word_list:\n",
    "        if word.isalpha() and word not in stopwords.words('english'):\n",
    "            \n",
    "            out_list.append(porter.stem(word))\n",
    "    \n",
    "    return out_list"
   ]
  },
  {
   "cell_type": "code",
   "execution_count": 9,
   "metadata": {},
   "outputs": [],
   "source": [
    "idx_    = []\n",
    "tokens_ = []\n",
    "idx_content = zip(patents['idx'].tolist(), patents['content'].tolist())\n",
    "for idx, content in idx_content:\n",
    "    doc_tokens = tokenize.word_tokenize(content)\n",
    "    doc_tokens = preprocess_text(doc_tokens)\n",
    "    idx_    = idx_ + ([idx] * len(doc_tokens))\n",
    "    tokens_ = tokens_ + doc_tokens\n",
    "\n",
    "df_idx_tokens = pd.DataFrame(zip(idx_, tokens_), columns = ['idx', 'token'])\n",
    "df_idx_tokens = df_idx_tokens.drop_duplicates()"
   ]
  },
  {
   "cell_type": "code",
   "execution_count": 10,
   "metadata": {},
   "outputs": [
    {
     "data": {
      "text/plain": [
       "(10233, 3)"
      ]
     },
     "execution_count": 10,
     "metadata": {},
     "output_type": "execute_result"
    }
   ],
   "source": [
    "df_tokens_dictionary = pd.merge(df_idx_tokens, dictionary, \n",
    "                                how = 'inner', \n",
    "                                left_on = 'token', \n",
    "                                right_on= 'feature_stem')\n",
    "df_tokens_dictionary = df_tokens_dictionary.drop_duplicates()\n",
    "df_tokens_dictionary = df_tokens_dictionary.drop(['term', 'feature', 'feature_stem'], axis = 1)\n",
    "df_tokens_dictionary.shape"
   ]
  },
  {
   "cell_type": "code",
   "execution_count": 11,
   "metadata": {},
   "outputs": [
    {
     "data": {
      "text/html": [
       "<div>\n",
       "<style scoped>\n",
       "    .dataframe tbody tr th:only-of-type {\n",
       "        vertical-align: middle;\n",
       "    }\n",
       "\n",
       "    .dataframe tbody tr th {\n",
       "        vertical-align: top;\n",
       "    }\n",
       "\n",
       "    .dataframe thead th {\n",
       "        text-align: right;\n",
       "    }\n",
       "</style>\n",
       "<table border=\"1\" class=\"dataframe\">\n",
       "  <thead>\n",
       "    <tr style=\"text-align: right;\">\n",
       "      <th></th>\n",
       "      <th>idx</th>\n",
       "      <th>token</th>\n",
       "      <th>topic</th>\n",
       "    </tr>\n",
       "  </thead>\n",
       "  <tbody>\n",
       "    <tr>\n",
       "      <th>0</th>\n",
       "      <td>0387659</td>\n",
       "      <td>system</td>\n",
       "      <td>method_crop_use</td>\n",
       "    </tr>\n",
       "    <tr>\n",
       "      <th>1</th>\n",
       "      <td>0387659</td>\n",
       "      <td>system</td>\n",
       "      <td>plurality_equipment_datum</td>\n",
       "    </tr>\n",
       "    <tr>\n",
       "      <th>2</th>\n",
       "      <td>0387659</td>\n",
       "      <td>system</td>\n",
       "      <td>level_feature_maintain</td>\n",
       "    </tr>\n",
       "    <tr>\n",
       "      <th>3</th>\n",
       "      <td>10729058</td>\n",
       "      <td>system</td>\n",
       "      <td>method_crop_use</td>\n",
       "    </tr>\n",
       "    <tr>\n",
       "      <th>4</th>\n",
       "      <td>10729058</td>\n",
       "      <td>system</td>\n",
       "      <td>plurality_equipment_datum</td>\n",
       "    </tr>\n",
       "  </tbody>\n",
       "</table>\n",
       "</div>"
      ],
      "text/plain": [
       "        idx   token                      topic\n",
       "0   0387659  system            method_crop_use\n",
       "1   0387659  system  plurality_equipment_datum\n",
       "2   0387659  system     level_feature_maintain\n",
       "3  10729058  system            method_crop_use\n",
       "4  10729058  system  plurality_equipment_datum"
      ]
     },
     "execution_count": 11,
     "metadata": {},
     "output_type": "execute_result"
    }
   ],
   "source": [
    "df_tokens_dictionary.head()"
   ]
  },
  {
   "cell_type": "code",
   "execution_count": 12,
   "metadata": {},
   "outputs": [],
   "source": [
    "idx_unique = df_tokens_dictionary['idx'].unique().tolist()"
   ]
  },
  {
   "cell_type": "code",
   "execution_count": 13,
   "metadata": {},
   "outputs": [
    {
     "data": {
      "text/plain": [
       "(300, 2)"
      ]
     },
     "execution_count": 13,
     "metadata": {},
     "output_type": "execute_result"
    }
   ],
   "source": [
    "idx_topic = []\n",
    "for idx in idx_unique:\n",
    "    df_tmp = df_tokens_dictionary[df_tokens_dictionary['idx'] == idx]\n",
    "    topic_unique = df_tmp['topic'].unique().tolist()\n",
    "    idx_topic.append([idx, '; '.join(topic_unique)])\n",
    "df_idx_topic = pd.DataFrame(idx_topic, columns=['idx', 'topic'])\n",
    "df_idx_topic.shape"
   ]
  },
  {
   "cell_type": "code",
   "execution_count": 14,
   "metadata": {},
   "outputs": [
    {
     "data": {
      "text/html": [
       "<div>\n",
       "<style scoped>\n",
       "    .dataframe tbody tr th:only-of-type {\n",
       "        vertical-align: middle;\n",
       "    }\n",
       "\n",
       "    .dataframe tbody tr th {\n",
       "        vertical-align: top;\n",
       "    }\n",
       "\n",
       "    .dataframe thead th {\n",
       "        text-align: right;\n",
       "    }\n",
       "</style>\n",
       "<table border=\"1\" class=\"dataframe\">\n",
       "  <thead>\n",
       "    <tr style=\"text-align: right;\">\n",
       "      <th></th>\n",
       "      <th>idx</th>\n",
       "      <th>topic</th>\n",
       "    </tr>\n",
       "  </thead>\n",
       "  <tbody>\n",
       "    <tr>\n",
       "      <th>0</th>\n",
       "      <td>0387659</td>\n",
       "      <td>method_crop_use; plurality_equipment_datum; le...</td>\n",
       "    </tr>\n",
       "    <tr>\n",
       "      <th>1</th>\n",
       "      <td>10729058</td>\n",
       "      <td>method_crop_use; plurality_equipment_datum; le...</td>\n",
       "    </tr>\n",
       "    <tr>\n",
       "      <th>2</th>\n",
       "      <td>6745128</td>\n",
       "      <td>method_crop_use; plurality_equipment_datum; le...</td>\n",
       "    </tr>\n",
       "    <tr>\n",
       "      <th>3</th>\n",
       "      <td>6549852</td>\n",
       "      <td>method_crop_use; plurality_equipment_datum; le...</td>\n",
       "    </tr>\n",
       "    <tr>\n",
       "      <th>4</th>\n",
       "      <td>0018431</td>\n",
       "      <td>method_crop_use; plurality_equipment_datum; le...</td>\n",
       "    </tr>\n",
       "  </tbody>\n",
       "</table>\n",
       "</div>"
      ],
      "text/plain": [
       "        idx                                              topic\n",
       "0   0387659  method_crop_use; plurality_equipment_datum; le...\n",
       "1  10729058  method_crop_use; plurality_equipment_datum; le...\n",
       "2   6745128  method_crop_use; plurality_equipment_datum; le...\n",
       "3   6549852  method_crop_use; plurality_equipment_datum; le...\n",
       "4   0018431  method_crop_use; plurality_equipment_datum; le..."
      ]
     },
     "execution_count": 14,
     "metadata": {},
     "output_type": "execute_result"
    }
   ],
   "source": [
    "df_idx_topic.head()"
   ]
  },
  {
   "cell_type": "code",
   "execution_count": 15,
   "metadata": {},
   "outputs": [
    {
     "data": {
      "text/plain": [
       "(300, 7)"
      ]
     },
     "execution_count": 15,
     "metadata": {},
     "output_type": "execute_result"
    }
   ],
   "source": [
    "# Juntando os topicos as patentes\n",
    "df_patents = pd.merge(patents, df_idx_topic, how = 'inner', on = 'idx')\n",
    "df_patents = df_patents.drop_duplicates()\n",
    "df_patents.shape"
   ]
  },
  {
   "cell_type": "code",
   "execution_count": 16,
   "metadata": {},
   "outputs": [
    {
     "data": {
      "text/html": [
       "<div>\n",
       "<style scoped>\n",
       "    .dataframe tbody tr th:only-of-type {\n",
       "        vertical-align: middle;\n",
       "    }\n",
       "\n",
       "    .dataframe tbody tr th {\n",
       "        vertical-align: top;\n",
       "    }\n",
       "\n",
       "    .dataframe thead th {\n",
       "        text-align: right;\n",
       "    }\n",
       "</style>\n",
       "<table border=\"1\" class=\"dataframe\">\n",
       "  <thead>\n",
       "    <tr style=\"text-align: right;\">\n",
       "      <th></th>\n",
       "      <th>idx</th>\n",
       "      <th>title_raw</th>\n",
       "      <th>text_raw</th>\n",
       "      <th>title</th>\n",
       "      <th>text</th>\n",
       "      <th>content</th>\n",
       "      <th>topic</th>\n",
       "    </tr>\n",
       "  </thead>\n",
       "  <tbody>\n",
       "    <tr>\n",
       "      <th>0</th>\n",
       "      <td>0387659</td>\n",
       "      <td>\\n\\n                    SYSTEMS AND METHODS FO...</td>\n",
       "      <td>\\n            The present disclosure provides ...</td>\n",
       "      <td>systems and methods for adjusting the output o...</td>\n",
       "      <td>the present disclosure provides systems and me...</td>\n",
       "      <td>systems and methods for adjusting the output o...</td>\n",
       "      <td>method_crop_use; plurality_equipment_datum; le...</td>\n",
       "    </tr>\n",
       "    <tr>\n",
       "      <th>1</th>\n",
       "      <td>10729058</td>\n",
       "      <td>\\n\\n                    Systems and methods fo...</td>\n",
       "      <td>\\n            The present disclosure provides ...</td>\n",
       "      <td>systems and methods for adjusting the output o...</td>\n",
       "      <td>the present disclosure provides systems and me...</td>\n",
       "      <td>systems and methods for adjusting the output o...</td>\n",
       "      <td>method_crop_use; plurality_equipment_datum; le...</td>\n",
       "    </tr>\n",
       "    <tr>\n",
       "      <th>2</th>\n",
       "      <td>6745128</td>\n",
       "      <td>\\n\\n                    Methods and systems fo...</td>\n",
       "      <td>\\n            Methods and systems for characte...</td>\n",
       "      <td>methods and systems for managing farmland</td>\n",
       "      <td>methods and systems for characterizing and man...</td>\n",
       "      <td>methods and systems for managing farmland meth...</td>\n",
       "      <td>method_crop_use; plurality_equipment_datum; le...</td>\n",
       "    </tr>\n",
       "    <tr>\n",
       "      <th>3</th>\n",
       "      <td>6549852</td>\n",
       "      <td>\\n\\n                    Methods and systems fo...</td>\n",
       "      <td>\\n            Methods and systems for characte...</td>\n",
       "      <td>methods and systems for managing farmland</td>\n",
       "      <td>methods and systems for characterizing and man...</td>\n",
       "      <td>methods and systems for managing farmland meth...</td>\n",
       "      <td>method_crop_use; plurality_equipment_datum; le...</td>\n",
       "    </tr>\n",
       "    <tr>\n",
       "      <th>4</th>\n",
       "      <td>0018431</td>\n",
       "      <td>\\n\\n                    METHODS AND SYSTEMS FO...</td>\n",
       "      <td>\\n            Methods and systems for characte...</td>\n",
       "      <td>methods and systems for managing farmland</td>\n",
       "      <td>methods and systems for characterizing and man...</td>\n",
       "      <td>methods and systems for managing farmland meth...</td>\n",
       "      <td>method_crop_use; plurality_equipment_datum; le...</td>\n",
       "    </tr>\n",
       "  </tbody>\n",
       "</table>\n",
       "</div>"
      ],
      "text/plain": [
       "        idx                                          title_raw  \\\n",
       "0   0387659  \\n\\n                    SYSTEMS AND METHODS FO...   \n",
       "1  10729058  \\n\\n                    Systems and methods fo...   \n",
       "2   6745128  \\n\\n                    Methods and systems fo...   \n",
       "3   6549852  \\n\\n                    Methods and systems fo...   \n",
       "4   0018431  \\n\\n                    METHODS AND SYSTEMS FO...   \n",
       "\n",
       "                                            text_raw  \\\n",
       "0  \\n            The present disclosure provides ...   \n",
       "1  \\n            The present disclosure provides ...   \n",
       "2  \\n            Methods and systems for characte...   \n",
       "3  \\n            Methods and systems for characte...   \n",
       "4  \\n            Methods and systems for characte...   \n",
       "\n",
       "                                               title  \\\n",
       "0  systems and methods for adjusting the output o...   \n",
       "1  systems and methods for adjusting the output o...   \n",
       "2          methods and systems for managing farmland   \n",
       "3          methods and systems for managing farmland   \n",
       "4          methods and systems for managing farmland   \n",
       "\n",
       "                                                text  \\\n",
       "0  the present disclosure provides systems and me...   \n",
       "1  the present disclosure provides systems and me...   \n",
       "2  methods and systems for characterizing and man...   \n",
       "3  methods and systems for characterizing and man...   \n",
       "4  methods and systems for characterizing and man...   \n",
       "\n",
       "                                             content  \\\n",
       "0  systems and methods for adjusting the output o...   \n",
       "1  systems and methods for adjusting the output o...   \n",
       "2  methods and systems for managing farmland meth...   \n",
       "3  methods and systems for managing farmland meth...   \n",
       "4  methods and systems for managing farmland meth...   \n",
       "\n",
       "                                               topic  \n",
       "0  method_crop_use; plurality_equipment_datum; le...  \n",
       "1  method_crop_use; plurality_equipment_datum; le...  \n",
       "2  method_crop_use; plurality_equipment_datum; le...  \n",
       "3  method_crop_use; plurality_equipment_datum; le...  \n",
       "4  method_crop_use; plurality_equipment_datum; le...  "
      ]
     },
     "execution_count": 16,
     "metadata": {},
     "output_type": "execute_result"
    }
   ],
   "source": [
    "df_patents.head()"
   ]
  },
  {
   "cell_type": "code",
   "execution_count": 17,
   "metadata": {},
   "outputs": [
    {
     "data": {
      "text/html": [
       "<div>\n",
       "<style scoped>\n",
       "    .dataframe tbody tr th:only-of-type {\n",
       "        vertical-align: middle;\n",
       "    }\n",
       "\n",
       "    .dataframe tbody tr th {\n",
       "        vertical-align: top;\n",
       "    }\n",
       "\n",
       "    .dataframe thead th {\n",
       "        text-align: right;\n",
       "    }\n",
       "</style>\n",
       "<table border=\"1\" class=\"dataframe\">\n",
       "  <thead>\n",
       "    <tr style=\"text-align: right;\">\n",
       "      <th></th>\n",
       "      <th>idx</th>\n",
       "      <th>title_raw</th>\n",
       "      <th>text_raw</th>\n",
       "      <th>title</th>\n",
       "      <th>text</th>\n",
       "      <th>content</th>\n",
       "      <th>_topic_</th>\n",
       "    </tr>\n",
       "  </thead>\n",
       "  <tbody>\n",
       "    <tr>\n",
       "      <th>0</th>\n",
       "      <td>0387659</td>\n",
       "      <td>\\n\\n                    SYSTEMS AND METHODS FO...</td>\n",
       "      <td>\\n            The present disclosure provides ...</td>\n",
       "      <td>systems and methods for adjusting the output o...</td>\n",
       "      <td>the present disclosure provides systems and me...</td>\n",
       "      <td>systems and methods for adjusting the output o...</td>\n",
       "      <td>method_crop_use; plurality_equipment_datum; le...</td>\n",
       "    </tr>\n",
       "    <tr>\n",
       "      <th>1</th>\n",
       "      <td>10729058</td>\n",
       "      <td>\\n\\n                    Systems and methods fo...</td>\n",
       "      <td>\\n            The present disclosure provides ...</td>\n",
       "      <td>systems and methods for adjusting the output o...</td>\n",
       "      <td>the present disclosure provides systems and me...</td>\n",
       "      <td>systems and methods for adjusting the output o...</td>\n",
       "      <td>method_crop_use; plurality_equipment_datum; le...</td>\n",
       "    </tr>\n",
       "    <tr>\n",
       "      <th>2</th>\n",
       "      <td>6745128</td>\n",
       "      <td>\\n\\n                    Methods and systems fo...</td>\n",
       "      <td>\\n            Methods and systems for characte...</td>\n",
       "      <td>methods and systems for managing farmland</td>\n",
       "      <td>methods and systems for characterizing and man...</td>\n",
       "      <td>methods and systems for managing farmland meth...</td>\n",
       "      <td>method_crop_use; plurality_equipment_datum; le...</td>\n",
       "    </tr>\n",
       "    <tr>\n",
       "      <th>3</th>\n",
       "      <td>6549852</td>\n",
       "      <td>\\n\\n                    Methods and systems fo...</td>\n",
       "      <td>\\n            Methods and systems for characte...</td>\n",
       "      <td>methods and systems for managing farmland</td>\n",
       "      <td>methods and systems for characterizing and man...</td>\n",
       "      <td>methods and systems for managing farmland meth...</td>\n",
       "      <td>method_crop_use; plurality_equipment_datum; le...</td>\n",
       "    </tr>\n",
       "    <tr>\n",
       "      <th>4</th>\n",
       "      <td>0018431</td>\n",
       "      <td>\\n\\n                    METHODS AND SYSTEMS FO...</td>\n",
       "      <td>\\n            Methods and systems for characte...</td>\n",
       "      <td>methods and systems for managing farmland</td>\n",
       "      <td>methods and systems for characterizing and man...</td>\n",
       "      <td>methods and systems for managing farmland meth...</td>\n",
       "      <td>method_crop_use; plurality_equipment_datum; le...</td>\n",
       "    </tr>\n",
       "  </tbody>\n",
       "</table>\n",
       "</div>"
      ],
      "text/plain": [
       "        idx                                          title_raw  \\\n",
       "0   0387659  \\n\\n                    SYSTEMS AND METHODS FO...   \n",
       "1  10729058  \\n\\n                    Systems and methods fo...   \n",
       "2   6745128  \\n\\n                    Methods and systems fo...   \n",
       "3   6549852  \\n\\n                    Methods and systems fo...   \n",
       "4   0018431  \\n\\n                    METHODS AND SYSTEMS FO...   \n",
       "\n",
       "                                            text_raw  \\\n",
       "0  \\n            The present disclosure provides ...   \n",
       "1  \\n            The present disclosure provides ...   \n",
       "2  \\n            Methods and systems for characte...   \n",
       "3  \\n            Methods and systems for characte...   \n",
       "4  \\n            Methods and systems for characte...   \n",
       "\n",
       "                                               title  \\\n",
       "0  systems and methods for adjusting the output o...   \n",
       "1  systems and methods for adjusting the output o...   \n",
       "2          methods and systems for managing farmland   \n",
       "3          methods and systems for managing farmland   \n",
       "4          methods and systems for managing farmland   \n",
       "\n",
       "                                                text  \\\n",
       "0  the present disclosure provides systems and me...   \n",
       "1  the present disclosure provides systems and me...   \n",
       "2  methods and systems for characterizing and man...   \n",
       "3  methods and systems for characterizing and man...   \n",
       "4  methods and systems for characterizing and man...   \n",
       "\n",
       "                                             content  \\\n",
       "0  systems and methods for adjusting the output o...   \n",
       "1  systems and methods for adjusting the output o...   \n",
       "2  methods and systems for managing farmland meth...   \n",
       "3  methods and systems for managing farmland meth...   \n",
       "4  methods and systems for managing farmland meth...   \n",
       "\n",
       "                                             _topic_  \n",
       "0  method_crop_use; plurality_equipment_datum; le...  \n",
       "1  method_crop_use; plurality_equipment_datum; le...  \n",
       "2  method_crop_use; plurality_equipment_datum; le...  \n",
       "3  method_crop_use; plurality_equipment_datum; le...  \n",
       "4  method_crop_use; plurality_equipment_datum; le...  "
      ]
     },
     "execution_count": 17,
     "metadata": {},
     "output_type": "execute_result"
    }
   ],
   "source": [
    "df_patents = df_patents.rename({'topic' : '_topic_'}, axis = 1)\n",
    "df_patents.head()"
   ]
  },
  {
   "cell_type": "code",
   "execution_count": 18,
   "metadata": {},
   "outputs": [],
   "source": [
    "df_patents.to_csv('database.csv', index = False)"
   ]
  },
  {
   "cell_type": "code",
   "execution_count": null,
   "metadata": {},
   "outputs": [],
   "source": []
  }
 ],
 "metadata": {
  "kernelspec": {
   "display_name": "Python 3",
   "language": "python",
   "name": "python3"
  },
  "language_info": {
   "codemirror_mode": {
    "name": "ipython",
    "version": 3
   },
   "file_extension": ".py",
   "mimetype": "text/x-python",
   "name": "python",
   "nbconvert_exporter": "python",
   "pygments_lexer": "ipython3",
   "version": "3.8.5"
  }
 },
 "nbformat": 4,
 "nbformat_minor": 4
}
