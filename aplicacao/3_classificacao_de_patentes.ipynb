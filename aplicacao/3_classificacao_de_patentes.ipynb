{
 "cells": [
  {
   "cell_type": "code",
   "execution_count": 6,
   "metadata": {},
   "outputs": [],
   "source": [
    "import re\n",
    "import numpy as np\n",
    "import pandas as pd\n",
    "\n"
   ]
  },
  {
   "cell_type": "code",
   "execution_count": 28,
   "metadata": {},
   "outputs": [
    {
     "data": {
      "text/plain": [
       "(50, 6)"
      ]
     },
     "execution_count": 28,
     "metadata": {},
     "output_type": "execute_result"
    }
   ],
   "source": [
    "patents = pd.read_csv('patents_data.csv')\n",
    "patents.shape"
   ]
  },
  {
   "cell_type": "code",
   "execution_count": 3,
   "metadata": {},
   "outputs": [],
   "source": [
    "dictionary = pd.read_csv('dictionary.csv')"
   ]
  },
  {
   "cell_type": "code",
   "execution_count": 29,
   "metadata": {},
   "outputs": [
    {
     "data": {
      "text/plain": [
       "50"
      ]
     },
     "execution_count": 29,
     "metadata": {},
     "output_type": "execute_result"
    }
   ],
   "source": [
    "len(contents)"
   ]
  },
  {
   "cell_type": "code",
   "execution_count": 37,
   "metadata": {},
   "outputs": [
    {
     "name": "stdout",
     "output_type": "stream",
     "text": [
      "['composition_cyanamide_use', 'composition_cyanamide_use', 'composition_cyanamide_use', 'composition_cyanamide_use', 'composition_cyanamide_use', 'plant_inbreed_corn', 'plant_method_reduce', 'include_composition_system', 'second_value_oil', 'acid_rice_content', None, None, None, None, None, None, None, None, None, None, None, None, None, None, None, None, None, None, None, None, None, None, None, None, None, None, None, None, None, None, None, None, None, None, None, None, None, None, None, None]\n"
     ]
    }
   ],
   "source": [
    "# todo fazer com a feature\n",
    "# topic_feature = zip(dictionary['topic'].tolist(), dictionary['feature'].tolist())\n",
    "topic_term = zip(dictionary['topic'].tolist(), dictionary['term'].tolist())\n",
    "contents = patents['content'].tolist()\n",
    "\n",
    "_category_ = []\n",
    "for content in contents:\n",
    "\n",
    "    hit = []\n",
    "    # todo usar topic_feature\n",
    "#     for topic, feature in topic_feature:\n",
    "    for topic, feature in topic_term:\n",
    "\n",
    "        hit = re.findall(feature, content)\n",
    "\n",
    "        if hit:\n",
    "            _category_.append(topic)\n",
    "            break\n",
    "    \n",
    "    if not hit:\n",
    "        _category_.append(None)\n",
    "\n",
    "print(_category_)"
   ]
  },
  {
   "cell_type": "code",
   "execution_count": 38,
   "metadata": {},
   "outputs": [
    {
     "data": {
      "text/plain": [
       "50"
      ]
     },
     "execution_count": 38,
     "metadata": {},
     "output_type": "execute_result"
    }
   ],
   "source": [
    "len(_category_)"
   ]
  },
  {
   "cell_type": "code",
   "execution_count": 40,
   "metadata": {},
   "outputs": [
    {
     "data": {
      "text/html": [
       "<div>\n",
       "<style scoped>\n",
       "    .dataframe tbody tr th:only-of-type {\n",
       "        vertical-align: middle;\n",
       "    }\n",
       "\n",
       "    .dataframe tbody tr th {\n",
       "        vertical-align: top;\n",
       "    }\n",
       "\n",
       "    .dataframe thead th {\n",
       "        text-align: right;\n",
       "    }\n",
       "</style>\n",
       "<table border=\"1\" class=\"dataframe\">\n",
       "  <thead>\n",
       "    <tr style=\"text-align: right;\">\n",
       "      <th></th>\n",
       "      <th>idx</th>\n",
       "      <th>title_raw</th>\n",
       "      <th>text_raw</th>\n",
       "      <th>title</th>\n",
       "      <th>text</th>\n",
       "      <th>content</th>\n",
       "      <th>_topic_</th>\n",
       "    </tr>\n",
       "  </thead>\n",
       "  <tbody>\n",
       "    <tr>\n",
       "      <th>0</th>\n",
       "      <td>5969222</td>\n",
       "      <td>\\n\\n                    Corn inbred lines for ...</td>\n",
       "      <td>\\n            An inbred corn line designated A...</td>\n",
       "      <td>corn inbred lines for dairy cattle feed</td>\n",
       "      <td>an inbred corn line designated ar5153bm3 is di...</td>\n",
       "      <td>corn inbred lines for dairy cattle feed an inb...</td>\n",
       "      <td>composition_cyanamide_use</td>\n",
       "    </tr>\n",
       "    <tr>\n",
       "      <th>1</th>\n",
       "      <td>6114609</td>\n",
       "      <td>\\n\\n                    Corn inbred lines for ...</td>\n",
       "      <td>\\n            An inbred corn line designated A...</td>\n",
       "      <td>corn inbred lines for dairy cattle feed</td>\n",
       "      <td>an inbred corn line designated ar5253bm3 is di...</td>\n",
       "      <td>corn inbred lines for dairy cattle feed an inb...</td>\n",
       "      <td>composition_cyanamide_use</td>\n",
       "    </tr>\n",
       "    <tr>\n",
       "      <th>2</th>\n",
       "      <td>5859353</td>\n",
       "      <td>\\n\\n                    Corn Inbred lines for ...</td>\n",
       "      <td>\\n            An inbred corn line designated A...</td>\n",
       "      <td>corn inbred lines for dairy cattle feed</td>\n",
       "      <td>an inbred corn line designated ar5252bm3 is di...</td>\n",
       "      <td>corn inbred lines for dairy cattle feed an inb...</td>\n",
       "      <td>composition_cyanamide_use</td>\n",
       "    </tr>\n",
       "    <tr>\n",
       "      <th>3</th>\n",
       "      <td>5714670</td>\n",
       "      <td>\\n\\n                    Soybeans having low li...</td>\n",
       "      <td>\\n            A novel soybean seed and plant d...</td>\n",
       "      <td>soybeans having low linolenic acid and low pal...</td>\n",
       "      <td>a novel soybean seed and plant designated ax77...</td>\n",
       "      <td>soybeans having low linolenic acid and low pal...</td>\n",
       "      <td>composition_cyanamide_use</td>\n",
       "    </tr>\n",
       "    <tr>\n",
       "      <th>4</th>\n",
       "      <td>5763745</td>\n",
       "      <td>\\n\\n                    Soybeans having low li...</td>\n",
       "      <td>\\n            Methods are described for the pr...</td>\n",
       "      <td>soybeans having low linolenic acid content and...</td>\n",
       "      <td>methods are described for the production of so...</td>\n",
       "      <td>soybeans having low linolenic acid content and...</td>\n",
       "      <td>composition_cyanamide_use</td>\n",
       "    </tr>\n",
       "  </tbody>\n",
       "</table>\n",
       "</div>"
      ],
      "text/plain": [
       "       idx                                          title_raw  \\\n",
       "0  5969222  \\n\\n                    Corn inbred lines for ...   \n",
       "1  6114609  \\n\\n                    Corn inbred lines for ...   \n",
       "2  5859353  \\n\\n                    Corn Inbred lines for ...   \n",
       "3  5714670  \\n\\n                    Soybeans having low li...   \n",
       "4  5763745  \\n\\n                    Soybeans having low li...   \n",
       "\n",
       "                                            text_raw  \\\n",
       "0  \\n            An inbred corn line designated A...   \n",
       "1  \\n            An inbred corn line designated A...   \n",
       "2  \\n            An inbred corn line designated A...   \n",
       "3  \\n            A novel soybean seed and plant d...   \n",
       "4  \\n            Methods are described for the pr...   \n",
       "\n",
       "                                               title  \\\n",
       "0            corn inbred lines for dairy cattle feed   \n",
       "1            corn inbred lines for dairy cattle feed   \n",
       "2            corn inbred lines for dairy cattle feed   \n",
       "3  soybeans having low linolenic acid and low pal...   \n",
       "4  soybeans having low linolenic acid content and...   \n",
       "\n",
       "                                                text  \\\n",
       "0  an inbred corn line designated ar5153bm3 is di...   \n",
       "1  an inbred corn line designated ar5253bm3 is di...   \n",
       "2  an inbred corn line designated ar5252bm3 is di...   \n",
       "3  a novel soybean seed and plant designated ax77...   \n",
       "4  methods are described for the production of so...   \n",
       "\n",
       "                                             content  \\\n",
       "0  corn inbred lines for dairy cattle feed an inb...   \n",
       "1  corn inbred lines for dairy cattle feed an inb...   \n",
       "2  corn inbred lines for dairy cattle feed an inb...   \n",
       "3  soybeans having low linolenic acid and low pal...   \n",
       "4  soybeans having low linolenic acid content and...   \n",
       "\n",
       "                     _topic_  \n",
       "0  composition_cyanamide_use  \n",
       "1  composition_cyanamide_use  \n",
       "2  composition_cyanamide_use  \n",
       "3  composition_cyanamide_use  \n",
       "4  composition_cyanamide_use  "
      ]
     },
     "execution_count": 40,
     "metadata": {},
     "output_type": "execute_result"
    }
   ],
   "source": [
    "patents['_topic_'] = _category_\n",
    "patents.head()"
   ]
  },
  {
   "cell_type": "code",
   "execution_count": 41,
   "metadata": {},
   "outputs": [],
   "source": [
    "patents.to_csv('database.csv')"
   ]
  },
  {
   "cell_type": "code",
   "execution_count": null,
   "metadata": {},
   "outputs": [],
   "source": []
  }
 ],
 "metadata": {
  "kernelspec": {
   "display_name": "Python 3",
   "language": "python",
   "name": "python3"
  },
  "language_info": {
   "codemirror_mode": {
    "name": "ipython",
    "version": 3
   },
   "file_extension": ".py",
   "mimetype": "text/x-python",
   "name": "python",
   "nbconvert_exporter": "python",
   "pygments_lexer": "ipython3",
   "version": "3.7.9"
  }
 },
 "nbformat": 4,
 "nbformat_minor": 4
}
