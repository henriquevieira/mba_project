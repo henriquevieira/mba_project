{
 "cells": [
  {
   "cell_type": "code",
   "execution_count": 1,
   "metadata": {},
   "outputs": [],
   "source": [
    "import re\n",
    "import numpy as np\n",
    "import pandas as pd\n",
    "\n",
    "from nltk import tokenize\n",
    "from nltk.corpus import stopwords\n",
    "from nltk.stem import PorterStemmer"
   ]
  },
  {
   "cell_type": "markdown",
   "metadata": {},
   "source": [
    "#### Loading content"
   ]
  },
  {
   "cell_type": "code",
   "execution_count": 2,
   "metadata": {},
   "outputs": [
    {
     "data": {
      "text/plain": [
       "(50, 6)"
      ]
     },
     "execution_count": 2,
     "metadata": {},
     "output_type": "execute_result"
    }
   ],
   "source": [
    "patents = pd.read_csv('patents_data.csv')\n",
    "patents.shape"
   ]
  },
  {
   "cell_type": "code",
   "execution_count": 3,
   "metadata": {},
   "outputs": [
    {
     "data": {
      "text/html": [
       "<div>\n",
       "<style scoped>\n",
       "    .dataframe tbody tr th:only-of-type {\n",
       "        vertical-align: middle;\n",
       "    }\n",
       "\n",
       "    .dataframe tbody tr th {\n",
       "        vertical-align: top;\n",
       "    }\n",
       "\n",
       "    .dataframe thead th {\n",
       "        text-align: right;\n",
       "    }\n",
       "</style>\n",
       "<table border=\"1\" class=\"dataframe\">\n",
       "  <thead>\n",
       "    <tr style=\"text-align: right;\">\n",
       "      <th></th>\n",
       "      <th>idx</th>\n",
       "      <th>title_raw</th>\n",
       "      <th>text_raw</th>\n",
       "      <th>title</th>\n",
       "      <th>text</th>\n",
       "      <th>content</th>\n",
       "    </tr>\n",
       "  </thead>\n",
       "  <tbody>\n",
       "    <tr>\n",
       "      <th>0</th>\n",
       "      <td>5969222</td>\n",
       "      <td>\\n\\n                    Corn inbred lines for ...</td>\n",
       "      <td>\\n            An inbred corn line designated A...</td>\n",
       "      <td>corn inbred lines for dairy cattle feed</td>\n",
       "      <td>an inbred corn line designated ar5153bm3 is di...</td>\n",
       "      <td>corn inbred lines for dairy cattle feed an inb...</td>\n",
       "    </tr>\n",
       "    <tr>\n",
       "      <th>1</th>\n",
       "      <td>6114609</td>\n",
       "      <td>\\n\\n                    Corn inbred lines for ...</td>\n",
       "      <td>\\n            An inbred corn line designated A...</td>\n",
       "      <td>corn inbred lines for dairy cattle feed</td>\n",
       "      <td>an inbred corn line designated ar5253bm3 is di...</td>\n",
       "      <td>corn inbred lines for dairy cattle feed an inb...</td>\n",
       "    </tr>\n",
       "    <tr>\n",
       "      <th>2</th>\n",
       "      <td>5859353</td>\n",
       "      <td>\\n\\n                    Corn Inbred lines for ...</td>\n",
       "      <td>\\n            An inbred corn line designated A...</td>\n",
       "      <td>corn inbred lines for dairy cattle feed</td>\n",
       "      <td>an inbred corn line designated ar5252bm3 is di...</td>\n",
       "      <td>corn inbred lines for dairy cattle feed an inb...</td>\n",
       "    </tr>\n",
       "    <tr>\n",
       "      <th>3</th>\n",
       "      <td>5714670</td>\n",
       "      <td>\\n\\n                    Soybeans having low li...</td>\n",
       "      <td>\\n            A novel soybean seed and plant d...</td>\n",
       "      <td>soybeans having low linolenic acid and low pal...</td>\n",
       "      <td>a novel soybean seed and plant designated ax77...</td>\n",
       "      <td>soybeans having low linolenic acid and low pal...</td>\n",
       "    </tr>\n",
       "    <tr>\n",
       "      <th>4</th>\n",
       "      <td>5763745</td>\n",
       "      <td>\\n\\n                    Soybeans having low li...</td>\n",
       "      <td>\\n            Methods are described for the pr...</td>\n",
       "      <td>soybeans having low linolenic acid content and...</td>\n",
       "      <td>methods are described for the production of so...</td>\n",
       "      <td>soybeans having low linolenic acid content and...</td>\n",
       "    </tr>\n",
       "  </tbody>\n",
       "</table>\n",
       "</div>"
      ],
      "text/plain": [
       "       idx                                          title_raw  \\\n",
       "0  5969222  \\n\\n                    Corn inbred lines for ...   \n",
       "1  6114609  \\n\\n                    Corn inbred lines for ...   \n",
       "2  5859353  \\n\\n                    Corn Inbred lines for ...   \n",
       "3  5714670  \\n\\n                    Soybeans having low li...   \n",
       "4  5763745  \\n\\n                    Soybeans having low li...   \n",
       "\n",
       "                                            text_raw  \\\n",
       "0  \\n            An inbred corn line designated A...   \n",
       "1  \\n            An inbred corn line designated A...   \n",
       "2  \\n            An inbred corn line designated A...   \n",
       "3  \\n            A novel soybean seed and plant d...   \n",
       "4  \\n            Methods are described for the pr...   \n",
       "\n",
       "                                               title  \\\n",
       "0            corn inbred lines for dairy cattle feed   \n",
       "1            corn inbred lines for dairy cattle feed   \n",
       "2            corn inbred lines for dairy cattle feed   \n",
       "3  soybeans having low linolenic acid and low pal...   \n",
       "4  soybeans having low linolenic acid content and...   \n",
       "\n",
       "                                                text  \\\n",
       "0  an inbred corn line designated ar5153bm3 is di...   \n",
       "1  an inbred corn line designated ar5253bm3 is di...   \n",
       "2  an inbred corn line designated ar5252bm3 is di...   \n",
       "3  a novel soybean seed and plant designated ax77...   \n",
       "4  methods are described for the production of so...   \n",
       "\n",
       "                                             content  \n",
       "0  corn inbred lines for dairy cattle feed an inb...  \n",
       "1  corn inbred lines for dairy cattle feed an inb...  \n",
       "2  corn inbred lines for dairy cattle feed an inb...  \n",
       "3  soybeans having low linolenic acid and low pal...  \n",
       "4  soybeans having low linolenic acid content and...  "
      ]
     },
     "execution_count": 3,
     "metadata": {},
     "output_type": "execute_result"
    }
   ],
   "source": [
    "patents.head()"
   ]
  },
  {
   "cell_type": "code",
   "execution_count": 4,
   "metadata": {},
   "outputs": [
    {
     "data": {
      "text/plain": [
       "'corn inbred lines for dairy cattle feed an inbred corn line designated ar5153bm3 is disclosed. ar5153bm3 is useful for producing f1 hybrid corn seed and plants therefrom. such corn plants exhibit the brown midrib phenotype and yield a silage that, when fed to dairy cattle, increases milk production.'"
      ]
     },
     "execution_count": 4,
     "metadata": {},
     "output_type": "execute_result"
    }
   ],
   "source": [
    "patents['content'].tolist()[0]"
   ]
  },
  {
   "cell_type": "markdown",
   "metadata": {},
   "source": [
    "#### Loading dictionary"
   ]
  },
  {
   "cell_type": "code",
   "execution_count": 5,
   "metadata": {},
   "outputs": [
    {
     "data": {
      "text/plain": [
       "(954, 3)"
      ]
     },
     "execution_count": 5,
     "metadata": {},
     "output_type": "execute_result"
    }
   ],
   "source": [
    "# todo remover a primeira coluna ao criar o dicionario na geracao de dicionario\n",
    "\n",
    "dictionary = pd.read_csv('dictionary.csv')\n",
    "dictionary = dictionary[dictionary.columns.tolist()[1:]]\n",
    "dictionary.shape"
   ]
  },
  {
   "cell_type": "code",
   "execution_count": 6,
   "metadata": {},
   "outputs": [
    {
     "data": {
      "text/html": [
       "<div>\n",
       "<style scoped>\n",
       "    .dataframe tbody tr th:only-of-type {\n",
       "        vertical-align: middle;\n",
       "    }\n",
       "\n",
       "    .dataframe tbody tr th {\n",
       "        vertical-align: top;\n",
       "    }\n",
       "\n",
       "    .dataframe thead th {\n",
       "        text-align: right;\n",
       "    }\n",
       "</style>\n",
       "<table border=\"1\" class=\"dataframe\">\n",
       "  <thead>\n",
       "    <tr style=\"text-align: right;\">\n",
       "      <th></th>\n",
       "      <th>topic</th>\n",
       "      <th>term</th>\n",
       "      <th>feature</th>\n",
       "    </tr>\n",
       "  </thead>\n",
       "  <tbody>\n",
       "    <tr>\n",
       "      <th>0</th>\n",
       "      <td>composition_cyanamide_use</td>\n",
       "      <td>composition</td>\n",
       "      <td>composition</td>\n",
       "    </tr>\n",
       "    <tr>\n",
       "      <th>1</th>\n",
       "      <td>composition_cyanamide_use</td>\n",
       "      <td>composition</td>\n",
       "      <td>composing</td>\n",
       "    </tr>\n",
       "    <tr>\n",
       "      <th>2</th>\n",
       "      <td>composition_cyanamide_use</td>\n",
       "      <td>composition</td>\n",
       "      <td>constitution</td>\n",
       "    </tr>\n",
       "    <tr>\n",
       "      <th>3</th>\n",
       "      <td>composition_cyanamide_use</td>\n",
       "      <td>composition</td>\n",
       "      <td>physical_composition</td>\n",
       "    </tr>\n",
       "    <tr>\n",
       "      <th>4</th>\n",
       "      <td>composition_cyanamide_use</td>\n",
       "      <td>composition</td>\n",
       "      <td>makeup</td>\n",
       "    </tr>\n",
       "  </tbody>\n",
       "</table>\n",
       "</div>"
      ],
      "text/plain": [
       "                       topic         term               feature\n",
       "0  composition_cyanamide_use  composition           composition\n",
       "1  composition_cyanamide_use  composition             composing\n",
       "2  composition_cyanamide_use  composition          constitution\n",
       "3  composition_cyanamide_use  composition  physical_composition\n",
       "4  composition_cyanamide_use  composition                makeup"
      ]
     },
     "execution_count": 6,
     "metadata": {},
     "output_type": "execute_result"
    }
   ],
   "source": [
    "dictionary.head()"
   ]
  },
  {
   "cell_type": "code",
   "execution_count": 7,
   "metadata": {},
   "outputs": [
    {
     "data": {
      "text/html": [
       "<div>\n",
       "<style scoped>\n",
       "    .dataframe tbody tr th:only-of-type {\n",
       "        vertical-align: middle;\n",
       "    }\n",
       "\n",
       "    .dataframe tbody tr th {\n",
       "        vertical-align: top;\n",
       "    }\n",
       "\n",
       "    .dataframe thead th {\n",
       "        text-align: right;\n",
       "    }\n",
       "</style>\n",
       "<table border=\"1\" class=\"dataframe\">\n",
       "  <thead>\n",
       "    <tr style=\"text-align: right;\">\n",
       "      <th></th>\n",
       "      <th>topic</th>\n",
       "      <th>term</th>\n",
       "      <th>feature</th>\n",
       "      <th>feature_stem</th>\n",
       "    </tr>\n",
       "  </thead>\n",
       "  <tbody>\n",
       "    <tr>\n",
       "      <th>0</th>\n",
       "      <td>composition_cyanamide_use</td>\n",
       "      <td>composition</td>\n",
       "      <td>composition</td>\n",
       "      <td>composit</td>\n",
       "    </tr>\n",
       "    <tr>\n",
       "      <th>1</th>\n",
       "      <td>composition_cyanamide_use</td>\n",
       "      <td>composition</td>\n",
       "      <td>composing</td>\n",
       "      <td>compos</td>\n",
       "    </tr>\n",
       "    <tr>\n",
       "      <th>2</th>\n",
       "      <td>composition_cyanamide_use</td>\n",
       "      <td>composition</td>\n",
       "      <td>constitution</td>\n",
       "      <td>constitut</td>\n",
       "    </tr>\n",
       "    <tr>\n",
       "      <th>3</th>\n",
       "      <td>composition_cyanamide_use</td>\n",
       "      <td>composition</td>\n",
       "      <td>physical_composition</td>\n",
       "      <td>physical_composit</td>\n",
       "    </tr>\n",
       "    <tr>\n",
       "      <th>4</th>\n",
       "      <td>composition_cyanamide_use</td>\n",
       "      <td>composition</td>\n",
       "      <td>makeup</td>\n",
       "      <td>makeup</td>\n",
       "    </tr>\n",
       "  </tbody>\n",
       "</table>\n",
       "</div>"
      ],
      "text/plain": [
       "                       topic         term               feature  \\\n",
       "0  composition_cyanamide_use  composition           composition   \n",
       "1  composition_cyanamide_use  composition             composing   \n",
       "2  composition_cyanamide_use  composition          constitution   \n",
       "3  composition_cyanamide_use  composition  physical_composition   \n",
       "4  composition_cyanamide_use  composition                makeup   \n",
       "\n",
       "        feature_stem  \n",
       "0           composit  \n",
       "1             compos  \n",
       "2          constitut  \n",
       "3  physical_composit  \n",
       "4             makeup  "
      ]
     },
     "execution_count": 7,
     "metadata": {},
     "output_type": "execute_result"
    }
   ],
   "source": [
    "# todo passar isso para a geracao de dicionario\n",
    "\n",
    "porter = PorterStemmer()\n",
    "dictionary['feature_stem'] = dictionary['feature'].apply(lambda x : porter.stem(x))\n",
    "dictionary.head()"
   ]
  },
  {
   "cell_type": "code",
   "execution_count": 8,
   "metadata": {},
   "outputs": [],
   "source": [
    "def preprocess_text(word_list):\n",
    "    \n",
    "    out_list = []\n",
    "    for word in word_list:\n",
    "        if word.isalpha() and word not in stopwords.words('english'):\n",
    "            \n",
    "            out_list.append(porter.stem(word))\n",
    "    \n",
    "    return out_list"
   ]
  },
  {
   "cell_type": "code",
   "execution_count": 9,
   "metadata": {},
   "outputs": [],
   "source": [
    "idx_    = []\n",
    "tokens_ = []\n",
    "idx_content = zip(patents['idx'].tolist(), patents['content'].tolist())\n",
    "for idx, content in idx_content:\n",
    "    doc_tokens = tokenize.word_tokenize(content)\n",
    "    doc_tokens = preprocess_text(doc_tokens)\n",
    "    idx_    = idx_ + ([idx] * len(doc_tokens))\n",
    "    tokens_ = tokens_ + doc_tokens\n",
    "\n",
    "df_idx_tokens = pd.DataFrame(zip(idx_, tokens_), columns = ['idx', 'token'])\n",
    "df_idx_tokens = df_idx_tokens.drop_duplicates()"
   ]
  },
  {
   "cell_type": "code",
   "execution_count": 17,
   "metadata": {},
   "outputs": [
    {
     "data": {
      "text/plain": [
       "(2118, 3)"
      ]
     },
     "execution_count": 17,
     "metadata": {},
     "output_type": "execute_result"
    }
   ],
   "source": [
    "df_tokens_dictionary = pd.merge(df_idx_tokens, dictionary, \n",
    "                                how = 'inner', \n",
    "                                left_on = 'token', \n",
    "                                right_on= 'feature_stem')\n",
    "df_tokens_dictionary = df_tokens_dictionary.drop_duplicates()\n",
    "df_tokens_dictionary = df_tokens_dictionary.drop(['term', 'feature', 'feature_stem'], axis = 1)\n",
    "df_tokens_dictionary.shape"
   ]
  },
  {
   "cell_type": "code",
   "execution_count": 18,
   "metadata": {},
   "outputs": [
    {
     "data": {
      "text/html": [
       "<div>\n",
       "<style scoped>\n",
       "    .dataframe tbody tr th:only-of-type {\n",
       "        vertical-align: middle;\n",
       "    }\n",
       "\n",
       "    .dataframe tbody tr th {\n",
       "        vertical-align: top;\n",
       "    }\n",
       "\n",
       "    .dataframe thead th {\n",
       "        text-align: right;\n",
       "    }\n",
       "</style>\n",
       "<table border=\"1\" class=\"dataframe\">\n",
       "  <thead>\n",
       "    <tr style=\"text-align: right;\">\n",
       "      <th></th>\n",
       "      <th>idx</th>\n",
       "      <th>token</th>\n",
       "      <th>topic</th>\n",
       "    </tr>\n",
       "  </thead>\n",
       "  <tbody>\n",
       "    <tr>\n",
       "      <th>0</th>\n",
       "      <td>5969222</td>\n",
       "      <td>corn</td>\n",
       "      <td>plant_inbreed_corn</td>\n",
       "    </tr>\n",
       "    <tr>\n",
       "      <th>1</th>\n",
       "      <td>5969222</td>\n",
       "      <td>corn</td>\n",
       "      <td>corn_plant_seed</td>\n",
       "    </tr>\n",
       "    <tr>\n",
       "      <th>2</th>\n",
       "      <td>5969222</td>\n",
       "      <td>corn</td>\n",
       "      <td>inbreed_plant_corn</td>\n",
       "    </tr>\n",
       "    <tr>\n",
       "      <th>3</th>\n",
       "      <td>5969222</td>\n",
       "      <td>corn</td>\n",
       "      <td>corn_plant_group</td>\n",
       "    </tr>\n",
       "    <tr>\n",
       "      <th>4</th>\n",
       "      <td>5969222</td>\n",
       "      <td>corn</td>\n",
       "      <td>plant_corn_inbreed</td>\n",
       "    </tr>\n",
       "  </tbody>\n",
       "</table>\n",
       "</div>"
      ],
      "text/plain": [
       "       idx token               topic\n",
       "0  5969222  corn  plant_inbreed_corn\n",
       "1  5969222  corn     corn_plant_seed\n",
       "2  5969222  corn  inbreed_plant_corn\n",
       "3  5969222  corn    corn_plant_group\n",
       "4  5969222  corn  plant_corn_inbreed"
      ]
     },
     "execution_count": 18,
     "metadata": {},
     "output_type": "execute_result"
    }
   ],
   "source": [
    "df_tokens_dictionary.head()"
   ]
  },
  {
   "cell_type": "code",
   "execution_count": 25,
   "metadata": {},
   "outputs": [],
   "source": [
    "idx_unique = df_tokens_dictionary['idx'].unique().tolist()"
   ]
  },
  {
   "cell_type": "code",
   "execution_count": 44,
   "metadata": {},
   "outputs": [
    {
     "data": {
      "text/plain": [
       "(50, 2)"
      ]
     },
     "execution_count": 44,
     "metadata": {},
     "output_type": "execute_result"
    }
   ],
   "source": [
    "idx_topic = []\n",
    "for idx in idx_unique:\n",
    "    df_tmp = df_tokens_dictionary[df_tokens_dictionary['idx'] == idx]\n",
    "    topic_unique = df_tmp['topic'].unique().tolist()\n",
    "    idx_topic.append([idx, '; '.join(topic_unique)])\n",
    "df_idx_topic = pd.DataFrame(idx_topic, columns=['idx', 'topic'])\n",
    "df_idx_topic.shape"
   ]
  },
  {
   "cell_type": "code",
   "execution_count": 45,
   "metadata": {},
   "outputs": [
    {
     "data": {
      "text/html": [
       "<div>\n",
       "<style scoped>\n",
       "    .dataframe tbody tr th:only-of-type {\n",
       "        vertical-align: middle;\n",
       "    }\n",
       "\n",
       "    .dataframe tbody tr th {\n",
       "        vertical-align: top;\n",
       "    }\n",
       "\n",
       "    .dataframe thead th {\n",
       "        text-align: right;\n",
       "    }\n",
       "</style>\n",
       "<table border=\"1\" class=\"dataframe\">\n",
       "  <thead>\n",
       "    <tr style=\"text-align: right;\">\n",
       "      <th></th>\n",
       "      <th>idx</th>\n",
       "      <th>topic</th>\n",
       "    </tr>\n",
       "  </thead>\n",
       "  <tbody>\n",
       "    <tr>\n",
       "      <th>0</th>\n",
       "      <td>5969222</td>\n",
       "      <td>plant_inbreed_corn; corn_plant_seed; inbreed_p...</td>\n",
       "    </tr>\n",
       "    <tr>\n",
       "      <th>1</th>\n",
       "      <td>6114609</td>\n",
       "      <td>plant_inbreed_corn; corn_plant_seed; inbreed_p...</td>\n",
       "    </tr>\n",
       "    <tr>\n",
       "      <th>2</th>\n",
       "      <td>5859353</td>\n",
       "      <td>plant_inbreed_corn; corn_plant_seed; inbreed_p...</td>\n",
       "    </tr>\n",
       "    <tr>\n",
       "      <th>3</th>\n",
       "      <td>4069614</td>\n",
       "      <td>plant_inbreed_corn; corn_plant_seed; inbreed_p...</td>\n",
       "    </tr>\n",
       "    <tr>\n",
       "      <th>4</th>\n",
       "      <td>5706603</td>\n",
       "      <td>plant_inbreed_corn; corn_plant_seed; inbreed_p...</td>\n",
       "    </tr>\n",
       "  </tbody>\n",
       "</table>\n",
       "</div>"
      ],
      "text/plain": [
       "       idx                                              topic\n",
       "0  5969222  plant_inbreed_corn; corn_plant_seed; inbreed_p...\n",
       "1  6114609  plant_inbreed_corn; corn_plant_seed; inbreed_p...\n",
       "2  5859353  plant_inbreed_corn; corn_plant_seed; inbreed_p...\n",
       "3  4069614  plant_inbreed_corn; corn_plant_seed; inbreed_p...\n",
       "4  5706603  plant_inbreed_corn; corn_plant_seed; inbreed_p..."
      ]
     },
     "execution_count": 45,
     "metadata": {},
     "output_type": "execute_result"
    }
   ],
   "source": [
    "df_idx_topic.head()"
   ]
  },
  {
   "cell_type": "code",
   "execution_count": 47,
   "metadata": {},
   "outputs": [
    {
     "data": {
      "text/plain": [
       "(50, 7)"
      ]
     },
     "execution_count": 47,
     "metadata": {},
     "output_type": "execute_result"
    }
   ],
   "source": [
    "# Juntando os topicos as patentes\n",
    "df_patents = pd.merge(patents, df_idx_topic, how = 'inner', on = 'idx')\n",
    "df_patents = df_patents.drop_duplicates()\n",
    "df_patents.shape"
   ]
  },
  {
   "cell_type": "code",
   "execution_count": 48,
   "metadata": {},
   "outputs": [
    {
     "data": {
      "text/html": [
       "<div>\n",
       "<style scoped>\n",
       "    .dataframe tbody tr th:only-of-type {\n",
       "        vertical-align: middle;\n",
       "    }\n",
       "\n",
       "    .dataframe tbody tr th {\n",
       "        vertical-align: top;\n",
       "    }\n",
       "\n",
       "    .dataframe thead th {\n",
       "        text-align: right;\n",
       "    }\n",
       "</style>\n",
       "<table border=\"1\" class=\"dataframe\">\n",
       "  <thead>\n",
       "    <tr style=\"text-align: right;\">\n",
       "      <th></th>\n",
       "      <th>idx</th>\n",
       "      <th>title_raw</th>\n",
       "      <th>text_raw</th>\n",
       "      <th>title</th>\n",
       "      <th>text</th>\n",
       "      <th>content</th>\n",
       "      <th>topic</th>\n",
       "    </tr>\n",
       "  </thead>\n",
       "  <tbody>\n",
       "    <tr>\n",
       "      <th>0</th>\n",
       "      <td>5969222</td>\n",
       "      <td>\\n\\n                    Corn inbred lines for ...</td>\n",
       "      <td>\\n            An inbred corn line designated A...</td>\n",
       "      <td>corn inbred lines for dairy cattle feed</td>\n",
       "      <td>an inbred corn line designated ar5153bm3 is di...</td>\n",
       "      <td>corn inbred lines for dairy cattle feed an inb...</td>\n",
       "      <td>plant_inbreed_corn; corn_plant_seed; inbreed_p...</td>\n",
       "    </tr>\n",
       "    <tr>\n",
       "      <th>1</th>\n",
       "      <td>6114609</td>\n",
       "      <td>\\n\\n                    Corn inbred lines for ...</td>\n",
       "      <td>\\n            An inbred corn line designated A...</td>\n",
       "      <td>corn inbred lines for dairy cattle feed</td>\n",
       "      <td>an inbred corn line designated ar5253bm3 is di...</td>\n",
       "      <td>corn inbred lines for dairy cattle feed an inb...</td>\n",
       "      <td>plant_inbreed_corn; corn_plant_seed; inbreed_p...</td>\n",
       "    </tr>\n",
       "    <tr>\n",
       "      <th>2</th>\n",
       "      <td>5859353</td>\n",
       "      <td>\\n\\n                    Corn Inbred lines for ...</td>\n",
       "      <td>\\n            An inbred corn line designated A...</td>\n",
       "      <td>corn inbred lines for dairy cattle feed</td>\n",
       "      <td>an inbred corn line designated ar5252bm3 is di...</td>\n",
       "      <td>corn inbred lines for dairy cattle feed an inb...</td>\n",
       "      <td>plant_inbreed_corn; corn_plant_seed; inbreed_p...</td>\n",
       "    </tr>\n",
       "    <tr>\n",
       "      <th>3</th>\n",
       "      <td>5714670</td>\n",
       "      <td>\\n\\n                    Soybeans having low li...</td>\n",
       "      <td>\\n            A novel soybean seed and plant d...</td>\n",
       "      <td>soybeans having low linolenic acid and low pal...</td>\n",
       "      <td>a novel soybean seed and plant designated ax77...</td>\n",
       "      <td>soybeans having low linolenic acid and low pal...</td>\n",
       "      <td>composition_cyanamide_use; plant_invention_pot...</td>\n",
       "    </tr>\n",
       "    <tr>\n",
       "      <th>4</th>\n",
       "      <td>5763745</td>\n",
       "      <td>\\n\\n                    Soybeans having low li...</td>\n",
       "      <td>\\n            Methods are described for the pr...</td>\n",
       "      <td>soybeans having low linolenic acid content and...</td>\n",
       "      <td>methods are described for the production of so...</td>\n",
       "      <td>soybeans having low linolenic acid content and...</td>\n",
       "      <td>acid_rice_content; soybean_content_acid; acid_...</td>\n",
       "    </tr>\n",
       "  </tbody>\n",
       "</table>\n",
       "</div>"
      ],
      "text/plain": [
       "       idx                                          title_raw  \\\n",
       "0  5969222  \\n\\n                    Corn inbred lines for ...   \n",
       "1  6114609  \\n\\n                    Corn inbred lines for ...   \n",
       "2  5859353  \\n\\n                    Corn Inbred lines for ...   \n",
       "3  5714670  \\n\\n                    Soybeans having low li...   \n",
       "4  5763745  \\n\\n                    Soybeans having low li...   \n",
       "\n",
       "                                            text_raw  \\\n",
       "0  \\n            An inbred corn line designated A...   \n",
       "1  \\n            An inbred corn line designated A...   \n",
       "2  \\n            An inbred corn line designated A...   \n",
       "3  \\n            A novel soybean seed and plant d...   \n",
       "4  \\n            Methods are described for the pr...   \n",
       "\n",
       "                                               title  \\\n",
       "0            corn inbred lines for dairy cattle feed   \n",
       "1            corn inbred lines for dairy cattle feed   \n",
       "2            corn inbred lines for dairy cattle feed   \n",
       "3  soybeans having low linolenic acid and low pal...   \n",
       "4  soybeans having low linolenic acid content and...   \n",
       "\n",
       "                                                text  \\\n",
       "0  an inbred corn line designated ar5153bm3 is di...   \n",
       "1  an inbred corn line designated ar5253bm3 is di...   \n",
       "2  an inbred corn line designated ar5252bm3 is di...   \n",
       "3  a novel soybean seed and plant designated ax77...   \n",
       "4  methods are described for the production of so...   \n",
       "\n",
       "                                             content  \\\n",
       "0  corn inbred lines for dairy cattle feed an inb...   \n",
       "1  corn inbred lines for dairy cattle feed an inb...   \n",
       "2  corn inbred lines for dairy cattle feed an inb...   \n",
       "3  soybeans having low linolenic acid and low pal...   \n",
       "4  soybeans having low linolenic acid content and...   \n",
       "\n",
       "                                               topic  \n",
       "0  plant_inbreed_corn; corn_plant_seed; inbreed_p...  \n",
       "1  plant_inbreed_corn; corn_plant_seed; inbreed_p...  \n",
       "2  plant_inbreed_corn; corn_plant_seed; inbreed_p...  \n",
       "3  composition_cyanamide_use; plant_invention_pot...  \n",
       "4  acid_rice_content; soybean_content_acid; acid_...  "
      ]
     },
     "execution_count": 48,
     "metadata": {},
     "output_type": "execute_result"
    }
   ],
   "source": [
    "df_patents.head()"
   ]
  },
  {
   "cell_type": "code",
   "execution_count": 49,
   "metadata": {},
   "outputs": [
    {
     "data": {
      "text/html": [
       "<div>\n",
       "<style scoped>\n",
       "    .dataframe tbody tr th:only-of-type {\n",
       "        vertical-align: middle;\n",
       "    }\n",
       "\n",
       "    .dataframe tbody tr th {\n",
       "        vertical-align: top;\n",
       "    }\n",
       "\n",
       "    .dataframe thead th {\n",
       "        text-align: right;\n",
       "    }\n",
       "</style>\n",
       "<table border=\"1\" class=\"dataframe\">\n",
       "  <thead>\n",
       "    <tr style=\"text-align: right;\">\n",
       "      <th></th>\n",
       "      <th>idx</th>\n",
       "      <th>title_raw</th>\n",
       "      <th>text_raw</th>\n",
       "      <th>title</th>\n",
       "      <th>text</th>\n",
       "      <th>content</th>\n",
       "      <th>_topic_</th>\n",
       "    </tr>\n",
       "  </thead>\n",
       "  <tbody>\n",
       "    <tr>\n",
       "      <th>0</th>\n",
       "      <td>5969222</td>\n",
       "      <td>\\n\\n                    Corn inbred lines for ...</td>\n",
       "      <td>\\n            An inbred corn line designated A...</td>\n",
       "      <td>corn inbred lines for dairy cattle feed</td>\n",
       "      <td>an inbred corn line designated ar5153bm3 is di...</td>\n",
       "      <td>corn inbred lines for dairy cattle feed an inb...</td>\n",
       "      <td>plant_inbreed_corn; corn_plant_seed; inbreed_p...</td>\n",
       "    </tr>\n",
       "    <tr>\n",
       "      <th>1</th>\n",
       "      <td>6114609</td>\n",
       "      <td>\\n\\n                    Corn inbred lines for ...</td>\n",
       "      <td>\\n            An inbred corn line designated A...</td>\n",
       "      <td>corn inbred lines for dairy cattle feed</td>\n",
       "      <td>an inbred corn line designated ar5253bm3 is di...</td>\n",
       "      <td>corn inbred lines for dairy cattle feed an inb...</td>\n",
       "      <td>plant_inbreed_corn; corn_plant_seed; inbreed_p...</td>\n",
       "    </tr>\n",
       "    <tr>\n",
       "      <th>2</th>\n",
       "      <td>5859353</td>\n",
       "      <td>\\n\\n                    Corn Inbred lines for ...</td>\n",
       "      <td>\\n            An inbred corn line designated A...</td>\n",
       "      <td>corn inbred lines for dairy cattle feed</td>\n",
       "      <td>an inbred corn line designated ar5252bm3 is di...</td>\n",
       "      <td>corn inbred lines for dairy cattle feed an inb...</td>\n",
       "      <td>plant_inbreed_corn; corn_plant_seed; inbreed_p...</td>\n",
       "    </tr>\n",
       "    <tr>\n",
       "      <th>3</th>\n",
       "      <td>5714670</td>\n",
       "      <td>\\n\\n                    Soybeans having low li...</td>\n",
       "      <td>\\n            A novel soybean seed and plant d...</td>\n",
       "      <td>soybeans having low linolenic acid and low pal...</td>\n",
       "      <td>a novel soybean seed and plant designated ax77...</td>\n",
       "      <td>soybeans having low linolenic acid and low pal...</td>\n",
       "      <td>composition_cyanamide_use; plant_invention_pot...</td>\n",
       "    </tr>\n",
       "    <tr>\n",
       "      <th>4</th>\n",
       "      <td>5763745</td>\n",
       "      <td>\\n\\n                    Soybeans having low li...</td>\n",
       "      <td>\\n            Methods are described for the pr...</td>\n",
       "      <td>soybeans having low linolenic acid content and...</td>\n",
       "      <td>methods are described for the production of so...</td>\n",
       "      <td>soybeans having low linolenic acid content and...</td>\n",
       "      <td>acid_rice_content; soybean_content_acid; acid_...</td>\n",
       "    </tr>\n",
       "  </tbody>\n",
       "</table>\n",
       "</div>"
      ],
      "text/plain": [
       "       idx                                          title_raw  \\\n",
       "0  5969222  \\n\\n                    Corn inbred lines for ...   \n",
       "1  6114609  \\n\\n                    Corn inbred lines for ...   \n",
       "2  5859353  \\n\\n                    Corn Inbred lines for ...   \n",
       "3  5714670  \\n\\n                    Soybeans having low li...   \n",
       "4  5763745  \\n\\n                    Soybeans having low li...   \n",
       "\n",
       "                                            text_raw  \\\n",
       "0  \\n            An inbred corn line designated A...   \n",
       "1  \\n            An inbred corn line designated A...   \n",
       "2  \\n            An inbred corn line designated A...   \n",
       "3  \\n            A novel soybean seed and plant d...   \n",
       "4  \\n            Methods are described for the pr...   \n",
       "\n",
       "                                               title  \\\n",
       "0            corn inbred lines for dairy cattle feed   \n",
       "1            corn inbred lines for dairy cattle feed   \n",
       "2            corn inbred lines for dairy cattle feed   \n",
       "3  soybeans having low linolenic acid and low pal...   \n",
       "4  soybeans having low linolenic acid content and...   \n",
       "\n",
       "                                                text  \\\n",
       "0  an inbred corn line designated ar5153bm3 is di...   \n",
       "1  an inbred corn line designated ar5253bm3 is di...   \n",
       "2  an inbred corn line designated ar5252bm3 is di...   \n",
       "3  a novel soybean seed and plant designated ax77...   \n",
       "4  methods are described for the production of so...   \n",
       "\n",
       "                                             content  \\\n",
       "0  corn inbred lines for dairy cattle feed an inb...   \n",
       "1  corn inbred lines for dairy cattle feed an inb...   \n",
       "2  corn inbred lines for dairy cattle feed an inb...   \n",
       "3  soybeans having low linolenic acid and low pal...   \n",
       "4  soybeans having low linolenic acid content and...   \n",
       "\n",
       "                                             _topic_  \n",
       "0  plant_inbreed_corn; corn_plant_seed; inbreed_p...  \n",
       "1  plant_inbreed_corn; corn_plant_seed; inbreed_p...  \n",
       "2  plant_inbreed_corn; corn_plant_seed; inbreed_p...  \n",
       "3  composition_cyanamide_use; plant_invention_pot...  \n",
       "4  acid_rice_content; soybean_content_acid; acid_...  "
      ]
     },
     "execution_count": 49,
     "metadata": {},
     "output_type": "execute_result"
    }
   ],
   "source": [
    "df_patents = df_patents.rename({'topic' : '_topic_'}, axis = 1)\n",
    "df_patents.head()"
   ]
  },
  {
   "cell_type": "code",
   "execution_count": 52,
   "metadata": {},
   "outputs": [],
   "source": [
    "df_patents.to_csv('database.csv', index = False)"
   ]
  },
  {
   "cell_type": "code",
   "execution_count": null,
   "metadata": {},
   "outputs": [],
   "source": []
  }
 ],
 "metadata": {
  "kernelspec": {
   "display_name": "Python 3",
   "language": "python",
   "name": "python3"
  },
  "language_info": {
   "codemirror_mode": {
    "name": "ipython",
    "version": 3
   },
   "file_extension": ".py",
   "mimetype": "text/x-python",
   "name": "python",
   "nbconvert_exporter": "python",
   "pygments_lexer": "ipython3",
   "version": "3.8.5"
  }
 },
 "nbformat": 4,
 "nbformat_minor": 4
}
