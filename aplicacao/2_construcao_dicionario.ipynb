{
 "cells": [
  {
   "cell_type": "code",
   "execution_count": 1,
   "metadata": {},
   "outputs": [],
   "source": [
    "# Henrique Cursino Vieira"
   ]
  },
  {
   "cell_type": "code",
   "execution_count": 2,
   "metadata": {},
   "outputs": [],
   "source": [
    "import re\n",
    "import glob\n",
    "import numpy as np\n",
    "import pandas as pd\n",
    "\n",
    "\n",
    "# Gensim\n",
    "import gensim\n",
    "import gensim.corpora as corpora\n",
    "from gensim.utils import simple_preprocess\n",
    "from gensim.models import CoherenceModel\n",
    "\n",
    "# spacy for lemmatization\n",
    "import spacy\n",
    "\n",
    "# NLTK Stop words\n",
    "from nltk.corpus import stopwords\n",
    "stop_words = stopwords.words('english')\n",
    "\n",
    "from nltk.corpus import wordnet\n",
    "\n",
    "# Plotting tools\n",
    "import pyLDAvis\n",
    "import pyLDAvis.gensim  # don't skip this\n",
    "\n",
    "import seaborn as sns\n",
    "import matplotlib.pyplot as plt\n",
    "%matplotlib inline"
   ]
  },
  {
   "cell_type": "code",
   "execution_count": 3,
   "metadata": {},
   "outputs": [
    {
     "name": "stderr",
     "output_type": "stream",
     "text": [
      "/home/henrique/anaconda3/lib/python3.8/site-packages/ipykernel/ipkernel.py:287: DeprecationWarning: `should_run_async` will not call `transform_cell` automatically in the future. Please pass the result to `transformed_cell` argument and any exception that happen during thetransform in `preprocessing_exc_tuple` in IPython 7.17 and above.\n",
      "  and should_run_async(code)\n",
      "[nltk_data] Downloading package stopwords to\n",
      "[nltk_data]     /home/henrique/nltk_data...\n",
      "[nltk_data]   Package stopwords is already up-to-date!\n"
     ]
    },
    {
     "data": {
      "text/plain": [
       "True"
      ]
     },
     "execution_count": 3,
     "metadata": {},
     "output_type": "execute_result"
    }
   ],
   "source": [
    "import nltk\n",
    "nltk.download('stopwords')"
   ]
  },
  {
   "cell_type": "code",
   "execution_count": 4,
   "metadata": {},
   "outputs": [
    {
     "name": "stderr",
     "output_type": "stream",
     "text": [
      "/home/henrique/anaconda3/lib/python3.8/site-packages/ipykernel/ipkernel.py:287: DeprecationWarning: `should_run_async` will not call `transform_cell` automatically in the future. Please pass the result to `transformed_cell` argument and any exception that happen during thetransform in `preprocessing_exc_tuple` in IPython 7.17 and above.\n",
      "  and should_run_async(code)\n"
     ]
    }
   ],
   "source": [
    "# TODO: Converter no script anterior para\n",
    "# gerar o corpora dos documentos de patente\n",
    "\n",
    "# NAO CARREGAR A PARTIR DE UMA PLANILHA"
   ]
  },
  {
   "cell_type": "code",
   "execution_count": 5,
   "metadata": {},
   "outputs": [
    {
     "name": "stderr",
     "output_type": "stream",
     "text": [
      "/home/henrique/anaconda3/lib/python3.8/site-packages/ipykernel/ipkernel.py:287: DeprecationWarning: `should_run_async` will not call `transform_cell` automatically in the future. Please pass the result to `transformed_cell` argument and any exception that happen during thetransform in `preprocessing_exc_tuple` in IPython 7.17 and above.\n",
      "  and should_run_async(code)\n"
     ]
    },
    {
     "data": {
      "text/html": [
       "<div>\n",
       "<style scoped>\n",
       "    .dataframe tbody tr th:only-of-type {\n",
       "        vertical-align: middle;\n",
       "    }\n",
       "\n",
       "    .dataframe tbody tr th {\n",
       "        vertical-align: top;\n",
       "    }\n",
       "\n",
       "    .dataframe thead th {\n",
       "        text-align: right;\n",
       "    }\n",
       "</style>\n",
       "<table border=\"1\" class=\"dataframe\">\n",
       "  <thead>\n",
       "    <tr style=\"text-align: right;\">\n",
       "      <th></th>\n",
       "      <th>idx</th>\n",
       "      <th>title_raw</th>\n",
       "      <th>text_raw</th>\n",
       "      <th>title</th>\n",
       "      <th>text</th>\n",
       "      <th>content</th>\n",
       "    </tr>\n",
       "  </thead>\n",
       "  <tbody>\n",
       "    <tr>\n",
       "      <th>0</th>\n",
       "      <td>0387659</td>\n",
       "      <td>\\n\\n                    SYSTEMS AND METHODS FO...</td>\n",
       "      <td>\\n            The present disclosure provides ...</td>\n",
       "      <td>systems and methods for adjusting the output o...</td>\n",
       "      <td>the present disclosure provides systems and me...</td>\n",
       "      <td>systems and methods for adjusting the output o...</td>\n",
       "    </tr>\n",
       "    <tr>\n",
       "      <th>1</th>\n",
       "      <td>10729058</td>\n",
       "      <td>\\n\\n                    Systems and methods fo...</td>\n",
       "      <td>\\n            The present disclosure provides ...</td>\n",
       "      <td>systems and methods for adjusting the output o...</td>\n",
       "      <td>the present disclosure provides systems and me...</td>\n",
       "      <td>systems and methods for adjusting the output o...</td>\n",
       "    </tr>\n",
       "    <tr>\n",
       "      <th>2</th>\n",
       "      <td>6745128</td>\n",
       "      <td>\\n\\n                    Methods and systems fo...</td>\n",
       "      <td>\\n            Methods and systems for characte...</td>\n",
       "      <td>methods and systems for managing farmland</td>\n",
       "      <td>methods and systems for characterizing and man...</td>\n",
       "      <td>methods and systems for managing farmland meth...</td>\n",
       "    </tr>\n",
       "    <tr>\n",
       "      <th>3</th>\n",
       "      <td>6549852</td>\n",
       "      <td>\\n\\n                    Methods and systems fo...</td>\n",
       "      <td>\\n            Methods and systems for characte...</td>\n",
       "      <td>methods and systems for managing farmland</td>\n",
       "      <td>methods and systems for characterizing and man...</td>\n",
       "      <td>methods and systems for managing farmland meth...</td>\n",
       "    </tr>\n",
       "    <tr>\n",
       "      <th>4</th>\n",
       "      <td>0018431</td>\n",
       "      <td>\\n\\n                    METHODS AND SYSTEMS FO...</td>\n",
       "      <td>\\n            Methods and systems for characte...</td>\n",
       "      <td>methods and systems for managing farmland</td>\n",
       "      <td>methods and systems for characterizing and man...</td>\n",
       "      <td>methods and systems for managing farmland meth...</td>\n",
       "    </tr>\n",
       "  </tbody>\n",
       "</table>\n",
       "</div>"
      ],
      "text/plain": [
       "        idx                                          title_raw  \\\n",
       "0   0387659  \\n\\n                    SYSTEMS AND METHODS FO...   \n",
       "1  10729058  \\n\\n                    Systems and methods fo...   \n",
       "2   6745128  \\n\\n                    Methods and systems fo...   \n",
       "3   6549852  \\n\\n                    Methods and systems fo...   \n",
       "4   0018431  \\n\\n                    METHODS AND SYSTEMS FO...   \n",
       "\n",
       "                                            text_raw  \\\n",
       "0  \\n            The present disclosure provides ...   \n",
       "1  \\n            The present disclosure provides ...   \n",
       "2  \\n            Methods and systems for characte...   \n",
       "3  \\n            Methods and systems for characte...   \n",
       "4  \\n            Methods and systems for characte...   \n",
       "\n",
       "                                               title  \\\n",
       "0  systems and methods for adjusting the output o...   \n",
       "1  systems and methods for adjusting the output o...   \n",
       "2          methods and systems for managing farmland   \n",
       "3          methods and systems for managing farmland   \n",
       "4          methods and systems for managing farmland   \n",
       "\n",
       "                                                text  \\\n",
       "0  the present disclosure provides systems and me...   \n",
       "1  the present disclosure provides systems and me...   \n",
       "2  methods and systems for characterizing and man...   \n",
       "3  methods and systems for characterizing and man...   \n",
       "4  methods and systems for characterizing and man...   \n",
       "\n",
       "                                             content  \n",
       "0  systems and methods for adjusting the output o...  \n",
       "1  systems and methods for adjusting the output o...  \n",
       "2  methods and systems for managing farmland meth...  \n",
       "3  methods and systems for managing farmland meth...  \n",
       "4  methods and systems for managing farmland meth...  "
      ]
     },
     "execution_count": 5,
     "metadata": {},
     "output_type": "execute_result"
    }
   ],
   "source": [
    "documents = pd.read_csv('patents_data.csv')\n",
    "documents.head()"
   ]
  },
  {
   "cell_type": "code",
   "execution_count": 6,
   "metadata": {},
   "outputs": [
    {
     "name": "stderr",
     "output_type": "stream",
     "text": [
      "/home/henrique/anaconda3/lib/python3.8/site-packages/ipykernel/ipkernel.py:287: DeprecationWarning: `should_run_async` will not call `transform_cell` automatically in the future. Please pass the result to `transformed_cell` argument and any exception that happen during thetransform in `preprocessing_exc_tuple` in IPython 7.17 and above.\n",
      "  and should_run_async(code)\n"
     ]
    },
    {
     "data": {
      "text/html": [
       "<div>\n",
       "<style scoped>\n",
       "    .dataframe tbody tr th:only-of-type {\n",
       "        vertical-align: middle;\n",
       "    }\n",
       "\n",
       "    .dataframe tbody tr th {\n",
       "        vertical-align: top;\n",
       "    }\n",
       "\n",
       "    .dataframe thead th {\n",
       "        text-align: right;\n",
       "    }\n",
       "</style>\n",
       "<table border=\"1\" class=\"dataframe\">\n",
       "  <thead>\n",
       "    <tr style=\"text-align: right;\">\n",
       "      <th></th>\n",
       "      <th>idx</th>\n",
       "      <th>content</th>\n",
       "    </tr>\n",
       "  </thead>\n",
       "  <tbody>\n",
       "    <tr>\n",
       "      <th>0</th>\n",
       "      <td>0387659</td>\n",
       "      <td>systems and methods for adjusting the output o...</td>\n",
       "    </tr>\n",
       "    <tr>\n",
       "      <th>1</th>\n",
       "      <td>10729058</td>\n",
       "      <td>systems and methods for adjusting the output o...</td>\n",
       "    </tr>\n",
       "    <tr>\n",
       "      <th>2</th>\n",
       "      <td>6745128</td>\n",
       "      <td>methods and systems for managing farmland meth...</td>\n",
       "    </tr>\n",
       "    <tr>\n",
       "      <th>3</th>\n",
       "      <td>6549852</td>\n",
       "      <td>methods and systems for managing farmland meth...</td>\n",
       "    </tr>\n",
       "    <tr>\n",
       "      <th>4</th>\n",
       "      <td>0018431</td>\n",
       "      <td>methods and systems for managing farmland meth...</td>\n",
       "    </tr>\n",
       "  </tbody>\n",
       "</table>\n",
       "</div>"
      ],
      "text/plain": [
       "        idx                                            content\n",
       "0   0387659  systems and methods for adjusting the output o...\n",
       "1  10729058  systems and methods for adjusting the output o...\n",
       "2   6745128  methods and systems for managing farmland meth...\n",
       "3   6549852  methods and systems for managing farmland meth...\n",
       "4   0018431  methods and systems for managing farmland meth..."
      ]
     },
     "execution_count": 6,
     "metadata": {},
     "output_type": "execute_result"
    }
   ],
   "source": [
    "# TODO: provavelemente remover isso\n",
    "documents = documents[['idx', 'content']]\n",
    "documents.head()"
   ]
  },
  {
   "cell_type": "code",
   "execution_count": 7,
   "metadata": {},
   "outputs": [
    {
     "name": "stderr",
     "output_type": "stream",
     "text": [
      "/home/henrique/anaconda3/lib/python3.8/site-packages/ipykernel/ipkernel.py:287: DeprecationWarning: `should_run_async` will not call `transform_cell` automatically in the future. Please pass the result to `transformed_cell` argument and any exception that happen during thetransform in `preprocessing_exc_tuple` in IPython 7.17 and above.\n",
      "  and should_run_async(code)\n"
     ]
    }
   ],
   "source": [
    "# Gerando os tokens"
   ]
  },
  {
   "cell_type": "code",
   "execution_count": 8,
   "metadata": {},
   "outputs": [
    {
     "name": "stderr",
     "output_type": "stream",
     "text": [
      "/home/henrique/anaconda3/lib/python3.8/site-packages/ipykernel/ipkernel.py:287: DeprecationWarning: `should_run_async` will not call `transform_cell` automatically in the future. Please pass the result to `transformed_cell` argument and any exception that happen during thetransform in `preprocessing_exc_tuple` in IPython 7.17 and above.\n",
      "  and should_run_async(code)\n"
     ]
    }
   ],
   "source": [
    "def sent_to_words(document_content):\n",
    "    for content in document_content:\n",
    "        yield(gensim.utils.simple_preprocess(str(content), \n",
    "                                             deacc=True))"
   ]
  },
  {
   "cell_type": "code",
   "execution_count": 9,
   "metadata": {},
   "outputs": [
    {
     "name": "stderr",
     "output_type": "stream",
     "text": [
      "/home/henrique/anaconda3/lib/python3.8/site-packages/ipykernel/ipkernel.py:287: DeprecationWarning: `should_run_async` will not call `transform_cell` automatically in the future. Please pass the result to `transformed_cell` argument and any exception that happen during thetransform in `preprocessing_exc_tuple` in IPython 7.17 and above.\n",
      "  and should_run_async(code)\n"
     ]
    }
   ],
   "source": [
    "data_words = list(sent_to_words(documents['content']))"
   ]
  },
  {
   "cell_type": "code",
   "execution_count": 10,
   "metadata": {},
   "outputs": [
    {
     "name": "stderr",
     "output_type": "stream",
     "text": [
      "/home/henrique/anaconda3/lib/python3.8/site-packages/ipykernel/ipkernel.py:287: DeprecationWarning: `should_run_async` will not call `transform_cell` automatically in the future. Please pass the result to `transformed_cell` argument and any exception that happen during thetransform in `preprocessing_exc_tuple` in IPython 7.17 and above.\n",
      "  and should_run_async(code)\n"
     ]
    }
   ],
   "source": [
    "# Criando os modelos de bigram e trigam"
   ]
  },
  {
   "cell_type": "code",
   "execution_count": 11,
   "metadata": {},
   "outputs": [
    {
     "name": "stderr",
     "output_type": "stream",
     "text": [
      "/home/henrique/anaconda3/lib/python3.8/site-packages/ipykernel/ipkernel.py:287: DeprecationWarning: `should_run_async` will not call `transform_cell` automatically in the future. Please pass the result to `transformed_cell` argument and any exception that happen during thetransform in `preprocessing_exc_tuple` in IPython 7.17 and above.\n",
      "  and should_run_async(code)\n"
     ]
    }
   ],
   "source": [
    "bigram = gensim.models.Phrases(data_words, min_count=5, threshold=100)\n",
    "trigram = gensim.models.Phrases(bigram[data_words], threshold=100)"
   ]
  },
  {
   "cell_type": "code",
   "execution_count": 12,
   "metadata": {},
   "outputs": [
    {
     "name": "stderr",
     "output_type": "stream",
     "text": [
      "/home/henrique/anaconda3/lib/python3.8/site-packages/ipykernel/ipkernel.py:287: DeprecationWarning: `should_run_async` will not call `transform_cell` automatically in the future. Please pass the result to `transformed_cell` argument and any exception that happen during thetransform in `preprocessing_exc_tuple` in IPython 7.17 and above.\n",
      "  and should_run_async(code)\n"
     ]
    }
   ],
   "source": [
    "bigram_mod = gensim.models.phrases.Phraser(bigram)\n",
    "trigram_mod = gensim.models.phrases.Phraser(trigram)"
   ]
  },
  {
   "cell_type": "code",
   "execution_count": 13,
   "metadata": {},
   "outputs": [
    {
     "name": "stdout",
     "output_type": "stream",
     "text": [
      "['systems', 'and', 'methods', 'for', 'adjusting', 'the', 'output', 'of', 'field', 'measurement', 'system', 'to', 'conform', 'to', 'agronomy', 'measurements', 'the', 'present', 'disclosure', 'provides', 'systems', 'and', 'methods', 'for', 'adjusting', 'the', 'output', 'of', 'field', 'measurement', 'system', 'to', 'conform', 'to', 'agronomy', 'measurements', 'in', 'particular', 'the', 'present', 'subject', 'matter', 'is', 'directed', 'to', 'calibration', 'process', 'and', 'system', 'that', 'uses', 'calibration', 'model', 'to', 'convert', 'field', 'measurement', 'data', 'expressed', 'according', 'to', 'an', 'automatic', 'system', 'metric', 'into', 'agronomy', 'data', 'that', 'is', 'expressed', 'according', 'to', 'an', 'agronomy', 'metric']\n"
     ]
    },
    {
     "name": "stderr",
     "output_type": "stream",
     "text": [
      "/home/henrique/anaconda3/lib/python3.8/site-packages/ipykernel/ipkernel.py:287: DeprecationWarning: `should_run_async` will not call `transform_cell` automatically in the future. Please pass the result to `transformed_cell` argument and any exception that happen during thetransform in `preprocessing_exc_tuple` in IPython 7.17 and above.\n",
      "  and should_run_async(code)\n"
     ]
    }
   ],
   "source": [
    "print(trigram_mod[bigram_mod[data_words[0]]])"
   ]
  },
  {
   "cell_type": "code",
   "execution_count": 14,
   "metadata": {},
   "outputs": [
    {
     "name": "stderr",
     "output_type": "stream",
     "text": [
      "/home/henrique/anaconda3/lib/python3.8/site-packages/ipykernel/ipkernel.py:287: DeprecationWarning: `should_run_async` will not call `transform_cell` automatically in the future. Please pass the result to `transformed_cell` argument and any exception that happen during thetransform in `preprocessing_exc_tuple` in IPython 7.17 and above.\n",
      "  and should_run_async(code)\n"
     ]
    }
   ],
   "source": [
    "# Pre processamento \n",
    "# - remocao de stop-words\n",
    "# - aplicando os modelos de bigram e trigram\n",
    "# - lemmatizacao das palavras\n",
    "\n",
    "def remove_stopwords(texts):\n",
    "    return [[word for word in simple_preprocess(str(doc)) if word not in stop_words] for doc in texts]\n",
    "\n",
    "def make_bigrams(texts):\n",
    "    return [bigram_mod[doc] for doc in texts]\n",
    "\n",
    "def make_trigrams(texts):\n",
    "    return [trigram_mod[bigram_mod[doc]] for doc in texts]\n",
    "\n",
    "def lemmatization(texts, allowed_postags=['NOUN', 'ADJ', 'VERB', 'ADV']):\n",
    "    \"\"\"https://spacy.io/api/annotation\"\"\"\n",
    "    texts_out = []\n",
    "    for sent in texts:\n",
    "        doc = nlp(\" \".join(sent)) \n",
    "        texts_out.append([token.lemma_ for token in doc if token.pos_ in allowed_postags])\n",
    "    return texts_out"
   ]
  },
  {
   "cell_type": "code",
   "execution_count": 15,
   "metadata": {},
   "outputs": [
    {
     "name": "stderr",
     "output_type": "stream",
     "text": [
      "/home/henrique/anaconda3/lib/python3.8/site-packages/ipykernel/ipkernel.py:287: DeprecationWarning: `should_run_async` will not call `transform_cell` automatically in the future. Please pass the result to `transformed_cell` argument and any exception that happen during thetransform in `preprocessing_exc_tuple` in IPython 7.17 and above.\n",
      "  and should_run_async(code)\n"
     ]
    },
    {
     "data": {
      "text/plain": [
       "['systems', 'methods', 'adjusting', 'output', 'field']"
      ]
     },
     "execution_count": 15,
     "metadata": {},
     "output_type": "execute_result"
    }
   ],
   "source": [
    "data_words_nostops = remove_stopwords(data_words)\n",
    "data_words_nostops[0][0:5]"
   ]
  },
  {
   "cell_type": "code",
   "execution_count": 16,
   "metadata": {},
   "outputs": [
    {
     "name": "stderr",
     "output_type": "stream",
     "text": [
      "/home/henrique/anaconda3/lib/python3.8/site-packages/ipykernel/ipkernel.py:287: DeprecationWarning: `should_run_async` will not call `transform_cell` automatically in the future. Please pass the result to `transformed_cell` argument and any exception that happen during thetransform in `preprocessing_exc_tuple` in IPython 7.17 and above.\n",
      "  and should_run_async(code)\n"
     ]
    },
    {
     "data": {
      "text/plain": [
       "['systems', 'methods', 'adjusting', 'output', 'field']"
      ]
     },
     "execution_count": 16,
     "metadata": {},
     "output_type": "execute_result"
    }
   ],
   "source": [
    "data_words_bigrams = make_bigrams(data_words_nostops)\n",
    "data_words_bigrams[0][0:5]"
   ]
  },
  {
   "cell_type": "code",
   "execution_count": 17,
   "metadata": {},
   "outputs": [
    {
     "name": "stderr",
     "output_type": "stream",
     "text": [
      "/home/henrique/anaconda3/lib/python3.8/site-packages/ipykernel/ipkernel.py:287: DeprecationWarning: `should_run_async` will not call `transform_cell` automatically in the future. Please pass the result to `transformed_cell` argument and any exception that happen during thetransform in `preprocessing_exc_tuple` in IPython 7.17 and above.\n",
      "  and should_run_async(code)\n"
     ]
    }
   ],
   "source": [
    "nlp = spacy.load('en', disable=['parser', 'ner'])"
   ]
  },
  {
   "cell_type": "code",
   "execution_count": 18,
   "metadata": {},
   "outputs": [
    {
     "name": "stderr",
     "output_type": "stream",
     "text": [
      "/home/henrique/anaconda3/lib/python3.8/site-packages/ipykernel/ipkernel.py:287: DeprecationWarning: `should_run_async` will not call `transform_cell` automatically in the future. Please pass the result to `transformed_cell` argument and any exception that happen during thetransform in `preprocessing_exc_tuple` in IPython 7.17 and above.\n",
      "  and should_run_async(code)\n"
     ]
    },
    {
     "data": {
      "text/plain": [
       "['system', 'method', 'adjust', 'output', 'field']"
      ]
     },
     "execution_count": 18,
     "metadata": {},
     "output_type": "execute_result"
    }
   ],
   "source": [
    "postags = ['NOUN', 'ADJ', 'VERB', 'ADV']\n",
    "data_lemmatized = lemmatization(data_words_bigrams, \n",
    "                                allowed_postags=postags)\n",
    "data_lemmatized[0][0:5]"
   ]
  },
  {
   "cell_type": "code",
   "execution_count": 19,
   "metadata": {},
   "outputs": [
    {
     "name": "stderr",
     "output_type": "stream",
     "text": [
      "/home/henrique/anaconda3/lib/python3.8/site-packages/ipykernel/ipkernel.py:287: DeprecationWarning: `should_run_async` will not call `transform_cell` automatically in the future. Please pass the result to `transformed_cell` argument and any exception that happen during thetransform in `preprocessing_exc_tuple` in IPython 7.17 and above.\n",
      "  and should_run_async(code)\n"
     ]
    }
   ],
   "source": [
    "# Criacao do dicionario para dados e o corpus"
   ]
  },
  {
   "cell_type": "code",
   "execution_count": 20,
   "metadata": {},
   "outputs": [
    {
     "name": "stderr",
     "output_type": "stream",
     "text": [
      "/home/henrique/anaconda3/lib/python3.8/site-packages/ipykernel/ipkernel.py:287: DeprecationWarning: `should_run_async` will not call `transform_cell` automatically in the future. Please pass the result to `transformed_cell` argument and any exception that happen during thetransform in `preprocessing_exc_tuple` in IPython 7.17 and above.\n",
      "  and should_run_async(code)\n"
     ]
    }
   ],
   "source": [
    "id2word = corpora.Dictionary(data_lemmatized)"
   ]
  },
  {
   "cell_type": "code",
   "execution_count": 21,
   "metadata": {},
   "outputs": [
    {
     "name": "stderr",
     "output_type": "stream",
     "text": [
      "/home/henrique/anaconda3/lib/python3.8/site-packages/ipykernel/ipkernel.py:287: DeprecationWarning: `should_run_async` will not call `transform_cell` automatically in the future. Please pass the result to `transformed_cell` argument and any exception that happen during thetransform in `preprocessing_exc_tuple` in IPython 7.17 and above.\n",
      "  and should_run_async(code)\n"
     ]
    }
   ],
   "source": [
    "texts = data_lemmatized"
   ]
  },
  {
   "cell_type": "code",
   "execution_count": 22,
   "metadata": {},
   "outputs": [
    {
     "name": "stderr",
     "output_type": "stream",
     "text": [
      "/home/henrique/anaconda3/lib/python3.8/site-packages/ipykernel/ipkernel.py:287: DeprecationWarning: `should_run_async` will not call `transform_cell` automatically in the future. Please pass the result to `transformed_cell` argument and any exception that happen during thetransform in `preprocessing_exc_tuple` in IPython 7.17 and above.\n",
      "  and should_run_async(code)\n"
     ]
    }
   ],
   "source": [
    "corpus = [id2word.doc2bow(text) for text in texts]"
   ]
  },
  {
   "cell_type": "code",
   "execution_count": 23,
   "metadata": {},
   "outputs": [
    {
     "name": "stderr",
     "output_type": "stream",
     "text": [
      "/home/henrique/anaconda3/lib/python3.8/site-packages/ipykernel/ipkernel.py:287: DeprecationWarning: `should_run_async` will not call `transform_cell` automatically in the future. Please pass the result to `transformed_cell` argument and any exception that happen during thetransform in `preprocessing_exc_tuple` in IPython 7.17 and above.\n",
      "  and should_run_async(code)\n"
     ]
    }
   ],
   "source": [
    "# Construcao da modelagem de topicos"
   ]
  },
  {
   "cell_type": "code",
   "execution_count": 24,
   "metadata": {},
   "outputs": [
    {
     "name": "stderr",
     "output_type": "stream",
     "text": [
      "/home/henrique/anaconda3/lib/python3.8/site-packages/ipykernel/ipkernel.py:287: DeprecationWarning: `should_run_async` will not call `transform_cell` automatically in the future. Please pass the result to `transformed_cell` argument and any exception that happen during thetransform in `preprocessing_exc_tuple` in IPython 7.17 and above.\n",
      "  and should_run_async(code)\n"
     ]
    }
   ],
   "source": [
    "lda_model = gensim.models.ldamodel.LdaModel(corpus=corpus,\n",
    "                                      id2word = id2word,\n",
    "                                      num_topics = 20,\n",
    "                                      random_state = 150,\n",
    "                                      update_every = 1,\n",
    "                                      chunksize = 100,\n",
    "                                      alpha = 'auto',\n",
    "                                      per_word_topics = True)"
   ]
  },
  {
   "cell_type": "code",
   "execution_count": 25,
   "metadata": {},
   "outputs": [
    {
     "name": "stderr",
     "output_type": "stream",
     "text": [
      "/home/henrique/anaconda3/lib/python3.8/site-packages/ipykernel/ipkernel.py:287: DeprecationWarning: `should_run_async` will not call `transform_cell` automatically in the future. Please pass the result to `transformed_cell` argument and any exception that happen during thetransform in `preprocessing_exc_tuple` in IPython 7.17 and above.\n",
      "  and should_run_async(code)\n"
     ]
    },
    {
     "data": {
      "text/plain": [
       "[(0,\n",
       "  '0.001*\"water\" + 0.001*\"soil\" + 0.001*\"plant\" + 0.001*\"nutrient\" + 0.001*\"percent\" + 0.001*\"hydrolyze\" + 0.001*\"group\" + 0.001*\"polyacrylamide\" + 0.001*\"weight\" + 0.001*\"soluble\"'),\n",
       " (1,\n",
       "  '0.082*\"soybean\" + 0.079*\"product\" + 0.062*\"content\" + 0.031*\"high\" + 0.022*\"determine\" + 0.020*\"provide\" + 0.017*\"line\" + 0.017*\"use\" + 0.016*\"acid\" + 0.014*\"composition\"'),\n",
       " (2,\n",
       "  '0.067*\"nitrogen\" + 0.052*\"make\" + 0.040*\"calcium\" + 0.033*\"comprise\" + 0.031*\"medium\" + 0.031*\"moisture\" + 0.031*\"wherein\" + 0.027*\"disperse\" + 0.024*\"soil\" + 0.018*\"micronutrient\"'),\n",
       " (3,\n",
       "  '0.063*\"combination\" + 0.053*\"reduce\" + 0.049*\"temperature\" + 0.049*\"production\" + 0.040*\"use\" + 0.038*\"link\" + 0.034*\"crop\" + 0.027*\"increase\" + 0.026*\"yield\" + 0.024*\"mean\"'),\n",
       " (4,\n",
       "  '0.216*\"plant\" + 0.115*\"corn\" + 0.081*\"invention\" + 0.077*\"variety\" + 0.071*\"seed\" + 0.060*\"produce\" + 0.052*\"ch\" + 0.048*\"relate\" + 0.038*\"hybrid\" + 0.030*\"method\"'),\n",
       " (5,\n",
       "  '0.073*\"method\" + 0.069*\"crop\" + 0.064*\"use\" + 0.052*\"material\" + 0.043*\"present\" + 0.032*\"express\" + 0.030*\"comprise\" + 0.026*\"system\" + 0.025*\"harvest\" + 0.025*\"process\"'),\n",
       " (6,\n",
       "  '0.008*\"image\" + 0.007*\"spatial\" + 0.006*\"acid\" + 0.006*\"soybean\" + 0.006*\"content\" + 0.005*\"method\" + 0.004*\"structure\" + 0.004*\"line\" + 0.004*\"less\" + 0.003*\"palmitic\"'),\n",
       " (7,\n",
       "  '0.145*\"least\" + 0.107*\"time\" + 0.051*\"control\" + 0.045*\"process\" + 0.036*\"processor\" + 0.035*\"include\" + 0.021*\"support\" + 0.018*\"station\" + 0.015*\"store\" + 0.015*\"accumulate\"'),\n",
       " (8,\n",
       "  '0.121*\"soybean\" + 0.085*\"acid\" + 0.078*\"composition\" + 0.067*\"content\" + 0.062*\"line\" + 0.041*\"disclose\" + 0.027*\"less\" + 0.027*\"also\" + 0.026*\"progeny\" + 0.024*\"method\"'),\n",
       " (9,\n",
       "  '0.047*\"gene\" + 0.044*\"method\" + 0.033*\"growth\" + 0.029*\"amount\" + 0.027*\"range\" + 0.027*\"use\" + 0.026*\"medium\" + 0.025*\"present\" + 0.025*\"microorganism\" + 0.025*\"comprise\"'),\n",
       " (10,\n",
       "  '0.033*\"solar\" + 0.028*\"estimate\" + 0.028*\"capture\" + 0.027*\"energy\" + 0.027*\"weather\" + 0.023*\"satellite\" + 0.019*\"high\" + 0.017*\"model\" + 0.015*\"location\" + 0.012*\"limited\"'),\n",
       " (11,\n",
       "  '0.049*\"plurality\" + 0.032*\"equipment\" + 0.012*\"datum\" + 0.012*\"field\" + 0.010*\"production\" + 0.010*\"system\" + 0.009*\"component\" + 0.009*\"agricultural\" + 0.008*\"impact\" + 0.007*\"receive\"'),\n",
       " (12,\n",
       "  '0.061*\"grass\" + 0.059*\"use\" + 0.056*\"effective\" + 0.045*\"result\" + 0.045*\"make\" + 0.030*\"prefer\" + 0.024*\"reduce\" + 0.021*\"present\" + 0.019*\"treatment\" + 0.019*\"object\"'),\n",
       " (13,\n",
       "  '0.056*\"seed\" + 0.053*\"plant\" + 0.045*\"method\" + 0.041*\"soil\" + 0.039*\"improve\" + 0.035*\"increase\" + 0.032*\"water\" + 0.030*\"yield\" + 0.027*\"provide\" + 0.022*\"crop\"'),\n",
       " (14,\n",
       "  '0.038*\"value\" + 0.034*\"area\" + 0.034*\"use\" + 0.032*\"datum\" + 0.029*\"storage\" + 0.028*\"field\" + 0.028*\"determine\" + 0.024*\"selection\" + 0.022*\"high\" + 0.022*\"different\"'),\n",
       " (15,\n",
       "  '0.027*\"base\" + 0.026*\"information\" + 0.013*\"back\" + 0.013*\"soil\" + 0.012*\"lawn\" + 0.012*\"profile\" + 0.009*\"plot\" + 0.009*\"method\" + 0.009*\"fertilizer\" + 0.008*\"land\"'),\n",
       " (16,\n",
       "  '0.009*\"acid\" + 0.006*\"soybean\" + 0.005*\"content\" + 0.004*\"less\" + 0.003*\"line\" + 0.003*\"low\" + 0.003*\"palmitic\" + 0.003*\"stearic\" + 0.002*\"select\" + 0.002*\"method\"'),\n",
       " (17,\n",
       "  '0.175*\"level\" + 0.045*\"feature\" + 0.036*\"maintain\" + 0.028*\"facilitate\" + 0.028*\"desire\" + 0.013*\"thus\" + 0.012*\"use\" + 0.010*\"expand\" + 0.010*\"range\" + 0.010*\"system\"'),\n",
       " (18,\n",
       "  '0.057*\"say\" + 0.035*\"modify\" + 0.033*\"comprise\" + 0.007*\"gene\" + 0.005*\"present\" + 0.005*\"step\" + 0.004*\"method\" + 0.004*\"enhance\" + 0.003*\"production\" + 0.003*\"fermentative\"'),\n",
       " (19,\n",
       "  '0.226*\"include\" + 0.075*\"second\" + 0.049*\"first\" + 0.034*\"trait\" + 0.029*\"set\" + 0.029*\"configure\" + 0.029*\"embodiment\" + 0.025*\"method\" + 0.022*\"provide\" + 0.021*\"plant\"')]"
      ]
     },
     "execution_count": 25,
     "metadata": {},
     "output_type": "execute_result"
    }
   ],
   "source": [
    "lda_model.print_topics()"
   ]
  },
  {
   "cell_type": "code",
   "execution_count": 26,
   "metadata": {},
   "outputs": [
    {
     "name": "stderr",
     "output_type": "stream",
     "text": [
      "/home/henrique/anaconda3/lib/python3.8/site-packages/ipykernel/ipkernel.py:287: DeprecationWarning: `should_run_async` will not call `transform_cell` automatically in the future. Please pass the result to `transformed_cell` argument and any exception that happen during thetransform in `preprocessing_exc_tuple` in IPython 7.17 and above.\n",
      "  and should_run_async(code)\n"
     ]
    },
    {
     "data": {
      "text/plain": [
       "[(449, 0.0014739995),\n",
       " (49, 0.0014173476),\n",
       " (162, 0.0013409045),\n",
       " (472, 0.0011502603),\n",
       " (474, 0.0011445957),\n",
       " (469, 0.0011084328),\n",
       " (467, 0.000956207),\n",
       " (477, 0.0009254548),\n",
       " (488, 0.00091675314),\n",
       " (482, 0.0008835681)]"
      ]
     },
     "execution_count": 26,
     "metadata": {},
     "output_type": "execute_result"
    }
   ],
   "source": [
    "lda_model.get_topic_terms(0)"
   ]
  },
  {
   "cell_type": "code",
   "execution_count": 27,
   "metadata": {},
   "outputs": [
    {
     "name": "stderr",
     "output_type": "stream",
     "text": [
      "/home/henrique/anaconda3/lib/python3.8/site-packages/ipykernel/ipkernel.py:287: DeprecationWarning: `should_run_async` will not call `transform_cell` automatically in the future. Please pass the result to `transformed_cell` argument and any exception that happen during thetransform in `preprocessing_exc_tuple` in IPython 7.17 and above.\n",
      "  and should_run_async(code)\n"
     ]
    },
    {
     "name": "stdout",
     "output_type": "stream",
     "text": [
      "\n",
      "Perplexity:  -10.281368078728613\n",
      "\n",
      "Coherence Score:  0.4456349299801703\n"
     ]
    }
   ],
   "source": [
    "# Compute Perplexity\n",
    "print('\\nPerplexity: ', lda_model.log_perplexity(corpus))  # a measure of how good the model is. lower the better.\n",
    "\n",
    "# Compute Coherence Score\n",
    "coherence_model_lda = CoherenceModel(model=lda_model, texts=data_lemmatized, dictionary=id2word, coherence='c_v')\n",
    "coherence_lda = coherence_model_lda.get_coherence()\n",
    "print('\\nCoherence Score: ', coherence_lda)"
   ]
  },
  {
   "cell_type": "code",
   "execution_count": 28,
   "metadata": {},
   "outputs": [
    {
     "name": "stderr",
     "output_type": "stream",
     "text": [
      "/home/henrique/anaconda3/lib/python3.8/site-packages/ipykernel/ipkernel.py:287: DeprecationWarning: `should_run_async` will not call `transform_cell` automatically in the future. Please pass the result to `transformed_cell` argument and any exception that happen during thetransform in `preprocessing_exc_tuple` in IPython 7.17 and above.\n",
      "  and should_run_async(code)\n"
     ]
    },
    {
     "data": {
      "text/html": [
       "\n",
       "<link rel=\"stylesheet\" type=\"text/css\" href=\"https://cdn.rawgit.com/bmabey/pyLDAvis/files/ldavis.v1.0.0.css\">\n",
       "\n",
       "\n",
       "<div id=\"ldavis_el59341401191561360802282421119\"></div>\n",
       "<script type=\"text/javascript\">\n",
       "\n",
       "var ldavis_el59341401191561360802282421119_data = {\"mdsDat\": {\"x\": [-0.44461728410685986, -0.23758664002993418, -0.12521566909043838, -0.09943831061411768, 0.04442911803592111, -0.08436226944262118, -0.020394013960553514, -0.054841543759086925, 0.05881421069559045, 0.12777917049521437, 0.0797299166915725, 0.03993977730655312, 0.10026613039932518, -0.00759239485306131, 0.07153480741644568, 0.1150693294350153, 0.10096286517655899, 0.10273460992311445, 0.105394358414798, 0.12739383186656397], \"y\": [0.006217545849371839, 0.1168572914634563, -0.3512946339160285, 0.09487462796793927, -0.02648162179446499, 0.03598186887037239, 0.062145943183163306, 0.11513927077038154, -0.013749032125192556, -0.015486706550144525, 0.020047043473680335, 0.045822963078766724, 0.032984553290520705, -0.15954572828554217, 0.05630607816486679, 0.021777057890065357, 0.02717360225465054, -0.04887901516220112, -0.0403372915509434, 0.020446183127281498], \"topics\": [1, 2, 3, 4, 5, 6, 7, 8, 9, 10, 11, 12, 13, 14, 15, 16, 17, 18, 19, 20], \"cluster\": [1, 1, 1, 1, 1, 1, 1, 1, 1, 1, 1, 1, 1, 1, 1, 1, 1, 1, 1, 1], \"Freq\": [43.1849582847742, 11.413418557819593, 8.293292745992138, 8.071312540167641, 5.13121588257932, 4.628421280916167, 3.2561378079668057, 3.1480120503221216, 2.6613458865104342, 2.5925034237401587, 2.3930864803467604, 1.6008389509382517, 1.0387268685277353, 0.8823051448468686, 0.7802594502976664, 0.490963587820024, 0.1609549354223598, 0.09179689929168013, 0.09157594974113847, 0.08887327197894125]}, \"tinfo\": {\"Term\": [\"corn\", \"plant\", \"soybean\", \"seed\", \"include\", \"variety\", \"invention\", \"acid\", \"content\", \"ch\", \"produce\", \"method\", \"composition\", \"use\", \"crop\", \"least\", \"comprise\", \"line\", \"hybrid\", \"thus\", \"soil\", \"level\", \"provide\", \"material\", \"present\", \"time\", \"relate\", \"gene\", \"product\", \"improve\", \"corn\", \"ch\", \"hybrid\", \"designate\", \"genetic\", \"tissue\", \"complement\", \"variety\", \"culture\", \"thus\", \"relate\", \"accord\", \"invention\", \"breed\", \"produce\", \"cross\", \"plant\", \"seed\", \"sense\", \"provide\", \"multilayer\", \"uas\", \"throughput\", \"method\", \"phenotyping\", \"help\", \"similar\", \"carry\", \"mosaic\", \"also\", \"lawn\", \"high\", \"trait\", \"base\", \"first\", \"set\", \"use\", \"grow\", \"improve\", \"well\", \"weight\", \"treat\", \"flow\", \"solution\", \"percent\", \"profile\", \"region\", \"pollination\", \"apply\", \"quality\", \"enhanced\", \"salt\", \"pesticide\", \"maize\", \"water\", \"partially\", \"soil\", \"fertilizer\", \"create\", \"contact\", \"find\", \"highly\", \"surface\", \"uptake\", \"vigor\", \"synergistic\", \"group\", \"enhance\", \"increase\", \"yield\", \"specific\", \"wherein\", \"characteristic\", \"gene\", \"reduce\", \"seed\", \"method\", \"crop\", \"provide\", \"plant\", \"use\", \"also\", \"comprise\", \"present\", \"describe\", \"growth\", \"composition\", \"progeny\", \"capable\", \"line\", \"acid\", \"palmitic\", \"soybean\", \"less\", \"novel\", \"fatty\", \"stearic\", \"content\", \"vegetable_oil\", \"cause\", \"exhibit\", \"disclose\", \"nmu\", \"saturate\", \"form\", \"low\", \"select\", \"obtain\", \"particular\", \"concentration\", \"total\", \"result\", \"describe\", \"high\", \"base\", \"embodiment\", \"also\", \"method\", \"produce\", \"comprise\", \"cross\", \"material\", \"express\", \"direct\", \"harvest\", \"separate\", \"disclosure\", \"balance\", \"subject\", \"prepare\", \"single\", \"together\", \"incorporate\", \"management\", \"producer\", \"adjust\", \"generally\", \"maintenance\", \"give\", \"commodity\", \"cycle\", \"effectively\", \"efficiently\", \"patent\", \"conform\", \"parameter\", \"delivery\", \"season\", \"pertain\", \"plan\", \"metric\", \"crop\", \"measurement\", \"present\", \"process\", \"system\", \"use\", \"grow\", \"comprise\", \"may\", \"method\", \"product\", \"field\", \"particular\", \"determine\", \"datum\", \"provide\", \"plant\", \"storage\", \"selection\", \"value\", \"sample\", \"different\", \"multiple\", \"color\", \"response\", \"require\", \"purpose\", \"program\", \"current\", \"day\", \"area\", \"fertility\", \"long\", \"analysis\", \"property\", \"large\", \"basis\", \"improvement\", \"continuously\", \"source\", \"size\", \"remote\", \"evaluate\", \"image\", \"possible\", \"entire\", \"technology\", \"new\", \"portion\", \"datum\", \"determine\", \"model\", \"field\", \"agricultural\", \"high\", \"may\", \"describe\", \"use\", \"information\", \"include\", \"system\", \"least\", \"method\", \"associate\", \"separation\", \"range\", \"formation\", \"structure\", \"balanced\", \"optimal\", \"amount\", \"standard\", \"identification\", \"successive\", \"identify\", \"filter\", \"percentage\", \"statistical\", \"spatial\", \"test\", \"microorganism\", \"element\", \"step\", \"medium\", \"condition\", \"order\", \"show\", \"biomass\", \"nutrient\", \"analyze\", \"paste\", \"environment\", \"complex\", \"say\", \"gene\", \"modify\", \"growth\", \"rate\", \"consist\", \"low\", \"comprise\", \"present\", \"method\", \"use\", \"also\", \"utilize\", \"enhance\", \"level\", \"invention\", \"obtain\", \"plant\", \"product\", \"second\", \"configure\", \"first\", \"trait\", \"include\", \"ground\", \"human\", \"set\", \"extraction\", \"trainee\", \"automate\", \"sensor\", \"trainer\", \"augment\", \"component\", \"inspection\", \"instruction\", \"embodiment\", \"carry\", \"acquire\", \"observation\", \"phenotyping\", \"follow\", \"need\", \"collect\", \"tool\", \"planting\", \"type\", \"configuration\", \"easy\", \"server\", \"agronomy\", \"grow\", \"provide\", \"also\", \"method\", \"plant\", \"field\", \"system\", \"control\", \"production\", \"link\", \"temperature\", \"combination\", \"mean\", \"canopy\", \"example\", \"protect\", \"whereby\", \"great\", \"environmental\", \"additional\", \"would\", \"normally\", \"raise\", \"number\", \"animal\", \"year\", \"similar\", \"configuration\", \"vegetable\", \"type\", \"production\", \"symbiotic\", \"need\", \"planting\", \"reduce\", \"organic\", \"irrigation\", \"consume\", \"polyculture\", \"access\", \"yield\", \"increase\", \"grow\", \"crop\", \"use\", \"control\", \"also\", \"plant\", \"system\", \"water\", \"provide\", \"method\", \"grass\", \"prefer\", \"treatment\", \"object\", \"compound\", \"reproductive\", \"certain\", \"tree\", \"toxicosis\", \"effective\", \"toxic\", \"impair\", \"effect\", \"precisely\", \"distance\", \"record\", \"eliminate\", \"result\", \"degree\", \"availability\", \"make\", \"grazing\", \"manner\", \"radiation\", \"performance\", \"new\", \"fescue\", \"discover\", \"prevention\", \"ingest\", \"limited\", \"animal\", \"establish\", \"reduce\", \"area\", \"use\", \"embodiment\", \"present\", \"process\", \"describe\", \"control\", \"system\", \"may\", \"method\", \"capture\", \"solar\", \"estimate\", \"date\", \"formula\", \"wide\", \"satellite\", \"location\", \"energy\", \"weather\", \"qualitative\", \"spatial_relationship\", \"sun\", \"prove\", \"farmer\", \"solar_irradiance\", \"methodology\", \"atmospheric_condition\", \"widely\", \"primarily\", \"general\", \"transmission\", \"description\", \"impact\", \"satellite_imagery\", \"granularity\", \"internet\", \"earth\", \"electromagnetic\", \"brief\", \"limited\", \"model\", \"radiation\", \"high\", \"available\", \"determine\", \"input\", \"pixel\", \"use\", \"system\", \"may\", \"time\", \"support\", \"station\", \"processor\", \"least\", \"accumulate\", \"monitor\", \"subsequent\", \"store\", \"control\", \"indicate\", \"real\", \"measurement\", \"decision\", \"process\", \"recommendation\", \"historical\", \"collection\", \"transmit\", \"client\", \"shape\", \"timestamp\", \"agriculture\", \"portion\", \"request\", \"long\", \"base\", \"form\", \"video\", \"monitoring\", \"desire\", \"product\", \"include\", \"agricultural\", \"datum\", \"system\", \"present\", \"use\", \"provide\", \"area\", \"method\", \"obtain\", \"nitrogen\", \"calcium\", \"moisture\", \"disperse\", \"micronutrient\", \"charge\", \"active\", \"synthetic\", \"phosphate\", \"potassium\", \"dissolve\", \"site\", \"apatite\", \"choose\", \"encourage\", \"available\", \"make\", \"essential\", \"horticultural\", \"agronutrient\", \"matrix\", \"optional\", \"zeolite\", \"medium\", \"wherein\", \"price\", \"cation\", \"sell\", \"discount\", \"application\", \"observation\", \"element\", \"comprise\", \"soil\", \"set\", \"growth\", \"production\", \"disclose\", \"fertilizer\", \"include\", \"method\", \"plant\", \"least\", \"also\", \"feature\", \"maintain\", \"facilitate\", \"level\", \"expand\", \"indicative\", \"participate\", \"network\", \"desire\", \"additive\", \"agronomist\", \"communication\", \"common\", \"maximum\", \"subscription\", \"regional\", \"ascertain\", \"anonymity\", \"benefit\", \"correlate\", \"character\", \"subscriber\", \"realize\", \"poll\", \"dealer\", \"ca\", \"major\", \"master\", \"pot\", \"map\", \"soilless\", \"farmer\", \"range\", \"digital\", \"thus\", \"system\", \"nutrient\", \"data\", \"use\", \"base\", \"low\", \"comprise\", \"location\", \"agricultural\", \"field\", \"include\", \"soil\", \"plant\", \"product\", \"improved\", \"radiation\", \"total\", \"content\", \"maize\", \"high\", \"soybean\", \"respect\", \"determine\", \"prove\", \"defoliation\", \"inactivate\", \"defoliate\", \"fermentative\", \"less\", \"logic\", \"especially\", \"assemblage\", \"power\", \"novel\", \"phenomenon\", \"incapable\", \"may\", \"atmospheric_condition\", \"astronomical\", \"primarily\", \"server\", \"slow\", \"local\", \"quality\", \"impact\", \"line\", \"methodology\", \"pollination\", \"low\", \"acid\", \"composition\", \"enhanced\", \"disclose\", \"production\", \"palmitic\", \"base\", \"use\", \"provide\", \"obtain\", \"exhibit\", \"reduce\", \"method\", \"seed\", \"gene\", \"plant\", \"back\", \"lawn\", \"conductivity\", \"plot\", \"farmland\", \"organize\", \"elevation\", \"related\", \"information\", \"item\", \"attributable\", \"characterizing\", \"prescription\", \"report\", \"managing\", \"server\", \"usage\", \"easy\", \"point\", \"bird\", \"scare\", \"divide\", \"base\", \"giant\", \"slow\", \"variable\", \"user\", \"land\", \"hydrolyze\", \"intervene\", \"zone\", \"manage\", \"profile\", \"agronomy\", \"fertilizer\", \"soil\", \"percent\", \"nutrient\", \"system\", \"yield\", \"utilize\", \"water\", \"method\", \"crop\", \"provide\", \"apply\", \"generate\", \"plurality\", \"equipment\", \"supplier\", \"storing\", \"cloud_base\", \"farm\", \"exemplify\", \"forecasting\", \"provided\", \"authorize\", \"overhead\", \"modular\", \"third\", \"centralizing\", \"track\", \"database\", \"service_provider\", \"restricted\", \"monitoring\", \"interpolate\", \"impact\", \"receive\", \"cluster\", \"party\", \"agricultural_enterprise\", \"size\", \"implement\", \"layer\", \"specify\", \"sale\", \"display\", \"input\", \"data\", \"agricultural\", \"component\", \"producer\", \"datum\", \"commodity\", \"field\", \"production\", \"system\", \"management\", \"processing\", \"service\", \"pertain\", \"crop\", \"value\", \"method\", \"image\", \"model\", \"may\", \"comprise\", \"say\", \"modify\", \"anaerobic\", \"fermentative\", \"ohrr\", \"inactivate\", \"anaerobiosis\", \"concern\", \"potential\", \"recombinant\", \"bacterial\", \"cell\", \"stature\", \"introduction\", \"nematicidal\", \"fertile_transgenic\", \"heritable\", \"glucan\", \"encode\", \"amino\", \"insculant\", \"replicating\", \"paper\", \"arylpyrrole\", \"oxygenated\", \"therea\", \"manufacture\", \"cereal\", \"transformable\", \"graminaceous\", \"comprise\", \"biomass\", \"friable\", \"step\", \"rate\", \"gene\", \"enhance\", \"present\", \"production\", \"consist\", \"microorganism\", \"growth\", \"condition\", \"product\", \"low\", \"method\", \"obtain\", \"culture\", \"invention\", \"subsoil\", \"initial\", \"seismic\", \"study\", \"removal\", \"geoscience\", \"typology\", \"spatial\", \"hydrology\", \"total\", \"geography\", \"exploration\", \"multivariable\", \"relation\", \"throughput\", \"redundancy\", \"geomarkete\", \"help\", \"notably\", \"uas\", \"multilayer\", \"order\", \"statistical\", \"show\", \"physical\", \"seek\", \"diagnostic\", \"patient\", \"suffer\", \"suspect\", \"analyze\", \"mosaic\", \"image\", \"structure\", \"complex\", \"environment\", \"successive\", \"element\", \"palmitic\", \"content\", \"acid\", \"less\", \"soybean\", \"low\", \"line\", \"datum\", \"method\", \"nmu\", \"identify\", \"select\", \"also\", \"stearic\", \"component\", \"disclose\", \"composition\", \"cross\", \"novel\", \"variety\", \"total\", \"tracking\", \"storing\", \"seek\", \"diagnostic\", \"suspect\", \"suffer\", \"patient\", \"isozyme_type\", \"diagnose\", \"stage\", \"continuous\", \"upright\", \"distinct\", \"bermudgrass\", \"name\", \"northern\", \"previous\", \"relatively\", \"agronomically\", \"winterhardiness\", \"conversion\", \"locus\", \"standability\", \"intestinal\", \"ischemia\", \"replicating\", \"insculant\", \"rr\", \"dhb\", \"modular\", \"restricted\", \"specify\", \"centralizing\", \"cloud_base\", \"authorize\", \"party\", \"service_provider\", \"exemplify\", \"nmu\", \"database\", \"third\", \"supplier\", \"stearic\", \"provided\", \"cost\", \"acid\", \"amide\", \"less\", \"polyacrylamide\", \"palmitic\", \"saturate\", \"delivery\", \"hydrolyze\", \"vegetable_oil\", \"fatty\", \"semi\", \"input\", \"content\", \"low\", \"soybean\", \"select\", \"concentration\", \"line\", \"agricultural\", \"component\", \"utilize\", \"producer\", \"system\", \"exhibit\", \"form\", \"describe\", \"composition\", \"novel\", \"method\", \"crop\", \"also\", \"obtain\", \"disclose\", \"progeny\", \"produce\", \"variety\", \"seek\", \"diagnostic\", \"suspect\", \"suffer\", \"patient\", \"isozyme_type\", \"stage\", \"diagnose\", \"continuous\", \"bermudgrass\", \"distinct\", \"name\", \"northern\", \"previous\", \"relatively\", \"upright\", \"agronomically\", \"winterhardiness\", \"locus\", \"conversion\", \"standability\", \"intestinal\", \"ischemia\", \"insculant\", \"replicating\", \"rr\", \"dhb\", \"gibberellin\", \"dha\", \"lcl\", \"semi\", \"hydrolyze\", \"amide\", \"permeable\", \"carboxylic\", \"discovery\", \"permeability\", \"polyacrylamide\", \"aforementione\", \"impermeable\", \"soluble\", \"conserve\", \"group\", \"nutrient\", \"efficiency\", \"water\", \"percent\", \"soil\", \"partially\", \"aqueous\", \"decrease\", \"salt\", \"find\", \"contact\", \"synergistic\", \"surface\", \"solution\", \"highly\", \"uptake\", \"render\", \"weight\", \"plant\", \"agronomy\", \"flow\", \"region\", \"well\", \"amount\", \"describe\", \"also\", \"exhibit\", \"fertilizer\"], \"Freq\": [772.0, 1601.0, 167.0, 582.0, 153.0, 518.0, 568.0, 114.0, 95.0, 352.0, 427.0, 473.0, 103.0, 226.0, 149.0, 66.0, 104.0, 82.0, 253.0, 107.0, 84.0, 36.0, 296.0, 66.0, 107.0, 45.0, 335.0, 66.0, 47.0, 70.0, 771.9070046236808, 351.8864572945553, 252.3843870335213, 155.6344807040678, 145.50161113518803, 128.8979768724287, 98.01026164016011, 513.0058344734912, 107.00815580736965, 103.96018770195009, 323.1016778354029, 102.28712144265904, 541.9092503007557, 15.230238786304886, 403.41932325784467, 125.32332573278522, 1450.7429542528703, 479.03062649316365, 1.8036644123938887, 188.9754461724294, 1.0116087986308864, 1.0105092658441897, 0.9646488947958602, 199.41821891089546, 1.82636415457802, 0.5186237613421341, 3.9504884220641046, 3.51053325594464, 0.5376838743892541, 36.873572503548104, 1.152966762994917, 10.444011395809428, 3.7963403645142004, 3.7946295032056363, 3.1200590164825828, 2.5529356151528364, 3.0612951842716147, 1.8385204797974002, 69.72045539249307, 30.976638666727432, 38.348359474397654, 23.24780561717355, 15.824387696742287, 17.282958520797717, 25.14733579909169, 37.67858589334466, 12.946979736265225, 12.933898272580327, 27.980859714779974, 12.679919518075419, 10.571876382836, 9.835020488323806, 11.63956359960099, 15.57343218450693, 56.582276210696406, 8.348831223971866, 73.3836348783409, 28.81006641927504, 8.037266470221805, 5.912355804934542, 5.95771557810735, 5.462483080637112, 5.421762136077683, 4.2833909539685076, 4.43390782305338, 4.2390493797478355, 4.590356484899115, 33.948234981001306, 61.87265973992205, 52.50394549245176, 35.59046612269055, 25.724392216568013, 14.169606469103295, 30.71501599399514, 26.55215826030908, 99.92063237078405, 80.19086750714008, 38.77942893546919, 47.7124266420475, 93.55934117867496, 35.38807061428915, 28.377868193076658, 23.084007605192745, 22.317742758450382, 18.147693272684247, 16.961210952405587, 100.47492312221468, 33.81529180426656, 24.517909923535804, 79.62224633866026, 108.91626814299383, 23.316553597488586, 155.58465792693687, 35.03027720542887, 28.229260803172853, 10.84985056939664, 11.768837064779946, 85.67702351355203, 8.444212690419986, 7.565419735712394, 22.255876762247453, 52.81416495745649, 5.117100764034137, 7.711182849952444, 25.60518779716802, 28.522044897198946, 16.74319287241889, 24.00515164582922, 13.022714373586345, 9.331373029093186, 0.7608432531995177, 11.970221458603922, 18.72988538114685, 18.785290221521002, 10.901671272385695, 11.505617007966812, 34.376539659617336, 31.459459525276067, 21.89077439264588, 14.181739746817023, 10.966721747127764, 65.0708695306967, 40.701595808500635, 18.75146183785302, 31.300129906564, 17.193170805350576, 15.02149978009662, 11.29969164607919, 11.746049825234365, 11.119155815465936, 11.748392021447922, 11.778079679383465, 11.399432793953597, 16.284238793633467, 11.27784048419448, 7.5149651430245745, 5.959490114240766, 10.020472067057625, 5.996869558545787, 8.131096370242176, 7.717667812690333, 5.1291313749523395, 5.105781767657464, 3.3335275516553775, 4.541493367292317, 4.746279447914852, 3.7387998514411325, 8.950292624835706, 3.6663463981175264, 2.6795839181022467, 2.1584286306429585, 86.32179899741328, 10.630746636727778, 54.37913476535885, 30.94948901253069, 32.848376453361375, 80.10483768366109, 23.61286921566853, 37.266311676553904, 18.9427376942527, 91.02902754585278, 18.547527385375403, 20.242881826392875, 12.544088707504203, 15.210846563082741, 13.603097495936309, 17.596868803844806, 15.415259491119684, 23.086492214615433, 19.12805379864977, 30.165400932352746, 14.601076832461798, 17.267270353463605, 7.952796470708292, 12.189070306420575, 6.602965899350948, 6.579306345894424, 6.5161229482456955, 6.886358235227685, 5.5497258961128875, 5.873178849055012, 27.35065746621497, 8.47709113662895, 11.41404075912457, 7.127621134195401, 12.108848914255415, 5.233963225433341, 3.426457548294938, 2.4948453815050544, 2.6504106550385282, 4.188324104138275, 2.4817667824702485, 2.8356095378240824, 1.632756430462813, 13.631251778863144, 5.251141070242235, 1.5669744882552425, 1.5642566814443424, 7.347041420641527, 5.359282441882236, 25.201547974569255, 21.982020634876587, 12.247345960384296, 22.405798923219624, 8.508485116074318, 17.56712421872552, 13.531748110299892, 14.247545679881615, 26.819897042741047, 8.168442654036408, 13.646205744352942, 9.95238856479699, 9.693354662883396, 9.528510860330929, 10.520265303820837, 7.937426872233568, 19.577915231125896, 7.786136463672854, 11.305658817921277, 5.7380744792606855, 4.195733704451163, 20.97678937106841, 2.9900952642729304, 2.9672717417492955, 2.8646525535264034, 13.31189630414602, 2.871927906850423, 2.897659830748863, 3.1296212361174964, 5.26805245772499, 3.2119615857163613, 17.677737359140583, 5.069418213577242, 11.210962446973191, 18.42382864030478, 13.625895240056431, 2.007557509628287, 3.728081702121374, 3.5325429044897687, 7.446384858249042, 1.6695072119345942, 1.6636380432375435, 4.521093206799376, 3.234758674311256, 11.008302549703, 33.74999432973224, 10.275361980783693, 23.86706175525113, 8.966978874872726, 7.436102394575808, 12.92697681045919, 17.64675411780356, 17.729155700427228, 31.882160879110724, 19.048362663640564, 14.021701497103896, 5.61750698802991, 7.8886592851681865, 7.387588439383655, 16.14804404810981, 7.5357114609892495, 14.650133019198735, 6.131820897506575, 37.80491673695063, 14.592697205112271, 24.789771009531087, 17.167101085159562, 114.42742142255804, 10.50765258614201, 5.502151468825209, 14.858576551267745, 1.816085116476942, 1.7880169697321746, 1.2307130189089817, 1.4859519794855123, 1.1788399180795892, 1.1544415232453318, 8.908714643163439, 1.1390144177443728, 1.0895849934012696, 14.474466670742007, 3.5571375242576844, 1.122442802554912, 2.8875739333975985, 1.5689161026591987, 3.1578531213029257, 1.9539159089104363, 0.5695077973695581, 2.462145887803039, 1.890808393255097, 1.8015053294917716, 1.1407043467969757, 0.32314152339169594, 0.3787502584123616, 1.2564817887230033, 4.970775535204823, 10.890816162894037, 6.520958589527744, 12.784378488449788, 10.83601434604459, 2.968174533427023, 2.8234152437369104, 2.1160065638968875, 1.6389610607312064, 18.778284553268456, 24.15411819937737, 30.878858347344636, 11.58732969936965, 7.602187086485789, 9.447283134562321, 6.565706676758212, 6.577631524388153, 6.632807442529939, 5.617388847160934, 4.531088436771685, 3.500430715440842, 2.4861090658632095, 1.505214222083326, 4.1203195613696035, 4.99061678018237, 4.789405970877175, 5.97396313849849, 2.893582324666773, 1.2853802545663306, 3.8781903982250854, 23.916606222169648, 0.8227945161353677, 2.813133412721694, 2.9690312575586475, 25.675934309123516, 1.4093268222441997, 4.9972075582151785, 0.45094144265253966, 0.4491959447306775, 1.3742478840870187, 12.590882163294228, 13.131583584937989, 8.709571159116592, 16.451111781051456, 19.305175381882417, 7.084631221039978, 10.777310334539123, 9.718693922873042, 4.778451988547232, 4.4756257651657645, 5.741329156330658, 4.856346518840369, 25.074622101136054, 12.443236350215779, 7.96271585632222, 7.747569012180222, 4.331689006181612, 4.210010035591677, 4.203275297064836, 3.824007777353103, 2.665858242496058, 22.93973538481027, 2.3185636072658258, 2.298270310896309, 6.179023320434702, 2.095465292610821, 2.0713080448690455, 2.0258597189613816, 2.274536918398924, 18.642448879100247, 3.2550024098657517, 3.140859712504487, 18.47671166618899, 0.8050301608013586, 2.5075222386366423, 3.2637469495196463, 2.9427952159468824, 4.678711973865281, 0.4311948857259949, 0.42699649659678596, 0.4258414766258895, 0.4169485010568579, 2.727288585464889, 2.142202115373537, 1.2268288029803311, 9.776264501657748, 5.917034988412897, 24.282391820377807, 6.4547197044094355, 8.533863395525884, 3.9197859794456282, 3.7565426438279674, 3.5436172398365495, 3.4862642188555144, 2.860690241567962, 3.450502611054663, 11.289567913216793, 13.165890753182492, 11.371031356493246, 3.5265972383547255, 4.791456206283098, 4.695869374108077, 9.303830979286955, 6.223997337359929, 10.884610717443515, 10.761666238488594, 3.4771226449433104, 3.407007992003209, 3.3431153819615447, 4.77788646262587, 3.4374161228548896, 3.1314009918600374, 3.027317748132668, 4.159255939695404, 1.7943239314033599, 1.7210553373253914, 1.7403791305947935, 1.7543001034944967, 1.7478375978862966, 4.841485194624737, 1.7302094134518295, 1.6862034256097442, 1.7034908764461225, 1.6863539256533446, 1.6735661075028416, 1.667815056646207, 4.86460372560619, 6.930356453576155, 3.101669080382342, 7.575266570670345, 2.316237841009585, 4.503371384343241, 2.5329526559719375, 1.7970404290770137, 2.6331467011877856, 2.006703857812246, 1.9416593507992645, 39.646531160099144, 7.832621850614096, 6.724162581058998, 13.545617969581555, 54.035796355341155, 5.669305633357978, 2.466538962174038, 4.948791330037385, 5.750296124104919, 19.08203627944169, 2.348503303523252, 1.0400115110551922, 4.899124539337605, 0.5569325876080923, 16.904099359800757, 0.5087914034496088, 0.49231923849531106, 0.3179999092329158, 0.3035891491311882, 0.29500824488808564, 0.7237582446301017, 0.27240895722067554, 0.3358271837198687, 1.628367017416134, 0.2816101081285204, 2.240581378640234, 5.2807447672241725, 5.045718749695515, 0.45562938082129467, 0.28854823779470845, 1.6212227515898285, 4.590420285315903, 12.888538587799559, 1.9900390087889268, 2.683022759616342, 2.656612245310826, 3.0576066771645714, 2.924407943605285, 2.873867993694333, 0.818966248235085, 0.97233518447972, 0.746510988255568, 16.542882439874564, 10.046665491974103, 7.660912502198241, 6.825254288290884, 4.500490101654691, 4.0691929252638035, 3.6667687603314265, 4.299758996868921, 2.8909985171055723, 2.0001424435553674, 1.996647138477407, 3.6639120584393536, 0.7364871781478789, 1.0015521145588766, 0.9733505738659558, 2.5919570095055686, 13.001602561766628, 0.391493495794297, 0.3914875645849319, 0.39148660980488775, 0.39147738026446105, 0.3914764254844169, 0.3914702049477657, 7.7618469877665195, 7.597014686793171, 0.5403247248060568, 0.3913613889554621, 0.30780980246720274, 0.2978080764466154, 2.9648697912553765, 1.299455755808092, 0.9309750630231906, 8.2499467486599, 6.064016144529614, 2.0293392701124846, 3.4358022597623417, 3.0848350683944075, 3.4032297938927965, 2.393616442488501, 2.3986838363082343, 3.566998759224257, 3.7316495941237617, 1.154134298238598, 1.0527662846648211, 7.277511267031413, 5.853968502762573, 4.499633230826574, 28.27853628973872, 1.6879047877670055, 0.9772257926907162, 0.7333113145013104, 0.7286955342509428, 4.472419899502592, 1.5460179241403296, 0.501136749387241, 0.4888504550487605, 0.2790269086159329, 0.2756519004396347, 0.2749965207702986, 0.27340827168964826, 0.27282869904136, 0.27219464596338355, 0.269655242172137, 0.2669518338895893, 0.2643634878239813, 0.2589916461177796, 0.2547657332290019, 0.25050448878658094, 0.24669639686373698, 0.6048480758097268, 0.36737111182522975, 0.2702658097168467, 0.17685485145292018, 0.7317549989874759, 0.23500944357204986, 0.6814904759616979, 1.643282349653963, 0.49276944149199314, 2.0612299234504214, 1.581427575160524, 0.6820884465497155, 0.5349205857376031, 2.001552864271878, 0.7281799413767336, 0.7015708885058195, 0.791887501041359, 0.4306374964045101, 0.48852383529834204, 0.5944908242252699, 0.6177823530948359, 0.48093408441095903, 0.5878980914839511, 10.831633672348964, 0.7299817260687075, 0.8385171218990052, 0.18501113941198244, 8.463059695183247, 1.2732437439258626, 4.187725170182796, 11.24474294835969, 0.12423470251357872, 3.0116669946549526, 0.49397081659450676, 0.1105135611430967, 0.09511968236128161, 0.10021312934815187, 0.1259386947183894, 1.865350370318047, 0.15133092612155602, 0.11575429634423012, 0.15230867492873906, 0.16615670119294623, 1.4344897748884897, 0.1378705709207335, 0.13729187885170188, 1.9337210602590933, 0.3201334412603199, 0.13578847544645994, 0.13404142816900158, 0.11493642537347891, 0.058656540664977795, 0.1489757658087568, 0.573363254314256, 0.35350954222094466, 2.383236685136035, 0.2094465834498162, 0.47825549182956856, 1.2321000613625417, 2.132190784830023, 1.9601100564598626, 0.3778096019747862, 1.2383003745355685, 1.0581554629511387, 0.632527940514416, 0.7270190267882026, 2.2947723522535353, 2.7054662067960775, 0.8431367079455794, 0.5137300651383961, 0.7949455797354033, 1.6399535568161911, 1.4470601976840072, 0.6685587215765592, 1.154471191311089, 1.5389577399491794, 1.465905869596084, 0.8990991183825653, 1.1258426221420912, 0.4689320001476482, 0.4640317516997909, 0.7582953050796694, 0.4802775406435197, 3.114401308979738, 0.39576415492582373, 0.39032024607679405, 0.4056338362459041, 0.4046421552246537, 0.15137097966764299, 0.43118074197208955, 0.27369575449964517, 0.22659233029250547, 0.22008308566306053, 0.13269499262954715, 0.13175949398633863, 0.12801958650987758, 0.4240236372448478, 3.3311637538032763, 0.12678241782874938, 0.12470706842380698, 0.48429700621794813, 0.26834147797863617, 1.000003684689977, 0.19918634347203287, 0.11866066561908917, 0.3943422218076712, 0.4255953900377787, 1.4383890269337973, 0.5094621425318971, 1.0651553875990176, 1.5182142583215452, 0.6341306137748054, 0.41936024603132577, 0.8334761265492877, 0.7831361517436556, 0.45632038186548135, 0.6627725706061919, 1.0716594567935374, 0.7712204108778681, 0.6019174658251137, 0.43169038834318235, 0.41128589065213716, 3.7057289870546173, 2.464237589345547, 0.36895527425313485, 0.21906328201878938, 0.3428776418533982, 0.16628064868377898, 0.19380887227917437, 0.15522358659627972, 0.1889819093083747, 0.18541630297991327, 0.14975731146672386, 0.2935447812231483, 0.1847859707221212, 0.17706192488000935, 0.1436924975429672, 0.31455705735238026, 0.28611742704964865, 0.16808449072665185, 0.16596232361738963, 0.12146857366981677, 0.5949185098587618, 0.5202081119140176, 0.11785553003843632, 0.14995621804776257, 0.1509991998257467, 0.24851760563678424, 0.2342209289220281, 0.10859939951207453, 0.2605340441397343, 0.2188120045133533, 0.21535245329983546, 0.49505792936484166, 0.35375212445252074, 0.6672190644202753, 0.6886128798594423, 0.44582148731549676, 0.9080235207746156, 0.3720809186748751, 0.8965841207693881, 0.7336767204169364, 0.7323433648453267, 0.4117831194705689, 0.27547249982398575, 0.2254121784814448, 0.23720440340973004, 0.5196608348667235, 0.32449276761711787, 0.5090147186027907, 0.30212603492369455, 0.2827221016495479, 0.29024557270767515, 0.28884488562567456, 1.4197317935014668, 0.8649865233278906, 0.059598014726105604, 0.08700198882783981, 0.052563270321925364, 0.04975027551869235, 0.042148979965285174, 0.03967383241462289, 0.08177736773836386, 0.010891720177003445, 0.010890879471497987, 0.01088872607270762, 0.010886571946663358, 0.010886571946663358, 0.01088641995059879, 0.010886987208638805, 0.010886987208638805, 0.01088645704054756, 0.010886987208638805, 0.010886987208638805, 0.010884418547872992, 0.010884418547872992, 0.01088785482253847, 0.010884342913467657, 0.010884342913467657, 0.010884342913467657, 0.010885059985810549, 0.010884135646106883, 0.010884135646106883, 0.010884135646106883, 0.8174133667126833, 0.05378915276360101, 0.010884135646106883, 0.11473002726628018, 0.08189582867121259, 0.16628178632337504, 0.09955315767531103, 0.13312757274130232, 0.08718199289450682, 0.04877172630951012, 0.05800059863132909, 0.0864737581409776, 0.045348492760922225, 0.05212241482731904, 0.047350084572733, 0.10714917918345386, 0.04227368364558966, 0.047247931581280815, 0.05907473518377727, 0.036811933114977394, 0.03620441443147111, 0.020837282290310198, 0.020271250793839, 0.019317933104807606, 0.018955247888387386, 0.018388635710661197, 0.09640906867646826, 0.018112244706000383, 0.02424060037585937, 0.017036243999593314, 0.01648667564624573, 0.01634578412380287, 0.016285371705123015, 0.021616048853180914, 0.01585432537318678, 0.014382484209788864, 0.014016225315016506, 0.013784162687816974, 0.01741466733711306, 0.017317897635513637, 0.0276173647371625, 0.033742369046635544, 0.04640560703752548, 0.014377165169493156, 0.006540010566057158, 0.006540010566057158, 0.006540010566057158, 0.006540010566057158, 0.006540010566057158, 0.01792705881742689, 0.012269801554294746, 0.11466978860210167, 0.06099481211500146, 0.027492383881106364, 0.0357776402544823, 0.02067956926145493, 0.027461224524963603, 0.04860886103699433, 0.08161538747912801, 0.0880268318971518, 0.05399707208379663, 0.08772892582244896, 0.0464446387723966, 0.05404342372065923, 0.043234483476775186, 0.07011089063712402, 0.022753586840813217, 0.02709535385708744, 0.027883806183291386, 0.033567809625028366, 0.024521724762293, 0.0258328300361311, 0.02575662972367272, 0.02559421649483063, 0.024219982873128626, 0.023368840198635964, 0.023702149579910892, 0.02291475409310726, 0.012079747750563346, 0.01564173275709692, 0.006769384734458657, 0.006769384734458657, 0.006769384734458657, 0.006769384734458657, 0.006769384734458657, 0.006769384734458657, 0.006769384734458657, 0.006769384734458657, 0.006769384734458657, 0.006769384734458657, 0.006769384734458657, 0.006769384734458657, 0.006769384734458657, 0.006769384734458657, 0.006769384734458657, 0.006769384734458657, 0.006769384734458657, 0.006769384734458657, 0.006769384734458657, 0.006769384734458657, 0.006769384734458657, 0.006769384734458657, 0.006769384734458657, 0.006769384734458657, 0.006769384734458657, 0.006769384734458657, 0.006769384734458657, 0.024241775287231728, 0.014753725769806896, 0.02745094348520395, 0.014551386976917453, 0.021712636371680128, 0.01406376922174031, 0.014523021942132425, 0.019662399475911925, 0.012721107370671126, 0.027997298941366378, 0.019084800773067446, 0.011931836788745537, 0.01590645708249611, 0.03800863022199425, 0.0116125505695009, 0.01283178115574072, 0.12365571570445354, 0.008511556961679064, 0.05880289852585591, 0.011350567083032974, 0.04040527870490835, 0.023870040731699148, 0.016427388609417507, 0.010783446792793465, 0.022197941957783008, 0.02474234747858943, 0.008219823952644707, 0.02273245023697081, 0.06486838832151148, 0.04491517358728221, 0.08085182888299906, 0.033891585609576315, 0.028730605763157405, 0.0495818259194495, 0.028588125171226962, 0.02909669313123016, 0.024889303450030827, 0.022344520567342565, 0.03176898791786918, 0.0249782714789627, 0.026900996470780137, 0.028769682579079598, 0.03185551302514492, 0.024416277020951525, 0.033424570489070896, 0.029165465679099657, 0.028106058607943213, 0.025580795927160345, 0.025738054871033575, 0.024338212764289685, 0.025211621805097974, 0.024593271329206638, 0.007241795327927472, 0.007241795327927472, 0.007241795327927472, 0.007241795327927472, 0.007241795327927472, 0.007241795327927472, 0.007241795327927472, 0.007241795327927472, 0.007241795327927472, 0.007241795327927472, 0.007241795327927472, 0.007241795327927472, 0.007241795327927472, 0.007241795327927472, 0.007241795327927472, 0.007241795327927472, 0.007241795327927472, 0.007241795327927472, 0.007241795327927472, 0.007241795327927472, 0.007241795327927472, 0.007241795327927472, 0.007241795327927472, 0.007241795327927472, 0.007241795327927472, 0.007241795327927472, 0.007241795327927472, 0.007241795327927472, 0.007241795327927472, 0.007241795327927472, 0.010241981285294084, 0.015293681550635764, 0.009906742624321738, 0.009904300322437257, 0.00958275092013673, 0.009602177700894292, 0.011468370206124796, 0.012769029679856292, 0.009323352920642665, 0.009230677964590022, 0.01219109479840655, 0.009233774813017041, 0.013193335661213706, 0.015870800457499962, 0.00967344537094533, 0.020337615601172133, 0.01579264197844897, 0.01955595692319975, 0.011780969587971302, 0.009787097138218228, 0.009005048944818688, 0.011820812598983857, 0.010579394807661754, 0.010268696421724675, 0.00977281838609583, 0.010075938488382143, 0.012020707097451516, 0.010050093939009356, 0.009582155804814007, 0.009116624635021088, 0.01264896817521409, 0.01850122785267791, 0.010121437102772048, 0.010446835881242364, 0.010319396874097412, 0.010278080129458411, 0.009959225210164277, 0.010000789317177636, 0.009931929414653621, 0.009866632172820026, 0.009820520774366372], \"Total\": [772.0, 1601.0, 167.0, 582.0, 153.0, 518.0, 568.0, 114.0, 95.0, 352.0, 427.0, 473.0, 103.0, 226.0, 149.0, 66.0, 104.0, 82.0, 253.0, 107.0, 84.0, 36.0, 296.0, 66.0, 107.0, 45.0, 335.0, 66.0, 47.0, 70.0, 772.8099531425005, 352.7894057654463, 253.28733540083283, 156.53742904691936, 146.40455948777367, 129.80092520518983, 98.91320996823724, 518.8182981492145, 109.6126964141029, 107.15771470643388, 335.7760972383354, 106.94322600874145, 568.3618741493457, 16.136673669326928, 427.7569687732446, 137.5015746194008, 1601.2972987051876, 582.0237481371829, 2.712216922984606, 296.73377706510996, 1.9253349903573775, 1.9243322272722805, 1.8826732377400186, 473.6170970340387, 4.799640836961004, 1.4290482807481282, 10.993109318098767, 10.458176525994405, 1.8678058380378304, 133.06486660077962, 4.396417881409198, 61.33837854902104, 21.967161665110368, 36.44632912968649, 29.647519447446324, 21.61886509190941, 226.65466631136496, 52.01350451048386, 70.7580246368742, 31.998543206088573, 39.688901484211115, 24.258935725228216, 16.849350431644364, 18.453119114514077, 26.931655423139496, 40.94532291288525, 14.284828393483888, 14.285517124345361, 31.00000245022767, 14.12664612764112, 11.823049336566882, 11.000471653113811, 13.090597850232564, 17.720039276572297, 64.43608912807457, 9.511833555248026, 84.22081884431852, 33.591964646547225, 9.434200923217013, 7.0016429335397765, 7.081249703800217, 6.49960536060538, 6.457869233289203, 5.295603767861431, 5.503051468624037, 5.28578679623013, 5.745334121811437, 43.0276840524364, 81.03825696641817, 70.8583906156866, 47.74206535663885, 34.68958959260118, 19.911860486157494, 66.08982805159225, 65.08678238142016, 582.0237481371829, 473.6170970340387, 149.04707518309746, 296.73377706510996, 1601.2972987051876, 226.65466631136496, 133.06486660077962, 104.94895543929391, 107.5392123237263, 56.332613981976245, 56.92042882113055, 103.3647511321518, 34.97269803346356, 25.473498504734938, 82.98137647176728, 114.02132279713265, 24.91036387607578, 167.870249829136, 37.880695750897004, 30.583803900058065, 11.960467162799361, 13.011707260484796, 95.15883518447305, 9.400767164486792, 8.844720869343288, 26.261133988698475, 63.342670170241774, 6.224450382538557, 9.624466536381625, 37.02868693870972, 47.481972118648315, 28.18546160859874, 50.747045739754775, 27.89881736215821, 20.460204577136416, 1.8652779454113473, 31.470936711340098, 56.332613981976245, 61.33837854902104, 36.44632912968649, 40.18529324132093, 133.06486660077962, 473.6170970340387, 427.7569687732446, 104.94895543929391, 137.5015746194008, 66.09131878458875, 42.07412635076508, 19.760868911699443, 33.218422441007945, 18.368042708160843, 16.07211093870978, 12.266417170093986, 12.80647561478278, 12.247299680768053, 12.951135299471368, 13.00496887032189, 12.808236581141484, 18.412264981723755, 12.94942272446857, 8.662926412680939, 6.906189584858044, 11.683186355813474, 6.999088909841132, 9.882793698707529, 9.410235795385079, 6.3405399308111585, 6.330893847531674, 4.230286286701833, 5.8470493468057905, 6.157576517803918, 4.95456071612653, 12.011545920870931, 5.293828700585042, 3.993299081661777, 3.2266672010520776, 149.04707518309746, 17.0772552284933, 107.5392123237263, 63.18207613491801, 69.42768922509597, 226.65466631136496, 52.01350451048386, 104.94895543929391, 43.537050469436636, 473.6170970340387, 47.27125845113873, 55.134876580532264, 27.89881736215821, 46.751012740445994, 49.64492402835263, 296.73377706510996, 1601.2972987051876, 24.17604603594542, 20.334885461798144, 32.518749582235934, 15.917315101506935, 19.073862515621812, 9.047046772593271, 14.265086954306412, 7.745643635552275, 7.7374386073017485, 7.726423950113179, 8.251555503222539, 6.934578259338496, 7.605987730523564, 35.59469617579555, 11.151700128476383, 15.133599973111712, 9.534990087370023, 16.833677448177404, 7.815426349833769, 5.180059513371821, 3.827821024652567, 4.072449951674819, 6.596531969256082, 3.9793930364429264, 4.560742532058629, 2.701657930576858, 22.881659387844646, 8.82952658379208, 2.7081915807699337, 2.7046618465557075, 13.158501352119124, 9.668765560033533, 49.64492402835263, 46.751012740445994, 25.351269975756704, 55.134876580532264, 20.519537639048202, 61.33837854902104, 43.537050469436636, 56.332613981976245, 226.65466631136496, 21.10816866927179, 153.92260024163383, 69.42768922509597, 66.14901381175548, 473.6170970340387, 11.52831420014095, 8.933656230052689, 22.13511120031508, 8.882394094831975, 13.020533566523227, 6.883372304994664, 5.224869507355996, 27.47646097795706, 4.015453805812842, 3.9895840506402607, 3.863862849480482, 17.961806996736964, 3.8774898863814564, 3.918117330328688, 4.247346413934762, 7.242010307652809, 4.4189147166835046, 24.347480542844174, 7.050439648808845, 16.31917252262869, 27.27755904805885, 20.540511293077174, 3.105137782778343, 5.865394189105039, 5.562417110760533, 11.814061300942653, 2.679548718600486, 2.704669516652272, 7.490496726816063, 5.415311091312559, 19.444793657789987, 66.08982805159225, 19.337502806956, 56.92042882113055, 19.033352578500782, 17.12144893163002, 47.481972118648315, 104.94895543929391, 107.5392123237263, 473.6170970340387, 226.65466631136496, 133.06486660077962, 16.895830786491974, 43.0276840524364, 36.74496044986871, 568.3618741493457, 50.747045739754775, 1601.2972987051876, 47.27125845113873, 39.18665680462633, 16.02803214460512, 29.647519447446324, 21.967161665110368, 153.92260024163383, 14.138543623227593, 7.514819384575542, 21.61886509190941, 3.578918521624143, 3.880725579477625, 2.931457761378585, 3.659284737684848, 2.9347223307758856, 2.8752345614965438, 22.23268044538874, 2.9284720971374214, 2.918859311683437, 40.18529324132093, 10.458176525994405, 3.340193914767544, 8.824877758699419, 4.799640836961004, 10.402426183379198, 6.4968340566825615, 1.9400970525210308, 8.51876744928924, 7.000064887751587, 8.228767409884327, 5.57694699029579, 2.2880121999471514, 2.699760634028238, 10.694236685193568, 52.01350451048386, 296.73377706510996, 133.06486660077962, 473.6170970340387, 1601.2972987051876, 55.134876580532264, 69.42768922509597, 45.879269781552395, 51.233154845995315, 19.839262840939007, 26.203047850263157, 33.944007637809186, 12.875050023489795, 8.653957752075899, 10.84392729169796, 7.579369834912113, 7.674176248715863, 7.750740512879207, 6.586989597355934, 5.497356202495591, 4.551730726597475, 3.4771658227023843, 2.4869092934585515, 7.023500633984076, 8.701211933428759, 8.786414201109332, 10.993109318098767, 5.57694699029579, 2.5387076398880586, 8.228767409884327, 51.233154845995315, 1.8810955661155495, 6.4968340566825615, 7.000064887751587, 65.08678238142016, 3.8257789700606475, 15.432700384990907, 1.4252447147696212, 1.4257017863268648, 4.579931271821699, 70.8583906156866, 81.03825696641817, 52.01350451048386, 149.04707518309746, 226.65466631136496, 45.879269781552395, 133.06486660077962, 1601.2972987051876, 69.42768922509597, 64.43608912807457, 296.73377706510996, 473.6170970340387, 26.034135567684345, 13.969327364698536, 8.953433531418233, 8.974783576687065, 5.313646787509967, 5.168599494893706, 5.1760854852215665, 5.058572550240396, 3.6952614983562193, 32.20524238977915, 3.27808919279541, 3.2822547287729713, 8.832610161488454, 3.2908689770910526, 3.291422569398334, 3.2957494806835417, 3.759367095979826, 31.470936711340098, 5.986345362271895, 5.996292504850551, 35.339411631819914, 1.7946440975691889, 5.873152572168457, 8.400521603291075, 8.249193713525928, 13.158501352119124, 1.3842417721147109, 1.3846995708315013, 1.3848777729250947, 1.3858866288980143, 9.852424288728127, 8.701211933428759, 4.6587477512690985, 65.08678238142016, 35.59469617579555, 226.65466631136496, 40.18529324132093, 107.5392123237263, 63.18207613491801, 56.332613981976245, 45.879269781552395, 69.42768922509597, 43.537050469436636, 473.6170970340387, 12.732908769587986, 15.526032874165272, 14.34177038015847, 4.595463209698982, 6.277839413798646, 6.323699994204506, 12.790821018032052, 8.711164541229467, 15.886014843083965, 16.23633599490688, 5.391081396510102, 5.370918079262724, 5.398857296243346, 7.840863669923377, 5.750571340679218, 5.334822132002028, 5.242725733405287, 7.212227392206447, 3.1989945090725502, 3.139627374728999, 3.179365133339444, 3.2048832571318306, 3.194094933144743, 8.900770371014858, 3.1880128163899686, 3.136558481553127, 3.1793044896836156, 3.148339754854816, 3.1603965466217074, 3.152683297854545, 9.852424288728127, 25.351269975756704, 8.400521603291075, 61.33837854902104, 6.541149528035929, 46.751012740445994, 10.814856050389128, 3.6359301149886614, 226.65466631136496, 69.42768922509597, 43.537050469436636, 45.51474371598003, 9.040069564043389, 7.914643766017407, 16.17868609363345, 66.14901381175548, 8.284120579417513, 3.6093964811029564, 8.317915586713518, 9.984313063300036, 45.879269781552395, 6.758458287094659, 3.4503913362178174, 17.0772552284933, 1.9506058001625848, 63.18207613491801, 1.9627506362849327, 1.9600487030053166, 1.460685054538926, 1.4602173668076612, 1.4642765989764306, 3.7161796814030774, 1.4696948810537147, 1.8890651974923094, 9.668765560033533, 1.8989319669437668, 15.133599973111712, 36.44632912968649, 37.02868693870972, 3.5008778522435913, 2.233920160490643, 13.470577822012425, 47.27125845113873, 153.92260024163383, 20.519537639048202, 49.64492402835263, 69.42768922509597, 107.5392123237263, 226.65466631136496, 296.73377706510996, 35.59469617579555, 473.6170970340387, 50.747045739754775, 17.47059560574641, 10.97437865895201, 8.588625685286225, 7.752967523027329, 5.4282032281515935, 4.996906041304246, 4.594481887039781, 5.628084399342629, 3.818711633146016, 2.9278555714484913, 2.924360361499061, 5.567415773440522, 1.6642002941883227, 2.2680072997032976, 2.305488036067601, 6.541149528035929, 35.339411631819914, 1.3192066118347407, 1.3192006806253755, 1.3191997258453314, 1.3191904963049048, 1.3191895415248607, 1.3191833209882093, 27.27755904805885, 34.68958959260118, 2.7875162366124044, 2.1831790455344606, 1.893443385317723, 1.9409485652939331, 20.01882722145257, 8.824877758699419, 7.050439648808845, 104.94895543929391, 84.22081884431852, 21.61886509190941, 56.92042882113055, 51.233154845995315, 63.342670170241774, 33.591964646547225, 153.92260024163383, 473.6170970340387, 1601.2972987051876, 66.14901381175548, 133.06486660077962, 8.347360969985397, 6.978973074898095, 5.636688567051168, 36.74496044986871, 2.7361522785187877, 2.094799411635728, 2.080443800453821, 2.0860994536849518, 13.470577822012425, 5.301211757050338, 1.7218778036606877, 1.7378818582727655, 1.3380217610383782, 1.3423156073499016, 1.3467245932379313, 1.3443667232664862, 1.346475400656674, 1.3466388893190757, 1.34392760869668, 1.3505783517165857, 1.3515863135339166, 1.359754530482107, 1.3606014490632345, 1.3704062768311824, 1.370282232701136, 3.55306642449816, 2.2460943734512826, 1.7716930487733145, 1.3808471556148407, 5.717205914653868, 1.8536529852160784, 5.750571340679218, 22.13511120031508, 5.3392874917077595, 107.15771470643388, 69.42768922509597, 11.814061300942653, 7.521867525135412, 226.65466631136496, 36.44632912968649, 47.481972118648315, 104.94895543929391, 8.711164541229467, 20.519537639048202, 55.134876580532264, 153.92260024163383, 84.22081884431852, 1601.2972987051876, 47.27125845113873, 6.060433013276467, 8.400521603291075, 1.8652779454113473, 95.15883518447305, 17.720039276572297, 61.33837854902104, 167.870249829136, 1.901723446239578, 46.751012740445994, 7.840863669923377, 1.9246002243969582, 1.722886391308665, 1.9418174650322115, 2.5415639454839964, 37.880695750897004, 3.0745374530218403, 2.3754601736367364, 3.1702517094829608, 3.498069941581998, 30.583803900058065, 3.0517798688786395, 3.0408627391188854, 43.537050469436636, 7.212227392206447, 3.077277503079683, 3.139627374728999, 2.699760634028238, 1.3807448679460854, 3.5113774414141856, 14.12664612764112, 8.900770371014858, 82.98137647176728, 5.242725733405287, 14.285517124345361, 47.481972118648315, 114.02132279713265, 103.3647511321518, 11.823049336566882, 63.342670170241774, 51.233154845995315, 24.91036387607578, 36.44632912968649, 226.65466631136496, 296.73377706510996, 50.747045739754775, 26.261133988698475, 65.08678238142016, 473.6170970340387, 582.0237481371829, 66.08982805159225, 1601.2972987051876, 2.8304201796124184, 4.396417881409198, 4.714930015117863, 6.730039629248216, 2.8460721120383763, 2.84915359879305, 4.817322066357519, 3.2500006410067215, 21.10816866927179, 2.8985321293808175, 2.9025313456292214, 3.324321386542243, 3.3398530283785113, 1.3816281613555705, 4.189003532434737, 2.699760634028238, 2.25678799098453, 2.2880121999471514, 1.3949002878156136, 1.3920433722660157, 1.3930147076486834, 4.616386399698912, 36.44632912968649, 1.395000592385277, 1.3807448679460854, 5.373478991658543, 3.074075620396869, 11.553517897159427, 2.321407643128463, 1.3912860511795586, 5.984221798827483, 7.433150184835921, 40.94532291288525, 10.694236685193568, 33.591964646547225, 84.22081884431852, 26.931655423139496, 11.814061300942653, 69.42768922509597, 70.8583906156866, 16.895830786491974, 64.43608912807457, 473.6170970340387, 149.04707518309746, 296.73377706510996, 31.00000245022767, 13.197689593567754, 9.531876803767174, 9.607335523556362, 3.4392254816692125, 2.10844499286786, 3.435987628340087, 1.7502144922253289, 2.1970358991273113, 1.774117714181519, 2.2254354161264636, 2.1983471426942236, 1.7881486677609166, 3.5236954774764833, 2.226083030913594, 2.210763233786615, 1.800621359924966, 3.9439723489926535, 3.602093337837197, 2.2280037988883303, 2.233920160490643, 1.785334111162874, 8.900770371014858, 7.823950994210219, 1.7795962803595093, 2.2794913760606947, 2.3611020513837606, 3.9793930364429264, 3.873529305533533, 1.8024456820372736, 4.324631623230907, 3.718905962686027, 4.006928465250285, 10.814856050389128, 7.521867525135412, 20.519537639048202, 22.23268044538874, 12.94942272446857, 49.64492402835263, 9.882793698707529, 55.134876580532264, 51.233154845995315, 69.42768922509597, 18.412264981723755, 7.008827835500266, 4.374244634269232, 5.293828700585042, 149.04707518309746, 32.518749582235934, 473.6170970340387, 22.881659387844646, 25.351269975756704, 43.537050469436636, 104.94895543929391, 19.444793657789987, 19.337502806956, 1.7182032852475366, 2.5415639454839964, 1.747990086215352, 1.722886391308665, 1.8230466859859111, 1.83217315356923, 5.057580124216247, 0.9742985544472312, 0.9743575033071517, 0.9743891497067514, 0.9741964721123174, 0.9741964721123174, 0.9742143298964459, 0.9742914693350517, 0.9743090225204543, 0.9743148201769889, 0.974374533523588, 0.9744099443863184, 0.974188641827468, 0.974188641827468, 0.9745075436453448, 0.9741975699693998, 0.9741975699693998, 0.9741975699693998, 0.974270145158275, 0.9742036147611336, 0.9742036147611336, 0.9742036147611336, 104.94895543929391, 5.562417110760533, 0.9742036147611336, 16.31917252262869, 19.033352578500782, 66.08982805159225, 43.0276840524364, 107.5392123237263, 51.233154845995315, 17.12144893163002, 24.347480542844174, 56.92042882113055, 20.540511293077174, 47.27125845113873, 47.481972118648315, 473.6170970340387, 50.747045739754775, 109.6126964141029, 568.3618741493457, 2.23686517797287, 2.2448871252734657, 1.3497755197165082, 1.3559115550318908, 1.369151823812169, 1.3694658136116877, 1.3730317418364353, 7.242010307652809, 1.377222854906365, 1.8652779454113473, 1.387718008601453, 1.3948441197809918, 1.3972161527304692, 1.3971932671823124, 1.8826732377400186, 1.403699785194385, 1.4187107263420498, 1.4290482807481282, 1.417470557316418, 1.9243322272722805, 1.9253349903573775, 3.105137782778343, 4.247346413934762, 5.865394189105039, 1.8290128641093357, 0.9741822667446686, 0.974183248470371, 0.974183248470371, 0.974183248470371, 0.974183248470371, 2.679548718600486, 1.8678058380378304, 22.881659387844646, 13.020533566523227, 5.415311091312559, 7.490496726816063, 3.863862849480482, 7.050439648808845, 24.91036387607578, 95.15883518447305, 114.02132279713265, 37.880695750897004, 167.870249829136, 47.481972118648315, 82.98137647176728, 49.64492402835263, 473.6170970340387, 6.224450382538557, 17.961806996736964, 28.18546160859874, 133.06486660077962, 13.011707260484796, 22.23268044538874, 63.342670170241774, 103.3647511321518, 137.5015746194008, 30.583803900058065, 518.8182981492145, 1.8652779454113473, 1.4481545618236495, 2.10844499286786, 0.9741822667446686, 0.974183248470371, 0.974183248470371, 0.974183248470371, 0.974183248470371, 0.9741844953285196, 0.974185687540439, 0.974185687540439, 0.9741871806350996, 0.9741874298616469, 0.9741874298616469, 0.9741874298616469, 0.9741874298616469, 0.9741874298616469, 0.9741874298616469, 0.9741874298616469, 0.9741874640248079, 0.9741874640248079, 0.9741877378963569, 0.9741877378963569, 0.9741881116394521, 0.9741881266105071, 0.9741881266105071, 0.974188641827468, 0.974188641827468, 0.9741886490673507, 0.9741894803291287, 3.5236954774764833, 2.2280037988883303, 4.324631623230907, 2.210763233786615, 3.435987628340087, 2.1983471426942236, 2.2794913760606947, 3.602093337837197, 2.1970358991273113, 6.224450382538557, 3.9439723489926535, 2.226083030913594, 3.4392254816692125, 13.011707260484796, 2.2254354161264636, 2.776519458694555, 114.02132279713265, 1.4204394617509164, 37.880695750897004, 2.371819095422432, 24.91036387607578, 9.624466536381625, 4.95456071612653, 2.321407643128463, 9.400767164486792, 11.960467162799361, 1.4190102721030748, 10.814856050389128, 95.15883518447305, 47.481972118648315, 167.870249829136, 28.18546160859874, 20.460204577136416, 82.98137647176728, 20.519537639048202, 22.23268044538874, 16.895830786491974, 12.94942272446857, 69.42768922509597, 26.261133988698475, 37.02868693870972, 56.332613981976245, 103.3647511321518, 30.583803900058065, 473.6170970340387, 149.04707518309746, 133.06486660077962, 50.747045739754775, 63.342670170241774, 34.97269803346356, 427.7569687732446, 518.8182981492145, 0.9741822667446686, 0.974183248470371, 0.974183248470371, 0.974183248470371, 0.974183248470371, 0.9741844953285196, 0.974185687540439, 0.974185687540439, 0.9741871806350996, 0.9741874298616469, 0.9741874298616469, 0.9741874298616469, 0.9741874298616469, 0.9741874298616469, 0.9741874298616469, 0.9741874298616469, 0.9741874640248079, 0.9741874640248079, 0.9741877378963569, 0.9741877378963569, 0.9741881116394521, 0.9741881266105071, 0.9741881266105071, 0.974188641827468, 0.974188641827468, 0.9741886490673507, 0.9741894803291287, 0.9741905387017524, 0.9741911915175222, 0.9741911915175222, 1.4190102721030748, 2.321407643128463, 1.4204394617509164, 1.4352599178710115, 1.4306020050868424, 1.4515812630438745, 1.9284854549716717, 2.371819095422432, 1.446790363717404, 1.4320333880310856, 2.375173626709078, 1.888972416330031, 5.745334121811437, 11.814061300942653, 2.7286256002998956, 64.43608912807457, 26.931655423139496, 84.22081884431852, 9.511833555248026, 3.966834756934294, 2.735381312210773, 11.000471653113811, 7.081249703800217, 7.0016429335397765, 5.28578679623013, 6.457869233289203, 18.453119114514077, 6.49960536060538, 5.295603767861431, 3.9490671201195675, 39.688901484211115, 1601.2972987051876, 10.694236685193568, 16.849350431644364, 14.284828393483888, 31.998543206088573, 27.47646097795706, 56.332613981976245, 133.06486660077962, 26.261133988698475, 33.591964646547225], \"Category\": [\"Default\", \"Default\", \"Default\", \"Default\", \"Default\", \"Default\", \"Default\", \"Default\", \"Default\", \"Default\", \"Default\", \"Default\", \"Default\", \"Default\", \"Default\", \"Default\", \"Default\", \"Default\", \"Default\", \"Default\", \"Default\", \"Default\", \"Default\", \"Default\", \"Default\", \"Default\", \"Default\", \"Default\", \"Default\", \"Default\", \"Topic1\", \"Topic1\", \"Topic1\", \"Topic1\", \"Topic1\", \"Topic1\", \"Topic1\", \"Topic1\", \"Topic1\", \"Topic1\", \"Topic1\", \"Topic1\", \"Topic1\", \"Topic1\", \"Topic1\", \"Topic1\", \"Topic1\", \"Topic1\", \"Topic1\", \"Topic1\", \"Topic1\", \"Topic1\", \"Topic1\", \"Topic1\", \"Topic1\", \"Topic1\", \"Topic1\", \"Topic1\", \"Topic1\", \"Topic1\", \"Topic1\", \"Topic1\", \"Topic1\", \"Topic1\", \"Topic1\", \"Topic1\", \"Topic1\", \"Topic1\", \"Topic2\", \"Topic2\", \"Topic2\", \"Topic2\", \"Topic2\", \"Topic2\", \"Topic2\", \"Topic2\", \"Topic2\", \"Topic2\", \"Topic2\", \"Topic2\", \"Topic2\", \"Topic2\", \"Topic2\", \"Topic2\", \"Topic2\", \"Topic2\", \"Topic2\", \"Topic2\", \"Topic2\", \"Topic2\", \"Topic2\", \"Topic2\", \"Topic2\", \"Topic2\", \"Topic2\", \"Topic2\", \"Topic2\", \"Topic2\", \"Topic2\", \"Topic2\", \"Topic2\", \"Topic2\", \"Topic2\", \"Topic2\", \"Topic2\", \"Topic2\", \"Topic2\", \"Topic2\", \"Topic2\", \"Topic2\", \"Topic2\", \"Topic2\", \"Topic2\", \"Topic2\", \"Topic2\", \"Topic2\", \"Topic3\", \"Topic3\", \"Topic3\", \"Topic3\", \"Topic3\", \"Topic3\", \"Topic3\", \"Topic3\", \"Topic3\", \"Topic3\", \"Topic3\", \"Topic3\", \"Topic3\", \"Topic3\", \"Topic3\", \"Topic3\", \"Topic3\", \"Topic3\", \"Topic3\", \"Topic3\", \"Topic3\", \"Topic3\", \"Topic3\", \"Topic3\", \"Topic3\", \"Topic3\", \"Topic3\", \"Topic3\", \"Topic3\", \"Topic3\", \"Topic3\", \"Topic3\", \"Topic3\", \"Topic3\", \"Topic3\", \"Topic4\", \"Topic4\", \"Topic4\", \"Topic4\", \"Topic4\", \"Topic4\", \"Topic4\", \"Topic4\", \"Topic4\", \"Topic4\", \"Topic4\", \"Topic4\", \"Topic4\", \"Topic4\", \"Topic4\", \"Topic4\", \"Topic4\", \"Topic4\", \"Topic4\", \"Topic4\", \"Topic4\", \"Topic4\", \"Topic4\", \"Topic4\", \"Topic4\", \"Topic4\", \"Topic4\", \"Topic4\", \"Topic4\", \"Topic4\", \"Topic4\", \"Topic4\", \"Topic4\", \"Topic4\", \"Topic4\", \"Topic4\", \"Topic4\", \"Topic4\", \"Topic4\", \"Topic4\", \"Topic4\", \"Topic4\", \"Topic4\", \"Topic4\", \"Topic4\", \"Topic4\", \"Topic4\", \"Topic5\", \"Topic5\", \"Topic5\", \"Topic5\", \"Topic5\", \"Topic5\", \"Topic5\", \"Topic5\", \"Topic5\", \"Topic5\", \"Topic5\", \"Topic5\", \"Topic5\", \"Topic5\", \"Topic5\", \"Topic5\", \"Topic5\", \"Topic5\", \"Topic5\", \"Topic5\", \"Topic5\", \"Topic5\", \"Topic5\", \"Topic5\", \"Topic5\", \"Topic5\", \"Topic5\", \"Topic5\", \"Topic5\", \"Topic5\", \"Topic5\", \"Topic5\", \"Topic5\", \"Topic5\", \"Topic5\", \"Topic5\", \"Topic5\", \"Topic5\", \"Topic5\", \"Topic5\", \"Topic5\", \"Topic5\", \"Topic5\", \"Topic5\", \"Topic5\", \"Topic5\", \"Topic6\", \"Topic6\", \"Topic6\", \"Topic6\", \"Topic6\", \"Topic6\", \"Topic6\", \"Topic6\", \"Topic6\", \"Topic6\", \"Topic6\", \"Topic6\", \"Topic6\", \"Topic6\", \"Topic6\", \"Topic6\", \"Topic6\", \"Topic6\", \"Topic6\", \"Topic6\", \"Topic6\", \"Topic6\", \"Topic6\", \"Topic6\", \"Topic6\", \"Topic6\", \"Topic6\", \"Topic6\", \"Topic6\", \"Topic6\", \"Topic6\", \"Topic6\", \"Topic6\", \"Topic6\", \"Topic6\", \"Topic6\", \"Topic6\", \"Topic6\", \"Topic6\", \"Topic6\", \"Topic6\", \"Topic6\", \"Topic6\", \"Topic6\", \"Topic6\", \"Topic6\", \"Topic6\", \"Topic6\", \"Topic6\", \"Topic7\", \"Topic7\", \"Topic7\", \"Topic7\", \"Topic7\", \"Topic7\", \"Topic7\", \"Topic7\", \"Topic7\", \"Topic7\", \"Topic7\", \"Topic7\", \"Topic7\", \"Topic7\", \"Topic7\", \"Topic7\", \"Topic7\", \"Topic7\", \"Topic7\", \"Topic7\", \"Topic7\", \"Topic7\", \"Topic7\", \"Topic7\", \"Topic7\", \"Topic7\", \"Topic7\", \"Topic7\", \"Topic7\", \"Topic7\", \"Topic7\", \"Topic7\", \"Topic7\", \"Topic7\", \"Topic7\", \"Topic7\", \"Topic7\", \"Topic7\", \"Topic7\", \"Topic7\", \"Topic7\", \"Topic8\", \"Topic8\", \"Topic8\", \"Topic8\", \"Topic8\", \"Topic8\", \"Topic8\", \"Topic8\", \"Topic8\", \"Topic8\", \"Topic8\", \"Topic8\", \"Topic8\", \"Topic8\", \"Topic8\", \"Topic8\", \"Topic8\", \"Topic8\", \"Topic8\", \"Topic8\", \"Topic8\", \"Topic8\", \"Topic8\", \"Topic8\", \"Topic8\", \"Topic8\", \"Topic8\", \"Topic8\", \"Topic8\", \"Topic8\", \"Topic8\", \"Topic8\", \"Topic8\", \"Topic8\", \"Topic8\", \"Topic8\", \"Topic8\", \"Topic8\", \"Topic8\", \"Topic8\", \"Topic8\", \"Topic8\", \"Topic8\", \"Topic9\", \"Topic9\", \"Topic9\", \"Topic9\", \"Topic9\", \"Topic9\", \"Topic9\", \"Topic9\", \"Topic9\", \"Topic9\", \"Topic9\", \"Topic9\", \"Topic9\", \"Topic9\", \"Topic9\", \"Topic9\", \"Topic9\", \"Topic9\", \"Topic9\", \"Topic9\", \"Topic9\", \"Topic9\", \"Topic9\", \"Topic9\", \"Topic9\", \"Topic9\", \"Topic9\", \"Topic9\", \"Topic9\", \"Topic9\", \"Topic9\", \"Topic9\", \"Topic9\", \"Topic9\", \"Topic9\", \"Topic9\", \"Topic9\", \"Topic9\", \"Topic9\", \"Topic9\", \"Topic9\", \"Topic9\", \"Topic9\", \"Topic9\", \"Topic10\", \"Topic10\", \"Topic10\", \"Topic10\", \"Topic10\", \"Topic10\", \"Topic10\", \"Topic10\", \"Topic10\", \"Topic10\", \"Topic10\", \"Topic10\", \"Topic10\", \"Topic10\", \"Topic10\", \"Topic10\", \"Topic10\", \"Topic10\", \"Topic10\", \"Topic10\", \"Topic10\", \"Topic10\", \"Topic10\", \"Topic10\", \"Topic10\", \"Topic10\", \"Topic10\", \"Topic10\", \"Topic10\", \"Topic10\", \"Topic10\", \"Topic10\", \"Topic10\", \"Topic10\", \"Topic10\", \"Topic10\", \"Topic10\", \"Topic10\", \"Topic10\", \"Topic10\", \"Topic10\", \"Topic11\", \"Topic11\", \"Topic11\", \"Topic11\", \"Topic11\", \"Topic11\", \"Topic11\", \"Topic11\", \"Topic11\", \"Topic11\", \"Topic11\", \"Topic11\", \"Topic11\", \"Topic11\", \"Topic11\", \"Topic11\", \"Topic11\", \"Topic11\", \"Topic11\", \"Topic11\", \"Topic11\", \"Topic11\", \"Topic11\", \"Topic11\", \"Topic11\", \"Topic11\", \"Topic11\", \"Topic11\", \"Topic11\", \"Topic11\", \"Topic11\", \"Topic11\", \"Topic11\", \"Topic11\", \"Topic11\", \"Topic11\", \"Topic11\", \"Topic11\", \"Topic11\", \"Topic11\", \"Topic11\", \"Topic11\", \"Topic12\", \"Topic12\", \"Topic12\", \"Topic12\", \"Topic12\", \"Topic12\", \"Topic12\", \"Topic12\", \"Topic12\", \"Topic12\", \"Topic12\", \"Topic12\", \"Topic12\", \"Topic12\", \"Topic12\", \"Topic12\", \"Topic12\", \"Topic12\", \"Topic12\", \"Topic12\", \"Topic12\", \"Topic12\", \"Topic12\", \"Topic12\", \"Topic12\", \"Topic12\", \"Topic12\", \"Topic12\", \"Topic12\", \"Topic12\", \"Topic12\", \"Topic12\", \"Topic12\", \"Topic12\", \"Topic12\", \"Topic12\", \"Topic12\", \"Topic12\", \"Topic12\", \"Topic12\", \"Topic12\", \"Topic12\", \"Topic12\", \"Topic12\", \"Topic13\", \"Topic13\", \"Topic13\", \"Topic13\", \"Topic13\", \"Topic13\", \"Topic13\", \"Topic13\", \"Topic13\", \"Topic13\", \"Topic13\", \"Topic13\", \"Topic13\", \"Topic13\", \"Topic13\", \"Topic13\", \"Topic13\", \"Topic13\", \"Topic13\", \"Topic13\", \"Topic13\", \"Topic13\", \"Topic13\", \"Topic13\", \"Topic13\", \"Topic13\", \"Topic13\", \"Topic13\", \"Topic13\", \"Topic13\", \"Topic13\", \"Topic13\", \"Topic13\", \"Topic13\", \"Topic13\", \"Topic13\", \"Topic13\", \"Topic13\", \"Topic13\", \"Topic13\", \"Topic13\", \"Topic13\", \"Topic13\", \"Topic13\", \"Topic13\", \"Topic13\", \"Topic13\", \"Topic13\", \"Topic14\", \"Topic14\", \"Topic14\", \"Topic14\", \"Topic14\", \"Topic14\", \"Topic14\", \"Topic14\", \"Topic14\", \"Topic14\", \"Topic14\", \"Topic14\", \"Topic14\", \"Topic14\", \"Topic14\", \"Topic14\", \"Topic14\", \"Topic14\", \"Topic14\", \"Topic14\", \"Topic14\", \"Topic14\", \"Topic14\", \"Topic14\", \"Topic14\", \"Topic14\", \"Topic14\", \"Topic14\", \"Topic14\", \"Topic14\", \"Topic14\", \"Topic14\", \"Topic14\", \"Topic14\", \"Topic14\", \"Topic14\", \"Topic14\", \"Topic14\", \"Topic14\", \"Topic14\", \"Topic14\", \"Topic14\", \"Topic14\", \"Topic14\", \"Topic14\", \"Topic14\", \"Topic14\", \"Topic14\", \"Topic14\", \"Topic14\", \"Topic14\", \"Topic14\", \"Topic15\", \"Topic15\", \"Topic15\", \"Topic15\", \"Topic15\", \"Topic15\", \"Topic15\", \"Topic15\", \"Topic15\", \"Topic15\", \"Topic15\", \"Topic15\", \"Topic15\", \"Topic15\", \"Topic15\", \"Topic15\", \"Topic15\", \"Topic15\", \"Topic15\", \"Topic15\", \"Topic15\", \"Topic15\", \"Topic15\", \"Topic15\", \"Topic15\", \"Topic15\", \"Topic15\", \"Topic15\", \"Topic15\", \"Topic15\", \"Topic15\", \"Topic15\", \"Topic15\", \"Topic15\", \"Topic15\", \"Topic15\", \"Topic15\", \"Topic15\", \"Topic15\", \"Topic15\", \"Topic15\", \"Topic15\", \"Topic15\", \"Topic15\", \"Topic15\", \"Topic15\", \"Topic15\", \"Topic16\", \"Topic16\", \"Topic16\", \"Topic16\", \"Topic16\", \"Topic16\", \"Topic16\", \"Topic16\", \"Topic16\", \"Topic16\", \"Topic16\", \"Topic16\", \"Topic16\", \"Topic16\", \"Topic16\", \"Topic16\", \"Topic16\", \"Topic16\", \"Topic16\", \"Topic16\", \"Topic16\", \"Topic16\", \"Topic16\", \"Topic16\", \"Topic16\", \"Topic16\", \"Topic16\", \"Topic16\", \"Topic16\", \"Topic16\", \"Topic16\", \"Topic16\", \"Topic16\", \"Topic16\", \"Topic16\", \"Topic16\", \"Topic16\", \"Topic16\", \"Topic16\", \"Topic16\", \"Topic16\", \"Topic16\", \"Topic16\", \"Topic16\", \"Topic16\", \"Topic16\", \"Topic16\", \"Topic16\", \"Topic16\", \"Topic16\", \"Topic16\", \"Topic16\", \"Topic17\", \"Topic17\", \"Topic17\", \"Topic17\", \"Topic17\", \"Topic17\", \"Topic17\", \"Topic17\", \"Topic17\", \"Topic17\", \"Topic17\", \"Topic17\", \"Topic17\", \"Topic17\", \"Topic17\", \"Topic17\", \"Topic17\", \"Topic17\", \"Topic17\", \"Topic17\", \"Topic17\", \"Topic17\", \"Topic17\", \"Topic17\", \"Topic17\", \"Topic17\", \"Topic17\", \"Topic17\", \"Topic17\", \"Topic17\", \"Topic17\", \"Topic17\", \"Topic17\", \"Topic17\", \"Topic17\", \"Topic17\", \"Topic17\", \"Topic17\", \"Topic17\", \"Topic17\", \"Topic17\", \"Topic17\", \"Topic17\", \"Topic17\", \"Topic17\", \"Topic17\", \"Topic17\", \"Topic17\", \"Topic17\", \"Topic18\", \"Topic18\", \"Topic18\", \"Topic18\", \"Topic18\", \"Topic18\", \"Topic18\", \"Topic18\", \"Topic18\", \"Topic18\", \"Topic18\", \"Topic18\", \"Topic18\", \"Topic18\", \"Topic18\", \"Topic18\", \"Topic18\", \"Topic18\", \"Topic18\", \"Topic18\", \"Topic18\", \"Topic18\", \"Topic18\", \"Topic18\", \"Topic18\", \"Topic18\", \"Topic18\", \"Topic18\", \"Topic18\", \"Topic18\", \"Topic18\", \"Topic18\", \"Topic18\", \"Topic18\", \"Topic18\", \"Topic18\", \"Topic18\", \"Topic18\", \"Topic18\", \"Topic18\", \"Topic18\", \"Topic18\", \"Topic18\", \"Topic18\", \"Topic18\", \"Topic18\", \"Topic18\", \"Topic18\", \"Topic18\", \"Topic18\", \"Topic18\", \"Topic18\", \"Topic18\", \"Topic18\", \"Topic18\", \"Topic18\", \"Topic18\", \"Topic18\", \"Topic19\", \"Topic19\", \"Topic19\", \"Topic19\", \"Topic19\", \"Topic19\", \"Topic19\", \"Topic19\", \"Topic19\", \"Topic19\", \"Topic19\", \"Topic19\", \"Topic19\", \"Topic19\", \"Topic19\", \"Topic19\", \"Topic19\", \"Topic19\", \"Topic19\", \"Topic19\", \"Topic19\", \"Topic19\", \"Topic19\", \"Topic19\", \"Topic19\", \"Topic19\", \"Topic19\", \"Topic19\", \"Topic19\", \"Topic19\", \"Topic19\", \"Topic19\", \"Topic19\", \"Topic19\", \"Topic19\", \"Topic19\", \"Topic19\", \"Topic19\", \"Topic19\", \"Topic19\", \"Topic19\", \"Topic19\", \"Topic19\", \"Topic19\", \"Topic19\", \"Topic19\", \"Topic19\", \"Topic19\", \"Topic19\", \"Topic19\", \"Topic19\", \"Topic19\", \"Topic19\", \"Topic19\", \"Topic19\", \"Topic19\", \"Topic19\", \"Topic19\", \"Topic19\", \"Topic19\", \"Topic19\", \"Topic19\", \"Topic19\", \"Topic19\", \"Topic19\", \"Topic19\", \"Topic19\", \"Topic19\", \"Topic19\", \"Topic19\", \"Topic19\", \"Topic19\", \"Topic19\", \"Topic19\", \"Topic19\", \"Topic19\", \"Topic19\", \"Topic19\", \"Topic19\", \"Topic19\", \"Topic19\", \"Topic19\", \"Topic20\", \"Topic20\", \"Topic20\", \"Topic20\", \"Topic20\", \"Topic20\", \"Topic20\", \"Topic20\", \"Topic20\", \"Topic20\", \"Topic20\", \"Topic20\", \"Topic20\", \"Topic20\", \"Topic20\", \"Topic20\", \"Topic20\", \"Topic20\", \"Topic20\", \"Topic20\", \"Topic20\", \"Topic20\", \"Topic20\", \"Topic20\", \"Topic20\", \"Topic20\", \"Topic20\", \"Topic20\", \"Topic20\", \"Topic20\", \"Topic20\", \"Topic20\", \"Topic20\", \"Topic20\", \"Topic20\", \"Topic20\", \"Topic20\", \"Topic20\", \"Topic20\", \"Topic20\", \"Topic20\", \"Topic20\", \"Topic20\", \"Topic20\", \"Topic20\", \"Topic20\", \"Topic20\", \"Topic20\", \"Topic20\", \"Topic20\", \"Topic20\", \"Topic20\", \"Topic20\", \"Topic20\", \"Topic20\", \"Topic20\", \"Topic20\", \"Topic20\", \"Topic20\", \"Topic20\", \"Topic20\", \"Topic20\", \"Topic20\", \"Topic20\", \"Topic20\", \"Topic20\", \"Topic20\", \"Topic20\", \"Topic20\", \"Topic20\", \"Topic20\"], \"logprob\": [30.0, 29.0, 28.0, 27.0, 26.0, 25.0, 24.0, 23.0, 22.0, 21.0, 20.0, 19.0, 18.0, 17.0, 16.0, 15.0, 14.0, 13.0, 12.0, 11.0, 10.0, 9.0, 8.0, 7.0, 6.0, 5.0, 4.0, 3.0, 2.0, 1.0, -2.1617000102996826, -2.947200059890747, -3.279599905014038, -3.763000011444092, -3.8303000926971436, -3.9514999389648438, -4.225500106811523, -2.570199966430664, -4.137599945068359, -4.166500091552734, -3.032599925994873, -4.182700157165527, -2.515399932861328, -6.087200164794922, -2.8106000423431396, -3.979599952697754, -1.5306999683380127, -2.6387999057769775, -8.22070026397705, -3.5689001083374023, -8.798999786376953, -8.800100326538086, -8.846500396728516, -3.5151000022888184, -8.208200454711914, -9.467100143432617, -7.436699867248535, -7.554800033569336, -9.430999755859375, -5.203000068664551, -8.66819953918457, -6.4644999504089355, -7.476500034332275, -7.476900100708008, -7.672699928283691, -7.873300075531006, -7.691699981689453, -8.201600074768066, -3.235300064086914, -4.046599864959717, -3.8331000804901123, -4.333600044250488, -4.718299865722656, -4.630099773406982, -4.255099773406982, -3.8506999015808105, -4.919000148773193, -4.920000076293945, -4.1483001708984375, -4.939799785614014, -5.121600151062012, -5.193900108337402, -5.025400161743164, -4.734300136566162, -3.4440999031066895, -5.357699871063232, -3.1840999126434326, -4.119100093841553, -5.395699977874756, -5.7027997970581055, -5.695099830627441, -5.781899929046631, -5.789400100708008, -6.025100231170654, -5.990499973297119, -6.0355000495910645, -5.955900192260742, -3.9549999237060547, -3.3547000885009766, -3.518899917602539, -3.9077000617980957, -4.232399940490723, -4.828700065612793, -4.055099964141846, -4.200699806213379, -2.875499963760376, -3.095400094985962, -3.821899890899658, -3.6145999431610107, -2.941200017929077, -3.9135000705718994, -4.134200096130371, -4.340700149536133, -4.3744001388549805, -4.581299781799316, -4.648900032043457, -2.550600051879883, -3.6396000385284424, -3.9611001014709473, -2.7832000255584717, -2.469899892807007, -4.011300086975098, -2.113300085067749, -3.604300022125244, -3.8201000690460205, -4.776299953460693, -4.695000171661377, -2.70989990234375, -5.0269999504089355, -5.136899948120117, -4.0578999519348145, -3.193700075149536, -5.527900218963623, -5.117800235748291, -3.9177000522613525, -3.809799909591675, -4.34250020980835, -3.9821999073028564, -4.593800067901611, -4.92710018157959, -7.433800220489502, -4.678100109100342, -4.230400085449219, -4.227399826049805, -4.771599769592285, -4.717599868774414, -3.6231000423431396, -3.7118000984191895, -4.074399948120117, -4.508500099182129, -4.765600204467773, -2.957900047302246, -3.4270999431610107, -4.202099800109863, -3.68969988822937, -4.28879976272583, -4.423900127410889, -4.708600044250488, -4.6697998046875, -4.724699974060059, -4.669600009918213, -4.667099952697754, -4.69980001449585, -4.343200206756592, -4.7104997634887695, -5.116499900817871, -5.348400115966797, -4.828700065612793, -5.342100143432617, -5.037700176239014, -5.089799880981445, -5.4984002113342285, -5.502999782562256, -5.929299831390381, -5.620100021362305, -5.576000213623047, -5.814599990844727, -4.941699981689453, -5.834199905395508, -6.14769983291626, -6.363999843597412, -2.675299882888794, -4.769599914550781, -3.137399911880493, -3.7009999752044678, -3.6414999961853027, -2.75, -3.97160005569458, -3.5153000354766846, -4.19189977645874, -2.6222000122070312, -4.2129998207092285, -4.125500202178955, -4.604100227355957, -4.411300182342529, -4.523099899291992, -4.265600204467773, -4.3979997634887695, -3.541100025177002, -3.7291998863220215, -3.273699998855591, -3.999300003051758, -3.8315999507904053, -4.606900215148926, -4.179800033569336, -4.792900085449219, -4.79640007019043, -4.806099891662598, -4.750800132751465, -4.966599941253662, -4.909999847412109, -3.3715999126434326, -4.543000221252441, -4.245500087738037, -4.716400146484375, -4.186399936676025, -5.025199890136719, -5.44890022277832, -5.766200065612793, -5.705699920654297, -5.2480998039245605, -5.771399974822998, -5.6381001472473145, -6.190100193023682, -4.067999839782715, -5.021900177001953, -6.231200218200684, -6.232999801635742, -4.686100006103516, -5.001500129699707, -3.4535000324249268, -3.5901999473571777, -4.175099849700928, -3.5710999965667725, -4.539299964904785, -3.8143999576568604, -4.075300216674805, -4.023799896240234, -3.391200065612793, -4.580100059509277, -4.06689977645874, -4.382599830627441, -4.408899784088135, -4.42609977722168, -4.223899841308594, -4.50570011138916, -3.6029000282287598, -4.524899959564209, -4.151899814605713, -4.830100059509277, -5.143199920654297, -3.533799886703491, -5.481900215148926, -5.48960018157959, -5.524799823760986, -3.988600015640259, -5.522299766540527, -5.513299942016602, -5.436299800872803, -4.915599822998047, -5.410399913787842, -3.704900026321411, -4.953999996185303, -4.160399913787842, -3.663599967956543, -3.9653000831604004, -5.880300045013428, -5.26140022277832, -5.315199851989746, -4.569499969482422, -6.064700126647949, -6.06820011138916, -5.06850004196167, -5.403299808502197, -4.178599834442139, -3.058300018310547, -4.247499942779541, -3.4047999382019043, -4.383699893951416, -4.570899963378906, -4.017899990081787, -3.706700086593628, -3.7019999027252197, -3.1152000427246094, -3.6303000450134277, -3.9365999698638916, -4.851399898529053, -4.5117998123168945, -4.577499866485596, -3.7955000400543213, -4.557600021362305, -3.8928000926971436, -4.763800144195557, -2.593100070953369, -3.545099973678589, -3.0151000022888184, -3.3826000690460205, -1.4855999946594238, -3.873500108718872, -4.520400047302246, -3.5269999504089355, -5.628900051116943, -5.644499778747559, -6.01800012588501, -5.829500198364258, -6.060999870300293, -6.081999778747559, -4.03849983215332, -6.095399856567383, -6.139800071716309, -3.5532000064849854, -4.956600189208984, -6.110099792480469, -5.165200233459473, -5.775199890136719, -5.075699806213379, -5.555699825286865, -6.788599967956543, -5.32450008392334, -5.588600158691406, -5.63700008392334, -6.093900203704834, -7.355199813842773, -7.196499824523926, -5.997300148010254, -4.622000217437744, -3.8376998901367188, -4.350599765777588, -3.6774001121520996, -3.8427000045776367, -5.137599945068359, -5.187600135803223, -5.47599983215332, -5.731500148773193, -3.2590999603271484, -3.0074000358581543, -2.761699914932251, -3.7418999671936035, -4.163400173187256, -3.9460999965667725, -4.309899806976318, -4.30810022354126, -4.299799919128418, -4.46589994430542, -4.680799961090088, -4.938899993896484, -5.281099796295166, -5.782899856567383, -4.775899887084961, -4.584199905395508, -4.625400066375732, -4.404399871826172, -5.129300117492676, -5.940800189971924, -4.836400032043457, -3.017199993133545, -6.386899948120117, -5.15749979019165, -5.103600025177002, -2.9463000297546387, -5.848700046539307, -4.582900047302246, -6.9882001876831055, -6.992099761962891, -5.873899936676025, -3.658799886703491, -3.61680006980896, -4.027400016784668, -3.391400098800659, -3.2314000129699707, -4.23390007019043, -3.8143999576568604, -3.917799949645996, -4.627699851989746, -4.69320011138916, -4.4440999031066895, -4.611499786376953, -2.802000045776367, -3.502700090408325, -3.9491000175476074, -3.9765000343322754, -4.5578999519348145, -4.586400032043457, -4.5879998207092285, -4.682600021362305, -5.043300151824951, -2.8910000324249268, -5.1828999519348145, -5.191699981689453, -4.202700138092041, -5.28410005569458, -5.2957000732421875, -5.31790018081665, -5.202099800109863, -3.098400115966797, -4.843699932098389, -4.87939977645874, -3.1073999404907227, -6.240699768066406, -5.104599952697754, -4.841000080108643, -4.944499969482422, -4.480800151824951, -6.865099906921387, -6.874800205230713, -6.877600193023682, -6.89870023727417, -5.020599842071533, -5.26200008392334, -5.819399833679199, -3.7439000606536865, -4.245999813079834, -2.8341000080108643, -4.15910005569458, -3.8798000812530518, -4.657800197601318, -4.700399875640869, -4.758699893951416, -4.775000095367432, -4.972799777984619, -4.785299777984619, -3.5738000869750977, -3.4200000762939453, -3.5666000843048096, -4.737299919128418, -4.430799961090088, -4.451000213623047, -3.767199993133545, -4.1691999435424805, -3.610300064086914, -3.6217000484466553, -4.751500129699707, -4.7718000411987305, -4.790800094604492, -4.433700084686279, -4.762899875640869, -4.856200218200684, -4.889999866485596, -4.572299957275391, -5.413000106811523, -5.454699993133545, -5.443600177764893, -5.4355998039245605, -5.439300060272217, -4.420400142669678, -5.449399948120117, -5.475200176239014, -5.465000152587891, -5.475100040435791, -5.482699871063232, -5.486100196838379, -4.4156999588012695, -4.061699867248535, -4.865699768066406, -3.9728000164031982, -5.157700061798096, -4.492800235748291, -5.068299770355225, -5.411499977111816, -5.0295000076293945, -5.301199913024902, -5.334099769592285, -2.237600088119507, -3.859299898147583, -4.011899948120117, -3.3115999698638916, -1.9279999732971191, -4.182600021362305, -5.014800071716309, -4.31850004196167, -4.168399810791016, -2.968899965286255, -5.063799858093262, -5.878399848937988, -4.32859992980957, -6.502900123596191, -3.090100049972534, -6.593299865722656, -6.626200199127197, -7.063300132751465, -7.1097002029418945, -7.138400077819824, -6.240900039672852, -7.218100070953369, -7.008800029754639, -5.429999828338623, -7.184899806976318, -5.110899925231934, -4.253600120544434, -4.299099922180176, -6.703700065612793, -7.1605000495910645, -5.4344000816345215, -4.393599987030029, -3.361299991607666, -5.229499816894531, -4.930699825286865, -4.9405999183654785, -4.800000190734863, -4.8445000648498535, -4.861999988555908, -6.117300033569336, -5.945700168609619, -6.210000038146973, -2.7095999717712402, -3.2083001136779785, -3.4793999195098877, -3.594899892807007, -4.01140022277832, -4.112100124359131, -4.216300010681152, -4.057000160217285, -4.453999996185303, -4.822299957275391, -4.824100017547607, -4.2170000076293945, -5.821400165557861, -5.513999938964844, -5.542600154876709, -4.563199996948242, -2.950500011444092, -6.453400135040283, -6.453400135040283, -6.453400135040283, -6.453400135040283, -6.453400135040283, -6.453400135040283, -3.4663000106811523, -3.487799882888794, -6.131100177764893, -6.453700065612793, -6.69379997253418, -6.726900100708008, -4.428699970245361, -5.253600120544434, -5.587100028991699, -3.405400037765503, -3.713200092315674, -4.8078999519348145, -4.281300067901611, -4.389100074768066, -4.290800094604492, -4.6427998542785645, -4.640600204467773, -4.243800163269043, -4.198699951171875, -5.372200012207031, -5.464099884033203, -3.0982000827789307, -3.3159000873565674, -3.5789999961853027, -1.7409000396728516, -4.559500217437744, -5.106100082397461, -5.393199920654297, -5.399499893188477, -3.585099935531616, -4.64739990234375, -5.773900032043457, -5.798699855804443, -6.359499931335449, -6.371600151062012, -6.374000072479248, -6.379799842834473, -6.381899833679199, -6.384300231933594, -6.393599987030029, -6.40369987487793, -6.41349983215332, -6.434000015258789, -6.450399875640869, -6.467299938201904, -6.482600212097168, -5.5858001708984375, -6.084400177001953, -6.39139986038208, -6.815499782562256, -5.395299911499023, -6.531199932098389, -5.4664998054504395, -4.586299896240234, -5.7906999588012695, -4.3597002029418945, -4.62470006942749, -5.46560001373291, -5.708700180053711, -4.389100074768066, -5.400199890136719, -5.4375, -5.316400051116943, -5.92549991607666, -5.7993998527526855, -5.603099822998047, -5.564700126647949, -5.815100193023682, -5.614200115203857, -2.5373001098632812, -5.234600067138672, -5.095900058746338, -6.6072001457214355, -2.78410005569458, -4.678299903869629, -3.4876999855041504, -2.4999001026153564, -7.00540018081665, -3.8173000812530518, -5.625100135803223, -7.122399806976318, -7.27239990234375, -7.220300197601318, -6.991799831390381, -4.29640007019043, -6.80810022354126, -7.076099872589111, -6.801700115203857, -6.714600086212158, -4.559000015258789, -6.901299953460693, -6.9054999351501465, -4.26039981842041, -6.058800220489502, -6.916500091552734, -6.9293999671936035, -7.083199977874756, -7.755899906158447, -6.823800086975098, -5.476099967956543, -5.959700107574463, -4.051400184631348, -6.483099937438965, -5.657400131225586, -4.711100101470947, -4.162700176239014, -4.246799945831299, -5.893199920654297, -4.706099987030029, -4.86329984664917, -5.377900123596191, -5.23859977722168, -4.089200019836426, -3.924499988555908, -5.090400218963623, -5.585899829864502, -5.1493000984191895, -4.42519998550415, -4.550300121307373, -5.322500228881836, -4.776199817657471, -4.365799903869629, -4.414400100708008, -4.903299808502197, -4.678400039672852, -5.554200172424316, -5.564700126647949, -5.073599815368652, -5.530300140380859, -3.660900115966797, -5.723800182342529, -5.73769998550415, -5.69920015335083, -5.701700210571289, -6.684899806976318, -5.6381001472473145, -6.092599868774414, -6.281499862670898, -6.310699939727783, -6.8165998458862305, -6.823699951171875, -6.852499961853027, -5.654900074005127, -3.593600034713745, -6.862199783325195, -6.878699779510498, -5.521999835968018, -6.112400054931641, -4.796899795532227, -6.410399913787842, -6.928400039672852, -5.727399826049805, -5.651199817657471, -4.4334001541137695, -5.47130012512207, -4.733799934387207, -4.37939977645874, -5.252399921417236, -5.665900230407715, -4.979100227355957, -5.041399955749512, -5.581500053405762, -5.208199977874756, -4.727700233459473, -5.056700229644775, -5.304500102996826, -5.63700008392334, -5.685400009155273, -3.0237998962402344, -3.43179988861084, -5.330699920654297, -5.8520002365112305, -5.4039998054504395, -6.127699851989746, -5.9745001792907715, -6.196499824523926, -5.999800205230713, -6.018799781799316, -6.232399940490723, -5.5594000816345215, -6.022200107574463, -6.064899921417236, -6.27370023727417, -5.490200042724609, -5.585000038146973, -6.1168999671936035, -6.1296000480651855, -6.441800117492676, -4.853000164031982, -4.987199783325195, -6.47189998626709, -6.231100082397461, -6.224100112915039, -5.725900173187256, -5.785099983215332, -6.553699970245361, -5.678699970245361, -5.8531999588012695, -5.869100093841553, -5.0366997718811035, -5.372799873352051, -4.73829984664917, -4.706699848175049, -5.141499996185303, -4.430099964141846, -5.322299957275391, -4.442800045013428, -4.6433000564575195, -4.645199775695801, -5.220900058746338, -5.622900009155273, -5.823500156402588, -5.772500038146973, -4.9882001876831055, -5.459099769592285, -5.008900165557861, -5.530600070953369, -5.59689998626709, -5.570700168609619, -5.575500011444092, -2.8678998947143555, -3.3633999824523926, -6.03849983215332, -5.660200119018555, -6.164100170135498, -6.219099998474121, -6.385000228881836, -6.445499897003174, -5.7221999168396, -7.7382001876831055, -7.7382001876831055, -7.738399982452393, -7.73859977722168, -7.73859977722168, -7.73859977722168, -7.73859977722168, -7.73859977722168, -7.73859977722168, -7.73859977722168, -7.73859977722168, -7.738800048828125, -7.738800048828125, -7.738500118255615, -7.738800048828125, -7.738800048828125, -7.738800048828125, -7.738800048828125, -7.738900184631348, -7.738900184631348, -7.738900184631348, -3.4200000762939453, -6.14109992980957, -7.738900184631348, -5.383600234985352, -5.720699787139893, -5.012499809265137, -5.5254998207092285, -5.234899997711182, -5.658199787139893, -6.238999843597412, -6.065700054168701, -5.666299819946289, -6.311800003051758, -6.172599792480469, -6.268599987030029, -5.451900005340576, -6.381999969482422, -6.2708001136779785, -6.047399997711182, -5.958799839019775, -5.975399971008301, -6.527900218963623, -6.5553998947143555, -6.603600025177002, -6.622499942779541, -6.652900218963623, -4.995999813079834, -6.668000221252441, -6.3765997886657715, -6.729300022125244, -6.7621002197265625, -6.770599842071533, -6.7743000984191895, -6.491199970245361, -6.801199913024902, -6.898600101470947, -6.9243998527526855, -6.941100120544434, -6.707300186157227, -6.712900161743164, -6.246200084686279, -6.045899868011475, -5.727200031280518, -6.89900016784668, -7.686699867248535, -7.686699867248535, -7.686699867248535, -7.686699867248535, -7.686699867248535, -6.678299903869629, -7.057499885559082, -4.8225998878479, -5.453800201416016, -6.250699996948242, -5.987299919128418, -6.5355000495910645, -6.251800060272217, -5.680799961090088, -5.162600040435791, -5.086999893188477, -5.575699806213379, -5.090400218963623, -5.726399898529053, -5.57480001449585, -5.797999858856201, -5.314499855041504, -6.439899921417236, -6.2652997970581055, -6.236599922180176, -6.051000118255615, -6.365099906921387, -6.313000202178955, -6.315899848937988, -6.322199821472168, -6.377399921417236, -6.4131999015808105, -6.39900016784668, -6.4303998947143555, -7.070700168609619, -6.812300205230713, -7.649799823760986, -7.649799823760986, -7.649799823760986, -7.649799823760986, -7.649799823760986, -7.649799823760986, -7.649799823760986, -7.649799823760986, -7.649799823760986, -7.649799823760986, -7.649799823760986, -7.649799823760986, -7.649799823760986, -7.649799823760986, -7.649799823760986, -7.649799823760986, -7.649799823760986, -7.649799823760986, -7.649799823760986, -7.649799823760986, -7.649799823760986, -7.649799823760986, -7.649799823760986, -7.649799823760986, -7.649799823760986, -7.649799823760986, -7.649799823760986, -6.374100208282471, -6.870699882507324, -6.249800205230713, -6.884500026702881, -6.484300136566162, -6.918600082397461, -6.886499881744385, -6.583499908447266, -7.018899917602539, -6.230100154876709, -6.61329984664917, -7.083000183105469, -6.795499801635742, -5.9243998527526855, -7.110099792480469, -7.010300159454346, -4.744699954986572, -7.42080020904541, -5.48799991607666, -7.132900238037109, -5.8632001876831055, -6.389599800109863, -6.763299942016602, -7.184199810028076, -6.462200164794922, -6.353700160980225, -7.455699920654297, -6.438399791717529, -5.389800071716309, -5.757400035858154, -5.169600009918213, -6.039000034332275, -6.20419979095459, -5.658599853515625, -6.209199905395508, -6.1915998458862305, -6.347799777984619, -6.455599784851074, -6.103700160980225, -6.344200134277344, -6.269999980926514, -6.202899932861328, -6.10099983215332, -6.367000102996826, -6.0528998374938965, -6.189199924468994, -6.226200103759766, -6.320400238037109, -6.314199924468994, -6.370200157165527, -6.33489990234375, -6.3597002029418945, -7.5524001121521, -7.5524001121521, -7.5524001121521, -7.5524001121521, -7.5524001121521, -7.5524001121521, -7.5524001121521, -7.5524001121521, -7.5524001121521, -7.5524001121521, -7.5524001121521, -7.5524001121521, -7.5524001121521, -7.5524001121521, -7.5524001121521, -7.5524001121521, -7.5524001121521, -7.5524001121521, -7.5524001121521, -7.5524001121521, -7.5524001121521, -7.5524001121521, -7.5524001121521, -7.5524001121521, -7.5524001121521, -7.5524001121521, -7.5524001121521, -7.5524001121521, -7.5524001121521, -7.5524001121521, -7.2058000564575195, -6.804800033569336, -7.238999843597412, -7.239299774169922, -7.272299766540527, -7.270299911499023, -7.092700004577637, -6.985199928283691, -7.299699783325195, -7.309700012207031, -7.031499862670898, -7.3094000816345215, -6.952499866485596, -6.7677998542785645, -7.262899875640869, -6.519800186157227, -6.77269983291626, -6.559000015258789, -7.065800189971924, -7.251200199127197, -7.334499835968018, -7.062399864196777, -7.173299789428711, -7.203100204467773, -7.252600193023682, -7.222099781036377, -7.045599937438965, -7.224699974060059, -7.272299766540527, -7.3221001625061035, -6.994699954986572, -6.6143999099731445, -7.217599868774414, -7.1859002113342285, -7.198200225830078, -7.202199935913086, -7.233699798583984, -7.229599952697754, -7.236499786376953, -7.243100166320801, -7.247799873352051], \"loglift\": [30.0, 29.0, 28.0, 27.0, 26.0, 25.0, 24.0, 23.0, 22.0, 21.0, 20.0, 19.0, 18.0, 17.0, 16.0, 15.0, 14.0, 13.0, 12.0, 11.0, 10.0, 9.0, 8.0, 7.0, 6.0, 5.0, 4.0, 3.0, 2.0, 1.0, 0.8385, 0.8371, 0.8361, 0.8339, 0.8335, 0.8327, 0.8305, 0.8284, 0.8156, 0.8094, 0.8012, 0.7952, 0.792, 0.7819, 0.7811, 0.7469, 0.7409, 0.6449, 0.4317, 0.3885, 0.1961, 0.1956, 0.171, -0.0253, -0.1265, -0.1739, -0.1838, -0.2519, -0.4056, -0.4437, -0.4988, -0.9307, -0.9158, -1.4226, -1.4118, -1.2966, -3.4649, -2.5029, 2.1556, 2.1379, 2.136, 2.1278, 2.1076, 2.1049, 2.1018, 2.0872, 2.072, 2.071, 2.0679, 2.0623, 2.0585, 2.0584, 2.0529, 2.0413, 2.0404, 2.04, 2.0326, 2.0168, 2.0101, 2.0013, 1.9976, 1.9965, 1.9955, 1.9582, 1.9544, 1.9497, 1.946, 1.9334, 1.9005, 1.8706, 1.8766, 1.8714, 1.8302, 1.4041, 1.2738, 0.4082, 0.3944, 0.824, 0.3427, -0.6696, 0.3133, 0.6252, 0.656, 0.5979, 1.0377, 0.9597, 2.4614, 2.4561, 2.4515, 2.4484, 2.4439, 2.4236, 2.4137, 2.4115, 2.4096, 2.3923, 2.3893, 2.3848, 2.3824, 2.3335, 2.3242, 2.3079, 2.2938, 2.2681, 2.1208, 1.9801, 1.9689, 1.7411, 1.7278, 1.7046, 1.593, 1.5231, 1.3886, 1.3064, 1.2828, 1.2391, 1.1363, -0.222, -0.4828, 0.4882, -0.039, 2.5013, 2.4837, 2.4644, 2.4574, 2.4508, 2.4493, 2.4348, 2.4304, 2.4202, 2.4194, 2.4178, 2.4003, 2.394, 2.3786, 2.3747, 2.3694, 2.3633, 2.3623, 2.3218, 2.3186, 2.3048, 2.3018, 2.2786, 2.2642, 2.2565, 2.2353, 2.2227, 2.1495, 2.1179, 2.1148, 1.9707, 2.0429, 1.835, 1.8032, 1.7685, 1.4768, 1.7271, 1.4815, 1.6847, 0.8676, 1.5813, 1.5149, 1.7175, 1.394, 1.2223, -0.3083, -2.1264, 2.9237, 2.9086, 2.8947, 2.8835, 2.8703, 2.8409, 2.8126, 2.8102, 2.8077, 2.7995, 2.789, 2.7471, 2.7113, 2.7064, 2.6956, 2.6878, 2.6788, 2.6404, 2.5689, 2.5565, 2.5418, 2.5403, 2.5156, 2.4977, 2.4946, 2.4662, 2.4519, 2.4502, 2.4227, 2.4223, 2.3871, 2.3798, 2.2918, 2.2152, 2.2423, 2.0694, 2.0895, 1.7195, 1.8013, 1.5951, 0.8355, 2.0204, 0.5468, 1.0274, 1.0494, -0.9363, 2.9815, 2.9547, 2.9502, 2.9412, 2.9317, 2.891, 2.8536, 2.803, 2.7781, 2.7769, 2.7737, 2.7734, 2.7727, 2.7712, 2.7676, 2.7547, 2.7539, 2.7528, 2.7431, 2.6975, 2.6805, 2.6625, 2.6368, 2.6198, 2.6189, 2.6114, 2.5998, 2.587, 2.5681, 2.5577, 2.504, 2.4009, 2.4407, 2.2038, 2.3203, 2.239, 1.7719, 1.29, 1.2703, 0.3746, 0.5965, 0.8227, 1.9718, 1.3765, 1.4688, -0.488, 1.1658, -1.6212, 1.0305, 3.3887, 3.3308, 3.2457, 3.1781, 3.1281, 3.1278, 3.1129, 3.0496, 2.7463, 2.6497, 2.5567, 2.5234, 2.5125, 2.5121, 2.5101, 2.4803, 2.4392, 2.4035, 2.3462, 2.3341, 2.3075, 2.3065, 2.2325, 2.2231, 2.1989, 2.1834, 2.1157, 1.9056, 1.8376, 1.4673, 1.4606, 1.2832, 1.0767, 0.1197, 0.4088, -0.1875, -1.5711, 0.5028, 0.2223, 0.3481, -0.0177, 3.4034, 3.377, 3.3638, 3.353, 3.3288, 3.3205, 3.3148, 3.3042, 3.3026, 3.2992, 3.2651, 3.1958, 3.1229, 2.9563, 2.9251, 2.9025, 2.8516, 2.8485, 2.8023, 2.7778, 2.7061, 2.6966, 2.6315, 2.6214, 2.6007, 2.5282, 2.4597, 2.3308, 2.3076, 2.3034, 2.2546, 1.7307, 1.6385, 1.6713, 1.2545, 0.9953, 1.5903, 0.945, -1.6461, 0.7822, 0.7914, -0.4867, -1.1217, 3.5888, 3.5107, 3.5091, 3.4793, 3.422, 3.4212, 3.4182, 3.3466, 3.2998, 3.2871, 3.28, 3.27, 3.269, 3.175, 3.1632, 3.1397, 3.1239, 3.1027, 3.0171, 2.9797, 2.9779, 2.8247, 2.7752, 2.6809, 2.5956, 2.5923, 2.46, 2.4499, 2.447, 2.4252, 2.3419, 2.2247, 2.292, 1.7306, 1.832, 1.3927, 1.7976, 1.0925, 0.8464, 0.9186, 1.0655, 0.6349, 0.9038, -1.2955, 3.5322, 3.4877, 3.4204, 3.3878, 3.3824, 3.3549, 3.3342, 3.3164, 3.2745, 3.2413, 3.214, 3.1974, 3.1733, 3.1572, 3.138, 3.1198, 3.1034, 3.1021, 3.0743, 3.0514, 3.05, 3.0499, 3.0496, 3.0436, 3.0414, 3.0319, 3.0286, 3.0282, 3.0168, 3.0158, 2.9468, 2.3556, 2.6562, 1.561, 2.6144, 1.3125, 2.201, 2.9478, -0.8027, 0.1088, 0.5425, 3.5946, 3.5892, 3.5696, 3.555, 3.5303, 3.3533, 3.3519, 3.2133, 3.1808, 2.8553, 2.6756, 2.5333, 2.4839, 2.4791, 2.4141, 2.3825, 2.351, 2.208, 2.1619, 2.1305, 2.0966, 2.0471, 2.0053, 1.9513, 1.8241, 1.8224, 1.8008, 1.7394, 1.6935, 1.6859, 1.6153, 1.4007, 1.2525, 1.3994, 0.8146, 0.4694, 0.1724, -0.6177, -0.9046, -0.0393, -2.4559, -0.4866, 4.0801, 4.0463, 4.0203, 4.0072, 3.9472, 3.9293, 3.9091, 3.8654, 3.8563, 3.7536, 3.753, 3.7162, 3.3194, 3.3173, 3.2723, 3.2089, 3.1347, 2.9198, 2.9198, 2.9198, 2.9198, 2.9198, 2.9198, 2.8778, 2.616, 2.4939, 2.4157, 2.318, 2.2602, 2.2248, 2.219, 2.11, 1.5914, 1.5036, 1.7688, 1.3272, 1.3248, 1.2108, 1.4932, -0.0269, -0.754, -1.9271, 0.0861, -0.7048, 4.43, 4.3914, 4.3419, 4.3053, 4.0841, 3.8047, 3.5244, 3.5154, 3.4646, 3.3349, 3.3329, 3.2988, 2.9995, 2.9842, 2.9785, 2.9745, 2.9708, 2.9683, 2.961, 2.946, 2.9355, 2.9089, 2.8918, 2.8678, 2.8526, 2.7966, 2.7566, 2.6869, 2.5121, 2.5114, 2.5019, 2.4344, 1.9667, 2.1844, 0.6162, 0.7852, 1.7153, 1.9237, -0.1623, 0.6541, 0.3524, -0.3196, 1.5601, 0.8294, 0.0373, -0.9509, -0.5983, -3.3426, 3.257, 2.6139, 2.426, 2.4196, 2.3106, 2.0973, 2.0461, 2.0271, 2.002, 1.988, 1.9658, 1.8731, 1.8338, 1.7663, 1.7256, 1.7194, 1.7189, 1.7089, 1.6947, 1.6834, 1.6707, 1.6332, 1.6326, 1.6162, 1.6156, 1.6097, 1.5767, 1.5738, 1.5717, 1.5704, 1.5261, 1.5044, 1.1802, 1.5103, 1.3335, 1.0788, 0.7512, 0.7651, 1.287, 0.7956, 0.8505, 1.0571, 0.8157, 0.1376, 0.0328, 0.6329, 0.7962, 0.3252, -0.9353, -1.2666, 0.1367, -2.5045, 4.244, 3.755, 3.1962, 3.0652, 3.0501, 3.0385, 3.0044, 2.9413, 2.9397, 2.8622, 2.8469, 2.7497, 2.7426, 2.642, 2.5796, 2.5644, 2.5548, 2.5119, 2.5008, 2.4957, 2.4663, 2.4657, 2.4608, 2.4551, 2.4489, 2.4468, 2.4148, 2.4063, 2.3976, 2.3916, 2.1336, 1.9931, 1.5046, 1.8092, 1.4021, 0.8374, 1.1045, 1.515, 0.4309, 0.3482, 1.2417, 0.2763, -1.2379, -0.4107, -1.3472, 0.5793, 1.3848, 4.3718, 3.9559, 3.0842, 3.0522, 3.0119, 2.9627, 2.8886, 2.8804, 2.8505, 2.8437, 2.8366, 2.8313, 2.8278, 2.792, 2.7883, 2.7878, 2.7837, 2.7322, 2.7168, 2.6289, 2.6111, 2.6058, 2.6019, 2.5952, 2.5669, 2.5432, 2.5109, 2.5073, 2.5072, 2.4836, 2.3931, 2.2326, 2.2596, 1.8905, 1.8419, 1.9477, 1.3152, 2.0371, 1.1976, 1.0705, 0.7648, 1.5163, 2.0801, 2.351, 2.2112, -0.3423, 0.7092, -1.5191, 0.9893, 0.8204, 0.3059, -0.5788, 3.8147, 3.3247, 3.0704, 3.0572, 2.9276, 2.8871, 2.6647, 2.5992, 2.3072, 1.9381, 1.9379, 1.9377, 1.9377, 1.9377, 1.9377, 1.9377, 1.9376, 1.9376, 1.9376, 1.9375, 1.9375, 1.9375, 1.9375, 1.9375, 1.9375, 1.9375, 1.9375, 1.9375, 1.9375, 1.9375, 1.5767, 1.7931, 1.9375, 1.4743, 0.9833, 0.4467, 0.3629, -0.2625, 0.0557, 0.5709, 0.3921, -0.0578, 0.316, -0.3783, -0.4787, -1.9621, -0.6586, -1.3175, -2.7399, 2.8863, 2.8661, 2.8224, 2.7903, 2.7324, 2.7133, 2.6803, 2.6743, 2.6621, 2.6502, 2.5933, 2.5554, 2.5451, 2.5414, 2.5263, 2.5099, 2.4019, 2.3688, 2.3602, 2.2883, 2.2822, 2.271, 2.1581, 2.1539, 2.1475, 1.9897, 1.9897, 1.9897, 1.9897, 1.9897, 1.9863, 1.968, 1.6973, 1.6299, 1.7103, 1.6493, 1.7631, 1.4453, 0.7541, -0.0679, -0.1732, 0.4401, -0.5633, 0.0635, -0.3432, -0.0527, -1.8247, 1.3818, 0.4967, 0.0748, -1.2917, 0.7193, 0.2357, -0.8143, -1.3103, -1.6509, -0.1835, -3.0004, 2.5964, 2.2092, 2.092, 2.0266, 2.0266, 2.0266, 2.0266, 2.0266, 2.0266, 2.0266, 2.0266, 2.0266, 2.0266, 2.0266, 2.0266, 2.0266, 2.0266, 2.0266, 2.0266, 2.0266, 2.0266, 2.0266, 2.0266, 2.0266, 2.0266, 2.0266, 2.0266, 2.0266, 2.0266, 2.0266, 2.0166, 1.9784, 1.9361, 1.9724, 1.9316, 1.9439, 1.9398, 1.7852, 1.8442, 1.5916, 1.6647, 1.767, 1.6195, 1.16, 1.7401, 1.6187, 0.1691, 1.8785, 0.5278, 1.6536, 0.5717, 0.9963, 1.2866, 1.6238, 0.9472, 0.8149, 1.8446, 0.8309, -0.2952, 0.0324, -0.6426, 0.2724, 0.4275, -0.427, 0.4196, 0.3571, 0.4754, 0.6335, -0.6938, 0.0379, -0.2315, -0.5839, -1.0891, -0.1372, -2.5631, -1.5433, -1.4668, -0.597, -0.8126, -0.2745, -2.7432, -2.9611, 2.124, 2.124, 2.124, 2.124, 2.124, 2.124, 2.124, 2.124, 2.124, 2.124, 2.124, 2.124, 2.124, 2.124, 2.124, 2.124, 2.124, 2.124, 2.124, 2.124, 2.124, 2.124, 2.124, 2.124, 2.124, 2.124, 2.124, 2.124, 2.124, 2.124, 2.0945, 2.0032, 2.0602, 2.0496, 2.0198, 2.0073, 1.9008, 1.8013, 1.9811, 1.9814, 1.7536, 1.7048, 0.9493, 0.4131, 1.3835, -1.0352, -0.4158, -1.3422, 0.3319, 1.0211, 1.3095, 0.1899, 0.5194, 0.5009, 0.7325, 0.5628, -0.3106, 0.5538, 0.711, 0.9546, -1.0255, -4.3428, 0.0629, -0.3601, -0.2072, -1.0177, -0.8969, -1.6107, -2.4771, -0.861, -1.1119]}, \"token.table\": {\"Topic\": [1, 4, 8, 1, 4, 6, 5, 11, 2, 3, 14, 1, 7, 12, 8, 6, 13, 4, 3, 4, 5, 7, 10, 11, 16, 4, 13, 1, 2, 4, 5, 7, 15, 1, 2, 3, 6, 7, 8, 12, 2, 6, 6, 6, 5, 9, 11, 6, 2, 8, 9, 12, 1, 4, 5, 6, 7, 8, 9, 12, 2, 5, 2, 3, 5, 9, 11, 2, 6, 10, 5, 9, 10, 2, 1, 7, 4, 1, 7, 9, 10, 9, 10, 12, 15, 4, 6, 1, 3, 5, 6, 7, 8, 9, 10, 11, 13, 14, 15, 3, 5, 2, 6, 1, 10, 6, 13, 12, 8, 3, 10, 1, 6, 7, 6, 3, 4, 9, 1, 2, 5, 2, 12, 12, 4, 7, 3, 5, 2, 8, 4, 7, 1, 3, 6, 3, 4, 6, 7, 16, 3, 14, 9, 2, 3, 4, 5, 6, 12, 13, 17, 2, 3, 6, 2, 4, 6, 2, 5, 15, 1, 7, 8, 7, 4, 2, 6, 2, 3, 14, 5, 2, 4, 5, 7, 8, 9, 11, 1, 4, 2, 2, 4, 5, 6, 7, 8, 15, 16, 1, 3, 1, 6, 5, 4, 4, 5, 11, 13, 4, 7, 10, 3, 4, 5, 6, 7, 9, 10, 11, 16, 3, 5, 11, 2, 2, 2, 5, 9, 4, 2, 3, 5, 9, 10, 1, 5, 6, 11, 13, 4, 5, 9, 10, 14, 3, 5, 3, 5, 4, 3, 5, 9, 12, 14, 4, 10, 12, 3, 5, 12, 9, 2, 5, 10, 1, 2, 9, 2, 9, 10, 4, 2, 4, 10, 6, 12, 2, 15, 9, 1, 3, 5, 7, 9, 12, 4, 10, 2, 6, 2, 5, 6, 8, 8, 4, 16, 1, 2, 9, 10, 5, 9, 10, 5, 2, 8, 4, 2, 3, 14, 13, 4, 7, 13, 4, 10, 13, 2, 3, 13, 2, 6, 3, 5, 2, 5, 12, 15, 1, 3, 4, 5, 6, 7, 9, 12, 13, 16, 6, 2, 1, 6, 7, 2, 1, 4, 6, 7, 4, 3, 5, 6, 9, 11, 6, 10, 2, 6, 14, 10, 4, 2, 5, 7, 1, 4, 10, 9, 9, 8, 1, 5, 7, 2, 1, 2, 4, 7, 8, 2, 4, 6, 9, 12, 4, 7, 1, 1, 3, 5, 9, 10, 14, 2, 5, 1, 7, 1, 2, 6, 3, 6, 1, 3, 5, 6, 9, 11, 5, 9, 10, 16, 9, 4, 5, 2, 2, 14, 5, 10, 1, 3, 5, 6, 7, 11, 12, 13, 4, 6, 2, 4, 8, 5, 11, 13, 2, 4, 5, 15, 6, 4, 5, 10, 1, 7, 1, 7, 10, 5, 1, 2, 3, 5, 6, 8, 1, 2, 8, 2, 2, 5, 8, 15, 5, 9, 1, 15, 5, 5, 11, 12, 3, 14, 6, 13, 5, 9, 10, 3, 14, 8, 10, 9, 10, 10, 5, 6, 11, 2, 3, 6, 13, 14, 13, 4, 2, 14, 6, 5, 9, 12, 2, 4, 4, 2, 5, 8, 9, 3, 5, 13, 4, 3, 4, 5, 7, 9, 10, 14, 8, 4, 5, 11, 6, 12, 1, 2, 3, 4, 5, 6, 7, 8, 9, 10, 11, 12, 14, 15, 16, 9, 10, 4, 12, 2, 6, 4, 5, 7, 9, 10, 2, 6, 17, 4, 12, 11, 4, 1, 1, 5, 1, 7, 8, 13, 5, 9, 12, 3, 8, 3, 14, 2, 5, 8, 2, 6, 13, 9, 1, 7, 10, 12, 2, 3, 5, 6, 11, 14, 6, 6, 2, 8, 2, 4, 3, 14, 4, 6, 2, 13, 3, 4, 5, 11, 4, 6, 4, 2, 15, 6, 4, 9, 2, 4, 2, 10, 1, 7, 12, 10, 4, 1, 2, 4, 6, 7, 8, 12, 13, 14, 1, 7, 8, 2, 5, 15, 3, 4, 5, 16, 2, 2, 5, 10, 11, 3, 5, 6, 8, 12, 2, 6, 10, 9, 5, 9, 4, 2, 5, 2, 3, 4, 6, 9, 11, 10, 12, 10, 3, 4, 5, 6, 7, 9, 11, 4, 5, 7, 5, 11, 1, 3, 5, 4, 2, 4, 6, 11, 14, 2, 4, 6, 7, 8, 10, 12, 14, 16, 2, 5, 15, 3, 5, 3, 5, 6, 8, 9, 10, 1, 2, 3, 4, 5, 6, 7, 8, 9, 10, 11, 14, 15, 4, 5, 9, 10, 2, 14, 9, 10, 14, 8, 6, 13, 2, 6, 5, 11, 4, 5, 7, 16, 11, 9, 2, 3, 8, 9, 14, 2, 1, 2, 4, 5, 2, 1, 5, 2, 9, 5, 5, 2, 5, 4, 3, 9, 4, 10, 2, 5, 5, 10, 10, 3, 2, 6, 17, 4, 5, 7, 1, 2, 5, 14, 3, 4, 5, 6, 12, 5, 10, 1, 5, 7, 4, 6, 1, 4, 10, 4, 1, 7, 12, 5, 11, 3, 6, 1, 8, 4, 11, 12, 5, 2, 5, 6, 12, 15, 6, 5, 10, 5, 9, 10, 2, 2, 5, 9, 3, 14, 3, 6, 9, 10, 2, 4, 6, 3, 4, 5, 6, 11, 6, 3, 2, 6, 5, 5, 11, 4, 3, 6, 4, 5, 11, 6, 6, 9, 10, 4, 11, 2, 8, 2, 12, 1, 2, 4, 5, 7, 8, 9, 10, 11, 12, 13, 15, 16, 5, 2, 8, 6, 4, 1, 1, 13, 5, 6, 8, 11, 1, 4, 1, 6, 7, 12, 3, 9, 9, 4, 4, 1, 7, 1, 7, 1, 7, 10, 2, 9, 9, 1, 2, 7, 8, 1, 2, 1, 2, 3, 4, 5, 6, 7, 8, 9, 10, 11, 13, 14, 1, 2, 3, 4, 5, 6, 11, 3, 5, 2, 5, 1, 3, 8, 3, 5, 9, 2, 1, 2, 7, 8, 15, 4, 5, 9, 10, 2, 2, 8, 2, 12, 10, 10, 8, 2, 8, 12, 2, 4, 5, 8, 15, 2], \"Freq\": [0.2183438878553833, 0.2183438878553833, 0.2183438878553833, 0.9537771003061252, 0.018701511770708334, 0.009350755885354167, 0.24142574710575102, 0.724277241317253, 0.017540578822773444, 0.9559615458411527, 0.017540578822773444, 0.2993838158853102, 0.2993838158853102, 0.8706095917546853, 0.9095281105725312, 0.5659083502956007, 0.3772722335304005, 0.9234754653219106, 0.04873404155545022, 0.2436702077772511, 0.438606373999052, 0.04873404155545022, 0.04873404155545022, 0.09746808311090044, 0.04873404155545022, 0.42353103687912785, 0.5807613048231496, 0.09350831007738257, 0.18701662015476514, 0.2805249302321477, 0.09350831007738257, 0.09350831007738257, 0.09350831007738257, 0.2780598736930851, 0.21042368820017252, 0.2555144785287809, 0.10521184410008626, 0.05260592205004313, 0.08266644893578205, 0.007515131721434733, 0.1819739450437682, 0.7642905691838265, 0.5820033104266431, 0.5485323045685996, 0.7341381517818406, 0.10487687882597724, 0.10487687882597724, 0.7463943410010434, 0.1149265191620203, 0.5746325958101015, 0.2298530383240406, 0.6008892099659964, 0.04995297621273139, 0.19981190485092556, 0.04995297621273139, 0.14985892863819417, 0.04995297621273139, 0.14985892863819417, 0.14985892863819417, 0.14985892863819417, 0.9032257350610101, 0.0645161239329293, 0.7562704735194221, 0.028094073202962234, 0.7585399764799803, 0.1685644392177734, 0.028094073202962234, 0.6308647335533436, 0.9541724669393127, 0.6499251360978776, 0.13865342086698523, 0.13865342086698523, 0.5546136834679409, 0.34452685636137936, 0.34779771132116105, 0.34779771132116105, 0.4548872107498146, 0.34112720748523667, 0.34112720748523667, 0.5003091489571639, 0.3335394326381093, 0.15287832753461975, 0.3057566550692395, 0.4586349826038592, 0.7066088683249384, 0.8967573699367113, 0.871665767032, 0.10975042193596105, 0.30181366032389284, 0.10975042193596105, 0.02743760548399026, 0.02743760548399026, 0.05487521096798052, 0.02743760548399026, 0.05487521096798052, 0.13718802741995131, 0.02743760548399026, 0.02743760548399026, 0.08231281645197078, 0.1930479751088954, 0.5791439253266861, 0.1797779598486948, 0.7191118393947792, 0.9295596048715076, 0.6343802440800299, 0.5628940641835827, 0.28144703209179134, 0.9112133188372182, 0.9244325231517304, 0.9814121132734507, 0.8639031504154836, 0.38247585418526525, 0.2868568906389489, 0.38247585418526525, 0.45804763564648066, 0.9044943439344505, 0.45233247265795673, 0.772784763972803, 0.9977623881200924, 0.7030985381668703, 0.20088529661910579, 0.3008132739657098, 0.800495339903561, 0.440915688468384, 0.5820742727662825, 0.5154381316648899, 0.07010122007690359, 0.8412146409228429, 0.058920561806975955, 0.9132687080081273, 0.8094877059961537, 0.10118596324951921, 0.9907675631138603, 0.18466159803898186, 0.5539847941169456, 0.13493649618043366, 0.3148518244210119, 0.04497883206014455, 0.404809488541301, 0.04497883206014455, 0.9674477895481994, 0.01934895579096399, 0.7527786772357979, 0.21915415835943208, 0.13339818334921955, 0.35255234170865163, 0.019056883335602792, 0.17151195002042513, 0.07622753334241117, 0.009528441667801396, 0.009528441667801396, 0.48875366628419054, 0.4398782996557715, 0.545799941480375, 0.19473711938943464, 0.04868427984735866, 0.6815799178630212, 0.4241844510071703, 0.21209222550358514, 0.21209222550358514, 0.17930957596334657, 0.17930957596334657, 0.5379287278900398, 0.9358603641838125, 0.8551321706787837, 0.5256564462469924, 0.40884390263654957, 0.856941728813157, 0.9037521301441122, 0.08406996559480112, 0.7366573034903062, 0.04359267288957987, 0.15257435511352954, 0.06538900933436981, 0.04359267288957987, 0.15257435511352954, 0.08718534577915973, 0.41413039245100874, 0.9989519374857856, 0.360163152060232, 0.84797854795656, 0.26166229664077806, 0.5769989105412029, 0.020127868972367544, 0.006709289657455848, 0.006709289657455848, 0.10734863451929356, 0.006709289657455848, 0.006709289657455848, 0.9090804985033467, 0.0799990838682945, 0.976164290273159, 0.00912303075021644, 0.8652292577302824, 0.8501381021635314, 0.265891415039777, 0.265891415039777, 0.1329457075198885, 0.1329457075198885, 0.5071029467310613, 0.25355147336553063, 0.8704236803719321, 0.020143046234271437, 0.2820026472798001, 0.503576155856786, 0.040286092468542874, 0.020143046234271437, 0.020143046234271437, 0.040286092468542874, 0.060429138702814314, 0.020143046234271437, 0.13147536328344356, 0.7888521797006613, 0.5126612460173394, 0.731159488102071, 0.5149814635040434, 0.5195884253382198, 0.33409365463688756, 0.5011404819553313, 0.807336962685805, 0.31953070748250995, 0.3372824134537605, 0.2485238835975077, 0.07100682388500221, 0.6261554655894032, 0.9965667696844678, 0.2227075957423048, 0.2969434609897398, 0.1484717304948699, 0.2969434609897398, 0.32084866446161403, 0.4705780412103673, 0.021389910964107604, 0.10694955482053801, 0.0641697328923228, 0.05242776596407693, 0.8912720213893078, 0.18729090755144037, 0.37458181510288074, 0.9614961814129048, 0.8367187530547026, 0.04736143885215297, 0.031574292568101986, 0.04736143885215297, 0.015787146284050993, 0.9332937071677626, 0.5152120040072067, 0.9028800880706753, 0.24956771968164823, 0.49913543936329646, 0.6839102411355271, 0.6076399969407745, 0.64985894599197, 0.21661964866399, 0.6352554538994566, 0.43706060659252516, 0.22643363212386633, 0.679300896371599, 0.1863050719315249, 0.7141694424041788, 0.062101690643841634, 0.7885763759176168, 0.7329697411693952, 0.7897778924139487, 0.6328319786761859, 0.7091756328762757, 0.14183512657525515, 0.6227526328270521, 0.2075842109423507, 0.5320044435508174, 0.02488472571283218, 0.29861670855398614, 0.14930835427699307, 0.3483861599796505, 0.14930835427699307, 0.433747642302091, 0.2517937972178979, 0.6924329423492193, 0.7901889387903225, 0.1859268091271347, 0.930386035519507, 0.7385001911243678, 0.6675124737856094, 0.13350249475712186, 0.9108865152008809, 0.6245227914949484, 0.20817426383164944, 0.4209710653532192, 0.4209710653532192, 0.2146499560375614, 0.4292999120751228, 0.06972639872853344, 0.06972639872853344, 0.7669903860138677, 0.7402861692312616, 0.09221751244732095, 0.8299576120258885, 0.45515869831585903, 0.11423726032893534, 0.8377399090788592, 0.038079086776311784, 0.730953469111265, 0.9744706202141843, 0.5588280336408394, 0.7096365095247046, 0.5713585417342416, 0.521687293709091, 0.17389576456969696, 0.35136144153557414, 0.9196965177257707, 0.838588390411041, 0.39345852453441515, 0.39345852453441515, 0.17934485118487964, 0.7173794047395186, 0.8633016944717696, 0.029769023947302402, 0.059538047894604804, 0.029769023947302402, 0.036274679912971564, 0.036274679912971564, 0.36274679912971564, 0.3990214790426872, 0.036274679912971564, 0.054412019869457345, 0.018137339956485782, 0.018137339956485782, 0.018137339956485782, 0.018137339956485782, 0.773696408735099, 0.8473080672158821, 0.10118890402678878, 0.03372963467559626, 0.8432408668899065, 0.9495915029430916, 0.09613141995641183, 0.2883942598692355, 0.09613141995641183, 0.2883942598692355, 0.5636604561278198, 0.7021583034536298, 0.05401217718874076, 0.05401217718874076, 0.05401217718874076, 0.1350304429718519, 0.9006580787329199, 0.7964523573205832, 0.4690585664075297, 0.514451330898581, 0.015130921497017086, 0.6290564046977836, 0.868785880589655, 0.530395865910624, 0.303083351948928, 0.075770837987232, 0.9972367015809541, 0.8572544337254591, 0.6376415462241475, 0.9602777067440642, 0.5572135452118228, 0.9031395114271055, 0.07072864268404165, 0.1414572853680833, 0.7780150695244582, 0.8702714052813969, 0.03845155251165357, 0.2307093150699214, 0.4614186301398428, 0.09612888127913392, 0.17303198630244107, 0.29866254264214354, 0.17568384861302563, 0.4216412366712615, 0.03513676972260513, 0.05270515458390769, 0.9332171043056724, 0.030103777558247495, 0.6997664204014752, 0.163030067578459, 0.3097571283990721, 0.2934541216412262, 0.0326060135156918, 0.1304240540627672, 0.0652120270313836, 0.7692774749533862, 0.5101914041557811, 0.13307039714787275, 0.7984223828872364, 0.9949174900561231, 0.43077311430419096, 0.7519580893448155, 0.22269474339228013, 0.7237579160249105, 0.04370312410695296, 0.04370312410695296, 0.6118437374973416, 0.17481249642781185, 0.04370312410695296, 0.04370312410695296, 0.22469965144960388, 0.11234982572480194, 0.5617491286240097, 0.11234982572480194, 0.6093372286031177, 0.2581624975888137, 0.2581624975888137, 0.9892870859416394, 0.6600188453922816, 0.1650047113480704, 0.5224904683681052, 0.3288540410376294, 0.012993543487832979, 0.012993543487832979, 0.09095480441483085, 0.038980630463498936, 0.7406319788064797, 0.08445803267091435, 0.012993543487832979, 0.006496771743916489, 0.8588223624941559, 0.07807476022674145, 0.7650707495558854, 0.06169925399644237, 0.16041806039075016, 0.44388821718830884, 0.29592547812553927, 0.4773726756105723, 0.28425014476667976, 0.09475004825555991, 0.37900019302223964, 0.14212507238333988, 0.4454566952350368, 0.369861603461294, 0.184930801730647, 0.27739620259597053, 0.34147499680037896, 0.34147499680037896, 0.3425995888178849, 0.3425995888178849, 0.6290684036366165, 0.5601192481269806, 0.9536177999469072, 0.008797212176631986, 0.003518884870652794, 0.001759442435326397, 0.028151078965222353, 0.003518884870652794, 0.06479747387388868, 0.5183797909911094, 0.3239873693694434, 0.3450022133146474, 0.6924297924848412, 0.08655372406060514, 0.08655372406060514, 0.08655372406060514, 0.6397603631830461, 0.1279520726366092, 0.22745790481578762, 0.22745790481578762, 0.5548017396395086, 0.1511738334974675, 0.8163387008863244, 0.015117383349746749, 0.9239534624749127, 0.05279734071285215, 0.19050231417584806, 0.7620092567033923, 0.10149786191649005, 0.3044935857494701, 0.5074893095824502, 0.9640717399670801, 0.024101793499177, 0.9576968737362983, 0.569577048713542, 0.11479521426406934, 0.6887712855844161, 0.6505043540888662, 0.7268594398916323, 0.06607813089923929, 0.13215626179847859, 0.06318187442812141, 0.6107581194718403, 0.27378812252185947, 0.021060624809373804, 0.021060624809373804, 0.8597253400476274, 0.8559308818201011, 0.9029325358862853, 0.05643328349289283, 0.44521726772478815, 0.08489105679673438, 0.5093463407804063, 0.3678612461191823, 0.538129850808106, 0.269064925404053, 0.8689859729849533, 0.7161607711169289, 0.1702663071854755, 0.1702663071854755, 0.5107989215564265, 0.17491061454282816, 0.3498212290856563, 0.17491061454282816, 0.9834877135960067, 0.0459378845933538, 0.4364099036368611, 0.32156519215347656, 0.0229689422966769, 0.06890682689003069, 0.0459378845933538, 0.0459378845933538, 0.9320352136967767, 0.6441316155799185, 0.05855741959817441, 0.29278709799087205, 0.6598830917490373, 0.2932813741106832, 0.4201706425849275, 0.16891282113966935, 0.06545371819162188, 0.19213833404637387, 0.02111410264245867, 0.06756512845586773, 0.02744833343519627, 0.010557051321229334, 0.006334230792737601, 0.0021114102642458667, 0.0021114102642458667, 0.008445641056983467, 0.004222820528491733, 0.0021114102642458667, 0.0021114102642458667, 0.19074047563241, 0.57222142689723, 0.6198346080896988, 0.921115107494344, 0.24643206879010834, 0.739296206370325, 0.07889151123050601, 0.4733490673830361, 0.03944575561525301, 0.03944575561525301, 0.27612028930677107, 0.36199089768105897, 0.5171298538300843, 0.05171298538300843, 0.567585937202585, 0.931464508193128, 0.5541092563454935, 0.4476435719083026, 0.5353875545493108, 0.5193901347081329, 0.8842664574516019, 0.153921123931342, 0.307842247862684, 0.46176337179402605, 0.4793635309350034, 0.5319754744618146, 0.379982481758439, 0.9730635625501157, 0.8032837749058926, 0.5751810819438112, 0.9155172486554833, 0.03269704459483869, 0.14237914283959432, 0.14237914283959432, 0.5695165713583773, 0.169289793666503, 0.5925142778327606, 0.0846448968332515, 0.8913863974147336, 0.11331601721216099, 0.33994805163648295, 0.22663203442432198, 0.11331601721216099, 0.23646696719133956, 0.4729339343826791, 0.09852790299639148, 0.15764464479422638, 0.019705580599278297, 0.019705580599278297, 0.7655693590755663, 0.6440938019215645, 0.5227693538103941, 0.26138467690519707, 0.35098142845777675, 0.5592376171116575, 0.9233104789002895, 0.04014393386522998, 0.8120077737634409, 0.1624015547526882, 0.8410576103474926, 0.48066667303479355, 0.4659695725179062, 0.4659695725179062, 0.03584381327060817, 0.03584381327060817, 0.43869435546106383, 0.7394618779434159, 0.7091718613538487, 0.928275652098243, 0.03713102608392972, 0.7656738548328087, 0.4848958745436337, 0.36367190590772525, 0.5185416345360455, 0.755596795105581, 0.9166884612368419, 0.6553552634629868, 0.4166978463468411, 0.4166978463468411, 0.7856052742920714, 0.5500655779260589, 0.7512585305159702, 0.9061402908587192, 0.058702403405044526, 0.009367404798677318, 0.009367404798677318, 0.0068694301856966995, 0.006244936532451545, 0.002497974612980618, 0.0006244936532451545, 0.0006244936532451545, 0.1428558186295897, 0.2857116372591794, 0.42856745588876916, 0.5943501406167534, 0.14858753515418835, 0.14858753515418835, 0.10491113351410307, 0.10491113351410307, 0.3147334005423092, 0.4196445340564123, 0.9100125593525359, 0.42161731555749, 0.5171290966726738, 0.10342581933453476, 0.20685163866906953, 0.11325635531078754, 0.5662817765539377, 0.11325635531078754, 0.11325635531078754, 0.6830938040466745, 0.19772301682614787, 0.5931690504784436, 0.5717438568696835, 0.6077422145709034, 0.07158540807963809, 0.859024896955657, 0.8981571682509991, 0.2994143728790057, 0.2994143728790057, 0.20457654026489605, 0.009298933648404365, 0.5021424170138358, 0.16738080567127858, 0.08369040283563929, 0.027896800945213098, 0.3587423050189203, 0.3587423050189203, 0.6370182704158109, 0.015827273511313807, 0.49064547885072796, 0.04748182053394141, 0.09496364106788283, 0.015827273511313807, 0.06330909404525523, 0.2690636496923347, 0.28535441973190473, 0.28535441973190473, 0.14267720986595236, 0.061809716451171816, 0.8653360303164054, 0.9421237511471886, 0.05143107326361824, 0.0023377760574371923, 0.8494587159638367, 0.1057725172510095, 0.40193556555383614, 0.1269270207012114, 0.1057725172510095, 0.23269953795222093, 0.2147047167613537, 0.11711166368801111, 0.01951861061466852, 0.03903722122933704, 0.46844665475204444, 0.03903722122933704, 0.058555831844005556, 0.01951861061466852, 0.01951861061466852, 0.9280669267366218, 0.024422813861490048, 0.024422813861490048, 0.9721869318594513, 0.848324900349545, 0.05940472621496444, 0.7128567145795733, 0.17821417864489333, 0.9235596299518968, 0.12753697068294675, 0.6376848534147338, 0.6369345676428646, 0.16176116003628307, 0.030330217506803078, 0.060660435013606157, 0.010110072502267692, 0.013480096669690257, 0.03707026584164821, 0.020220145004535384, 0.006740048334845128, 0.006740048334845128, 0.010110072502267692, 0.010110072502267692, 0.003370024167422564, 0.4493502677065213, 0.9059818675750329, 0.18549154176142593, 0.5564746252842778, 0.9202467367369916, 0.07078821051823013, 0.35712068150919213, 0.35712068150919213, 0.1190402271697307, 0.8042110764798319, 0.9035418805447569, 0.09035418805447569, 0.4728541628638769, 0.4728541628638769, 0.28982219770356843, 0.28982219770356843, 0.5112506459920352, 0.1278126614980088, 0.1278126614980088, 0.1278126614980088, 0.5094890718735346, 0.6068422408080598, 0.4148307691994233, 0.015364102562941604, 0.3994666666364817, 0.15364102562941603, 0.015364102562941604, 0.9100564348347391, 0.9619505457850775, 0.01191270025740034, 0.014890875321750426, 0.00595635012870017, 0.3076922470052928, 0.21926254178365553, 0.6577876253509666, 0.759673084490184, 0.7739040341492471, 0.5266118099056748, 0.9046921539893273, 0.5258388131972479, 0.9037338056543431, 0.448832268822411, 0.38130418900674073, 0.6037316325940062, 0.26889628563711715, 0.26889628563711715, 0.9090519311660045, 0.9423699854116672, 0.1563621285279866, 0.7036295783759396, 0.6273500500743763, 0.8312149010814315, 0.30856588686896536, 0.5657041259264365, 0.051427647811494226, 0.7492790735921717, 0.16650646079826037, 0.9697178350645561, 0.822990473383742, 0.17181429506967474, 0.0017181429506967474, 0.0017181429506967474, 0.6031478297596407, 0.2483549887245579, 0.03547928410350827, 0.07095856820701654, 0.03547928410350827, 0.9343549062862484, 0.5281383154913809, 0.7374041445767322, 0.27327744947026966, 0.27327744947026966, 0.9255204961194353, 0.8954900204339761, 0.3704032081199465, 0.22861089939178986, 0.4572217987835797, 0.5552326973295086, 0.1387676914234833, 0.6938384571174165, 0.0925117942823222, 0.5381871091994351, 0.26909355459971757, 0.17049152499545528, 0.6819660999818211, 0.36386429755724387, 0.5457964463358658, 0.926559697086155, 0.1796165475498564, 0.7184661901994256, 0.5025892093804705, 0.8667690602122962, 0.011873548770031455, 0.011873548770031455, 0.07124129262018872, 0.02374709754006291, 0.5394752998406717, 0.06440795328109616, 0.83730339265425, 0.18744767402858556, 0.18744767402858556, 0.5623430220857567, 0.4210218523626629, 0.9212534691020802, 0.6063792336097927, 0.15159480840244818, 0.9292891394322822, 0.06552679829330195, 0.13808320583903003, 0.6904160291951502, 0.18618790777335256, 0.5585637233200578, 0.7540520028003767, 0.2094588896667713, 0.02094588896667713, 0.2312335678785297, 0.2312335678785297, 0.4624671357570594, 0.74711356301924, 0.8844365213321977, 0.7063233623133616, 0.9222463862557648, 0.24511046711795412, 0.6740537845743738, 0.9513549058354352, 0.30047134750083987, 0.6009426950016797, 0.47428318186277285, 0.07680176813729626, 0.8448194495102589, 0.9370259516324813, 0.24044485414046113, 0.6011121353511528, 0.44705421222848885, 0.7764250743018394, 0.18522438085107823, 0.5556731425532347, 0.5815262798731385, 0.884948942408559, 0.7742491864384404, 0.5316051018423236, 0.756746375554314, 0.7107213958033763, 0.014403475200763714, 0.08642085120458229, 0.4753146816252026, 0.14403475200763713, 0.043210425602291144, 0.07201737600381856, 0.043210425602291144, 0.028806950401527427, 0.043210425602291144, 0.014403475200763714, 0.028806950401527427, 0.014403475200763714, 0.014403475200763714, 0.7394639749686011, 0.03816349936520674, 0.915923984764962, 0.6788997281784085, 0.44921954217924914, 0.531159619180868, 0.9705320824069021, 0.018664078507825043, 0.04394180515395956, 0.02197090257697978, 0.02197090257697978, 0.8788361030791912, 0.9938295878559901, 0.9227242386857774, 0.23477574800646417, 0.35216362200969625, 0.23477574800646417, 0.11738787400323208, 0.5361131312682043, 0.610111526066955, 0.8118505283954882, 0.5553638439797643, 0.6905340261061002, 0.25768377060420944, 0.5153675412084189, 0.34074773940729813, 0.34074773940729813, 0.1820899787136839, 0.7738824095331566, 0.624047692080327, 0.9481042474621433, 0.8935119663230238, 0.7907369045858421, 0.12152488339855229, 0.12152488339855229, 0.24304976679710458, 0.48609953359420915, 0.5196607871695258, 0.7553435217860633, 0.013235994867534627, 0.1544199401212373, 0.03529598631342567, 0.3529598631342567, 0.11912395380781164, 0.08382796749438597, 0.004411998289178209, 0.08382796749438597, 0.10588795894027701, 0.013235994867534627, 0.013235994867534627, 0.008823996578356417, 0.008823996578356417, 0.32530104118612996, 0.2959309940531272, 0.11837239762125089, 0.11837239762125089, 0.059186198810625444, 0.35511719286375265, 0.059186198810625444, 0.03075148992033419, 0.9225446976100258, 0.558297520964912, 0.1860991736549707, 0.9887854800611888, 0.009637285380713342, 0.39390120559297404, 0.850994377376087, 0.28564264227588937, 0.28564264227588937, 0.7268694510320737, 0.015519253473195405, 0.8845974479721381, 0.015519253473195405, 0.06207701389278162, 0.015519253473195405, 0.06159025043049654, 0.06159025043049654, 0.06159025043049654, 0.677492754735462, 0.9574465046637033, 0.9687941041672617, 0.9121500175567802, 0.7495043990242377, 0.23061673816130393, 0.7906763452697566, 0.6251964466734388, 0.8787866067354326, 0.22762414270744136, 0.5690603567686033, 0.11381207135372068, 0.7479706995810159, 0.028225309418151545, 0.014112654709075773, 0.18346451121798504, 0.014112654709075773, 0.6684244225011411], \"Term\": [\"access\", \"access\", \"access\", \"accord\", \"accord\", \"accord\", \"accumulate\", \"accumulate\", \"acid\", \"acid\", \"acid\", \"acquire\", \"acquire\", \"active\", \"additional\", \"additive\", \"additive\", \"adjust\", \"agricultural\", \"agricultural\", \"agricultural\", \"agricultural\", \"agricultural\", \"agricultural\", \"agricultural\", \"agricultural_enterprise\", \"agronomist\", \"agronomy\", \"agronomy\", \"agronomy\", \"agronomy\", \"agronomy\", \"agronomy\", \"also\", \"also\", \"also\", \"also\", \"also\", \"also\", \"also\", \"amount\", \"amount\", \"anaerobic\", \"anaerobiosis\", \"analysis\", \"analysis\", \"analysis\", \"analyze\", \"animal\", \"animal\", \"animal\", \"apatite\", \"application\", \"application\", \"application\", \"application\", \"application\", \"application\", \"application\", \"application\", \"apply\", \"apply\", \"aqueous\", \"area\", \"area\", \"area\", \"area\", \"assemblage\", \"associate\", \"astronomical\", \"atmospheric_condition\", \"atmospheric_condition\", \"atmospheric_condition\", \"attributable\", \"augment\", \"augment\", \"authorize\", \"automate\", \"automate\", \"availability\", \"availability\", \"available\", \"available\", \"available\", \"back\", \"balance\", \"balanced\", \"base\", \"base\", \"base\", \"base\", \"base\", \"base\", \"base\", \"base\", \"base\", \"base\", \"base\", \"base\", \"basis\", \"basis\", \"biomass\", \"biomass\", \"breed\", \"brief\", \"ca\", \"ca\", \"calcium\", \"canopy\", \"capable\", \"capture\", \"carry\", \"carry\", \"carry\", \"cation\", \"cause\", \"centralizing\", \"certain\", \"ch\", \"characteristic\", \"characteristic\", \"characterizing\", \"charge\", \"choose\", \"cloud_base\", \"collect\", \"color\", \"color\", \"combination\", \"combination\", \"commodity\", \"commodity\", \"complement\", \"complex\", \"complex\", \"component\", \"component\", \"component\", \"component\", \"component\", \"composition\", \"composition\", \"compound\", \"comprise\", \"comprise\", \"comprise\", \"comprise\", \"comprise\", \"comprise\", \"comprise\", \"comprise\", \"concentration\", \"concentration\", \"concern\", \"condition\", \"condition\", \"condition\", \"conductivity\", \"conductivity\", \"conductivity\", \"configuration\", \"configuration\", \"configuration\", \"configure\", \"conform\", \"consist\", \"consist\", \"contact\", \"content\", \"content\", \"continuously\", \"control\", \"control\", \"control\", \"control\", \"control\", \"control\", \"control\", \"corn\", \"cost\", \"create\", \"crop\", \"crop\", \"crop\", \"crop\", \"crop\", \"crop\", \"crop\", \"crop\", \"cross\", \"cross\", \"culture\", \"culture\", \"current\", \"cycle\", \"data\", \"data\", \"data\", \"data\", \"database\", \"database\", \"date\", \"datum\", \"datum\", \"datum\", \"datum\", \"datum\", \"datum\", \"datum\", \"datum\", \"datum\", \"day\", \"day\", \"decision\", \"decrease\", \"defoliate\", \"defoliation\", \"degree\", \"degree\", \"delivery\", \"describe\", \"describe\", \"describe\", \"describe\", \"description\", \"designate\", \"desire\", \"desire\", \"desire\", \"desire\", \"determine\", \"determine\", \"determine\", \"determine\", \"determine\", \"different\", \"different\", \"digital\", \"digital\", \"direct\", \"disclose\", \"disclose\", \"disclose\", \"disclose\", \"disclose\", \"disclosure\", \"discount\", \"disperse\", \"display\", \"display\", \"dissolve\", \"distance\", \"divide\", \"divide\", \"earth\", \"easy\", \"effect\", \"effect\", \"effective\", \"effective\", \"effective\", \"effectively\", \"efficiency\", \"efficiently\", \"electromagnetic\", \"element\", \"element\", \"elevation\", \"elevation\", \"eliminate\", \"embodiment\", \"embodiment\", \"embodiment\", \"embodiment\", \"embodiment\", \"encourage\", \"energy\", \"energy\", \"enhance\", \"enhance\", \"enhanced\", \"entire\", \"environment\", \"environment\", \"environmental\", \"equipment\", \"equipment\", \"especially\", \"especially\", \"establish\", \"establish\", \"estimate\", \"estimate\", \"estimate\", \"evaluate\", \"example\", \"example\", \"exemplify\", \"exhibit\", \"exhibit\", \"exhibit\", \"expand\", \"express\", \"extraction\", \"facilitate\", \"farm\", \"farmer\", \"farmer\", \"farmland\", \"fatty\", \"feature\", \"fermentative\", \"fermentative\", \"fertility\", \"fertility\", \"fertilizer\", \"fertilizer\", \"fertilizer\", \"fertilizer\", \"field\", \"field\", \"field\", \"field\", \"field\", \"field\", \"field\", \"field\", \"field\", \"field\", \"filter\", \"find\", \"first\", \"first\", \"first\", \"flow\", \"follow\", \"follow\", \"follow\", \"follow\", \"forecasting\", \"form\", \"form\", \"form\", \"form\", \"form\", \"formation\", \"formula\", \"gene\", \"gene\", \"gene\", \"general\", \"generally\", \"generate\", \"generate\", \"generate\", \"genetic\", \"give\", \"granularity\", \"grass\", \"grazing\", \"great\", \"ground\", \"ground\", \"ground\", \"group\", \"grow\", \"grow\", \"grow\", \"grow\", \"grow\", \"growth\", \"growth\", \"growth\", \"growth\", \"growth\", \"harvest\", \"harvest\", \"help\", \"high\", \"high\", \"high\", \"high\", \"high\", \"high\", \"highly\", \"historical\", \"human\", \"human\", \"hybrid\", \"hydrolyze\", \"identification\", \"identify\", \"identify\", \"image\", \"image\", \"image\", \"image\", \"image\", \"image\", \"impact\", \"impact\", \"impact\", \"impact\", \"impair\", \"implement\", \"implement\", \"improve\", \"improved\", \"improved\", \"improvement\", \"incapable\", \"include\", \"include\", \"include\", \"include\", \"include\", \"include\", \"include\", \"include\", \"incorporate\", \"incorporate\", \"increase\", \"increase\", \"increase\", \"indicate\", \"indicate\", \"indicative\", \"information\", \"information\", \"information\", \"information\", \"initial\", \"input\", \"input\", \"input\", \"inspection\", \"inspection\", \"instruction\", \"instruction\", \"internet\", \"interpolate\", \"invention\", \"invention\", \"invention\", \"invention\", \"invention\", \"invention\", \"irrigation\", \"irrigation\", \"irrigation\", \"item\", \"land\", \"land\", \"land\", \"land\", \"large\", \"large\", \"lawn\", \"lawn\", \"layer\", \"least\", \"least\", \"least\", \"less\", \"less\", \"level\", \"level\", \"limited\", \"limited\", \"limited\", \"line\", \"line\", \"link\", \"local\", \"location\", \"location\", \"logic\", \"long\", \"long\", \"long\", \"low\", \"low\", \"low\", \"low\", \"low\", \"maintain\", \"maintenance\", \"maize\", \"maize\", \"major\", \"make\", \"make\", \"make\", \"manage\", \"manage\", \"management\", \"managing\", \"manner\", \"manner\", \"manner\", \"map\", \"map\", \"map\", \"material\", \"may\", \"may\", \"may\", \"may\", \"may\", \"may\", \"may\", \"mean\", \"measurement\", \"measurement\", \"measurement\", \"medium\", \"medium\", \"method\", \"method\", \"method\", \"method\", \"method\", \"method\", \"method\", \"method\", \"method\", \"method\", \"method\", \"method\", \"method\", \"method\", \"method\", \"methodology\", \"methodology\", \"metric\", \"micronutrient\", \"microorganism\", \"microorganism\", \"model\", \"model\", \"model\", \"model\", \"model\", \"modify\", \"modify\", \"modify\", \"modular\", \"moisture\", \"monitor\", \"monitoring\", \"mosaic\", \"multilayer\", \"multiple\", \"need\", \"need\", \"need\", \"network\", \"new\", \"new\", \"nitrogen\", \"nmu\", \"normally\", \"novel\", \"novel\", \"number\", \"number\", \"number\", \"nutrient\", \"nutrient\", \"nutrient\", \"object\", \"observation\", \"observation\", \"observation\", \"observation\", \"obtain\", \"obtain\", \"obtain\", \"obtain\", \"obtain\", \"obtain\", \"optimal\", \"order\", \"organic\", \"organic\", \"organize\", \"overhead\", \"palmitic\", \"palmitic\", \"parameter\", \"parameter\", \"partially\", \"participate\", \"particular\", \"particular\", \"particular\", \"particular\", \"party\", \"paste\", \"patent\", \"percent\", \"percent\", \"percentage\", \"performance\", \"performance\", \"permeability\", \"pertain\", \"pesticide\", \"phenomenon\", \"phenotyping\", \"phenotyping\", \"phosphate\", \"pixel\", \"plan\", \"plant\", \"plant\", \"plant\", \"plant\", \"plant\", \"plant\", \"plant\", \"plant\", \"plant\", \"planting\", \"planting\", \"planting\", \"plot\", \"plot\", \"plot\", \"plurality\", \"plurality\", \"plurality\", \"plurality\", \"pollination\", \"polyacrylamide\", \"portion\", \"portion\", \"portion\", \"possible\", \"possible\", \"possible\", \"possible\", \"potassium\", \"potential\", \"potential\", \"power\", \"precisely\", \"prefer\", \"prefer\", \"prepare\", \"prescription\", \"prescription\", \"present\", \"present\", \"present\", \"present\", \"present\", \"present\", \"price\", \"price\", \"primarily\", \"process\", \"process\", \"process\", \"process\", \"process\", \"process\", \"process\", \"processing\", \"processing\", \"processing\", \"processor\", \"processor\", \"produce\", \"produce\", \"produce\", \"producer\", \"product\", \"product\", \"product\", \"product\", \"product\", \"production\", \"production\", \"production\", \"production\", \"production\", \"production\", \"production\", \"production\", \"production\", \"profile\", \"profile\", \"profile\", \"progeny\", \"program\", \"property\", \"property\", \"property\", \"protect\", \"prove\", \"prove\", \"provide\", \"provide\", \"provide\", \"provide\", \"provide\", \"provide\", \"provide\", \"provide\", \"provide\", \"provide\", \"provide\", \"provide\", \"provide\", \"provided\", \"purpose\", \"qualitative\", \"qualitative\", \"quality\", \"quality\", \"radiation\", \"radiation\", \"radiation\", \"raise\", \"range\", \"range\", \"rate\", \"rate\", \"real\", \"real\", \"receive\", \"receive\", \"receive\", \"receive\", \"recommendation\", \"record\", \"reduce\", \"reduce\", \"reduce\", \"reduce\", \"reduce\", \"region\", \"relate\", \"relate\", \"relate\", \"relate\", \"related\", \"remote\", \"remote\", \"render\", \"reproductive\", \"request\", \"require\", \"respect\", \"response\", \"restricted\", \"result\", \"result\", \"sale\", \"sale\", \"salt\", \"sample\", \"satellite\", \"satellite\", \"satellite_imagery\", \"saturate\", \"say\", \"say\", \"say\", \"season\", \"season\", \"second\", \"seed\", \"seed\", \"seed\", \"seed\", \"select\", \"select\", \"select\", \"select\", \"select\", \"selection\", \"sell\", \"sense\", \"sensor\", \"sensor\", \"separate\", \"separation\", \"server\", \"service\", \"service\", \"service_provider\", \"set\", \"set\", \"set\", \"shape\", \"shape\", \"show\", \"show\", \"similar\", \"similar\", \"single\", \"site\", \"site\", \"size\", \"soil\", \"soil\", \"soil\", \"soil\", \"soil\", \"soilless\", \"solar\", \"solar\", \"solar_irradiance\", \"solar_irradiance\", \"solar_irradiance\", \"soluble\", \"solution\", \"source\", \"source\", \"soybean\", \"soybean\", \"spatial\", \"spatial\", \"spatial_relationship\", \"spatial_relationship\", \"specific\", \"specific\", \"specific\", \"specify\", \"specify\", \"specify\", \"standard\", \"station\", \"statistical\", \"stearic\", \"step\", \"step\", \"storage\", \"store\", \"store\", \"storing\", \"structure\", \"structure\", \"subject\", \"subsequent\", \"subsequent\", \"subsoil\", \"successive\", \"sun\", \"sun\", \"supplier\", \"support\", \"surface\", \"symbiotic\", \"synergistic\", \"synthetic\", \"system\", \"system\", \"system\", \"system\", \"system\", \"system\", \"system\", \"system\", \"system\", \"system\", \"system\", \"system\", \"system\", \"technology\", \"temperature\", \"temperature\", \"test\", \"third\", \"throughput\", \"thus\", \"thus\", \"time\", \"time\", \"time\", \"time\", \"tissue\", \"together\", \"tool\", \"tool\", \"tool\", \"tool\", \"total\", \"toxic\", \"toxicosis\", \"track\", \"tracking\", \"trainee\", \"trainee\", \"trainer\", \"trainer\", \"trait\", \"trait\", \"transmission\", \"treat\", \"treatment\", \"tree\", \"type\", \"type\", \"type\", \"type\", \"uas\", \"uptake\", \"use\", \"use\", \"use\", \"use\", \"use\", \"use\", \"use\", \"use\", \"use\", \"use\", \"use\", \"use\", \"use\", \"user\", \"utilize\", \"utilize\", \"utilize\", \"utilize\", \"utilize\", \"utilize\", \"value\", \"value\", \"variable\", \"variable\", \"variety\", \"variety\", \"vegetable\", \"vegetable_oil\", \"video\", \"video\", \"vigor\", \"water\", \"water\", \"water\", \"water\", \"water\", \"weather\", \"weather\", \"weather\", \"weather\", \"weight\", \"well\", \"whereby\", \"wherein\", \"wherein\", \"wide\", \"widely\", \"would\", \"year\", \"year\", \"year\", \"yield\", \"yield\", \"yield\", \"yield\", \"yield\", \"zone\"]}, \"R\": 30, \"lambda.step\": 0.01, \"plot.opts\": {\"xlab\": \"PC1\", \"ylab\": \"PC2\"}, \"topic.order\": [5, 14, 9, 6, 15, 10, 20, 4, 13, 11, 8, 3, 18, 2, 16, 12, 19, 7, 17, 1]};\n",
       "\n",
       "function LDAvis_load_lib(url, callback){\n",
       "  var s = document.createElement('script');\n",
       "  s.src = url;\n",
       "  s.async = true;\n",
       "  s.onreadystatechange = s.onload = callback;\n",
       "  s.onerror = function(){console.warn(\"failed to load library \" + url);};\n",
       "  document.getElementsByTagName(\"head\")[0].appendChild(s);\n",
       "}\n",
       "\n",
       "if(typeof(LDAvis) !== \"undefined\"){\n",
       "   // already loaded: just create the visualization\n",
       "   !function(LDAvis){\n",
       "       new LDAvis(\"#\" + \"ldavis_el59341401191561360802282421119\", ldavis_el59341401191561360802282421119_data);\n",
       "   }(LDAvis);\n",
       "}else if(typeof define === \"function\" && define.amd){\n",
       "   // require.js is available: use it to load d3/LDAvis\n",
       "   require.config({paths: {d3: \"https://cdnjs.cloudflare.com/ajax/libs/d3/3.5.5/d3.min\"}});\n",
       "   require([\"d3\"], function(d3){\n",
       "      window.d3 = d3;\n",
       "      LDAvis_load_lib(\"https://cdn.rawgit.com/bmabey/pyLDAvis/files/ldavis.v1.0.0.js\", function(){\n",
       "        new LDAvis(\"#\" + \"ldavis_el59341401191561360802282421119\", ldavis_el59341401191561360802282421119_data);\n",
       "      });\n",
       "    });\n",
       "}else{\n",
       "    // require.js not available: dynamically load d3 & LDAvis\n",
       "    LDAvis_load_lib(\"https://cdnjs.cloudflare.com/ajax/libs/d3/3.5.5/d3.min.js\", function(){\n",
       "         LDAvis_load_lib(\"https://cdn.rawgit.com/bmabey/pyLDAvis/files/ldavis.v1.0.0.js\", function(){\n",
       "                 new LDAvis(\"#\" + \"ldavis_el59341401191561360802282421119\", ldavis_el59341401191561360802282421119_data);\n",
       "            })\n",
       "         });\n",
       "}\n",
       "</script>"
      ],
      "text/plain": [
       "PreparedData(topic_coordinates=              x         y  topics  cluster       Freq\n",
       "topic                                                \n",
       "4     -0.444617  0.006218       1        1  43.184958\n",
       "13    -0.237587  0.116857       2        1  11.413419\n",
       "8     -0.125216 -0.351295       3        1   8.293293\n",
       "5     -0.099438  0.094875       4        1   8.071313\n",
       "14     0.044429 -0.026482       5        1   5.131216\n",
       "9     -0.084362  0.035982       6        1   4.628421\n",
       "19    -0.020394  0.062146       7        1   3.256138\n",
       "3     -0.054842  0.115139       8        1   3.148012\n",
       "12     0.058814 -0.013749       9        1   2.661346\n",
       "10     0.127779 -0.015487      10        1   2.592503\n",
       "7      0.079730  0.020047      11        1   2.393086\n",
       "2      0.039940  0.045823      12        1   1.600839\n",
       "17     0.100266  0.032985      13        1   1.038727\n",
       "1     -0.007592 -0.159546      14        1   0.882305\n",
       "15     0.071535  0.056306      15        1   0.780259\n",
       "11     0.115069  0.021777      16        1   0.490964\n",
       "18     0.100963  0.027174      17        1   0.160955\n",
       "6      0.102735 -0.048879      18        1   0.091797\n",
       "16     0.105394 -0.040337      19        1   0.091576\n",
       "0      0.127394  0.020446      20        1   0.088873, topic_info=           Term         Freq        Total Category  logprob  loglift\n",
       "646        corn   772.000000   772.000000  Default  30.0000  30.0000\n",
       "162       plant  1601.000000  1601.000000  Default  29.0000  29.0000\n",
       "639     soybean   167.000000   167.000000  Default  28.0000  28.0000\n",
       "48         seed   582.000000   582.000000  Default  27.0000  27.0000\n",
       "157     include   153.000000   153.000000  Default  26.0000  26.0000\n",
       "..          ...          ...          ...      ...      ...      ...\n",
       "454      amount     0.009959    27.476461  Topic20  -7.2337  -0.8969\n",
       "460    describe     0.010001    56.332614  Topic20  -7.2296  -1.6107\n",
       "145        also     0.009932   133.064867  Topic20  -7.2365  -2.4771\n",
       "464     exhibit     0.009867    26.261134  Topic20  -7.2431  -0.8610\n",
       "34   fertilizer     0.009821    33.591965  Topic20  -7.2478  -1.1119\n",
       "\n",
       "[1007 rows x 6 columns], token_table=      Topic      Freq    Term\n",
       "term                         \n",
       "91        1  0.218344  access\n",
       "91        4  0.218344  access\n",
       "91        8  0.218344  access\n",
       "0         1  0.953777  accord\n",
       "0         4  0.018702  accord\n",
       "...     ...       ...     ...\n",
       "52        4  0.028225   yield\n",
       "52        5  0.014113   yield\n",
       "52        8  0.183465   yield\n",
       "52       15  0.014113   yield\n",
       "53        2  0.668424    zone\n",
       "\n",
       "[967 rows x 3 columns], R=30, lambda_step=0.01, plot_opts={'xlab': 'PC1', 'ylab': 'PC2'}, topic_order=[5, 14, 9, 6, 15, 10, 20, 4, 13, 11, 8, 3, 18, 2, 16, 12, 19, 7, 17, 1])"
      ]
     },
     "execution_count": 28,
     "metadata": {},
     "output_type": "execute_result"
    }
   ],
   "source": [
    "# Visualize the topics\n",
    "pyLDAvis.enable_notebook()\n",
    "vis = pyLDAvis.gensim.prepare(lda_model, corpus, id2word)\n",
    "vis"
   ]
  },
  {
   "cell_type": "code",
   "execution_count": 29,
   "metadata": {},
   "outputs": [
    {
     "name": "stderr",
     "output_type": "stream",
     "text": [
      "/home/henrique/anaconda3/lib/python3.8/site-packages/ipykernel/ipkernel.py:287: DeprecationWarning: `should_run_async` will not call `transform_cell` automatically in the future. Please pass the result to `transformed_cell` argument and any exception that happen during thetransform in `preprocessing_exc_tuple` in IPython 7.17 and above.\n",
      "  and should_run_async(code)\n"
     ]
    }
   ],
   "source": [
    "def compute_coherence_values(dictionary, corpus, texts, limit, start=2, step=3):\n",
    "    \"\"\"\n",
    "    Compute c_v coherence for various number of topics\n",
    "\n",
    "    Parameters:\n",
    "    ----------\n",
    "    dictionary : Gensim dictionary\n",
    "    corpus : Gensim corpus\n",
    "    texts : List of input texts\n",
    "    limit : Max num of topics\n",
    "\n",
    "    Returns:\n",
    "    -------\n",
    "    model_list : List of LDA topic models\n",
    "    coherence_values : Coherence values corresponding to the LDA model with respective number of topics\n",
    "    \"\"\"\n",
    "    coherence_values = []\n",
    "    model_list = []\n",
    "    for num_topics in range(start, limit, step):\n",
    "        model = gensim.models.ldamodel.LdaModel(corpus=corpus,\n",
    "                                      id2word = id2word,\n",
    "                                      num_topics = num_topics,\n",
    "                                      random_state = 150,\n",
    "                                      update_every = 1,\n",
    "                                      chunksize = 100,\n",
    "                                      alpha = 'auto',\n",
    "                                      per_word_topics = True)\n",
    "        model_list.append(model)\n",
    "        coherencemodel = CoherenceModel(model=model, texts=texts, dictionary=dictionary, coherence='c_v')\n",
    "        coherence_values.append(coherencemodel.get_coherence())\n",
    "\n",
    "    return model_list, coherence_values"
   ]
  },
  {
   "cell_type": "code",
   "execution_count": 30,
   "metadata": {},
   "outputs": [
    {
     "name": "stderr",
     "output_type": "stream",
     "text": [
      "/home/henrique/anaconda3/lib/python3.8/site-packages/ipykernel/ipkernel.py:287: DeprecationWarning: `should_run_async` will not call `transform_cell` automatically in the future. Please pass the result to `transformed_cell` argument and any exception that happen during thetransform in `preprocessing_exc_tuple` in IPython 7.17 and above.\n",
      "  and should_run_async(code)\n"
     ]
    }
   ],
   "source": [
    "model_list, coherence_values = compute_coherence_values(dictionary=id2word, corpus=corpus, texts=data_lemmatized, start=2, limit=40, step=6)"
   ]
  },
  {
   "cell_type": "code",
   "execution_count": 31,
   "metadata": {},
   "outputs": [
    {
     "name": "stderr",
     "output_type": "stream",
     "text": [
      "/home/henrique/anaconda3/lib/python3.8/site-packages/ipykernel/ipkernel.py:287: DeprecationWarning: `should_run_async` will not call `transform_cell` automatically in the future. Please pass the result to `transformed_cell` argument and any exception that happen during thetransform in `preprocessing_exc_tuple` in IPython 7.17 and above.\n",
      "  and should_run_async(code)\n",
      "/home/henrique/anaconda3/lib/python3.8/site-packages/seaborn/_decorators.py:36: FutureWarning: Pass the following variables as keyword args: x, y. From version 0.12, the only valid positional argument will be `data`, and passing other arguments without an explicit keyword will result in an error or misinterpretation.\n",
      "  warnings.warn(\n"
     ]
    },
    {
     "data": {
      "image/png": "[encoded data removed]",
      "text/plain": [
       "<Figure size 864x432 with 1 Axes>"
      ]
     },
     "metadata": {},
     "output_type": "display_data"
    }
   ],
   "source": [
    "limit=40; start=2; step=6;\n",
    "x = range(start, limit, step)\n",
    "\n",
    "sns.set_palette('Accent')\n",
    "sns.set_style('darkgrid')\n",
    "ax = sns.lineplot(x, coherence_values)\n",
    "ax.figure.set_size_inches(12,6)\n",
    "ax.set_title(\"Distribuição dos valores de Coherence\", loc='left', fontsize=18)\n",
    "ax.set_xlabel(\"Número de tópicos\", fontsize=14)\n",
    "ax.set_ylabel(\"Valores de Coherence\", fontsize=14)\n",
    "ax = ax"
   ]
  },
  {
   "cell_type": "code",
   "execution_count": 32,
   "metadata": {},
   "outputs": [
    {
     "name": "stdout",
     "output_type": "stream",
     "text": [
      "Num Topics = 2  has Coherence Value of 0.6023\n",
      "Num Topics = 8  has Coherence Value of 0.3581\n",
      "Num Topics = 14  has Coherence Value of 0.4134\n",
      "Num Topics = 20  has Coherence Value of 0.4456\n",
      "Num Topics = 26  has Coherence Value of 0.4148\n",
      "Num Topics = 32  has Coherence Value of 0.4896\n",
      "Num Topics = 38  has Coherence Value of 0.5052\n"
     ]
    },
    {
     "name": "stderr",
     "output_type": "stream",
     "text": [
      "/home/henrique/anaconda3/lib/python3.8/site-packages/ipykernel/ipkernel.py:287: DeprecationWarning: `should_run_async` will not call `transform_cell` automatically in the future. Please pass the result to `transformed_cell` argument and any exception that happen during thetransform in `preprocessing_exc_tuple` in IPython 7.17 and above.\n",
      "  and should_run_async(code)\n"
     ]
    }
   ],
   "source": [
    "# Print the coherence scores\n",
    "for m, cv in zip(x, coherence_values):\n",
    "    print(\"Num Topics =\", m, \" has Coherence Value of\", round(cv, 4))"
   ]
  },
  {
   "cell_type": "code",
   "execution_count": 33,
   "metadata": {},
   "outputs": [
    {
     "name": "stdout",
     "output_type": "stream",
     "text": [
      "[(0, '0.001*\"water\" + 0.001*\"soil\" + 0.001*\"plant\" + 0.001*\"nutrient\" + 0.001*\"percent\" + 0.001*\"hydrolyze\" + 0.001*\"group\" + 0.001*\"polyacrylamide\" + 0.001*\"weight\" + 0.001*\"soluble\"'), (1, '0.082*\"soybean\" + 0.079*\"product\" + 0.062*\"content\" + 0.031*\"high\" + 0.022*\"determine\" + 0.020*\"provide\" + 0.017*\"line\" + 0.017*\"use\" + 0.016*\"acid\" + 0.014*\"composition\"'), (2, '0.067*\"nitrogen\" + 0.052*\"make\" + 0.040*\"calcium\" + 0.033*\"comprise\" + 0.031*\"medium\" + 0.031*\"moisture\" + 0.031*\"wherein\" + 0.027*\"disperse\" + 0.024*\"soil\" + 0.018*\"micronutrient\"'), (3, '0.063*\"combination\" + 0.053*\"reduce\" + 0.049*\"temperature\" + 0.049*\"production\" + 0.040*\"use\" + 0.038*\"link\" + 0.034*\"crop\" + 0.027*\"increase\" + 0.026*\"yield\" + 0.024*\"mean\"'), (4, '0.216*\"plant\" + 0.115*\"corn\" + 0.081*\"invention\" + 0.077*\"variety\" + 0.071*\"seed\" + 0.060*\"produce\" + 0.052*\"ch\" + 0.048*\"relate\" + 0.038*\"hybrid\" + 0.030*\"method\"'), (5, '0.073*\"method\" + 0.069*\"crop\" + 0.064*\"use\" + 0.052*\"material\" + 0.043*\"present\" + 0.032*\"express\" + 0.030*\"comprise\" + 0.026*\"system\" + 0.025*\"harvest\" + 0.025*\"process\"'), (6, '0.008*\"image\" + 0.007*\"spatial\" + 0.006*\"acid\" + 0.006*\"soybean\" + 0.006*\"content\" + 0.005*\"method\" + 0.004*\"structure\" + 0.004*\"line\" + 0.004*\"less\" + 0.003*\"palmitic\"'), (7, '0.145*\"least\" + 0.107*\"time\" + 0.051*\"control\" + 0.045*\"process\" + 0.036*\"processor\" + 0.035*\"include\" + 0.021*\"support\" + 0.018*\"station\" + 0.015*\"store\" + 0.015*\"accumulate\"'), (8, '0.121*\"soybean\" + 0.085*\"acid\" + 0.078*\"composition\" + 0.067*\"content\" + 0.062*\"line\" + 0.041*\"disclose\" + 0.027*\"less\" + 0.027*\"also\" + 0.026*\"progeny\" + 0.024*\"method\"'), (9, '0.047*\"gene\" + 0.044*\"method\" + 0.033*\"growth\" + 0.029*\"amount\" + 0.027*\"range\" + 0.027*\"use\" + 0.026*\"medium\" + 0.025*\"present\" + 0.025*\"microorganism\" + 0.025*\"comprise\"'), (10, '0.033*\"solar\" + 0.028*\"estimate\" + 0.028*\"capture\" + 0.027*\"energy\" + 0.027*\"weather\" + 0.023*\"satellite\" + 0.019*\"high\" + 0.017*\"model\" + 0.015*\"location\" + 0.012*\"limited\"'), (11, '0.049*\"plurality\" + 0.032*\"equipment\" + 0.012*\"datum\" + 0.012*\"field\" + 0.010*\"production\" + 0.010*\"system\" + 0.009*\"component\" + 0.009*\"agricultural\" + 0.008*\"impact\" + 0.007*\"receive\"'), (12, '0.061*\"grass\" + 0.059*\"use\" + 0.056*\"effective\" + 0.045*\"result\" + 0.045*\"make\" + 0.030*\"prefer\" + 0.024*\"reduce\" + 0.021*\"present\" + 0.019*\"treatment\" + 0.019*\"object\"'), (13, '0.056*\"seed\" + 0.053*\"plant\" + 0.045*\"method\" + 0.041*\"soil\" + 0.039*\"improve\" + 0.035*\"increase\" + 0.032*\"water\" + 0.030*\"yield\" + 0.027*\"provide\" + 0.022*\"crop\"'), (14, '0.038*\"value\" + 0.034*\"area\" + 0.034*\"use\" + 0.032*\"datum\" + 0.029*\"storage\" + 0.028*\"field\" + 0.028*\"determine\" + 0.024*\"selection\" + 0.022*\"high\" + 0.022*\"different\"'), (15, '0.027*\"base\" + 0.026*\"information\" + 0.013*\"back\" + 0.013*\"soil\" + 0.012*\"lawn\" + 0.012*\"profile\" + 0.009*\"plot\" + 0.009*\"method\" + 0.009*\"fertilizer\" + 0.008*\"land\"'), (16, '0.009*\"acid\" + 0.006*\"soybean\" + 0.005*\"content\" + 0.004*\"less\" + 0.003*\"line\" + 0.003*\"low\" + 0.003*\"palmitic\" + 0.003*\"stearic\" + 0.002*\"select\" + 0.002*\"method\"'), (17, '0.175*\"level\" + 0.045*\"feature\" + 0.036*\"maintain\" + 0.028*\"facilitate\" + 0.028*\"desire\" + 0.013*\"thus\" + 0.012*\"use\" + 0.010*\"expand\" + 0.010*\"range\" + 0.010*\"system\"'), (18, '0.057*\"say\" + 0.035*\"modify\" + 0.033*\"comprise\" + 0.007*\"gene\" + 0.005*\"present\" + 0.005*\"step\" + 0.004*\"method\" + 0.004*\"enhance\" + 0.003*\"production\" + 0.003*\"fermentative\"'), (19, '0.226*\"include\" + 0.075*\"second\" + 0.049*\"first\" + 0.034*\"trait\" + 0.029*\"set\" + 0.029*\"configure\" + 0.029*\"embodiment\" + 0.025*\"method\" + 0.022*\"provide\" + 0.021*\"plant\"')]\n"
     ]
    },
    {
     "name": "stderr",
     "output_type": "stream",
     "text": [
      "/home/henrique/anaconda3/lib/python3.8/site-packages/ipykernel/ipkernel.py:287: DeprecationWarning: `should_run_async` will not call `transform_cell` automatically in the future. Please pass the result to `transformed_cell` argument and any exception that happen during thetransform in `preprocessing_exc_tuple` in IPython 7.17 and above.\n",
      "  and should_run_async(code)\n"
     ]
    }
   ],
   "source": [
    "# Select the model and print the topics\n",
    "optimal_model = model_list[3]\n",
    "model_topics = optimal_model.show_topics(formatted=False)\n",
    "print(optimal_model.print_topics())"
   ]
  },
  {
   "cell_type": "code",
   "execution_count": 34,
   "metadata": {},
   "outputs": [
    {
     "name": "stderr",
     "output_type": "stream",
     "text": [
      "/home/henrique/anaconda3/lib/python3.8/site-packages/ipykernel/ipkernel.py:287: DeprecationWarning: `should_run_async` will not call `transform_cell` automatically in the future. Please pass the result to `transformed_cell` argument and any exception that happen during thetransform in `preprocessing_exc_tuple` in IPython 7.17 and above.\n",
      "  and should_run_async(code)\n"
     ]
    },
    {
     "data": {
      "text/plain": [
       "[(0,\n",
       "  [('water', 0.0014739992),\n",
       "   ('soil', 0.0014173473),\n",
       "   ('plant', 0.0013409043),\n",
       "   ('nutrient', 0.0011502601),\n",
       "   ('percent', 0.0011445954),\n",
       "   ('hydrolyze', 0.0011084325),\n",
       "   ('group', 0.0009562068),\n",
       "   ('polyacrylamide', 0.0009254546),\n",
       "   ('weight', 0.00091675296),\n",
       "   ('soluble', 0.0008835679)]),\n",
       " (16,\n",
       "  [('acid', 0.008697635),\n",
       "   ('soybean', 0.005686916),\n",
       "   ('content', 0.0045626806),\n",
       "   ('less', 0.004136049),\n",
       "   ('line', 0.003487462),\n",
       "   ('low', 0.0031592213),\n",
       "   ('palmitic', 0.0028420065),\n",
       "   ('stearic', 0.0026734322),\n",
       "   ('select', 0.0023838496),\n",
       "   ('method', 0.002351001)]),\n",
       " (6,\n",
       "  [('image', 0.0080461735),\n",
       "   ('spatial', 0.0067648515),\n",
       "   ('acid', 0.006176685),\n",
       "   ('soybean', 0.0061557814),\n",
       "   ('content', 0.0057268054),\n",
       "   ('method', 0.0049195555),\n",
       "   ('structure', 0.0042798966),\n",
       "   ('line', 0.0037921302),\n",
       "   ('less', 0.0037888777),\n",
       "   ('palmitic', 0.0034107966)]),\n",
       " (18,\n",
       "  [('say', 0.056815967),\n",
       "   ('modify', 0.034615725),\n",
       "   ('comprise', 0.032711904),\n",
       "   ('gene', 0.006654398),\n",
       "   ('present', 0.005327606),\n",
       "   ('step', 0.0045913584),\n",
       "   ('method', 0.004287982),\n",
       "   ('enhance', 0.003983998),\n",
       "   ('production', 0.003488919),\n",
       "   ('fermentative', 0.0034817155)]),\n",
       " (11,\n",
       "  [('plurality', 0.048617516),\n",
       "   ('equipment', 0.0323297),\n",
       "   ('datum', 0.011912865),\n",
       "   ('field', 0.011762785),\n",
       "   ('production', 0.009625512),\n",
       "   ('system', 0.009608019),\n",
       "   ('component', 0.009034295),\n",
       "   ('agricultural', 0.008753617),\n",
       "   ('impact', 0.007805066),\n",
       "   ('receive', 0.006824899)]),\n",
       " (9,\n",
       "  [('gene', 0.046968773),\n",
       "   ('method', 0.04436937),\n",
       "   ('growth', 0.033215016),\n",
       "   ('amount', 0.029192718),\n",
       "   ('range', 0.02724595),\n",
       "   ('use', 0.026508989),\n",
       "   ('medium', 0.025639845),\n",
       "   ('present', 0.024673091),\n",
       "   ('microorganism', 0.024601534),\n",
       "   ('comprise', 0.024558416)]),\n",
       " (5,\n",
       "  [('method', 0.07264473),\n",
       "   ('crop', 0.06888818),\n",
       "   ('use', 0.0639268),\n",
       "   ('material', 0.051929105),\n",
       "   ('present', 0.04339668),\n",
       "   ('express', 0.03248147),\n",
       "   ('comprise', 0.029739978),\n",
       "   ('system', 0.026214292),\n",
       "   ('harvest', 0.02497873),\n",
       "   ('process', 0.024698906)]),\n",
       " (8,\n",
       "  [('soybean', 0.12083929),\n",
       "   ('acid', 0.084592946),\n",
       "   ('composition', 0.07803673),\n",
       "   ('content', 0.06654352),\n",
       "   ('line', 0.061840903),\n",
       "   ('disclose', 0.041019637),\n",
       "   ('less', 0.02720727),\n",
       "   ('also', 0.026699526),\n",
       "   ('progeny', 0.026263617),\n",
       "   ('method', 0.024433892)]),\n",
       " (13,\n",
       "  [('seed', 0.056390744),\n",
       "   ('plant', 0.052800715),\n",
       "   ('method', 0.045256145),\n",
       "   ('soil', 0.041414447),\n",
       "   ('improve', 0.039347112),\n",
       "   ('increase', 0.034918167),\n",
       "   ('water', 0.03193251),\n",
       "   ('yield', 0.029630883),\n",
       "   ('provide', 0.026926763),\n",
       "   ('crop', 0.021885378)]),\n",
       " (4,\n",
       "  [('plant', 0.2163846),\n",
       "   ('corn', 0.11513328),\n",
       "   ('invention', 0.080828115),\n",
       "   ('variety', 0.076517045),\n",
       "   ('seed', 0.071449496),\n",
       "   ('produce', 0.060171742),\n",
       "   ('ch', 0.05248539),\n",
       "   ('relate', 0.048192017),\n",
       "   ('hybrid', 0.037644226),\n",
       "   ('method', 0.029744092)])]"
      ]
     },
     "execution_count": 34,
     "metadata": {},
     "output_type": "execute_result"
    }
   ],
   "source": [
    "model_topics"
   ]
  },
  {
   "cell_type": "code",
   "execution_count": 35,
   "metadata": {},
   "outputs": [
    {
     "name": "stderr",
     "output_type": "stream",
     "text": [
      "/home/henrique/anaconda3/lib/python3.8/site-packages/ipykernel/ipkernel.py:287: DeprecationWarning: `should_run_async` will not call `transform_cell` automatically in the future. Please pass the result to `transformed_cell` argument and any exception that happen during thetransform in `preprocessing_exc_tuple` in IPython 7.17 and above.\n",
      "  and should_run_async(code)\n"
     ]
    },
    {
     "data": {
      "text/plain": [
       "[(0,\n",
       "  '0.001*\"water\" + 0.001*\"soil\" + 0.001*\"plant\" + 0.001*\"nutrient\" + 0.001*\"percent\" + 0.001*\"hydrolyze\" + 0.001*\"group\" + 0.001*\"polyacrylamide\" + 0.001*\"weight\" + 0.001*\"soluble\"'),\n",
       " (1,\n",
       "  '0.082*\"soybean\" + 0.079*\"product\" + 0.062*\"content\" + 0.031*\"high\" + 0.022*\"determine\" + 0.020*\"provide\" + 0.017*\"line\" + 0.017*\"use\" + 0.016*\"acid\" + 0.014*\"composition\"'),\n",
       " (2,\n",
       "  '0.067*\"nitrogen\" + 0.052*\"make\" + 0.040*\"calcium\" + 0.033*\"comprise\" + 0.031*\"medium\" + 0.031*\"moisture\" + 0.031*\"wherein\" + 0.027*\"disperse\" + 0.024*\"soil\" + 0.018*\"micronutrient\"'),\n",
       " (3,\n",
       "  '0.063*\"combination\" + 0.053*\"reduce\" + 0.049*\"temperature\" + 0.049*\"production\" + 0.040*\"use\" + 0.038*\"link\" + 0.034*\"crop\" + 0.027*\"increase\" + 0.026*\"yield\" + 0.024*\"mean\"'),\n",
       " (4,\n",
       "  '0.216*\"plant\" + 0.115*\"corn\" + 0.081*\"invention\" + 0.077*\"variety\" + 0.071*\"seed\" + 0.060*\"produce\" + 0.052*\"ch\" + 0.048*\"relate\" + 0.038*\"hybrid\" + 0.030*\"method\"'),\n",
       " (5,\n",
       "  '0.073*\"method\" + 0.069*\"crop\" + 0.064*\"use\" + 0.052*\"material\" + 0.043*\"present\" + 0.032*\"express\" + 0.030*\"comprise\" + 0.026*\"system\" + 0.025*\"harvest\" + 0.025*\"process\"'),\n",
       " (6,\n",
       "  '0.008*\"image\" + 0.007*\"spatial\" + 0.006*\"acid\" + 0.006*\"soybean\" + 0.006*\"content\" + 0.005*\"method\" + 0.004*\"structure\" + 0.004*\"line\" + 0.004*\"less\" + 0.003*\"palmitic\"'),\n",
       " (7,\n",
       "  '0.145*\"least\" + 0.107*\"time\" + 0.051*\"control\" + 0.045*\"process\" + 0.036*\"processor\" + 0.035*\"include\" + 0.021*\"support\" + 0.018*\"station\" + 0.015*\"store\" + 0.015*\"accumulate\"'),\n",
       " (8,\n",
       "  '0.121*\"soybean\" + 0.085*\"acid\" + 0.078*\"composition\" + 0.067*\"content\" + 0.062*\"line\" + 0.041*\"disclose\" + 0.027*\"less\" + 0.027*\"also\" + 0.026*\"progeny\" + 0.024*\"method\"'),\n",
       " (9,\n",
       "  '0.047*\"gene\" + 0.044*\"method\" + 0.033*\"growth\" + 0.029*\"amount\" + 0.027*\"range\" + 0.027*\"use\" + 0.026*\"medium\" + 0.025*\"present\" + 0.025*\"microorganism\" + 0.025*\"comprise\"'),\n",
       " (10,\n",
       "  '0.033*\"solar\" + 0.028*\"estimate\" + 0.028*\"capture\" + 0.027*\"energy\" + 0.027*\"weather\" + 0.023*\"satellite\" + 0.019*\"high\" + 0.017*\"model\" + 0.015*\"location\" + 0.012*\"limited\"'),\n",
       " (11,\n",
       "  '0.049*\"plurality\" + 0.032*\"equipment\" + 0.012*\"datum\" + 0.012*\"field\" + 0.010*\"production\" + 0.010*\"system\" + 0.009*\"component\" + 0.009*\"agricultural\" + 0.008*\"impact\" + 0.007*\"receive\"'),\n",
       " (12,\n",
       "  '0.061*\"grass\" + 0.059*\"use\" + 0.056*\"effective\" + 0.045*\"result\" + 0.045*\"make\" + 0.030*\"prefer\" + 0.024*\"reduce\" + 0.021*\"present\" + 0.019*\"treatment\" + 0.019*\"object\"'),\n",
       " (13,\n",
       "  '0.056*\"seed\" + 0.053*\"plant\" + 0.045*\"method\" + 0.041*\"soil\" + 0.039*\"improve\" + 0.035*\"increase\" + 0.032*\"water\" + 0.030*\"yield\" + 0.027*\"provide\" + 0.022*\"crop\"'),\n",
       " (14,\n",
       "  '0.038*\"value\" + 0.034*\"area\" + 0.034*\"use\" + 0.032*\"datum\" + 0.029*\"storage\" + 0.028*\"field\" + 0.028*\"determine\" + 0.024*\"selection\" + 0.022*\"high\" + 0.022*\"different\"'),\n",
       " (15,\n",
       "  '0.027*\"base\" + 0.026*\"information\" + 0.013*\"back\" + 0.013*\"soil\" + 0.012*\"lawn\" + 0.012*\"profile\" + 0.009*\"plot\" + 0.009*\"method\" + 0.009*\"fertilizer\" + 0.008*\"land\"'),\n",
       " (16,\n",
       "  '0.009*\"acid\" + 0.006*\"soybean\" + 0.005*\"content\" + 0.004*\"less\" + 0.003*\"line\" + 0.003*\"low\" + 0.003*\"palmitic\" + 0.003*\"stearic\" + 0.002*\"select\" + 0.002*\"method\"'),\n",
       " (17,\n",
       "  '0.175*\"level\" + 0.045*\"feature\" + 0.036*\"maintain\" + 0.028*\"facilitate\" + 0.028*\"desire\" + 0.013*\"thus\" + 0.012*\"use\" + 0.010*\"expand\" + 0.010*\"range\" + 0.010*\"system\"'),\n",
       " (18,\n",
       "  '0.057*\"say\" + 0.035*\"modify\" + 0.033*\"comprise\" + 0.007*\"gene\" + 0.005*\"present\" + 0.005*\"step\" + 0.004*\"method\" + 0.004*\"enhance\" + 0.003*\"production\" + 0.003*\"fermentative\"'),\n",
       " (19,\n",
       "  '0.226*\"include\" + 0.075*\"second\" + 0.049*\"first\" + 0.034*\"trait\" + 0.029*\"set\" + 0.029*\"configure\" + 0.029*\"embodiment\" + 0.025*\"method\" + 0.022*\"provide\" + 0.021*\"plant\"')]"
      ]
     },
     "execution_count": 35,
     "metadata": {},
     "output_type": "execute_result"
    }
   ],
   "source": [
    "optimal_model.print_topics()"
   ]
  },
  {
   "cell_type": "code",
   "execution_count": 36,
   "metadata": {},
   "outputs": [
    {
     "name": "stderr",
     "output_type": "stream",
     "text": [
      "/home/henrique/anaconda3/lib/python3.8/site-packages/ipykernel/ipkernel.py:287: DeprecationWarning: `should_run_async` will not call `transform_cell` automatically in the future. Please pass the result to `transformed_cell` argument and any exception that happen during thetransform in `preprocessing_exc_tuple` in IPython 7.17 and above.\n",
      "  and should_run_async(code)\n"
     ]
    },
    {
     "data": {
      "text/plain": [
       "[(449, 0.0014739995),\n",
       " (49, 0.0014173476),\n",
       " (162, 0.0013409045),\n",
       " (472, 0.0011502603),\n",
       " (474, 0.0011445957),\n",
       " (469, 0.0011084328),\n",
       " (467, 0.000956207),\n",
       " (477, 0.0009254548),\n",
       " (488, 0.00091675314),\n",
       " (482, 0.0008835681)]"
      ]
     },
     "execution_count": 36,
     "metadata": {},
     "output_type": "execute_result"
    }
   ],
   "source": [
    "optimal_model.get_topic_terms(0)"
   ]
  },
  {
   "cell_type": "code",
   "execution_count": 37,
   "metadata": {},
   "outputs": [
    {
     "name": "stderr",
     "output_type": "stream",
     "text": [
      "/home/henrique/anaconda3/lib/python3.8/site-packages/ipykernel/ipkernel.py:287: DeprecationWarning: `should_run_async` will not call `transform_cell` automatically in the future. Please pass the result to `transformed_cell` argument and any exception that happen during thetransform in `preprocessing_exc_tuple` in IPython 7.17 and above.\n",
      "  and should_run_async(code)\n"
     ]
    }
   ],
   "source": [
    "c = dict()\n",
    "for i in range(20):\n",
    "    for a,b in optimal_model.get_topic_terms(i):\n",
    "        \n",
    "        if not a in c.keys():\n",
    "            c[a] = 1\n",
    "        else:\n",
    "            c[a] += 1\n",
    "        \n",
    "        "
   ]
  },
  {
   "cell_type": "code",
   "execution_count": 38,
   "metadata": {},
   "outputs": [
    {
     "name": "stderr",
     "output_type": "stream",
     "text": [
      "/home/henrique/anaconda3/lib/python3.8/site-packages/ipykernel/ipkernel.py:287: DeprecationWarning: `should_run_async` will not call `transform_cell` automatically in the future. Please pass the result to `transformed_cell` argument and any exception that happen during thetransform in `preprocessing_exc_tuple` in IPython 7.17 and above.\n",
      "  and should_run_async(code)\n"
     ]
    },
    {
     "name": "stdout",
     "output_type": "stream",
     "text": [
      "{449: 2, 49: 4, 162: 4, 472: 1, 474: 1, 469: 1, 467: 1, 477: 1, 488: 1, 482: 1, 639: 4, 127: 1, 630: 4, 223: 3, 370: 2, 20: 3, 634: 4, 23: 7, 451: 4, 629: 2, 623: 1, 72: 2, 614: 1, 98: 4, 551: 2, 622: 1, 89: 1, 616: 1, 621: 1, 331: 1, 353: 2, 359: 1, 78: 3, 344: 1, 30: 3, 343: 2, 52: 2, 345: 1, 646: 1, 304: 1, 642: 1, 48: 2, 521: 1, 644: 1, 46: 1, 649: 1, 13: 10, 574: 1, 18: 4, 9: 1, 22: 3, 112: 1, 19: 2, 224: 1, 315: 1, 317: 1, 633: 3, 637: 2, 71: 1, 197: 1, 176: 1, 185: 1, 157: 2, 196: 1, 193: 1, 194: 1, 169: 1, 215: 1, 145: 1, 638: 1, 589: 2, 111: 1, 454: 1, 559: 2, 591: 1, 399: 1, 375: 1, 368: 1, 374: 1, 139: 1, 191: 1, 15: 1, 275: 1, 385: 1, 124: 1, 107: 1, 6: 2, 10: 2, 97: 1, 55: 1, 380: 1, 82: 1, 657: 1, 372: 1, 665: 1, 520: 1, 670: 1, 512: 1, 471: 1, 249: 1, 200: 1, 247: 1, 243: 1, 213: 1, 172: 1, 36: 1, 413: 1, 427: 1, 45: 1, 43: 1, 34: 1, 38: 1, 276: 1, 640: 1, 84: 1, 274: 1, 272: 1, 277: 1, 271: 1, 499: 1, 287: 1, 270: 1, 596: 1, 592: 1, 597: 1, 587: 1, 588: 1, 163: 1, 153: 1, 168: 1, 86: 1, 150: 1, 151: 1}\n"
     ]
    }
   ],
   "source": [
    "print(c)"
   ]
  },
  {
   "cell_type": "code",
   "execution_count": 39,
   "metadata": {},
   "outputs": [
    {
     "name": "stderr",
     "output_type": "stream",
     "text": [
      "/home/henrique/anaconda3/lib/python3.8/site-packages/ipykernel/ipkernel.py:287: DeprecationWarning: `should_run_async` will not call `transform_cell` automatically in the future. Please pass the result to `transformed_cell` argument and any exception that happen during thetransform in `preprocessing_exc_tuple` in IPython 7.17 and above.\n",
      "  and should_run_async(code)\n"
     ]
    },
    {
     "data": {
      "text/plain": [
       "133"
      ]
     },
     "execution_count": 39,
     "metadata": {},
     "output_type": "execute_result"
    }
   ],
   "source": [
    "len(c.keys())"
   ]
  },
  {
   "cell_type": "code",
   "execution_count": null,
   "metadata": {},
   "outputs": [],
   "source": []
  },
  {
   "cell_type": "code",
   "execution_count": 40,
   "metadata": {},
   "outputs": [
    {
     "name": "stderr",
     "output_type": "stream",
     "text": [
      "/home/henrique/anaconda3/lib/python3.8/site-packages/ipykernel/ipkernel.py:287: DeprecationWarning: `should_run_async` will not call `transform_cell` automatically in the future. Please pass the result to `transformed_cell` argument and any exception that happen during thetransform in `preprocessing_exc_tuple` in IPython 7.17 and above.\n",
      "  and should_run_async(code)\n"
     ]
    },
    {
     "data": {
      "text/plain": [
       "[(449, 0.0014739995),\n",
       " (49, 0.0014173476),\n",
       " (162, 0.0013409045),\n",
       " (472, 0.0011502603),\n",
       " (474, 0.0011445957),\n",
       " (469, 0.0011084328),\n",
       " (467, 0.000956207),\n",
       " (477, 0.0009254548),\n",
       " (488, 0.00091675314),\n",
       " (482, 0.0008835681)]"
      ]
     },
     "execution_count": 40,
     "metadata": {},
     "output_type": "execute_result"
    }
   ],
   "source": [
    "optimal_model.get_topic_terms(0)"
   ]
  },
  {
   "cell_type": "code",
   "execution_count": null,
   "metadata": {},
   "outputs": [],
   "source": []
  },
  {
   "cell_type": "code",
   "execution_count": 41,
   "metadata": {},
   "outputs": [
    {
     "name": "stderr",
     "output_type": "stream",
     "text": [
      "/home/henrique/anaconda3/lib/python3.8/site-packages/ipykernel/ipkernel.py:287: DeprecationWarning: `should_run_async` will not call `transform_cell` automatically in the future. Please pass the result to `transformed_cell` argument and any exception that happen during thetransform in `preprocessing_exc_tuple` in IPython 7.17 and above.\n",
      "  and should_run_async(code)\n"
     ]
    }
   ],
   "source": [
    "# def format_topics_sentences(ldamodel=None, corpus=None, texts=None):\n",
    "#     # Init output\n",
    "#     sent_topics_df = pd.DataFrame()\n",
    "\n",
    "#     # Get main topic in each document\n",
    "#     for i, row in enumerate(ldamodel[corpus]):\n",
    "        \n",
    "#         row = sorted(row, key=lambda x: (x[1]), reverse=True)\n",
    "#         # Get the Dominant topic, Perc Contribution and Keywords for each document\n",
    "#         for j, (topic_num, prop_topic) in enumerate(row):\n",
    "#             print(j, (topic_num, prop_topic))\n",
    "#             if j == 0:  # => dominant topic\n",
    "#                 wp = ldamodel.show_topic(topic_num)\n",
    "#                 topic_keywords = \", \".join([word for word, prop in wp])\n",
    "#                 sent_topics_df = sent_topics_df.append(pd.Series([int(topic_num), round(prop_topic,4), topic_keywords]), ignore_index=True)\n",
    "#             else:\n",
    "#                 break\n",
    "#     sent_topics_df.columns = ['Dominant_Topic', 'Perc_Contribution', 'Topic_Keywords']\n",
    "\n",
    "# # #     Add original text to the end of the output\n",
    "#     contents = pd.Series(texts)\n",
    "#     sent_topics_df = pd.concat([sent_topics_df, contents], axis=1)\n",
    "#     return(sent_topics_df)"
   ]
  },
  {
   "cell_type": "code",
   "execution_count": 42,
   "metadata": {},
   "outputs": [
    {
     "name": "stderr",
     "output_type": "stream",
     "text": [
      "/home/henrique/anaconda3/lib/python3.8/site-packages/ipykernel/ipkernel.py:287: DeprecationWarning: `should_run_async` will not call `transform_cell` automatically in the future. Please pass the result to `transformed_cell` argument and any exception that happen during thetransform in `preprocessing_exc_tuple` in IPython 7.17 and above.\n",
      "  and should_run_async(code)\n"
     ]
    }
   ],
   "source": [
    "# df_topic_sents_keywords = format_topics_sentences(ldamodel=optimal_model,\n",
    "#                                                   corpus=corpus, \n",
    "#                                                   texts=data_lemmatized)"
   ]
  },
  {
   "cell_type": "code",
   "execution_count": 43,
   "metadata": {},
   "outputs": [
    {
     "name": "stderr",
     "output_type": "stream",
     "text": [
      "/home/henrique/anaconda3/lib/python3.8/site-packages/ipykernel/ipkernel.py:287: DeprecationWarning: `should_run_async` will not call `transform_cell` automatically in the future. Please pass the result to `transformed_cell` argument and any exception that happen during thetransform in `preprocessing_exc_tuple` in IPython 7.17 and above.\n",
      "  and should_run_async(code)\n"
     ]
    }
   ],
   "source": [
    "# # Group top 5 sentences under each topic\n",
    "# sent_topics_sorteddf_mallet = pd.DataFrame()\n",
    "\n",
    "# sent_topics_outdf_grpd = df_topic_sents_keywords.groupby('Dominant_Topic')\n",
    "\n",
    "# for i, grp in sent_topics_outdf_grpd:\n",
    "#     sent_topics_sorteddf_mallet = pd.concat([sent_topics_sorteddf_mallet, \n",
    "#                                              grp.sort_values(['Perc_Contribution'], ascending=[0]).head(1)], \n",
    "#                                             axis=0)\n",
    "\n",
    "# # Reset Index    \n",
    "# sent_topics_sorteddf_mallet.reset_index(drop=True, inplace=True)\n",
    "\n",
    "# # Format\n",
    "# sent_topics_sorteddf_mallet.columns = ['Topic_Num', \"Topic_Perc_Contrib\", \"Keywords\", \"Text\"]\n",
    "\n",
    "# # Show\n",
    "# sent_topics_sorteddf_mallet.head()"
   ]
  },
  {
   "cell_type": "code",
   "execution_count": null,
   "metadata": {},
   "outputs": [],
   "source": []
  },
  {
   "cell_type": "code",
   "execution_count": 44,
   "metadata": {},
   "outputs": [
    {
     "name": "stderr",
     "output_type": "stream",
     "text": [
      "/home/henrique/anaconda3/lib/python3.8/site-packages/ipykernel/ipkernel.py:287: DeprecationWarning: `should_run_async` will not call `transform_cell` automatically in the future. Please pass the result to `transformed_cell` argument and any exception that happen during thetransform in `preprocessing_exc_tuple` in IPython 7.17 and above.\n",
      "  and should_run_async(code)\n"
     ]
    },
    {
     "data": {
      "text/plain": [
       "[(0,\n",
       "  [('water', 0.0014739992),\n",
       "   ('soil', 0.0014173473),\n",
       "   ('plant', 0.0013409043),\n",
       "   ('nutrient', 0.0011502601),\n",
       "   ('percent', 0.0011445954),\n",
       "   ('hydrolyze', 0.0011084325),\n",
       "   ('group', 0.0009562068),\n",
       "   ('polyacrylamide', 0.0009254546),\n",
       "   ('weight', 0.00091675296),\n",
       "   ('soluble', 0.0008835679)]),\n",
       " (16,\n",
       "  [('acid', 0.008697635),\n",
       "   ('soybean', 0.005686916),\n",
       "   ('content', 0.0045626806),\n",
       "   ('less', 0.004136049),\n",
       "   ('line', 0.003487462),\n",
       "   ('low', 0.0031592213),\n",
       "   ('palmitic', 0.0028420065),\n",
       "   ('stearic', 0.0026734322),\n",
       "   ('select', 0.0023838496),\n",
       "   ('method', 0.002351001)]),\n",
       " (6,\n",
       "  [('image', 0.0080461735),\n",
       "   ('spatial', 0.0067648515),\n",
       "   ('acid', 0.006176685),\n",
       "   ('soybean', 0.0061557814),\n",
       "   ('content', 0.0057268054),\n",
       "   ('method', 0.0049195555),\n",
       "   ('structure', 0.0042798966),\n",
       "   ('line', 0.0037921302),\n",
       "   ('less', 0.0037888777),\n",
       "   ('palmitic', 0.0034107966)]),\n",
       " (18,\n",
       "  [('say', 0.056815967),\n",
       "   ('modify', 0.034615725),\n",
       "   ('comprise', 0.032711904),\n",
       "   ('gene', 0.006654398),\n",
       "   ('present', 0.005327606),\n",
       "   ('step', 0.0045913584),\n",
       "   ('method', 0.004287982),\n",
       "   ('enhance', 0.003983998),\n",
       "   ('production', 0.003488919),\n",
       "   ('fermentative', 0.0034817155)]),\n",
       " (11,\n",
       "  [('plurality', 0.048617516),\n",
       "   ('equipment', 0.0323297),\n",
       "   ('datum', 0.011912865),\n",
       "   ('field', 0.011762785),\n",
       "   ('production', 0.009625512),\n",
       "   ('system', 0.009608019),\n",
       "   ('component', 0.009034295),\n",
       "   ('agricultural', 0.008753617),\n",
       "   ('impact', 0.007805066),\n",
       "   ('receive', 0.006824899)]),\n",
       " (9,\n",
       "  [('gene', 0.046968773),\n",
       "   ('method', 0.04436937),\n",
       "   ('growth', 0.033215016),\n",
       "   ('amount', 0.029192718),\n",
       "   ('range', 0.02724595),\n",
       "   ('use', 0.026508989),\n",
       "   ('medium', 0.025639845),\n",
       "   ('present', 0.024673091),\n",
       "   ('microorganism', 0.024601534),\n",
       "   ('comprise', 0.024558416)]),\n",
       " (5,\n",
       "  [('method', 0.07264473),\n",
       "   ('crop', 0.06888818),\n",
       "   ('use', 0.0639268),\n",
       "   ('material', 0.051929105),\n",
       "   ('present', 0.04339668),\n",
       "   ('express', 0.03248147),\n",
       "   ('comprise', 0.029739978),\n",
       "   ('system', 0.026214292),\n",
       "   ('harvest', 0.02497873),\n",
       "   ('process', 0.024698906)]),\n",
       " (8,\n",
       "  [('soybean', 0.12083929),\n",
       "   ('acid', 0.084592946),\n",
       "   ('composition', 0.07803673),\n",
       "   ('content', 0.06654352),\n",
       "   ('line', 0.061840903),\n",
       "   ('disclose', 0.041019637),\n",
       "   ('less', 0.02720727),\n",
       "   ('also', 0.026699526),\n",
       "   ('progeny', 0.026263617),\n",
       "   ('method', 0.024433892)]),\n",
       " (13,\n",
       "  [('seed', 0.056390744),\n",
       "   ('plant', 0.052800715),\n",
       "   ('method', 0.045256145),\n",
       "   ('soil', 0.041414447),\n",
       "   ('improve', 0.039347112),\n",
       "   ('increase', 0.034918167),\n",
       "   ('water', 0.03193251),\n",
       "   ('yield', 0.029630883),\n",
       "   ('provide', 0.026926763),\n",
       "   ('crop', 0.021885378)]),\n",
       " (4,\n",
       "  [('plant', 0.2163846),\n",
       "   ('corn', 0.11513328),\n",
       "   ('invention', 0.080828115),\n",
       "   ('variety', 0.076517045),\n",
       "   ('seed', 0.071449496),\n",
       "   ('produce', 0.060171742),\n",
       "   ('ch', 0.05248539),\n",
       "   ('relate', 0.048192017),\n",
       "   ('hybrid', 0.037644226),\n",
       "   ('method', 0.029744092)])]"
      ]
     },
     "execution_count": 44,
     "metadata": {},
     "output_type": "execute_result"
    }
   ],
   "source": [
    "optimal_model.show_topics(formatted=False)"
   ]
  },
  {
   "cell_type": "code",
   "execution_count": 45,
   "metadata": {},
   "outputs": [
    {
     "name": "stderr",
     "output_type": "stream",
     "text": [
      "/home/henrique/anaconda3/lib/python3.8/site-packages/ipykernel/ipkernel.py:287: DeprecationWarning: `should_run_async` will not call `transform_cell` automatically in the future. Please pass the result to `transformed_cell` argument and any exception that happen during thetransform in `preprocessing_exc_tuple` in IPython 7.17 and above.\n",
      "  and should_run_async(code)\n"
     ]
    }
   ],
   "source": [
    "dictionary_initial = []\n",
    "for i in range(20):\n",
    "    terms  = []\n",
    "    values = []\n",
    "    for term, value in optimal_model.show_topic(i):\n",
    "        terms.append(term)\n",
    "        values.append(value)\n",
    "\n",
    "    dictionary_initial_tmp = [ ['_'.join(terms[:3]), term] for term in terms]\n",
    "    dictionary_initial = dictionary_initial + dictionary_initial_tmp"
   ]
  },
  {
   "cell_type": "code",
   "execution_count": 46,
   "metadata": {},
   "outputs": [
    {
     "name": "stderr",
     "output_type": "stream",
     "text": [
      "/home/henrique/anaconda3/lib/python3.8/site-packages/ipykernel/ipkernel.py:287: DeprecationWarning: `should_run_async` will not call `transform_cell` automatically in the future. Please pass the result to `transformed_cell` argument and any exception that happen during thetransform in `preprocessing_exc_tuple` in IPython 7.17 and above.\n",
      "  and should_run_async(code)\n"
     ]
    },
    {
     "data": {
      "text/plain": [
       "[['water_soil_plant', 'water'],\n",
       " ['water_soil_plant', 'soil'],\n",
       " ['water_soil_plant', 'plant'],\n",
       " ['water_soil_plant', 'nutrient'],\n",
       " ['water_soil_plant', 'percent'],\n",
       " ['water_soil_plant', 'hydrolyze'],\n",
       " ['water_soil_plant', 'group'],\n",
       " ['water_soil_plant', 'polyacrylamide'],\n",
       " ['water_soil_plant', 'weight'],\n",
       " ['water_soil_plant', 'soluble'],\n",
       " ['soybean_product_content', 'soybean'],\n",
       " ['soybean_product_content', 'product'],\n",
       " ['soybean_product_content', 'content'],\n",
       " ['soybean_product_content', 'high'],\n",
       " ['soybean_product_content', 'determine'],\n",
       " ['soybean_product_content', 'provide'],\n",
       " ['soybean_product_content', 'line'],\n",
       " ['soybean_product_content', 'use'],\n",
       " ['soybean_product_content', 'acid'],\n",
       " ['soybean_product_content', 'composition'],\n",
       " ['nitrogen_make_calcium', 'nitrogen'],\n",
       " ['nitrogen_make_calcium', 'make'],\n",
       " ['nitrogen_make_calcium', 'calcium'],\n",
       " ['nitrogen_make_calcium', 'comprise'],\n",
       " ['nitrogen_make_calcium', 'medium'],\n",
       " ['nitrogen_make_calcium', 'moisture'],\n",
       " ['nitrogen_make_calcium', 'wherein'],\n",
       " ['nitrogen_make_calcium', 'disperse'],\n",
       " ['nitrogen_make_calcium', 'soil'],\n",
       " ['nitrogen_make_calcium', 'micronutrient'],\n",
       " ['combination_reduce_temperature', 'combination'],\n",
       " ['combination_reduce_temperature', 'reduce'],\n",
       " ['combination_reduce_temperature', 'temperature'],\n",
       " ['combination_reduce_temperature', 'production'],\n",
       " ['combination_reduce_temperature', 'use'],\n",
       " ['combination_reduce_temperature', 'link'],\n",
       " ['combination_reduce_temperature', 'crop'],\n",
       " ['combination_reduce_temperature', 'increase'],\n",
       " ['combination_reduce_temperature', 'yield'],\n",
       " ['combination_reduce_temperature', 'mean'],\n",
       " ['plant_corn_invention', 'plant'],\n",
       " ['plant_corn_invention', 'corn'],\n",
       " ['plant_corn_invention', 'invention'],\n",
       " ['plant_corn_invention', 'variety'],\n",
       " ['plant_corn_invention', 'seed'],\n",
       " ['plant_corn_invention', 'produce'],\n",
       " ['plant_corn_invention', 'ch'],\n",
       " ['plant_corn_invention', 'relate'],\n",
       " ['plant_corn_invention', 'hybrid'],\n",
       " ['plant_corn_invention', 'method'],\n",
       " ['method_crop_use', 'method'],\n",
       " ['method_crop_use', 'crop'],\n",
       " ['method_crop_use', 'use'],\n",
       " ['method_crop_use', 'material'],\n",
       " ['method_crop_use', 'present'],\n",
       " ['method_crop_use', 'express'],\n",
       " ['method_crop_use', 'comprise'],\n",
       " ['method_crop_use', 'system'],\n",
       " ['method_crop_use', 'harvest'],\n",
       " ['method_crop_use', 'process'],\n",
       " ['image_spatial_acid', 'image'],\n",
       " ['image_spatial_acid', 'spatial'],\n",
       " ['image_spatial_acid', 'acid'],\n",
       " ['image_spatial_acid', 'soybean'],\n",
       " ['image_spatial_acid', 'content'],\n",
       " ['image_spatial_acid', 'method'],\n",
       " ['image_spatial_acid', 'structure'],\n",
       " ['image_spatial_acid', 'line'],\n",
       " ['image_spatial_acid', 'less'],\n",
       " ['image_spatial_acid', 'palmitic'],\n",
       " ['least_time_control', 'least'],\n",
       " ['least_time_control', 'time'],\n",
       " ['least_time_control', 'control'],\n",
       " ['least_time_control', 'process'],\n",
       " ['least_time_control', 'processor'],\n",
       " ['least_time_control', 'include'],\n",
       " ['least_time_control', 'support'],\n",
       " ['least_time_control', 'station'],\n",
       " ['least_time_control', 'store'],\n",
       " ['least_time_control', 'accumulate'],\n",
       " ['soybean_acid_composition', 'soybean'],\n",
       " ['soybean_acid_composition', 'acid'],\n",
       " ['soybean_acid_composition', 'composition'],\n",
       " ['soybean_acid_composition', 'content'],\n",
       " ['soybean_acid_composition', 'line'],\n",
       " ['soybean_acid_composition', 'disclose'],\n",
       " ['soybean_acid_composition', 'less'],\n",
       " ['soybean_acid_composition', 'also'],\n",
       " ['soybean_acid_composition', 'progeny'],\n",
       " ['soybean_acid_composition', 'method'],\n",
       " ['gene_method_growth', 'gene'],\n",
       " ['gene_method_growth', 'method'],\n",
       " ['gene_method_growth', 'growth'],\n",
       " ['gene_method_growth', 'amount'],\n",
       " ['gene_method_growth', 'range'],\n",
       " ['gene_method_growth', 'use'],\n",
       " ['gene_method_growth', 'medium'],\n",
       " ['gene_method_growth', 'present'],\n",
       " ['gene_method_growth', 'microorganism'],\n",
       " ['gene_method_growth', 'comprise'],\n",
       " ['solar_estimate_capture', 'solar'],\n",
       " ['solar_estimate_capture', 'estimate'],\n",
       " ['solar_estimate_capture', 'capture'],\n",
       " ['solar_estimate_capture', 'energy'],\n",
       " ['solar_estimate_capture', 'weather'],\n",
       " ['solar_estimate_capture', 'satellite'],\n",
       " ['solar_estimate_capture', 'high'],\n",
       " ['solar_estimate_capture', 'model'],\n",
       " ['solar_estimate_capture', 'location'],\n",
       " ['solar_estimate_capture', 'limited'],\n",
       " ['plurality_equipment_datum', 'plurality'],\n",
       " ['plurality_equipment_datum', 'equipment'],\n",
       " ['plurality_equipment_datum', 'datum'],\n",
       " ['plurality_equipment_datum', 'field'],\n",
       " ['plurality_equipment_datum', 'production'],\n",
       " ['plurality_equipment_datum', 'system'],\n",
       " ['plurality_equipment_datum', 'component'],\n",
       " ['plurality_equipment_datum', 'agricultural'],\n",
       " ['plurality_equipment_datum', 'impact'],\n",
       " ['plurality_equipment_datum', 'receive'],\n",
       " ['grass_use_effective', 'grass'],\n",
       " ['grass_use_effective', 'use'],\n",
       " ['grass_use_effective', 'effective'],\n",
       " ['grass_use_effective', 'result'],\n",
       " ['grass_use_effective', 'make'],\n",
       " ['grass_use_effective', 'prefer'],\n",
       " ['grass_use_effective', 'reduce'],\n",
       " ['grass_use_effective', 'present'],\n",
       " ['grass_use_effective', 'treatment'],\n",
       " ['grass_use_effective', 'object'],\n",
       " ['seed_plant_method', 'seed'],\n",
       " ['seed_plant_method', 'plant'],\n",
       " ['seed_plant_method', 'method'],\n",
       " ['seed_plant_method', 'soil'],\n",
       " ['seed_plant_method', 'improve'],\n",
       " ['seed_plant_method', 'increase'],\n",
       " ['seed_plant_method', 'water'],\n",
       " ['seed_plant_method', 'yield'],\n",
       " ['seed_plant_method', 'provide'],\n",
       " ['seed_plant_method', 'crop'],\n",
       " ['value_area_use', 'value'],\n",
       " ['value_area_use', 'area'],\n",
       " ['value_area_use', 'use'],\n",
       " ['value_area_use', 'datum'],\n",
       " ['value_area_use', 'storage'],\n",
       " ['value_area_use', 'field'],\n",
       " ['value_area_use', 'determine'],\n",
       " ['value_area_use', 'selection'],\n",
       " ['value_area_use', 'high'],\n",
       " ['value_area_use', 'different'],\n",
       " ['base_information_back', 'base'],\n",
       " ['base_information_back', 'information'],\n",
       " ['base_information_back', 'back'],\n",
       " ['base_information_back', 'soil'],\n",
       " ['base_information_back', 'lawn'],\n",
       " ['base_information_back', 'profile'],\n",
       " ['base_information_back', 'plot'],\n",
       " ['base_information_back', 'method'],\n",
       " ['base_information_back', 'fertilizer'],\n",
       " ['base_information_back', 'land'],\n",
       " ['acid_soybean_content', 'acid'],\n",
       " ['acid_soybean_content', 'soybean'],\n",
       " ['acid_soybean_content', 'content'],\n",
       " ['acid_soybean_content', 'less'],\n",
       " ['acid_soybean_content', 'line'],\n",
       " ['acid_soybean_content', 'low'],\n",
       " ['acid_soybean_content', 'palmitic'],\n",
       " ['acid_soybean_content', 'stearic'],\n",
       " ['acid_soybean_content', 'select'],\n",
       " ['acid_soybean_content', 'method'],\n",
       " ['level_feature_maintain', 'level'],\n",
       " ['level_feature_maintain', 'feature'],\n",
       " ['level_feature_maintain', 'maintain'],\n",
       " ['level_feature_maintain', 'facilitate'],\n",
       " ['level_feature_maintain', 'desire'],\n",
       " ['level_feature_maintain', 'thus'],\n",
       " ['level_feature_maintain', 'use'],\n",
       " ['level_feature_maintain', 'expand'],\n",
       " ['level_feature_maintain', 'range'],\n",
       " ['level_feature_maintain', 'system'],\n",
       " ['say_modify_comprise', 'say'],\n",
       " ['say_modify_comprise', 'modify'],\n",
       " ['say_modify_comprise', 'comprise'],\n",
       " ['say_modify_comprise', 'gene'],\n",
       " ['say_modify_comprise', 'present'],\n",
       " ['say_modify_comprise', 'step'],\n",
       " ['say_modify_comprise', 'method'],\n",
       " ['say_modify_comprise', 'enhance'],\n",
       " ['say_modify_comprise', 'production'],\n",
       " ['say_modify_comprise', 'fermentative'],\n",
       " ['include_second_first', 'include'],\n",
       " ['include_second_first', 'second'],\n",
       " ['include_second_first', 'first'],\n",
       " ['include_second_first', 'trait'],\n",
       " ['include_second_first', 'set'],\n",
       " ['include_second_first', 'configure'],\n",
       " ['include_second_first', 'embodiment'],\n",
       " ['include_second_first', 'method'],\n",
       " ['include_second_first', 'provide'],\n",
       " ['include_second_first', 'plant']]"
      ]
     },
     "execution_count": 46,
     "metadata": {},
     "output_type": "execute_result"
    }
   ],
   "source": [
    "dictionary_initial"
   ]
  },
  {
   "cell_type": "code",
   "execution_count": 47,
   "metadata": {},
   "outputs": [
    {
     "name": "stderr",
     "output_type": "stream",
     "text": [
      "/home/henrique/anaconda3/lib/python3.8/site-packages/ipykernel/ipkernel.py:287: DeprecationWarning: `should_run_async` will not call `transform_cell` automatically in the future. Please pass the result to `transformed_cell` argument and any exception that happen during thetransform in `preprocessing_exc_tuple` in IPython 7.17 and above.\n",
      "  and should_run_async(code)\n"
     ]
    },
    {
     "data": {
      "text/html": [
       "<div>\n",
       "<style scoped>\n",
       "    .dataframe tbody tr th:only-of-type {\n",
       "        vertical-align: middle;\n",
       "    }\n",
       "\n",
       "    .dataframe tbody tr th {\n",
       "        vertical-align: top;\n",
       "    }\n",
       "\n",
       "    .dataframe thead th {\n",
       "        text-align: right;\n",
       "    }\n",
       "</style>\n",
       "<table border=\"1\" class=\"dataframe\">\n",
       "  <thead>\n",
       "    <tr style=\"text-align: right;\">\n",
       "      <th></th>\n",
       "      <th>topic</th>\n",
       "      <th>term</th>\n",
       "    </tr>\n",
       "  </thead>\n",
       "  <tbody>\n",
       "    <tr>\n",
       "      <th>0</th>\n",
       "      <td>water_soil_plant</td>\n",
       "      <td>water</td>\n",
       "    </tr>\n",
       "    <tr>\n",
       "      <th>1</th>\n",
       "      <td>water_soil_plant</td>\n",
       "      <td>soil</td>\n",
       "    </tr>\n",
       "    <tr>\n",
       "      <th>2</th>\n",
       "      <td>water_soil_plant</td>\n",
       "      <td>plant</td>\n",
       "    </tr>\n",
       "    <tr>\n",
       "      <th>3</th>\n",
       "      <td>water_soil_plant</td>\n",
       "      <td>nutrient</td>\n",
       "    </tr>\n",
       "    <tr>\n",
       "      <th>4</th>\n",
       "      <td>water_soil_plant</td>\n",
       "      <td>percent</td>\n",
       "    </tr>\n",
       "  </tbody>\n",
       "</table>\n",
       "</div>"
      ],
      "text/plain": [
       "              topic      term\n",
       "0  water_soil_plant     water\n",
       "1  water_soil_plant      soil\n",
       "2  water_soil_plant     plant\n",
       "3  water_soil_plant  nutrient\n",
       "4  water_soil_plant   percent"
      ]
     },
     "execution_count": 47,
     "metadata": {},
     "output_type": "execute_result"
    }
   ],
   "source": [
    "df_dictionary = pd.DataFrame(dictionary_initial, columns=['topic', 'term'])\n",
    "df_dictionary.head()"
   ]
  },
  {
   "cell_type": "code",
   "execution_count": 48,
   "metadata": {},
   "outputs": [
    {
     "name": "stderr",
     "output_type": "stream",
     "text": [
      "/home/henrique/anaconda3/lib/python3.8/site-packages/ipykernel/ipkernel.py:287: DeprecationWarning: `should_run_async` will not call `transform_cell` automatically in the future. Please pass the result to `transformed_cell` argument and any exception that happen during thetransform in `preprocessing_exc_tuple` in IPython 7.17 and above.\n",
      "  and should_run_async(code)\n"
     ]
    },
    {
     "name": "stdout",
     "output_type": "stream",
     "text": [
      "(200, 2)\n",
      "(200, 2)\n"
     ]
    }
   ],
   "source": [
    "print(df_dictionary.shape)\n",
    "df_dictionary = df_dictionary.drop_duplicates()\n",
    "print(df_dictionary.shape)"
   ]
  },
  {
   "cell_type": "code",
   "execution_count": 49,
   "metadata": {},
   "outputs": [
    {
     "name": "stderr",
     "output_type": "stream",
     "text": [
      "/home/henrique/anaconda3/lib/python3.8/site-packages/ipykernel/ipkernel.py:287: DeprecationWarning: `should_run_async` will not call `transform_cell` automatically in the future. Please pass the result to `transformed_cell` argument and any exception that happen during thetransform in `preprocessing_exc_tuple` in IPython 7.17 and above.\n",
      "  and should_run_async(code)\n"
     ]
    },
    {
     "data": {
      "text/plain": [
       "(20,)"
      ]
     },
     "execution_count": 49,
     "metadata": {},
     "output_type": "execute_result"
    }
   ],
   "source": [
    "# Total de topicos\n",
    "df_dictionary['topic'].unique().shape"
   ]
  },
  {
   "cell_type": "code",
   "execution_count": 50,
   "metadata": {},
   "outputs": [
    {
     "name": "stderr",
     "output_type": "stream",
     "text": [
      "/home/henrique/anaconda3/lib/python3.8/site-packages/ipykernel/ipkernel.py:287: DeprecationWarning: `should_run_async` will not call `transform_cell` automatically in the future. Please pass the result to `transformed_cell` argument and any exception that happen during thetransform in `preprocessing_exc_tuple` in IPython 7.17 and above.\n",
      "  and should_run_async(code)\n"
     ]
    },
    {
     "data": {
      "text/plain": [
       "(133,)"
      ]
     },
     "execution_count": 50,
     "metadata": {},
     "output_type": "execute_result"
    }
   ],
   "source": [
    "# Total de termos unicos\n",
    "df_dictionary['term'].unique().shape"
   ]
  },
  {
   "cell_type": "code",
   "execution_count": 51,
   "metadata": {},
   "outputs": [
    {
     "name": "stderr",
     "output_type": "stream",
     "text": [
      "/home/henrique/anaconda3/lib/python3.8/site-packages/ipykernel/ipkernel.py:287: DeprecationWarning: `should_run_async` will not call `transform_cell` automatically in the future. Please pass the result to `transformed_cell` argument and any exception that happen during thetransform in `preprocessing_exc_tuple` in IPython 7.17 and above.\n",
      "  and should_run_async(code)\n"
     ]
    },
    {
     "data": {
      "text/html": [
       "<div>\n",
       "<style scoped>\n",
       "    .dataframe tbody tr th:only-of-type {\n",
       "        vertical-align: middle;\n",
       "    }\n",
       "\n",
       "    .dataframe tbody tr th {\n",
       "        vertical-align: top;\n",
       "    }\n",
       "\n",
       "    .dataframe thead th {\n",
       "        text-align: right;\n",
       "    }\n",
       "</style>\n",
       "<table border=\"1\" class=\"dataframe\">\n",
       "  <thead>\n",
       "    <tr style=\"text-align: right;\">\n",
       "      <th></th>\n",
       "      <th>topic</th>\n",
       "      <th>term</th>\n",
       "    </tr>\n",
       "  </thead>\n",
       "  <tbody>\n",
       "    <tr>\n",
       "      <th>0</th>\n",
       "      <td>water_soil_plant</td>\n",
       "      <td>water</td>\n",
       "    </tr>\n",
       "    <tr>\n",
       "      <th>1</th>\n",
       "      <td>water_soil_plant</td>\n",
       "      <td>soil</td>\n",
       "    </tr>\n",
       "    <tr>\n",
       "      <th>2</th>\n",
       "      <td>water_soil_plant</td>\n",
       "      <td>plant</td>\n",
       "    </tr>\n",
       "    <tr>\n",
       "      <th>3</th>\n",
       "      <td>water_soil_plant</td>\n",
       "      <td>nutrient</td>\n",
       "    </tr>\n",
       "    <tr>\n",
       "      <th>4</th>\n",
       "      <td>water_soil_plant</td>\n",
       "      <td>percent</td>\n",
       "    </tr>\n",
       "  </tbody>\n",
       "</table>\n",
       "</div>"
      ],
      "text/plain": [
       "              topic      term\n",
       "0  water_soil_plant     water\n",
       "1  water_soil_plant      soil\n",
       "2  water_soil_plant     plant\n",
       "3  water_soil_plant  nutrient\n",
       "4  water_soil_plant   percent"
      ]
     },
     "execution_count": 51,
     "metadata": {},
     "output_type": "execute_result"
    }
   ],
   "source": [
    "df_dictionary.head()"
   ]
  },
  {
   "cell_type": "code",
   "execution_count": 54,
   "metadata": {},
   "outputs": [
    {
     "name": "stderr",
     "output_type": "stream",
     "text": [
      "/home/henrique/anaconda3/lib/python3.8/site-packages/ipykernel/ipkernel.py:287: DeprecationWarning: `should_run_async` will not call `transform_cell` automatically in the future. Please pass the result to `transformed_cell` argument and any exception that happen during thetransform in `preprocessing_exc_tuple` in IPython 7.17 and above.\n",
      "  and should_run_async(code)\n"
     ]
    },
    {
     "data": {
      "text/html": [
       "<div>\n",
       "<style scoped>\n",
       "    .dataframe tbody tr th:only-of-type {\n",
       "        vertical-align: middle;\n",
       "    }\n",
       "\n",
       "    .dataframe tbody tr th {\n",
       "        vertical-align: top;\n",
       "    }\n",
       "\n",
       "    .dataframe thead th {\n",
       "        text-align: right;\n",
       "    }\n",
       "</style>\n",
       "<table border=\"1\" class=\"dataframe\">\n",
       "  <thead>\n",
       "    <tr style=\"text-align: right;\">\n",
       "      <th></th>\n",
       "      <th>term</th>\n",
       "      <th>feature</th>\n",
       "    </tr>\n",
       "  </thead>\n",
       "  <tbody>\n",
       "    <tr>\n",
       "      <th>0</th>\n",
       "      <td>water</td>\n",
       "      <td>water</td>\n",
       "    </tr>\n",
       "    <tr>\n",
       "      <th>1</th>\n",
       "      <td>water</td>\n",
       "      <td>H2O</td>\n",
       "    </tr>\n",
       "    <tr>\n",
       "      <th>2</th>\n",
       "      <td>water</td>\n",
       "      <td>body_of_water</td>\n",
       "    </tr>\n",
       "    <tr>\n",
       "      <th>5</th>\n",
       "      <td>soil</td>\n",
       "      <td>dirt</td>\n",
       "    </tr>\n",
       "    <tr>\n",
       "      <th>6</th>\n",
       "      <td>soil</td>\n",
       "      <td>filth</td>\n",
       "    </tr>\n",
       "  </tbody>\n",
       "</table>\n",
       "</div>"
      ],
      "text/plain": [
       "    term        feature\n",
       "0  water          water\n",
       "1  water            H2O\n",
       "2  water  body_of_water\n",
       "5   soil           dirt\n",
       "6   soil          filth"
      ]
     },
     "execution_count": 54,
     "metadata": {},
     "output_type": "execute_result"
    }
   ],
   "source": [
    "synonyms = []\n",
    "\n",
    "for term in df_dictionary['term'].tolist():\n",
    "    \n",
    "    try:\n",
    "        synsets = wordnet.synsets(term)[:3]\n",
    "    except Exception as e:\n",
    "        print(e)\n",
    "        \n",
    "    for synset in synsets:\n",
    "        for lemma in synset.lemmas():\n",
    "            synonyms.append([term, lemma.name()])\n",
    "            \n",
    "df_synonyms = pd.DataFrame(synonyms, columns=['term', 'feature'])\n",
    "df_synonyms = df_synonyms.drop_duplicates()\n",
    "df_synonyms.head()"
   ]
  },
  {
   "cell_type": "code",
   "execution_count": 55,
   "metadata": {},
   "outputs": [
    {
     "name": "stderr",
     "output_type": "stream",
     "text": [
      "/home/henrique/anaconda3/lib/python3.8/site-packages/ipykernel/ipkernel.py:287: DeprecationWarning: `should_run_async` will not call `transform_cell` automatically in the future. Please pass the result to `transformed_cell` argument and any exception that happen during thetransform in `preprocessing_exc_tuple` in IPython 7.17 and above.\n",
      "  and should_run_async(code)\n"
     ]
    },
    {
     "data": {
      "text/plain": [
       "(591,)"
      ]
     },
     "execution_count": 55,
     "metadata": {},
     "output_type": "execute_result"
    }
   ],
   "source": [
    "df_synonyms['feature'].unique().shape"
   ]
  },
  {
   "cell_type": "code",
   "execution_count": 56,
   "metadata": {},
   "outputs": [
    {
     "name": "stderr",
     "output_type": "stream",
     "text": [
      "/home/henrique/anaconda3/lib/python3.8/site-packages/ipykernel/ipkernel.py:287: DeprecationWarning: `should_run_async` will not call `transform_cell` automatically in the future. Please pass the result to `transformed_cell` argument and any exception that happen during thetransform in `preprocessing_exc_tuple` in IPython 7.17 and above.\n",
      "  and should_run_async(code)\n"
     ]
    },
    {
     "data": {
      "text/html": [
       "<div>\n",
       "<style scoped>\n",
       "    .dataframe tbody tr th:only-of-type {\n",
       "        vertical-align: middle;\n",
       "    }\n",
       "\n",
       "    .dataframe tbody tr th {\n",
       "        vertical-align: top;\n",
       "    }\n",
       "\n",
       "    .dataframe thead th {\n",
       "        text-align: right;\n",
       "    }\n",
       "</style>\n",
       "<table border=\"1\" class=\"dataframe\">\n",
       "  <thead>\n",
       "    <tr style=\"text-align: right;\">\n",
       "      <th></th>\n",
       "      <th>topic</th>\n",
       "      <th>term</th>\n",
       "      <th>feature</th>\n",
       "    </tr>\n",
       "  </thead>\n",
       "  <tbody>\n",
       "    <tr>\n",
       "      <th>0</th>\n",
       "      <td>water_soil_plant</td>\n",
       "      <td>water</td>\n",
       "      <td>water</td>\n",
       "    </tr>\n",
       "    <tr>\n",
       "      <th>1</th>\n",
       "      <td>water_soil_plant</td>\n",
       "      <td>water</td>\n",
       "      <td>H2O</td>\n",
       "    </tr>\n",
       "    <tr>\n",
       "      <th>2</th>\n",
       "      <td>water_soil_plant</td>\n",
       "      <td>water</td>\n",
       "      <td>body_of_water</td>\n",
       "    </tr>\n",
       "    <tr>\n",
       "      <th>3</th>\n",
       "      <td>seed_plant_method</td>\n",
       "      <td>water</td>\n",
       "      <td>water</td>\n",
       "    </tr>\n",
       "    <tr>\n",
       "      <th>4</th>\n",
       "      <td>seed_plant_method</td>\n",
       "      <td>water</td>\n",
       "      <td>H2O</td>\n",
       "    </tr>\n",
       "  </tbody>\n",
       "</table>\n",
       "</div>"
      ],
      "text/plain": [
       "               topic   term        feature\n",
       "0   water_soil_plant  water          water\n",
       "1   water_soil_plant  water            H2O\n",
       "2   water_soil_plant  water  body_of_water\n",
       "3  seed_plant_method  water          water\n",
       "4  seed_plant_method  water            H2O"
      ]
     },
     "execution_count": 56,
     "metadata": {},
     "output_type": "execute_result"
    }
   ],
   "source": [
    "dictionary = pd.merge(df_dictionary, df_synonyms, on = 'term', how = 'inner')\n",
    "dictionary.head()"
   ]
  },
  {
   "cell_type": "code",
   "execution_count": 57,
   "metadata": {},
   "outputs": [
    {
     "name": "stderr",
     "output_type": "stream",
     "text": [
      "/home/henrique/anaconda3/lib/python3.8/site-packages/ipykernel/ipkernel.py:287: DeprecationWarning: `should_run_async` will not call `transform_cell` automatically in the future. Please pass the result to `transformed_cell` argument and any exception that happen during thetransform in `preprocessing_exc_tuple` in IPython 7.17 and above.\n",
      "  and should_run_async(code)\n"
     ]
    },
    {
     "data": {
      "text/plain": [
       "(974, 3)"
      ]
     },
     "execution_count": 57,
     "metadata": {},
     "output_type": "execute_result"
    }
   ],
   "source": [
    "dictionary.shape"
   ]
  },
  {
   "cell_type": "code",
   "execution_count": 58,
   "metadata": {},
   "outputs": [
    {
     "name": "stderr",
     "output_type": "stream",
     "text": [
      "/home/henrique/anaconda3/lib/python3.8/site-packages/ipykernel/ipkernel.py:287: DeprecationWarning: `should_run_async` will not call `transform_cell` automatically in the future. Please pass the result to `transformed_cell` argument and any exception that happen during thetransform in `preprocessing_exc_tuple` in IPython 7.17 and above.\n",
      "  and should_run_async(code)\n"
     ]
    }
   ],
   "source": [
    "dictionary.to_csv('dictionary.csv')"
   ]
  },
  {
   "cell_type": "code",
   "execution_count": null,
   "metadata": {},
   "outputs": [],
   "source": []
  }
 ],
 "metadata": {
  "kernelspec": {
   "display_name": "Python 3",
   "language": "python",
   "name": "python3"
  },
  "language_info": {
   "codemirror_mode": {
    "name": "ipython",
    "version": 3
   },
   "file_extension": ".py",
   "mimetype": "text/x-python",
   "name": "python",
   "nbconvert_exporter": "python",
   "pygments_lexer": "ipython3",
   "version": "3.8.5"
  }
 },
 "nbformat": 4,
 "nbformat_minor": 2
}
