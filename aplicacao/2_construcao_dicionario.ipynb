{
 "cells": [
  {
   "cell_type": "code",
   "execution_count": 1,
   "metadata": {},
   "outputs": [],
   "source": [
    "# Henrique Cursino Vieira"
   ]
  },
  {
   "cell_type": "code",
   "execution_count": 2,
   "metadata": {},
   "outputs": [],
   "source": [
    "import re\n",
    "import glob\n",
    "import pandas as pd\n",
    "\n",
    "# Gensim\n",
    "import gensim\n",
    "import gensim.corpora as corpora\n",
    "from gensim.utils import simple_preprocess\n",
    "from gensim.models import CoherenceModel\n",
    "\n",
    "# spacy for lemmatization\n",
    "import spacy\n",
    "\n",
    "# NLTK Stop words\n",
    "from nltk.corpus import stopwords\n",
    "stop_words = stopwords.words('english')\n",
    "\n",
    "# Plotting tools\n",
    "import pyLDAvis\n",
    "import pyLDAvis.gensim  # don't skip this\n",
    "import seaborn as sns\n",
    "import matplotlib.pyplot as plt\n",
    "%matplotlib inline"
   ]
  },
  {
   "cell_type": "code",
   "execution_count": 3,
   "metadata": {},
   "outputs": [],
   "source": [
    "# TODO: Converter no script anterior para\n",
    "# gerar o corpora dos documentos de patente\n",
    "\n",
    "# NAO CARREGAR A PARTIR DE UMA PLANILHA"
   ]
  },
  {
   "cell_type": "code",
   "execution_count": 4,
   "metadata": {},
   "outputs": [
    {
     "data": {
      "text/html": [
       "<div>\n",
       "<style scoped>\n",
       "    .dataframe tbody tr th:only-of-type {\n",
       "        vertical-align: middle;\n",
       "    }\n",
       "\n",
       "    .dataframe tbody tr th {\n",
       "        vertical-align: top;\n",
       "    }\n",
       "\n",
       "    .dataframe thead th {\n",
       "        text-align: right;\n",
       "    }\n",
       "</style>\n",
       "<table border=\"1\" class=\"dataframe\">\n",
       "  <thead>\n",
       "    <tr style=\"text-align: right;\">\n",
       "      <th></th>\n",
       "      <th>idx</th>\n",
       "      <th>title_raw</th>\n",
       "      <th>text_raw</th>\n",
       "      <th>title</th>\n",
       "      <th>text</th>\n",
       "      <th>content</th>\n",
       "    </tr>\n",
       "  </thead>\n",
       "  <tbody>\n",
       "    <tr>\n",
       "      <th>0</th>\n",
       "      <td>5969222</td>\n",
       "      <td>\\n\\n                    Corn inbred lines for ...</td>\n",
       "      <td>\\n            An inbred corn line designated A...</td>\n",
       "      <td>corn inbred lines for dairy cattle feed</td>\n",
       "      <td>an inbred corn line designated ar5153bm3 is di...</td>\n",
       "      <td>corn inbred lines for dairy cattle feed an inb...</td>\n",
       "    </tr>\n",
       "    <tr>\n",
       "      <th>1</th>\n",
       "      <td>6114609</td>\n",
       "      <td>\\n\\n                    Corn inbred lines for ...</td>\n",
       "      <td>\\n            An inbred corn line designated A...</td>\n",
       "      <td>corn inbred lines for dairy cattle feed</td>\n",
       "      <td>an inbred corn line designated ar5253bm3 is di...</td>\n",
       "      <td>corn inbred lines for dairy cattle feed an inb...</td>\n",
       "    </tr>\n",
       "    <tr>\n",
       "      <th>2</th>\n",
       "      <td>5859353</td>\n",
       "      <td>\\n\\n                    Corn Inbred lines for ...</td>\n",
       "      <td>\\n            An inbred corn line designated A...</td>\n",
       "      <td>corn inbred lines for dairy cattle feed</td>\n",
       "      <td>an inbred corn line designated ar5252bm3 is di...</td>\n",
       "      <td>corn inbred lines for dairy cattle feed an inb...</td>\n",
       "    </tr>\n",
       "    <tr>\n",
       "      <th>3</th>\n",
       "      <td>5714670</td>\n",
       "      <td>\\n\\n                    Soybeans having low li...</td>\n",
       "      <td>\\n            A novel soybean seed and plant d...</td>\n",
       "      <td>soybeans having low linolenic acid and low pal...</td>\n",
       "      <td>a novel soybean seed and plant designated ax77...</td>\n",
       "      <td>soybeans having low linolenic acid and low pal...</td>\n",
       "    </tr>\n",
       "    <tr>\n",
       "      <th>4</th>\n",
       "      <td>5763745</td>\n",
       "      <td>\\n\\n                    Soybeans having low li...</td>\n",
       "      <td>\\n            Methods are described for the pr...</td>\n",
       "      <td>soybeans having low linolenic acid content and...</td>\n",
       "      <td>methods are described for the production of so...</td>\n",
       "      <td>soybeans having low linolenic acid content and...</td>\n",
       "    </tr>\n",
       "  </tbody>\n",
       "</table>\n",
       "</div>"
      ],
      "text/plain": [
       "       idx                                          title_raw  \\\n",
       "0  5969222  \\n\\n                    Corn inbred lines for ...   \n",
       "1  6114609  \\n\\n                    Corn inbred lines for ...   \n",
       "2  5859353  \\n\\n                    Corn Inbred lines for ...   \n",
       "3  5714670  \\n\\n                    Soybeans having low li...   \n",
       "4  5763745  \\n\\n                    Soybeans having low li...   \n",
       "\n",
       "                                            text_raw  \\\n",
       "0  \\n            An inbred corn line designated A...   \n",
       "1  \\n            An inbred corn line designated A...   \n",
       "2  \\n            An inbred corn line designated A...   \n",
       "3  \\n            A novel soybean seed and plant d...   \n",
       "4  \\n            Methods are described for the pr...   \n",
       "\n",
       "                                               title  \\\n",
       "0            corn inbred lines for dairy cattle feed   \n",
       "1            corn inbred lines for dairy cattle feed   \n",
       "2            corn inbred lines for dairy cattle feed   \n",
       "3  soybeans having low linolenic acid and low pal...   \n",
       "4  soybeans having low linolenic acid content and...   \n",
       "\n",
       "                                                text  \\\n",
       "0  an inbred corn line designated ar5153bm3 is di...   \n",
       "1  an inbred corn line designated ar5253bm3 is di...   \n",
       "2  an inbred corn line designated ar5252bm3 is di...   \n",
       "3  a novel soybean seed and plant designated ax77...   \n",
       "4  methods are described for the production of so...   \n",
       "\n",
       "                                             content  \n",
       "0  corn inbred lines for dairy cattle feed an inb...  \n",
       "1  corn inbred lines for dairy cattle feed an inb...  \n",
       "2  corn inbred lines for dairy cattle feed an inb...  \n",
       "3  soybeans having low linolenic acid and low pal...  \n",
       "4  soybeans having low linolenic acid content and...  "
      ]
     },
     "execution_count": 4,
     "metadata": {},
     "output_type": "execute_result"
    }
   ],
   "source": [
    "documents = pd.read_csv('patents_data.csv')\n",
    "documents.head()"
   ]
  },
  {
   "cell_type": "code",
   "execution_count": 5,
   "metadata": {},
   "outputs": [
    {
     "data": {
      "text/html": [
       "<div>\n",
       "<style scoped>\n",
       "    .dataframe tbody tr th:only-of-type {\n",
       "        vertical-align: middle;\n",
       "    }\n",
       "\n",
       "    .dataframe tbody tr th {\n",
       "        vertical-align: top;\n",
       "    }\n",
       "\n",
       "    .dataframe thead th {\n",
       "        text-align: right;\n",
       "    }\n",
       "</style>\n",
       "<table border=\"1\" class=\"dataframe\">\n",
       "  <thead>\n",
       "    <tr style=\"text-align: right;\">\n",
       "      <th></th>\n",
       "      <th>idx</th>\n",
       "      <th>content</th>\n",
       "    </tr>\n",
       "  </thead>\n",
       "  <tbody>\n",
       "    <tr>\n",
       "      <th>0</th>\n",
       "      <td>5969222</td>\n",
       "      <td>corn inbred lines for dairy cattle feed an inb...</td>\n",
       "    </tr>\n",
       "    <tr>\n",
       "      <th>1</th>\n",
       "      <td>6114609</td>\n",
       "      <td>corn inbred lines for dairy cattle feed an inb...</td>\n",
       "    </tr>\n",
       "    <tr>\n",
       "      <th>2</th>\n",
       "      <td>5859353</td>\n",
       "      <td>corn inbred lines for dairy cattle feed an inb...</td>\n",
       "    </tr>\n",
       "    <tr>\n",
       "      <th>3</th>\n",
       "      <td>5714670</td>\n",
       "      <td>soybeans having low linolenic acid and low pal...</td>\n",
       "    </tr>\n",
       "    <tr>\n",
       "      <th>4</th>\n",
       "      <td>5763745</td>\n",
       "      <td>soybeans having low linolenic acid content and...</td>\n",
       "    </tr>\n",
       "  </tbody>\n",
       "</table>\n",
       "</div>"
      ],
      "text/plain": [
       "       idx                                            content\n",
       "0  5969222  corn inbred lines for dairy cattle feed an inb...\n",
       "1  6114609  corn inbred lines for dairy cattle feed an inb...\n",
       "2  5859353  corn inbred lines for dairy cattle feed an inb...\n",
       "3  5714670  soybeans having low linolenic acid and low pal...\n",
       "4  5763745  soybeans having low linolenic acid content and..."
      ]
     },
     "execution_count": 5,
     "metadata": {},
     "output_type": "execute_result"
    }
   ],
   "source": [
    "# TODO: provavelemente remover isso\n",
    "documents = documents[['idx', 'content']]\n",
    "documents.head()"
   ]
  },
  {
   "cell_type": "code",
   "execution_count": 6,
   "metadata": {},
   "outputs": [],
   "source": [
    "# Gerando os tokens"
   ]
  },
  {
   "cell_type": "code",
   "execution_count": 7,
   "metadata": {},
   "outputs": [],
   "source": [
    "def sent_to_words(document_content):\n",
    "    for content in document_content:\n",
    "        yield(gensim.utils.simple_preprocess(str(content), \n",
    "                                             deacc=True))"
   ]
  },
  {
   "cell_type": "code",
   "execution_count": 8,
   "metadata": {},
   "outputs": [],
   "source": [
    "data_words = list(sent_to_words(documents['content']))"
   ]
  },
  {
   "cell_type": "code",
   "execution_count": 9,
   "metadata": {},
   "outputs": [],
   "source": [
    "# Criando os modelos de bigram e trigam"
   ]
  },
  {
   "cell_type": "code",
   "execution_count": 10,
   "metadata": {},
   "outputs": [],
   "source": [
    "bigram = gensim.models.Phrases(data_words, min_count=5, threshold=100)\n",
    "trigram = gensim.models.Phrases(bigram[data_words], threshold=100)"
   ]
  },
  {
   "cell_type": "code",
   "execution_count": 11,
   "metadata": {},
   "outputs": [],
   "source": [
    "bigram_mod = gensim.models.phrases.Phraser(bigram)\n",
    "trigram_mod = gensim.models.phrases.Phraser(trigram)"
   ]
  },
  {
   "cell_type": "code",
   "execution_count": 12,
   "metadata": {},
   "outputs": [
    {
     "name": "stdout",
     "output_type": "stream",
     "text": [
      "['corn', 'inbred', 'lines', 'for', 'dairy', 'cattle', 'feed', 'an', 'inbred', 'corn', 'line', 'designated', 'ar', 'bm', 'is', 'disclosed', 'ar', 'bm', 'is', 'useful', 'for', 'producing', 'hybrid', 'corn', 'seed', 'and', 'plants', 'therefrom', 'such', 'corn', 'plants', 'exhibit', 'the', 'brown', 'midrib', 'phenotype', 'and', 'yield', 'silage', 'that', 'when', 'fed', 'to', 'dairy', 'cattle', 'increases', 'milk', 'production']\n"
     ]
    }
   ],
   "source": [
    "print(trigram_mod[bigram_mod[data_words[0]]])"
   ]
  },
  {
   "cell_type": "code",
   "execution_count": 13,
   "metadata": {},
   "outputs": [],
   "source": [
    "# Pre processamento \n",
    "# - remocao de stop-words\n",
    "# - aplicando os modelos de bigram e trigram\n",
    "# - lemmatizacao das palavras\n",
    "\n",
    "def remove_stopwords(texts):\n",
    "    return [[word for word in simple_preprocess(str(doc)) if word not in stop_words] for doc in texts]\n",
    "\n",
    "def make_bigrams(texts):\n",
    "    return [bigram_mod[doc] for doc in texts]\n",
    "\n",
    "def make_trigrams(texts):\n",
    "    return [trigram_mod[bigram_mod[doc]] for doc in texts]\n",
    "\n",
    "def lemmatization(texts, allowed_postags=['NOUN', 'ADJ', 'VERB', 'ADV']):\n",
    "    \"\"\"https://spacy.io/api/annotation\"\"\"\n",
    "    texts_out = []\n",
    "    for sent in texts:\n",
    "        doc = nlp(\" \".join(sent)) \n",
    "        texts_out.append([token.lemma_ for token in doc if token.pos_ in allowed_postags])\n",
    "    return texts_out"
   ]
  },
  {
   "cell_type": "code",
   "execution_count": 14,
   "metadata": {},
   "outputs": [
    {
     "data": {
      "text/plain": [
       "['corn', 'inbred', 'lines', 'dairy', 'cattle']"
      ]
     },
     "execution_count": 14,
     "metadata": {},
     "output_type": "execute_result"
    }
   ],
   "source": [
    "data_words_nostops = remove_stopwords(data_words)\n",
    "data_words_nostops[0][0:5]"
   ]
  },
  {
   "cell_type": "code",
   "execution_count": 15,
   "metadata": {},
   "outputs": [
    {
     "data": {
      "text/plain": [
       "['corn', 'inbred', 'lines', 'dairy', 'cattle']"
      ]
     },
     "execution_count": 15,
     "metadata": {},
     "output_type": "execute_result"
    }
   ],
   "source": [
    "data_words_bigrams = make_bigrams(data_words_nostops)\n",
    "data_words_bigrams[0][0:5]"
   ]
  },
  {
   "cell_type": "code",
   "execution_count": 16,
   "metadata": {},
   "outputs": [],
   "source": [
    "nlp = spacy.load('en', disable=['parser', 'ner'])"
   ]
  },
  {
   "cell_type": "code",
   "execution_count": 17,
   "metadata": {},
   "outputs": [
    {
     "data": {
      "text/plain": [
       "['corn', 'inbred', 'line', 'dairy', 'cattle']"
      ]
     },
     "execution_count": 17,
     "metadata": {},
     "output_type": "execute_result"
    }
   ],
   "source": [
    "postags = ['NOUN', 'ADJ', 'VERB', 'ADV']\n",
    "data_lemmatized = lemmatization(data_words_bigrams, \n",
    "                                allowed_postags=postags)\n",
    "data_lemmatized[0][0:5]"
   ]
  },
  {
   "cell_type": "code",
   "execution_count": 18,
   "metadata": {},
   "outputs": [],
   "source": [
    "# Criacao do dicionario para dados e o corpus"
   ]
  },
  {
   "cell_type": "code",
   "execution_count": 19,
   "metadata": {},
   "outputs": [],
   "source": [
    "id2word = corpora.Dictionary(data_lemmatized)"
   ]
  },
  {
   "cell_type": "code",
   "execution_count": 20,
   "metadata": {},
   "outputs": [],
   "source": [
    "texts = data_lemmatized"
   ]
  },
  {
   "cell_type": "code",
   "execution_count": 21,
   "metadata": {},
   "outputs": [],
   "source": [
    "corpus = [id2word.doc2bow(text) for text in texts]"
   ]
  },
  {
   "cell_type": "code",
   "execution_count": 22,
   "metadata": {},
   "outputs": [],
   "source": [
    "# Construcao da modelagem de topicos"
   ]
  },
  {
   "cell_type": "code",
   "execution_count": 23,
   "metadata": {},
   "outputs": [],
   "source": [
    "lda_model = gensim.models.ldamodel.LdaModel(corpus=corpus,\n",
    "                                      id2word = id2word,\n",
    "                                      num_topics = 20,\n",
    "                                      random_state = 150,\n",
    "                                      update_every = 1,\n",
    "                                      chunksize = 100,\n",
    "                                      alpha = 'auto',\n",
    "                                      per_word_topics = True)"
   ]
  },
  {
   "cell_type": "code",
   "execution_count": 24,
   "metadata": {},
   "outputs": [
    {
     "data": {
      "text/plain": [
       "[(0,\n",
       "  '0.048*\"plant\" + 0.046*\"sub_region\" + 0.029*\"second\" + 0.025*\"value\" + 0.024*\"seed\" + 0.021*\"invention\" + 0.020*\"hybrid\" + 0.019*\"part\" + 0.018*\"corn\" + 0.018*\"agronomic\"'),\n",
       " (1,\n",
       "  '0.006*\"starch\" + 0.005*\"invention\" + 0.004*\"plant\" + 0.003*\"potato\" + 0.003*\"use\" + 0.003*\"crop\" + 0.003*\"produce\" + 0.003*\"store\" + 0.003*\"organ\" + 0.003*\"method\"'),\n",
       " (2,\n",
       "  '0.100*\"acid\" + 0.038*\"form\" + 0.038*\"fatty\" + 0.037*\"soybean\" + 0.034*\"concentration\" + 0.034*\"endogenously\" + 0.030*\"palmitic\" + 0.028*\"oil\" + 0.028*\"stearic\" + 0.025*\"elevated\"'),\n",
       " (3,\n",
       "  '0.047*\"soybean\" + 0.041*\"plant\" + 0.029*\"improve\" + 0.025*\"method\" + 0.024*\"provide\" + 0.023*\"corn\" + 0.022*\"grain\" + 0.021*\"content\" + 0.021*\"protein\" + 0.020*\"sequence\"'),\n",
       " (4,\n",
       "  '0.064*\"plant\" + 0.033*\"seed\" + 0.033*\"cotton\" + 0.020*\"grow\" + 0.017*\"non\" + 0.017*\"male\" + 0.017*\"capable\" + 0.016*\"bee\" + 0.014*\"dehiscent\" + 0.014*\"sesame\"'),\n",
       " (5,\n",
       "  '0.074*\"plant\" + 0.041*\"corn\" + 0.023*\"percent\" + 0.021*\"invention\" + 0.021*\"seed\" + 0.020*\"inbred\" + 0.020*\"inbreed\" + 0.019*\"produce\" + 0.018*\"weight\" + 0.016*\"dhb\"'),\n",
       " (6,\n",
       "  '0.060*\"acid\" + 0.041*\"content\" + 0.022*\"soybean\" + 0.021*\"preferably\" + 0.021*\"corn\" + 0.020*\"less\" + 0.020*\"least\" + 0.019*\"oil\" + 0.019*\"linolenic\" + 0.018*\"plant\"'),\n",
       " (7,\n",
       "  '0.051*\"method\" + 0.042*\"composition\" + 0.037*\"plant\" + 0.024*\"reduce\" + 0.023*\"activity\" + 0.022*\"use\" + 0.022*\"alcohol\" + 0.022*\"cyanamide\" + 0.020*\"stabilize\" + 0.020*\"calcium\"'),\n",
       " (8,\n",
       "  '0.045*\"apparatus\" + 0.036*\"object\" + 0.036*\"detection\" + 0.027*\"mean\" + 0.027*\"station\" + 0.018*\"rotate\" + 0.018*\"small\" + 0.018*\"light\" + 0.018*\"detect\" + 0.018*\"filament\"'),\n",
       " (9,\n",
       "  '0.035*\"plant\" + 0.029*\"corn\" + 0.026*\"dsq\" + 0.018*\"inbred\" + 0.017*\"inbreed\" + 0.014*\"relate\" + 0.012*\"invention\" + 0.011*\"produce\" + 0.011*\"seed\" + 0.009*\"cross\"'),\n",
       " (10,\n",
       "  '0.045*\"metal\" + 0.042*\"plant\" + 0.031*\"acid\" + 0.028*\"composition\" + 0.023*\"root\" + 0.019*\"ion\" + 0.019*\"agent\" + 0.019*\"citric\" + 0.019*\"administer\" + 0.015*\"induce\"'),\n",
       " (11,\n",
       "  '0.026*\"hybrid\" + 0.025*\"parent\" + 0.023*\"rice\" + 0.023*\"plant\" + 0.021*\"seed\" + 0.017*\"form\" + 0.015*\"basis\" + 0.014*\"possess\" + 0.014*\"generation\" + 0.014*\"flag\"'),\n",
       " (12,\n",
       "  '0.064*\"starch\" + 0.040*\"invention\" + 0.026*\"use\" + 0.022*\"plant\" + 0.018*\"relate\" + 0.017*\"organ\" + 0.015*\"produce\" + 0.015*\"include\" + 0.015*\"preferably\" + 0.014*\"biotechnology\"'),\n",
       " (13,\n",
       "  '0.002*\"maize\" + 0.002*\"digestibility\" + 0.002*\"relate\" + 0.002*\"allele\" + 0.002*\"use\" + 0.002*\"activity\" + 0.002*\"due\" + 0.002*\"reduced\" + 0.002*\"delta\" + 0.002*\"presence\"'),\n",
       " (14,\n",
       "  '0.093*\"corn\" + 0.084*\"plant\" + 0.033*\"inbred\" + 0.029*\"seed\" + 0.028*\"inbreed\" + 0.027*\"produce\" + 0.027*\"cattle\" + 0.027*\"dairy\" + 0.027*\"line\" + 0.019*\"hybrid\"'),\n",
       " (15,\n",
       "  '0.096*\"plant\" + 0.059*\"temperature\" + 0.019*\"method\" + 0.018*\"desire\" + 0.016*\"use\" + 0.015*\"deficit\" + 0.014*\"water\" + 0.014*\"agronomic\" + 0.013*\"stress\" + 0.012*\"increase\"'),\n",
       " (16,\n",
       "  '0.047*\"field\" + 0.043*\"include\" + 0.042*\"unit\" + 0.036*\"assembly\" + 0.030*\"engagement\" + 0.024*\"tool\" + 0.023*\"work\" + 0.019*\"additionally\" + 0.017*\"system\" + 0.016*\"program\"'),\n",
       " (17,\n",
       "  '0.040*\"include\" + 0.037*\"unit\" + 0.035*\"engagement\" + 0.026*\"field\" + 0.024*\"assembly\" + 0.022*\"work\" + 0.022*\"tool\" + 0.017*\"plant\" + 0.017*\"system\" + 0.016*\"additionally\"'),\n",
       " (18,\n",
       "  '0.134*\"plant\" + 0.074*\"corn\" + 0.045*\"inbred\" + 0.040*\"invention\" + 0.038*\"inbreed\" + 0.034*\"seed\" + 0.030*\"produce\" + 0.028*\"relate\" + 0.020*\"cross\" + 0.018*\"hybrid\"'),\n",
       " (19,\n",
       "  '0.029*\"control\" + 0.029*\"weed\" + 0.029*\"brome\" + 0.023*\"soil\" + 0.022*\"strain\" + 0.022*\"bacterial\" + 0.018*\"acid\" + 0.017*\"plant\" + 0.016*\"application\" + 0.015*\"wheat\"')]"
      ]
     },
     "execution_count": 24,
     "metadata": {},
     "output_type": "execute_result"
    }
   ],
   "source": [
    "lda_model.print_topics()"
   ]
  },
  {
   "cell_type": "code",
   "execution_count": 25,
   "metadata": {},
   "outputs": [
    {
     "data": {
      "text/plain": [
       "[(17, 0.048395418),\n",
       " (114, 0.04557113),\n",
       " (111, 0.029025346),\n",
       " (115, 0.024929108),\n",
       " (20, 0.024404315),\n",
       " (67, 0.021367555),\n",
       " (9, 0.020226477),\n",
       " (107, 0.018980114),\n",
       " (2, 0.018477488),\n",
       " (76, 0.018014716)]"
      ]
     },
     "execution_count": 25,
     "metadata": {},
     "output_type": "execute_result"
    }
   ],
   "source": [
    "lda_model.get_topic_terms(0)"
   ]
  },
  {
   "cell_type": "code",
   "execution_count": 26,
   "metadata": {},
   "outputs": [
    {
     "name": "stdout",
     "output_type": "stream",
     "text": [
      "\n",
      "Perplexity:  -5.91713415320709\n",
      "\n",
      "Coherence Score:  0.5708453103981956\n"
     ]
    }
   ],
   "source": [
    "# Compute Perplexity\n",
    "print('\\nPerplexity: ', lda_model.log_perplexity(corpus))  # a measure of how good the model is. lower the better.\n",
    "\n",
    "# Compute Coherence Score\n",
    "coherence_model_lda = CoherenceModel(model=lda_model, texts=data_lemmatized, dictionary=id2word, coherence='c_v')\n",
    "coherence_lda = coherence_model_lda.get_coherence()\n",
    "print('\\nCoherence Score: ', coherence_lda)"
   ]
  },
  {
   "cell_type": "code",
   "execution_count": 27,
   "metadata": {},
   "outputs": [
    {
     "name": "stderr",
     "output_type": "stream",
     "text": [
      "/home/henrique/anaconda3/lib/python3.7/site-packages/pyLDAvis/_prepare.py:257: FutureWarning: Sorting because non-concatenation axis is not aligned. A future version\n",
      "of pandas will change to not sort by default.\n",
      "\n",
      "To accept the future behavior, pass 'sort=False'.\n",
      "\n",
      "To retain the current behavior and silence the warning, pass 'sort=True'.\n",
      "\n",
      "  return pd.concat([default_term_info] + list(topic_dfs))\n"
     ]
    },
    {
     "data": {
      "text/html": [
       "\n",
       "<link rel=\"stylesheet\" type=\"text/css\" href=\"https://cdn.rawgit.com/bmabey/pyLDAvis/files/ldavis.v1.0.0.css\">\n",
       "\n",
       "\n",
       "<div id=\"ldavis_el105611401179019995843518774361\"></div>\n",
       "<script type=\"text/javascript\">\n",
       "\n",
       "var ldavis_el105611401179019995843518774361_data = {\"mdsDat\": {\"x\": [-0.2623385604137702, -0.027463376238136578, -0.025748458221555963, -0.14855746200039796, -0.09514360648255057, -0.1312010116920498, 0.06164839590350677, -0.02969297709375522, -0.1878664427580958, 0.0880928705978411, 0.061692096699855425, 0.031323776402608895, 0.16952242815756893, 0.052302433606075005, 0.035687216977642974, 0.1260720089985461, -0.02816114826406554, 0.15997524242112934, 0.0701624866480686, 0.07969408675153423], \"y\": [0.010972570281825345, 0.0788802376398511, 0.19393353196032587, 0.09000868531320447, -0.10354043159949289, -0.06257711922620836, -0.0777102837699467, -0.13638340375024774, -0.05093089827009292, 0.1896115245838874, 0.032250884119717715, -0.05379238958903019, -0.0625393724685842, 0.07108312533985352, 0.008788667459181635, 0.008082094819826073, -0.017269593248166796, -0.07638268353542713, -0.019249157122390434, -0.023235988938085452], \"topics\": [1, 2, 3, 4, 5, 6, 7, 8, 9, 10, 11, 12, 13, 14, 15, 16, 17, 18, 19, 20], \"cluster\": [1, 1, 1, 1, 1, 1, 1, 1, 1, 1, 1, 1, 1, 1, 1, 1, 1, 1, 1, 1], \"Freq\": [36.00948715209961, 8.723494529724121, 7.8955464363098145, 6.390403747558594, 5.919671535491943, 5.359135627746582, 4.4032440185546875, 4.172534942626953, 3.116307497024536, 3.08162784576416, 2.78863263130188, 2.483675718307495, 2.451251745223999, 2.3601748943328857, 2.2507081031799316, 1.8544949293136597, 0.33792826533317566, 0.27104321122169495, 0.0663062036037445, 0.06433065235614777]}, \"tinfo\": {\"Category\": [\"Default\", \"Default\", \"Default\", \"Default\", \"Default\", \"Default\", \"Default\", \"Default\", \"Default\", \"Default\", \"Default\", \"Default\", \"Default\", \"Default\", \"Default\", \"Default\", \"Default\", \"Default\", \"Default\", \"Default\", \"Default\", \"Default\", \"Default\", \"Default\", \"Default\", \"Default\", \"Default\", \"Default\", \"Default\", \"Default\", \"Topic1\", \"Topic1\", \"Topic1\", \"Topic1\", \"Topic1\", \"Topic1\", \"Topic1\", \"Topic1\", \"Topic1\", \"Topic1\", \"Topic1\", \"Topic1\", \"Topic1\", \"Topic1\", \"Topic1\", \"Topic1\", \"Topic1\", \"Topic1\", \"Topic1\", \"Topic1\", \"Topic1\", \"Topic1\", \"Topic1\", \"Topic1\", \"Topic1\", \"Topic1\", \"Topic1\", \"Topic1\", \"Topic1\", \"Topic1\", \"Topic1\", \"Topic1\", \"Topic1\", \"Topic1\", \"Topic1\", \"Topic1\", \"Topic1\", \"Topic1\", \"Topic1\", \"Topic1\", \"Topic1\", \"Topic1\", \"Topic1\", \"Topic1\", \"Topic1\", \"Topic2\", \"Topic2\", \"Topic2\", \"Topic2\", \"Topic2\", \"Topic2\", \"Topic2\", \"Topic2\", \"Topic2\", \"Topic2\", \"Topic2\", \"Topic2\", \"Topic2\", \"Topic2\", \"Topic2\", \"Topic2\", \"Topic2\", \"Topic2\", \"Topic2\", \"Topic2\", \"Topic2\", \"Topic2\", \"Topic2\", \"Topic2\", \"Topic2\", \"Topic2\", \"Topic2\", \"Topic2\", \"Topic2\", \"Topic2\", \"Topic2\", \"Topic2\", \"Topic2\", \"Topic2\", \"Topic2\", \"Topic2\", \"Topic2\", \"Topic2\", \"Topic2\", \"Topic2\", \"Topic2\", \"Topic2\", \"Topic2\", \"Topic2\", \"Topic2\", \"Topic2\", \"Topic2\", \"Topic2\", \"Topic2\", \"Topic2\", \"Topic2\", \"Topic2\", \"Topic2\", \"Topic3\", \"Topic3\", \"Topic3\", \"Topic3\", \"Topic3\", \"Topic3\", \"Topic3\", \"Topic3\", \"Topic3\", \"Topic3\", \"Topic3\", \"Topic3\", \"Topic3\", \"Topic3\", \"Topic3\", \"Topic3\", \"Topic3\", \"Topic3\", \"Topic3\", \"Topic3\", \"Topic3\", \"Topic3\", \"Topic3\", \"Topic3\", \"Topic3\", \"Topic3\", \"Topic3\", \"Topic3\", \"Topic3\", \"Topic3\", \"Topic3\", \"Topic3\", \"Topic3\", \"Topic3\", \"Topic3\", \"Topic3\", \"Topic3\", \"Topic3\", \"Topic3\", \"Topic3\", \"Topic3\", \"Topic3\", \"Topic3\", \"Topic3\", \"Topic3\", \"Topic3\", \"Topic3\", \"Topic3\", \"Topic3\", \"Topic3\", \"Topic3\", \"Topic3\", \"Topic3\", \"Topic3\", \"Topic3\", \"Topic3\", \"Topic3\", \"Topic4\", \"Topic4\", \"Topic4\", \"Topic4\", \"Topic4\", \"Topic4\", \"Topic4\", \"Topic4\", \"Topic4\", \"Topic4\", \"Topic4\", \"Topic4\", \"Topic4\", \"Topic4\", \"Topic4\", \"Topic4\", \"Topic4\", \"Topic4\", \"Topic4\", \"Topic4\", \"Topic4\", \"Topic4\", \"Topic4\", \"Topic4\", \"Topic4\", \"Topic4\", \"Topic4\", \"Topic4\", \"Topic4\", \"Topic4\", \"Topic4\", \"Topic4\", \"Topic4\", \"Topic4\", \"Topic4\", \"Topic4\", \"Topic4\", \"Topic4\", \"Topic4\", \"Topic4\", \"Topic4\", \"Topic4\", \"Topic4\", \"Topic4\", \"Topic4\", \"Topic4\", \"Topic4\", \"Topic4\", \"Topic4\", \"Topic4\", \"Topic4\", \"Topic4\", \"Topic4\", \"Topic5\", \"Topic5\", \"Topic5\", \"Topic5\", \"Topic5\", \"Topic5\", \"Topic5\", \"Topic5\", \"Topic5\", \"Topic5\", \"Topic5\", \"Topic5\", \"Topic5\", \"Topic5\", \"Topic5\", \"Topic5\", \"Topic5\", \"Topic5\", \"Topic5\", \"Topic5\", \"Topic5\", \"Topic5\", \"Topic5\", \"Topic5\", \"Topic5\", \"Topic5\", \"Topic5\", \"Topic5\", \"Topic5\", \"Topic5\", \"Topic5\", \"Topic5\", \"Topic5\", \"Topic5\", \"Topic5\", \"Topic5\", \"Topic5\", \"Topic5\", \"Topic5\", \"Topic5\", \"Topic5\", \"Topic5\", \"Topic5\", \"Topic5\", \"Topic5\", \"Topic5\", \"Topic5\", \"Topic5\", \"Topic5\", \"Topic5\", \"Topic5\", \"Topic5\", \"Topic6\", \"Topic6\", \"Topic6\", \"Topic6\", \"Topic6\", \"Topic6\", \"Topic6\", \"Topic6\", \"Topic6\", \"Topic6\", \"Topic6\", \"Topic6\", \"Topic6\", \"Topic6\", \"Topic6\", \"Topic6\", \"Topic6\", \"Topic6\", \"Topic6\", \"Topic6\", \"Topic6\", \"Topic6\", \"Topic6\", \"Topic6\", \"Topic6\", \"Topic6\", \"Topic6\", \"Topic6\", \"Topic6\", \"Topic6\", \"Topic6\", \"Topic6\", \"Topic6\", \"Topic6\", \"Topic6\", \"Topic6\", \"Topic6\", \"Topic6\", \"Topic6\", \"Topic6\", \"Topic6\", \"Topic6\", \"Topic6\", \"Topic6\", \"Topic6\", \"Topic6\", \"Topic6\", \"Topic6\", \"Topic6\", \"Topic6\", \"Topic7\", \"Topic7\", \"Topic7\", \"Topic7\", \"Topic7\", \"Topic7\", \"Topic7\", \"Topic7\", \"Topic7\", \"Topic7\", \"Topic7\", \"Topic7\", \"Topic7\", \"Topic7\", \"Topic7\", \"Topic7\", \"Topic7\", \"Topic7\", \"Topic7\", \"Topic7\", \"Topic7\", \"Topic7\", \"Topic7\", \"Topic7\", \"Topic7\", \"Topic7\", \"Topic7\", \"Topic7\", \"Topic7\", \"Topic7\", \"Topic7\", \"Topic7\", \"Topic7\", \"Topic7\", \"Topic7\", \"Topic7\", \"Topic7\", \"Topic7\", \"Topic7\", \"Topic7\", \"Topic7\", \"Topic7\", \"Topic7\", \"Topic7\", \"Topic7\", \"Topic8\", \"Topic8\", \"Topic8\", \"Topic8\", \"Topic8\", \"Topic8\", \"Topic8\", \"Topic8\", \"Topic8\", \"Topic8\", \"Topic8\", \"Topic8\", \"Topic8\", \"Topic8\", \"Topic8\", \"Topic8\", \"Topic8\", \"Topic8\", \"Topic8\", \"Topic8\", \"Topic8\", \"Topic8\", \"Topic8\", \"Topic8\", \"Topic8\", \"Topic8\", \"Topic8\", \"Topic8\", \"Topic8\", \"Topic8\", \"Topic8\", \"Topic8\", \"Topic8\", \"Topic8\", \"Topic8\", \"Topic8\", \"Topic8\", \"Topic8\", \"Topic8\", \"Topic8\", \"Topic8\", \"Topic8\", \"Topic8\", \"Topic8\", \"Topic8\", \"Topic8\", \"Topic8\", \"Topic8\", \"Topic8\", \"Topic9\", \"Topic9\", \"Topic9\", \"Topic9\", \"Topic9\", \"Topic9\", \"Topic9\", \"Topic9\", \"Topic9\", \"Topic9\", \"Topic9\", \"Topic9\", \"Topic9\", \"Topic9\", \"Topic9\", \"Topic9\", \"Topic9\", \"Topic9\", \"Topic9\", \"Topic9\", \"Topic9\", \"Topic9\", \"Topic9\", \"Topic9\", \"Topic9\", \"Topic9\", \"Topic9\", \"Topic9\", \"Topic9\", \"Topic9\", \"Topic9\", \"Topic9\", \"Topic9\", \"Topic9\", \"Topic9\", \"Topic9\", \"Topic9\", \"Topic9\", \"Topic9\", \"Topic9\", \"Topic9\", \"Topic9\", \"Topic9\", \"Topic9\", \"Topic9\", \"Topic10\", \"Topic10\", \"Topic10\", \"Topic10\", \"Topic10\", \"Topic10\", \"Topic10\", \"Topic10\", \"Topic10\", \"Topic10\", \"Topic10\", \"Topic10\", \"Topic10\", \"Topic10\", \"Topic10\", \"Topic10\", \"Topic10\", \"Topic10\", \"Topic10\", \"Topic10\", \"Topic10\", \"Topic10\", \"Topic10\", \"Topic10\", \"Topic10\", \"Topic10\", \"Topic10\", \"Topic10\", \"Topic10\", \"Topic10\", \"Topic10\", \"Topic10\", \"Topic10\", \"Topic11\", \"Topic11\", \"Topic11\", \"Topic11\", \"Topic11\", \"Topic11\", \"Topic11\", \"Topic11\", \"Topic11\", \"Topic11\", \"Topic11\", \"Topic11\", \"Topic11\", \"Topic11\", \"Topic11\", \"Topic11\", \"Topic11\", \"Topic11\", \"Topic11\", \"Topic11\", \"Topic11\", \"Topic11\", \"Topic11\", \"Topic11\", \"Topic11\", \"Topic11\", \"Topic11\", \"Topic11\", \"Topic11\", \"Topic11\", \"Topic11\", \"Topic11\", \"Topic11\", \"Topic11\", \"Topic11\", \"Topic11\", \"Topic11\", \"Topic11\", \"Topic11\", \"Topic11\", \"Topic11\", \"Topic11\", \"Topic11\", \"Topic11\", \"Topic12\", \"Topic12\", \"Topic12\", \"Topic12\", \"Topic12\", \"Topic12\", \"Topic12\", \"Topic12\", \"Topic12\", \"Topic12\", \"Topic12\", \"Topic12\", \"Topic12\", \"Topic12\", \"Topic12\", \"Topic12\", \"Topic12\", \"Topic12\", \"Topic12\", \"Topic12\", \"Topic12\", \"Topic12\", \"Topic12\", \"Topic12\", \"Topic12\", \"Topic12\", \"Topic12\", \"Topic12\", \"Topic12\", \"Topic12\", \"Topic12\", \"Topic12\", \"Topic12\", \"Topic12\", \"Topic12\", \"Topic12\", \"Topic12\", \"Topic12\", \"Topic12\", \"Topic12\", \"Topic12\", \"Topic12\", \"Topic12\", \"Topic13\", \"Topic13\", \"Topic13\", \"Topic13\", \"Topic13\", \"Topic13\", \"Topic13\", \"Topic13\", \"Topic13\", \"Topic13\", \"Topic13\", \"Topic13\", \"Topic13\", \"Topic13\", \"Topic13\", \"Topic13\", \"Topic13\", \"Topic13\", \"Topic13\", \"Topic13\", \"Topic13\", \"Topic13\", \"Topic13\", \"Topic13\", \"Topic13\", \"Topic13\", \"Topic13\", \"Topic13\", \"Topic13\", \"Topic13\", \"Topic13\", \"Topic13\", \"Topic13\", \"Topic13\", \"Topic13\", \"Topic13\", \"Topic13\", \"Topic13\", \"Topic13\", \"Topic13\", \"Topic13\", \"Topic13\", \"Topic13\", \"Topic14\", \"Topic14\", \"Topic14\", \"Topic14\", \"Topic14\", \"Topic14\", \"Topic14\", \"Topic14\", \"Topic14\", \"Topic14\", \"Topic14\", \"Topic14\", \"Topic14\", \"Topic14\", \"Topic14\", \"Topic14\", \"Topic14\", \"Topic14\", \"Topic14\", \"Topic14\", \"Topic14\", \"Topic14\", \"Topic14\", \"Topic14\", \"Topic14\", \"Topic14\", \"Topic14\", \"Topic14\", \"Topic14\", \"Topic14\", \"Topic14\", \"Topic14\", \"Topic14\", \"Topic14\", \"Topic14\", \"Topic14\", \"Topic14\", \"Topic14\", \"Topic14\", \"Topic14\", \"Topic14\", \"Topic14\", \"Topic14\", \"Topic14\", \"Topic14\", \"Topic14\", \"Topic14\", \"Topic15\", \"Topic15\", \"Topic15\", \"Topic15\", \"Topic15\", \"Topic15\", \"Topic15\", \"Topic15\", \"Topic15\", \"Topic15\", \"Topic15\", \"Topic15\", \"Topic15\", \"Topic15\", \"Topic15\", \"Topic15\", \"Topic15\", \"Topic15\", \"Topic15\", \"Topic15\", \"Topic15\", \"Topic15\", \"Topic15\", \"Topic15\", \"Topic15\", \"Topic15\", \"Topic15\", \"Topic15\", \"Topic15\", \"Topic15\", \"Topic15\", \"Topic15\", \"Topic15\", \"Topic15\", \"Topic15\", \"Topic15\", \"Topic15\", \"Topic15\", \"Topic15\", \"Topic15\", \"Topic15\", \"Topic16\", \"Topic16\", \"Topic16\", \"Topic16\", \"Topic16\", \"Topic16\", \"Topic16\", \"Topic16\", \"Topic16\", \"Topic16\", \"Topic16\", \"Topic16\", \"Topic16\", \"Topic16\", \"Topic16\", \"Topic16\", \"Topic16\", \"Topic16\", \"Topic16\", \"Topic16\", \"Topic16\", \"Topic16\", \"Topic16\", \"Topic16\", \"Topic16\", \"Topic16\", \"Topic16\", \"Topic16\", \"Topic16\", \"Topic16\", \"Topic16\", \"Topic16\", \"Topic16\", \"Topic16\", \"Topic16\", \"Topic16\", \"Topic16\", \"Topic17\", \"Topic17\", \"Topic17\", \"Topic17\", \"Topic17\", \"Topic17\", \"Topic17\", \"Topic17\", \"Topic17\", \"Topic17\", \"Topic17\", \"Topic17\", \"Topic17\", \"Topic17\", \"Topic17\", \"Topic17\", \"Topic17\", \"Topic17\", \"Topic17\", \"Topic17\", \"Topic17\", \"Topic17\", \"Topic17\", \"Topic17\", \"Topic17\", \"Topic17\", \"Topic17\", \"Topic17\", \"Topic17\", \"Topic17\", \"Topic17\", \"Topic17\", \"Topic17\", \"Topic17\", \"Topic17\", \"Topic17\", \"Topic17\", \"Topic17\", \"Topic17\", \"Topic17\", \"Topic17\", \"Topic17\", \"Topic17\", \"Topic17\", \"Topic17\", \"Topic17\", \"Topic17\", \"Topic17\", \"Topic17\", \"Topic17\", \"Topic17\", \"Topic17\", \"Topic17\", \"Topic17\", \"Topic17\", \"Topic17\", \"Topic17\", \"Topic17\", \"Topic17\", \"Topic17\", \"Topic17\", \"Topic17\", \"Topic18\", \"Topic18\", \"Topic18\", \"Topic18\", \"Topic18\", \"Topic18\", \"Topic18\", \"Topic18\", \"Topic18\", \"Topic18\", \"Topic18\", \"Topic18\", \"Topic18\", \"Topic18\", \"Topic18\", \"Topic18\", \"Topic18\", \"Topic18\", \"Topic18\", \"Topic18\", \"Topic18\", \"Topic18\", \"Topic18\", \"Topic18\", \"Topic18\", \"Topic18\", \"Topic18\", \"Topic18\", \"Topic18\", \"Topic18\", \"Topic18\", \"Topic18\", \"Topic19\", \"Topic19\", \"Topic19\", \"Topic19\", \"Topic19\", \"Topic19\", \"Topic19\", \"Topic19\", \"Topic19\", \"Topic19\", \"Topic19\", \"Topic19\", \"Topic19\", \"Topic19\", \"Topic19\", \"Topic19\", \"Topic19\", \"Topic19\", \"Topic19\", \"Topic19\", \"Topic19\", \"Topic19\", \"Topic19\", \"Topic19\", \"Topic19\", \"Topic19\", \"Topic19\", \"Topic19\", \"Topic19\", \"Topic19\", \"Topic19\", \"Topic19\", \"Topic19\", \"Topic19\", \"Topic19\", \"Topic19\", \"Topic19\", \"Topic19\", \"Topic19\", \"Topic19\", \"Topic19\", \"Topic19\", \"Topic19\", \"Topic19\", \"Topic19\", \"Topic19\", \"Topic19\", \"Topic19\", \"Topic19\", \"Topic19\", \"Topic19\", \"Topic19\", \"Topic19\", \"Topic19\", \"Topic19\", \"Topic19\", \"Topic19\", \"Topic19\", \"Topic19\", \"Topic19\", \"Topic19\", \"Topic19\", \"Topic19\", \"Topic19\", \"Topic20\", \"Topic20\", \"Topic20\", \"Topic20\", \"Topic20\", \"Topic20\", \"Topic20\", \"Topic20\", \"Topic20\", \"Topic20\", \"Topic20\", \"Topic20\", \"Topic20\", \"Topic20\", \"Topic20\", \"Topic20\", \"Topic20\", \"Topic20\", \"Topic20\", \"Topic20\", \"Topic20\", \"Topic20\", \"Topic20\", \"Topic20\", \"Topic20\", \"Topic20\", \"Topic20\", \"Topic20\", \"Topic20\", \"Topic20\", \"Topic20\", \"Topic20\", \"Topic20\", \"Topic20\", \"Topic20\", \"Topic20\", \"Topic20\", \"Topic20\", \"Topic20\", \"Topic20\", \"Topic20\", \"Topic20\", \"Topic20\", \"Topic20\", \"Topic20\", \"Topic20\", \"Topic20\", \"Topic20\", \"Topic20\", \"Topic20\", \"Topic20\", \"Topic20\", \"Topic20\", \"Topic20\", \"Topic20\", \"Topic20\", \"Topic20\", \"Topic20\", \"Topic20\", \"Topic20\"], \"Freq\": [112.0, 226.0, 61.0, 39.0, 51.0, 63.0, 47.0, 40.0, 24.0, 62.0, 41.0, 13.0, 26.0, 32.0, 18.0, 9.0, 6.0, 26.0, 8.0, 28.0, 8.0, 12.0, 18.0, 18.0, 12.0, 11.0, 4.0, 9.0, 17.0, 32.0, 8.422807693481445, 7.262274742126465, 7.262251853942871, 6.061766147613525, 7.819738864898682, 4.8610968589782715, 3.66117000579834, 8.320711135864258, 6.585849761962891, 15.804506301879883, 2.460761547088623, 2.4607534408569336, 2.460750102996826, 6.115915775299072, 40.715816497802734, 10.952518463134766, 48.36975860595703, 6.000087261199951, 9.092326164245605, 8.874150276184082, 21.853641510009766, 8.764517784118652, 8.692827224731445, 3.042461633682251, 8.541804313659668, 4.211677551269531, 4.8607001304626465, 6.016142845153809, 4.119908809661865, 30.203258514404297, 79.69747161865234, 43.44603729248047, 143.9910125732422, 32.657684326171875, 18.11430549621582, 8.716659545898438, 8.5970458984375, 36.54961395263672, 18.910329818725586, 11.068365097045898, 12.878140449523926, 15.687976837158203, 15.239294052124023, 7.741658687591553, 7.749364852905273, 3.9591403007507324, 3.433837413787842, 2.0040805339813232, 2.0040700435638428, 2.0040433406829834, 2.0040385723114014, 2.0040228366851807, 5.378855228424072, 5.085979461669922, 3.2166357040405273, 1.6109156608581543, 4.81115198135376, 2.0474259853363037, 2.346200942993164, 1.4584506750106812, 3.187713623046875, 0.8652061223983765, 0.8589761853218079, 4.694882869720459, 0.8472752571105957, 0.8451933860778809, 0.8445477485656738, 0.8377239108085632, 1.6933220624923706, 0.8197391629219055, 0.8185595870018005, 0.8152862787246704, 1.6971111297607422, 5.591282844543457, 7.457357883453369, 12.289679527282715, 3.7866764068603516, 1.614406943321228, 1.5963003635406494, 1.209942102432251, 1.2143996953964233, 2.3587429523468018, 3.5397636890411377, 2.582822799682617, 1.6241058111190796, 6.353677272796631, 5.482182025909424, 6.411722660064697, 10.706480979919434, 4.408961772918701, 5.868152618408203, 4.077221393585205, 3.0016865730285645, 2.9526984691619873, 2.578916072845459, 3.003405809402466, 2.1570496559143066, 2.0106515884399414, 3.226628303527832, 3.7696542739868164, 3.5923678874969482, 2.2156195640563965, 1.6162189245224, 1.5190902948379517, 0.9796128869056702, 0.9794337153434753, 0.979326605796814, 0.9793236255645752, 0.9790455102920532, 0.9788458943367004, 1.739445447921753, 1.4601991176605225, 1.9128880500793457, 0.8370212912559509, 1.7079226970672607, 0.8171530365943909, 0.8163146376609802, 0.8083366751670837, 0.8033444285392761, 0.7951775193214417, 0.7825499176979065, 4.623253345489502, 0.7808192372322083, 0.7775716185569763, 0.8191157579421997, 0.7699328064918518, 0.7629662156105042, 0.8032845258712769, 1.23679780960083, 4.3681254386901855, 3.779848098754883, 4.9707932472229, 14.187665939331055, 9.686619758605957, 3.974803924560547, 1.5077921152114868, 4.441135406494141, 4.811365604400635, 3.6226537227630615, 1.451104760169983, 5.090335845947266, 1.8794341087341309, 1.9995973110198975, 1.665197730064392, 1.6334929466247559, 1.700583815574646, 3.4578590393066406, 4.926951885223389, 3.5376169681549072, 4.199969291687012, 1.9897825717926025, 1.8031741380691528, 2.1052839756011963, 2.144033908843994, 1.7527886629104614, 3.1413838863372803, 2.119574785232544, 1.7076083421707153, 1.6959751844406128, 1.7535784244537354, 0.8332073092460632, 2.0662503242492676, 4.345378398895264, 3.483114719390869, 0.4542182981967926, 0.43711045384407043, 0.42796292901039124, 0.6223466396331787, 1.1485483646392822, 0.6148668527603149, 0.3678938150405884, 1.90242600440979, 0.5638556480407715, 0.9493858814239502, 0.9107837080955505, 0.47375720739364624, 0.9158788323402405, 0.9092397093772888, 0.45613887906074524, 0.44872528314590454, 1.5463393926620483, 0.30590128898620605, 0.3051452338695526, 1.2371714115142822, 2.881518602371216, 1.1592693328857422, 1.1103109121322632, 2.845388412475586, 1.9116325378417969, 1.4496036767959595, 14.191948890686035, 7.769651412963867, 3.750087022781372, 2.5532681941986084, 3.53845477104187, 4.025753021240234, 3.1063787937164307, 3.924014091491699, 3.8095648288726807, 1.275399923324585, 2.349931240081787, 2.2979555130004883, 1.528601884841919, 1.6429626941680908, 1.6372673511505127, 1.6648271083831787, 1.5383825302124023, 1.6290409564971924, 2.3854269981384277, 2.385368585586548, 2.7401342391967773, 1.9036355018615723, 2.0688276290893555, 1.495004415512085, 2.0155575275421143, 1.2217720746994019, 1.2217631340026855, 1.2217698097229004, 1.2218106985092163, 1.2217937707901, 1.2217940092086792, 1.2217313051223755, 3.0401880741119385, 5.7893500328063965, 1.3520610332489014, 1.3406697511672974, 1.2957804203033447, 1.2975361347198486, 0.8363214135169983, 1.8438498973846436, 0.8312426805496216, 0.8176076412200928, 0.8040128350257874, 1.215717077255249, 0.7894765138626099, 0.7542286515235901, 0.7520557641983032, 0.7364710569381714, 1.5775368213653564, 1.9591803550720215, 1.9658204317092896, 3.5389177799224854, 1.9659024477005005, 2.9805047512054443, 1.949276328086853, 1.221779704093933, 2.0306601524353027, 5.871606349945068, 11.2283296585083, 3.009458541870117, 1.4994412660598755, 1.408929705619812, 1.3897730112075806, 1.4725350141525269, 1.8508293628692627, 1.9052852392196655, 1.6449428796768188, 1.4647594690322876, 1.4204388856887817, 1.4564905166625977, 7.280254364013672, 2.694434404373169, 4.636968612670898, 2.4891889095306396, 2.412268877029419, 1.8798400163650513, 2.294987201690674, 3.9825706481933594, 1.240646243095398, 1.2384053468704224, 1.219693899154663, 1.190982699394226, 1.1742353439331055, 1.1609301567077637, 0.6985820531845093, 0.6985741257667542, 0.6985714435577393, 0.698567271232605, 0.6985644698143005, 0.698537290096283, 2.8779561519622803, 1.9068470001220703, 2.535111665725708, 0.6440050005912781, 0.6451888084411621, 0.6382259130477905, 0.6243548393249512, 0.6326920390129089, 0.6265124678611755, 1.2212425470352173, 1.2445157766342163, 3.03218412399292, 2.826462745666504, 1.9275401830673218, 1.363817811012268, 2.6114883422851562, 3.2312979698181152, 2.4510624408721924, 7.73145055770874, 1.260631799697876, 2.7440662384033203, 3.8987319469451904, 3.4135918617248535, 2.9518866539001465, 2.2598142623901367, 1.5751678943634033, 2.2416493892669678, 1.3638688325881958, 1.2563828229904175, 1.249670386314392, 2.8546621799468994, 2.8321359157562256, 1.6010632514953613, 1.597255825996399, 1.593837022781372, 1.587285041809082, 2.684514284133911, 1.5353283882141113, 2.6555964946746826, 1.4725019931793213, 1.4022740125656128, 2.228346347808838, 1.3411096334457397, 1.3115001916885376, 0.8234233856201172, 0.8197625875473022, 0.7842312455177307, 0.7491831183433533, 0.7487998008728027, 0.7015007138252258, 0.6982012987136841, 0.6997101306915283, 0.691824734210968, 0.6807302236557007, 0.682558000087738, 0.674264669418335, 0.6725066304206848, 0.6638766527175903, 0.6664802432060242, 0.6558120250701904, 2.9538145065307617, 5.465578079223633, 3.192784547805786, 6.64361572265625, 1.6772146224975586, 2.4161555767059326, 2.8970749378204346, 2.187758207321167, 1.539838433265686, 1.5403475761413574, 4.872097015380859, 1.5620214939117432, 1.030646800994873, 0.8406981229782104, 0.9811429381370544, 7.366103649139404, 1.8081222772598267, 1.781731367111206, 1.2482326030731201, 1.2147831916809082, 1.136244535446167, 1.1316304206848145, 1.1302533149719238, 1.1054860353469849, 1.1317387819290161, 1.1185046434402466, 0.632114052772522, 0.6229330897331238, 0.6189424991607666, 0.6345193982124329, 0.6120362281799316, 0.6108869910240173, 0.6102745532989502, 0.609383761882782, 0.6085682511329651, 0.606758177280426, 0.6042494177818298, 0.6002479791641235, 0.5988093018531799, 0.5943785309791565, 0.5922082662582397, 0.584041178226471, 0.6032440066337585, 0.5801709294319153, 0.5780318975448608, 2.2205731868743896, 1.7177388668060303, 1.1034138202667236, 1.6069601774215698, 11.95111083984375, 1.1376243829727173, 1.1532981395721436, 1.9561015367507935, 1.4578012228012085, 2.395465612411499, 1.1588658094406128, 0.8876892328262329, 0.9369633793830872, 0.7082287073135376, 0.71962970495224, 0.7365454435348511, 0.6842307448387146, 0.7389965057373047, 0.6784171462059021, 2.507108211517334, 2.507072687149048, 1.2639198303222656, 1.2638815641403198, 1.349064826965332, 1.2638627290725708, 1.2638893127441406, 1.263923168182373, 1.2638790607452393, 2.5070149898529053, 1.2639285326004028, 1.2638742923736572, 1.2638490200042725, 1.4962583780288696, 1.3461235761642456, 1.3173214197158813, 1.572648525238037, 0.8137256503105164, 0.668634831905365, 0.10825812816619873, 0.10841896384954453, 0.1581885814666748, 0.10331585258245468, 0.15428341925144196, 8.684256553649902, 0.1485585719347, 0.14816680550575256, 0.09854769706726074, 0.09259189665317535, 0.10659714788198471, 1.2322410345077515, 0.32891422510147095, 1.7735788822174072, 2.5211684703826904, 3.1103389263153076, 2.6023452281951904, 2.6956613063812256, 7.824230670928955, 0.5499022603034973, 0.36989009380340576, 1.3614712953567505, 0.786983847618103, 0.890574038028717, 0.7490953207015991, 0.7713921666145325, 2.3033699989318848, 1.6574162244796753, 3.1291234493255615, 3.152838945388794, 0.842635452747345, 0.8350790143013, 0.8315052390098572, 0.8279675841331482, 2.5608413219451904, 3.462676763534546, 0.8402732014656067, 0.9151321053504944, 3.47314190864563, 1.7179405689239502, 0.8439397215843201, 0.7867026925086975, 0.8120871186256409, 1.7788978815078735, 2.7683961391448975, 9.146049499511719, 1.8554189205169678, 2.6095519065856934, 0.8457726240158081, 3.4295947551727295, 0.8695362210273743, 1.003521203994751, 1.693670630455017, 0.1253374069929123, 0.12440250813961029, 2.0798072814941406, 0.48622241616249084, 0.8684260845184326, 1.0187853574752808, 1.6147723197937012, 1.5687638521194458, 1.5479220151901245, 0.8097004890441895, 0.8092533349990845, 0.8036549091339111, 3.7594902515411377, 0.8258311748504639, 0.8352517485618591, 1.2186707258224487, 0.6874443888664246, 1.9196261167526245, 0.6343753337860107, 1.5811436176300049, 0.39430272579193115, 0.6622864603996277, 0.36942780017852783, 0.8228878378868103, 0.8126087784767151, 0.3503885865211487, 0.3469105064868927, 0.3420235812664032, 0.836277425289154, 0.3335135281085968, 0.3120402991771698, 0.29972732067108154, 0.29832330346107483, 0.29378288984298706, 0.29907479882240295, 0.2903652489185333, 1.2730286121368408, 2.3001346588134766, 0.4581499397754669, 1.0359817743301392, 2.581972360610962, 0.99892657995224, 0.7795546650886536, 0.8574380874633789, 0.7388949990272522, 3.4579076766967773, 0.6268315315246582, 0.568281352519989, 0.49815431237220764, 0.5317922234535217, 1.0649713277816772, 1.0440247058868408, 1.0326162576675415, 1.8552863597869873, 0.6525000333786011, 0.6517895460128784, 0.6456272006034851, 0.6264424920082092, 0.6213482022285461, 0.6091782450675964, 0.6127744913101196, 0.6046773791313171, 0.5980729460716248, 0.5981729030609131, 0.5817336440086365, 0.5741755366325378, 0.5673958659172058, 0.5566388964653015, 0.5582581758499146, 0.5575695037841797, 0.5463284850120544, 0.5464969873428345, 0.5433202981948853, 0.5248124003410339, 0.5161172151565552, 0.5133083462715149, 0.500062108039856, 0.489278107881546, 1.0894126892089844, 0.6918802261352539, 1.0729162693023682, 1.7309238910675049, 1.2865954637527466, 1.8907212018966675, 0.6180371046066284, 1.586008071899414, 1.6883976459503174, 0.5838885307312012, 0.6003487706184387, 0.6081130504608154, 0.5948064923286438, 0.5860594511032104, 0.5915310382843018, 2.547978639602661, 1.5939637422561646, 1.7242435216903687, 1.8716555833816528, 2.7038769721984863, 0.8677623271942139, 1.59064781665802, 0.7911887168884277, 0.7987568974494934, 0.7930600643157959, 0.7630522847175598, 0.7002221345901489, 0.6940723061561584, 1.1367161273956299, 0.4673931300640106, 0.45027390122413635, 0.4468783140182495, 0.4469740092754364, 0.4243975877761841, 0.4098375737667084, 0.4000674784183502, 0.39294955134391785, 1.2326483726501465, 0.3862118124961853, 0.7805173397064209, 0.6736579537391663, 2.941775321960449, 0.3453967869281769, 0.3938474655151367, 0.4935195744037628, 0.7953087091445923, 0.5551899671554565, 0.8250421285629272, 0.8189800977706909, 0.8230201005935669, 0.7514941692352295, 0.6224140524864197, 0.9275643229484558, 1.2692646980285645, 0.8014159202575684, 0.64560866355896, 0.5025412440299988, 0.556778609752655, 2.0431466102600098, 2.0331921577453613, 1.541735053062439, 1.0380756855010986, 1.0339103937149048, 1.0338938236236572, 1.0335220098495483, 1.0325483083724976, 0.5326297879219055, 0.532360851764679, 0.5322113633155823, 0.5317068696022034, 0.531671404838562, 0.5316522717475891, 0.5315380096435547, 0.5312290787696838, 0.5308815836906433, 0.5306961536407471, 0.5305574536323547, 0.5304774641990662, 0.5293311476707458, 0.5287908911705017, 0.5285137891769409, 0.5250921845436096, 2.046142816543579, 1.0434235334396362, 1.5401418209075928, 0.529061496257782, 0.5311561226844788, 1.6285325288772583, 1.1067631244659424, 1.2929751873016357, 0.8881087899208069, 1.1680573225021362, 0.695329487323761, 0.7402026653289795, 0.6909843683242798, 0.6161937713623047, 0.7078072428703308, 0.6881175637245178, 0.6248536705970764, 0.5727764368057251, 0.5481432676315308, 0.5391308069229126, 0.5385746359825134, 0.5363150238990784, 0.535039484500885, 4.289852142333984, 0.9629195332527161, 0.9301816821098328, 0.6463651061058044, 0.613948404788971, 0.6061256527900696, 0.5885245203971863, 0.5776476860046387, 0.5715402960777283, 0.5713036060333252, 0.5639048218727112, 0.5583158731460571, 0.5379929542541504, 0.5359142422676086, 1.1463650465011597, 0.5020082592964172, 0.9009324312210083, 0.49141189455986023, 0.6467663645744324, 0.4355804920196533, 0.5391512513160706, 0.5671306252479553, 0.650827169418335, 0.555000364780426, 0.6146372556686401, 0.2517775893211365, 0.42343729734420776, 0.3564973473548889, 0.14865635335445404, 0.333082377910614, 0.5043648481369019, 0.6009770035743713, 1.7444722652435303, 1.0050863027572632, 2.67049503326416, 1.0152519941329956, 1.1979411840438843, 1.49765145778656, 1.015731930732727, 0.6709239482879639, 0.7912355065345764, 1.973287582397461, 1.973193883895874, 1.4859442710876465, 1.4859323501586914, 0.9988165497779846, 0.9988172054290771, 0.9988097548484802, 0.9988031983375549, 0.9987800121307373, 0.998776912689209, 0.9987594485282898, 2.4604687690734863, 0.5115942358970642, 0.5115928053855896, 0.5115911960601807, 0.5115890502929688, 0.5115868449211121, 0.5115864276885986, 0.5115711688995361, 0.5115665197372437, 0.5115789175033569, 0.5115417242050171, 0.9987727999687195, 0.6023337841033936, 0.5437583923339844, 0.5115993022918701, 0.6109495759010315, 0.5184130072593689, 0.2289719581604004, 0.2307593673467636, 0.5115975141525269, 0.5115895867347717, 0.6223287582397461, 0.7733426690101624, 0.6074029803276062, 0.6069430708885193, 0.5393790006637573, 0.2618555426597595, 0.01642380654811859, 0.014942256733775139, 0.01482522115111351, 0.014586077071726322, 0.014084423892199993, 0.014051808975636959, 0.013993539847433567, 0.013918383046984673, 0.013766287826001644, 0.01363003347069025, 0.013580757193267345, 0.013575472868978977, 0.01355539821088314, 0.013329732231795788, 0.013277065008878708, 0.01316064689308405, 0.018254101276397705, 0.017819683998823166, 0.017669981345534325, 0.017665041610598564, 0.028064599260687828, 0.01115786749869585, 0.01115786749869585, 0.01115786749869585, 0.01115786749869585, 0.01115786749869585, 0.01115786749869585, 0.01115786749869585, 0.01115786749869585, 0.021454351022839546, 0.015858978033065796, 0.023751625791192055, 0.019332164898514748, 0.03972077742218971, 0.14458665251731873, 0.16825689375400543, 0.28822389245033264, 0.18471397459506989, 0.35009899735450745, 0.09062155336141586, 0.11435677111148834, 0.07718325406312943, 0.12095744907855988, 0.04581955447793007, 0.11062295734882355, 0.025698037818074226, 0.04352259635925293, 0.04093131050467491, 0.04199009761214256, 0.0651746392250061, 0.03690025955438614, 0.054175056517124176, 0.05137214437127113, 0.043699540197849274, 0.03547941520810127, 0.03723973408341408, 0.03879038989543915, 0.03297804668545723, 0.024082662537693977, 0.022467071190476418, 0.023087838664650917, 0.3819514513015747, 0.28891316056251526, 0.12143296748399734, 0.12052857875823975, 0.187742680311203, 0.10812637954950333, 0.33560502529144287, 0.24535220861434937, 0.10169461369514465, 0.10043685883283615, 0.0987042635679245, 0.19046097993850708, 0.1569235771894455, 0.12599796056747437, 0.05960441008210182, 0.05793225020170212, 0.08530502766370773, 0.05627328157424927, 0.05440051108598709, 0.05077251419425011, 0.1037333682179451, 0.046750638633966446, 0.04659399390220642, 0.04560376703739166, 0.13457070291042328, 0.042199067771434784, 0.06765646487474442, 0.3481641411781311, 0.05779605731368065, 0.09984547644853592, 0.04809872433543205, 0.06069121137261391, 0.004153212532401085, 0.0038636571262031794, 0.003911133389919996, 0.003925326745957136, 0.0038306021597236395, 0.003818623721599579, 0.0038658466655761003, 0.0037596116308122873, 0.0036495192907750607, 0.0037902498152107, 0.0035067712888121605, 0.0036888245958834887, 0.003573467256501317, 0.0028074663132429123, 0.003568636951968074, 0.0028074663132429123, 0.0028074663132429123, 0.0028074663132429123, 0.0028074663132429123, 0.0028074663132429123, 0.0028074663132429123, 0.0028074663132429123, 0.0028074663132429123, 0.0028074663132429123, 0.0028074663132429123, 0.0028074663132429123, 0.0028074663132429123, 0.0028074663132429123, 0.0028074663132429123, 0.0028074663132429123, 0.004661234095692635, 0.005336851347237825, 0.0045463768765330315, 0.012615219689905643, 0.0040179346688091755, 0.00521225156262517, 0.0036601151805371046, 0.003519555553793907, 0.0035040874499827623, 0.003499077633023262, 0.0034311094786971807, 0.0034242381807416677, 0.0034109430853277445, 0.006627180147916079, 0.005616142880171537, 0.004055779427289963, 0.004185711033642292, 0.004570807330310345, 0.004419045522809029, 0.009584188461303711, 0.005894111469388008, 0.004464820493012667, 0.004961827304214239, 0.004403494298458099, 0.007096931338310242, 0.005579852964729071, 0.004316199105232954, 0.004545229021459818, 0.005001785699278116, 0.004603756126016378, 0.0040166000835597515, 0.004113424103707075, 0.00404656957834959, 0.004048529546707869, 0.0028773604426532984, 0.0028773604426532984, 0.0028773604426532984, 0.0028773604426532984, 0.0028773604426532984, 0.0028773604426532984, 0.0028773604426532984, 0.0028773604426532984, 0.0028773604426532984, 0.0028773604426532984, 0.0028773604426532984, 0.0028773604426532984, 0.0028773604426532984, 0.0028773604426532984, 0.0028773604426532984, 0.0028773604426532984, 0.0028773604426532984, 0.0028773604426532984, 0.0028773604426532984, 0.0028773604426532984, 0.0028773604426532984, 0.0028773604426532984, 0.0028773604426532984, 0.0028773604426532984, 0.0028773604426532984, 0.0028773604426532984, 0.0028773604426532984, 0.0028773604426532984, 0.0028773604426532984, 0.0028773604426532984, 0.0029899298679083586, 0.002977989846840501, 0.0029616812244057655, 0.002961629070341587, 0.002953633200377226, 0.0029438226483762264, 0.002962658181786537, 0.0029906597919762135, 0.0029590895865112543, 0.002949446439743042, 0.0029569535981863737, 0.002964765764772892, 0.0029668996576219797, 0.002988256048411131, 0.0029545403085649014, 0.0029304518830031157, 0.0028773604426532984, 0.0028773604426532984, 0.0028773604426532984, 0.0028773604426532984, 0.0028773604426532984, 0.0028773604426532984, 0.0028773604426532984, 0.0028773604426532984, 0.0028773604426532984, 0.0028773604426532984, 0.0028773604426532984, 0.0028773604426532984, 0.0028773604426532984, 0.0028773604426532984], \"Term\": [\"corn\", \"plant\", \"inbred\", \"acid\", \"inbreed\", \"invention\", \"produce\", \"relate\", \"soybean\", \"seed\", \"method\", \"include\", \"content\", \"hybrid\", \"composition\", \"temperature\", \"starch\", \"genetic\", \"sub_region\", \"cross\", \"metal\", \"rice\", \"use\", \"isi\", \"oil\", \"cotton\", \"unit\", \"palmitic\", \"designate\", \"provide\", \"wqds\", \"event\", \"tam\", \"cell\", \"dha\", \"bermudagrass\", \"ozark\", \"potato\", \"lcl\", \"isi\", \"stature\", \"introduction\", \"commodity\", \"cultivar\", \"inbreed\", \"crossing\", \"inbred\", \"cheniere\", \"tissue_culture\", \"complement\", \"cross\", \"thereof_accord\", \"rflp\", \"surfactant\", \"related_specie\", \"zone\", \"female\", \"growth\", \"isozyme_typing\", \"relate\", \"corn\", \"invention\", \"plant\", \"produce\", \"genetic\", \"thus\", \"profile\", \"seed\", \"hybrid\", \"designate\", \"also\", \"provide\", \"method\", \"rice\", \"male\", \"stachyose\", \"trait\", \"significantly\", \"function\", \"\\u03bcmol\", \"carbohydrate\", \"lowerstachyose\", \"protein\", \"sequence\", \"salt\", \"fast\", \"high\", \"alfalfa\", \"would\", \"recovery\", \"quality\", \"much\", \"nonisogenic\", \"product\", \"expected\", \"farmer\", \"develop\", \"valuable\", \"practice\", \"animal\", \"accept\", \"currently\", \"impart\", \"grain\", \"improve\", \"soybean\", \"amino\", \"show\", \"listing\", \"substitution\", \"introduce\", \"novel\", \"gene\", \"stress\", \"enhanced\", \"provide\", \"content\", \"method\", \"plant\", \"acid\", \"corn\", \"produce\", \"composition\", \"use\", \"less\", \"seed\", \"reduce\", \"invention\", \"element\", \"sample\", \"crude\", \"aspect\", \"impurity\", \"thermogram\", \"cad\", \"thereof\", \"reduced\", \"delta\", \"allele\", \"digestibility\", \"presence\", \"dna\", \"maize\", \"multi\", \"wherein\", \"mesta\", \"information\", \"compound\", \"thermal\", \"peak\", \"range\", \"least\", \"analyze\", \"distillation\", \"heritable\", \"perform\", \"scan\", \"stably\", \"recombinant\", \"linolenic\", \"low\", \"preferably\", \"acid\", \"content\", \"line\", \"analysis\", \"oil\", \"less\", \"palmitic\", \"fertile\", \"soybean\", \"determine\", \"fatty\", \"identify\", \"stearic\", \"dsq\", \"method\", \"corn\", \"invention\", \"plant\", \"improve\", \"variety\", \"provide\", \"seed\", \"relate\", \"dhb\", \"neem\", \"nitrogenous\", \"coat\", \"fertilizer\", \"mix\", \"base\", \"percent\", \"weight\", \"ingredient\", \"solvent\", \"binder\", \"extract\", \"alteration\", \"excess\", \"optimization\", \"starch\", \"appropriate\", \"endogenous\", \"make\", \"amylose\", \"sesame\", \"dehiscent\", \"biotechnology\", \"organic\", \"induce\", \"affect\", \"short\", \"agent\", \"less\", \"dsq\", \"early\", \"composition\", \"preferably\", \"low\", \"plant\", \"corn\", \"inbreed\", \"content\", \"produce\", \"invention\", \"acid\", \"seed\", \"inbred\", \"growth\", \"relate\", \"method\", \"designate\", \"soybean\", \"genetic\", \"cross\", \"also\", \"hybrid\", \"dehiscent\", \"sesame\", \"bee\", \"suitable\", \"dwell\", \"cytoplasmically\", \"ground\", \"shatter\", \"indicum\", \"mechanized\", \"retention\", \"sesamum\", \"harvesting\", \"find\", \"non\", \"cotton\", \"population\", \"cottonseed\", \"summer\", \"insecticide\", \"grind\", \"make\", \"habitation\", \"possible\", \"nectar\", \"immediately\", \"economical\", \"late\", \"blossom\", \"restore\", \"follow\", \"wild\", \"planting\", \"grow\", \"season\", \"capable\", \"dsq\", \"resistance\", \"area\", \"seed\", \"plant\", \"male\", \"process\", \"pollen\", \"sterile\", \"early\", \"hybrid\", \"corn\", \"provide\", \"designate\", \"form\", \"inbred\", \"sub_region\", \"safflower\", \"second\", \"factor\", \"pass\", \"overlap\", \"region\", \"value\", \"correct\", \"defective\", \"endosperm\", \"farmable\", \"aggregate\", \"sub\", \"dwarf\", \"utilize\", \"morphologically\", \"identification\", \"identifiable\", \"dwarfism\", \"agronomic\", \"say\", \"first\", \"parameter\", \"gametophytic\", \"germinate\", \"data\", \"hybridization\", \"carrying\", \"associate\", \"datum\", \"part\", \"area\", \"dhd\", \"sterility\", \"male\", \"hybrid\", \"use\", \"plant\", \"process\", \"genetic\", \"seed\", \"invention\", \"corn\", \"relate\", \"production\", \"inbred\", \"gene\", \"produce\", \"identify\", \"alcohol\", \"cyanamide\", \"cinnamyl\", \"sugar\", \"stover\", \"homozygous\", \"stabilize\", \"dehydrogenase\", \"calcium\", \"fermentable\", \"site\", \"mutation\", \"delivery\", \"controllable\", \"comparison\", \"bm\", \"type\", \"alone\", \"efficiency\", \"easily\", \"effectiveness\", \"stable\", \"odor\", \"clog\", \"synergistically\", \"manure\", \"release\", \"example\", \"inhibition\", \"organism\", \"activity\", \"composition\", \"reduce\", \"method\", \"result\", \"include\", \"use\", \"also\", \"gene\", \"increase\", \"plant\", \"yield\", \"wild\", \"midrib\", \"provide\", \"temperature\", \"deficit\", \"water\", \"sensing\", \"computer\", \"setpoint\", \"irrigation\", \"measure\", \"metabolic\", \"remote\", \"input\", \"repeatedly\", \"humidity\", \"management\", \"simulation\", \"determined\", \"interest\", \"decrease\", \"canopy\", \"deem\", \"compare\", \"manage\", \"restrictive\", \"state\", \"cool\", \"trigger\", \"indicative\", \"infer\", \"stressed\", \"maximize\", \"desire\", \"agronomic\", \"system\", \"stress\", \"plant\", \"apparatus\", \"level\", \"use\", \"increase\", \"method\", \"male\", \"medium\", \"cotton\", \"alfalfa\", \"quality\", \"grow\", \"harvest\", \"produce\", \"include\", \"cattle\", \"dairy\", \"milk\", \"fed\", \"feed\", \"brown\", \"midrib\", \"silage\", \"useful\", \"line\", \"disclose\", \"phenotype\", \"exhibit\", \"production\", \"increase\", \"yield\", \"designate\", \"temperature\", \"lcl\", \"undesired\", \"retain\", \"measure\", \"withhold\", \"metabolic\", \"corn\", \"irrigation\", \"setpoint\", \"predetermined\", \"continuously\", \"currently\", \"isi\", \"desire\", \"hybrid\", \"produce\", \"inbred\", \"inbreed\", \"seed\", \"plant\", \"grain\", \"isozyme_typ\", \"invention\", \"genetic\", \"relate\", \"cross\", \"method\", \"elevated\", \"saturate\", \"endogenously\", \"concentration\", \"elevate\", \"extraction\", \"negate\", \"crush\", \"stearic\", \"fatty\", \"component\", \"mature\", \"form\", \"vegetable\", \"expression\", \"embodiment\", \"simultaneously\", \"total\", \"palmitic\", \"acid\", \"weight\", \"oil\", \"prefer\", \"soybean\", \"obtain\", \"linolenic\", \"composition\", \"likewise\", \"atcc\", \"content\", \"percent\", \"provide\", \"seed\", \"ion\", \"citric\", \"administer\", \"microelement\", \"molar\", \"group\", \"metal\", \"ratio\", \"ionic\", \"consist\", \"inducing\", \"root\", \"exposure\", \"agent\", \"transport\", \"recombinant\", \"ph\", \"fertilizer\", \"select\", \"subsequent\", \"step\", \"phytotoxic\", \"shoot\", \"chelator\", \"effect\", \"herbicid\", \"prior\", \"manipulation\", \"synergistic\", \"employ\", \"induce\", \"composition\", \"dna\", \"amino\", \"acid\", \"comprise\", \"stress\", \"gene\", \"sequence\", \"plant\", \"protein\", \"transgenic\", \"application\", \"provide\", \"generation\", \"flag\", \"procedure\", \"parent\", \"absence\", \"maximum\", \"extend\", \"filial\", \"recover\", \"upwardly\", \"marker\", \"labor\", \"height\", \"tip\", \"readily\", \"panicl\", \"commercial\", \"route\", \"scale\", \"leave\", \"separate\", \"clipping\", \"photosynthesis\", \"whereby\", \"intensive\", \"implement\", \"oryza\", \"efficient\", \"basis\", \"leaf\", \"possess\", \"rice\", \"form\", \"hybrid\", \"economically\", \"seed\", \"plant\", \"long\", \"describe\", \"combination\", \"pollen\", \"pollination\", \"genetic\", \"engagement\", \"work\", \"assembly\", \"field\", \"unit\", \"rail\", \"tool\", \"processor\", \"instruction\", \"support\", \"controller\", \"configure\", \"local\", \"additionally\", \"memory\", \"execute\", \"omnidirectional\", \"integrated\", \"assembli\", \"propulsion\", \"actuatable\", \"autonomous\", \"system\", \"farm\", \"farming\", \"program\", \"include\", \"component\", \"store\", \"show\", \"control\", \"alcohol\", \"amino\", \"sequence\", \"gene\", \"activity\", \"salt\", \"acid\", \"plant\", \"method\", \"composition\", \"consist\", \"provide\", \"weed\", \"brome\", \"strain\", \"bacteria\", \"goatgrass\", \"downy\", \"jointed\", \"japanese\", \"native\", \"herbicide\", \"pseudomona\", \"vicinity\", \"taylorae\", \"maltophilia\", \"biological\", \"unmodified\", \"enterobacter\", \"effected\", \"plane\", \"xanthomona\", \"solution\", \"rhizo\", \"putida\", \"mixed\", \"control\", \"wheat\", \"bacterial\", \"spray\", \"chemical\", \"soil\", \"application\", \"acid\", \"content\", \"plant\", \"linolenic\", \"also\", \"less\", \"disclose\", \"provide\", \"method\", \"use\", \"preferably\", \"modify\", \"least\", \"selective\", \"novel\", \"soybean\", \"starch\", \"biotechnology\", \"amylose\", \"approach\", \"ethyl\", \"unique\", \"property\", \"enzyme\", \"synthase\", \"functionality\", \"cooking\", \"gel\", \"breeding\", \"paste\", \"organ\", \"mutableness\", \"store\", \"bind\", \"extract\", \"granule\", \"due\", \"additionally\", \"maize\", \"practice\", \"mutation\", \"mix\", \"neem\", \"coat\", \"binder\", \"nitrogenous\", \"involve\", \"contain\", \"use\", \"preferably\", \"invention\", \"include\", \"relate\", \"plant\", \"produce\", \"percent\", \"method\", \"object\", \"detection\", \"mean\", \"station\", \"small\", \"rotate\", \"light\", \"detect\", \"filament\", \"record\", \"beam\", \"apparatus\", \"tube\", \"position\", \"not\", \"interrupt\", \"precisely\", \"specifically\", \"counting\", \"can\", \"germination\", \"particularly\", \"useful\", \"presence\", \"describe\", \"shoot\", \"crude\", \"sample\", \"therein\", \"thermogram\", \"result\", \"root\", \"oil\", \"method\", \"include\", \"seed\", \"use\", \"dsq\", \"mixed\", \"putida\", \"rhizo\", \"solution\", \"xanthomona\", \"plane\", \"effected\", \"enterobacter\", \"unmodified\", \"biological\", \"maltophilia\", \"taylorae\", \"vicinity\", \"pseudomona\", \"herbicide\", \"native\", \"japanese\", \"jointed\", \"downy\", \"goatgrass\", \"brome\", \"farm\", \"autonomous\", \"actuatable\", \"propulsion\", \"assembli\", \"omnidirectional\", \"integrated\", \"execute\", \"shatter\", \"bacteria\", \"weed\", \"strain\", \"isozyme_typ\", \"relate\", \"inbreed\", \"corn\", \"inbred\", \"plant\", \"cross\", \"produce\", \"genetic\", \"invention\", \"rflp\", \"seed\", \"dehiscent\", \"related_specie\", \"thereof_accord\", \"profile\", \"method\", \"complement\", \"provide\", \"hybrid\", \"also\", \"thus\", \"crossing\", \"designate\", \"tissue_culture\", \"control\", \"sesame\", \"grain\", \"field\", \"assembly\", \"local\", \"configure\", \"work\", \"controller\", \"unit\", \"engagement\", \"processor\", \"support\", \"instruction\", \"tool\", \"additionally\", \"program\", \"farm\", \"autonomous\", \"rail\", \"actuatable\", \"propulsion\", \"assembli\", \"farming\", \"omnidirectional\", \"integrated\", \"execute\", \"system\", \"memory\", \"component\", \"include\", \"store\", \"control\", \"set\", \"provide\", \"unique\", \"mutableness\", \"gel\", \"synthase\", \"paste\", \"breeding\", \"approach\", \"functionality\", \"bind\", \"ethyl\", \"granule\", \"property\", \"cooking\", \"farm\", \"enzyme\", \"autonomous\", \"actuatable\", \"propulsion\", \"assembli\", \"omnidirectional\", \"integrated\", \"execute\", \"memory\", \"ingredient\", \"can\", \"counting\", \"specifically\", \"precisely\", \"interrupt\", \"not\", \"biotechnology\", \"store\", \"amylose\", \"starch\", \"extract\", \"organ\", \"maintenance\", \"hill\", \"believe\", \"prevention\", \"top\", \"moisture\", \"shoulder\", \"potato\", \"crop\", \"leach\", \"practice\", \"involve\", \"surfactant\", \"invention\", \"use\", \"zone\", \"include\", \"soil\", \"plant\", \"produce\", \"root\", \"preferably\", \"method\", \"relate\", \"nitrogen\", \"yield\", \"low\", \"improve\", \"farm\", \"autonomous\", \"actuatable\", \"propulsion\", \"assembli\", \"omnidirectional\", \"integrated\", \"execute\", \"memory\", \"ingredient\", \"can\", \"counting\", \"specifically\", \"precisely\", \"interrupt\", \"not\", \"position\", \"tube\", \"solvent\", \"mixed\", \"putida\", \"rhizo\", \"solution\", \"xanthomona\", \"plane\", \"effected\", \"enterobacter\", \"unmodified\", \"biological\", \"maltophilia\", \"digestibility\", \"allele\", \"reduced\", \"delta\", \"thereof\", \"cad\", \"due\", \"maize\", \"presence\", \"silage\", \"level\", \"activity\", \"use\", \"relate\", \"invention\", \"improve\", \"acreage\", \"grow\", \"site\", \"release\", \"organism\", \"organic\", \"odor\", \"stable\", \"hill\", \"non\", \"nitrogen\", \"metal\", \"leach\", \"material\"], \"Total\": [112.0, 226.0, 61.0, 39.0, 51.0, 63.0, 47.0, 40.0, 24.0, 62.0, 41.0, 13.0, 26.0, 32.0, 18.0, 9.0, 6.0, 26.0, 8.0, 28.0, 8.0, 12.0, 18.0, 18.0, 12.0, 11.0, 4.0, 9.0, 17.0, 32.0, 9.061230659484863, 7.868204116821289, 7.868181228637695, 6.66769552230835, 8.671055793762207, 5.467026233673096, 4.267098426818848, 9.730696678161621, 7.839691638946533, 18.977041244506836, 3.0666913986206055, 3.066683292388916, 3.0666799545288086, 7.655392169952393, 51.4145393371582, 13.860334396362305, 61.282989501953125, 7.6339545249938965, 11.61260986328125, 11.52535629272461, 28.471694946289062, 11.427271842956543, 11.456040382385254, 4.013040065765381, 11.323291778564453, 5.634274959564209, 6.521132469177246, 8.086516380310059, 5.564581394195557, 40.94498062133789, 112.83594512939453, 63.14319610595703, 226.57077026367188, 47.92564392089844, 26.085575103759766, 12.067258834838867, 12.282904624938965, 62.72285079956055, 32.39658737182617, 17.41958236694336, 21.77297592163086, 32.941436767578125, 41.80080795288086, 12.43639850616455, 17.61870002746582, 4.576210021972656, 4.2696967124938965, 2.621150255203247, 2.6211397647857666, 2.6211130619049072, 2.621108293533325, 2.6210925579071045, 7.905505180358887, 7.555347442626953, 4.968222141265869, 2.5112264156341553, 7.741981506347656, 3.337505340576172, 3.9655749797821045, 2.468581438064575, 5.580120086669922, 1.5491158962249756, 1.545527696609497, 8.450438499450684, 1.5389900207519531, 1.5376620292663574, 1.537729024887085, 1.5333960056304932, 3.136723518371582, 1.5229737758636475, 1.5224268436431885, 1.520190954208374, 3.176276922225952, 10.471693992614746, 14.193207740783691, 24.675352096557617, 7.376548767089844, 3.1428394317626953, 3.1257989406585693, 2.337778091430664, 2.363241672515869, 5.651447296142578, 9.655747413635254, 6.692451477050781, 3.715895652770996, 32.941436767578125, 26.26124382019043, 41.80080795288086, 226.57077026367188, 39.34073257446289, 112.83594512939453, 47.92564392089844, 18.508468627929688, 18.97994041442871, 13.529026985168457, 62.72285079956055, 11.326522827148438, 63.14319610595703, 4.136009216308594, 4.882949352264404, 4.798198699951172, 3.1626508235931396, 2.3911986351013184, 2.3447318077087402, 1.5989279747009277, 1.5987586975097656, 1.5986595153808594, 1.5986565351486206, 1.598394751548767, 1.5982069969177246, 2.93676495552063, 2.4949042797088623, 3.2823171615600586, 1.5312401056289673, 3.1460158824920654, 1.5217324495315552, 1.5213439464569092, 1.5175236463546753, 1.5151269435882568, 1.511203408241272, 1.5051709413528442, 8.898508071899414, 1.504332184791565, 1.5027868747711182, 1.5860764980316162, 1.4991427659988403, 1.4958068132400513, 1.5847116708755493, 2.4756393432617188, 9.4768648147583, 8.419713020324707, 11.707330703735352, 39.34073257446289, 26.26124382019043, 9.906475067138672, 3.2287850379943848, 12.192136764526367, 13.529026985168457, 9.896062850952148, 3.460942029953003, 24.675352096557617, 5.559881210327148, 7.547632694244385, 5.143946170806885, 5.095866680145264, 5.5979790687561035, 41.80080795288086, 112.83594512939453, 63.14319610595703, 226.57077026367188, 14.193207740783691, 9.340875625610352, 32.941436767578125, 62.72285079956055, 40.94498062133789, 3.910796880722046, 3.1437106132507324, 2.641169309616089, 2.6522135734558105, 3.454482316970825, 1.684358835220337, 5.019407749176025, 10.696669578552246, 8.607207298278809, 1.149971842765808, 1.1664482355117798, 1.17522132396698, 1.8688974380493164, 3.6435317993164062, 2.107534646987915, 1.3073662519454956, 6.8001837730407715, 2.190192461013794, 3.77349853515625, 3.7398436069488525, 2.0037758350372314, 3.8974156379699707, 3.8940658569335938, 2.019010305404663, 2.0238749980926514, 7.097006320953369, 1.4077833890914917, 1.4090425968170166, 5.7832207679748535, 13.529026985168457, 5.5979790687561035, 5.742599010467529, 18.508468627929688, 11.707330703735352, 8.419713020324707, 226.57077026367188, 112.83594512939453, 51.4145393371582, 26.26124382019043, 47.92564392089844, 63.14319610595703, 39.34073257446289, 62.72285079956055, 61.282989501953125, 8.086516380310059, 40.94498062133789, 41.80080795288086, 17.41958236694336, 24.675352096557617, 26.085575103759766, 28.471694946289062, 21.77297592163086, 32.39658737182617, 3.8940658569335938, 3.8974156379699707, 4.631848335266113, 3.2777159214019775, 3.5953176021575928, 2.6650655269622803, 3.6059277057647705, 2.2767863273620605, 2.280263662338257, 2.28041934967041, 2.281625509262085, 2.2829463481903076, 2.2830965518951416, 2.284050226211548, 5.750694751739502, 11.022963523864746, 2.595247268676758, 2.643885374069214, 2.57684588432312, 2.597255229949951, 1.6838778257369995, 3.7398436069488525, 1.6896711587905884, 1.6713353395462036, 1.6710156202316284, 2.555593490600586, 1.6727163791656494, 1.6679080724716187, 1.6707346439361572, 1.642318844795227, 3.5246665477752686, 4.4383134841918945, 4.727171897888184, 9.304471969604492, 5.084961891174316, 9.0916166305542, 5.5979790687561035, 3.1328182220458984, 7.8648247718811035, 62.72285079956055, 226.57077026367188, 17.61870002746582, 4.803811550140381, 4.404813289642334, 4.153857707977295, 5.742599010467529, 32.39658737182617, 112.83594512939453, 32.941436767578125, 17.41958236694336, 9.605293273925781, 61.282989501953125, 8.946904182434082, 3.327120780944824, 6.2786407470703125, 3.480985403060913, 3.4411685466766357, 2.7222037315368652, 3.4885149002075195, 6.251500606536865, 2.046302080154419, 2.0905046463012695, 2.1045408248901367, 2.0663163661956787, 2.0731329917907715, 2.0785017013549805, 1.331268072128296, 1.3312602043151855, 1.3312574625015259, 1.3312532901763916, 1.331250548362732, 1.3312233686447144, 5.5063862800598145, 3.6677944660186768, 5.058893203735352, 1.3532816171646118, 1.3711936473846436, 1.3764432668685913, 1.36122727394104, 1.3805769681930542, 1.3852168321609497, 2.7060084342956543, 2.801074743270874, 8.525020599365234, 7.8648247718811035, 7.545188903808594, 4.769099235534668, 17.61870002746582, 32.39658737182617, 18.97994041442871, 226.57077026367188, 4.803811550140381, 26.085575103759766, 62.72285079956055, 63.14319610595703, 112.83594512939453, 40.94498062133789, 8.772361755371094, 61.282989501953125, 9.655747413635254, 47.92564392089844, 5.143946170806885, 4.0450544357299805, 4.187053203582764, 2.4020001888275146, 2.400869846343994, 2.4008278846740723, 2.3984320163726807, 4.159894943237305, 2.384279727935791, 4.16813325881958, 2.3625848293304443, 2.426351308822632, 3.9545795917510986, 2.413280963897705, 2.414398670196533, 1.5354986190795898, 1.5337038040161133, 1.5224123001098633, 1.5501501560211182, 1.5496444702148438, 1.5394638776779175, 1.5420936346054077, 1.5462833642959595, 1.5475209951400757, 1.5307748317718506, 1.5372347831726074, 1.5314809083938599, 1.5404925346374512, 1.5302565097808838, 1.5384269952774048, 1.54706609249115, 7.9683403968811035, 18.508468627929688, 11.326522827148438, 41.80080795288086, 5.687121391296387, 13.050403594970703, 18.97994041442871, 21.77297592163086, 9.655747413635254, 9.777299880981445, 226.57077026367188, 12.312037467956543, 4.4383134841918945, 2.7834107875823975, 32.941436767578125, 9.131898880004883, 2.652191162109375, 2.6406989097595215, 2.063689708709717, 2.061816453933716, 1.9592044353485107, 1.9570339918136597, 1.9557071924209595, 1.9491783380508423, 2.057237148284912, 2.056485414505005, 1.3296382427215576, 1.326267123222351, 1.3268707990646362, 1.3644320964813232, 1.322757601737976, 1.3217923641204834, 1.3217823505401611, 1.3217564821243286, 1.3213539123535156, 1.3201371431350708, 1.3202546834945679, 1.3181095123291016, 1.3178774118423462, 1.3159470558166504, 1.3151978254318237, 1.312609076499939, 1.3626954555511475, 1.3108766078948975, 1.31047523021698, 5.056491374969482, 5.5063862800598145, 3.429086685180664, 6.692451477050781, 226.57077026367188, 4.493793964385986, 5.495896339416504, 18.97994041442871, 9.777299880981445, 41.80080795288086, 17.61870002746582, 6.423260688781738, 11.022963523864746, 3.337505340576172, 5.580120086669922, 9.304471969604492, 4.392839431762695, 47.92564392089844, 13.050403594970703, 3.152341604232788, 3.152306079864502, 1.9091529846191406, 1.9091147184371948, 2.7660064697265625, 2.7719695568084717, 2.7834107875823975, 2.8420660495758057, 4.167856216430664, 9.906475067138672, 5.253093719482422, 5.326392650604248, 5.383727550506592, 8.772361755371094, 9.777299880981445, 12.312037467956543, 17.41958236694336, 9.131898880004883, 7.839691638946533, 1.2949137687683105, 1.2982466220855713, 1.9557071924209595, 1.2983187437057495, 1.9491783380508423, 112.83594512939453, 1.9570339918136597, 1.9592044353485107, 1.305277943611145, 1.3060674667358398, 1.520190954208374, 18.977041244506836, 5.056491374969482, 32.39658737182617, 47.92564392089844, 61.282989501953125, 51.4145393371582, 62.72285079956055, 226.57077026367188, 10.471693992614746, 6.471245765686035, 63.14319610595703, 26.085575103759766, 40.94498062133789, 28.471694946289062, 41.80080795288086, 3.5212059020996094, 2.5720388889312744, 5.236271381378174, 5.4280805587768555, 1.6187504529953003, 1.6185766458511353, 1.6184849739074707, 1.6183867454528809, 5.095866680145264, 7.547632694244385, 2.003840684890747, 2.373210906982422, 9.605293273925781, 4.930937767028809, 2.4549553394317627, 2.3806488513946533, 2.4607529640197754, 5.469679355621338, 9.896062850952148, 39.34073257446289, 8.607207298278809, 12.192136764526367, 4.215507507324219, 24.675352096557617, 6.4363274574279785, 9.4768648147583, 18.508468627929688, 1.4589370489120483, 1.470875859260559, 26.26124382019043, 10.696669578552246, 32.941436767578125, 62.72285079956055, 2.310713291168213, 2.289368152618408, 2.279676675796509, 1.4795128107070923, 1.4792901277542114, 1.4767062664031982, 8.079374313354492, 2.1813502311706543, 2.3633217811584473, 3.8963682651519775, 2.216919183731079, 6.885217666625977, 2.303274393081665, 5.7832207679748535, 1.455923080444336, 2.4756393432617188, 1.4999231100082397, 3.454482316970825, 3.4261882305145264, 1.48185133934021, 1.4778743982315063, 1.4591201543807983, 3.6005001068115234, 1.4812935590744019, 1.4814168214797974, 1.4232603311538696, 1.4248312711715698, 1.4229975938796997, 1.4595688581466675, 1.464444875717163, 7.097006320953369, 18.508468627929688, 2.4949042797088623, 7.376548767089844, 39.34073257446289, 9.774443626403809, 6.692451477050781, 9.655747413635254, 7.555347442626953, 226.57077026367188, 7.905505180358887, 6.237831115722656, 5.417069435119629, 32.941436767578125, 2.289534568786621, 2.283238410949707, 2.299630641937256, 4.152093887329102, 1.5218605995178223, 1.525265097618103, 1.5229641199111938, 1.5201945304870605, 1.5167438983917236, 1.5008772611618042, 1.5128850936889648, 1.502750039100647, 1.5016753673553467, 1.5058207511901855, 1.4925616979599, 1.4896591901779175, 1.489661455154419, 1.4739388227462769, 1.4803752899169922, 1.4790467023849487, 1.4766520261764526, 1.4806604385375977, 1.4744548797607422, 1.4692482948303223, 1.470043659210205, 1.4623935222625732, 1.4555648565292358, 1.4446965456008911, 3.3249294757843018, 2.1907622814178467, 4.03657341003418, 12.43639850616455, 9.605293273925781, 32.39658737182617, 2.521522045135498, 62.72285079956055, 226.57077026367188, 2.339688301086426, 3.4750757217407227, 4.636074542999268, 4.404813289642334, 5.215923309326172, 26.085575103759766, 3.4644298553466797, 2.4516093730926514, 2.6798834800720215, 2.950806140899658, 4.7268476486206055, 1.6044872999191284, 3.084770917892456, 1.5405031442642212, 1.5554325580596924, 1.547447919845581, 1.5144139528274536, 1.4685304164886475, 1.465967059135437, 2.655895471572876, 1.1489149332046509, 1.1362206935882568, 1.1307696104049683, 1.1316850185394287, 1.1169207096099854, 1.1015702486038208, 1.0947833061218262, 1.0879815816879272, 3.429086685180664, 1.0809277296066284, 2.4223105907440186, 2.1425318717956543, 13.050403594970703, 2.003840684890747, 2.4062066078186035, 3.1428394317626953, 5.144586086273193, 4.0450544357299805, 7.376548767089844, 7.555347442626953, 9.655747413635254, 7.9683403968811035, 4.968222141265869, 39.34073257446289, 226.57077026367188, 41.80080795288086, 18.508468627929688, 3.8963682651519775, 32.941436767578125, 2.6961114406585693, 2.690469741821289, 2.1902804374694824, 1.6831477880477905, 1.680788516998291, 1.6807769536972046, 1.680554747581482, 1.6800155639648438, 1.1750036478042603, 1.1748510599136353, 1.17475426197052, 1.1744754314422607, 1.1744599342346191, 1.1744462251663208, 1.174381136894226, 1.1742085218429565, 1.1740130186080933, 1.1739027500152588, 1.1738224029541016, 1.1737749576568604, 1.1731302738189697, 1.1728291511535645, 1.1726691722869873, 1.170729160308838, 5.144586086273193, 2.637765407562256, 4.590087890625, 2.041663885116577, 2.071927309036255, 6.444281578063965, 5.417069435119629, 39.34073257446289, 26.26124382019043, 226.57077026367188, 9.4768648147583, 21.77297592163086, 13.529026985168457, 5.253093719482422, 32.941436767578125, 41.80080795288086, 18.97994041442871, 11.707330703735352, 4.221240997314453, 8.898508071899414, 4.856495380401611, 5.651447296142578, 24.675352096557617, 6.8001837730407715, 2.019010305404663, 2.0037758350372314, 1.411381483078003, 1.396037220954895, 1.3895937204360962, 1.3842836618423462, 1.3798164129257202, 1.3742603063583374, 1.3753355741500854, 1.373052716255188, 1.3678810596466064, 1.3585840463638306, 1.3574810028076172, 3.0239603519439697, 1.3406126499176025, 2.4062066078186035, 1.3369567394256592, 1.8688974380493164, 1.3105878829956055, 2.293470621109009, 2.655895471572876, 3.2823171615600586, 3.136723518371582, 3.9545795917510986, 1.684358835220337, 3.1437106132507324, 2.6522135734558105, 1.17522132396698, 2.641169309616089, 4.085286617279053, 5.024718284606934, 18.97994041442871, 11.707330703735352, 63.14319610595703, 13.050403594970703, 40.94498062133789, 226.57077026367188, 47.92564392089844, 10.696669578552246, 41.80080795288086, 2.6149537563323975, 2.614888906478882, 2.1276168823242188, 2.127619743347168, 1.640446424484253, 1.6404494047164917, 1.6404415369033813, 1.640440821647644, 1.6404131650924683, 1.640415906906128, 1.640404462814331, 4.493793964385986, 1.1532034873962402, 1.1532009840011597, 1.153200387954712, 1.1531963348388672, 1.1531941890716553, 1.1531935930252075, 1.1531871557235718, 1.1531825065612793, 1.8849064111709595, 1.9134467840194702, 4.167856216430664, 2.93676495552063, 3.4750757217407227, 3.6005001068115234, 4.798198699951172, 4.882949352264404, 2.2857508659362793, 2.3447318077087402, 5.687121391296387, 6.885217666625977, 12.192136764526367, 41.80080795288086, 13.050403594970703, 62.72285079956055, 18.97994041442871, 5.5979790687561035, 1.170729160308838, 1.1726691722869873, 1.1728291511535645, 1.1731302738189697, 1.1737749576568604, 1.1738224029541016, 1.1739027500152588, 1.1740130186080933, 1.1742085218429565, 1.174381136894226, 1.1744462251663208, 1.1744599342346191, 1.1744754314422607, 1.17475426197052, 1.1748510599136353, 1.1750036478042603, 1.6800155639648438, 1.680554747581482, 1.6807769536972046, 1.680788516998291, 2.690469741821289, 1.0809277296066284, 1.0879815816879272, 1.0947833061218262, 1.1015702486038208, 1.1169207096099854, 1.1307696104049683, 1.1316850185394287, 1.1362206935882568, 2.2767863273620605, 1.6831477880477905, 2.6961114406585693, 2.1902804374694824, 6.471245765686035, 40.94498062133789, 51.4145393371582, 112.83594512939453, 61.282989501953125, 226.57077026367188, 28.471694946289062, 47.92564392089844, 26.085575103759766, 63.14319610595703, 11.456040382385254, 62.72285079956055, 3.8940658569335938, 11.323291778564453, 11.427271842956543, 12.282904624938965, 41.80080795288086, 11.52535629272461, 32.941436767578125, 32.39658737182617, 21.77297592163086, 12.067258834838867, 13.860334396362305, 17.41958236694336, 11.61260986328125, 5.144586086273193, 3.8974156379699707, 10.471693992614746, 2.950806140899658, 2.6798834800720215, 1.465967059135437, 1.4685304164886475, 2.4516093730926514, 1.5144139528274536, 4.7268476486206055, 3.4644298553466797, 1.5405031442642212, 1.547447919845581, 1.5554325580596924, 3.084770917892456, 2.655895471572876, 2.1425318717956543, 1.0809277296066284, 1.0879815816879272, 1.6044872999191284, 1.0947833061218262, 1.1015702486038208, 1.1169207096099854, 2.4223105907440186, 1.1307696104049683, 1.1316850185394287, 1.1362206935882568, 3.429086685180664, 1.1489149332046509, 2.003840684890747, 13.050403594970703, 2.4062066078186035, 5.144586086273193, 3.070034980773926, 32.941436767578125, 1.3895937204360962, 1.3406126499176025, 1.3678810596466064, 1.3742603063583374, 1.3574810028076172, 1.3585840463638306, 1.411381483078003, 1.3753355741500854, 1.3369567394256592, 1.396037220954895, 1.3105878829956055, 1.3842836618423462, 1.373052716255188, 1.0809277296066284, 1.3798164129257202, 1.0879815816879272, 1.0947833061218262, 1.1015702486038208, 1.1169207096099854, 1.1307696104049683, 1.1316850185394287, 1.1362206935882568, 1.1489149332046509, 1.149971842765808, 1.1531825065612793, 1.1531871557235718, 1.1531935930252075, 1.1531941890716553, 1.1531963348388672, 1.153200387954712, 2.019010305404663, 2.4062066078186035, 2.0037758350372314, 6.8001837730407715, 1.8688974380493164, 3.0239603519439697, 1.7469770908355713, 1.7804139852523804, 1.7675042152404785, 1.7716748714447021, 1.7607518434524536, 1.763437271118164, 1.77987802028656, 9.730696678161621, 6.84495735168457, 2.868112325668335, 3.136723518371582, 4.085286617279053, 4.013040065765381, 63.14319610595703, 18.97994041442871, 5.634274959564209, 13.050403594970703, 6.444281578063965, 226.57077026367188, 47.92564392089844, 6.885217666625977, 11.707330703735352, 41.80080795288086, 40.94498062133789, 3.7620444297790527, 12.312037467956543, 8.419713020324707, 14.193207740783691, 1.0809277296066284, 1.0879815816879272, 1.0947833061218262, 1.1015702486038208, 1.1169207096099854, 1.1307696104049683, 1.1316850185394287, 1.1362206935882568, 1.1489149332046509, 1.149971842765808, 1.1531825065612793, 1.1531871557235718, 1.1531935930252075, 1.1531941890716553, 1.1531963348388672, 1.153200387954712, 1.1532009840011597, 1.1532034873962402, 1.1664482355117798, 1.170729160308838, 1.1726691722869873, 1.1728291511535645, 1.1731302738189697, 1.1737749576568604, 1.1738224029541016, 1.1739027500152588, 1.1740130186080933, 1.1742085218429565, 1.174381136894226, 1.1744462251663208, 1.5982069969177246, 1.598394751548767, 1.5986595153808594, 1.5986565351486206, 1.5987586975097656, 1.5989279747009277, 2.293470621109009, 3.2823171615600586, 2.93676495552063, 2.8420660495758057, 5.495896339416504, 7.9683403968811035, 18.97994041442871, 40.94498062133789, 63.14319610595703, 14.193207740783691, 1.7884864807128906, 9.304471969604492, 2.426351308822632, 1.5404925346374512, 1.54706609249115, 2.0238749980926514, 1.5475209951400757, 1.5462833642959595, 1.7804139852523804, 5.750694751739502, 3.7620444297790527, 8.079374313354492, 2.868112325668335, 2.492493152618408], \"loglift\": [30.0, 29.0, 28.0, 27.0, 26.0, 25.0, 24.0, 23.0, 22.0, 21.0, 20.0, 19.0, 18.0, 17.0, 16.0, 15.0, 14.0, 13.0, 12.0, 11.0, 10.0, 9.0, 8.0, 7.0, 6.0, 5.0, 4.0, 3.0, 2.0, 1.0, 0.9483000040054321, 0.9412999749183655, 0.9412999749183655, 0.9261000156402588, 0.9179999828338623, 0.9039000272750854, 0.8682000041007996, 0.864799976348877, 0.847100019454956, 0.8385000228881836, 0.8012999892234802, 0.8012999892234802, 0.8012999892234802, 0.7968999743461609, 0.788100004196167, 0.7858999967575073, 0.7847999930381775, 0.7806000113487244, 0.7767000198364258, 0.7599999904632568, 0.7567999958992004, 0.7560999989509583, 0.7454000115394592, 0.7444999814033508, 0.7394999861717224, 0.730400025844574, 0.7275000214576721, 0.725600004196167, 0.72079998254776, 0.7171000242233276, 0.6736999750137329, 0.6474999785423279, 0.5680999755859375, 0.6377999782562256, 0.6567000150680542, 0.6960999965667725, 0.6646000146865845, 0.4812999963760376, 0.4830000102519989, 0.5679000020027161, 0.49619999527931213, 0.27959999442100525, 0.012299999594688416, 0.5473999977111816, 0.20000000298023224, 2.294300079345703, 2.221299886703491, 2.1707000732421875, 2.1707000732421875, 2.1707000732421875, 2.1707000732421875, 2.1707000732421875, 2.0541000366210938, 2.0434000492095947, 2.0044000148773193, 1.9952000379562378, 1.9634000062942505, 1.9505000114440918, 1.9142999649047852, 1.9128999710083008, 1.8791999816894531, 1.8566999435424805, 1.8517999649047852, 1.8514000177383423, 1.8423000574111938, 1.8407000303268433, 1.839900016784668, 1.8345999717712402, 1.822700023651123, 1.819700002670288, 1.818600058555603, 1.816100001335144, 1.812399983406067, 1.8116999864578247, 1.7956000566482544, 1.7421000003814697, 1.7723000049591064, 1.7730000019073486, 1.7670999765396118, 1.780500054359436, 1.7733999490737915, 1.5654000043869019, 1.4357000589370728, 1.4871000051498413, 1.6115000247955322, 0.7935000061988831, 0.8726000189781189, 0.5644000172615051, -0.613099992275238, 0.25049999356269836, -0.5171999931335449, -0.025100000202655792, 0.6201000213623047, 0.578499972820282, 0.7817000150680542, -0.5997999906539917, 0.7807000279426575, -1.0077999830245972, 2.290600061416626, 2.280100107192993, 2.2493999004364014, 2.183000087738037, 2.147200107574463, 2.10479998588562, 2.0488998889923096, 2.0488998889923096, 2.048799991607666, 2.048799991607666, 2.0487000942230225, 2.0485999584198, 2.0151000022888184, 2.003200054168701, 1.998900055885315, 1.9349000453948975, 1.9279999732971191, 1.917099952697754, 1.9163000583648682, 1.909000039100647, 1.9043999910354614, 1.8968000411987305, 1.8847999572753906, 1.8840999603271484, 1.8831000328063965, 1.8799999952316284, 1.878100037574768, 1.872499942779541, 1.8657000064849854, 1.8594000339508057, 1.8449000120162964, 1.7644000053405762, 1.7380000352859497, 1.6821999549865723, 1.5190000534057617, 1.5414999723434448, 1.6256999969482422, 1.777400016784668, 1.5290000438690186, 1.5049999952316284, 1.5339000225067139, 1.669700026512146, 0.9603999853134155, 1.454300045967102, 1.2106000185012817, 1.4110000133514404, 1.4012000560760498, 1.3473999500274658, 0.04659999907016754, -0.5922999978065491, -0.34310001134872437, -1.4491000175476074, 0.5741000175476074, 0.8939999938011169, -0.21140000224113464, -0.8371999859809875, -0.6121000051498413, 2.5313000679016113, 2.3561999797821045, 2.314199924468994, 2.3032000064849854, 2.0724000930786133, 2.0464999675750732, 1.8628000020980835, 1.8495999574661255, 1.8457000255584717, 1.8214999437332153, 1.7688000202178955, 1.7402000427246094, 1.6507999897003174, 1.595900058746338, 1.5184999704360962, 1.4823999404907227, 1.4766000509262085, 1.393399953842163, 1.3703999519348145, 1.3379000425338745, 1.3083000183105469, 1.3021999597549438, 1.295799970626831, 1.2627999782562256, 1.24399995803833, 1.2266000509262085, 1.2238999605178833, 1.2204999923706055, 1.2081999778747559, 1.2038999795913696, 1.1757999658584595, 1.107100009918213, 0.8777999877929688, 0.9380999803543091, 0.991100013256073, -0.019999999552965164, 0.0746999979019165, 0.13220000267028809, 0.4196999967098236, 0.1444000005722046, -0.002300000051036477, 0.21160000562667847, -0.021199999377131462, -0.02759999968111515, 0.9034000039100647, -0.10750000178813934, -0.15049999952316284, 0.31709998846054077, 0.041099999099969864, -0.017999999225139618, -0.08879999816417694, 0.10040000081062317, -0.23970000445842743, 2.3368000984191895, 2.335900068283081, 2.3018999099731445, 2.2834999561309814, 2.274199962615967, 2.248800039291382, 2.2451999187469482, 2.204400062561035, 2.202899932861328, 2.2028000354766846, 2.2023000717163086, 2.20169997215271, 2.20169997215271, 2.201200008392334, 2.189500093460083, 2.1828999519348145, 2.174799919128418, 2.1477999687194824, 2.139400005340576, 2.1328999996185303, 2.127000093460083, 2.1196999549865723, 2.117500066757202, 2.1119000911712646, 2.0952999591827393, 2.083899974822998, 2.0761001110076904, 2.0332999229431152, 2.028700113296509, 2.024899959564209, 2.0230000019073486, 2.0090999603271484, 1.9494999647140503, 1.860200047492981, 1.8766000270843506, 1.7115999460220337, 1.7719000577926636, 1.8853000402450562, 1.4728000164031982, 0.45829999446868896, -0.1776999980211258, 1.0597000122070312, 1.662600040435791, 1.687000036239624, 1.7319999933242798, 1.465999960899353, -0.03550000116229057, -1.2544000148773193, -0.17010000348091125, 0.35100001096725464, 0.9154999852180481, -0.9125999808311462, 2.7202000617980957, 2.715399980545044, 2.623300075531006, 2.5910000801086426, 2.5710999965667725, 2.5560998916625977, 2.5076000690460205, 2.4755001068115234, 2.4260001182556152, 2.4028000831604004, 2.3808999061584473, 2.3754000663757324, 2.3578999042510986, 2.343899965286255, 2.2815001010894775, 2.2815001010894775, 2.2815001010894775, 2.2815001010894775, 2.2815001010894775, 2.2815001010894775, 2.2774999141693115, 2.272200107574463, 2.2355000972747803, 2.183799982070923, 2.172499895095825, 2.1577999591827393, 2.146899938583374, 2.1461000442504883, 2.1328999996185303, 2.1308000087738037, 2.1150999069213867, 1.8926000595092773, 1.902999997138977, 1.5616999864578247, 1.6744999885559082, 1.017300009727478, 0.6212000250816345, 0.8794999718666077, -0.4514000117778778, 1.5886000394821167, 0.6743999719619751, 0.14830000698566437, 0.008700000122189522, -0.7171000242233276, 0.029400000348687172, 1.2091000080108643, -0.38190001249313354, 0.9690999984741211, -0.7149999737739563, 1.5113999843597412, 2.7743000984191895, 2.7318999767303467, 2.7172000408172607, 2.7153000831604004, 2.713200092315674, 2.7100000381469727, 2.684799909591675, 2.6826999187469482, 2.671999931335449, 2.6500000953674316, 2.57450008392334, 2.5492000579833984, 2.5353000164031982, 2.5125999450683594, 2.4997000694274902, 2.4964001178741455, 2.4595000743865967, 2.395699977874756, 2.3954999446868896, 2.336899995803833, 2.330399990081787, 2.329900026321411, 2.3178000450134277, 2.3125, 2.3108999729156494, 2.302500009536743, 2.2939999103546143, 2.2876999378204346, 2.28629994392395, 2.2646000385284424, 2.1303999423980713, 1.9031000137329102, 1.856600046157837, 1.2835999727249146, 1.9018000364303589, 1.4362000226974487, 1.2431000471115112, 0.824999988079071, 1.2869999408721924, 1.2747999429702759, -0.71670001745224, 1.0582000017166138, 1.6627000570297241, 1.9256000518798828, -0.39089998602867126, 2.9618000984191895, 2.7934999465942383, 2.7832000255584717, 2.6738998889923096, 2.647599935531616, 2.6317999362945557, 2.6289000511169434, 2.6282999515533447, 2.609499931335449, 2.5789999961853027, 2.5676000118255615, 2.4330999851226807, 2.4210000038146973, 2.414099931716919, 2.4110000133514404, 2.4059998989105225, 2.4047999382019043, 2.4038000106811523, 2.402400016784668, 2.4012999534606934, 2.3993000984191895, 2.3951001167297363, 2.390000104904175, 2.3877999782562256, 2.3819000720977783, 2.3787999153137207, 2.36680006980896, 2.3617000579833984, 2.3615000247955322, 2.358099937438965, 2.3536999225616455, 2.011699914932251, 2.042799949645996, 1.75, 0.23440000414848328, 1.802899956703186, 1.6153000593185425, 0.90420001745224, 1.2734999656677246, 0.3172999918460846, 0.45509999990463257, 1.19760000705719, 0.7116000056266785, 1.6263999938964844, 1.1283999681472778, 0.6403999924659729, 1.317199945449829, -0.9955000281333923, 0.21979999542236328, 3.239500045776367, 3.239500045776367, 3.0560998916625977, 3.0560998916625977, 2.750499963760376, 2.6830999851226807, 2.678999900817871, 2.6582000255584717, 2.2753000259399414, 2.094399929046631, 2.0439000129699707, 2.0299999713897705, 2.0192999839782715, 1.6999000310897827, 1.485700011253357, 1.2335000038146973, 1.0636999607086182, 1.0506000518798828, 1.0068000555038452, 0.9868000149726868, 0.98580002784729, 0.9538000226020813, 0.9375, 0.9320999979972839, 0.9041000008583069, 0.8902999758720398, 0.8866000175476074, 0.8848999738693237, 0.8219000101089478, 0.8109999895095825, 0.7340999841690063, 0.7358999848365784, 0.5634999871253967, 0.5235999822616577, 0.4878000020980835, 0.48500001430511475, 0.321399986743927, 0.10270000249147415, 0.5217999815940857, 0.6065999865531921, -0.3682999908924103, -0.03240000084042549, -0.3596000075340271, -0.16930000483989716, -0.5239999890327454, 3.055299997329712, 3.040299892425537, 2.964900016784668, 2.9363999366760254, 2.8268001079559326, 2.8178999423980713, 2.813699960708618, 2.809499979019165, 2.791599988937378, 2.700500011444092, 2.610599994659424, 2.5267999172210693, 2.4625000953674316, 2.425299882888794, 2.411900043487549, 2.3724000453948975, 2.3710999488830566, 2.3564999103546143, 2.2058000564575195, 2.0208001136779785, 1.945199966430664, 1.938099980354309, 1.8733999729156494, 1.5062999725341797, 1.4780000448226929, 1.2344000339508057, 1.0884000062942505, 1.0253000259399414, 1.009600043296814, 0.9438999891281128, 0.388700008392334, -0.15610000491142273, -0.6403999924659729, 3.221299886703491, 3.2016000747680664, 3.192500114440918, 2.976799964904785, 2.9763998985290527, 2.9711999893188477, 2.8145999908447266, 2.608299970626831, 2.5394999980926514, 2.41729998588562, 2.4086999893188477, 2.3024001121520996, 2.2901999950408936, 2.2827999591827393, 2.2732999324798584, 2.2611000537872314, 2.1784000396728516, 2.1449999809265137, 2.140700101852417, 2.1375999450683594, 2.1303000450134277, 2.1289000511169434, 2.119800090789795, 2.088599920272827, 2.0220000743865967, 2.0218000411987305, 2.0160000324249268, 2.0018999576568604, 1.9944000244140625, 1.9615000486373901, 1.861299991607666, 1.4944000244140625, 1.8847999572753906, 1.6167000532150269, 0.85589998960495, 1.298799991607666, 1.4296000003814697, 1.1583000421524048, 1.2547999620437622, -0.6028000116348267, 1.0449999570846558, 1.1837999820709229, 1.1931999921798706, -0.5465999841690063, 2.930000066757202, 2.912899971008301, 2.8947999477386475, 2.889899969100952, 2.848599910736084, 2.8452000617980957, 2.8371999263763428, 2.8089001178741455, 2.802999973297119, 2.7936999797821045, 2.7916998863220215, 2.785099983215332, 2.7748000621795654, 2.772200107574463, 2.753200054168701, 2.7421000003814697, 2.7302000522613525, 2.7216999530792236, 2.7202000617980957, 2.719899892807007, 2.7011001110076904, 2.698699951171875, 2.6970999240875244, 2.6659998893737793, 2.648699998855591, 2.6484999656677246, 2.627000093460083, 2.6126999855041504, 2.5796000957489014, 2.542799949645996, 2.3703999519348145, 1.7235000133514404, 1.6850999593734741, 0.8543000221252441, 2.289400100708008, 0.017899999395012856, -1.2037999629974365, 2.3073999881744385, 1.9395999908447266, 1.664199948310852, 1.6931999921798706, 1.5094000101089478, -0.09099999815225601, 3.4012999534606934, 3.27810001373291, 3.2676000595092773, 3.2532999515533447, 3.1500000953674316, 3.093899965286255, 3.0462000370025635, 3.0422000885009766, 3.042099952697754, 3.04010009765625, 3.023099899291992, 2.9679999351501465, 2.960900068283081, 2.8598999977111816, 2.8092000484466553, 2.7829999923706055, 2.7802000045776367, 2.779599905014038, 2.7409000396728516, 2.7197999954223633, 2.701900005340576, 2.690200090408325, 2.6854000091552734, 2.6793999671936035, 2.5761001110076904, 2.5515999794006348, 2.2188000679016113, 1.9503999948501587, 1.8986999988555908, 1.857300043106079, 1.841599941253662, 1.722599983215332, 1.517899990081787, 1.4866000413894653, 1.2461999654769897, 1.3473999500274658, 1.6313999891281128, -0.03889999911189079, -1.4759999513626099, -0.24570000171661377, 0.35280001163482666, 1.6604000329971313, -0.3716999888420105, 3.469099998474121, 3.4663000106811523, 3.3952999114990234, 3.2630999088287354, 3.260499954223633, 3.260499954223633, 3.2602999210357666, 3.259700059890747, 2.955199956893921, 2.954900026321411, 2.954699993133545, 2.9539999961853027, 2.953900098800659, 2.953900098800659, 2.953700065612793, 2.9532999992370605, 2.9528000354766846, 2.952500104904175, 2.9523000717163086, 2.952199935913086, 2.9505999088287354, 2.949899911880493, 2.94950008392334, 2.9446001052856445, 2.824399948120117, 2.819000005722046, 2.654400110244751, 2.3959999084472656, 2.3852999210357666, 2.3708999156951904, 2.1582999229431152, 0.3310999870300293, 0.3596999943256378, -1.521299958229065, 1.1341999769210815, 0.36489999294281006, 0.7720000147819519, 1.6033999919891357, -0.09390000253915787, -0.3603000044822693, 0.3328000009059906, 0.7289999723434448, 1.7051000595092773, 0.942799985408783, 1.5472999811172485, 1.3914999961853027, -0.08479999750852585, 3.333199977874756, 3.053499937057495, 3.0264999866485596, 3.013000011444092, 2.972399950027466, 2.964200019836426, 2.9386000633239746, 2.9231998920440674, 2.916599988937378, 2.9154000282287598, 2.9040000438690186, 2.8977999687194824, 2.8675999641418457, 2.864500045776367, 2.8239998817443848, 2.8117001056671143, 2.811500072479248, 2.793100118637085, 2.732800006866455, 2.6923999786376953, 2.346100091934204, 2.25, 2.1758999824523926, 2.062000036239624, 1.9322999715805054, 1.8933000564575195, 1.789199948310852, 1.7870999574661255, 1.7264000177383423, 1.7232999801635742, 1.7021000385284424, 1.6704000234603882, 1.406999945640564, 1.3387999534606934, 0.6308000087738037, 1.2402000427246094, 0.2623000144958496, -1.2252000570297241, -0.060100000351667404, 1.024899959564209, -0.17309999465942383, 3.7060000896453857, 3.7060000896453857, 3.6285998821258545, 3.6285998821258545, 3.4914000034332275, 3.4914000034332275, 3.4914000034332275, 3.4914000034332275, 3.4914000034332275, 3.4914000034332275, 3.4914000034332275, 3.385200023651123, 3.174799919128418, 3.174799919128418, 3.174799919128418, 3.174799919128418, 3.174799919128418, 3.174799919128418, 3.174799919128418, 3.174799919128418, 2.6833999156951904, 2.668299913406372, 2.5589001178741455, 2.4033000469207764, 2.132699966430664, 2.03629994392395, 1.9265999794006348, 1.7447999715805054, 1.6866999864578247, 1.6690000295639038, 1.5791000127792358, 1.3878999948501587, 1.0125000476837158, -0.002400000113993883, 0.920199990272522, -0.6504999995231628, 0.426800012588501, 2.627700090408325, 1.4234000444412231, 1.3272000551223755, 1.319200038909912, 1.3027000427246094, 1.267199993133545, 1.264799952507019, 1.260599970817566, 1.2551000118255615, 1.24399995803833, 1.2338999509811401, 1.2302000522613525, 1.2297999858856201, 1.2282999753952026, 1.211300015449524, 1.207200050354004, 1.1983000040054321, 1.1678999662399292, 1.1434999704360962, 1.1348999738693237, 1.1346999406814575, 1.1270999908447266, 1.1167000532150269, 1.110200047492981, 1.1038999557495117, 1.0976999998092651, 1.083899974822998, 1.0715999603271484, 1.0707999467849731, 1.0667999982833862, 1.0255000591278076, 1.0254000425338745, 0.9581999778747559, 0.960099995136261, 0.5968000292778015, 0.04399999976158142, -0.032099999487400055, -0.2799000144004822, -0.1143999993801117, -0.7825000286102295, -0.05990000069141388, -0.3479999899864197, -0.13289999961853027, -0.5676000118255615, 0.16850000619888306, -0.6503000259399414, 0.6693000197410583, 0.12880000472068787, 0.05820000171661377, 0.011599999852478504, -0.7735000252723694, -0.05400000140070915, -0.7202000021934509, -0.756600022315979, -0.5210000276565552, -0.13920000195503235, -0.22930000722408295, -0.4171000123023987, -0.17389999330043793, 0.32589998841285706, 0.5340999960899353, -0.4269999861717224, 3.8661000728607178, 3.683199882507324, 3.4196999073028564, 3.4105000495910645, 3.341200113296509, 3.271199941635132, 3.2655999660491943, 3.263000011444092, 3.1928000450134277, 3.175800085067749, 3.1533000469207764, 3.1259000301361084, 3.081899881362915, 3.077199935913086, 3.0127999782562256, 2.977799892425537, 2.976300001144409, 2.9426000118255615, 2.9024999141693115, 2.819700002670288, 2.759999990463257, 2.7248001098632812, 2.7207000255584717, 2.695199966430664, 2.6726999282836914, 2.6064999103546143, 2.5223000049591064, 2.2867000102996826, 2.18179988861084, 1.9686000347137451, 1.7545000314712524, -0.38600000739097595, 1.5058000087738037, 1.4694000482559204, 1.4615000486373901, 1.4603999853134155, 1.4483000040054321, 1.4443000555038452, 1.4184999465942383, 1.4164999723434448, 1.4150999784469604, 1.4097000360488892, 1.3950999975204468, 1.3910000324249268, 1.367400050163269, 1.3653000593185425, 1.3610999584197998, 1.3588000535964966, 1.3525999784469604, 1.3464000225067139, 1.3325999975204468, 1.3202999830245972, 1.3194999694824219, 1.315500020980835, 1.3043999671936035, 1.3034000396728516, 1.3006000518798828, 1.3006000518798828, 1.3006000518798828, 1.3006000518798828, 1.3006000518798828, 1.3006000518798828, 1.2475999593734741, 1.2074999809265137, 1.2302000522613525, 1.0288000106811523, 1.176300048828125, 0.955299973487854, 1.1505000591278076, 1.0923999547958374, 1.0951999425888062, 1.0915000438690186, 1.0779999494552612, 1.0744999647140503, 1.0613000392913818, 0.026799999177455902, 0.21299999952316284, 0.7573999762535095, 0.699400007724762, 0.5231999754905701, 0.5073000192642212, -1.4744000434875488, -0.7584999799728394, 0.17820000648498535, -0.5562000274658203, 0.03009999915957451, -3.052500009536743, -1.7395999431610107, -0.05609999969601631, -0.5353000164031982, -1.7122000455856323, -1.7745000123977661, 0.4763999879360199, -0.6854000091552734, -0.32179999351501465, -0.843500018119812, 1.420199990272522, 1.413699984550476, 1.4075000286102295, 1.4012999534606934, 1.3874000310897827, 1.375100016593933, 1.3743000030517578, 1.370300054550171, 1.3592000007629395, 1.358299970626831, 1.3554999828338623, 1.3554999828338623, 1.3554999828338623, 1.3554999828338623, 1.3554999828338623, 1.3554999828338623, 1.3554999828338623, 1.3554999828338623, 1.343999981880188, 1.340399980545044, 1.3387000560760498, 1.3386000394821167, 1.3382999897003174, 1.3378000259399414, 1.3377000093460083, 1.3377000093460083, 1.3375999927520752, 1.337399959564209, 1.3372999429702759, 1.3372000455856323, 1.0674999952316284, 1.0634000301361084, 1.0577000379562378, 1.0577000379562378, 1.054900050163269, 1.0514999628067017, 0.6972000002861023, 0.3481000065803528, 0.4487000107765198, 0.4781999886035919, -0.17870000004768372, -0.5475000143051147, -1.4147000312805176, -2.1763999462127686, -2.6208999156951904, -1.1365000009536743, 0.9165999889373779, -0.7325000166893005, 0.6115999817848206, 1.0658999681472778, 1.0615999698638916, 0.7929999828338623, 1.061400055885315, 1.0621999502182007, 0.9211999773979187, -0.25130000710487366, 0.17299999296665192, -0.5913000106811523, 0.44440001249313354, 0.5846999883651733], \"logprob\": [30.0, 29.0, 28.0, 27.0, 26.0, 25.0, 24.0, 23.0, 22.0, 21.0, 20.0, 19.0, 18.0, 17.0, 16.0, 15.0, 14.0, 13.0, 12.0, 11.0, 10.0, 9.0, 8.0, 7.0, 6.0, 5.0, 4.0, 3.0, 2.0, 1.0, -4.847700119018555, -4.9959001541137695, -4.9959001541137695, -5.176599979400635, -4.921999931335449, -5.39739990234375, -5.680799961090088, -4.859899997711182, -5.093699932098389, -4.218299865722656, -6.078199863433838, -6.078199863433838, -6.078199863433838, -5.167699813842773, -3.2720000743865967, -4.585100173950195, -3.0998001098632812, -5.1869001388549805, -4.771200180053711, -4.795499801635742, -3.8942999839782715, -4.8078999519348145, -4.816100120544434, -5.866000175476074, -4.833700180053711, -5.540800094604492, -5.39739990234375, -5.184199810028076, -5.56279993057251, -3.57069993019104, -2.600399971008301, -3.2070999145507812, -2.0088999271392822, -3.492500066757202, -4.081900119781494, -4.813399791717529, -4.827199935913086, -3.380000114440918, -4.038899898529053, -4.57450008392334, -4.423099994659424, -4.2256999015808105, -4.254700183868408, -4.932000160217285, -4.931000232696533, -4.184800148010254, -4.327199935913086, -4.865699768066406, -4.865699768066406, -4.865699768066406, -4.865699768066406, -4.865699768066406, -3.8784000873565674, -3.9344000816345215, -4.392499923706055, -5.084099769592285, -3.9899001121520996, -4.844299793243408, -4.708099842071533, -5.183499813079834, -4.401599884033203, -5.705699920654297, -5.712900161743164, -4.014400005340576, -5.726600170135498, -5.729100227355957, -5.729800224304199, -5.7378997802734375, -5.034200191497803, -5.7596001625061035, -5.761099815368652, -5.765100002288818, -5.031899929046631, -3.8396999835968018, -3.5517001152038574, -3.0520999431610107, -4.229400157928467, -5.081900119781494, -5.093200206756592, -5.370299816131592, -5.366600036621094, -4.702700138092041, -4.296800136566162, -4.611999988555908, -5.075900077819824, -3.7118000984191895, -3.8594000339508057, -3.702699899673462, -3.190000057220459, -4.077199935913086, -3.791300058364868, -4.155399799346924, -4.461699962615967, -4.478099822998047, -4.613500118255615, -4.461100101470947, -4.792099952697754, -4.862400054931641, -4.289700031280518, -4.134200096130371, -4.182300090789795, -4.665599822998047, -4.981100082397461, -5.043000221252441, -5.4816999435424805, -5.481900215148926, -5.48199987411499, -5.48199987411499, -5.4822998046875, -5.482500076293945, -4.907599925994873, -5.082600116729736, -4.8125, -5.638999938964844, -4.925899982452393, -5.663099765777588, -5.664100170135498, -5.673900127410889, -5.680099964141846, -5.690299987792969, -5.706299781799316, -3.930000066757202, -5.708600044250488, -5.712699890136719, -5.660699844360352, -5.722599983215332, -5.7316999435424805, -5.680200099945068, -5.248600006103516, -3.986799955368042, -4.131499767303467, -3.857599973678589, -2.808799982070923, -3.1903998851776123, -4.081200122833252, -5.05049991607666, -3.9702000617980957, -3.890199899673462, -4.173900127410889, -5.088799953460693, -3.8338000774383545, -4.8302001953125, -4.768199920654297, -4.951200008392334, -4.970399856567383, -4.930200099945068, -4.2204999923706055, -3.8664000034332275, -4.197700023651123, -4.026100158691406, -4.773099899291992, -4.871600151062012, -4.716700077056885, -4.698500156402588, -4.899899959564209, -4.105000019073486, -4.4984002113342285, -4.7144999504089355, -4.721399784088135, -4.688000202178955, -5.43209981918335, -4.523900032043457, -3.7804999351501465, -4.001699924468994, -6.03879976272583, -6.077199935913086, -6.098400115966797, -5.723899841308594, -5.111100196838379, -5.736000061035156, -6.249599933624268, -4.606500148773193, -5.8225998878479, -5.301599979400635, -5.343100070953369, -5.996699810028076, -5.337500095367432, -5.344799995422363, -6.034599781036377, -6.051000118255615, -4.813799858093262, -6.434100151062012, -6.436600208282471, -5.036799907684326, -4.191299915313721, -5.101900100708008, -5.144999980926514, -4.20389986038208, -4.6016998291015625, -4.878399848937988, -2.5969998836517334, -3.199399948120117, -3.9279000759124756, -4.312300205230713, -3.9860000610351562, -3.8568999767303467, -4.116199970245361, -3.882499933242798, -3.912100076675415, -5.006400108337402, -4.395299911499023, -4.417600154876709, -4.825300216674805, -4.7530999183654785, -4.7565999031066895, -4.7399001121521, -4.818900108337402, -4.761600017547607, -4.303699970245361, -4.303800106048584, -4.16510009765625, -4.529399871826172, -4.446100234985352, -4.770999908447266, -4.4721999168396, -4.972799777984619, -4.972799777984619, -4.972799777984619, -4.972799777984619, -4.972799777984619, -4.972799777984619, -4.972899913787842, -4.061200141906738, -3.417099952697754, -4.871500015258789, -4.880000114440918, -4.914000034332275, -4.912700176239014, -5.351900100708008, -4.561299800872803, -5.357999801635742, -5.374499797821045, -5.391300201416016, -4.977799892425537, -5.4095001220703125, -5.4552001953125, -5.458099842071533, -5.479000091552734, -4.717299938201904, -4.5005998611450195, -4.497200012207031, -3.9093000888824463, -4.497200012207031, -4.080999851226807, -4.50570011138916, -4.972799777984619, -4.464799880981445, -3.4030001163482666, -2.754699945449829, -4.071400165557861, -4.76800012588501, -4.8302998542785645, -4.843999862670898, -4.786099910736084, -4.557499885559082, -4.528500080108643, -4.6753997802734375, -4.791399955749512, -4.822199821472168, -4.797100067138672, -3.0885000228881836, -4.082499980926514, -3.539599895477295, -4.1616997718811035, -4.1930999755859375, -4.442500114440918, -4.2428998947143555, -3.691699981689453, -4.857999801635742, -4.859799861907959, -4.875, -4.898900032043457, -4.913000106811523, -4.9243998527526855, -5.432300090789795, -5.432400226593018, -5.432400226593018, -5.432400226593018, -5.432400226593018, -5.432400226593018, -4.016600131988525, -4.428199768066406, -4.143400192260742, -5.513700008392334, -5.511899948120117, -5.52269983291626, -5.5447001457214355, -5.531400203704834, -5.541200160980225, -4.873799800872803, -4.854899883270264, -3.964400053024292, -4.034599781036377, -4.417399883270264, -4.763400077819824, -4.113699913024902, -3.9007999897003174, -4.17710018157959, -3.02839994430542, -4.8420000076293945, -4.064199924468994, -3.7130000591278076, -3.845900058746338, -3.9911999702453613, -4.258399963378906, -4.61929988861084, -4.26639986038208, -4.763299942016602, -4.845399856567383, -4.850800037384033, -3.828200101852417, -3.836199998855591, -4.406499862670898, -4.408899784088135, -4.410999774932861, -4.415200233459473, -3.889699935913086, -4.448400020599365, -3.9005000591278076, -4.490200042724609, -4.539100170135498, -4.075900077819824, -4.583700180053711, -4.605999946594238, -5.071499824523926, -5.075900077819824, -5.120200157165527, -5.165999889373779, -5.166500091552734, -5.2316999435424805, -5.236400127410889, -5.234300136566162, -5.24560022354126, -5.2617998123168945, -5.259099960327148, -5.271299839019775, -5.273900032043457, -5.286799907684326, -5.282899856567383, -5.299099922180176, -3.794100046157837, -3.1786999702453613, -3.7163000106811523, -2.9835000038146973, -4.360099792480469, -3.994999885559082, -3.813499927520752, -4.094299793243408, -4.445499897003174, -4.445199966430664, -3.2936999797821045, -4.43120002746582, -4.8470001220703125, -5.0507001876831055, -4.896200180053711, -2.8264999389648438, -4.231100082397461, -4.245800018310547, -4.601600170135498, -4.628799915313721, -4.6956000328063965, -4.699699878692627, -4.700900077819824, -4.723100185394287, -4.6996002197265625, -4.711400032043457, -5.282100200653076, -5.2967000007629395, -5.303100109100342, -5.278299808502197, -5.314300060272217, -5.316199779510498, -5.317200183868408, -5.318699836730957, -5.320000171661377, -5.322999954223633, -5.327099800109863, -5.333799839019775, -5.33620023727417, -5.343599796295166, -5.347300052642822, -5.361199855804443, -5.328800201416016, -5.367800235748291, -5.371500015258789, -4.025599956512451, -4.282400131225586, -4.724999904632568, -4.348999977111816, -2.3424999713897705, -4.694399833679199, -4.680699825286865, -4.152400016784668, -4.446400165557861, -3.9498000144958496, -4.675899982452393, -4.942500114440918, -4.888500213623047, -5.168399810791016, -5.152400016784668, -5.129199981689453, -5.2027997970581055, -5.125800132751465, -5.211400032043457, -3.6124000549316406, -3.6124000549316406, -4.297299861907959, -4.297299861907959, -4.232100009918213, -4.297299861907959, -4.297299861907959, -4.297299861907959, -4.297299861907959, -3.6124000549316406, -4.297299861907959, -4.297299861907959, -4.297299861907959, -4.128499984741211, -4.234300136566162, -4.255899906158447, -4.078700065612793, -4.737599849700928, -4.934000015258789, -6.754700183868408, -6.753200054168701, -6.375500202178955, -6.801499843597412, -6.4004998207092285, -2.369999885559082, -6.438300132751465, -6.440899848937988, -6.848700046539307, -6.910999774932861, -6.770199775695801, -4.322700023651123, -5.643499851226807, -3.9584999084472656, -3.606800079345703, -3.3968000411987305, -3.5750999450683594, -3.539799928665161, -2.474299907684326, -5.129499912261963, -5.526000022888184, -4.222899913787842, -4.770999908447266, -4.64739990234375, -4.820400238037109, -4.791100025177002, -3.6858999729156494, -4.014999866485596, -3.379499912261963, -3.371999979019165, -4.691500186920166, -4.700500011444092, -4.704800128936768, -4.709099769592285, -3.5799999237060547, -3.2783000469207764, -4.694300174713135, -4.609000205993652, -3.2751998901367188, -3.9791998863220215, -4.690000057220459, -4.760200023651123, -4.728400230407715, -3.9442999362945557, -3.502000093460083, -2.306999921798706, -3.9021999835968018, -3.5611000061035156, -4.68779993057251, -3.287899971008301, -4.660099983215332, -4.5167999267578125, -3.9934000968933105, -6.5970001220703125, -6.604499816894531, -3.7880001068115234, -5.241399765014648, -4.661399841308594, -4.501699924468994, -3.941200017929077, -3.970099925994873, -3.9835000038146973, -4.631499767303467, -4.631999969482422, -4.638999938964844, -3.096100091934204, -4.611800193786621, -4.600399971008301, -4.222599983215332, -4.795199871063232, -3.7683000564575195, -4.875500202178955, -3.9621999263763428, -5.35099983215332, -4.832499980926514, -5.416200160980225, -4.615300178527832, -4.627900123596191, -5.469099998474121, -5.479100227355957, -5.493299961090088, -4.5991997718811035, -5.518499851226807, -5.585000038146973, -5.62529993057251, -5.630000114440918, -5.645299911499023, -5.627500057220459, -5.6570000648498535, -4.178999900817871, -3.587399959564209, -5.201000213623047, -4.385000228881836, -3.4718000888824463, -4.421500205993652, -4.669400215148926, -4.57420015335083, -4.7230000495910645, -3.1796998977661133, -4.887499809265137, -4.985499858856201, -5.117199897766113, -5.0518999099731445, -4.241600036621094, -4.261499881744385, -4.272500038146973, -3.686500072479248, -4.731500148773193, -4.732600212097168, -4.742099761962891, -4.772299766540527, -4.780399799346924, -4.80019998550415, -4.794300079345703, -4.807600021362305, -4.818600177764893, -4.81850004196167, -4.84630012512207, -4.859399795532227, -4.871300220489502, -4.890399932861328, -4.887499809265137, -4.888800144195557, -4.90910005569458, -4.90880012512207, -4.914599895477295, -4.9492998123168945, -4.966000080108643, -4.971499919891357, -4.997600078582764, -5.019400119781494, -4.218900203704834, -4.672900199890137, -4.2342000007629395, -3.7558999061584473, -4.052599906921387, -3.66759991645813, -4.785799980163574, -3.843400001525879, -3.7808001041412354, -4.842599868774414, -4.814799785614014, -4.802000045776367, -4.824100017547607, -4.838900089263916, -4.829599857330322, -3.356100082397461, -3.825200080871582, -3.7467000484466553, -3.664599895477295, -3.296799898147583, -4.433300018310547, -3.8273000717163086, -4.525700092315674, -4.51609992980957, -4.5233001708984375, -4.5619001388549805, -4.647799968719482, -4.656599998474121, -4.163300037384033, -5.052000045776367, -5.089300155639648, -5.09689998626709, -5.096700191497803, -5.148499965667725, -5.1834001541137695, -5.207600116729736, -5.225500106811523, -4.082300186157227, -5.242800235748291, -4.5391998291015625, -4.686500072479248, -3.212399959564209, -5.354499816894531, -5.223199844360352, -4.997600078582764, -4.520500183105469, -4.879899978637695, -4.483799934387207, -4.491099834442139, -4.486199855804443, -4.577099800109863, -4.765600204467773, -4.366600036621094, -4.052999973297119, -4.512800216674805, -4.729000091552734, -4.979499816894531, -4.876999855041504, -3.539099931716919, -3.5439999103546143, -3.82069993019104, -4.21619987487793, -4.220200061798096, -4.220200061798096, -4.220600128173828, -4.22160005569458, -4.883500099182129, -4.883999824523926, -4.884300231933594, -4.885200023651123, -4.885300159454346, -4.885300159454346, -4.8856000900268555, -4.886099815368652, -4.8867998123168945, -4.8871002197265625, -4.887400150299072, -4.887599945068359, -4.889699935913086, -4.890699863433838, -4.891300201416016, -4.897799968719482, -3.537600040435791, -4.211100101470947, -3.821700096130371, -4.890200138092041, -4.886300086975098, -3.765899896621704, -4.152100086212158, -3.9965999126434326, -4.372200012207031, -4.098199844360352, -4.6168999671936035, -4.5543999671936035, -4.623199939727783, -4.737800121307373, -4.5991997718811035, -4.627399921417236, -4.723800182342529, -4.810800075531006, -4.854800224304199, -4.871399879455566, -4.872399806976318, -4.8765997886657715, -4.879000186920166, -2.749799966812134, -4.243899822235107, -4.278500080108643, -4.642499923706055, -4.693900108337402, -4.7067999839782715, -4.736199855804443, -4.754899978637695, -4.765500068664551, -4.765900135040283, -4.7789998054504395, -4.788899898529053, -4.826000213623047, -4.829899787902832, -4.069499969482422, -4.895199775695801, -4.310400009155273, -4.916600227355957, -4.641900062561035, -5.037199974060059, -4.823800086975098, -4.7733001708984375, -4.6356000900268555, -4.794899940490723, -4.692800045013428, -5.585299968719482, -5.065400123596191, -5.237500190734863, -6.112199783325195, -5.305500030517578, -4.890500068664551, -4.7153000831604, -3.649600028991699, -4.201000213623047, -3.22379994392395, -4.190999984741211, -4.0254998207092285, -3.8022000789642334, -4.190499782562256, -4.605199813842773, -4.440199851989746, -3.3327999114990234, -3.3327999114990234, -3.6164000034332275, -3.6164000034332275, -4.013599872589111, -4.013599872589111, -4.013599872589111, -4.013700008392334, -4.013700008392334, -4.013700008392334, -4.013700008392334, -3.1120998859405518, -4.682700157165527, -4.682700157165527, -4.682700157165527, -4.682700157165527, -4.682700157165527, -4.682700157165527, -4.682700157165527, -4.682700157165527, -4.682700157165527, -4.682799816131592, -4.013700008392334, -4.519400119781494, -4.621699810028076, -4.682700157165527, -4.505199909210205, -4.669400215148926, -5.486599922180176, -5.478799819946289, -4.682700157165527, -4.682700157165527, -4.486700057983398, -4.269499778747559, -4.511000156402588, -4.5117998123168945, -4.629799842834473, -3.649899959564209, -6.418900012969971, -6.513500213623047, -6.521299839019775, -6.537600040435791, -6.5725998878479, -6.574900150299072, -6.579100131988525, -6.584499835968018, -6.5954999923706055, -6.605400085449219, -6.609000205993652, -6.609399795532227, -6.610899925231934, -6.627699851989746, -6.6315999031066895, -6.640399932861328, -6.313300132751465, -6.337399959564209, -6.345799922943115, -6.346099853515625, -5.883200168609619, -6.805500030517578, -6.805500030517578, -6.805500030517578, -6.805500030517578, -6.805500030517578, -6.805500030517578, -6.805500030517578, -6.805500030517578, -6.151800155639648, -6.45389986038208, -6.050000190734863, -6.255899906158447, -5.535799980163574, -4.243800163269043, -4.092199802398682, -3.5539000034332275, -3.9988999366760254, -3.359499931335449, -4.710999965667725, -4.478400230407715, -4.871500015258789, -4.4222002029418945, -5.39300012588501, -4.511600017547607, -5.97130012512207, -5.444399833679199, -5.505799770355225, -5.480199813842773, -5.040599822998047, -5.609499931335449, -5.225500106811523, -5.278600215911865, -5.440299987792969, -5.64870023727417, -5.600299835205078, -5.559500217437744, -5.721799850463867, -6.036200046539307, -6.105599880218506, -6.078400135040283, -3.051800012588501, -3.3310000896453857, -4.197800159454346, -4.2052001953125, -3.76200008392334, -4.313799858093262, -3.1812000274658203, -3.4944000244140625, -4.375100135803223, -4.387599945068359, -4.40500020980835, -3.7476999759674072, -3.9414000511169434, -4.160900115966797, -4.90939998626709, -4.93779993057251, -4.550899982452393, -4.966899871826172, -5.000699996948242, -5.069799900054932, -4.355299949645996, -5.152299880981445, -5.155700206756592, -5.17710018157959, -4.09499979019165, -5.254700183868408, -4.782700061798096, -3.144399881362915, -4.940199851989746, -4.393499851226807, -5.123899936676025, -4.891300201416016, -6.165200233459473, -6.237500190734863, -6.225299835205078, -6.221700191497803, -6.246099948883057, -6.249199867248535, -6.2368998527526855, -6.264800071716309, -6.29449987411499, -6.256700038909912, -6.334400177001953, -6.28380012512207, -6.3155999183654785, -6.55679988861084, -6.31689977645874, -6.55679988861084, -6.55679988861084, -6.55679988861084, -6.55679988861084, -6.55679988861084, -6.55679988861084, -6.55679988861084, -6.55679988861084, -6.55679988861084, -6.55679988861084, -6.55679988861084, -6.55679988861084, -6.55679988861084, -6.55679988861084, -6.55679988861084, -6.049799919128418, -5.9145002365112305, -6.07480001449585, -5.054200172424316, -6.198400020599365, -5.9380998611450195, -6.291600227355957, -6.3308000564575195, -6.33519983291626, -6.336599826812744, -6.356200218200684, -6.3582000732421875, -6.362100124359131, -5.69789981842041, -5.863500118255615, -6.189000129699707, -6.15749979019165, -6.069399833679199, -6.1031999588012695, -5.328999996185303, -5.815199851989746, -6.092899799346924, -5.987400054931641, -6.1066999435424805, -5.629499912261963, -5.869999885559082, -6.126800060272217, -6.074999809265137, -5.979300022125244, -6.062300205230713, -6.198699951171875, -6.174900054931641, -6.191299915313721, -6.190800189971924, -6.501999855041504, -6.501999855041504, -6.501999855041504, -6.501999855041504, -6.501999855041504, -6.501999855041504, -6.501999855041504, -6.501999855041504, -6.501999855041504, -6.501999855041504, -6.501999855041504, -6.501999855041504, -6.501999855041504, -6.501999855041504, -6.501999855041504, -6.501999855041504, -6.501999855041504, -6.501999855041504, -6.501999855041504, -6.501999855041504, -6.501999855041504, -6.501999855041504, -6.501999855041504, -6.501999855041504, -6.501999855041504, -6.501999855041504, -6.501999855041504, -6.501999855041504, -6.501999855041504, -6.501999855041504, -6.463600158691406, -6.467599868774414, -6.473100185394287, -6.473100185394287, -6.475800037384033, -6.4791998863220215, -6.472799777984619, -6.463399887084961, -6.473999977111816, -6.47730016708374, -6.474699974060059, -6.472099781036377, -6.471399784088135, -6.464200019836426, -6.475500106811523, -6.483699798583984, -6.501999855041504, -6.501999855041504, -6.501999855041504, -6.501999855041504, -6.501999855041504, -6.501999855041504, -6.501999855041504, -6.501999855041504, -6.501999855041504, -6.501999855041504, -6.501999855041504, -6.501999855041504, -6.501999855041504, -6.501999855041504]}, \"token.table\": {\"Topic\": [12, 2, 1, 2, 3, 4, 10, 11, 13, 14, 1, 2, 3, 7, 8, 13, 13, 15, 11, 1, 1, 4, 11, 14, 6, 6, 8, 7, 13, 2, 8, 3, 7, 1, 3, 4, 6, 7, 14, 1, 4, 2, 3, 11, 13, 15, 1, 3, 3, 2, 8, 16, 1, 14, 15, 1, 4, 1, 3, 5, 6, 3, 13, 6, 8, 14, 1, 14, 1, 4, 6, 5, 12, 16, 5, 8, 1, 1, 14, 15, 5, 7, 15, 14, 7, 9, 3, 2, 7, 16, 8, 1, 2, 5, 6, 12, 2, 6, 9, 1, 1, 14, 1, 2, 7, 11, 12, 7, 4, 1, 6, 7, 12, 12, 1, 8, 7, 1, 4, 10, 2, 3, 4, 7, 10, 11, 13, 15, 3, 1, 3, 4, 6, 7, 11, 8, 3, 5, 10, 13, 2, 11, 13, 1, 3, 7, 15, 1, 2, 3, 4, 7, 10, 14, 15, 8, 2, 13, 14, 15, 7, 13, 15, 8, 1, 2, 3, 4, 5, 6, 9, 6, 1, 5, 7, 8, 5, 16, 1, 3, 8, 1, 2, 3, 4, 5, 6, 9, 12, 1, 4, 3, 16, 10, 1, 2, 2, 7, 5, 9, 6, 6, 8, 8, 8, 6, 8, 4, 5, 7, 7, 3, 3, 12, 16, 1, 2, 4, 5, 9, 1, 3, 8, 16, 16, 1, 3, 6, 8, 2, 1, 4, 1, 6, 3, 1, 3, 7, 9, 14, 3, 3, 14, 3, 4, 5, 3, 15, 6, 6, 5, 1, 4, 5, 7, 5, 5, 12, 14, 7, 7, 3, 10, 3, 10, 10, 1, 4, 3, 10, 6, 13, 2, 7, 14, 14, 15, 15, 1, 7, 1, 4, 1, 3, 6, 9, 2, 1, 11, 2, 10, 12, 4, 15, 10, 6, 6, 2, 2, 13, 2, 1, 3, 4, 10, 9, 2, 9, 1, 4, 7, 3, 5, 4, 11, 13, 16, 12, 5, 3, 6, 12, 2, 5, 1, 3, 4, 5, 10, 12, 2, 15, 6, 15, 2, 3, 6, 7, 11, 13, 12, 1, 3, 4, 5, 6, 9, 12, 6, 16, 14, 1, 2, 4, 9, 15, 5, 5, 11, 1, 4, 5, 8, 1, 4, 5, 1, 2, 5, 8, 5, 12, 14, 3, 1, 2, 1, 7, 8, 1, 2, 4, 5, 6, 8, 9, 12, 6, 6, 6, 1, 3, 6, 14, 5, 2, 12, 1, 2, 3, 5, 12, 3, 1, 2, 3, 4, 5, 6, 9, 1, 2, 3, 4, 5, 6, 9, 1, 2, 3, 4, 5, 6, 7, 8, 13, 15, 16, 1, 2, 4, 7, 8, 9, 8, 5, 1, 4, 11, 1, 11, 8, 3, 7, 8, 5, 13, 12, 8, 16, 2, 1, 1, 2, 3, 4, 5, 6, 9, 15, 1, 4, 15, 11, 7, 11, 8, 1, 2, 4, 9, 1, 1, 4, 14, 14, 12, 5, 1, 9, 1, 12, 3, 4, 5, 14, 15, 12, 1, 2, 3, 4, 14, 1, 3, 8, 16, 2, 3, 9, 1, 3, 4, 10, 14, 2, 13, 2, 12, 1, 3, 4, 2, 1, 3, 15, 4, 5, 1, 2, 4, 5, 6, 8, 14, 8, 8, 7, 12, 1, 7, 10, 8, 12, 16, 8, 5, 1, 8, 3, 8, 1, 4, 7, 11, 1, 2, 3, 4, 6, 7, 8, 9, 13, 14, 15, 16, 11, 7, 9, 9, 4, 14, 1, 8, 14, 1, 11, 6, 2, 3, 15, 7, 15, 14, 5, 4, 10, 1, 7, 4, 4, 5, 7, 2, 16, 1, 2, 14, 16, 2, 3, 6, 10, 7, 1, 2, 3, 4, 10, 16, 1, 15, 7, 7, 12, 6, 1, 1, 3, 4, 10, 12, 6, 1, 12, 1, 6, 1, 16, 6, 15, 3, 1, 2, 3, 4, 15, 3, 1, 6, 9, 12, 14, 1, 2, 3, 4, 5, 6, 7, 8, 9, 11, 12, 13, 14, 15, 1, 5, 1, 5, 12, 1, 2, 5, 12, 5, 16, 2, 12, 5, 1, 3, 2, 15, 16, 8, 1, 4, 10, 1, 3, 4, 14, 15, 3, 16, 1, 12, 5, 6, 13, 1, 2, 3, 4, 5, 6, 8, 9, 15, 1, 2, 8, 1, 2, 3, 5, 6, 9, 12, 1, 3, 4, 8, 13, 15, 2, 3, 11, 1, 2, 3, 4, 5, 6, 7, 8, 10, 11, 13, 14, 14, 14, 1, 2, 8, 13, 3, 6, 11, 12, 3, 11, 16, 12, 2, 1, 2, 4, 7, 8, 3, 3, 6, 1, 2, 3, 4, 5, 6, 9, 15, 1, 4, 7, 8, 8, 2, 5, 5, 8, 1, 5, 7, 16, 8, 5, 1, 4, 14, 1, 2, 6, 12, 1, 11, 16, 16, 12, 6, 2, 13, 3, 16, 10, 3, 6, 12, 3, 1, 4, 5, 3, 6, 1, 2, 3, 4, 5, 6, 9, 10, 12, 16, 1, 5, 11, 1, 4, 14, 8, 12, 2, 11, 13, 4, 5, 5, 1, 5, 8, 5, 1, 4, 11, 16, 1, 1, 2, 2, 3, 9, 8, 3, 10, 7, 16, 1, 7, 14, 14, 1, 2, 3, 4, 10, 14, 16, 7, 14, 2, 7, 7, 3, 2, 4, 15, 8, 16, 1, 3, 10, 2, 5, 6, 1, 6, 15, 7, 14, 2, 8, 11, 8, 6, 3, 6, 2, 7, 5, 5, 13, 1, 7, 15, 8, 13, 1, 14, 8, 9, 2, 3, 3, 1, 4, 3, 3, 1, 4, 8, 12, 1, 4, 8, 13, 1, 1, 3, 4, 10, 2, 1, 2, 3, 7, 11, 8, 16, 7, 8, 15, 5, 13, 14, 12, 1, 2, 3, 4, 5, 6, 7, 8, 12, 14, 15, 16, 9, 14, 16, 6, 2, 3, 6, 8, 1, 3, 4, 5, 1, 3, 4, 10, 14, 8, 14, 1, 3, 4, 10, 1, 14, 12, 3, 6, 5, 7, 8, 8, 13, 2, 1, 14, 1, 2, 4, 7, 9, 1, 4, 2], \"Freq\": [0.657090425491333, 0.6568459868431091, 0.07625684142112732, 0.10167578607797623, 0.3558652698993683, 0.07625684142112732, 0.22877052426338196, 0.07625684142112732, 0.025418946519494057, 0.025418946519494057, 0.5591319799423218, 0.12549664080142975, 0.12549664080142975, 0.37648993730545044, 0.12549664080142975, 0.12549664080142975, 0.3765208423137665, 0.3765208423137665, 0.8773173689842224, 0.7103365659713745, 0.3458280563354492, 0.1729140281677246, 0.3458280563354492, 0.1729140281677246, 0.48236173391342163, 0.5448219180107117, 0.3632146120071411, 0.741646409034729, 0.24721546471118927, 0.5992499589920044, 0.2996249794960022, 0.6256276965141296, 0.6450988054275513, 0.5970703959465027, 0.09185698628425598, 0.09185698628425598, 0.04592849314212799, 0.09185698628425598, 0.04592849314212799, 0.5489179491996765, 0.27445897459983826, 0.5422589778900146, 0.13556474447250366, 0.13556474447250366, 0.13556474447250366, 0.4990578293800354, 0.30971401929855347, 0.6194280385971069, 0.6647468209266663, 0.6566101312637329, 0.2225291132926941, 0.4450582265853882, 0.5538049936294556, 0.18460166454315186, 0.7085256576538086, 0.45658087730407715, 0.45658087730407715, 0.12714841961860657, 0.12714841961860657, 0.25429683923721313, 0.3814452290534973, 0.6323809027671814, 0.7463011145591736, 0.3695479929447174, 0.3695479929447174, 0.5941249132156372, 0.4357215166091919, 0.4357215166091919, 0.19922669231891632, 0.39845338463783264, 0.19922669231891632, 0.3007582724094391, 0.3007582724094391, 0.6096057295799255, 0.6476895809173584, 0.21589653193950653, 0.5657694935798645, 0.9145739674568176, 0.8515123128890991, 0.49529218673706055, 0.5985391139984131, 0.6520164012908936, 0.7360604405403137, 0.7433646321296692, 0.3607543110847473, 0.3607543110847473, 0.625419020652771, 0.23991554975509644, 0.7197466492652893, 0.8671654462814331, 0.7565690279006958, 0.21998287737369537, 0.10999143868684769, 0.32997432351112366, 0.10999143868684769, 0.10999143868684769, 0.7630360126495361, 0.7219086289405823, 0.9516735076904297, 0.8998610973358154, 0.48264241218566895, 0.48264241218566895, 0.7859622240066528, 0.13099370896816254, 0.8326393961906433, 0.8736034631729126, 0.6753742694854736, 0.6532639265060425, 0.7540870904922485, 0.2156997174024582, 0.2156997174024582, 0.2156997174024582, 0.2156997174024582, 0.6712934374809265, 0.6521710753440857, 0.7574970722198486, 0.6512542366981506, 0.7808869481086731, 0.08676521480083466, 0.49904167652130127, 0.16208796203136444, 0.054029323160648346, 0.16208796203136444, 0.27014660835266113, 0.10805864632129669, 0.10805864632129669, 0.054029323160648346, 0.054029323160648346, 0.6589683294296265, 0.40923044085502625, 0.10230761021375656, 0.10230761021375656, 0.10230761021375656, 0.10230761021375656, 0.10230761021375656, 0.48500922322273254, 0.18422718346118927, 0.18422718346118927, 0.552681565284729, 0.6809528470039368, 0.2566492557525635, 0.2566492557525635, 0.2566492557525635, 0.3980322778224945, 0.19901613891124725, 0.19901613891124725, 0.19901613891124725, 0.15231570601463318, 0.19039463996887207, 0.38078927993774414, 0.11423677951097488, 0.038078926503658295, 0.07615785300731659, 0.038078926503658295, 0.038078926503658295, 0.7656572461128235, 0.19437909126281738, 0.19437909126281738, 0.38875818252563477, 0.19437909126281738, 0.41418179869651794, 0.6603214144706726, 0.7283041477203369, 0.7599089741706848, 0.7089939117431641, 0.053174544125795364, 0.044312119483947754, 0.07089938968420029, 0.01772484742105007, 0.026587272062897682, 0.0797618180513382, 0.4886864125728607, 0.2721591293811798, 0.5443182587623596, 0.09071970731019974, 0.09071970731019974, 0.3782312273979187, 0.8671619296073914, 0.7304647564888, 0.14609295129776, 0.14609295129776, 0.7726972103118896, 0.03512260317802429, 0.03512260317802429, 0.07024520635604858, 0.03512260317802429, 0.03512260317802429, 0.03512260317802429, 0.03512260317802429, 0.7936316728591919, 0.07214833050966263, 0.8336461782455444, 0.2084115445613861, 0.6178992986679077, 0.7837612628936768, 0.1306268870830536, 0.6578121185302734, 0.7164943814277649, 0.375225305557251, 0.9516842365264893, 0.7346311807632446, 0.3570058345794678, 0.3570058345794678, 0.7565541863441467, 0.7567995190620422, 0.4783534109592438, 0.7540934681892395, 0.2568010091781616, 0.5136020183563232, 0.8388277292251587, 0.41437363624572754, 0.6255252361297607, 0.2877635061740875, 0.2877635061740875, 0.2877635061740875, 0.6314732432365417, 0.05740665644407272, 0.11481331288814545, 0.05740665644407272, 0.11481331288814545, 0.19776558876037598, 0.19776558876037598, 0.39553117752075195, 0.6095922589302063, 0.7648508548736572, 0.1798599511384964, 0.3597199022769928, 0.1798599511384964, 0.7559964060783386, 0.6503096222877502, 0.9226096868515015, 0.7671070694923401, 0.6626739501953125, 0.2650695741176605, 0.6257011890411377, 0.1903640180826187, 0.1903640180826187, 0.1903640180826187, 0.1903640180826187, 0.1903640180826187, 0.6654303669929504, 0.40081697702407837, 0.5949629545211792, 0.35727179050445557, 0.17863589525222778, 0.35727179050445557, 0.4360204041004181, 0.4360204041004181, 0.7511634826660156, 0.7511887550354004, 0.5562790632247925, 0.3482743501663208, 0.1741371750831604, 0.1741371750831604, 0.6495767831802368, 0.5978299975395203, 0.3965858519077301, 0.3965858519077301, 0.8518593311309814, 0.6484690308570862, 0.645309329032898, 0.7253368496894836, 0.617760419845581, 0.2839936316013336, 0.5679872632026672, 0.42005354166030884, 0.26500606536865234, 0.26500606536865234, 0.1909755915403366, 0.5729267597198486, 0.4751630425453186, 0.8659433722496033, 0.5382282733917236, 0.2691141366958618, 0.2691141366958618, 0.8517792820930481, 0.7247340679168701, 0.7163133025169373, 0.889656662940979, 0.6534852385520935, 0.4744880497455597, 0.4744880497455597, 0.18574491143226624, 0.18574491143226624, 0.18574491143226624, 0.18574491143226624, 0.649776816368103, 0.43416452407836914, 0.43416452407836914, 0.4073393940925598, 0.4073393940925598, 0.6566143035888672, 0.5350748300552368, 0.5350748300552368, 0.6178267598152161, 0.5745499730110168, 0.48395299911499023, 0.6503379940986633, 0.4128289818763733, 0.4128289818763733, 0.796423614025116, 0.13249187171459198, 0.26498374342918396, 0.13249187171459198, 0.39747563004493713, 0.5238029956817627, 0.361532062292099, 0.361532062292099, 0.7667379975318909, 0.15334759652614594, 0.4232652187347412, 0.2889386713504791, 0.2889386713504791, 0.5789579749107361, 0.28947898745536804, 0.6777808666229248, 0.6096025109291077, 0.6578105688095093, 0.4378187358379364, 0.19767169654369354, 0.5930150747299194, 0.4379744231700897, 0.28371477127075195, 0.5674295425415039, 0.1041092649102211, 0.1041092649102211, 0.1041092649102211, 0.1041092649102211, 0.3123278021812439, 0.1041092649102211, 0.7630268335342407, 0.7270953059196472, 0.7292916178703308, 0.7310577034950256, 0.4142610430717468, 0.1035652607679367, 0.1035652607679367, 0.2071305215358734, 0.1035652607679367, 0.1035652607679367, 0.4367699921131134, 0.6900365352630615, 0.03833536431193352, 0.07667072862386703, 0.03833536431193352, 0.11500608921051025, 0.03833536431193352, 0.03833536431193352, 0.7265101671218872, 0.5305303335189819, 0.5949588418006897, 0.19099105894565582, 0.5729731917381287, 0.09549552947282791, 0.09549552947282791, 0.09549552947282791, 0.593867301940918, 0.5546423196792603, 0.6771827340126038, 0.32242560386657715, 0.10747519880533218, 0.42990079522132874, 0.10747519880533218, 0.7419758439064026, 0.12366264313459396, 0.5918311476707458, 0.2276431918144226, 0.2276431918144226, 0.2276431918144226, 0.2276431918144226, 0.4380016326904297, 0.6659228801727295, 0.8511717319488525, 0.6304866075515747, 0.1291659027338028, 0.6458294987678528, 0.5616671442985535, 0.8338780999183655, 0.7539958953857422, 0.586481511592865, 0.030867448076605797, 0.061734896153211594, 0.061734896153211594, 0.09260234981775284, 0.030867448076605797, 0.061734896153211594, 0.061734896153211594, 0.7243348360061646, 0.7511733770370483, 0.7511718273162842, 0.194403275847435, 0.38880655169487, 0.194403275847435, 0.194403275847435, 0.3912985324859619, 0.6296679973602295, 0.6838104724884033, 0.1409124732017517, 0.493193656206131, 0.1409124732017517, 0.07045623660087585, 0.07045623660087585, 0.8364006280899048, 0.7832515835762024, 0.016317741945385933, 0.016317741945385933, 0.06527096778154373, 0.016317741945385933, 0.032635483890771866, 0.04895322397351265, 0.7974398136138916, 0.01944975182414055, 0.01944975182414055, 0.0777990072965622, 0.01944975182414055, 0.01944975182414055, 0.058349255472421646, 0.07662598043680191, 0.07662598043680191, 0.07662598043680191, 0.07662598043680191, 0.07662598043680191, 0.07662598043680191, 0.15325196087360382, 0.07662598043680191, 0.22987794876098633, 0.07662598043680191, 0.07662598043680191, 0.2045554518699646, 0.1022777259349823, 0.1022777259349823, 0.2045554518699646, 0.1022777259349823, 0.1022777259349823, 0.7618414759635925, 0.43854576349258423, 0.4227134585380554, 0.2818089723587036, 0.1409044861793518, 0.4510764479637146, 0.4510764479637146, 0.7338396906852722, 0.6573135852813721, 0.6500145792961121, 0.48626652359962463, 0.385021835565567, 0.642907977104187, 0.6802518963813782, 0.7565484642982483, 0.8671550154685974, 0.423147588968277, 0.6521703600883484, 0.6809918284416199, 0.031674038618803024, 0.06334807723760605, 0.06334807723760605, 0.015837019309401512, 0.04751105606555939, 0.015837019309401512, 0.04751105606555939, 0.4895617365837097, 0.24478086829185486, 0.24478086829185486, 0.8655335903167725, 0.4231332242488861, 0.4231332242488861, 0.5109773278236389, 0.8431240320205688, 0.05269525200128555, 0.05269525200128555, 0.05269525200128555, 0.7726487517356873, 0.7188321352005005, 0.17970803380012512, 0.5952326059341431, 0.5950416326522827, 0.6654466390609741, 0.5995534062385559, 0.8928922414779663, 0.12755604088306427, 0.6973227858543396, 0.4564621150493622, 0.5618919730186462, 0.11237838864326477, 0.11237838864326477, 0.11237838864326477, 0.11237838864326477, 0.6761111617088318, 0.1478302925825119, 0.22174543142318726, 0.36957573890686035, 0.22174543142318726, 0.07391514629125595, 0.3639078736305237, 0.18195393681526184, 0.18195393681526184, 0.6095919609069824, 0.20188815891742706, 0.4037763178348541, 0.3028322458267212, 0.10552012920379639, 0.42208051681518555, 0.10552012920379639, 0.10552012920379639, 0.10552012920379639, 0.6398364305496216, 0.6821435689926147, 0.4274073541164398, 0.4274073541164398, 0.11876889318227768, 0.4750755727291107, 0.11876889318227768, 0.7630406022071838, 0.5724173784255981, 0.609325647354126, 0.304662823677063, 0.2673908472061157, 0.5347816944122314, 0.4540629982948303, 0.05675787478685379, 0.05675787478685379, 0.17027363181114197, 0.17027363181114197, 0.05675787478685379, 0.851465106010437, 0.7574295997619629, 0.7536528706550598, 0.6529627442359924, 0.6609887480735779, 0.4012047052383423, 0.4012047052383423, 0.4213700592517853, 0.763081967830658, 0.655623733997345, 0.4700094163417816, 0.5113239884376526, 0.438515841960907, 0.6227366924285889, 0.15568417310714722, 0.6571457386016846, 0.5130366683006287, 0.24754391610622406, 0.12377195805311203, 0.12377195805311203, 0.4950878322124481, 0.35884472727775574, 0.14353789389133453, 0.07176894694566727, 0.04784596338868141, 0.023922981694340706, 0.1674608737230301, 0.04784596338868141, 0.023922981694340706, 0.023922981694340706, 0.023922981694340706, 0.023922981694340706, 0.023922981694340706, 0.6758981943130493, 0.35927143692970276, 0.35927143692970276, 0.5237925052642822, 0.593697726726532, 0.8541685342788696, 0.4737943112850189, 0.23689715564250946, 0.23689715564250946, 0.5670742988586426, 0.6759999394416809, 0.7511695027351379, 0.6455295085906982, 0.6530654430389404, 0.745927631855011, 0.5057427883148193, 0.25287139415740967, 0.8510611653327942, 0.5984384417533875, 0.6361908912658691, 0.6178617477416992, 0.5316258072853088, 0.2658129036426544, 0.757240355014801, 0.1738920360803604, 0.5216761231422424, 0.1738920360803604, 0.6470282077789307, 0.8671519756317139, 0.17694582045078278, 0.35389164090156555, 0.17694582045078278, 0.7648319005966187, 0.31073620915412903, 0.15536810457706451, 0.15536810457706451, 0.15536810457706451, 0.6461948156356812, 0.08202007412910461, 0.16404014825820923, 0.32808029651641846, 0.08202007412910461, 0.24606023728847504, 0.08202007412910461, 0.3306921720504761, 0.3306921720504761, 0.4941016733646393, 0.6463847756385803, 0.6870185136795044, 0.7346988916397095, 0.9374051690101624, 0.10105028748512268, 0.4042011499404907, 0.10105028748512268, 0.30315086245536804, 0.6712945103645325, 0.7389444708824158, 0.24084234237670898, 0.48168468475341797, 0.4692070782184601, 0.35190531611442566, 0.5226171016693115, 0.5226171016693115, 0.5811979174613953, 0.7366585731506348, 0.6617242693901062, 0.2804611325263977, 0.09348703920841217, 0.09348703920841217, 0.3739481568336487, 0.09348703920841217, 0.6670478582382202, 0.37548863887786865, 0.18774431943893433, 0.18774431943893433, 0.6782167553901672, 0.8519176244735718, 0.6355630159378052, 0.04854995012283325, 0.017654528841376305, 0.06179084628820419, 0.04854995012283325, 0.03530905768275261, 0.02206815965473652, 0.052963584661483765, 0.03530905768275261, 0.013240896165370941, 0.008827264420688152, 0.004413632210344076, 0.004413632210344076, 0.004413632210344076, 0.2115429788827896, 0.4230859577655792, 0.2270243763923645, 0.2270243763923645, 0.2270243763923645, 0.1917206048965454, 0.3834412097930908, 0.1917206048965454, 0.1917206048965454, 0.3853197395801544, 0.8671515583992004, 0.49546974897384644, 0.24773487448692322, 0.5983240008354187, 0.8221405148506165, 0.10276756435632706, 0.637607991695404, 0.318803995847702, 0.8671566247940063, 0.7661203742027283, 0.47443872690200806, 0.23721936345100403, 0.23721936345100403, 0.17083314061164856, 0.4270828366279602, 0.17083314061164856, 0.08541657030582428, 0.08541657030582428, 0.6810214519500732, 0.3405107259750366, 0.5644376277923584, 0.4348524510860443, 0.20816802978515625, 0.20816802978515625, 0.6491385698318481, 0.6885666251182556, 0.08346262574195862, 0.020865656435489655, 0.08346262574195862, 0.020865656435489655, 0.020865656435489655, 0.020865656435489655, 0.06259696930646896, 0.020865656435489655, 0.23667411506175995, 0.5916852951049805, 0.11833705753087997, 0.11399438977241516, 0.11399438977241516, 0.11399438977241516, 0.11399438977241516, 0.22798877954483032, 0.11399438977241516, 0.11399438977241516, 0.7327256798744202, 0.08141396939754486, 0.08141396939754486, 0.4667375087738037, 0.4667375087738037, 0.7223953008651733, 0.6324706673622131, 0.1264941245317459, 0.1264941245317459, 0.4857104420661926, 0.18214142322540283, 0.06071380525827408, 0.03035690262913704, 0.06071380525827408, 0.03035690262913704, 0.03035690262913704, 0.03035690262913704, 0.03035690262913704, 0.03035690262913704, 0.03035690262913704, 0.03035690262913704, 0.8512418866157532, 0.8527554273605347, 0.17920760810375214, 0.5376228094100952, 0.17920760810375214, 0.6232520341873169, 0.6643763780593872, 0.4584316611289978, 0.4584316611289978, 0.6699890494346619, 0.4039360582828522, 0.4039360582828522, 0.6096014976501465, 0.659307062625885, 0.40509095788002014, 0.26486504077911377, 0.17657670378684998, 0.08828835189342499, 0.26486504077911377, 0.08828835189342499, 0.6255240440368652, 0.28665491938591003, 0.5733098387718201, 0.7326905131340027, 0.024423018097877502, 0.048846036195755005, 0.048846036195755005, 0.024423018097877502, 0.048846036195755005, 0.024423018097877502, 0.024423018097877502, 0.7948218584060669, 0.08831354230642319, 0.6491430401802063, 0.4860888421535492, 0.7520842552185059, 0.31920140981674194, 0.31920140981674194, 0.6088951826095581, 0.7586622834205627, 0.17583587765693665, 0.17583587765693665, 0.3516717553138733, 0.17583587765693665, 0.7702696919441223, 0.4382840096950531, 0.7856117486953735, 0.0872901976108551, 0.8526390790939331, 0.6432730555534363, 0.16081826388835907, 0.08040913194417953, 0.16081826388835907, 0.43571606278419495, 0.2904773950576782, 0.1452386975288391, 0.6095890402793884, 0.6784542202949524, 0.9016805291175842, 0.6038377285003662, 0.20127923786640167, 0.8191770315170288, 0.2047942578792572, 0.777593195438385, 0.27264341711997986, 0.5452868342399597, 0.6755043864250183, 0.6685355305671692, 0.19665831327438354, 0.19665831327438354, 0.3933166265487671, 0.15927013754844666, 0.7963507175445557, 0.5898966789245605, 0.047829460352659225, 0.031886305660009384, 0.06377261132001877, 0.09565892070531845, 0.06377261132001877, 0.047829460352659225, 0.015943152830004692, 0.031886305660009384, 0.015943152830004692, 0.29186955094337463, 0.29186955094337463, 0.29186955094337463, 0.6177294254302979, 0.20590980350971222, 0.20590980350971222, 0.4845689833164215, 0.6772075891494751, 0.6617829203605652, 0.13235658407211304, 0.13235658407211304, 0.25658029317855835, 0.5131605863571167, 0.4380304515361786, 0.3257291913032532, 0.3257291913032532, 0.510411262512207, 0.4392155706882477, 0.27773919701576233, 0.27773919701576233, 0.27773919701576233, 0.27773919701576233, 0.7097017765045166, 0.5618362426757812, 0.6363672018051147, 0.7630237936973572, 0.35185670852661133, 0.35185670852661133, 0.7329056262969971, 0.40637966990470886, 0.40637966990470886, 0.41214147210121155, 0.6095901727676392, 0.4655289947986603, 0.1551763415336609, 0.3103526830673218, 0.8524202704429626, 0.04052627086639404, 0.4863152503967285, 0.20263135433197021, 0.08105254173278809, 0.12157881259918213, 0.04052627086639404, 0.8671571016311646, 0.48979657888412476, 0.48979657888412476, 0.24039068818092346, 0.721172034740448, 0.6467120051383972, 0.6310296058654785, 0.8740857839584351, 0.2941097021102905, 0.588219404220581, 0.7587959170341492, 0.4700087904930115, 0.6521686315536499, 0.3924749493598938, 0.5887123942375183, 0.2407400757074356, 0.2407400757074356, 0.2407400757074356, 0.41936641931533813, 0.20968320965766907, 0.41559189558029175, 0.8330459594726562, 0.9131250977516174, 0.44826623797416687, 0.2988441586494446, 0.1494220793247223, 0.7628483176231384, 0.48111578822135925, 0.11177050322294235, 0.7823935151100159, 0.4277566075325012, 0.833031415939331, 0.6101810336112976, 0.38807132840156555, 0.6462252736091614, 0.7475629448890686, 0.6505187153816223, 0.7276641726493835, 0.2916228473186493, 0.2916228473186493, 0.8896592259407043, 0.8514552116394043, 0.7665437459945679, 0.10950624942779541, 0.4374929964542389, 0.4374929964542389, 0.6254852414131165, 0.7875895500183105, 0.08750995248556137, 0.6600106954574585, 0.8529760241508484, 0.7458197474479675, 0.08286885917186737, 0.08286885917186737, 0.6640896797180176, 0.7750195860862732, 0.08611328899860382, 0.3241731822490692, 0.6483463644981384, 0.5679392218589783, 0.18282607197761536, 0.3656521439552307, 0.18282607197761536, 0.3656521439552307, 0.7026259899139404, 0.16031213104724884, 0.16031213104724884, 0.3206242620944977, 0.16031213104724884, 0.16031213104724884, 0.7603418827056885, 0.8671496510505676, 0.6568523049354553, 0.7722522020339966, 0.7196347713470459, 0.21155747771263123, 0.6346724629402161, 0.8516374826431274, 0.6662769913673401, 0.10537441074848175, 0.15806160867214203, 0.052687205374240875, 0.052687205374240875, 0.052687205374240875, 0.10537441074848175, 0.15806160867214203, 0.10537441074848175, 0.052687205374240875, 0.052687205374240875, 0.10537441074848175, 0.052687205374240875, 0.23993150889873505, 0.23993150889873505, 0.23993150889873505, 0.7511679530143738, 0.6521472334861755, 0.15996159613132477, 0.6398463845252991, 0.15996159613132477, 0.5352817177772522, 0.21411268413066864, 0.10705634206533432, 0.10705634206533432, 0.2028011828660965, 0.2028011828660965, 0.2028011828660965, 0.405602365732193, 0.8514439463615417, 0.7573752403259277, 0.741809070110321, 0.11618170142173767, 0.11618170142173767, 0.348545104265213, 0.23236340284347534, 0.3791087567806244, 0.3791087567806244, 0.6806201338768005, 0.6357247233390808, 0.3178623616695404, 0.4506216049194336, 0.2253108024597168, 0.2253108024597168, 0.7702268958091736, 0.8157906532287598, 0.5043404698371887, 0.882882297039032, 0.851952075958252, 0.4873279631137848, 0.1624426543712616, 0.0812213271856308, 0.1624426543712616, 0.0812213271856308, 0.709940493106842, 0.1774851232767105, 0.7630346417427063], \"Term\": [\"absence\", \"accept\", \"acid\", \"acid\", \"acid\", \"acid\", \"acid\", \"acid\", \"acid\", \"acid\", \"acreage\", \"activity\", \"activity\", \"activity\", \"activity\", \"activity\", \"additionally\", \"additionally\", \"administer\", \"affect\", \"agent\", \"agent\", \"agent\", \"agent\", \"aggregate\", \"agronomic\", \"agronomic\", \"alcohol\", \"alcohol\", \"alfalfa\", \"alfalfa\", \"allele\", \"alone\", \"also\", \"also\", \"also\", \"also\", \"also\", \"also\", \"alteration\", \"alteration\", \"amino\", \"amino\", \"amino\", \"amino\", \"amylose\", \"analysis\", \"analysis\", \"analyze\", \"animal\", \"apparatus\", \"apparatus\", \"application\", \"application\", \"approach\", \"appropriate\", \"appropriate\", \"area\", \"area\", \"area\", \"area\", \"aspect\", \"assembly\", \"associate\", \"associate\", \"bacteria\", \"bacterial\", \"bacterial\", \"base\", \"base\", \"base\", \"basis\", \"basis\", \"beam\", \"bee\", \"bee\", \"believe\", \"bermudagrass\", \"biological\", \"biotechnology\", \"blossom\", \"bm\", \"breeding\", \"brome\", \"brown\", \"brown\", \"cad\", \"calcium\", \"calcium\", \"can\", \"canopy\", \"capable\", \"capable\", \"capable\", \"capable\", \"capable\", \"carbohydrate\", \"carrying\", \"cattle\", \"cell\", \"chemical\", \"chemical\", \"cheniere\", \"cheniere\", \"cinnamyl\", \"citric\", \"clipping\", \"clog\", \"coat\", \"combination\", \"combination\", \"combination\", \"combination\", \"commercial\", \"commodity\", \"compare\", \"comparison\", \"complement\", \"complement\", \"component\", \"composition\", \"composition\", \"composition\", \"composition\", \"composition\", \"composition\", \"composition\", \"composition\", \"compound\", \"comprise\", \"comprise\", \"comprise\", \"comprise\", \"comprise\", \"comprise\", \"computer\", \"concentration\", \"concentration\", \"concentration\", \"configure\", \"consist\", \"consist\", \"consist\", \"contain\", \"contain\", \"contain\", \"contain\", \"content\", \"content\", \"content\", \"content\", \"content\", \"content\", \"content\", \"content\", \"continuously\", \"control\", \"control\", \"control\", \"control\", \"controllable\", \"controller\", \"cooking\", \"cool\", \"corn\", \"corn\", \"corn\", \"corn\", \"corn\", \"corn\", \"corn\", \"correct\", \"cotton\", \"cotton\", \"cotton\", \"cotton\", \"cottonseed\", \"counting\", \"crop\", \"crop\", \"crop\", \"cross\", \"cross\", \"cross\", \"cross\", \"cross\", \"cross\", \"cross\", \"cross\", \"crossing\", \"crossing\", \"crude\", \"crude\", \"crush\", \"cultivar\", \"cultivar\", \"currently\", \"cyanamide\", \"cytoplasmically\", \"dairy\", \"data\", \"datum\", \"datum\", \"decrease\", \"deem\", \"defective\", \"deficit\", \"dehiscent\", \"dehiscent\", \"dehydrogenase\", \"delivery\", \"delta\", \"describe\", \"describe\", \"describe\", \"designate\", \"designate\", \"designate\", \"designate\", \"designate\", \"desire\", \"desire\", \"desire\", \"detect\", \"detection\", \"determine\", \"determine\", \"determine\", \"determined\", \"develop\", \"dha\", \"dhb\", \"dhd\", \"dhd\", \"digestibility\", \"disclose\", \"disclose\", \"disclose\", \"disclose\", \"disclose\", \"distillation\", \"dna\", \"downy\", \"dsq\", \"dsq\", \"dsq\", \"due\", \"due\", \"dwarf\", \"dwarfism\", \"dwell\", \"early\", \"early\", \"early\", \"easily\", \"economical\", \"economically\", \"economically\", \"effected\", \"effectiveness\", \"efficiency\", \"element\", \"elevate\", \"elevated\", \"elevated\", \"embodiment\", \"endogenous\", \"endogenous\", \"endogenously\", \"endogenously\", \"endosperm\", \"engagement\", \"enhanced\", \"enhanced\", \"enhanced\", \"enterobacter\", \"enzyme\", \"ethyl\", \"event\", \"example\", \"excess\", \"excess\", \"exhibit\", \"exhibit\", \"exhibit\", \"exhibit\", \"expected\", \"exposure\", \"exposure\", \"expression\", \"expression\", \"extend\", \"extract\", \"extract\", \"extraction\", \"factor\", \"farmable\", \"farmer\", \"farming\", \"farming\", \"fast\", \"fatty\", \"fatty\", \"fatty\", \"fatty\", \"fed\", \"feed\", \"feed\", \"female\", \"female\", \"fermentable\", \"fertile\", \"fertile\", \"fertilizer\", \"fertilizer\", \"field\", \"filament\", \"filial\", \"find\", \"first\", \"first\", \"flag\", \"follow\", \"follow\", \"form\", \"form\", \"form\", \"form\", \"form\", \"form\", \"function\", \"functionality\", \"gametophytic\", \"gel\", \"gene\", \"gene\", \"gene\", \"gene\", \"gene\", \"gene\", \"generation\", \"genetic\", \"genetic\", \"genetic\", \"genetic\", \"genetic\", \"genetic\", \"genetic\", \"germinate\", \"germination\", \"goatgrass\", \"grain\", \"grain\", \"grain\", \"grain\", \"grain\", \"grind\", \"ground\", \"group\", \"grow\", \"grow\", \"grow\", \"grow\", \"growth\", \"growth\", \"habitation\", \"harvest\", \"harvest\", \"harvest\", \"harvest\", \"harvesting\", \"height\", \"herbicide\", \"heritable\", \"high\", \"high\", \"hill\", \"homozygous\", \"humidity\", \"hybrid\", \"hybrid\", \"hybrid\", \"hybrid\", \"hybrid\", \"hybrid\", \"hybrid\", \"hybrid\", \"hybridization\", \"identifiable\", \"identification\", \"identify\", \"identify\", \"identify\", \"identify\", \"immediately\", \"impart\", \"implement\", \"improve\", \"improve\", \"improve\", \"improve\", \"improve\", \"impurity\", \"inbred\", \"inbred\", \"inbred\", \"inbred\", \"inbred\", \"inbred\", \"inbred\", \"inbreed\", \"inbreed\", \"inbreed\", \"inbreed\", \"inbreed\", \"inbreed\", \"inbreed\", \"include\", \"include\", \"include\", \"include\", \"include\", \"include\", \"include\", \"include\", \"include\", \"include\", \"include\", \"increase\", \"increase\", \"increase\", \"increase\", \"increase\", \"increase\", \"indicative\", \"indicum\", \"induce\", \"induce\", \"induce\", \"inducing\", \"inducing\", \"infer\", \"information\", \"inhibition\", \"input\", \"insecticide\", \"instruction\", \"intensive\", \"interest\", \"interrupt\", \"introduce\", \"introduction\", \"invention\", \"invention\", \"invention\", \"invention\", \"invention\", \"invention\", \"invention\", \"invention\", \"involve\", \"involve\", \"involve\", \"ion\", \"ionic\", \"ionic\", \"irrigation\", \"isi\", \"isi\", \"isi\", \"isi\", \"isozyme_typ\", \"isozyme_typing\", \"isozyme_typing\", \"japanese\", \"jointed\", \"labor\", \"late\", \"lcl\", \"lcl\", \"leach\", \"leaf\", \"least\", \"least\", \"least\", \"least\", \"least\", \"leave\", \"less\", \"less\", \"less\", \"less\", \"less\", \"level\", \"level\", \"level\", \"light\", \"line\", \"line\", \"line\", \"linolenic\", \"linolenic\", \"linolenic\", \"linolenic\", \"linolenic\", \"listing\", \"local\", \"long\", \"long\", \"low\", \"low\", \"low\", \"lowerstachyose\", \"maintenance\", \"maize\", \"maize\", \"make\", \"make\", \"male\", \"male\", \"male\", \"male\", \"male\", \"male\", \"maltophilia\", \"manage\", \"management\", \"manure\", \"marker\", \"material\", \"material\", \"mature\", \"maximize\", \"maximum\", \"mean\", \"measure\", \"mechanized\", \"medium\", \"medium\", \"mesta\", \"metabolic\", \"metal\", \"metal\", \"metal\", \"metal\", \"method\", \"method\", \"method\", \"method\", \"method\", \"method\", \"method\", \"method\", \"method\", \"method\", \"method\", \"method\", \"microelement\", \"midrib\", \"midrib\", \"milk\", \"mix\", \"mixed\", \"modify\", \"modify\", \"modify\", \"moisture\", \"molar\", \"morphologically\", \"much\", \"multi\", \"mutableness\", \"mutation\", \"mutation\", \"native\", \"nectar\", \"neem\", \"negate\", \"nitrogen\", \"nitrogen\", \"nitrogenous\", \"non\", \"non\", \"non\", \"nonisogenic\", \"not\", \"novel\", \"novel\", \"novel\", \"object\", \"obtain\", \"obtain\", \"obtain\", \"obtain\", \"odor\", \"oil\", \"oil\", \"oil\", \"oil\", \"oil\", \"oil\", \"organ\", \"organ\", \"organic\", \"organism\", \"oryza\", \"overlap\", \"ozark\", \"palmitic\", \"palmitic\", \"palmitic\", \"palmitic\", \"panicl\", \"parameter\", \"parent\", \"parent\", \"part\", \"part\", \"particularly\", \"particularly\", \"pass\", \"paste\", \"peak\", \"percent\", \"percent\", \"percent\", \"percent\", \"percent\", \"perform\", \"phenotype\", \"phenotype\", \"phenotype\", \"photosynthesis\", \"plane\", \"plant\", \"plant\", \"plant\", \"plant\", \"plant\", \"plant\", \"plant\", \"plant\", \"plant\", \"plant\", \"plant\", \"plant\", \"plant\", \"plant\", \"planting\", \"planting\", \"pollen\", \"pollen\", \"pollen\", \"pollination\", \"pollination\", \"pollination\", \"pollination\", \"population\", \"position\", \"possess\", \"possess\", \"possible\", \"potato\", \"potato\", \"practice\", \"practice\", \"precisely\", \"predetermined\", \"prefer\", \"prefer\", \"prefer\", \"preferably\", \"preferably\", \"preferably\", \"preferably\", \"preferably\", \"presence\", \"presence\", \"prevention\", \"procedure\", \"process\", \"process\", \"processor\", \"produce\", \"produce\", \"produce\", \"produce\", \"produce\", \"produce\", \"produce\", \"produce\", \"produce\", \"product\", \"product\", \"product\", \"production\", \"production\", \"production\", \"production\", \"production\", \"production\", \"production\", \"profile\", \"profile\", \"profile\", \"program\", \"program\", \"property\", \"protein\", \"protein\", \"protein\", \"provide\", \"provide\", \"provide\", \"provide\", \"provide\", \"provide\", \"provide\", \"provide\", \"provide\", \"provide\", \"provide\", \"provide\", \"pseudomona\", \"putida\", \"quality\", \"quality\", \"quality\", \"rail\", \"range\", \"ratio\", \"ratio\", \"readily\", \"recombinant\", \"recombinant\", \"record\", \"recover\", \"recovery\", \"reduce\", \"reduce\", \"reduce\", \"reduce\", \"reduce\", \"reduced\", \"region\", \"region\", \"relate\", \"relate\", \"relate\", \"relate\", \"relate\", \"relate\", \"relate\", \"relate\", \"related_specie\", \"related_specie\", \"release\", \"remote\", \"repeatedly\", \"resistance\", \"resistance\", \"restore\", \"restrictive\", \"result\", \"result\", \"result\", \"result\", \"retain\", \"retention\", \"rflp\", \"rflp\", \"rhizo\", \"rice\", \"rice\", \"rice\", \"rice\", \"root\", \"root\", \"root\", \"rotate\", \"route\", \"safflower\", \"salt\", \"salt\", \"sample\", \"sample\", \"saturate\", \"say\", \"say\", \"scale\", \"scan\", \"season\", \"season\", \"season\", \"second\", \"second\", \"seed\", \"seed\", \"seed\", \"seed\", \"seed\", \"seed\", \"seed\", \"seed\", \"seed\", \"seed\", \"select\", \"select\", \"select\", \"selective\", \"selective\", \"selective\", \"sensing\", \"separate\", \"sequence\", \"sequence\", \"sequence\", \"sesame\", \"sesame\", \"sesamum\", \"set\", \"set\", \"setpoint\", \"shatter\", \"shoot\", \"shoot\", \"shoot\", \"shoot\", \"short\", \"shoulder\", \"show\", \"significantly\", \"silage\", \"silage\", \"simulation\", \"simultaneously\", \"simultaneously\", \"site\", \"small\", \"soil\", \"soil\", \"soil\", \"solution\", \"soybean\", \"soybean\", \"soybean\", \"soybean\", \"soybean\", \"soybean\", \"specifically\", \"spray\", \"spray\", \"stabilize\", \"stabilize\", \"stable\", \"stably\", \"stachyose\", \"starch\", \"starch\", \"state\", \"station\", \"stature\", \"stearic\", \"stearic\", \"sterile\", \"sterile\", \"sterile\", \"sterility\", \"sterility\", \"store\", \"stover\", \"strain\", \"stress\", \"stress\", \"stress\", \"stressed\", \"sub\", \"sub_region\", \"sub_region\", \"substitution\", \"sugar\", \"suitable\", \"summer\", \"support\", \"surfactant\", \"synergistically\", \"synthase\", \"system\", \"system\", \"tam\", \"taylorae\", \"temperature\", \"temperature\", \"therein\", \"therein\", \"thereof\", \"thereof_accord\", \"thereof_accord\", \"thermal\", \"thermogram\", \"thus\", \"thus\", \"thus\", \"tip\", \"tissue_culture\", \"tissue_culture\", \"tool\", \"tool\", \"top\", \"total\", \"total\", \"total\", \"total\", \"trait\", \"transgenic\", \"transgenic\", \"transgenic\", \"transgenic\", \"transgenic\", \"trigger\", \"tube\", \"type\", \"undesired\", \"unique\", \"unit\", \"unit\", \"unmodified\", \"upwardly\", \"use\", \"use\", \"use\", \"use\", \"use\", \"use\", \"use\", \"use\", \"use\", \"use\", \"use\", \"use\", \"useful\", \"useful\", \"useful\", \"utilize\", \"valuable\", \"value\", \"value\", \"value\", \"variety\", \"variety\", \"variety\", \"variety\", \"vegetable\", \"vegetable\", \"vegetable\", \"vegetable\", \"vicinity\", \"water\", \"weed\", \"weight\", \"weight\", \"weight\", \"weight\", \"wheat\", \"wheat\", \"whereby\", \"wherein\", \"wherein\", \"wild\", \"wild\", \"wild\", \"withhold\", \"work\", \"would\", \"wqds\", \"xanthomona\", \"yield\", \"yield\", \"yield\", \"yield\", \"yield\", \"zone\", \"zone\", \"\\u03bcmol\"]}, \"R\": 30, \"lambda.step\": 0.01, \"plot.opts\": {\"xlab\": \"PC1\", \"ylab\": \"PC2\"}, \"topic.order\": [19, 4, 7, 6, 5, 1, 8, 16, 15, 3, 11, 12, 18, 20, 13, 9, 10, 17, 2, 14]};\n",
       "\n",
       "function LDAvis_load_lib(url, callback){\n",
       "  var s = document.createElement('script');\n",
       "  s.src = url;\n",
       "  s.async = true;\n",
       "  s.onreadystatechange = s.onload = callback;\n",
       "  s.onerror = function(){console.warn(\"failed to load library \" + url);};\n",
       "  document.getElementsByTagName(\"head\")[0].appendChild(s);\n",
       "}\n",
       "\n",
       "if(typeof(LDAvis) !== \"undefined\"){\n",
       "   // already loaded: just create the visualization\n",
       "   !function(LDAvis){\n",
       "       new LDAvis(\"#\" + \"ldavis_el105611401179019995843518774361\", ldavis_el105611401179019995843518774361_data);\n",
       "   }(LDAvis);\n",
       "}else if(typeof define === \"function\" && define.amd){\n",
       "   // require.js is available: use it to load d3/LDAvis\n",
       "   require.config({paths: {d3: \"https://cdnjs.cloudflare.com/ajax/libs/d3/3.5.5/d3.min\"}});\n",
       "   require([\"d3\"], function(d3){\n",
       "      window.d3 = d3;\n",
       "      LDAvis_load_lib(\"https://cdn.rawgit.com/bmabey/pyLDAvis/files/ldavis.v1.0.0.js\", function(){\n",
       "        new LDAvis(\"#\" + \"ldavis_el105611401179019995843518774361\", ldavis_el105611401179019995843518774361_data);\n",
       "      });\n",
       "    });\n",
       "}else{\n",
       "    // require.js not available: dynamically load d3 & LDAvis\n",
       "    LDAvis_load_lib(\"https://cdnjs.cloudflare.com/ajax/libs/d3/3.5.5/d3.min.js\", function(){\n",
       "         LDAvis_load_lib(\"https://cdn.rawgit.com/bmabey/pyLDAvis/files/ldavis.v1.0.0.js\", function(){\n",
       "                 new LDAvis(\"#\" + \"ldavis_el105611401179019995843518774361\", ldavis_el105611401179019995843518774361_data);\n",
       "            })\n",
       "         });\n",
       "}\n",
       "</script>"
      ],
      "text/plain": [
       "PreparedData(topic_coordinates=              x         y  topics  cluster       Freq\n",
       "topic                                                \n",
       "18    -0.262339  0.010973       1        1  36.009487\n",
       "3     -0.027463  0.078880       2        1   8.723495\n",
       "6     -0.025748  0.193934       3        1   7.895546\n",
       "5     -0.148557  0.090009       4        1   6.390404\n",
       "4     -0.095144 -0.103540       5        1   5.919672\n",
       "0     -0.131201 -0.062577       6        1   5.359136\n",
       "7      0.061648 -0.077710       7        1   4.403244\n",
       "15    -0.029693 -0.136383       8        1   4.172535\n",
       "14    -0.187866 -0.050931       9        1   3.116307\n",
       "2      0.088093  0.189612      10        1   3.081628\n",
       "10     0.061692  0.032251      11        1   2.788633\n",
       "11     0.031324 -0.053792      12        1   2.483676\n",
       "17     0.169522 -0.062539      13        1   2.451252\n",
       "19     0.052302  0.071083      14        1   2.360175\n",
       "12     0.035687  0.008789      15        1   2.250708\n",
       "8      0.126072  0.008082      16        1   1.854495\n",
       "9     -0.028161 -0.017270      17        1   0.337928\n",
       "16     0.159975 -0.076383      18        1   0.271043\n",
       "1      0.070162 -0.019249      19        1   0.066306\n",
       "13     0.079694 -0.023236      20        1   0.064331, topic_info=     Category        Freq           Term       Total  loglift  logprob\n",
       "term                                                                  \n",
       "2     Default  112.000000           corn  112.000000  30.0000  30.0000\n",
       "17    Default  226.000000          plant  226.000000  29.0000  29.0000\n",
       "10    Default   61.000000         inbred   61.000000  28.0000  28.0000\n",
       "25    Default   39.000000           acid   39.000000  27.0000  27.0000\n",
       "11    Default   51.000000        inbreed   51.000000  26.0000  26.0000\n",
       "67    Default   63.000000      invention   63.000000  25.0000  25.0000\n",
       "18    Default   47.000000        produce   47.000000  24.0000  24.0000\n",
       "143   Default   40.000000         relate   40.000000  23.0000  23.0000\n",
       "57    Default   24.000000        soybean   24.000000  22.0000  22.0000\n",
       "20    Default   62.000000           seed   62.000000  21.0000  21.0000\n",
       "70    Default   41.000000         method   41.000000  20.0000  20.0000\n",
       "81    Default   13.000000        include   13.000000  19.0000  19.0000\n",
       "33    Default   26.000000        content   26.000000  18.0000  18.0000\n",
       "9     Default   32.000000         hybrid   32.000000  17.0000  17.0000\n",
       "65    Default   18.000000    composition   18.000000  16.0000  16.0000\n",
       "523   Default    9.000000    temperature    9.000000  15.0000  15.0000\n",
       "144   Default    6.000000         starch    6.000000  14.0000  14.0000\n",
       "298   Default   26.000000        genetic   26.000000  13.0000  13.0000\n",
       "114   Default    8.000000     sub_region    8.000000  12.0000  12.0000\n",
       "309   Default   28.000000          cross   28.000000  11.0000  11.0000\n",
       "216   Default    8.000000          metal    8.000000  10.0000  10.0000\n",
       "354   Default   12.000000           rice   12.000000   9.0000   9.0000\n",
       "93    Default   18.000000            use   18.000000   8.0000   8.0000\n",
       "470   Default   18.000000            isi   18.000000   7.0000   7.0000\n",
       "51    Default   12.000000            oil   12.000000   6.0000   6.0000\n",
       "367   Default   11.000000         cotton   11.000000   5.0000   5.0000\n",
       "407   Default    4.000000           unit    4.000000   4.0000   4.0000\n",
       "52    Default    9.000000       palmitic    9.000000   3.0000   3.0000\n",
       "4     Default   17.000000      designate   17.000000   2.0000   2.0000\n",
       "55    Default   32.000000        provide   32.000000   1.0000   1.0000\n",
       "...       ...         ...            ...         ...      ...      ...\n",
       "265   Topic20    0.002990  digestibility    1.598207   1.0675  -6.4636\n",
       "262   Topic20    0.002978         allele    1.598395   1.0634  -6.4676\n",
       "267   Topic20    0.002962        reduced    1.598660   1.0577  -6.4731\n",
       "264   Topic20    0.002962          delta    1.598657   1.0577  -6.4731\n",
       "268   Topic20    0.002954        thereof    1.598759   1.0549  -6.4758\n",
       "263   Topic20    0.002944            cad    1.598928   1.0515  -6.4792\n",
       "126   Topic20    0.002963            due    2.293471   0.6972  -6.4728\n",
       "136   Topic20    0.002991          maize    3.282317   0.3481  -6.4634\n",
       "266   Topic20    0.002959       presence    2.936765   0.4487  -6.4740\n",
       "21    Topic20    0.002949         silage    2.842066   0.4782  -6.4773\n",
       "44    Topic20    0.002957          level    5.495896  -0.1787  -6.4747\n",
       "117   Topic20    0.002965       activity    7.968340  -0.5475  -6.4721\n",
       "93    Topic20    0.002967            use   18.979940  -1.4147  -6.4714\n",
       "143   Topic20    0.002988         relate   40.944981  -2.1764  -6.4642\n",
       "67    Topic20    0.002955      invention   63.143196  -2.6209  -6.4755\n",
       "187   Topic20    0.002930        improve   14.193208  -1.1365  -6.4837\n",
       "235   Topic20    0.002877        acreage    1.788486   0.9166  -6.5020\n",
       "241   Topic20    0.002877           grow    9.304472  -0.7325  -6.5020\n",
       "223   Topic20    0.002877           site    2.426351   0.6116  -6.5020\n",
       "222   Topic20    0.002877        release    1.540493   1.0659  -6.5020\n",
       "221   Topic20    0.002877       organism    1.547066   1.0616  -6.5020\n",
       "220   Topic20    0.002877        organic    2.023875   0.7930  -6.5020\n",
       "219   Topic20    0.002877           odor    1.547521   1.0614  -6.5020\n",
       "225   Topic20    0.002877         stable    1.546283   1.0622  -6.5020\n",
       "242   Topic20    0.002877           hill    1.780414   0.9212  -6.5020\n",
       "218   Topic20    0.002877            non    5.750695  -0.2513  -6.5020\n",
       "217   Topic20    0.002877       nitrogen    3.762044   0.1730  -6.5020\n",
       "216   Topic20    0.002877          metal    8.079374  -0.5913  -6.5020\n",
       "243   Topic20    0.002877          leach    2.868112   0.4444  -6.5020\n",
       "215   Topic20    0.002877       material    2.492493   0.5847  -6.5020\n",
       "\n",
       "[985 rows x 6 columns], token_table=      Topic      Freq          Term\n",
       "term                               \n",
       "325      12  0.657090       absence\n",
       "307       2  0.656846        accept\n",
       "25        1  0.076257          acid\n",
       "25        2  0.101676          acid\n",
       "25        3  0.355865          acid\n",
       "25        4  0.076257          acid\n",
       "25       10  0.228771          acid\n",
       "25       11  0.076257          acid\n",
       "25       13  0.025419          acid\n",
       "25       14  0.025419          acid\n",
       "235       1  0.559132       acreage\n",
       "117       2  0.125497      activity\n",
       "117       3  0.125497      activity\n",
       "117       7  0.376490      activity\n",
       "117       8  0.125497      activity\n",
       "117      13  0.125497      activity\n",
       "118      13  0.376521  additionally\n",
       "118      15  0.376521  additionally\n",
       "441      11  0.877317    administer\n",
       "280       1  0.710337        affect\n",
       "148       1  0.345828         agent\n",
       "148       4  0.172914         agent\n",
       "148      11  0.345828         agent\n",
       "148      14  0.172914         agent\n",
       "94        6  0.482362     aggregate\n",
       "76        6  0.544822     agronomic\n",
       "76        8  0.363215     agronomic\n",
       "449       7  0.741646       alcohol\n",
       "449      13  0.247215       alcohol\n",
       "269       2  0.599250       alfalfa\n",
       "...     ...       ...           ...\n",
       "59        4  0.202801     vegetable\n",
       "59       10  0.405602     vegetable\n",
       "181      14  0.851444      vicinity\n",
       "527       8  0.757375         water\n",
       "182      14  0.741809          weed\n",
       "60        1  0.116182        weight\n",
       "60        3  0.116182        weight\n",
       "60        4  0.348545        weight\n",
       "60       10  0.232363        weight\n",
       "183       1  0.379109         wheat\n",
       "183      14  0.379109         wheat\n",
       "360      12  0.680620       whereby\n",
       "116       3  0.635725       wherein\n",
       "116       6  0.317862       wherein\n",
       "408       5  0.450622          wild\n",
       "408       7  0.225311          wild\n",
       "408       8  0.225311          wild\n",
       "528       8  0.770227      withhold\n",
       "641      13  0.815791          work\n",
       "324       2  0.504340         would\n",
       "474       1  0.882882          wqds\n",
       "184      14  0.851952    xanthomona\n",
       "23        1  0.487328         yield\n",
       "23        2  0.162443         yield\n",
       "23        4  0.081221         yield\n",
       "23        7  0.162443         yield\n",
       "23        9  0.081221         yield\n",
       "261       1  0.709940          zone\n",
       "261       4  0.177485          zone\n",
       "193       2  0.763035          μmol\n",
       "\n",
       "[984 rows x 3 columns], R=30, lambda_step=0.01, plot_opts={'xlab': 'PC1', 'ylab': 'PC2'}, topic_order=[19, 4, 7, 6, 5, 1, 8, 16, 15, 3, 11, 12, 18, 20, 13, 9, 10, 17, 2, 14])"
      ]
     },
     "execution_count": 27,
     "metadata": {},
     "output_type": "execute_result"
    }
   ],
   "source": [
    "# Visualize the topics\n",
    "pyLDAvis.enable_notebook()\n",
    "vis = pyLDAvis.gensim.prepare(lda_model, corpus, id2word)\n",
    "vis"
   ]
  },
  {
   "cell_type": "code",
   "execution_count": 28,
   "metadata": {},
   "outputs": [],
   "source": [
    "def compute_coherence_values(dictionary, corpus, texts, limit, start=2, step=3):\n",
    "    \"\"\"\n",
    "    Compute c_v coherence for various number of topics\n",
    "\n",
    "    Parameters:\n",
    "    ----------\n",
    "    dictionary : Gensim dictionary\n",
    "    corpus : Gensim corpus\n",
    "    texts : List of input texts\n",
    "    limit : Max num of topics\n",
    "\n",
    "    Returns:\n",
    "    -------\n",
    "    model_list : List of LDA topic models\n",
    "    coherence_values : Coherence values corresponding to the LDA model with respective number of topics\n",
    "    \"\"\"\n",
    "    coherence_values = []\n",
    "    model_list = []\n",
    "    for num_topics in range(start, limit, step):\n",
    "        model = gensim.models.ldamodel.LdaModel(corpus=corpus,\n",
    "                                      id2word = id2word,\n",
    "                                      num_topics = num_topics,\n",
    "                                      random_state = 150,\n",
    "                                      update_every = 1,\n",
    "                                      chunksize = 100,\n",
    "                                      alpha = 'auto',\n",
    "                                      per_word_topics = True)\n",
    "        model_list.append(model)\n",
    "        coherencemodel = CoherenceModel(model=model, texts=texts, dictionary=dictionary, coherence='c_v')\n",
    "        coherence_values.append(coherencemodel.get_coherence())\n",
    "\n",
    "    return model_list, coherence_values"
   ]
  },
  {
   "cell_type": "code",
   "execution_count": 29,
   "metadata": {},
   "outputs": [],
   "source": [
    "model_list, coherence_values = compute_coherence_values(dictionary=id2word, corpus=corpus, texts=data_lemmatized, start=2, limit=40, step=6)"
   ]
  },
  {
   "cell_type": "code",
   "execution_count": 30,
   "metadata": {},
   "outputs": [
    {
     "name": "stderr",
     "output_type": "stream",
     "text": [
      "/home/henrique/anaconda3/lib/python3.7/site-packages/matplotlib/cbook/__init__.py:2349: DeprecationWarning: Using or importing the ABCs from 'collections' instead of from 'collections.abc' is deprecated, and in 3.8 it will stop working\n",
      "  if isinstance(obj, collections.Iterator):\n",
      "/home/henrique/anaconda3/lib/python3.7/site-packages/matplotlib/cbook/__init__.py:2366: DeprecationWarning: Using or importing the ABCs from 'collections' instead of from 'collections.abc' is deprecated, and in 3.8 it will stop working\n",
      "  return list(data) if isinstance(data, collections.MappingView) else data\n"
     ]
    },
    {
     "data": {
      "image/png": "[encoded data removed]",
      "text/plain": [
       "<Figure size 864x432 with 1 Axes>"
      ]
     },
     "metadata": {},
     "output_type": "display_data"
    }
   ],
   "source": [
    "limit=40; start=2; step=6;\n",
    "x = range(start, limit, step)\n",
    "\n",
    "sns.set_palette('Accent')\n",
    "sns.set_style('darkgrid')\n",
    "ax = sns.lineplot(x, coherence_values)\n",
    "ax.figure.set_size_inches(12,6)\n",
    "ax.set_title(\"Distribuição dos valores de Coherence\", loc='left', fontsize=18)\n",
    "ax.set_xlabel(\"Número de tópicos\", fontsize=14)\n",
    "ax.set_ylabel(\"Valores de Coherence\", fontsize=14)\n",
    "ax = ax"
   ]
  },
  {
   "cell_type": "code",
   "execution_count": 32,
   "metadata": {},
   "outputs": [
    {
     "name": "stdout",
     "output_type": "stream",
     "text": [
      "Num Topics = 2  has Coherence Value of 0.491\n",
      "Num Topics = 8  has Coherence Value of 0.3752\n",
      "Num Topics = 14  has Coherence Value of 0.4528\n",
      "Num Topics = 20  has Coherence Value of 0.5708\n",
      "Num Topics = 26  has Coherence Value of 0.4916\n",
      "Num Topics = 32  has Coherence Value of 0.5874\n",
      "Num Topics = 38  has Coherence Value of 0.5283\n"
     ]
    }
   ],
   "source": [
    "# Print the coherence scores\n",
    "for m, cv in zip(x, coherence_values):\n",
    "    print(\"Num Topics =\", m, \" has Coherence Value of\", round(cv, 4))"
   ]
  },
  {
   "cell_type": "code",
   "execution_count": 33,
   "metadata": {},
   "outputs": [
    {
     "name": "stdout",
     "output_type": "stream",
     "text": [
      "[(0, '0.048*\"plant\" + 0.046*\"sub_region\" + 0.029*\"second\" + 0.025*\"value\" + 0.024*\"seed\" + 0.021*\"invention\" + 0.020*\"hybrid\" + 0.019*\"part\" + 0.018*\"corn\" + 0.018*\"agronomic\"'), (1, '0.006*\"starch\" + 0.005*\"invention\" + 0.004*\"plant\" + 0.003*\"potato\" + 0.003*\"use\" + 0.003*\"crop\" + 0.003*\"produce\" + 0.003*\"store\" + 0.003*\"organ\" + 0.003*\"method\"'), (2, '0.100*\"acid\" + 0.038*\"form\" + 0.038*\"fatty\" + 0.037*\"soybean\" + 0.034*\"concentration\" + 0.034*\"endogenously\" + 0.030*\"palmitic\" + 0.028*\"oil\" + 0.028*\"stearic\" + 0.025*\"elevated\"'), (3, '0.047*\"soybean\" + 0.041*\"plant\" + 0.029*\"improve\" + 0.025*\"method\" + 0.024*\"provide\" + 0.023*\"corn\" + 0.022*\"grain\" + 0.021*\"content\" + 0.021*\"protein\" + 0.020*\"sequence\"'), (4, '0.064*\"plant\" + 0.033*\"seed\" + 0.033*\"cotton\" + 0.020*\"grow\" + 0.017*\"non\" + 0.017*\"male\" + 0.017*\"capable\" + 0.016*\"bee\" + 0.014*\"dehiscent\" + 0.014*\"sesame\"'), (5, '0.074*\"plant\" + 0.041*\"corn\" + 0.023*\"percent\" + 0.021*\"invention\" + 0.021*\"seed\" + 0.020*\"inbred\" + 0.020*\"inbreed\" + 0.019*\"produce\" + 0.018*\"weight\" + 0.016*\"dhb\"'), (6, '0.060*\"acid\" + 0.041*\"content\" + 0.022*\"soybean\" + 0.021*\"preferably\" + 0.021*\"corn\" + 0.020*\"less\" + 0.020*\"least\" + 0.019*\"oil\" + 0.019*\"linolenic\" + 0.018*\"plant\"'), (7, '0.051*\"method\" + 0.042*\"composition\" + 0.037*\"plant\" + 0.024*\"reduce\" + 0.023*\"activity\" + 0.022*\"use\" + 0.022*\"alcohol\" + 0.022*\"cyanamide\" + 0.020*\"stabilize\" + 0.020*\"calcium\"'), (8, '0.045*\"apparatus\" + 0.036*\"object\" + 0.036*\"detection\" + 0.027*\"mean\" + 0.027*\"station\" + 0.018*\"rotate\" + 0.018*\"small\" + 0.018*\"light\" + 0.018*\"detect\" + 0.018*\"filament\"'), (9, '0.035*\"plant\" + 0.029*\"corn\" + 0.026*\"dsq\" + 0.018*\"inbred\" + 0.017*\"inbreed\" + 0.014*\"relate\" + 0.012*\"invention\" + 0.011*\"produce\" + 0.011*\"seed\" + 0.009*\"cross\"'), (10, '0.045*\"metal\" + 0.042*\"plant\" + 0.031*\"acid\" + 0.028*\"composition\" + 0.023*\"root\" + 0.019*\"ion\" + 0.019*\"agent\" + 0.019*\"citric\" + 0.019*\"administer\" + 0.015*\"induce\"'), (11, '0.026*\"hybrid\" + 0.025*\"parent\" + 0.023*\"rice\" + 0.023*\"plant\" + 0.021*\"seed\" + 0.017*\"form\" + 0.015*\"basis\" + 0.014*\"possess\" + 0.014*\"generation\" + 0.014*\"flag\"'), (12, '0.064*\"starch\" + 0.040*\"invention\" + 0.026*\"use\" + 0.022*\"plant\" + 0.018*\"relate\" + 0.017*\"organ\" + 0.015*\"produce\" + 0.015*\"include\" + 0.015*\"preferably\" + 0.014*\"biotechnology\"'), (13, '0.002*\"maize\" + 0.002*\"digestibility\" + 0.002*\"relate\" + 0.002*\"allele\" + 0.002*\"use\" + 0.002*\"activity\" + 0.002*\"due\" + 0.002*\"reduced\" + 0.002*\"delta\" + 0.002*\"presence\"'), (14, '0.093*\"corn\" + 0.084*\"plant\" + 0.033*\"inbred\" + 0.029*\"seed\" + 0.028*\"inbreed\" + 0.027*\"produce\" + 0.027*\"cattle\" + 0.027*\"dairy\" + 0.027*\"line\" + 0.019*\"hybrid\"'), (15, '0.096*\"plant\" + 0.059*\"temperature\" + 0.019*\"method\" + 0.018*\"desire\" + 0.016*\"use\" + 0.015*\"deficit\" + 0.014*\"water\" + 0.014*\"agronomic\" + 0.013*\"stress\" + 0.012*\"increase\"'), (16, '0.047*\"field\" + 0.043*\"include\" + 0.042*\"unit\" + 0.036*\"assembly\" + 0.030*\"engagement\" + 0.024*\"tool\" + 0.023*\"work\" + 0.019*\"additionally\" + 0.017*\"system\" + 0.016*\"program\"'), (17, '0.040*\"include\" + 0.037*\"unit\" + 0.035*\"engagement\" + 0.026*\"field\" + 0.024*\"assembly\" + 0.022*\"work\" + 0.022*\"tool\" + 0.017*\"plant\" + 0.017*\"system\" + 0.016*\"additionally\"'), (18, '0.134*\"plant\" + 0.074*\"corn\" + 0.045*\"inbred\" + 0.040*\"invention\" + 0.038*\"inbreed\" + 0.034*\"seed\" + 0.030*\"produce\" + 0.028*\"relate\" + 0.020*\"cross\" + 0.018*\"hybrid\"'), (19, '0.029*\"control\" + 0.029*\"weed\" + 0.029*\"brome\" + 0.023*\"soil\" + 0.022*\"strain\" + 0.022*\"bacterial\" + 0.018*\"acid\" + 0.017*\"plant\" + 0.016*\"application\" + 0.015*\"wheat\"')]\n"
     ]
    }
   ],
   "source": [
    "# Select the model and print the topics\n",
    "optimal_model = model_list[3]\n",
    "model_topics = optimal_model.show_topics(formatted=False)\n",
    "print(optimal_model.print_topics())"
   ]
  },
  {
   "cell_type": "code",
   "execution_count": 35,
   "metadata": {},
   "outputs": [
    {
     "data": {
      "text/plain": [
       "[(13,\n",
       "  [('maize', 0.0015595059),\n",
       "   ('digestibility', 0.0015591254),\n",
       "   ('relate', 0.0015582525),\n",
       "   ('allele', 0.0015528991),\n",
       "   ('use', 0.001547116),\n",
       "   ('activity', 0.0015460033),\n",
       "   ('due', 0.0015449043),\n",
       "   ('reduced', 0.0015443948),\n",
       "   ('delta', 0.0015443676),\n",
       "   ('presence', 0.0015430434)]),\n",
       " (11,\n",
       "  [('hybrid', 0.025537044),\n",
       "   ('parent', 0.025058443),\n",
       "   ('rice', 0.02337874),\n",
       "   ('plant', 0.022804359),\n",
       "   ('seed', 0.021421432),\n",
       "   ('form', 0.017377414),\n",
       "   ('basis', 0.014714163),\n",
       "   ('possess', 0.014491354),\n",
       "   ('generation', 0.014384044),\n",
       "   ('flag', 0.01410113)]),\n",
       " (16,\n",
       "  [('field', 0.047272395),\n",
       "   ('include', 0.043090694),\n",
       "   ('unit', 0.04153631),\n",
       "   ('assembly', 0.03575747),\n",
       "   ('engagement', 0.030366128),\n",
       "   ('tool', 0.023572491),\n",
       "   ('work', 0.023236059),\n",
       "   ('additionally', 0.019421719),\n",
       "   ('system', 0.016655205),\n",
       "   ('program', 0.015594195)]),\n",
       " (1,\n",
       "  [('starch', 0.0063823215),\n",
       "   ('invention', 0.004848855),\n",
       "   ('plant', 0.003590496),\n",
       "   ('potato', 0.0033528383),\n",
       "   ('use', 0.0029819626),\n",
       "   ('crop', 0.002841332),\n",
       "   ('produce', 0.0028229721),\n",
       "   ('store', 0.0027000322),\n",
       "   ('organ', 0.0026369945),\n",
       "   ('method', 0.002530515)]),\n",
       " (12,\n",
       "  [('starch', 0.06393831),\n",
       "   ('invention', 0.03980252),\n",
       "   ('use', 0.02600057),\n",
       "   ('plant', 0.022321818),\n",
       "   ('relate', 0.017854773),\n",
       "   ('organ', 0.017086053),\n",
       "   ('produce', 0.015139026),\n",
       "   ('include', 0.015131873),\n",
       "   ('preferably', 0.014980358),\n",
       "   ('biotechnology', 0.014351881)]),\n",
       " (6,\n",
       "  [('acid', 0.060279097),\n",
       "   ('content', 0.041155517),\n",
       "   ('soybean', 0.021627296),\n",
       "   ('preferably', 0.021119397),\n",
       "   ('corn', 0.020933127),\n",
       "   ('less', 0.020442037),\n",
       "   ('least', 0.019642804),\n",
       "   ('oil', 0.01886904),\n",
       "   ('linolenic', 0.018558843),\n",
       "   ('plant', 0.017844398)]),\n",
       " (3,\n",
       "  [('soybean', 0.047259383),\n",
       "   ('plant', 0.041171268),\n",
       "   ('improve', 0.028676918),\n",
       "   ('method', 0.024655977),\n",
       "   ('provide', 0.024432767),\n",
       "   ('corn', 0.022565704),\n",
       "   ('grain', 0.021501014),\n",
       "   ('content', 0.021081472),\n",
       "   ('protein', 0.020684134),\n",
       "   ('sequence', 0.019557895)]),\n",
       " (14,\n",
       "  [('corn', 0.0934825),\n",
       "   ('plant', 0.08422467),\n",
       "   ('inbred', 0.03348154),\n",
       "   ('seed', 0.029017702),\n",
       "   ('inbreed', 0.028013192),\n",
       "   ('produce', 0.027139356),\n",
       "   ('cattle', 0.026988005),\n",
       "   ('dairy', 0.026987622),\n",
       "   ('line', 0.026987001),\n",
       "   ('hybrid', 0.019091858)]),\n",
       " (5,\n",
       "  [('plant', 0.07449922),\n",
       "   ('corn', 0.04078601),\n",
       "   ('percent', 0.02281063),\n",
       "   ('invention', 0.02113279),\n",
       "   ('seed', 0.02059872),\n",
       "   ('inbred', 0.01999793),\n",
       "   ('inbreed', 0.019685708),\n",
       "   ('produce', 0.018574765),\n",
       "   ('weight', 0.018284263),\n",
       "   ('dhb', 0.016490381)]),\n",
       " (18,\n",
       "  [('plant', 0.13413943),\n",
       "   ('corn', 0.07424472),\n",
       "   ('inbred', 0.045060392),\n",
       "   ('invention', 0.040473543),\n",
       "   ('inbreed', 0.03793012),\n",
       "   ('seed', 0.03404896),\n",
       "   ('produce', 0.030423308),\n",
       "   ('relate', 0.02813681),\n",
       "   ('cross', 0.020358458),\n",
       "   ('hybrid', 0.017616522)])]"
      ]
     },
     "execution_count": 35,
     "metadata": {},
     "output_type": "execute_result"
    }
   ],
   "source": [
    "model_topics"
   ]
  },
  {
   "cell_type": "code",
   "execution_count": 41,
   "metadata": {},
   "outputs": [
    {
     "data": {
      "text/plain": [
       "[(0,\n",
       "  '0.048*\"plant\" + 0.046*\"sub_region\" + 0.029*\"second\" + 0.025*\"value\" + 0.024*\"seed\" + 0.021*\"invention\" + 0.020*\"hybrid\" + 0.019*\"part\" + 0.018*\"corn\" + 0.018*\"agronomic\"'),\n",
       " (1,\n",
       "  '0.006*\"starch\" + 0.005*\"invention\" + 0.004*\"plant\" + 0.003*\"potato\" + 0.003*\"use\" + 0.003*\"crop\" + 0.003*\"produce\" + 0.003*\"store\" + 0.003*\"organ\" + 0.003*\"method\"'),\n",
       " (2,\n",
       "  '0.100*\"acid\" + 0.038*\"form\" + 0.038*\"fatty\" + 0.037*\"soybean\" + 0.034*\"concentration\" + 0.034*\"endogenously\" + 0.030*\"palmitic\" + 0.028*\"oil\" + 0.028*\"stearic\" + 0.025*\"elevated\"'),\n",
       " (3,\n",
       "  '0.047*\"soybean\" + 0.041*\"plant\" + 0.029*\"improve\" + 0.025*\"method\" + 0.024*\"provide\" + 0.023*\"corn\" + 0.022*\"grain\" + 0.021*\"content\" + 0.021*\"protein\" + 0.020*\"sequence\"'),\n",
       " (4,\n",
       "  '0.064*\"plant\" + 0.033*\"seed\" + 0.033*\"cotton\" + 0.020*\"grow\" + 0.017*\"non\" + 0.017*\"male\" + 0.017*\"capable\" + 0.016*\"bee\" + 0.014*\"dehiscent\" + 0.014*\"sesame\"'),\n",
       " (5,\n",
       "  '0.074*\"plant\" + 0.041*\"corn\" + 0.023*\"percent\" + 0.021*\"invention\" + 0.021*\"seed\" + 0.020*\"inbred\" + 0.020*\"inbreed\" + 0.019*\"produce\" + 0.018*\"weight\" + 0.016*\"dhb\"'),\n",
       " (6,\n",
       "  '0.060*\"acid\" + 0.041*\"content\" + 0.022*\"soybean\" + 0.021*\"preferably\" + 0.021*\"corn\" + 0.020*\"less\" + 0.020*\"least\" + 0.019*\"oil\" + 0.019*\"linolenic\" + 0.018*\"plant\"'),\n",
       " (7,\n",
       "  '0.051*\"method\" + 0.042*\"composition\" + 0.037*\"plant\" + 0.024*\"reduce\" + 0.023*\"activity\" + 0.022*\"use\" + 0.022*\"alcohol\" + 0.022*\"cyanamide\" + 0.020*\"stabilize\" + 0.020*\"calcium\"'),\n",
       " (8,\n",
       "  '0.045*\"apparatus\" + 0.036*\"object\" + 0.036*\"detection\" + 0.027*\"mean\" + 0.027*\"station\" + 0.018*\"rotate\" + 0.018*\"small\" + 0.018*\"light\" + 0.018*\"detect\" + 0.018*\"filament\"'),\n",
       " (9,\n",
       "  '0.035*\"plant\" + 0.029*\"corn\" + 0.026*\"dsq\" + 0.018*\"inbred\" + 0.017*\"inbreed\" + 0.014*\"relate\" + 0.012*\"invention\" + 0.011*\"produce\" + 0.011*\"seed\" + 0.009*\"cross\"'),\n",
       " (10,\n",
       "  '0.045*\"metal\" + 0.042*\"plant\" + 0.031*\"acid\" + 0.028*\"composition\" + 0.023*\"root\" + 0.019*\"ion\" + 0.019*\"agent\" + 0.019*\"citric\" + 0.019*\"administer\" + 0.015*\"induce\"'),\n",
       " (11,\n",
       "  '0.026*\"hybrid\" + 0.025*\"parent\" + 0.023*\"rice\" + 0.023*\"plant\" + 0.021*\"seed\" + 0.017*\"form\" + 0.015*\"basis\" + 0.014*\"possess\" + 0.014*\"generation\" + 0.014*\"flag\"'),\n",
       " (12,\n",
       "  '0.064*\"starch\" + 0.040*\"invention\" + 0.026*\"use\" + 0.022*\"plant\" + 0.018*\"relate\" + 0.017*\"organ\" + 0.015*\"produce\" + 0.015*\"include\" + 0.015*\"preferably\" + 0.014*\"biotechnology\"'),\n",
       " (13,\n",
       "  '0.002*\"maize\" + 0.002*\"digestibility\" + 0.002*\"relate\" + 0.002*\"allele\" + 0.002*\"use\" + 0.002*\"activity\" + 0.002*\"due\" + 0.002*\"reduced\" + 0.002*\"delta\" + 0.002*\"presence\"'),\n",
       " (14,\n",
       "  '0.093*\"corn\" + 0.084*\"plant\" + 0.033*\"inbred\" + 0.029*\"seed\" + 0.028*\"inbreed\" + 0.027*\"produce\" + 0.027*\"cattle\" + 0.027*\"dairy\" + 0.027*\"line\" + 0.019*\"hybrid\"'),\n",
       " (15,\n",
       "  '0.096*\"plant\" + 0.059*\"temperature\" + 0.019*\"method\" + 0.018*\"desire\" + 0.016*\"use\" + 0.015*\"deficit\" + 0.014*\"water\" + 0.014*\"agronomic\" + 0.013*\"stress\" + 0.012*\"increase\"'),\n",
       " (16,\n",
       "  '0.047*\"field\" + 0.043*\"include\" + 0.042*\"unit\" + 0.036*\"assembly\" + 0.030*\"engagement\" + 0.024*\"tool\" + 0.023*\"work\" + 0.019*\"additionally\" + 0.017*\"system\" + 0.016*\"program\"'),\n",
       " (17,\n",
       "  '0.040*\"include\" + 0.037*\"unit\" + 0.035*\"engagement\" + 0.026*\"field\" + 0.024*\"assembly\" + 0.022*\"work\" + 0.022*\"tool\" + 0.017*\"plant\" + 0.017*\"system\" + 0.016*\"additionally\"'),\n",
       " (18,\n",
       "  '0.134*\"plant\" + 0.074*\"corn\" + 0.045*\"inbred\" + 0.040*\"invention\" + 0.038*\"inbreed\" + 0.034*\"seed\" + 0.030*\"produce\" + 0.028*\"relate\" + 0.020*\"cross\" + 0.018*\"hybrid\"'),\n",
       " (19,\n",
       "  '0.029*\"control\" + 0.029*\"weed\" + 0.029*\"brome\" + 0.023*\"soil\" + 0.022*\"strain\" + 0.022*\"bacterial\" + 0.018*\"acid\" + 0.017*\"plant\" + 0.016*\"application\" + 0.015*\"wheat\"')]"
      ]
     },
     "execution_count": 41,
     "metadata": {},
     "output_type": "execute_result"
    }
   ],
   "source": [
    "optimal_model.print_topics()"
   ]
  },
  {
   "cell_type": "code",
   "execution_count": 46,
   "metadata": {},
   "outputs": [
    {
     "data": {
      "text/plain": [
       "[(17, 0.048395418),\n",
       " (114, 0.04557113),\n",
       " (111, 0.029025346),\n",
       " (115, 0.024929108),\n",
       " (20, 0.024404315),\n",
       " (67, 0.021367555),\n",
       " (9, 0.020226477),\n",
       " (107, 0.018980114),\n",
       " (2, 0.018477488),\n",
       " (76, 0.018014716)]"
      ]
     },
     "execution_count": 46,
     "metadata": {},
     "output_type": "execute_result"
    }
   ],
   "source": [
    "optimal_model.get_topic_terms(0)"
   ]
  },
  {
   "cell_type": "code",
   "execution_count": 51,
   "metadata": {},
   "outputs": [],
   "source": [
    "c = dict()\n",
    "for i in range(20):\n",
    "    for a,b in optimal_model.get_topic_terms(i):\n",
    "        \n",
    "        if not a in c.keys():\n",
    "            c[a] = 1\n",
    "        else:\n",
    "            c[a] += 1\n",
    "        \n",
    "        "
   ]
  },
  {
   "cell_type": "code",
   "execution_count": 53,
   "metadata": {},
   "outputs": [
    {
     "data": {
      "text/plain": [
       "119"
      ]
     },
     "execution_count": 53,
     "metadata": {},
     "output_type": "execute_result"
    }
   ],
   "source": [
    "len(c.keys())"
   ]
  },
  {
   "cell_type": "code",
   "execution_count": 36,
   "metadata": {},
   "outputs": [
    {
     "ename": "SyntaxError",
     "evalue": "invalid syntax (<ipython-input-36-9e97abf0d495>, line 18)",
     "output_type": "error",
     "traceback": [
      "\u001b[0;36m  File \u001b[0;32m\"<ipython-input-36-9e97abf0d495>\"\u001b[0;36m, line \u001b[0;32m18\u001b[0m\n\u001b[0;31m    Add original text to the end of the output\u001b[0m\n\u001b[0m               ^\u001b[0m\n\u001b[0;31mSyntaxError\u001b[0m\u001b[0;31m:\u001b[0m invalid syntax\n"
     ]
    }
   ],
   "source": [
    "def format_topics_sentences(ldamodel=None, corpus=None, texts=None):\n",
    "    # Init output\n",
    "    sent_topics_df = pd.DataFrame()\n",
    "\n",
    "    # Get main topic in each document\n",
    "    for i, row in enumerate(ldamodel[corpus]):\n",
    "        row = sorted(row, key=lambda x: (x[1]), reverse=True)\n",
    "        # Get the Dominant topic, Perc Contribution and Keywords for each document\n",
    "        for j, (topic_num, prop_topic) in enumerate(row):\n",
    "            if j == 0:  # => dominant topic\n",
    "                wp = ldamodel.show_topic(topic_num)\n",
    "                topic_keywords = \", \".join([word for word, prop in wp])\n",
    "                sent_topics_df = sent_topics_df.append(pd.Series([int(topic_num), round(prop_topic,4), topic_keywords]), ignore_index=True)\n",
    "            else:\n",
    "                break\n",
    "    sent_topics_df.columns = ['Dominant_Topic', 'Perc_Contribution', 'Topic_Keywords']\n",
    "\n",
    "    Add original text to the end of the output\n",
    "    contents = pd.Series(texts)\n",
    "    sent_topics_df = pd.concat([sent_topics_df, contents], axis=1)\n",
    "    return(sent_topics_df)"
   ]
  },
  {
   "cell_type": "code",
   "execution_count": 37,
   "metadata": {},
   "outputs": [],
   "source": [
    "# df_topic_sents_keywords = format_topics_sentences(ldamodel=optimal_model,\n",
    "#                                                   corpus=corpus, \n",
    "#                                                   texts=data_lemmatized)"
   ]
  },
  {
   "cell_type": "code",
   "execution_count": 38,
   "metadata": {},
   "outputs": [
    {
     "ename": "NameError",
     "evalue": "name 'df_topic_sents_keywords' is not defined",
     "output_type": "error",
     "traceback": [
      "\u001b[0;31m---------------------------------------------------------------------------\u001b[0m",
      "\u001b[0;31mNameError\u001b[0m                                 Traceback (most recent call last)",
      "\u001b[0;32m<ipython-input-38-82fd381f62dc>\u001b[0m in \u001b[0;36m<module>\u001b[0;34m()\u001b[0m\n\u001b[1;32m      2\u001b[0m \u001b[0msent_topics_sorteddf_mallet\u001b[0m \u001b[0;34m=\u001b[0m \u001b[0mpd\u001b[0m\u001b[0;34m.\u001b[0m\u001b[0mDataFrame\u001b[0m\u001b[0;34m(\u001b[0m\u001b[0;34m)\u001b[0m\u001b[0;34m\u001b[0m\u001b[0m\n\u001b[1;32m      3\u001b[0m \u001b[0;34m\u001b[0m\u001b[0m\n\u001b[0;32m----> 4\u001b[0;31m \u001b[0msent_topics_outdf_grpd\u001b[0m \u001b[0;34m=\u001b[0m \u001b[0mdf_topic_sents_keywords\u001b[0m\u001b[0;34m.\u001b[0m\u001b[0mgroupby\u001b[0m\u001b[0;34m(\u001b[0m\u001b[0;34m'Dominant_Topic'\u001b[0m\u001b[0;34m)\u001b[0m\u001b[0;34m\u001b[0m\u001b[0m\n\u001b[0m\u001b[1;32m      5\u001b[0m \u001b[0;34m\u001b[0m\u001b[0m\n\u001b[1;32m      6\u001b[0m \u001b[0;32mfor\u001b[0m \u001b[0mi\u001b[0m\u001b[0;34m,\u001b[0m \u001b[0mgrp\u001b[0m \u001b[0;32min\u001b[0m \u001b[0msent_topics_outdf_grpd\u001b[0m\u001b[0;34m:\u001b[0m\u001b[0;34m\u001b[0m\u001b[0m\n",
      "\u001b[0;31mNameError\u001b[0m: name 'df_topic_sents_keywords' is not defined"
     ]
    }
   ],
   "source": [
    "# Group top 5 sentences under each topic\n",
    "sent_topics_sorteddf_mallet = pd.DataFrame()\n",
    "\n",
    "sent_topics_outdf_grpd = df_topic_sents_keywords.groupby('Dominant_Topic')\n",
    "\n",
    "for i, grp in sent_topics_outdf_grpd:\n",
    "    sent_topics_sorteddf_mallet = pd.concat([sent_topics_sorteddf_mallet, \n",
    "                                             grp.sort_values(['Perc_Contribution'], ascending=[0]).head(1)], \n",
    "                                            axis=0)\n",
    "\n",
    "# Reset Index    \n",
    "sent_topics_sorteddf_mallet.reset_index(drop=True, inplace=True)\n",
    "\n",
    "# Format\n",
    "sent_topics_sorteddf_mallet.columns = ['Topic_Num', \"Topic_Perc_Contrib\", \"Keywords\", \"Text\"]\n",
    "\n",
    "# Show\n",
    "sent_topics_sorteddf_mallet.head()"
   ]
  },
  {
   "cell_type": "code",
   "execution_count": null,
   "metadata": {},
   "outputs": [],
   "source": []
  },
  {
   "cell_type": "code",
   "execution_count": null,
   "metadata": {},
   "outputs": [],
   "source": []
  },
  {
   "cell_type": "code",
   "execution_count": null,
   "metadata": {},
   "outputs": [],
   "source": []
  },
  {
   "cell_type": "code",
   "execution_count": null,
   "metadata": {},
   "outputs": [],
   "source": []
  },
  {
   "cell_type": "code",
   "execution_count": null,
   "metadata": {},
   "outputs": [],
   "source": []
  },
  {
   "cell_type": "code",
   "execution_count": null,
   "metadata": {},
   "outputs": [],
   "source": []
  },
  {
   "cell_type": "code",
   "execution_count": null,
   "metadata": {},
   "outputs": [],
   "source": []
  },
  {
   "cell_type": "code",
   "execution_count": null,
   "metadata": {},
   "outputs": [],
   "source": []
  },
  {
   "cell_type": "code",
   "execution_count": null,
   "metadata": {},
   "outputs": [],
   "source": []
  },
  {
   "cell_type": "code",
   "execution_count": null,
   "metadata": {},
   "outputs": [],
   "source": []
  },
  {
   "cell_type": "code",
   "execution_count": null,
   "metadata": {},
   "outputs": [],
   "source": []
  }
 ],
 "metadata": {
  "kernelspec": {
   "display_name": "Python 3",
   "language": "python",
   "name": "python3"
  },
  "language_info": {
   "codemirror_mode": {
    "name": "ipython",
    "version": 3
   },
   "file_extension": ".py",
   "mimetype": "text/x-python",
   "name": "python",
   "nbconvert_exporter": "python",
   "pygments_lexer": "ipython3",
   "version": "3.7.0"
  }
 },
 "nbformat": 4,
 "nbformat_minor": 2
}
