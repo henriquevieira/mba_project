{
 "cells": [
  {
   "cell_type": "code",
   "execution_count": 1,
   "metadata": {},
   "outputs": [],
   "source": [
    "# Henrique Cursino Vieira"
   ]
  },
  {
   "cell_type": "code",
   "execution_count": 100,
   "metadata": {},
   "outputs": [
    {
     "name": "stderr",
     "output_type": "stream",
     "text": [
      "/opt/anaconda3/envs/tensorflow_env/lib/python3.7/site-packages/ipykernel/ipkernel.py:287: DeprecationWarning: `should_run_async` will not call `transform_cell` automatically in the future. Please pass the result to `transformed_cell` argument and any exception that happen during thetransform in `preprocessing_exc_tuple` in IPython 7.17 and above.\n",
      "  and should_run_async(code)\n"
     ]
    }
   ],
   "source": [
    "import re\n",
    "import glob\n",
    "import numpy as np\n",
    "import pandas as pd\n",
    "\n",
    "\n",
    "# Gensim\n",
    "import gensim\n",
    "import gensim.corpora as corpora\n",
    "from gensim.utils import simple_preprocess\n",
    "from gensim.models import CoherenceModel\n",
    "\n",
    "# spacy for lemmatization\n",
    "import spacy\n",
    "\n",
    "# NLTK Stop words\n",
    "from nltk.corpus import stopwords\n",
    "stop_words = stopwords.words('english')\n",
    "\n",
    "from nltk.corpus import wordnet\n",
    "\n",
    "# Plotting tools\n",
    "import pyLDAvis\n",
    "import pyLDAvis.gensim  # don't skip this\n",
    "\n",
    "import seaborn as sns\n",
    "import matplotlib.pyplot as plt\n",
    "%matplotlib inline"
   ]
  },
  {
   "cell_type": "code",
   "execution_count": 3,
   "metadata": {},
   "outputs": [
    {
     "name": "stderr",
     "output_type": "stream",
     "text": [
      "/opt/anaconda3/envs/tensorflow_env/lib/python3.7/site-packages/ipykernel/ipkernel.py:287: DeprecationWarning: `should_run_async` will not call `transform_cell` automatically in the future. Please pass the result to `transformed_cell` argument and any exception that happen during thetransform in `preprocessing_exc_tuple` in IPython 7.17 and above.\n",
      "  and should_run_async(code)\n",
      "[nltk_data] Downloading package stopwords to\n",
      "[nltk_data]     /Users/henriquevieira/nltk_data...\n",
      "[nltk_data]   Package stopwords is already up-to-date!\n"
     ]
    },
    {
     "data": {
      "text/plain": [
       "True"
      ]
     },
     "execution_count": 3,
     "metadata": {},
     "output_type": "execute_result"
    }
   ],
   "source": [
    "import nltk\n",
    "nltk.download('stopwords')"
   ]
  },
  {
   "cell_type": "code",
   "execution_count": 4,
   "metadata": {},
   "outputs": [
    {
     "name": "stderr",
     "output_type": "stream",
     "text": [
      "/opt/anaconda3/envs/tensorflow_env/lib/python3.7/site-packages/ipykernel/ipkernel.py:287: DeprecationWarning: `should_run_async` will not call `transform_cell` automatically in the future. Please pass the result to `transformed_cell` argument and any exception that happen during thetransform in `preprocessing_exc_tuple` in IPython 7.17 and above.\n",
      "  and should_run_async(code)\n"
     ]
    }
   ],
   "source": [
    "# TODO: Converter no script anterior para\n",
    "# gerar o corpora dos documentos de patente\n",
    "\n",
    "# NAO CARREGAR A PARTIR DE UMA PLANILHA"
   ]
  },
  {
   "cell_type": "code",
   "execution_count": 5,
   "metadata": {},
   "outputs": [
    {
     "name": "stderr",
     "output_type": "stream",
     "text": [
      "/opt/anaconda3/envs/tensorflow_env/lib/python3.7/site-packages/ipykernel/ipkernel.py:287: DeprecationWarning: `should_run_async` will not call `transform_cell` automatically in the future. Please pass the result to `transformed_cell` argument and any exception that happen during thetransform in `preprocessing_exc_tuple` in IPython 7.17 and above.\n",
      "  and should_run_async(code)\n"
     ]
    },
    {
     "data": {
      "text/html": [
       "<div>\n",
       "<style scoped>\n",
       "    .dataframe tbody tr th:only-of-type {\n",
       "        vertical-align: middle;\n",
       "    }\n",
       "\n",
       "    .dataframe tbody tr th {\n",
       "        vertical-align: top;\n",
       "    }\n",
       "\n",
       "    .dataframe thead th {\n",
       "        text-align: right;\n",
       "    }\n",
       "</style>\n",
       "<table border=\"1\" class=\"dataframe\">\n",
       "  <thead>\n",
       "    <tr style=\"text-align: right;\">\n",
       "      <th></th>\n",
       "      <th>idx</th>\n",
       "      <th>title_raw</th>\n",
       "      <th>text_raw</th>\n",
       "      <th>title</th>\n",
       "      <th>text</th>\n",
       "      <th>content</th>\n",
       "    </tr>\n",
       "  </thead>\n",
       "  <tbody>\n",
       "    <tr>\n",
       "      <th>0</th>\n",
       "      <td>5969222</td>\n",
       "      <td>\\n\\n                    Corn inbred lines for ...</td>\n",
       "      <td>\\n            An inbred corn line designated A...</td>\n",
       "      <td>corn inbred lines for dairy cattle feed</td>\n",
       "      <td>an inbred corn line designated ar5153bm3 is di...</td>\n",
       "      <td>corn inbred lines for dairy cattle feed an inb...</td>\n",
       "    </tr>\n",
       "    <tr>\n",
       "      <th>1</th>\n",
       "      <td>6114609</td>\n",
       "      <td>\\n\\n                    Corn inbred lines for ...</td>\n",
       "      <td>\\n            An inbred corn line designated A...</td>\n",
       "      <td>corn inbred lines for dairy cattle feed</td>\n",
       "      <td>an inbred corn line designated ar5253bm3 is di...</td>\n",
       "      <td>corn inbred lines for dairy cattle feed an inb...</td>\n",
       "    </tr>\n",
       "    <tr>\n",
       "      <th>2</th>\n",
       "      <td>5859353</td>\n",
       "      <td>\\n\\n                    Corn Inbred lines for ...</td>\n",
       "      <td>\\n            An inbred corn line designated A...</td>\n",
       "      <td>corn inbred lines for dairy cattle feed</td>\n",
       "      <td>an inbred corn line designated ar5252bm3 is di...</td>\n",
       "      <td>corn inbred lines for dairy cattle feed an inb...</td>\n",
       "    </tr>\n",
       "    <tr>\n",
       "      <th>3</th>\n",
       "      <td>5714670</td>\n",
       "      <td>\\n\\n                    Soybeans having low li...</td>\n",
       "      <td>\\n            A novel soybean seed and plant d...</td>\n",
       "      <td>soybeans having low linolenic acid and low pal...</td>\n",
       "      <td>a novel soybean seed and plant designated ax77...</td>\n",
       "      <td>soybeans having low linolenic acid and low pal...</td>\n",
       "    </tr>\n",
       "    <tr>\n",
       "      <th>4</th>\n",
       "      <td>5763745</td>\n",
       "      <td>\\n\\n                    Soybeans having low li...</td>\n",
       "      <td>\\n            Methods are described for the pr...</td>\n",
       "      <td>soybeans having low linolenic acid content and...</td>\n",
       "      <td>methods are described for the production of so...</td>\n",
       "      <td>soybeans having low linolenic acid content and...</td>\n",
       "    </tr>\n",
       "  </tbody>\n",
       "</table>\n",
       "</div>"
      ],
      "text/plain": [
       "       idx                                          title_raw  \\\n",
       "0  5969222  \\n\\n                    Corn inbred lines for ...   \n",
       "1  6114609  \\n\\n                    Corn inbred lines for ...   \n",
       "2  5859353  \\n\\n                    Corn Inbred lines for ...   \n",
       "3  5714670  \\n\\n                    Soybeans having low li...   \n",
       "4  5763745  \\n\\n                    Soybeans having low li...   \n",
       "\n",
       "                                            text_raw  \\\n",
       "0  \\n            An inbred corn line designated A...   \n",
       "1  \\n            An inbred corn line designated A...   \n",
       "2  \\n            An inbred corn line designated A...   \n",
       "3  \\n            A novel soybean seed and plant d...   \n",
       "4  \\n            Methods are described for the pr...   \n",
       "\n",
       "                                               title  \\\n",
       "0            corn inbred lines for dairy cattle feed   \n",
       "1            corn inbred lines for dairy cattle feed   \n",
       "2            corn inbred lines for dairy cattle feed   \n",
       "3  soybeans having low linolenic acid and low pal...   \n",
       "4  soybeans having low linolenic acid content and...   \n",
       "\n",
       "                                                text  \\\n",
       "0  an inbred corn line designated ar5153bm3 is di...   \n",
       "1  an inbred corn line designated ar5253bm3 is di...   \n",
       "2  an inbred corn line designated ar5252bm3 is di...   \n",
       "3  a novel soybean seed and plant designated ax77...   \n",
       "4  methods are described for the production of so...   \n",
       "\n",
       "                                             content  \n",
       "0  corn inbred lines for dairy cattle feed an inb...  \n",
       "1  corn inbred lines for dairy cattle feed an inb...  \n",
       "2  corn inbred lines for dairy cattle feed an inb...  \n",
       "3  soybeans having low linolenic acid and low pal...  \n",
       "4  soybeans having low linolenic acid content and...  "
      ]
     },
     "execution_count": 5,
     "metadata": {},
     "output_type": "execute_result"
    }
   ],
   "source": [
    "documents = pd.read_csv('patents_data.csv')\n",
    "documents.head()"
   ]
  },
  {
   "cell_type": "code",
   "execution_count": 6,
   "metadata": {},
   "outputs": [
    {
     "name": "stderr",
     "output_type": "stream",
     "text": [
      "/opt/anaconda3/envs/tensorflow_env/lib/python3.7/site-packages/ipykernel/ipkernel.py:287: DeprecationWarning: `should_run_async` will not call `transform_cell` automatically in the future. Please pass the result to `transformed_cell` argument and any exception that happen during thetransform in `preprocessing_exc_tuple` in IPython 7.17 and above.\n",
      "  and should_run_async(code)\n"
     ]
    },
    {
     "data": {
      "text/html": [
       "<div>\n",
       "<style scoped>\n",
       "    .dataframe tbody tr th:only-of-type {\n",
       "        vertical-align: middle;\n",
       "    }\n",
       "\n",
       "    .dataframe tbody tr th {\n",
       "        vertical-align: top;\n",
       "    }\n",
       "\n",
       "    .dataframe thead th {\n",
       "        text-align: right;\n",
       "    }\n",
       "</style>\n",
       "<table border=\"1\" class=\"dataframe\">\n",
       "  <thead>\n",
       "    <tr style=\"text-align: right;\">\n",
       "      <th></th>\n",
       "      <th>idx</th>\n",
       "      <th>content</th>\n",
       "    </tr>\n",
       "  </thead>\n",
       "  <tbody>\n",
       "    <tr>\n",
       "      <th>0</th>\n",
       "      <td>5969222</td>\n",
       "      <td>corn inbred lines for dairy cattle feed an inb...</td>\n",
       "    </tr>\n",
       "    <tr>\n",
       "      <th>1</th>\n",
       "      <td>6114609</td>\n",
       "      <td>corn inbred lines for dairy cattle feed an inb...</td>\n",
       "    </tr>\n",
       "    <tr>\n",
       "      <th>2</th>\n",
       "      <td>5859353</td>\n",
       "      <td>corn inbred lines for dairy cattle feed an inb...</td>\n",
       "    </tr>\n",
       "    <tr>\n",
       "      <th>3</th>\n",
       "      <td>5714670</td>\n",
       "      <td>soybeans having low linolenic acid and low pal...</td>\n",
       "    </tr>\n",
       "    <tr>\n",
       "      <th>4</th>\n",
       "      <td>5763745</td>\n",
       "      <td>soybeans having low linolenic acid content and...</td>\n",
       "    </tr>\n",
       "  </tbody>\n",
       "</table>\n",
       "</div>"
      ],
      "text/plain": [
       "       idx                                            content\n",
       "0  5969222  corn inbred lines for dairy cattle feed an inb...\n",
       "1  6114609  corn inbred lines for dairy cattle feed an inb...\n",
       "2  5859353  corn inbred lines for dairy cattle feed an inb...\n",
       "3  5714670  soybeans having low linolenic acid and low pal...\n",
       "4  5763745  soybeans having low linolenic acid content and..."
      ]
     },
     "execution_count": 6,
     "metadata": {},
     "output_type": "execute_result"
    }
   ],
   "source": [
    "# TODO: provavelemente remover isso\n",
    "documents = documents[['idx', 'content']]\n",
    "documents.head()"
   ]
  },
  {
   "cell_type": "code",
   "execution_count": 7,
   "metadata": {},
   "outputs": [
    {
     "name": "stderr",
     "output_type": "stream",
     "text": [
      "/opt/anaconda3/envs/tensorflow_env/lib/python3.7/site-packages/ipykernel/ipkernel.py:287: DeprecationWarning: `should_run_async` will not call `transform_cell` automatically in the future. Please pass the result to `transformed_cell` argument and any exception that happen during thetransform in `preprocessing_exc_tuple` in IPython 7.17 and above.\n",
      "  and should_run_async(code)\n"
     ]
    }
   ],
   "source": [
    "# Gerando os tokens"
   ]
  },
  {
   "cell_type": "code",
   "execution_count": 8,
   "metadata": {},
   "outputs": [
    {
     "name": "stderr",
     "output_type": "stream",
     "text": [
      "/opt/anaconda3/envs/tensorflow_env/lib/python3.7/site-packages/ipykernel/ipkernel.py:287: DeprecationWarning: `should_run_async` will not call `transform_cell` automatically in the future. Please pass the result to `transformed_cell` argument and any exception that happen during thetransform in `preprocessing_exc_tuple` in IPython 7.17 and above.\n",
      "  and should_run_async(code)\n"
     ]
    }
   ],
   "source": [
    "def sent_to_words(document_content):\n",
    "    for content in document_content:\n",
    "        yield(gensim.utils.simple_preprocess(str(content), \n",
    "                                             deacc=True))"
   ]
  },
  {
   "cell_type": "code",
   "execution_count": 9,
   "metadata": {},
   "outputs": [
    {
     "name": "stderr",
     "output_type": "stream",
     "text": [
      "/opt/anaconda3/envs/tensorflow_env/lib/python3.7/site-packages/ipykernel/ipkernel.py:287: DeprecationWarning: `should_run_async` will not call `transform_cell` automatically in the future. Please pass the result to `transformed_cell` argument and any exception that happen during thetransform in `preprocessing_exc_tuple` in IPython 7.17 and above.\n",
      "  and should_run_async(code)\n"
     ]
    }
   ],
   "source": [
    "data_words = list(sent_to_words(documents['content']))"
   ]
  },
  {
   "cell_type": "code",
   "execution_count": 10,
   "metadata": {},
   "outputs": [
    {
     "name": "stderr",
     "output_type": "stream",
     "text": [
      "/opt/anaconda3/envs/tensorflow_env/lib/python3.7/site-packages/ipykernel/ipkernel.py:287: DeprecationWarning: `should_run_async` will not call `transform_cell` automatically in the future. Please pass the result to `transformed_cell` argument and any exception that happen during thetransform in `preprocessing_exc_tuple` in IPython 7.17 and above.\n",
      "  and should_run_async(code)\n"
     ]
    }
   ],
   "source": [
    "# Criando os modelos de bigram e trigam"
   ]
  },
  {
   "cell_type": "code",
   "execution_count": 11,
   "metadata": {},
   "outputs": [
    {
     "name": "stderr",
     "output_type": "stream",
     "text": [
      "/opt/anaconda3/envs/tensorflow_env/lib/python3.7/site-packages/ipykernel/ipkernel.py:287: DeprecationWarning: `should_run_async` will not call `transform_cell` automatically in the future. Please pass the result to `transformed_cell` argument and any exception that happen during thetransform in `preprocessing_exc_tuple` in IPython 7.17 and above.\n",
      "  and should_run_async(code)\n"
     ]
    }
   ],
   "source": [
    "bigram = gensim.models.Phrases(data_words, min_count=5, threshold=100)\n",
    "trigram = gensim.models.Phrases(bigram[data_words], threshold=100)"
   ]
  },
  {
   "cell_type": "code",
   "execution_count": 12,
   "metadata": {},
   "outputs": [
    {
     "name": "stderr",
     "output_type": "stream",
     "text": [
      "/opt/anaconda3/envs/tensorflow_env/lib/python3.7/site-packages/ipykernel/ipkernel.py:287: DeprecationWarning: `should_run_async` will not call `transform_cell` automatically in the future. Please pass the result to `transformed_cell` argument and any exception that happen during thetransform in `preprocessing_exc_tuple` in IPython 7.17 and above.\n",
      "  and should_run_async(code)\n"
     ]
    }
   ],
   "source": [
    "bigram_mod = gensim.models.phrases.Phraser(bigram)\n",
    "trigram_mod = gensim.models.phrases.Phraser(trigram)"
   ]
  },
  {
   "cell_type": "code",
   "execution_count": 13,
   "metadata": {},
   "outputs": [
    {
     "name": "stdout",
     "output_type": "stream",
     "text": [
      "['corn', 'inbred', 'lines', 'for', 'dairy', 'cattle', 'feed', 'an', 'inbred', 'corn', 'line', 'designated', 'ar', 'bm', 'is', 'disclosed', 'ar', 'bm', 'is', 'useful', 'for', 'producing', 'hybrid', 'corn', 'seed', 'and', 'plants', 'therefrom', 'such', 'corn', 'plants', 'exhibit', 'the', 'brown', 'midrib', 'phenotype', 'and', 'yield', 'silage', 'that', 'when', 'fed', 'to', 'dairy', 'cattle', 'increases', 'milk', 'production']\n"
     ]
    },
    {
     "name": "stderr",
     "output_type": "stream",
     "text": [
      "/opt/anaconda3/envs/tensorflow_env/lib/python3.7/site-packages/ipykernel/ipkernel.py:287: DeprecationWarning: `should_run_async` will not call `transform_cell` automatically in the future. Please pass the result to `transformed_cell` argument and any exception that happen during thetransform in `preprocessing_exc_tuple` in IPython 7.17 and above.\n",
      "  and should_run_async(code)\n"
     ]
    }
   ],
   "source": [
    "print(trigram_mod[bigram_mod[data_words[0]]])"
   ]
  },
  {
   "cell_type": "code",
   "execution_count": 14,
   "metadata": {},
   "outputs": [
    {
     "name": "stderr",
     "output_type": "stream",
     "text": [
      "/opt/anaconda3/envs/tensorflow_env/lib/python3.7/site-packages/ipykernel/ipkernel.py:287: DeprecationWarning: `should_run_async` will not call `transform_cell` automatically in the future. Please pass the result to `transformed_cell` argument and any exception that happen during thetransform in `preprocessing_exc_tuple` in IPython 7.17 and above.\n",
      "  and should_run_async(code)\n"
     ]
    }
   ],
   "source": [
    "# Pre processamento \n",
    "# - remocao de stop-words\n",
    "# - aplicando os modelos de bigram e trigram\n",
    "# - lemmatizacao das palavras\n",
    "\n",
    "def remove_stopwords(texts):\n",
    "    return [[word for word in simple_preprocess(str(doc)) if word not in stop_words] for doc in texts]\n",
    "\n",
    "def make_bigrams(texts):\n",
    "    return [bigram_mod[doc] for doc in texts]\n",
    "\n",
    "def make_trigrams(texts):\n",
    "    return [trigram_mod[bigram_mod[doc]] for doc in texts]\n",
    "\n",
    "def lemmatization(texts, allowed_postags=['NOUN', 'ADJ', 'VERB', 'ADV']):\n",
    "    \"\"\"https://spacy.io/api/annotation\"\"\"\n",
    "    texts_out = []\n",
    "    for sent in texts:\n",
    "        doc = nlp(\" \".join(sent)) \n",
    "        texts_out.append([token.lemma_ for token in doc if token.pos_ in allowed_postags])\n",
    "    return texts_out"
   ]
  },
  {
   "cell_type": "code",
   "execution_count": 15,
   "metadata": {},
   "outputs": [
    {
     "name": "stderr",
     "output_type": "stream",
     "text": [
      "/opt/anaconda3/envs/tensorflow_env/lib/python3.7/site-packages/ipykernel/ipkernel.py:287: DeprecationWarning: `should_run_async` will not call `transform_cell` automatically in the future. Please pass the result to `transformed_cell` argument and any exception that happen during thetransform in `preprocessing_exc_tuple` in IPython 7.17 and above.\n",
      "  and should_run_async(code)\n"
     ]
    },
    {
     "data": {
      "text/plain": [
       "['corn', 'inbred', 'lines', 'dairy', 'cattle']"
      ]
     },
     "execution_count": 15,
     "metadata": {},
     "output_type": "execute_result"
    }
   ],
   "source": [
    "data_words_nostops = remove_stopwords(data_words)\n",
    "data_words_nostops[0][0:5]"
   ]
  },
  {
   "cell_type": "code",
   "execution_count": 16,
   "metadata": {},
   "outputs": [
    {
     "name": "stderr",
     "output_type": "stream",
     "text": [
      "/opt/anaconda3/envs/tensorflow_env/lib/python3.7/site-packages/ipykernel/ipkernel.py:287: DeprecationWarning: `should_run_async` will not call `transform_cell` automatically in the future. Please pass the result to `transformed_cell` argument and any exception that happen during thetransform in `preprocessing_exc_tuple` in IPython 7.17 and above.\n",
      "  and should_run_async(code)\n"
     ]
    },
    {
     "data": {
      "text/plain": [
       "['corn', 'inbred', 'lines', 'dairy', 'cattle']"
      ]
     },
     "execution_count": 16,
     "metadata": {},
     "output_type": "execute_result"
    }
   ],
   "source": [
    "data_words_bigrams = make_bigrams(data_words_nostops)\n",
    "data_words_bigrams[0][0:5]"
   ]
  },
  {
   "cell_type": "code",
   "execution_count": 17,
   "metadata": {},
   "outputs": [
    {
     "name": "stderr",
     "output_type": "stream",
     "text": [
      "/opt/anaconda3/envs/tensorflow_env/lib/python3.7/site-packages/ipykernel/ipkernel.py:287: DeprecationWarning: `should_run_async` will not call `transform_cell` automatically in the future. Please pass the result to `transformed_cell` argument and any exception that happen during thetransform in `preprocessing_exc_tuple` in IPython 7.17 and above.\n",
      "  and should_run_async(code)\n"
     ]
    }
   ],
   "source": [
    "nlp = spacy.load('en', disable=['parser', 'ner'])"
   ]
  },
  {
   "cell_type": "code",
   "execution_count": 18,
   "metadata": {},
   "outputs": [
    {
     "name": "stderr",
     "output_type": "stream",
     "text": [
      "/opt/anaconda3/envs/tensorflow_env/lib/python3.7/site-packages/ipykernel/ipkernel.py:287: DeprecationWarning: `should_run_async` will not call `transform_cell` automatically in the future. Please pass the result to `transformed_cell` argument and any exception that happen during thetransform in `preprocessing_exc_tuple` in IPython 7.17 and above.\n",
      "  and should_run_async(code)\n"
     ]
    },
    {
     "data": {
      "text/plain": [
       "['corn', 'inbreed', 'line', 'dairy', 'cattle']"
      ]
     },
     "execution_count": 18,
     "metadata": {},
     "output_type": "execute_result"
    }
   ],
   "source": [
    "postags = ['NOUN', 'ADJ', 'VERB', 'ADV']\n",
    "data_lemmatized = lemmatization(data_words_bigrams, \n",
    "                                allowed_postags=postags)\n",
    "data_lemmatized[0][0:5]"
   ]
  },
  {
   "cell_type": "code",
   "execution_count": 19,
   "metadata": {},
   "outputs": [
    {
     "name": "stderr",
     "output_type": "stream",
     "text": [
      "/opt/anaconda3/envs/tensorflow_env/lib/python3.7/site-packages/ipykernel/ipkernel.py:287: DeprecationWarning: `should_run_async` will not call `transform_cell` automatically in the future. Please pass the result to `transformed_cell` argument and any exception that happen during thetransform in `preprocessing_exc_tuple` in IPython 7.17 and above.\n",
      "  and should_run_async(code)\n"
     ]
    }
   ],
   "source": [
    "# Criacao do dicionario para dados e o corpus"
   ]
  },
  {
   "cell_type": "code",
   "execution_count": 20,
   "metadata": {},
   "outputs": [
    {
     "name": "stderr",
     "output_type": "stream",
     "text": [
      "/opt/anaconda3/envs/tensorflow_env/lib/python3.7/site-packages/ipykernel/ipkernel.py:287: DeprecationWarning: `should_run_async` will not call `transform_cell` automatically in the future. Please pass the result to `transformed_cell` argument and any exception that happen during thetransform in `preprocessing_exc_tuple` in IPython 7.17 and above.\n",
      "  and should_run_async(code)\n"
     ]
    }
   ],
   "source": [
    "id2word = corpora.Dictionary(data_lemmatized)"
   ]
  },
  {
   "cell_type": "code",
   "execution_count": 21,
   "metadata": {},
   "outputs": [
    {
     "name": "stderr",
     "output_type": "stream",
     "text": [
      "/opt/anaconda3/envs/tensorflow_env/lib/python3.7/site-packages/ipykernel/ipkernel.py:287: DeprecationWarning: `should_run_async` will not call `transform_cell` automatically in the future. Please pass the result to `transformed_cell` argument and any exception that happen during thetransform in `preprocessing_exc_tuple` in IPython 7.17 and above.\n",
      "  and should_run_async(code)\n"
     ]
    }
   ],
   "source": [
    "texts = data_lemmatized"
   ]
  },
  {
   "cell_type": "code",
   "execution_count": 22,
   "metadata": {},
   "outputs": [
    {
     "name": "stderr",
     "output_type": "stream",
     "text": [
      "/opt/anaconda3/envs/tensorflow_env/lib/python3.7/site-packages/ipykernel/ipkernel.py:287: DeprecationWarning: `should_run_async` will not call `transform_cell` automatically in the future. Please pass the result to `transformed_cell` argument and any exception that happen during thetransform in `preprocessing_exc_tuple` in IPython 7.17 and above.\n",
      "  and should_run_async(code)\n"
     ]
    }
   ],
   "source": [
    "corpus = [id2word.doc2bow(text) for text in texts]"
   ]
  },
  {
   "cell_type": "code",
   "execution_count": 23,
   "metadata": {},
   "outputs": [
    {
     "name": "stderr",
     "output_type": "stream",
     "text": [
      "/opt/anaconda3/envs/tensorflow_env/lib/python3.7/site-packages/ipykernel/ipkernel.py:287: DeprecationWarning: `should_run_async` will not call `transform_cell` automatically in the future. Please pass the result to `transformed_cell` argument and any exception that happen during thetransform in `preprocessing_exc_tuple` in IPython 7.17 and above.\n",
      "  and should_run_async(code)\n"
     ]
    }
   ],
   "source": [
    "# Construcao da modelagem de topicos"
   ]
  },
  {
   "cell_type": "code",
   "execution_count": 24,
   "metadata": {},
   "outputs": [
    {
     "name": "stderr",
     "output_type": "stream",
     "text": [
      "/opt/anaconda3/envs/tensorflow_env/lib/python3.7/site-packages/ipykernel/ipkernel.py:287: DeprecationWarning: `should_run_async` will not call `transform_cell` automatically in the future. Please pass the result to `transformed_cell` argument and any exception that happen during thetransform in `preprocessing_exc_tuple` in IPython 7.17 and above.\n",
      "  and should_run_async(code)\n"
     ]
    }
   ],
   "source": [
    "lda_model = gensim.models.ldamodel.LdaModel(corpus=corpus,\n",
    "                                      id2word = id2word,\n",
    "                                      num_topics = 20,\n",
    "                                      random_state = 150,\n",
    "                                      update_every = 1,\n",
    "                                      chunksize = 100,\n",
    "                                      alpha = 'auto',\n",
    "                                      per_word_topics = True)"
   ]
  },
  {
   "cell_type": "code",
   "execution_count": 25,
   "metadata": {},
   "outputs": [
    {
     "name": "stderr",
     "output_type": "stream",
     "text": [
      "/opt/anaconda3/envs/tensorflow_env/lib/python3.7/site-packages/ipykernel/ipkernel.py:287: DeprecationWarning: `should_run_async` will not call `transform_cell` automatically in the future. Please pass the result to `transformed_cell` argument and any exception that happen during thetransform in `preprocessing_exc_tuple` in IPython 7.17 and above.\n",
      "  and should_run_async(code)\n"
     ]
    },
    {
     "data": {
      "text/plain": [
       "[(0,\n",
       "  '0.036*\"composition\" + 0.023*\"cyanamide\" + 0.021*\"use\" + 0.019*\"stabilize\" + 0.017*\"method\" + 0.016*\"level\" + 0.016*\"activity\" + 0.016*\"reduce\" + 0.016*\"invention\" + 0.016*\"cad\"'),\n",
       " (1,\n",
       "  '0.029*\"composition\" + 0.023*\"sequence\" + 0.021*\"calcium\" + 0.017*\"acid\" + 0.017*\"stabilize\" + 0.017*\"amino\" + 0.017*\"salt\" + 0.016*\"method\" + 0.015*\"cyanamide\" + 0.014*\"gene\"'),\n",
       " (2,\n",
       "  '0.068*\"soybean\" + 0.055*\"content\" + 0.052*\"acid\" + 0.047*\"less\" + 0.046*\"percent\" + 0.028*\"seed\" + 0.023*\"preferably\" + 0.023*\"linolenic\" + 0.022*\"endogenous\" + 0.021*\"palmitic\"'),\n",
       " (3,\n",
       "  '0.060*\"plant\" + 0.030*\"invention\" + 0.020*\"potato\" + 0.019*\"event\" + 0.018*\"induce\" + 0.017*\"agent\" + 0.015*\"starch\" + 0.015*\"soil\" + 0.015*\"provide\" + 0.015*\"application\"'),\n",
       " (4,\n",
       "  '0.153*\"plant\" + 0.119*\"inbreed\" + 0.103*\"corn\" + 0.050*\"seed\" + 0.040*\"invention\" + 0.038*\"produce\" + 0.034*\"relate\" + 0.022*\"genetic\" + 0.018*\"method\" + 0.015*\"provide\"'),\n",
       " (5,\n",
       "  '0.023*\"plant\" + 0.023*\"hybrid\" + 0.017*\"possess\" + 0.015*\"parent\" + 0.015*\"seed\" + 0.013*\"rice\" + 0.012*\"leave\" + 0.012*\"sequence\" + 0.011*\"grain\" + 0.011*\"form\"'),\n",
       " (6,\n",
       "  '0.034*\"corn\" + 0.031*\"plant\" + 0.021*\"seed\" + 0.015*\"fertile\" + 0.015*\"cotton\" + 0.014*\"cattle\" + 0.013*\"recombinant\" + 0.013*\"dairy\" + 0.012*\"transgenic\" + 0.011*\"provide\"'),\n",
       " (7,\n",
       "  '0.055*\"inbreed\" + 0.052*\"plant\" + 0.050*\"corn\" + 0.038*\"dsq\" + 0.029*\"invention\" + 0.019*\"relate\" + 0.019*\"acid\" + 0.013*\"seed\" + 0.012*\"genetic\" + 0.011*\"produce\"'),\n",
       " (8,\n",
       "  '0.032*\"acid\" + 0.027*\"factor\" + 0.025*\"seed\" + 0.021*\"soybean\" + 0.020*\"plant\" + 0.020*\"endogenously\" + 0.019*\"concentration\" + 0.018*\"say\" + 0.018*\"form\" + 0.016*\"fatty\"'),\n",
       " (9,\n",
       "  '0.063*\"plant\" + 0.030*\"method\" + 0.025*\"reduce\" + 0.022*\"increase\" + 0.022*\"alcohol\" + 0.022*\"activity\" + 0.022*\"include\" + 0.019*\"yield\" + 0.019*\"induce\" + 0.017*\"use\"'),\n",
       " (10,\n",
       "  '0.032*\"include\" + 0.026*\"composition\" + 0.026*\"system\" + 0.022*\"unit\" + 0.022*\"percent\" + 0.022*\"method\" + 0.021*\"agronomic\" + 0.018*\"tool\" + 0.018*\"base\" + 0.017*\"weight\"'),\n",
       " (11,\n",
       "  '0.049*\"second\" + 0.042*\"value\" + 0.031*\"oil\" + 0.031*\"crude\" + 0.031*\"sample\" + 0.030*\"area\" + 0.025*\"element\" + 0.025*\"identify\" + 0.024*\"pass\" + 0.024*\"part\"'),\n",
       " (12,\n",
       "  '0.051*\"plant\" + 0.037*\"potato\" + 0.023*\"crop\" + 0.018*\"seed\" + 0.018*\"soil\" + 0.017*\"surfactant\" + 0.017*\"grow\" + 0.016*\"leach\" + 0.014*\"yield\" + 0.012*\"application\"'),\n",
       " (13,\n",
       "  '0.002*\"corn\" + 0.002*\"plant\" + 0.002*\"group\" + 0.002*\"microelement\" + 0.002*\"upright\" + 0.002*\"well\" + 0.002*\"administer\" + 0.002*\"citric\" + 0.002*\"consist\" + 0.002*\"fertilizer\"'),\n",
       " (14,\n",
       "  '0.063*\"acid\" + 0.046*\"rice\" + 0.043*\"content\" + 0.026*\"soybean\" + 0.023*\"less\" + 0.022*\"seed\" + 0.022*\"line\" + 0.021*\"least\" + 0.021*\"produce\" + 0.021*\"linolenic\"'),\n",
       " (15,\n",
       "  '0.037*\"acid\" + 0.034*\"plant\" + 0.021*\"sequence\" + 0.020*\"temperature\" + 0.019*\"starch\" + 0.019*\"amino\" + 0.018*\"include\" + 0.018*\"stress\" + 0.018*\"percent\" + 0.017*\"weight\"'),\n",
       " (16,\n",
       "  '0.135*\"plant\" + 0.075*\"inbreed\" + 0.070*\"corn\" + 0.032*\"invention\" + 0.026*\"seed\" + 0.023*\"produce\" + 0.022*\"temperature\" + 0.020*\"relate\" + 0.016*\"soybean\" + 0.015*\"genetic\"'),\n",
       " (17,\n",
       "  '0.097*\"plant\" + 0.043*\"corn\" + 0.033*\"inbreed\" + 0.033*\"seed\" + 0.024*\"invention\" + 0.021*\"produce\" + 0.015*\"hybrid\" + 0.014*\"relate\" + 0.014*\"male\" + 0.013*\"wqds\"'),\n",
       " (18,\n",
       "  '0.063*\"acid\" + 0.032*\"content\" + 0.028*\"soybean\" + 0.024*\"variety\" + 0.023*\"linolenic\" + 0.020*\"least\" + 0.019*\"less\" + 0.018*\"palmitic\" + 0.016*\"preferably\" + 0.015*\"stearic\"'),\n",
       " (19,\n",
       "  '0.093*\"plant\" + 0.066*\"corn\" + 0.045*\"inbreed\" + 0.024*\"produce\" + 0.021*\"invention\" + 0.017*\"hybrid\" + 0.016*\"method\" + 0.016*\"grain\" + 0.016*\"male\" + 0.015*\"seed\"')]"
      ]
     },
     "execution_count": 25,
     "metadata": {},
     "output_type": "execute_result"
    }
   ],
   "source": [
    "lda_model.print_topics()"
   ]
  },
  {
   "cell_type": "code",
   "execution_count": 26,
   "metadata": {},
   "outputs": [
    {
     "name": "stderr",
     "output_type": "stream",
     "text": [
      "/opt/anaconda3/envs/tensorflow_env/lib/python3.7/site-packages/ipykernel/ipkernel.py:287: DeprecationWarning: `should_run_async` will not call `transform_cell` automatically in the future. Please pass the result to `transformed_cell` argument and any exception that happen during thetransform in `preprocessing_exc_tuple` in IPython 7.17 and above.\n",
      "  and should_run_async(code)\n"
     ]
    },
    {
     "data": {
      "text/plain": [
       "[(60, 0.035657827),\n",
       " (191, 0.022740817),\n",
       " (88, 0.020993179),\n",
       " (213, 0.019355852),\n",
       " (65, 0.017147256),\n",
       " (40, 0.016265914),\n",
       " (112, 0.016248342),\n",
       " (51, 0.016225882),\n",
       " (62, 0.016211143),\n",
       " (244, 0.01621113)]"
      ]
     },
     "execution_count": 26,
     "metadata": {},
     "output_type": "execute_result"
    }
   ],
   "source": [
    "lda_model.get_topic_terms(0)"
   ]
  },
  {
   "cell_type": "code",
   "execution_count": 27,
   "metadata": {},
   "outputs": [
    {
     "name": "stdout",
     "output_type": "stream",
     "text": [
      "\n",
      "Perplexity:  -6.044298976422564\n"
     ]
    },
    {
     "name": "stderr",
     "output_type": "stream",
     "text": [
      "/opt/anaconda3/envs/tensorflow_env/lib/python3.7/site-packages/ipykernel/ipkernel.py:287: DeprecationWarning: `should_run_async` will not call `transform_cell` automatically in the future. Please pass the result to `transformed_cell` argument and any exception that happen during thetransform in `preprocessing_exc_tuple` in IPython 7.17 and above.\n",
      "  and should_run_async(code)\n"
     ]
    },
    {
     "name": "stdout",
     "output_type": "stream",
     "text": [
      "\n",
      "Coherence Score:  0.3826655316915969\n"
     ]
    }
   ],
   "source": [
    "# Compute Perplexity\n",
    "print('\\nPerplexity: ', lda_model.log_perplexity(corpus))  # a measure of how good the model is. lower the better.\n",
    "\n",
    "# Compute Coherence Score\n",
    "coherence_model_lda = CoherenceModel(model=lda_model, texts=data_lemmatized, dictionary=id2word, coherence='c_v')\n",
    "coherence_lda = coherence_model_lda.get_coherence()\n",
    "print('\\nCoherence Score: ', coherence_lda)"
   ]
  },
  {
   "cell_type": "code",
   "execution_count": 28,
   "metadata": {},
   "outputs": [
    {
     "name": "stderr",
     "output_type": "stream",
     "text": [
      "/opt/anaconda3/envs/tensorflow_env/lib/python3.7/site-packages/ipykernel/ipkernel.py:287: DeprecationWarning: `should_run_async` will not call `transform_cell` automatically in the future. Please pass the result to `transformed_cell` argument and any exception that happen during thetransform in `preprocessing_exc_tuple` in IPython 7.17 and above.\n",
      "  and should_run_async(code)\n"
     ]
    },
    {
     "data": {
      "text/html": [
       "\n",
       "<link rel=\"stylesheet\" type=\"text/css\" href=\"https://cdn.rawgit.com/bmabey/pyLDAvis/files/ldavis.v1.0.0.css\">\n",
       "\n",
       "\n",
       "<div id=\"ldavis_el3751145680293923254806997\"></div>\n",
       "<script type=\"text/javascript\">\n",
       "\n",
       "var ldavis_el3751145680293923254806997_data = {\"mdsDat\": {\"x\": [-0.2876691659321267, -0.16974436616061578, -0.19849183220416405, -0.16617911331066823, 0.09181157941982936, -0.033231673623205366, 0.10279781447119335, 0.033587550101847816, -0.009591109709065813, 0.13059954674253116, 0.1729249475990362, 0.037552666752672395, 0.0531457655009098, -0.009199233343129666, 0.07172200788014299, 0.080138482422172, -0.032098501607351226, -0.05960098883313416, 0.10583486575533496, 0.0856907580777902], \"y\": [-0.007070977239855979, 0.0026683530604032996, -0.0355370599263515, 0.03753400526476672, -0.18435928326755752, 0.06397949019350341, -0.1045550626229922, -0.16552459552400464, 0.04521747695271528, -0.03725319199753391, 0.2009638874954616, 0.015555369958513662, -0.04004657150751064, 0.08573735401991625, 0.07974522816661393, 0.03767882416597756, 0.0548047841944393, -0.033424242147262195, -0.08680373510260121, 0.0706899458633585], \"topics\": [1, 2, 3, 4, 5, 6, 7, 8, 9, 10, 11, 12, 13, 14, 15, 16, 17, 18, 19, 20], \"cluster\": [1, 1, 1, 1, 1, 1, 1, 1, 1, 1, 1, 1, 1, 1, 1, 1, 1, 1, 1, 1], \"Freq\": [27.535923877817826, 9.964002589135383, 6.946078663345386, 6.727125407722923, 6.7181254264297126, 6.404307635210143, 5.846786761409506, 5.246852431887772, 5.2384200890504555, 5.01019542408478, 4.349756363253871, 2.609811791477649, 2.397603613497219, 1.6483419409940174, 1.5583184507428147, 1.4575567460013543, 0.11719396295699859, 0.07906106909275894, 0.07621779207424903, 0.0683199638151851]}, \"tinfo\": {\"Term\": [\"inbreed\", \"corn\", \"plant\", \"acid\", \"invention\", \"seed\", \"soybean\", \"content\", \"dsq\", \"relate\", \"produce\", \"less\", \"composition\", \"genetic\", \"hybrid\", \"percent\", \"linolenic\", \"line\", \"preferably\", \"palmitic\", \"provide\", \"profile\", \"variety\", \"method\", \"designate\", \"least\", \"oil\", \"rice\", \"also\", \"second\", \"dsq\", \"stature\", \"introduction\", \"insculant\", \"replicating\", \"reduction\", \"inbreed\", \"thereof_accorde\", \"bacterial\", \"crosse\", \"rflp\", \"tissue_culture\", \"cell\", \"crossing\", \"isi\", \"profile\", \"wqds\", \"complement\", \"thus\", \"modify\", \"corn\", \"genetic\", \"cattle\", \"dairy\", \"relate\", \"site\", \"produce\", \"calcium\", \"delivery\", \"stabilize\", \"seed\", \"plant\", \"invention\", \"designate\", \"also\", \"hybrid\", \"method\", \"provide\", \"composition\", \"production\", \"line\", \"safflower\", \"alfalfa\", \"recovery\", \"citric\", \"fast\", \"administer\", \"ion\", \"sterility\", \"trait\", \"high\", \"grain\", \"harvest\", \"selective\", \"female\", \"quality\", \"group\", \"morphologically\", \"standability\", \"identifiable\", \"dwarfism\", \"dwarf\", \"annual\", \"forage\", \"molar\", \"microelement\", \"green\", \"identification\", \"utilize\", \"fertility\", \"dhb\", \"male\", \"dha\", \"sterile\", \"select\", \"medium\", \"self\", \"corn\", \"growth\", \"plant\", \"deficiency\", \"maturity\", \"production\", \"genotype\", \"hybrid\", \"inbreed\", \"produce\", \"gene\", \"invention\", \"method\", \"genetic\", \"relate\", \"yield\", \"seed\", \"provide\", \"use\", \"acid\", \"composition\", \"lcl\", \"water\", \"temperature\", \"object\", \"mean\", \"irrigation\", \"detection\", \"measure\", \"light\", \"deficit\", \"setpoint\", \"rotate\", \"beam\", \"filament\", \"small\", \"detect\", \"continuously\", \"predetermine\", \"canopy\", \"station\", \"repeatedly\", \"measurement\", \"manage\", \"interest\", \"desire\", \"position\", \"management\", \"counting\", \"humidity\", \"state\", \"plant\", \"stachyose\", \"inbreed\", \"corn\", \"product\", \"useful\", \"invention\", \"dha\", \"soybean\", \"produce\", \"genetic\", \"thus\", \"relate\", \"seed\", \"provide\", \"hybrid\", \"designate\", \"line\", \"profile\", \"tissue_culture\", \"method\", \"thereof_accorde\", \"increase\", \"crosse\", \"use\", \"crossing\", \"complement\", \"dehiscent\", \"harvesting\", \"find\", \"retention\", \"shatter\", \"mechanized\", \"degree\", \"suitable\", \"recombinant\", \"resistance\", \"fertile\", \"make\", \"non\", \"zea\", \"stably\", \"micronutrient\", \"boron\", \"fertility\", \"cotton\", \"female\", \"planting\", \"medium\", \"dwell\", \"ground\", \"may\", \"check\", \"standard\", \"bee\", \"event\", \"sexual\", \"male\", \"wqds\", \"grow\", \"transgenic\", \"plant\", \"variety\", \"seed\", \"corn\", \"invention\", \"inbreed\", \"produce\", \"hybrid\", \"designate\", \"relate\", \"provide\", \"genetic\", \"method\", \"endogenous\", \"atcc\", \"stachyose\", \"accession\", \"descendent\", \"vegetable\", \"percent\", \"less\", \"carbohydrate\", \"improved\", \"significantly\", \"\\u03bcmol\", \"lowerstachyose\", \"function\", \"soybean\", \"likewise\", \"germination\", \"linolenic\", \"chromatography\", \"gas\", \"total\", \"combination\", \"mature\", \"content\", \"palmitic\", \"product\", \"weight\", \"preferably\", \"low\", \"acid\", \"reduce\", \"oil\", \"improve\", \"base\", \"fatty\", \"seed\", \"provide\", \"form\", \"plant\", \"protein\", \"method\", \"use\", \"event\", \"potato\", \"brome\", \"polynucleotide\", \"tam\", \"leach\", \"name\", \"specific\", \"relatively\", \"cold\", \"previous\", \"northern\", \"application\", \"tall\", \"strain\", \"well\", \"commodity\", \"distinct\", \"weed\", \"surfactant\", \"present\", \"bermudgrass\", \"superior\", \"upright\", \"agent\", \"soil\", \"crop\", \"japanese\", \"bacteria\", \"top\", \"starch\", \"control\", \"induce\", \"part\", \"herbicide\", \"metal\", \"variety\", \"yield\", \"plant\", \"invention\", \"shoot\", \"comprise\", \"provide\", \"also\", \"bacterial\", \"method\", \"seed\", \"use\", \"relate\", \"sequence\", \"list\", \"salt\", \"amino\", \"seq\", \"show\", \"stress\", \"residue\", \"organ\", \"starch\", \"introduce\", \"deletion\", \"impart\", \"substitution\", \"addition\", \"tolerant\", \"amylose\", \"temperature\", \"store\", \"several\", \"tolerance\", \"glucose\", \"extract\", \"epimerase\", \"mutableness\", \"neem\", \"granule\", \"consist\", \"ethyl\", \"approach\", \"biotechnology\", \"deficit\", \"period\", \"coat\", \"additionally\", \"fertilizer\", \"nitrogenous\", \"weight\", \"work\", \"protein\", \"acid\", \"gene\", \"include\", \"percent\", \"activity\", \"plant\", \"content\", \"composition\", \"invention\", \"less\", \"base\", \"use\", \"palmitic\", \"method\", \"preferably\", \"cheniere\", \"rice\", \"cultivar\", \"aspect\", \"stearic\", \"least\", \"still\", \"accordance\", \"variety\", \"fatty\", \"crush\", \"elevate\", \"concentration\", \"linolenic\", \"saturated\", \"characteristic\", \"palmitic\", \"total\", \"acid\", \"negate\", \"saturate\", \"elevated\", \"line\", \"low\", \"extraction\", \"content\", \"novel\", \"disclose\", \"gas\", \"endogenously\", \"preferably\", \"less\", \"form\", \"soybean\", \"exhibit\", \"designate\", \"produce\", \"seed\", \"invention\", \"composition\", \"hybrid\", \"relate\", \"plant\", \"method\", \"alcohol\", \"sugar\", \"homozygous\", \"fermentable\", \"dehydrogenase\", \"stover\", \"cinnamyl\", \"mutation\", \"alteration\", \"comparison\", \"type\", \"midrib\", \"appropriate\", \"activity\", \"early\", \"optimization\", \"result\", \"full\", \"excess\", \"short\", \"agent\", \"shoot\", \"otaine\", \"exposure\", \"affect\", \"even\", \"step\", \"increase\", \"season\", \"maturity\", \"growth\", \"reduce\", \"induce\", \"metal\", \"yield\", \"include\", \"method\", \"grain\", \"use\", \"plant\", \"gene\", \"also\", \"hybrid\", \"provide\", \"input\", \"computer\", \"remote\", \"system\", \"program\", \"simulation\", \"infer\", \"model\", \"sensing\", \"sense\", \"assembly\", \"nitrogenous\", \"coat\", \"unit\", \"tool\", \"neem\", \"apparatus\", \"instruction\", \"local\", \"processor\", \"support\", \"work\", \"configure\", \"storage\", \"controller\", \"fertilizer\", \"omnidirectional\", \"rail\", \"agronomic\", \"additionally\", \"base\", \"include\", \"composition\", \"percent\", \"weight\", \"method\", \"use\", \"farming\", \"mix\", \"content\", \"acid\", \"second\", \"crude\", \"sample\", \"element\", \"pass\", \"value\", \"region\", \"overlap\", \"impurity\", \"indicate\", \"farmable\", \"sub_region\", \"sub\", \"aggregate\", \"identify\", \"wherein\", \"datum\", \"analysis\", \"perform\", \"thermal\", \"multi\", \"thermogram\", \"peak\", \"scan\", \"range\", \"information\", \"analyze\", \"distillation\", \"environmental\", \"compound\", \"first\", \"area\", \"agronomic\", \"part\", \"oil\", \"determine\", \"obtain\", \"presence\", \"station\", \"include\", \"object\", \"therein\", \"leave\", \"generation\", \"possess\", \"procedure\", \"intensive\", \"flag\", \"parent\", \"oryza\", \"whereby\", \"commercial\", \"route\", \"labor\", \"implement\", \"upwardly\", \"panicle\", \"tip\", \"scale\", \"separated\", \"marker\", \"absence\", \"basis\", \"filial\", \"clipping\", \"readily\", \"long\", \"extend\", \"photosynthesis\", \"height\", \"characteristic\", \"efficient\", \"great\", \"pollination\", \"trait\", \"sequence\", \"high\", \"hybrid\", \"rice\", \"amino\", \"grain\", \"form\", \"gene\", \"quality\", \"stress\", \"cross\", \"plant\", \"seed\", \"acid\", \"use\", \"corn\", \"salt\", \"protein\", \"production\", \"capable\", \"factor\", \"defective\", \"hybridization\", \"elevated\", \"concentration\", \"component\", \"endogenously\", \"unable\", \"elevate\", \"gametophytic\", \"say\", \"confer\", \"extraction\", \"responsible\", \"germinate\", \"endosperm\", \"carry\", \"saturate\", \"stearic\", \"phenotype\", \"saturated\", \"negate\", \"process\", \"expression\", \"express\", \"simultaneously\", \"crush\", \"embodiment\", \"mature\", \"fatty\", \"form\", \"comprise\", \"obtain\", \"acid\", \"soybean\", \"oil\", \"palmitic\", \"use\", \"seed\", \"genetic\", \"relate\", \"plant\", \"weight\", \"invention\", \"composition\", \"male\", \"content\", \"potato\", \"surfactant\", \"crop\", \"leach\", \"moisture\", \"believe\", \"technique\", \"minimize\", \"nitrate\", \"maintenance\", \"adjacent\", \"acreage\", \"alternative\", \"present\", \"zone\", \"top\", \"apply\", \"soil\", \"grow\", \"application\", \"dwell\", \"nitrogen\", \"cottonseed\", \"advantageous\", \"bee\", \"transfer\", \"immediately\", \"planting\", \"reliable\", \"economical\", \"cytoplasmically\", \"involve\", \"root\", \"yield\", \"cotton\", \"result\", \"improve\", \"factor\", \"plant\", \"seed\", \"invention\", \"capable\", \"reduce\", \"male\", \"level\", \"hybrid\", \"process\", \"cad\", \"digestibility\", \"maize\", \"due\", \"presence\", \"cyanamide\", \"synergistically\", \"silage\", \"stabilize\", \"inhibition\", \"manure\", \"alone\", \"controllable\", \"calibrate\", \"effectiveness\", \"release\", \"calcium\", \"level\", \"clog\", \"organism\", \"efficiency\", \"fertilizing\", \"example\", \"facilitate\", \"odor\", \"delivery\", \"amend\", \"target\", \"active\", \"stable\", \"activity\", \"composition\", \"improve\", \"reduce\", \"use\", \"site\", \"method\", \"relate\", \"invention\", \"direct\", \"effective\", \"calcium\", \"salt\", \"inhibition\", \"calibrate\", \"sequence\", \"stabilize\", \"impart\", \"delivery\", \"effectiveness\", \"addition\", \"easily\", \"fertilizing\", \"release\", \"organism\", \"site\", \"clog\", \"tolerant\", \"manure\", \"controllable\", \"seq\", \"example\", \"cyanamide\", \"several\", \"time\", \"consist\", \"amend\", \"substitution\", \"stable\", \"efficiency\", \"amino\", \"show\", \"derive\", \"stress\", \"composition\", \"gene\", \"protein\", \"list\", \"acid\", \"method\", \"material\", \"plant\", \"comprise\", \"tolerance\", \"recombinant\", \"fertile\", \"stably\", \"zea\", \"storage\", \"wherein\", \"transgenic\", \"express\", \"bee\", \"dwell\", \"possible\", \"cattle\", \"summer\", \"immediately\", \"dairy\", \"cotton\", \"cottonseed\", \"transfer\", \"progeny\", \"ground\", \"encourage\", \"source\", \"overall\", \"economical\", \"blossom\", \"applied\", \"encode\", \"section\", \"population\", \"restore\", \"may\", \"planting\", \"follow\", \"say\", \"milk\", \"feed\", \"protein\", \"season\", \"grow\", \"wild\", \"capable\", \"corn\", \"seed\", \"improve\", \"plant\", \"line\", \"exhibit\", \"provide\", \"amino\", \"gene\", \"comprise\", \"hybrid\", \"inbreed\", \"preferably\", \"profile\", \"dsq\", \"elevate\", \"stearic\", \"saturated\", \"elevated\", \"crush\", \"negate\", \"extraction\", \"component\", \"accordance\", \"aspect\", \"saturate\", \"still\", \"embodiment\", \"concentration\", \"fatty\", \"endogenously\", \"expression\", \"acreage\", \"believe\", \"alternative\", \"nitrate\", \"simultaneously\", \"top\", \"moisture\", \"minimize\", \"adjacent\", \"maintenance\", \"palmitic\", \"least\", \"linolenic\", \"acid\", \"form\", \"inbreed\", \"invention\", \"complement\", \"corn\", \"relate\", \"genetic\", \"soybean\", \"plant\", \"profile\", \"preferably\", \"content\", \"low\", \"thus\", \"tissue_culture\", \"also\", \"seed\", \"produce\", \"designate\", \"provide\", \"rflp\", \"thereof_accorde\", \"crossing\", \"method\", \"hybrid\", \"upright\", \"superior\", \"bermudgrass\", \"distinct\", \"well\", \"tall\", \"northern\", \"previous\", \"cold\", \"stearic\", \"relatively\", \"variety\", \"aspect\", \"elevated\", \"name\", \"accordance\", \"saturate\", \"least\", \"endogenously\", \"negate\", \"linolenic\", \"concentration\", \"elevate\", \"relative\", \"still\", \"extraction\", \"saturated\", \"crush\", \"acid\", \"tolerance\", \"palmitic\", \"fatty\", \"low\", \"content\", \"soybean\", \"preferably\", \"less\", \"line\", \"exhibit\", \"total\", \"form\", \"oil\", \"composition\", \"growth\", \"vegetable\", \"hybrid\", \"also\", \"plant\", \"invention\", \"provide\", \"stably\", \"upright\", \"superior\", \"zea\", \"continuously\", \"predetermine\", \"canopy\", \"utilize\", \"identification\", \"green\", \"microelement\", \"molar\", \"forage\", \"annual\", \"dwarf\", \"dwarfism\", \"identifiable\", \"standability\", \"morphologically\", \"group\", \"repeatedly\", \"measurement\", \"manage\", \"interest\", \"management\", \"humidity\", \"state\", \"cool\", \"stressed\", \"undesired\", \"corn\", \"plant\", \"tube\", \"manure\", \"organism\", \"organic\", \"odor\", \"non\", \"nitrogen\", \"metal\", \"material\", \"ionic\", \"site\", \"inhibition\", \"fertilizing\", \"facilitate\", \"example\", \"enhance\", \"efficiency\", \"effectiveness\", \"release\", \"stabilize\", \"easily\", \"stable\", \"grow\", \"crop\", \"believe\", \"apply\", \"alternative\", \"adjacent\"], \"Freq\": [124.0, 120.0, 224.0, 32.0, 61.0, 69.0, 23.0, 26.0, 8.0, 43.0, 50.0, 16.0, 20.0, 26.0, 28.0, 15.0, 9.0, 12.0, 12.0, 9.0, 31.0, 13.0, 6.0, 38.0, 19.0, 7.0, 11.0, 8.0, 23.0, 6.0, 8.192213363367378, 3.4873733316668205, 3.486137144240807, 1.786076943229308, 1.7858690808653868, 1.7855144921269333, 90.60812094143483, 9.188673993378764, 6.888176684713307, 8.997221592244143, 8.802731884274392, 8.689137317463585, 5.186900674938924, 8.641214498836671, 5.170835554573741, 8.79669412940353, 6.392338647553253, 7.914164757159004, 8.449397053823382, 3.4866783306512206, 78.05316894887785, 16.456458744284255, 3.4881611885039843, 3.4882083252378315, 25.554795364450218, 1.7554389522573215, 28.96184415752572, 2.7326989830738397, 1.6199121593634596, 2.7181950455101442, 38.33815566630126, 116.4438313925698, 30.581782720548365, 9.935969848272727, 11.400447210128213, 10.95993564851291, 13.354820545386717, 11.438123991345135, 6.20199768098514, 3.8278362896621583, 3.488239513452708, 2.2046190976162734, 1.660363416379023, 1.1159882103661114, 1.1159750010829643, 1.1159422984887652, 1.1159248571051923, 1.1158865117104253, 2.1988852427666856, 1.8804317408010534, 2.901678612090155, 4.363699768687468, 1.604218833185082, 1.8771212123043577, 1.8173826781306615, 2.034674359936981, 0.5716076821663008, 0.5716012057701946, 0.5715987691063131, 0.5715985126153782, 0.5715977431425735, 0.5715974866516387, 0.5715890224507871, 0.5715840208775567, 0.5715795964089296, 0.5715771597450482, 0.5715765826404446, 0.5715749795721016, 0.5715739536083619, 2.3023970328715104, 1.9337168348073124, 4.316179693179386, 1.9088408049955417, 1.3287179444043804, 1.0746175691448823, 1.619974814824775, 0.8031564767115179, 18.141417099755092, 1.8226543363155676, 25.668026624395978, 0.7822938888035238, 1.1529005902797214, 2.474402418721753, 0.7725446042454137, 4.686861418254041, 12.268348204379546, 6.666029600934035, 1.9339319024562223, 5.9144275456455695, 4.445813289566769, 3.282089807798199, 3.795350996217215, 2.19826043084928, 4.053882060008831, 2.9488254932879636, 2.1416106887590622, 2.1341843784755667, 1.7951152893722448, 2.529414554804607, 1.2439082282915315, 4.268624736808804, 1.507418160482195, 1.1765826094603304, 0.8111228631636085, 1.0980499859899746, 0.7708991439641834, 0.7769708005639486, 1.0054316091318636, 0.748653121297632, 0.7454366112828139, 0.7297374175638168, 0.7257115500203939, 0.7202640097254106, 0.6908946484434368, 0.4324119324098203, 0.4290016879683496, 0.4271075696341191, 0.8737438734420891, 0.4143336137739482, 0.4127424345743336, 0.4079358628865892, 0.4076660919440767, 1.3851202416345554, 0.40771866039948595, 0.3989811215346738, 0.404014819346512, 0.39627728806329826, 0.3943550527575947, 25.933510996199168, 1.0418349962963451, 14.46161641349697, 13.41418815142551, 1.4373977824963262, 1.2511198515153152, 6.158036227433137, 1.0085511178301527, 3.07481156445821, 4.473006957745919, 2.943610355187376, 1.8492393564568315, 3.8481246554708703, 4.985392407836691, 2.8262793507566926, 2.3751107610113102, 1.9308327514227488, 1.4912517512054282, 1.4955494906415374, 1.4600808027990004, 2.0486568980303668, 1.4166178654424546, 1.2854458906697819, 1.3541467825444524, 1.3979340708469585, 1.2869179862255102, 1.246881206890474, 1.5777075867233348, 1.5777074135553062, 1.5776842090394783, 1.5776750311339645, 1.5776713946053644, 1.5776211758770804, 1.8716894074427046, 1.905096983513633, 0.968079066398747, 1.577644380392908, 1.1761761253345289, 1.8504314734239866, 1.5776447267289653, 0.5638078270459862, 0.539140517588856, 0.9732468332912241, 0.7304953884788393, 1.807115222758519, 2.3498234779479104, 1.2446710073534748, 0.9371813877338523, 1.525667303946747, 1.0475682133833115, 0.6451800464651831, 1.1601135785088441, 0.5699833452807024, 0.39058412495892836, 1.000080691245749, 1.6498282609243928, 0.5427071295972059, 2.637045165168126, 2.495297609545387, 1.7466156817864882, 1.04997369046812, 18.062949258072024, 1.5776552899787077, 6.058317420310696, 7.913398628469705, 4.4874399269700564, 6.079856752375834, 3.8355758976462804, 2.838067444296849, 2.273144501730913, 2.65382982267293, 2.3312487825318207, 1.851030807970853, 1.8214722376708583, 4.165800518326041, 1.1273697520855879, 2.537967918978515, 1.0719963099939498, 1.067871345628458, 3.0885495372391047, 8.508514926009509, 8.733877972343297, 1.2999561686078867, 1.2999527963489987, 1.299959022057715, 1.2999527963489987, 1.299953401626235, 1.299916652651173, 12.717144515704545, 0.9281226891352902, 1.0649876319382967, 4.209361802214625, 1.0361277539062328, 1.0405808650019843, 2.0982269164046543, 2.1492991719868564, 0.9811836263114958, 10.209375780345706, 3.8368454835512873, 2.5446726613933612, 3.8159627271529817, 4.328060126983204, 3.0081113053871023, 9.589167911037245, 3.3271207704874226, 3.162321072673972, 2.5379788139687687, 2.0730176383211636, 2.0613530812955934, 5.208254975778952, 3.572337947790487, 1.8282748254350174, 3.6669524642624167, 1.4373719136959406, 1.3832255414986676, 1.308500867352956, 3.4367044949411096, 3.4737352582362195, 1.9800025451439276, 1.2556050331055195, 1.2383288076061054, 1.5440055409710869, 0.6909965950906358, 1.5592916815317288, 0.667522569338402, 0.6544215821010583, 0.6520341890644984, 0.6464595525501172, 2.6002756610982853, 0.6248864647018515, 1.391004830243245, 0.6222440361353011, 1.1474871136352438, 0.6153780658740448, 1.3756265339868923, 1.4157645433513377, 1.4491743626382305, 0.5916971431663242, 0.5668601940234541, 0.5526110111122243, 2.926859620316942, 2.657266622708589, 1.8467473874435951, 0.8869579336875987, 0.8671240167014113, 0.5998614948595927, 2.65808300017757, 2.291743337602256, 3.20857381207045, 2.204640378774827, 0.8977599330615936, 1.8549118215659297, 1.7317890095079687, 2.2443898175224737, 10.68235127678227, 5.234099292597963, 1.0901167310344595, 1.6408117197236505, 2.6198507508174496, 2.174697526000992, 1.4123819842017928, 2.0682797884446096, 2.3931338912856384, 1.6829977616602176, 1.4249665945556118, 3.4437449261724287, 1.4338242697570285, 2.072889141527924, 3.058550464435324, 1.3710439178506577, 1.3733122022906026, 2.846149880767417, 0.9605250709931511, 0.9895828467097346, 3.0998476597712417, 0.9447055517140088, 0.9215082006223723, 1.226326061175055, 0.8928370762710742, 0.8524382546211782, 0.8303970197079927, 0.8616590393211467, 3.1760003694643997, 1.1614537432695458, 0.7924837387245071, 0.9522207207669947, 0.45111791749203173, 0.7408460650988808, 0.44575465367766454, 0.46279594762420534, 1.279978867198427, 0.4603633852686477, 1.0591758782773164, 0.4575158386869578, 0.45764211369492763, 0.706254162990102, 0.7581337759188409, 0.6080018970898511, 1.1853629904132652, 1.1675752215313506, 1.2980944393787421, 1.1704840619116053, 2.7039142536137963, 1.154216183575559, 1.641868139890128, 5.899578004772173, 1.894084181762292, 2.9396511811860457, 2.835915735365826, 1.5378026331730332, 5.490738359659505, 2.26249339884643, 1.9319216826903394, 2.626418724348401, 1.6658406750443973, 1.2594916878213473, 1.454849585356988, 1.2528318475768152, 1.3042712288031562, 1.235348628729021, 3.0289902874465473, 6.634303357802879, 1.042780565891413, 1.4809118138315602, 1.9332403652191266, 3.1076613605737498, 0.5454635089553702, 0.5053657094505292, 2.3714545419647526, 2.4911462001525497, 0.4653118054860475, 0.6866889348456431, 1.3621094117598425, 3.086854334190623, 0.40744387567494, 0.6260600768433345, 2.7833689420646883, 1.4464588119879276, 9.075406480934577, 0.38126653382105197, 0.3788392117365819, 0.550350602058376, 3.1772888718813213, 2.2553199082412734, 0.3488475162544696, 6.289612884283639, 1.0427520000243793, 1.524447140633541, 0.570105283510088, 1.0171729206197886, 2.566773759106038, 3.297731481467266, 1.827927940610638, 3.7287881189335, 1.1322896505281355, 2.0545144238710775, 3.094437862806302, 3.190182545311669, 2.982045020006253, 1.6689543659500785, 1.8802371080196414, 2.1040597929958564, 2.825855773236486, 1.6073627099186887, 3.1475321610851044, 1.5950630053134844, 1.5946843573585867, 1.5944653672308253, 1.5929958140212541, 1.5919189327649104, 1.5903067123415635, 2.3696867786603946, 2.0787147037807574, 0.8155329226663687, 0.8151127421010333, 0.8148740644371555, 1.013648126645013, 3.1471376012859484, 2.04339796091055, 0.5733202672864983, 2.0917199395393453, 0.5421517961529433, 0.7843945222215394, 0.5315017493253583, 2.383858298664677, 1.3554299565494239, 0.4781183883379059, 0.8245733448587593, 0.4701093705418914, 0.45971553137609616, 0.4989599714130755, 3.2249284503276674, 1.3208341011318103, 1.0259440042957875, 1.826893721699219, 3.6126388747613434, 2.786384268256692, 2.2047440616919833, 2.7973035691098973, 3.1156205528862215, 4.27560316886999, 1.6401838714774226, 2.522865788260796, 9.111647382983652, 1.5880716376077921, 2.015864671959379, 1.6242460019143063, 1.4920768296574947, 1.9348598542597077, 1.934826450710132, 1.9348260637964303, 3.62701080701507, 2.1160609556417613, 0.9910133490151993, 0.991010511648054, 0.9909844594588096, 0.9909842015163418, 0.990971949249123, 2.338581989906428, 2.244597040581465, 2.223985631809715, 3.095467216035591, 2.5540446864831554, 2.0926783419675714, 1.9347686715973524, 1.2402884984646039, 1.2351956823810388, 1.2367824154714993, 1.2278118212987794, 2.013954816690431, 1.149213527089739, 0.9909874902828059, 1.106344907630661, 2.0673828269524313, 0.7025437126175706, 1.0553821825043306, 2.8784800794743686, 1.699606392872427, 2.4950323507652623, 4.4803064154935965, 3.6448013569593347, 3.0664860900697817, 2.380128267304505, 3.0241634058437294, 2.037834614471239, 1.1763221197108038, 1.1822241013157497, 1.3027652594670571, 1.3134082236295357, 5.8470874495012035, 3.7786318952788704, 3.7785665045816423, 3.030346664050636, 2.9152355231507037, 5.099393197896207, 2.8577768070724883, 2.208941420817263, 1.533910678010899, 1.4879863658600458, 1.4686748358070219, 1.4653385666039147, 1.4620276027048718, 1.4575527067892395, 2.967709766150468, 1.5047413883803358, 2.1349706579259244, 1.5339013844700258, 0.785680816131602, 0.7856761133759795, 0.7856751056426318, 0.7856729782055645, 0.7856704028870092, 0.7856660920276884, 0.7856601575979743, 0.7856542231682601, 0.7856499682941254, 0.7856441458347831, 0.7856387152717428, 0.7856268464123143, 2.891949044892877, 3.5661334036575476, 2.8596827667440983, 2.898735345197009, 3.7786945986871716, 2.2328173111131204, 1.497232879177021, 1.029387745812552, 0.9706864945166267, 1.7336695166210145, 0.7891910313075589, 0.785684287213133, 0.8527499111596714, 0.8051008133062741, 1.2014245358738997, 0.7490321717327408, 0.4945940119674991, 0.7166638275649896, 1.0974098558022267, 0.4356382272541168, 0.4262672642102605, 0.41860233266027613, 0.4206367119824691, 0.4150506336702478, 0.4132002970847679, 0.40415573361613366, 0.3944952534436534, 0.3973451446406268, 0.3734455543790464, 0.36784274796263033, 0.36771288681641146, 0.36631273105908085, 0.7283497183772935, 0.34748729881267704, 0.35893452862035463, 0.33905146366576494, 0.506188066159585, 0.3417655481855105, 0.33575713562822723, 0.32566021317100263, 0.4567988423830835, 0.3028692125133179, 0.41796891526910984, 0.6281342662109324, 0.58286391821026, 0.8504499647857438, 0.6886852335349682, 1.6566169428051545, 0.9133728294860871, 0.7358795150614634, 0.8279994381523927, 0.8052578156335961, 0.7647996527874275, 0.5760381127062385, 0.6377717368425022, 0.5414733147128008, 1.6605291693902078, 1.0659868846554748, 0.7143920300892853, 0.564742342781722, 0.6884117391085549, 0.4633741294110314, 0.47817957652166526, 0.48542224100772907, 0.4778939223086686, 1.7844286037935722, 0.9387019330344334, 0.5655761414246974, 0.611641000632108, 1.2762181078493073, 0.41154819954833144, 1.3165885686083443, 0.5041952426812906, 0.5873685223244149, 0.4811505310901229, 1.1988125791274156, 0.4809594505213619, 0.3732041741427872, 0.4555008346456026, 0.45667030821057925, 0.4249224815539419, 0.4290120130677249, 0.29571890508018533, 0.8748463372544228, 0.8531059233569329, 0.2850581399628649, 0.2788159895610825, 0.9708837643937605, 0.3772936747973053, 0.41965094761360006, 0.3801009729918719, 0.2424902063741788, 0.36579893804387925, 0.3900326571147564, 1.0729219607642007, 1.193461952890928, 0.9616883206147874, 0.7300565175204985, 2.151814818991003, 1.4126656807624471, 0.8209631598270715, 0.7524895984797471, 0.9632869539778518, 1.6438902032775198, 0.8689749300621196, 0.9656367018505483, 1.3384893889652045, 0.5965444013293902, 0.7095668296326795, 0.5874396220709307, 0.5353968294885031, 0.5579768622675902, 1.6712319316893753, 0.7828763380861598, 1.0569518798518238, 0.722248068012005, 0.3135330314486371, 0.27910158317818096, 0.5497613906835925, 0.27326166857424417, 0.2713327454064243, 0.27014630490583047, 0.26742256016344834, 0.2604245491125056, 0.2585075703325375, 0.526535348173157, 0.3237396699850385, 0.22232133661271145, 0.2777401563347783, 0.8189473710492627, 0.7704826036363467, 0.5572853366809745, 0.3329779008342611, 0.2490987023403456, 0.19456149724914934, 0.1277408152279724, 0.28336515681981916, 0.11299317713919804, 0.1710202756518118, 0.22857591029402435, 0.1113835913176389, 0.1093904909326759, 0.16902233810800296, 0.2605484482689076, 0.28335507940555704, 0.6488584394157542, 0.42380635690969953, 0.3311787111153108, 0.49870407585418297, 0.31307719287424446, 2.3211748281733904, 0.8207892253578577, 0.5148795774658588, 0.3246859285764497, 0.313304942436569, 0.2989943565004417, 0.28639120277445673, 0.30054362634569076, 0.279612730845166, 0.6982445469233385, 0.6982430225968438, 0.6982392518944623, 0.6982195961054526, 0.698217750868117, 0.9794907277270337, 0.30695968341701746, 0.6982280200150282, 0.833693792405405, 0.26785226486309544, 0.26961466708788073, 0.265719431243186, 0.4193665276706259, 0.23615154874661076, 0.23697420368745284, 0.23616703269468786, 0.6778891722802279, 0.7006042043370353, 0.22538623356137324, 0.22423031271217753, 0.22319401137895564, 0.2149690264108845, 0.2075997301433484, 0.2745256058011923, 0.1954674551171183, 0.30735961855258387, 0.18829297178698223, 0.23939088294620564, 0.236536962666623, 0.18180054433548565, 0.6998473361185933, 1.5358512052127642, 0.6982188740560603, 0.6988799503884711, 0.9042165972243288, 0.2793514028570074, 0.7385653093100634, 0.6982336359547453, 0.6982451085173101, 0.25362801217839764, 0.2515506359631943, 0.8396669393646865, 0.6785973983845921, 0.23893500224285705, 0.24192071823553388, 0.9072013426606677, 0.69870305413346, 0.3926844334971245, 0.4071028342843647, 0.2320529581151967, 0.2798548990563543, 0.23481587992159347, 0.2238677293341067, 0.22059475967181716, 0.22273152776017172, 0.38199541528544495, 0.2173985560764069, 0.259938419509444, 0.20489208434732872, 0.34838054512891564, 0.3341150011141417, 0.2119747858189139, 0.5906906841895423, 0.2458812619733834, 0.15885897091053186, 0.3830753555117331, 0.2061707496338446, 0.23848245389698017, 0.20569493884345885, 0.19953087880954307, 0.682980793331498, 0.30414798241717667, 0.2809329069989453, 0.47981864693412113, 1.179687712338552, 0.5514970295989258, 0.4695489905648215, 0.27759650965529736, 0.703279227209215, 0.6486367956199028, 0.23860700177528207, 0.4195698536579573, 0.27495550932217727, 0.24058415947824838, 0.04279405032597338, 0.04978375724949538, 0.020300359796774747, 0.018671332573015467, 0.022976617945299697, 0.027192013875997633, 0.037387937941489646, 0.021755949405839754, 0.02761822434727151, 0.027668363206505456, 0.010818378242982056, 0.04560272242629893, 0.015120090995287478, 0.01453495361406754, 0.040649693976269344, 0.04851247772496094, 0.014356651443987303, 0.008698830371551804, 0.00893647257539448, 0.013278794183545158, 0.008368232924937725, 0.008216574942869174, 0.008102461523850038, 0.00806834402121517, 0.008009991228227962, 0.008029959285344055, 0.01660282859437934, 0.007964037395015212, 0.011911793030323688, 0.007974005585485956, 0.021338734968154062, 0.015621644002057037, 0.01481114119723826, 0.022303309177868533, 0.0171563169519998, 0.019399604028556332, 0.027075122758143378, 0.019724927392098465, 0.026728187193184157, 0.017148776514054238, 0.03069379386127254, 0.10904160491433332, 0.06781042989242717, 0.025712190484969547, 0.10082638601341515, 0.027182242530326226, 0.02078175770615911, 0.03598065902386702, 0.020704814769651178, 0.022202787100339395, 0.023288487984969762, 0.029859889905366054, 0.03241787977663601, 0.022168085096863577, 0.020747678667450548, 0.08258409854993934, 0.006816828643969726, 0.012031266544149632, 0.004021391243421532, 0.005625648747664926, 0.0039021157315679866, 0.0037655109944027755, 0.0037887836817581655, 0.003653993553793737, 0.0034165102315889154, 0.006340712128035123, 0.0031223008469393847, 0.0030423455989160037, 0.004653385055589464, 0.008640429738318993, 0.014550425432739725, 0.008884242187441839, 0.0039282717472118485, 0.0026292768948498377, 0.0025803727571347603, 0.0024927606876161946, 0.0024600514218654826, 0.0036579529786641956, 0.0024637457657339483, 0.002398238195508247, 0.002398880291908468, 0.0023612293769603356, 0.0023367597547542963, 0.015529207268225034, 0.011739832114941309, 0.013916748534286585, 0.04104646927997173, 0.011850310346439847, 0.11965607048420678, 0.06265699597673854, 0.01525432691863445, 0.10924578902223243, 0.042148180522158595, 0.025841657050304546, 0.02238510254285891, 0.11358831445173241, 0.014029541772616347, 0.013135345707609576, 0.020572123513919637, 0.010533077564985827, 0.012878691330482313, 0.012587924437309718, 0.017307459159525106, 0.029482748638554067, 0.024397383817050887, 0.01463976230954573, 0.017206622549884084, 0.011617698460038444, 0.011574313705643173, 0.011346913891764641, 0.013890414441194168, 0.011528318844644786, 0.013579070817037502, 0.01309823859448731, 0.012261593470219819, 0.011463094140043654, 0.011231943478818516, 0.011142604724339996, 0.010416107113308004, 0.010227849256528004, 0.010147989807907902, 0.030718581863563278, 0.009705436794081838, 0.05070111949545508, 0.019155773038371078, 0.013917979299987109, 0.00891537986339005, 0.00806889393846865, 0.007518849441688744, 0.0419931778042899, 0.023821761470474538, 0.0066999244293299235, 0.0477493285926789, 0.020391055199504713, 0.009946250206285492, 0.008827265384365459, 0.006471218395052852, 0.006303222885629323, 0.00592545444790693, 0.005848052379104207, 0.132892667668778, 0.010739032327050205, 0.03838041941894516, 0.026502732440546475, 0.029229074195669818, 0.06765543141185579, 0.058125867476472345, 0.03352031269611798, 0.039959828929546755, 0.02958184210459145, 0.01565281195285074, 0.014624650123199124, 0.016629894616949026, 0.018189560723876137, 0.020976804296892696, 0.012864924850428911, 0.012436398030865874, 0.014523568919054328, 0.013167142347378676, 0.013688362907039169, 0.012955631104893627, 0.012595897186357938, 0.0030556044373825967, 0.0030556044373825967, 0.0030556044373825967, 0.0030556044373825967, 0.0030556044373825967, 0.0030556044373825967, 0.0030556044373825967, 0.0030556044373825967, 0.0030556044373825967, 0.0030556044373825967, 0.0030556044373825967, 0.0030556044373825967, 0.0030556044373825967, 0.0030556044373825967, 0.0030556044373825967, 0.0030556044373825967, 0.0030556044373825967, 0.0030556044373825967, 0.0030556044373825967, 0.0030556044373825967, 0.0030556044373825967, 0.0030556044373825967, 0.0030556044373825967, 0.0030556044373825967, 0.0030556044373825967, 0.0030556044373825967, 0.0030556044373825967, 0.0030556044373825967, 0.0030556044373825967, 0.0030556044373825967, 0.0030556046572170863, 0.0030556046572170863, 0.0030556044373825967, 0.0030556044373825967, 0.0030556044373825967, 0.0030556044373825967, 0.0030556044373825967, 0.0030556044373825967, 0.0030556044373825967, 0.0030556044373825967, 0.0030556044373825967, 0.0030556044373825967, 0.0030556044373825967, 0.0030556044373825967, 0.0030556044373825967, 0.0030556044373825967, 0.0030556044373825967, 0.0030556044373825967, 0.0030556044373825967, 0.0030556044373825967, 0.0030556044373825967, 0.0030556044373825967, 0.0030556044373825967, 0.0030556044373825967, 0.0030556044373825967, 0.0030556044373825967, 0.0030556044373825967, 0.0030556044373825967, 0.0030556044373825967, 0.0030556044373825967], \"Total\": [124.0, 120.0, 224.0, 32.0, 61.0, 69.0, 23.0, 26.0, 8.0, 43.0, 50.0, 16.0, 20.0, 26.0, 28.0, 15.0, 9.0, 12.0, 12.0, 9.0, 31.0, 13.0, 6.0, 38.0, 19.0, 7.0, 11.0, 8.0, 23.0, 6.0, 8.874916164562208, 4.089485363367258, 4.088840980571913, 2.388054409479613, 2.387930614459308, 2.387730745077607, 124.28465176106856, 12.844298723179262, 9.656404675627028, 12.702955500238962, 12.59012041648943, 12.478522399932666, 7.468242541489909, 12.472953412107765, 7.504667056823212, 13.058464260665303, 9.50211087909573, 12.008717380493028, 12.872605905542786, 5.367204160968886, 120.15371627751927, 26.473536763250358, 5.797909449109583, 5.847785276833869, 43.341625517127845, 2.992876310039119, 50.24927391879877, 4.86144608409087, 2.905600610817468, 4.875952046316603, 69.8110351385345, 224.6146377645105, 61.16791477307441, 19.452429492975956, 23.26840234851471, 28.09282320374408, 38.25926314136833, 31.263697303440562, 20.875259933056167, 9.721986764813863, 12.18701315674255, 2.8641492149258885, 2.3198935336886386, 1.7755183276757271, 1.7755051183925799, 1.775472415798381, 1.775454974414808, 1.775416629020041, 3.611878668363625, 3.1180929973606757, 5.11800125994412, 8.284264871712555, 3.0958321102523594, 3.7453027730277193, 3.7364793258402127, 4.3649342612221345, 1.2311377994759163, 1.2311313230798102, 1.2311288864159289, 1.2311286299249937, 1.2311278604521891, 1.2311276039612544, 1.2311191397604027, 1.2311141381871724, 1.2311097137185454, 1.2311072770546636, 1.2311066999500604, 1.231105096881717, 1.2311040709179777, 5.050869729774404, 4.407904541606062, 9.92483394631978, 4.587729961154223, 3.2028679295578835, 2.5682660769453145, 4.754112082671385, 1.921663966855589, 120.15371627751927, 5.883970122724124, 224.6146377645105, 1.8934977614950321, 3.2796614201890866, 9.721986764813863, 1.892246853024549, 28.09282320374408, 124.28465176106856, 50.24927391879877, 7.894305278672968, 61.16791477307441, 38.25926314136833, 26.473536763250358, 43.341625517127845, 10.973492972277416, 69.8110351385345, 31.263697303440562, 18.621758238242215, 32.67657716102591, 20.875259933056167, 4.397102121277343, 2.3147679970383614, 8.091397406054368, 2.999309730934374, 2.4114299143353284, 1.7811172270224218, 2.4401049571234474, 1.7946534945313855, 1.8440845650190287, 2.395219141382433, 1.8021455167707592, 1.8568591772148941, 1.8616129184949763, 1.8631974471228017, 1.8705758861356958, 1.8828368554423662, 1.229113557427828, 1.2302872375737293, 1.2309354331737759, 2.551233595341571, 1.2352423272841393, 1.2357714854311908, 1.2373865838463731, 1.2374861151458578, 4.284826904670133, 1.2623530938656267, 1.2404268081562937, 1.2627548487814806, 1.2413162904513726, 1.2419924615099676, 224.6146377645105, 4.179230256506532, 124.28465176106856, 120.15371627751927, 7.00244278153473, 6.025627663667851, 61.16791477307441, 4.587729961154223, 23.87260333135137, 50.24927391879877, 26.473536763250358, 12.872605905542786, 43.341625517127845, 69.8110351385345, 31.263697303440562, 28.09282320374408, 19.452429492975956, 12.18701315674255, 13.058464260665303, 12.478522399932666, 38.25926314136833, 12.844298723179262, 10.117863212464492, 12.702955500238962, 18.621758238242215, 12.472953412107765, 12.008717380493028, 2.2259744839568016, 2.2259743107887733, 2.2259511062729453, 2.2259419283674315, 2.2259382918388315, 2.2258880731105473, 2.8512746829232047, 2.93572066645367, 1.6565988009579908, 2.9170490902493764, 2.351165525268222, 3.79036757297426, 3.279777127091309, 1.2282048438522721, 1.2051665616189013, 2.5739381285183547, 1.9597802076791795, 5.050869729774404, 6.981091935498925, 3.7364793258402127, 2.854535451241894, 4.754112082671385, 3.4558599187986596, 2.151629427680787, 3.903099284176709, 1.9226916014178488, 1.3284328453216756, 3.4265150786048255, 5.6913615445618095, 1.906784603729334, 9.92483394631978, 9.50211087909573, 6.870512051182116, 3.892171596918019, 224.6146377645105, 6.953288393930833, 69.8110351385345, 120.15371627751927, 61.16791477307441, 124.28465176106856, 50.24927391879877, 28.09282320374408, 19.452429492975956, 43.341625517127845, 31.263697303440562, 26.473536763250358, 38.25926314136833, 5.256430955672094, 1.8469600329327178, 4.179230256506532, 1.8220075139228256, 1.8201603159108688, 5.465826909836047, 15.532986935712746, 16.14032715295123, 2.433004291460145, 2.4330053893080095, 2.4330292272373306, 2.433031986443187, 2.4330380452506613, 2.4329902551119202, 23.87260333135137, 1.757117857003361, 2.4038629612892763, 9.978432132220385, 2.4690444975024137, 2.552630918358018, 5.198134194771693, 5.372813597087789, 2.492978240342914, 26.243731964259037, 9.965246181868068, 7.00244278153473, 10.585499267838388, 12.123092782288369, 9.077927987558892, 32.67657716102591, 12.170751453643085, 11.976022094484083, 9.483850521426774, 7.101893452066266, 7.357717222962001, 69.8110351385345, 31.263697303440562, 8.816691689747774, 224.6146377645105, 6.18835987483404, 38.25926314136833, 18.621758238242215, 5.6913615445618095, 5.9872772503363745, 3.6134458501692923, 2.3641784913077686, 2.362189582662157, 2.9684565952178885, 1.3417618113761167, 3.055380379521162, 1.3190778425545746, 1.3064194083310572, 1.3041118747431173, 1.298725496085516, 5.30307615780535, 1.2778789058482822, 2.847961463573443, 1.2753258160362109, 2.3518458693182773, 1.2686909964361794, 2.8382483032990034, 2.937530693672747, 3.0397408447311967, 1.2458085730586348, 1.2218082690400323, 1.2080399183513528, 6.430108794060682, 6.051353891144391, 4.212952571576658, 2.1018872545293723, 2.0962712955836267, 1.4607065528075265, 6.7441196438679585, 5.806507308919864, 9.687419428219007, 7.902097523380748, 2.2434760876369304, 7.57256381540394, 6.953288393930833, 10.973492972277416, 224.6146377645105, 61.16791477307441, 3.7706818918603506, 9.531673628137549, 31.263697303440562, 23.26840234851471, 9.656404675627028, 38.25926314136833, 69.8110351385345, 18.621758238242215, 43.341625517127845, 6.209979496721329, 2.763382534094185, 4.093767379140911, 6.043424088482061, 2.721419995118064, 2.7400515609117857, 5.872962069481141, 2.0685655639818328, 2.1499065146531438, 6.7441196438679585, 2.071069666406631, 2.0412963647079803, 2.7653527738281682, 2.066599110929319, 2.0384247186297535, 2.068396950022631, 2.1837874429949085, 8.091397406054368, 3.0036295732125566, 2.0975901116386004, 2.6462013417354653, 1.3767470600310734, 2.265583302663931, 1.375486351332073, 1.4323549948619936, 3.9782179314872543, 1.4325796164416016, 3.3022098464307224, 1.4327235155576414, 1.433941994512977, 2.2251466557641355, 2.395219141382433, 1.9378742788689742, 4.014909344544236, 3.9569753714368723, 4.515374727036614, 4.020641824814326, 10.585499267838388, 3.983324052179574, 6.18835987483404, 32.67657716102591, 7.894305278672968, 15.416116820999049, 15.532986935712746, 7.1748689752271515, 224.6146377645105, 26.243731964259037, 20.875259933056167, 61.16791477307441, 16.14032715295123, 7.101893452066266, 18.621758238242215, 9.965246181868068, 38.25926314136833, 12.123092782288369, 3.6660802335134557, 8.991817927541556, 1.6798705119583215, 2.7698434688120517, 4.126769811771323, 7.73686625636846, 1.408198048715384, 1.3584038691538995, 6.953288393930833, 7.357717222962001, 1.41931204660494, 2.1258113537219145, 4.335955637006411, 9.978432132220385, 1.409530593065528, 2.192770520342602, 9.965246181868068, 5.198134194771693, 32.67657716102591, 1.3868284354371299, 1.3842072999263773, 2.0227884572862718, 12.18701315674255, 9.077927987558892, 1.4123031812274784, 26.243731964259037, 4.382491333141139, 6.79540026074696, 2.552630918358018, 4.5647034622019635, 12.123092782288369, 16.14032715295123, 8.816691689747774, 23.87260333135137, 6.0214551989004965, 19.452429492975956, 50.24927391879877, 69.8110351385345, 61.16791477307441, 20.875259933056167, 28.09282320374408, 43.341625517127845, 224.6146377645105, 38.25926314136833, 3.806905099538843, 2.2473830081391886, 2.2472593021544, 2.247201304172665, 2.2467487595621436, 2.2464032060992625, 2.2459321699526575, 3.7722377856692364, 3.485351008031304, 1.4665824697841436, 1.4664619207266523, 1.46639018860386, 2.0729587127171274, 7.1748689752271515, 4.808979889082456, 1.394521909732768, 5.104734044655302, 1.3846568118009515, 2.0039743494411844, 1.3820838814613552, 6.430108794060682, 3.7706818918603506, 1.3652599437081538, 2.37063725052534, 1.3634806751633002, 1.359881016825487, 1.519046237337341, 10.117863212464492, 4.198758393962806, 3.2796614201890866, 5.883970122724124, 12.170751453643085, 9.687419428219007, 7.57256381540394, 10.973492972277416, 15.416116820999049, 38.25926314136833, 8.284264871712555, 18.621758238242215, 224.6146377645105, 7.894305278672968, 23.26840234851471, 28.09282320374408, 31.263697303440562, 2.5744155484882745, 2.5743821449386988, 2.5743817580249972, 5.1129862566144055, 3.3197561902870816, 1.6305690432437665, 1.6305662058766213, 1.6305401536873767, 1.6305398957449089, 1.6305276434776903, 4.08069680447958, 4.020641824814326, 4.014909344544236, 5.6369074956969465, 4.692062864439825, 3.9782179314872543, 3.716091487900726, 2.3955538989486573, 2.3884956134287867, 2.39557838862709, 2.390820928044018, 3.983324052179574, 2.3687519970988813, 2.111086138763019, 2.359797476669477, 4.515374727036614, 1.5553921135751418, 2.347164916151926, 6.4936159893574885, 3.9569753714368723, 7.101893452066266, 15.416116820999049, 20.875259933056167, 15.532986935712746, 10.585499267838388, 38.25926314136833, 18.621758238242215, 2.988895274454548, 3.0569829735769654, 26.243731964259037, 32.67657716102591, 6.655279835902746, 4.427966778495906, 4.427901387798677, 3.6796815472676703, 3.6681474343562157, 6.470642648510346, 3.662179287769501, 2.92402870282574, 2.1832455612279333, 2.1785910552273213, 2.176750128252397, 2.176274985172959, 2.1759762050315206, 2.175690525266636, 5.046641441167339, 2.601241043864312, 3.860415341856177, 2.7877234154924766, 1.4350156993486365, 1.4350109965930138, 1.4350099888596664, 1.435007861422599, 1.4350052861040437, 1.435000975244723, 1.4349950408150087, 1.4349891063852944, 1.4349848515111596, 1.4349790290518174, 1.4349735984887773, 1.4349617296293486, 5.316198055593252, 7.241614632506368, 6.4936159893574885, 7.902097523380748, 11.976022094484083, 5.987754300874509, 6.334620952195023, 2.6985000177250944, 2.551233595341571, 15.416116820999049, 2.999309730934374, 2.1267455543411655, 2.3621533783546536, 2.3521966566321284, 3.570498385479214, 2.2722653510077877, 1.5160126420526912, 2.3087174587174144, 3.6802991817310673, 1.5031448134604581, 1.4912098450247178, 1.4668595574610628, 1.4987156567699709, 1.4897888357368816, 1.4981120442258187, 1.5062594376731857, 1.4852229078440033, 1.4983029242301837, 1.4702294025609808, 1.4618908465866076, 1.4765064355078472, 1.473848177512525, 2.989050073905841, 1.4443753826213264, 1.4966810988271346, 1.4539052123467056, 2.1806024630036602, 1.4874294275977424, 1.4804941643192204, 1.4620797202247966, 2.192770520342602, 1.4622682538020537, 2.0422417174026943, 3.4233310372970025, 3.1180929973606757, 6.209979496721329, 5.11800125994412, 28.09282320374408, 8.991817927541556, 6.043424088482061, 8.284264871712555, 8.816691689747774, 7.894305278672968, 4.3649342612221345, 5.872962069481141, 3.956914202704243, 224.6146377645105, 69.8110351385345, 32.67657716102591, 18.621758238242215, 120.15371627751927, 4.093767379140911, 6.18835987483404, 9.721986764813863, 8.984729924319915, 5.016856817866731, 2.828840676793457, 1.7788653392894933, 2.0227884572862718, 4.335955637006411, 1.4234426242516651, 4.5647034622019635, 1.7561494741608625, 2.1258113537219145, 1.7651157981757921, 4.436844952882208, 1.7854864728646467, 1.4123031812274784, 1.7633533616211816, 1.8073672520708157, 1.7491294358536351, 1.7675616429382484, 1.3842072999263773, 4.126769811771323, 4.082549561360887, 1.409530593065528, 1.3868284354371299, 5.148453294186112, 2.053336857635133, 2.3070222968300618, 2.1518798905057697, 1.41931204660494, 2.252606458702782, 2.492978240342914, 7.357717222962001, 8.816691689747774, 9.531673628137549, 6.334620952195023, 32.67657716102591, 23.87260333135137, 11.976022094484083, 9.965246181868068, 18.621758238242215, 69.8110351385345, 26.473536763250358, 43.341625517127845, 224.6146377645105, 10.585499267838388, 61.16791477307441, 20.875259933056167, 9.92483394631978, 26.243731964259037, 5.9872772503363745, 2.937530693672747, 4.212952571576658, 2.9684565952178885, 1.4253163019801331, 1.4337338783183802, 2.8773563724079034, 1.4416486934458614, 1.4418701168277581, 1.4427916629579882, 1.4443063499266837, 1.4407756111790493, 1.4439394403830883, 3.0397408447311967, 2.111344229327253, 1.4607065528075265, 1.992372131457038, 6.051353891144391, 6.870512051182116, 5.30307615780535, 3.4558599187986596, 2.5868008841636745, 2.0761550560351765, 1.3843464466880382, 3.4265150786048255, 1.3703551470544295, 2.088015180003856, 2.854535451241894, 1.4087815933758427, 1.3843225037782423, 2.175923803410929, 3.488213002010896, 3.972069415610572, 10.973492972277416, 6.981091935498925, 5.104734044655302, 9.483850521426774, 5.016856817866731, 224.6146377645105, 69.8110351385345, 61.16791477307441, 8.984729924319915, 12.170751453643085, 9.92483394631978, 5.230031887972464, 28.09282320374408, 5.148453294186112, 1.3517429826577574, 1.3517414583312628, 2.1025556922325306, 2.114183484154836, 2.6985000177250944, 4.870196032444141, 1.676037368765112, 3.977795141036345, 4.875952046316603, 1.5958215112536922, 1.66220370598385, 1.7616284069386112, 2.8326976294346142, 1.640010242200676, 1.6632115268353744, 1.6881379588975687, 4.86144608409087, 5.230031887972464, 1.7078413932552041, 1.70618067665701, 1.7484201877471406, 1.709391689560762, 1.747450613639895, 2.4969020294001236, 1.7948701907772766, 2.905600610817468, 1.7850400310974441, 2.305469261106078, 2.3144778398433417, 1.7990732851064584, 7.1748689752271515, 20.875259933056167, 9.483850521426774, 12.170751453643085, 18.621758238242215, 2.992876310039119, 38.25926314136833, 43.341625517127845, 61.16791477307441, 3.0305239545231424, 3.2613569354082212, 4.86144608409087, 4.093767379140911, 1.5958215112536922, 1.640010242200676, 6.209979496721329, 4.875952046316603, 2.7653527738281682, 2.905600610817468, 1.6632115268353744, 2.0384247186297535, 1.7761584982307532, 1.709391689560762, 1.6881379588975687, 1.70618067665701, 2.992876310039119, 1.7078413932552041, 2.068396950022631, 1.66220370598385, 2.8326976294346142, 2.721419995118064, 1.747450613639895, 4.870196032444141, 2.0975901116386004, 1.3674202864547818, 3.3022098464307224, 1.7850400310974441, 2.066599110929319, 1.7990732851064584, 1.7484201877471406, 6.043424088482061, 2.7400515609117857, 2.717395379867172, 5.872962069481141, 20.875259933056167, 7.894305278672968, 6.18835987483404, 2.763382534094185, 32.67657716102591, 38.25926314136833, 2.2927582430157916, 224.6146377645105, 9.531673628137549, 2.6462013417354653, 1.6565988009579908, 2.351165525268222, 1.2051665616189013, 1.2282048438522721, 2.111086138763019, 2.601241043864312, 3.892171596918019, 2.3070222968300618, 3.4265150786048255, 3.4558599187986596, 1.3517040371193751, 5.797909449109583, 2.127413732588909, 2.088015180003856, 5.847785276833869, 6.981091935498925, 2.0761550560351765, 1.3703551470544295, 1.4134136939896167, 2.151629427680787, 1.3982813586586076, 1.3994839806057888, 1.3881628126314172, 1.3843225037782423, 1.3817462131802913, 1.3923386135196913, 2.879196690128955, 1.3852551767725245, 2.0861447151433143, 1.4007281989917275, 3.903099284176709, 2.854535451241894, 2.771868754189296, 4.436844952882208, 3.3100572206122285, 3.919064509951049, 6.18835987483404, 4.198758393962806, 6.870512051182116, 3.6446203609122416, 8.984729924319915, 120.15371627751927, 69.8110351385345, 9.483850521426774, 224.6146377645105, 12.18701315674255, 6.0214551989004965, 31.263697303440562, 6.043424088482061, 7.894305278672968, 9.531673628137549, 28.09282320374408, 124.28465176106856, 12.123092782288369, 13.058464260665303, 8.874916164562208, 2.1258113537219145, 4.126769811771323, 1.409530593065528, 2.0227884572862718, 1.41931204660494, 1.3868284354371299, 1.4123031812274784, 1.4234426242516651, 1.3584038691538995, 2.7698434688120517, 1.3842072999263773, 1.408198048715384, 2.252606458702782, 4.335955637006411, 7.357717222962001, 4.5647034622019635, 2.053336857635133, 1.4407756111790493, 1.4337338783183802, 1.4439394403830883, 1.4418701168277581, 2.1518798905057697, 1.4607065528075265, 1.4253163019801331, 1.4416486934458614, 1.4443063499266837, 1.4427916629579882, 9.965246181868068, 7.73686625636846, 9.978432132220385, 32.67657716102591, 8.816691689747774, 124.28465176106856, 61.16791477307441, 12.008717380493028, 120.15371627751927, 43.341625517127845, 26.473536763250358, 23.87260333135137, 224.6146377645105, 13.058464260665303, 12.123092782288369, 26.243731964259037, 9.077927987558892, 12.872605905542786, 12.478522399932666, 23.26840234851471, 69.8110351385345, 50.24927391879877, 19.452429492975956, 31.263697303440562, 12.59012041648943, 12.844298723179262, 12.472953412107765, 38.25926314136833, 28.09282320374408, 1.2080399183513528, 1.2218082690400323, 1.2458085730586348, 1.2686909964361794, 1.2753258160362109, 1.2778789058482822, 1.298725496085516, 1.3041118747431173, 1.3064194083310572, 4.126769811771323, 1.3190778425545746, 6.953288393930833, 2.7698434688120517, 2.0227884572862718, 1.3417618113761167, 1.3584038691538995, 1.3842072999263773, 7.73686625636846, 4.5647034622019635, 1.3868284354371299, 9.978432132220385, 4.335955637006411, 2.1258113537219145, 1.9017215743146243, 1.408198048715384, 1.4123031812274784, 1.409530593065528, 1.41931204660494, 32.67657716102591, 2.6462013417354653, 9.965246181868068, 7.357717222962001, 9.077927987558892, 26.243731964259037, 23.87260333135137, 12.123092782288369, 16.14032715295123, 12.18701315674255, 6.0214551989004965, 5.198134194771693, 8.816691689747774, 11.976022094484083, 20.875259933056167, 5.883970122724124, 5.465826909836047, 28.09282320374408, 23.26840234851471, 224.6146377645105, 61.16791477307441, 31.263697303440562, 1.2051665616189013, 1.2080399183513528, 1.2218082690400323, 1.2282048438522721, 1.229113557427828, 1.2302872375737293, 1.2309354331737759, 1.2311040709179777, 1.231105096881717, 1.2311066999500604, 1.2311072770546636, 1.2311097137185454, 1.2311141381871724, 1.2311191397604027, 1.2311276039612544, 1.2311278604521891, 1.2311286299249937, 1.2311288864159289, 1.2311313230798102, 1.2311377994759163, 1.2352423272841393, 1.2357714854311908, 1.2373865838463731, 1.2374861151458578, 1.2404268081562937, 1.2413162904513726, 1.2419924615099676, 1.24263865388763, 1.2430325677326746, 1.2447334796810456, 120.15371627751927, 224.6146377645105, 1.278285753739216, 1.66220370598385, 1.70618067665701, 2.5903181815463783, 1.7948701907772766, 3.279777127091309, 2.5868008841636745, 7.57256381540394, 2.2927582430157916, 2.373482866728205, 2.992876310039119, 1.5958215112536922, 1.709391689560762, 2.4969020294001236, 1.747450613639895, 2.4018629714285513, 1.7484201877471406, 1.6632115268353744, 1.6881379588975687, 4.875952046316603, 1.7761584982307532, 1.7990732851064584, 6.870512051182116, 4.212952571576658, 1.4337338783183802, 1.992372131457038, 1.4439394403830883, 1.4443063499266837], \"Category\": [\"Default\", \"Default\", \"Default\", \"Default\", \"Default\", \"Default\", \"Default\", \"Default\", \"Default\", \"Default\", \"Default\", \"Default\", \"Default\", \"Default\", \"Default\", \"Default\", \"Default\", \"Default\", \"Default\", \"Default\", \"Default\", \"Default\", \"Default\", \"Default\", \"Default\", \"Default\", \"Default\", \"Default\", \"Default\", \"Default\", \"Topic1\", \"Topic1\", \"Topic1\", \"Topic1\", \"Topic1\", \"Topic1\", \"Topic1\", \"Topic1\", \"Topic1\", \"Topic1\", \"Topic1\", \"Topic1\", \"Topic1\", \"Topic1\", \"Topic1\", \"Topic1\", \"Topic1\", \"Topic1\", \"Topic1\", \"Topic1\", \"Topic1\", \"Topic1\", \"Topic1\", \"Topic1\", \"Topic1\", \"Topic1\", \"Topic1\", \"Topic1\", \"Topic1\", \"Topic1\", \"Topic1\", \"Topic1\", \"Topic1\", \"Topic1\", \"Topic1\", \"Topic1\", \"Topic1\", \"Topic1\", \"Topic1\", \"Topic1\", \"Topic1\", \"Topic2\", \"Topic2\", \"Topic2\", \"Topic2\", \"Topic2\", \"Topic2\", \"Topic2\", \"Topic2\", \"Topic2\", \"Topic2\", \"Topic2\", \"Topic2\", \"Topic2\", \"Topic2\", \"Topic2\", \"Topic2\", \"Topic2\", \"Topic2\", \"Topic2\", \"Topic2\", \"Topic2\", \"Topic2\", \"Topic2\", \"Topic2\", \"Topic2\", \"Topic2\", \"Topic2\", \"Topic2\", \"Topic2\", \"Topic2\", \"Topic2\", \"Topic2\", \"Topic2\", \"Topic2\", \"Topic2\", \"Topic2\", \"Topic2\", \"Topic2\", \"Topic2\", \"Topic2\", \"Topic2\", \"Topic2\", \"Topic2\", \"Topic2\", \"Topic2\", \"Topic2\", \"Topic2\", \"Topic2\", \"Topic2\", \"Topic2\", \"Topic2\", \"Topic2\", \"Topic2\", \"Topic2\", \"Topic2\", \"Topic2\", \"Topic2\", \"Topic3\", \"Topic3\", \"Topic3\", \"Topic3\", \"Topic3\", \"Topic3\", \"Topic3\", \"Topic3\", \"Topic3\", \"Topic3\", \"Topic3\", \"Topic3\", \"Topic3\", \"Topic3\", \"Topic3\", \"Topic3\", \"Topic3\", \"Topic3\", \"Topic3\", \"Topic3\", \"Topic3\", \"Topic3\", \"Topic3\", \"Topic3\", \"Topic3\", \"Topic3\", \"Topic3\", \"Topic3\", \"Topic3\", \"Topic3\", \"Topic3\", \"Topic3\", \"Topic3\", \"Topic3\", \"Topic3\", \"Topic3\", \"Topic3\", \"Topic3\", \"Topic3\", \"Topic3\", \"Topic3\", \"Topic3\", \"Topic3\", \"Topic3\", \"Topic3\", \"Topic3\", \"Topic3\", \"Topic3\", \"Topic3\", \"Topic3\", \"Topic3\", \"Topic3\", \"Topic3\", \"Topic3\", \"Topic3\", \"Topic3\", \"Topic3\", \"Topic4\", \"Topic4\", \"Topic4\", \"Topic4\", \"Topic4\", \"Topic4\", \"Topic4\", \"Topic4\", \"Topic4\", \"Topic4\", \"Topic4\", \"Topic4\", \"Topic4\", \"Topic4\", \"Topic4\", \"Topic4\", \"Topic4\", \"Topic4\", \"Topic4\", \"Topic4\", \"Topic4\", \"Topic4\", \"Topic4\", \"Topic4\", \"Topic4\", \"Topic4\", \"Topic4\", \"Topic4\", \"Topic4\", \"Topic4\", \"Topic4\", \"Topic4\", \"Topic4\", \"Topic4\", \"Topic4\", \"Topic4\", \"Topic4\", \"Topic4\", \"Topic4\", \"Topic4\", \"Topic4\", \"Topic4\", \"Topic4\", \"Topic4\", \"Topic4\", \"Topic4\", \"Topic4\", \"Topic5\", \"Topic5\", \"Topic5\", \"Topic5\", \"Topic5\", \"Topic5\", \"Topic5\", \"Topic5\", \"Topic5\", \"Topic5\", \"Topic5\", \"Topic5\", \"Topic5\", \"Topic5\", \"Topic5\", \"Topic5\", \"Topic5\", \"Topic5\", \"Topic5\", \"Topic5\", \"Topic5\", \"Topic5\", \"Topic5\", \"Topic5\", \"Topic5\", \"Topic5\", \"Topic5\", \"Topic5\", \"Topic5\", \"Topic5\", \"Topic5\", \"Topic5\", \"Topic5\", \"Topic5\", \"Topic5\", \"Topic5\", \"Topic5\", \"Topic5\", \"Topic5\", \"Topic5\", \"Topic5\", \"Topic5\", \"Topic6\", \"Topic6\", \"Topic6\", \"Topic6\", \"Topic6\", \"Topic6\", \"Topic6\", \"Topic6\", \"Topic6\", \"Topic6\", \"Topic6\", \"Topic6\", \"Topic6\", \"Topic6\", \"Topic6\", \"Topic6\", \"Topic6\", \"Topic6\", \"Topic6\", \"Topic6\", \"Topic6\", \"Topic6\", \"Topic6\", \"Topic6\", \"Topic6\", \"Topic6\", \"Topic6\", \"Topic6\", \"Topic6\", \"Topic6\", \"Topic6\", \"Topic6\", \"Topic6\", \"Topic6\", \"Topic6\", \"Topic6\", \"Topic6\", \"Topic6\", \"Topic6\", \"Topic6\", \"Topic6\", \"Topic6\", \"Topic6\", \"Topic6\", \"Topic6\", \"Topic6\", \"Topic6\", \"Topic6\", \"Topic6\", \"Topic7\", \"Topic7\", \"Topic7\", \"Topic7\", \"Topic7\", \"Topic7\", \"Topic7\", \"Topic7\", \"Topic7\", \"Topic7\", \"Topic7\", \"Topic7\", \"Topic7\", \"Topic7\", \"Topic7\", \"Topic7\", \"Topic7\", \"Topic7\", \"Topic7\", \"Topic7\", \"Topic7\", \"Topic7\", \"Topic7\", \"Topic7\", \"Topic7\", \"Topic7\", \"Topic7\", \"Topic7\", \"Topic7\", \"Topic7\", \"Topic7\", \"Topic7\", \"Topic7\", \"Topic7\", \"Topic7\", \"Topic7\", \"Topic7\", \"Topic7\", \"Topic7\", \"Topic7\", \"Topic7\", \"Topic7\", \"Topic7\", \"Topic7\", \"Topic7\", \"Topic7\", \"Topic7\", \"Topic7\", \"Topic7\", \"Topic7\", \"Topic7\", \"Topic7\", \"Topic7\", \"Topic7\", \"Topic7\", \"Topic8\", \"Topic8\", \"Topic8\", \"Topic8\", \"Topic8\", \"Topic8\", \"Topic8\", \"Topic8\", \"Topic8\", \"Topic8\", \"Topic8\", \"Topic8\", \"Topic8\", \"Topic8\", \"Topic8\", \"Topic8\", \"Topic8\", \"Topic8\", \"Topic8\", \"Topic8\", \"Topic8\", \"Topic8\", \"Topic8\", \"Topic8\", \"Topic8\", \"Topic8\", \"Topic8\", \"Topic8\", \"Topic8\", \"Topic8\", \"Topic8\", \"Topic8\", \"Topic8\", \"Topic8\", \"Topic8\", \"Topic8\", \"Topic8\", \"Topic8\", \"Topic8\", \"Topic8\", \"Topic8\", \"Topic8\", \"Topic8\", \"Topic8\", \"Topic9\", \"Topic9\", \"Topic9\", \"Topic9\", \"Topic9\", \"Topic9\", \"Topic9\", \"Topic9\", \"Topic9\", \"Topic9\", \"Topic9\", \"Topic9\", \"Topic9\", \"Topic9\", \"Topic9\", \"Topic9\", \"Topic9\", \"Topic9\", \"Topic9\", \"Topic9\", \"Topic9\", \"Topic9\", \"Topic9\", \"Topic9\", \"Topic9\", \"Topic9\", \"Topic9\", \"Topic9\", \"Topic9\", \"Topic9\", \"Topic9\", \"Topic9\", \"Topic9\", \"Topic9\", \"Topic9\", \"Topic9\", \"Topic9\", \"Topic9\", \"Topic9\", \"Topic9\", \"Topic9\", \"Topic9\", \"Topic9\", \"Topic9\", \"Topic10\", \"Topic10\", \"Topic10\", \"Topic10\", \"Topic10\", \"Topic10\", \"Topic10\", \"Topic10\", \"Topic10\", \"Topic10\", \"Topic10\", \"Topic10\", \"Topic10\", \"Topic10\", \"Topic10\", \"Topic10\", \"Topic10\", \"Topic10\", \"Topic10\", \"Topic10\", \"Topic10\", \"Topic10\", \"Topic10\", \"Topic10\", \"Topic10\", \"Topic10\", \"Topic10\", \"Topic10\", \"Topic10\", \"Topic10\", \"Topic10\", \"Topic10\", \"Topic10\", \"Topic10\", \"Topic10\", \"Topic10\", \"Topic10\", \"Topic10\", \"Topic10\", \"Topic10\", \"Topic10\", \"Topic11\", \"Topic11\", \"Topic11\", \"Topic11\", \"Topic11\", \"Topic11\", \"Topic11\", \"Topic11\", \"Topic11\", \"Topic11\", \"Topic11\", \"Topic11\", \"Topic11\", \"Topic11\", \"Topic11\", \"Topic11\", \"Topic11\", \"Topic11\", \"Topic11\", \"Topic11\", \"Topic11\", \"Topic11\", \"Topic11\", \"Topic11\", \"Topic11\", \"Topic11\", \"Topic11\", \"Topic11\", \"Topic11\", \"Topic11\", \"Topic11\", \"Topic11\", \"Topic11\", \"Topic11\", \"Topic11\", \"Topic11\", \"Topic11\", \"Topic11\", \"Topic11\", \"Topic11\", \"Topic11\", \"Topic11\", \"Topic12\", \"Topic12\", \"Topic12\", \"Topic12\", \"Topic12\", \"Topic12\", \"Topic12\", \"Topic12\", \"Topic12\", \"Topic12\", \"Topic12\", \"Topic12\", \"Topic12\", \"Topic12\", \"Topic12\", \"Topic12\", \"Topic12\", \"Topic12\", \"Topic12\", \"Topic12\", \"Topic12\", \"Topic12\", \"Topic12\", \"Topic12\", \"Topic12\", \"Topic12\", \"Topic12\", \"Topic12\", \"Topic12\", \"Topic12\", \"Topic12\", \"Topic12\", \"Topic12\", \"Topic12\", \"Topic12\", \"Topic12\", \"Topic12\", \"Topic12\", \"Topic12\", \"Topic12\", \"Topic12\", \"Topic12\", \"Topic12\", \"Topic12\", \"Topic12\", \"Topic12\", \"Topic12\", \"Topic12\", \"Topic12\", \"Topic12\", \"Topic12\", \"Topic12\", \"Topic12\", \"Topic13\", \"Topic13\", \"Topic13\", \"Topic13\", \"Topic13\", \"Topic13\", \"Topic13\", \"Topic13\", \"Topic13\", \"Topic13\", \"Topic13\", \"Topic13\", \"Topic13\", \"Topic13\", \"Topic13\", \"Topic13\", \"Topic13\", \"Topic13\", \"Topic13\", \"Topic13\", \"Topic13\", \"Topic13\", \"Topic13\", \"Topic13\", \"Topic13\", \"Topic13\", \"Topic13\", \"Topic13\", \"Topic13\", \"Topic13\", \"Topic13\", \"Topic13\", \"Topic13\", \"Topic13\", \"Topic13\", \"Topic13\", \"Topic13\", \"Topic13\", \"Topic13\", \"Topic13\", \"Topic13\", \"Topic13\", \"Topic13\", \"Topic13\", \"Topic13\", \"Topic13\", \"Topic13\", \"Topic14\", \"Topic14\", \"Topic14\", \"Topic14\", \"Topic14\", \"Topic14\", \"Topic14\", \"Topic14\", \"Topic14\", \"Topic14\", \"Topic14\", \"Topic14\", \"Topic14\", \"Topic14\", \"Topic14\", \"Topic14\", \"Topic14\", \"Topic14\", \"Topic14\", \"Topic14\", \"Topic14\", \"Topic14\", \"Topic14\", \"Topic14\", \"Topic14\", \"Topic14\", \"Topic14\", \"Topic14\", \"Topic14\", \"Topic14\", \"Topic14\", \"Topic14\", \"Topic14\", \"Topic14\", \"Topic14\", \"Topic14\", \"Topic14\", \"Topic14\", \"Topic14\", \"Topic14\", \"Topic14\", \"Topic14\", \"Topic14\", \"Topic14\", \"Topic14\", \"Topic14\", \"Topic14\", \"Topic15\", \"Topic15\", \"Topic15\", \"Topic15\", \"Topic15\", \"Topic15\", \"Topic15\", \"Topic15\", \"Topic15\", \"Topic15\", \"Topic15\", \"Topic15\", \"Topic15\", \"Topic15\", \"Topic15\", \"Topic15\", \"Topic15\", \"Topic15\", \"Topic15\", \"Topic15\", \"Topic15\", \"Topic15\", \"Topic15\", \"Topic15\", \"Topic15\", \"Topic15\", \"Topic15\", \"Topic15\", \"Topic15\", \"Topic15\", \"Topic15\", \"Topic15\", \"Topic15\", \"Topic15\", \"Topic15\", \"Topic15\", \"Topic15\", \"Topic15\", \"Topic15\", \"Topic15\", \"Topic15\", \"Topic16\", \"Topic16\", \"Topic16\", \"Topic16\", \"Topic16\", \"Topic16\", \"Topic16\", \"Topic16\", \"Topic16\", \"Topic16\", \"Topic16\", \"Topic16\", \"Topic16\", \"Topic16\", \"Topic16\", \"Topic16\", \"Topic16\", \"Topic16\", \"Topic16\", \"Topic16\", \"Topic16\", \"Topic16\", \"Topic16\", \"Topic16\", \"Topic16\", \"Topic16\", \"Topic16\", \"Topic16\", \"Topic16\", \"Topic16\", \"Topic16\", \"Topic16\", \"Topic16\", \"Topic16\", \"Topic16\", \"Topic16\", \"Topic16\", \"Topic16\", \"Topic16\", \"Topic16\", \"Topic16\", \"Topic16\", \"Topic16\", \"Topic17\", \"Topic17\", \"Topic17\", \"Topic17\", \"Topic17\", \"Topic17\", \"Topic17\", \"Topic17\", \"Topic17\", \"Topic17\", \"Topic17\", \"Topic17\", \"Topic17\", \"Topic17\", \"Topic17\", \"Topic17\", \"Topic17\", \"Topic17\", \"Topic17\", \"Topic17\", \"Topic17\", \"Topic17\", \"Topic17\", \"Topic17\", \"Topic17\", \"Topic17\", \"Topic17\", \"Topic17\", \"Topic17\", \"Topic17\", \"Topic17\", \"Topic17\", \"Topic17\", \"Topic17\", \"Topic17\", \"Topic17\", \"Topic17\", \"Topic17\", \"Topic17\", \"Topic17\", \"Topic17\", \"Topic17\", \"Topic17\", \"Topic17\", \"Topic17\", \"Topic17\", \"Topic17\", \"Topic17\", \"Topic17\", \"Topic17\", \"Topic17\", \"Topic17\", \"Topic17\", \"Topic17\", \"Topic17\", \"Topic18\", \"Topic18\", \"Topic18\", \"Topic18\", \"Topic18\", \"Topic18\", \"Topic18\", \"Topic18\", \"Topic18\", \"Topic18\", \"Topic18\", \"Topic18\", \"Topic18\", \"Topic18\", \"Topic18\", \"Topic18\", \"Topic18\", \"Topic18\", \"Topic18\", \"Topic18\", \"Topic18\", \"Topic18\", \"Topic18\", \"Topic18\", \"Topic18\", \"Topic18\", \"Topic18\", \"Topic18\", \"Topic18\", \"Topic18\", \"Topic18\", \"Topic18\", \"Topic18\", \"Topic18\", \"Topic18\", \"Topic18\", \"Topic18\", \"Topic18\", \"Topic18\", \"Topic18\", \"Topic18\", \"Topic18\", \"Topic18\", \"Topic18\", \"Topic18\", \"Topic18\", \"Topic18\", \"Topic18\", \"Topic18\", \"Topic18\", \"Topic18\", \"Topic18\", \"Topic18\", \"Topic18\", \"Topic18\", \"Topic18\", \"Topic18\", \"Topic19\", \"Topic19\", \"Topic19\", \"Topic19\", \"Topic19\", \"Topic19\", \"Topic19\", \"Topic19\", \"Topic19\", \"Topic19\", \"Topic19\", \"Topic19\", \"Topic19\", \"Topic19\", \"Topic19\", \"Topic19\", \"Topic19\", \"Topic19\", \"Topic19\", \"Topic19\", \"Topic19\", \"Topic19\", \"Topic19\", \"Topic19\", \"Topic19\", \"Topic19\", \"Topic19\", \"Topic19\", \"Topic19\", \"Topic19\", \"Topic19\", \"Topic19\", \"Topic19\", \"Topic19\", \"Topic19\", \"Topic19\", \"Topic19\", \"Topic19\", \"Topic19\", \"Topic19\", \"Topic19\", \"Topic19\", \"Topic19\", \"Topic19\", \"Topic19\", \"Topic19\", \"Topic19\", \"Topic19\", \"Topic19\", \"Topic19\", \"Topic20\", \"Topic20\", \"Topic20\", \"Topic20\", \"Topic20\", \"Topic20\", \"Topic20\", \"Topic20\", \"Topic20\", \"Topic20\", \"Topic20\", \"Topic20\", \"Topic20\", \"Topic20\", \"Topic20\", \"Topic20\", \"Topic20\", \"Topic20\", \"Topic20\", \"Topic20\", \"Topic20\", \"Topic20\", \"Topic20\", \"Topic20\", \"Topic20\", \"Topic20\", \"Topic20\", \"Topic20\", \"Topic20\", \"Topic20\", \"Topic20\", \"Topic20\", \"Topic20\", \"Topic20\", \"Topic20\", \"Topic20\", \"Topic20\", \"Topic20\", \"Topic20\", \"Topic20\", \"Topic20\", \"Topic20\", \"Topic20\", \"Topic20\", \"Topic20\", \"Topic20\", \"Topic20\", \"Topic20\", \"Topic20\", \"Topic20\", \"Topic20\", \"Topic20\", \"Topic20\", \"Topic20\", \"Topic20\", \"Topic20\", \"Topic20\", \"Topic20\", \"Topic20\", \"Topic20\"], \"logprob\": [30.0, 29.0, 28.0, 27.0, 26.0, 25.0, 24.0, 23.0, 22.0, 21.0, 20.0, 19.0, 18.0, 17.0, 16.0, 15.0, 14.0, 13.0, 12.0, 11.0, 10.0, 9.0, 8.0, 7.0, 6.0, 5.0, 4.0, 3.0, 2.0, 1.0, -4.531599998474121, -5.3856000900268555, -5.386000156402588, -6.054699897766113, -6.054900169372559, -6.054999828338623, -2.128200054168701, -4.416800022125244, -4.704899787902832, -4.43779993057251, -4.459700107574463, -4.472700119018555, -4.98859977722168, -4.4781999588012695, -4.991700172424316, -4.460400104522705, -4.779699802398682, -4.566100120544434, -4.500699996948242, -5.385799884796143, -2.277400016784668, -3.8340001106262207, -5.38539981842041, -5.38539981842041, -3.393899917602539, -6.072000026702881, -3.2688000202178955, -5.629499912261963, -6.152400016784668, -5.634799957275391, -2.988300085067749, -1.8773000240325928, -3.214400053024292, -4.338600158691406, -4.201099872589111, -4.240499973297119, -4.042900085449219, -4.197800159454346, -4.809899806976318, -5.292500019073486, -5.38539981842041, -4.827700138092041, -5.111199855804443, -5.508500099182129, -5.508500099182129, -5.508500099182129, -5.508600234985352, -5.508600234985352, -4.8302998542785645, -4.986700057983398, -4.552999973297119, -4.144899845123291, -5.145599842071533, -4.988500118255615, -5.0208001136779785, -4.907899856567383, -6.177499771118164, -6.177599906921387, -6.177599906921387, -6.177599906921387, -6.177599906921387, -6.177599906921387, -6.177599906921387, -6.177599906921387, -6.177599906921387, -6.177599906921387, -6.177599906921387, -6.177599906921387, -6.177599906921387, -4.784299850463867, -4.958799839019775, -4.155900001525879, -4.971700191497803, -5.334000110626221, -5.546299934387207, -5.135799884796143, -5.837399959564209, -2.7200000286102295, -5.017899990081787, -2.372999906539917, -5.863800048828125, -5.47599983215332, -4.712200164794922, -5.876299858093262, -4.073500156402588, -3.1112000942230225, -3.7211999893188477, -4.958700180053711, -3.8408000469207764, -4.126299858093262, -4.429800033569336, -4.2845001220703125, -4.830599784851074, -4.218599796295166, -4.536799907684326, -4.8566999435424805, -4.860199928283691, -5.033199787139893, -4.329500198364258, -5.0391998291015625, -3.8060998916625977, -4.8470001220703125, -5.094799995422363, -5.466800212860107, -5.163899898529053, -5.517600059509277, -5.509799957275391, -5.251999855041504, -5.546899795532227, -5.551199913024902, -5.572500228881836, -5.578000068664551, -5.585599899291992, -5.627200126647949, -6.095799922943115, -6.103700160980225, -6.1082000732421875, -5.392399787902832, -6.138500213623047, -6.142399787902832, -6.154099941253662, -6.154699802398682, -4.931700229644775, -6.154600143432617, -6.176300048828125, -6.163700103759766, -6.18310022354126, -6.187900066375732, -2.0018999576568604, -5.2164998054504395, -2.585900068283081, -2.661099910736084, -4.894599914550781, -5.033400058746338, -3.43969988822937, -5.248899936676025, -4.134200096130371, -3.759399890899658, -4.177800178527832, -4.6427001953125, -3.909899950027466, -3.650899887084961, -4.218500137329102, -4.392399787902832, -4.5995001792907715, -4.857800006866455, -4.854899883270264, -4.878900051116943, -4.540299892425537, -4.909200191497803, -5.00629997253418, -4.9542999267578125, -4.922399997711182, -5.005199909210205, -5.036799907684326, -4.769400119781494, -4.769400119781494, -4.769499778747559, -4.769499778747559, -4.769499778747559, -4.769499778747559, -4.598599910736084, -4.580900192260742, -5.257900238037109, -4.769499778747559, -5.0630998611450195, -4.610000133514404, -4.769499778747559, -5.798500061035156, -5.843200206756592, -5.252500057220459, -5.539400100708008, -4.633699893951416, -4.371099948883057, -5.006499767303467, -5.290299892425537, -4.802999973297119, -5.178899765014648, -5.663599967956543, -5.076900005340576, -5.787600040435791, -6.165500164031982, -5.225299835205078, -4.724699974060059, -5.836599826812744, -4.255799770355225, -4.310999870300293, -4.667699813842773, -5.176599979400635, -2.3315000534057617, -4.769499778747559, -3.4240000247955322, -3.156899929046631, -3.724100112915039, -3.4203999042510986, -3.8810999393463135, -4.182300090789795, -4.404200077056885, -4.2494001388549805, -4.379000186920166, -4.6097002029418945, -4.625800132751465, -3.7971999645233154, -5.1041998863220215, -4.292699813842773, -5.154600143432617, -5.158400058746338, -4.096399784088135, -3.0829999446868896, -3.0569000244140625, -4.961699962615967, -4.961699962615967, -4.961699962615967, -4.961699962615967, -4.961699962615967, -4.9618000984191895, -2.6810998916625977, -5.298699855804443, -5.161099910736084, -3.786799907684326, -5.188600063323975, -5.184299945831299, -4.482999801635742, -4.458899974822998, -5.243100166320801, -2.9007999897003174, -3.8794000148773193, -4.29010009765625, -3.8849000930786133, -3.759000062942505, -4.122799873352051, -2.963399887084961, -4.021999835968018, -4.072800159454346, -4.292699813842773, -4.495100021362305, -4.500699996948242, -3.5738000869750977, -3.950900077819824, -4.620699882507324, -3.9247000217437744, -4.861299991607666, -4.899700164794922, -4.9552001953125, -3.941699981689453, -3.930999994277954, -4.493100166320801, -4.948599815368652, -4.962500095367432, -4.7418999671936035, -5.545899868011475, -4.73199987411499, -5.580399990081787, -5.600200176239014, -5.603899955749512, -5.612500190734863, -4.220600128173828, -5.646399974822998, -4.846199989318848, -5.650700092315674, -5.038700103759766, -5.661799907684326, -4.8572998046875, -4.82859992980957, -4.805200099945068, -5.701000213623047, -5.743899822235107, -5.7692999839782715, -4.10230016708374, -4.19890022277832, -4.56279993057251, -5.296199798583984, -5.31879997253418, -5.687300205230713, -4.198599815368652, -4.34689998626709, -4.01039981842041, -4.385700225830078, -5.28410005569458, -4.5584001541137695, -4.627099990844727, -4.367800235748291, -2.8076000213623047, -3.5209999084472656, -5.090000152587891, -4.681000232696533, -4.213099956512451, -4.3993000984191895, -4.830999851226807, -4.44950008392334, -4.303599834442139, -4.655700206756592, -4.8221001625061035, -3.848599910736084, -4.724800109863281, -4.356200218200684, -3.9672000408172607, -4.769599914550781, -4.767899990081787, -4.0391998291015625, -5.125400066375732, -5.095600128173828, -3.9537999629974365, -5.142000198364258, -5.166900157928467, -4.881100177764893, -5.198500156402588, -5.244800090789795, -5.270999908447266, -5.234099864959717, -3.929500102996826, -4.935500144958496, -5.317699909210205, -5.134099960327148, -5.881199836730957, -5.3850998878479, -5.893099784851074, -5.855599880218506, -4.8383002281188965, -5.860899925231934, -5.027699947357178, -5.867099761962891, -5.866799831390381, -5.4328999519348145, -5.362100124359131, -5.582699775695801, -4.91510009765625, -4.930200099945068, -4.8242998123168945, -4.927700042724609, -4.0904998779296875, -4.941699981689453, -4.589300155639648, -3.31030011177063, -4.446400165557861, -4.006899833679199, -4.042799949645996, -4.654799938201904, -3.3821001052856445, -4.268700122833252, -4.426599979400635, -4.119500160217285, -4.57480001449585, -4.854400157928467, -4.710299968719482, -4.8597002029418945, -4.819499969482422, -4.873799800872803, -3.8687000274658203, -3.0845999717712402, -4.934999942779541, -4.584199905395508, -4.317699909210205, -3.8429999351501465, -5.583000183105469, -5.65939998626709, -4.113399982452393, -4.0640997886657715, -5.7418999671936035, -5.352799892425537, -4.667900085449219, -3.8496999740600586, -5.87470006942749, -5.445199966430664, -3.953200101852417, -4.607800006866455, -2.7713000774383545, -5.941100120544434, -5.947500228881836, -5.574100017547607, -3.8208999633789062, -4.163599967956543, -6.03000020980835, -3.138000011444092, -4.934999942779541, -4.555300235748291, -5.53879976272583, -4.95989990234375, -4.034200191497803, -3.7836999893188477, -4.373700141906738, -3.660799980163574, -4.852700233459473, -4.256899833679199, -3.8473000526428223, -3.816800117492676, -3.8842999935150146, -4.464700222015381, -4.3454999923706055, -4.232999801635742, -3.9381000995635986, -4.502299785614014, -3.828700065612793, -4.508399963378906, -4.508600234985352, -4.508699893951416, -4.509699821472168, -4.510300159454346, -4.51140022277832, -4.112500190734863, -4.243500232696533, -5.179200172424316, -5.179699897766113, -5.179999828338623, -4.961699962615967, -3.8287999629974365, -4.260700225830078, -5.531599998474121, -4.237299919128418, -5.587500095367432, -5.218100070953369, -5.6072998046875, -4.106599807739258, -4.671199798583984, -5.713200092315674, -5.1682000160217285, -5.730100154876709, -5.752399921417236, -5.670499801635742, -3.8043999671936035, -4.697000026702881, -4.949699878692627, -4.372700214385986, -3.6907999515533447, -3.950500011444092, -4.184700012207031, -3.9465999603271484, -3.838900089263916, -3.52239990234375, -4.480500221252441, -4.049900054931641, -2.765700101852417, -4.512800216674805, -4.274199962615967, -4.490200042724609, -4.575099945068359, -4.270699977874756, -4.270699977874756, -4.270699977874756, -3.6422998905181885, -4.18120002746582, -4.939799785614014, -4.939799785614014, -4.939799785614014, -4.939799785614014, -4.939799785614014, -4.081200122833252, -4.122200012207031, -4.131400108337402, -3.800800085067749, -3.9930999279022217, -4.192299842834473, -4.2708001136779785, -4.715400218963623, -4.7195000648498535, -4.718200206756592, -4.725500106811523, -4.230599880218506, -4.7916998863220215, -4.939799785614014, -4.829699993133545, -4.204500198364258, -5.28380012512207, -4.876800060272217, -3.873500108718872, -4.400300025939941, -4.01639986038208, -3.430999994277954, -3.637399911880493, -3.8101999759674072, -4.063600063323975, -3.8241000175476074, -4.218900203704834, -4.7683000564575195, -4.763299942016602, -4.666200160980225, -4.658100128173828, -3.023400068283081, -3.4600000381469727, -3.4600000381469727, -3.6807000637054443, -3.719399929046631, -3.1603000164031982, -3.739300012588501, -3.9969000816345215, -4.361599922180176, -4.392000198364258, -4.40500020980835, -4.407299995422363, -4.409599781036377, -4.412600040435791, -3.7016000747680664, -4.380799770355225, -4.030900001525879, -4.361599922180176, -5.030600070953369, -5.030600070953369, -5.030600070953369, -5.030600070953369, -5.030600070953369, -5.030600070953369, -5.030600070953369, -5.030600070953369, -5.030600070953369, -5.030600070953369, -5.030600070953369, -5.030700206756592, -3.7274999618530273, -3.517899990081787, -3.7386999130249023, -3.725100040435791, -3.4600000381469727, -3.9860999584198, -4.385799884796143, -4.76039981842041, -4.8190999031066895, -4.239099979400635, -5.026100158691406, -5.030600070953369, -4.43779993057251, -4.495299816131592, -4.09499979019165, -4.567500114440918, -4.982600212097168, -4.611700057983398, -4.1855998039245605, -5.109499931335449, -5.131199836730957, -5.149400234222412, -5.144499778747559, -5.157899856567383, -5.162399768829346, -5.184500217437744, -5.208700180053711, -5.201499938964844, -5.263500213623047, -5.278600215911865, -5.2789998054504395, -5.282800197601318, -4.5954999923706055, -5.335599899291992, -5.303199768066406, -5.360099792480469, -4.959400177001953, -5.352200031280518, -5.369900226593018, -5.400400161743164, -5.062099933624268, -5.4730000495910645, -5.150899887084961, -4.743500232696533, -4.818299770355225, -4.440499782562256, -4.651500225067139, -3.7737998962402344, -4.369200229644775, -4.58519983291626, -4.467299938201904, -4.495100021362305, -4.5467000007629395, -4.830100059509277, -4.728300094604492, -4.892000198364258, -3.771399974822998, -4.214600086212158, -4.6149001121521, -4.849899768829346, -4.651899814605713, -5.047800064086914, -5.016300201416016, -5.001299858093262, -5.016900062561035, -3.6145999431610107, -4.256999969482422, -4.763599872589111, -4.685299873352051, -3.9498000144958496, -5.081600189208984, -3.9186999797821045, -4.878499984741211, -4.725800037384033, -4.925300121307373, -4.012400150299072, -4.9257001876831055, -5.1793999671936035, -4.980100154876709, -4.977499961853027, -5.049600124359131, -5.039999961853027, -5.412099838256836, -4.327400207519531, -4.35260009765625, -5.448800086975098, -5.470900058746338, -4.223299980163574, -5.168499946594238, -5.062099933624268, -5.161099910736084, -5.610499858856201, -5.199399948120117, -5.135300159454346, -4.123300075531006, -4.016900062561035, -4.232800006866455, -4.508399963378906, -3.4274001121520996, -3.848299980163574, -4.390999794006348, -4.478099822998047, -4.231100082397461, -3.696700096130371, -4.334199905395508, -4.228700160980225, -3.9021999835968018, -4.710299968719482, -4.536799907684326, -4.7256999015808105, -4.81850004196167, -4.777200222015381, -3.305500030517578, -4.063799858093262, -3.7636001110076904, -4.144400119781494, -4.978899955749512, -5.095200061798096, -4.417300224304199, -5.116399765014648, -5.1234002113342285, -5.127799987792969, -5.138000011444092, -5.1645002365112305, -5.171899795532227, -4.4604997634887695, -4.946800231933594, -5.322700023651123, -5.100100040435791, -4.018799781799316, -4.079800128936768, -4.40369987487793, -4.918700218200684, -5.208899974822998, -5.455999851226807, -5.876800060272217, -5.080100059509277, -5.999499797821045, -5.585000038146973, -5.294899940490723, -6.013800144195557, -6.031899929046631, -5.596799850463867, -5.164000034332275, -5.080100059509277, -4.2515997886657715, -4.677499771118164, -4.924099922180176, -4.514800071716309, -4.980299949645996, -2.9769999980926514, -4.016499996185303, -4.482900142669678, -4.943900108337402, -4.979599952697754, -5.026400089263916, -5.069399833679199, -5.021200180053711, -5.093400001525879, -4.122099876403809, -4.122099876403809, -4.122099876403809, -4.122099876403809, -4.122099876403809, -3.783600091934204, -4.943900108337402, -4.122099876403809, -3.9447999000549316, -5.0802001953125, -5.073599815368652, -5.088200092315674, -4.631899833679199, -5.206200122833252, -5.202700138092041, -5.206099987030029, -4.151599884033203, -4.11870002746582, -5.252799987792969, -5.257999897003174, -5.262599945068359, -5.300099849700928, -5.335000038146973, -5.055600166320801, -5.395199775695801, -4.942599773406982, -5.432600021362305, -5.192500114440918, -5.204500198364258, -5.467700004577637, -4.119800090789795, -3.3338000774383545, -4.122099876403809, -4.121099948883057, -3.863600015640259, -5.0381999015808105, -4.065899848937988, -4.122099876403809, -4.122099876403809, -5.134799957275391, -5.14300012588501, -3.870800018310547, -4.083799839019775, -5.127600193023682, -5.115200042724609, -3.7934000492095947, -4.054599761962891, -4.630799770355225, -4.594699859619141, -5.156799793243408, -4.9695000648498535, -5.144999980926514, -5.192699909210205, -5.207499980926514, -5.197800159454346, -4.658400058746338, -5.2220001220703125, -5.043300151824951, -5.281300067901611, -4.750500202178955, -4.792300224304199, -5.247300148010254, -4.222499847412109, -5.098899841308594, -5.535799980163574, -4.6554999351501465, -5.275100231170654, -5.129499912261963, -5.277400016784668, -5.307799816131592, -4.077300071716309, -4.886300086975098, -4.965700149536133, -4.4303998947143555, -3.5308001041412354, -4.291100025177002, -4.452000141143799, -4.97760009765625, -4.047999858856201, -4.128900051116943, -5.129000186920166, -4.564599990844727, -4.987199783325195, -5.120699882507324, -4.326700210571289, -4.1753997802734375, -5.072500228881836, -5.156099796295166, -4.948599815368652, -4.780200004577637, -4.461699962615967, -5.003200054168701, -4.764599800109863, -4.762800216674805, -5.7017998695373535, -4.2631001472473145, -5.367099761962891, -5.406499862670898, -4.3780999183654785, -4.201300144195557, -5.418900012969971, -5.919899940490723, -5.89300012588501, -5.4969000816345215, -5.958700180053711, -5.976900100708008, -5.990900039672852, -5.995100021362305, -6.002399921417236, -5.999899864196777, -5.273499965667725, -6.008200168609619, -5.605599880218506, -6.006899833679199, -5.022600173950195, -5.334400177001953, -5.387700080871582, -4.978400230407715, -5.240699768066406, -5.117800235748291, -4.7845001220703125, -5.101200103759766, -4.797399997711182, -5.241199970245361, -4.658999919891357, -3.391400098800659, -3.8664000034332275, -4.836100101470947, -3.4697000980377197, -4.7804999351501465, -5.048999786376953, -4.500100135803223, -5.052700042724609, -4.982900142669678, -4.935100078582764, -4.686600208282471, -4.604400157928467, -4.984399795532227, -5.0507001876831055, -3.275700092315674, -5.770100116729736, -5.202000141143799, -6.297900199890137, -5.962100028991699, -6.328000068664551, -6.36359977722168, -6.357399940490723, -6.393700122833252, -6.460899829864502, -5.84250020980835, -6.550899982452393, -6.576900005340576, -6.151899814605713, -5.5329999923706055, -5.011899948120117, -5.505199909210205, -6.321300029754639, -6.722799777984619, -6.741600036621094, -6.776100158691406, -6.789299964904785, -6.392600059509277, -6.787799835205078, -6.814799785614014, -6.814499855041504, -6.8302998542785645, -6.840700149536133, -4.946800231933594, -5.226500034332275, -5.056399822235107, -3.9748001098632812, -5.217100143432617, -2.904900074005127, -3.551800012588501, -4.964600086212158, -2.9958999156951904, -3.9482998847961426, -4.4375, -4.581099987030029, -2.956899881362915, -5.048299789428711, -5.114200115203857, -4.665500164031982, -5.335000038146973, -5.133900165557861, -5.156700134277344, -4.8383002281188965, -4.305699825286865, -4.494999885559082, -5.00570011138916, -4.844200134277344, -5.236999988555908, -5.240699768066406, -5.260499954223633, -5.058300018310547, -5.244699954986572, -5.044300079345703, -5.080399990081787, -5.146399974822998, -5.213699817657471, -5.234099864959717, -5.242099761962891, -5.309500217437744, -5.327700138092041, -5.335599899291992, -4.228000164031982, -5.380199909210205, -3.726900100708008, -4.700300216674805, -5.019700050354004, -5.465099811553955, -5.564799785614014, -5.63539981842041, -3.9154000282287598, -4.4822998046875, -5.750800132751465, -3.786900043487549, -4.637800216674805, -5.3557000160217285, -5.474999904632568, -5.7855000495910645, -5.811800003051758, -5.873600006103516, -5.8867998123168945, -2.7632999420166016, -5.2789998054504395, -4.005300045013428, -4.3755998611450195, -4.277699947357178, -3.4384000301361084, -3.5901999473571777, -4.140699863433838, -3.9649999141693115, -4.265699863433838, -4.902200222015381, -4.970200061798096, -4.841700077056885, -4.751999855041504, -4.609399795532227, -5.098400115966797, -5.132199764251709, -4.977099895477295, -5.075099945068359, -5.036300182342529, -5.091300010681152, -5.119500160217285, -6.426499843597412, -6.426499843597412, -6.426499843597412, -6.426499843597412, -6.426499843597412, -6.426499843597412, -6.426499843597412, -6.426499843597412, -6.426499843597412, -6.426499843597412, -6.426499843597412, -6.426499843597412, -6.426499843597412, -6.426499843597412, -6.426499843597412, -6.426499843597412, -6.426499843597412, -6.426499843597412, -6.426499843597412, -6.426499843597412, -6.426499843597412, -6.426499843597412, -6.426499843597412, -6.426499843597412, -6.426499843597412, -6.426499843597412, -6.426499843597412, -6.426499843597412, -6.426499843597412, -6.426499843597412, -6.426499843597412, -6.426499843597412, -6.426499843597412, -6.426499843597412, -6.426499843597412, -6.426499843597412, -6.426499843597412, -6.426499843597412, -6.426499843597412, -6.426499843597412, -6.426499843597412, -6.426499843597412, -6.426499843597412, -6.426499843597412, -6.426499843597412, -6.426499843597412, -6.426499843597412, -6.426499843597412, -6.426499843597412, -6.426499843597412, -6.426499843597412, -6.426499843597412, -6.426499843597412, -6.426499843597412, -6.426499843597412, -6.426499843597412, -6.426499843597412, -6.426499843597412, -6.426499843597412, -6.426499843597412], \"loglift\": [30.0, 29.0, 28.0, 27.0, 26.0, 25.0, 24.0, 23.0, 22.0, 21.0, 20.0, 19.0, 18.0, 17.0, 16.0, 15.0, 14.0, 13.0, 12.0, 11.0, 10.0, 9.0, 8.0, 7.0, 6.0, 5.0, 4.0, 3.0, 2.0, 1.0, 1.2096, 1.1304, 1.1302, 0.9992, 0.9992, 0.999, 0.9736, 0.9548, 0.9519, 0.9448, 0.9318, 0.9277, 0.9252, 0.9227, 0.9172, 0.8946, 0.8933, 0.8727, 0.8687, 0.8583, 0.8583, 0.8143, 0.7816, 0.773, 0.7614, 0.7562, 0.7387, 0.7136, 0.7054, 0.7053, 0.6903, 0.6327, 0.5965, 0.6179, 0.5762, 0.3484, 0.2372, 0.2842, 0.076, 0.3576, 0.0387, 2.0445, 1.9717, 1.8418, 1.8418, 1.8418, 1.8418, 1.8418, 1.8099, 1.8005, 1.7387, 1.6652, 1.6488, 1.6154, 1.5854, 1.5429, 1.539, 1.5389, 1.5389, 1.5389, 1.5389, 1.5389, 1.5389, 1.5389, 1.5389, 1.5389, 1.5389, 1.5389, 1.5389, 1.5206, 1.4822, 1.4735, 1.4293, 1.4264, 1.4349, 1.2296, 1.4338, 0.4156, 1.1343, 0.1371, 1.4222, 1.2607, 0.9378, 1.4104, 0.5154, -0.0094, 0.2862, 0.8996, -0.03, 0.1538, 0.2185, -0.1291, 0.6984, -0.5399, -0.0549, 0.1434, -0.4224, -0.1473, 2.114, 2.0459, 2.0275, 1.979, 1.9494, 1.8804, 1.8685, 1.822, 1.8027, 1.7989, 1.7885, 1.7543, 1.7305, 1.7241, 1.7126, 1.6644, 1.6223, 1.6135, 1.6085, 1.5954, 1.5746, 1.5704, 1.5573, 1.5566, 1.5377, 1.5368, 1.5327, 1.5274, 1.5252, 1.5198, 0.5081, 1.2778, 0.5159, 0.4745, 1.0836, 1.095, 0.3711, 1.1521, 0.6175, 0.2481, 0.4705, 0.7267, 0.2455, 0.0277, 0.2635, 0.1965, 0.357, 0.5662, 0.5001, 0.5215, -0.2602, 0.4624, 0.6038, 0.4283, 0.0777, 0.3957, 0.402, 2.3548, 2.3548, 2.3548, 2.3548, 2.3548, 2.3548, 2.2781, 2.2666, 2.1618, 2.0844, 2.0064, 1.982, 1.9672, 1.9204, 1.8946, 1.7265, 1.7122, 1.6712, 1.6102, 1.5997, 1.5852, 1.5624, 1.5054, 1.4946, 1.4858, 1.4831, 1.4749, 1.4676, 1.4607, 1.4424, 1.3736, 1.3619, 1.3295, 1.3888, 0.1785, 1.2157, 0.2547, -0.0212, 0.0867, -0.3186, 0.1263, 0.4066, 0.5522, -0.0941, 0.103, 0.0386, -0.3457, 2.4678, 2.2067, 2.2016, 2.1699, 2.1671, 2.1295, 2.0985, 2.0862, 2.0736, 2.0736, 2.0736, 2.0736, 2.0735, 2.0735, 2.0706, 2.0621, 1.8862, 1.8372, 1.832, 1.803, 1.7932, 1.7842, 1.7679, 1.7562, 1.7459, 1.6881, 1.6801, 1.6704, 1.5958, 1.4743, 1.4034, 1.3688, 1.3821, 1.469, 1.428, 0.1048, 0.5311, 1.1271, -1.4147, 1.2405, -0.6196, 0.0449, 2.2438, 2.2038, 2.1466, 2.1154, 2.1024, 2.0945, 2.0846, 2.0755, 2.0671, 2.0569, 2.055, 2.0506, 2.0355, 2.0328, 2.0316, 2.0306, 2.0306, 2.0247, 2.0239, 2.0183, 2.0074, 2.0037, 1.9802, 1.9661, 1.9611, 1.9252, 1.9235, 1.8854, 1.8655, 1.8582, 1.8171, 1.8185, 1.6432, 1.4716, 1.8323, 1.3415, 1.3581, 1.1612, -0.2976, 0.2898, 1.5072, 0.9888, 0.2689, 0.378, 0.8259, -0.1695, -0.625, 0.3444, -0.6668, 2.2497, 2.1832, 2.1588, 2.1582, 2.1537, 2.1485, 2.1149, 2.0721, 2.0634, 2.062, 2.0543, 2.0439, 2.0261, 2.0, 1.9674, 1.9267, 1.9093, 1.9041, 1.8891, 1.8659, 1.8172, 1.7235, 1.7215, 1.7125, 1.7095, 1.7053, 1.7041, 1.7022, 1.6978, 1.6972, 1.6917, 1.6889, 1.6801, 1.6193, 1.6187, 1.5927, 1.6053, 1.4745, 1.6006, 1.5124, 1.1275, 1.4119, 1.1822, 1.1387, 1.299, -0.872, 0.3883, 0.4592, -0.3087, 0.5683, 1.1096, 0.2898, 0.7656, -0.5395, 0.5555, 2.7566, 2.6435, 2.4707, 2.3214, 2.1892, 2.0354, 1.9991, 1.9588, 1.8718, 1.8645, 1.8323, 1.8175, 1.7896, 1.7743, 1.7064, 1.6941, 1.6721, 1.6684, 1.6665, 1.6563, 1.6518, 1.6459, 1.6032, 1.555, 1.5492, 1.519, 1.5118, 1.4529, 1.4485, 1.4462, 1.3951, 1.3595, 1.3741, 1.0909, 1.2765, 0.6996, 0.1602, -0.1382, -0.0735, 0.4212, 0.2434, -0.0777, -1.428, -0.2222, 2.759, 2.6063, 2.6061, 2.606, 2.6053, 2.6048, 2.604, 2.4842, 2.4323, 2.3623, 2.3619, 2.3616, 2.2337, 2.1251, 2.0933, 2.0603, 2.057, 2.0115, 2.0112, 1.9935, 1.9569, 1.926, 1.8999, 1.8931, 1.8843, 1.8646, 1.8358, 1.8058, 1.7926, 1.787, 1.7795, 1.7346, 1.7031, 1.7152, 1.5823, 1.3502, 0.7577, 1.3296, 0.9502, -0.2557, 1.3455, 0.5031, 0.0987, -0.0931, 2.7081, 2.7081, 2.7081, 2.6503, 2.5434, 2.4957, 2.4957, 2.4957, 2.4957, 2.4957, 2.437, 2.4108, 2.403, 2.3943, 2.3855, 2.3513, 2.341, 2.3354, 2.3343, 2.3326, 2.3273, 2.3117, 2.2704, 2.2374, 2.2362, 2.2125, 2.1989, 2.1944, 2.1801, 2.1486, 1.9476, 1.758, 1.2484, 1.3713, 1.5014, 0.4559, 0.7813, 2.0612, 2.0437, -0.0092, -0.2203, 3.0056, 2.9765, 2.9765, 2.9409, 2.9053, 2.8969, 2.887, 2.8546, 2.7821, 2.7538, 2.7416, 2.7395, 2.7374, 2.7345, 2.6041, 2.5877, 2.5427, 2.5376, 2.5327, 2.5327, 2.5327, 2.5327, 2.5327, 2.5327, 2.5327, 2.5327, 2.5327, 2.5326, 2.5326, 2.5326, 2.5262, 2.4267, 2.3149, 2.1322, 1.9815, 2.1486, 1.6926, 2.1713, 2.1687, 0.9499, 1.7999, 2.1393, 2.627, 2.5738, 2.5567, 2.5361, 2.5258, 2.4761, 2.4359, 2.4074, 2.3936, 2.3919, 2.3753, 2.3679, 2.3579, 2.3303, 2.3202, 2.3186, 2.2755, 2.2661, 2.2558, 2.2537, 2.234, 2.2212, 2.218, 2.19, 2.1854, 2.1752, 2.1621, 2.1441, 2.0772, 2.0714, 2.0595, 1.9503, 1.9689, 1.6577, 1.6402, 0.8152, 1.359, 1.5402, 1.3428, 1.2527, 1.3116, 1.6207, 1.4258, 1.657, -1.2614, -0.536, -0.1771, 0.1502, -1.5162, 1.4672, 1.0855, 0.6488, 0.712, 2.697, 2.6276, 2.5848, 2.5346, 2.5077, 2.4898, 2.4874, 2.4828, 2.4444, 2.4309, 2.4221, 2.419, 2.3998, 2.3771, 2.355, 2.3157, 2.3148, 2.1872, 2.1795, 2.1651, 2.1324, 2.1265, 2.0625, 2.0365, 2.0264, 1.997, 1.9637, 1.9129, 1.8757, 1.8053, 1.7309, 1.437, 1.57, 1.0104, 0.9034, 1.0505, 1.1472, 0.769, -0.018, 0.3141, -0.0734, -1.3921, 0.8546, -0.726, 0.1602, 0.8109, -0.1202, 2.8293, 2.7831, 2.7226, 2.692, 2.5912, 2.4689, 2.4503, 2.4423, 2.435, 2.43, 2.4188, 2.3948, 2.3852, 2.3522, 2.2303, 2.2228, 2.135, 2.1054, 1.9174, 1.8524, 1.7656, 1.7651, 1.7379, 1.7224, 1.6128, 1.6099, 1.6032, 1.5806, 1.5679, 1.5674, 1.5502, 1.511, 1.4651, 1.2774, 1.3037, 1.3701, 1.1601, 1.3313, -0.4669, -0.3379, -0.672, 0.785, 0.4458, 0.603, 1.2006, -0.4323, 1.1924, 3.501, 3.501, 3.0592, 3.0537, 2.8096, 2.5577, 2.4641, 2.4216, 2.3954, 2.3769, 2.3427, 2.27, 2.2513, 2.2236, 2.213, 2.1947, 2.1915, 2.1513, 2.1364, 2.1322, 2.1031, 2.0882, 2.0313, 1.9538, 1.9443, 1.9152, 1.9124, 1.8966, 1.8807, 1.8694, 1.8341, 1.5521, 1.5527, 1.3043, 1.1365, 1.79, 0.2141, 0.0332, -0.3112, 1.6809, 1.5993, 2.4723, 2.4312, 2.3295, 2.3146, 2.3049, 2.2856, 2.2765, 2.2631, 2.2589, 2.2427, 2.205, 2.1956, 2.1934, 2.1924, 2.1698, 2.1672, 2.1543, 2.135, 2.1327, 2.131, 2.119, 2.1188, 2.0847, 2.0757, 2.0743, 2.0699, 2.069, 2.0598, 2.0579, 2.0481, 2.0302, 1.9591, 1.7237, 1.3551, 1.5671, 1.6498, 1.9304, 0.3897, 0.1511, 1.9657, -2.0545, 0.6826, 1.8306, 3.093, 2.8941, 2.6654, 2.5628, 2.2286, 2.1883, 2.1037, 2.0853, 1.9283, 1.9216, 1.9212, 1.9038, 1.8025, 1.7817, 1.7803, 1.78, 1.775, 1.6895, 1.6855, 1.6613, 1.6305, 1.6114, 1.6055, 1.6041, 1.5987, 1.5935, 1.5934, 1.5904, 1.5836, 1.5805, 1.5401, 1.5411, 1.5172, 1.4561, 1.4867, 1.4407, 1.3173, 1.3884, 1.1998, 1.39, 1.0699, -0.2557, -0.1877, 0.8387, -0.9596, 0.6435, 1.0801, -0.0181, 1.0727, 0.8754, 0.7347, -0.0977, -1.5025, 0.4449, 0.3043, 2.4655, 1.4002, 1.305, 1.2833, 1.2578, 1.2463, 1.2338, 1.2218, 1.1777, 1.1573, 1.0631, 1.0484, 1.0053, 0.9605, 0.9245, 0.9168, 0.9009, 0.8837, 0.8365, 0.8226, 0.781, 0.7692, 0.7655, 0.7577, 0.7553, 0.7442, 0.7265, 0.7171, 0.6786, 0.6519, 0.5676, 0.463, 0.5307, 0.197, 0.259, 0.4742, 0.1398, 0.207, 0.2108, 0.1706, -0.4469, 0.3067, 0.3151, -0.0085, 0.3836, 0.2354, 0.2437, -0.061, -0.627, -0.4876, -0.0493, -0.3622, 0.1546, 0.1308, 0.1403, -0.7782, -0.6558, 2.6911, 2.6437, 2.5583, 2.4727, 2.4471, 2.4371, 2.3535, 2.3312, 2.3216, 2.2789, 2.2673, 2.2583, 2.2054, 2.2003, 2.1654, 2.0533, 1.9639, 1.9631, 1.9238, 1.8467, 1.8371, 1.8197, 1.8146, 1.8067, 1.7966, 1.7674, 1.7076, 1.6875, 1.6745, 1.6723, 1.62, 1.5531, 1.4409, 1.2186, 1.1615, 1.2886, 1.1781, 1.1584, 1.2269, 1.306, 0.9061, 0.6895, 0.2764, 1.0538, 1.0937, -0.3882, -0.2978, -2.5263, -1.2805, -0.6375, 1.3113, 1.3089, 1.2976, 1.2924, 1.2917, 1.2907, 1.2902, 1.29, 1.29, 1.29, 1.29, 1.29, 1.29, 1.29, 1.29, 1.29, 1.29, 1.29, 1.29, 1.29, 1.2867, 1.2863, 1.2849, 1.2849, 1.2825, 1.2818, 1.2812, 1.2807, 1.2804, 1.279, -3.2908, -3.9164, 1.2524, 0.9898, 0.9637, 0.5462, 0.913, 0.3102, 0.5475, -0.5266, 0.6682, 0.6336, 0.4017, 1.0306, 0.9618, 0.5829, 0.9398, 0.6217, 0.9392, 0.9892, 0.9743, -0.0864, 0.9235, 0.9107, -0.4293, 0.0598, 1.1377, 0.8086, 1.1306, 1.1303]}, \"token.table\": {\"Topic\": [5, 8, 2, 5, 7, 8, 9, 10, 12, 13, 16, 6, 1, 7, 9, 15, 7, 7, 10, 6, 2, 6, 9, 11, 10, 11, 9, 2, 1, 1, 2, 3, 4, 6, 8, 9, 10, 2, 9, 6, 1, 4, 7, 12, 16, 6, 7, 11, 11, 2, 3, 10, 2, 6, 9, 14, 6, 9, 2, 4, 9, 11, 8, 7, 10, 5, 2, 6, 1, 2, 6, 5, 7, 10, 11, 12, 3, 2, 4, 6, 6, 6, 7, 2, 4, 2, 6, 15, 1, 15, 16, 1, 1, 4, 5, 7, 3, 5, 1, 1, 2, 3, 1, 6, 8, 2, 4, 8, 5, 9, 2, 1, 7, 10, 6, 1, 2, 5, 4, 6, 9, 1, 2, 3, 4, 1, 2, 3, 5, 7, 8, 10, 13, 15, 16, 11, 1, 2, 4, 6, 10, 13, 10, 8, 13, 1, 7, 10, 2, 7, 1, 2, 3, 5, 7, 8, 9, 10, 13, 2, 6, 7, 10, 1, 7, 10, 1, 2, 3, 4, 9, 12, 1, 2, 4, 6, 10, 6, 14, 2, 4, 6, 12, 1, 2, 3, 4, 1, 2, 3, 4, 11, 8, 1, 15, 16, 4, 1, 2, 3, 10, 11, 1, 13, 2, 3, 7, 4, 4, 9, 7, 1, 6, 7, 5, 1, 2, 3, 4, 5, 8, 3, 7, 8, 3, 11, 3, 11, 5, 8, 11, 1, 2, 3, 1, 2, 15, 1, 2, 6, 1, 2, 3, 6, 8, 11, 6, 1, 15, 2, 2, 1, 4, 2, 4, 9, 1, 1, 6, 9, 1, 1, 11, 8, 13, 8, 13, 6, 4, 10, 5, 5, 7, 8, 13, 1, 11, 4, 6, 1, 2, 9, 1, 2, 3, 6, 8, 6, 9, 1, 4, 7, 10, 1, 1, 6, 13, 11, 7, 10, 2, 5, 7, 8, 13, 1, 2, 3, 2, 4, 9, 4, 2, 4, 2, 7, 10, 1, 3, 4, 9, 11, 12, 4, 2, 4, 5, 7, 8, 12, 13, 9, 3, 5, 5, 8, 2, 4, 7, 9, 12, 16, 12, 1, 2, 3, 4, 13, 2, 1, 5, 2, 9, 12, 3, 2, 4, 2, 1, 2, 4, 9, 14, 2, 4, 6, 9, 2, 4, 4, 6, 2, 6, 12, 9, 1, 2, 3, 4, 6, 8, 9, 12, 13, 2, 2, 2, 6, 11, 7, 2, 3, 4, 5, 6, 15, 3, 5, 11, 1, 2, 3, 4, 2, 6, 7, 9, 10, 11, 1, 2, 3, 6, 9, 11, 1, 6, 9, 10, 11, 1, 10, 1, 10, 7, 1, 1, 2, 3, 4, 6, 7, 8, 9, 13, 14, 15, 2, 6, 2, 1, 2, 3, 1, 3, 4, 2, 6, 1, 3, 6, 14, 2, 4, 7, 8, 10, 12, 3, 5, 7, 8, 10, 3, 5, 6, 7, 15, 3, 5, 1, 2, 3, 5, 8, 10, 5, 7, 8, 10, 7, 10, 12, 5, 6, 7, 8, 9, 10, 3, 5, 6, 15, 4, 10, 1, 2, 4, 13, 1, 1, 5, 2, 9, 2, 4, 8, 11, 3, 11, 3, 4, 2, 4, 10, 1, 2, 6, 9, 1, 2, 3, 4, 5, 6, 7, 8, 9, 10, 11, 15, 16, 2, 2, 4, 9, 1, 3, 6, 7, 10, 10, 1, 2, 2, 11, 9, 6, 7, 10, 6, 1, 6, 7, 10, 1, 4, 6, 2, 6, 7, 8, 3, 11, 1, 2, 5, 11, 13, 1, 2, 5, 7, 8, 10, 11, 13, 10, 9, 7, 1, 10, 1, 11, 5, 7, 8, 13, 3, 8, 12, 1, 4, 6, 11, 11, 11, 5, 7, 8, 10, 11, 7, 1, 2, 4, 13, 1, 2, 3, 4, 5, 6, 7, 8, 9, 10, 12, 13, 14, 4, 2, 12, 4, 6, 4, 2, 12, 6, 14, 2, 4, 5, 6, 7, 8, 10, 11, 15, 6, 14, 6, 12, 1, 6, 13, 10, 1, 2, 3, 4, 5, 6, 7, 8, 3, 4, 5, 6, 1, 2, 3, 8, 1, 2, 3, 4, 10, 2, 3, 5, 7, 1, 2, 3, 4, 5, 6, 7, 8, 9, 10, 2, 9, 12, 7, 10, 11, 4, 2, 1, 3, 5, 9, 15, 1, 11, 1, 2, 3, 4, 6, 7, 8, 10, 13, 15, 6, 6, 1, 10, 1, 7, 4, 6, 9, 4, 1, 2, 3, 4, 3, 8, 12, 2, 6, 3, 2, 7, 16, 11, 1, 4, 6, 13, 11, 2, 4, 9, 11, 1, 2, 3, 4, 5, 6, 7, 8, 9, 12, 13, 14, 2, 2, 4, 2, 10, 10, 7, 7, 12, 16, 3, 7, 2, 4, 4, 6, 9, 9, 7, 3, 5, 1, 3, 15, 10, 11, 1, 3, 1, 2, 6, 14, 3, 5, 7, 8, 10, 13, 4, 6, 1, 15, 16, 1, 4, 3, 5, 2, 6, 7, 3, 11, 1, 8, 13, 2, 2, 4, 8, 10, 6, 7, 10, 9, 2, 6, 3, 7, 12, 11, 11, 7, 9, 4, 4, 6, 10, 6, 14, 1, 7, 10, 6, 4, 6, 1, 6, 9, 14, 3, 7, 11, 1, 2, 3, 4, 11, 11, 1, 2, 3, 4, 1, 2, 3, 4, 6, 7, 7, 7, 10, 6, 5, 8, 2, 12, 4, 7, 9, 9, 13, 7, 10, 6, 1, 2, 3, 4, 5, 6, 7, 9, 10, 12, 13, 15, 1, 2, 3, 6, 2, 11, 4, 6, 8, 5, 7, 8, 3, 2, 6, 5, 7, 8, 10, 13, 6, 11, 4, 9, 7, 10, 1, 4, 1, 2, 3, 6, 9, 14, 4, 9, 3, 5], \"Freq\": [0.5488451569812554, 0.7361580916453541, 0.06120592099179363, 0.30602960495896814, 0.18361776297538088, 0.2754266444630713, 0.030602960495896815, 0.030602960495896815, 0.030602960495896815, 0.06120592099179363, 0.030602960495896815, 0.694070604916512, 0.43206289677315995, 0.27875073494797603, 0.418126102421964, 0.13937536747398802, 0.4905748987738966, 0.2527182775051936, 0.5054365550103872, 0.6923738859493087, 0.5632359110259054, 0.4665550920026453, 0.3110367280017635, 0.4596241921297367, 0.46199220972055594, 0.46199220972055594, 0.7880417088315154, 0.8621085282392219, 0.5676566045717993, 0.4727441031507762, 0.08595347330014112, 0.04297673665007056, 0.04297673665007056, 0.08595347330014112, 0.04297673665007056, 0.08595347330014112, 0.04297673665007056, 0.2869151479135666, 0.5738302958271332, 0.6925498203267391, 0.5602115261164194, 0.16546910912736756, 0.4964073273821027, 0.16546910912736756, 0.16546910912736756, 0.4579200247752004, 0.4579200247752004, 0.7174312877974954, 0.6968714679788542, 0.8122690710458921, 0.2690999409610646, 0.5381998819221292, 0.18856979802715954, 0.5657093940814786, 0.18856979802715954, 0.18856979802715954, 0.501914268028178, 0.48240227548442177, 0.13809075057807843, 0.13809075057807843, 0.13809075057807843, 0.5523630023123137, 0.36103123200275516, 0.2450561871938761, 0.4901123743877522, 0.5414302324734867, 0.4770374913336721, 0.4770374913336721, 0.7249074821468646, 0.10355821173526637, 0.10355821173526637, 0.28161503879195887, 0.14080751939597944, 0.28161503879195887, 0.14080751939597944, 0.33455444882971913, 0.5371685972229132, 0.2918417041979486, 0.2918417041979486, 0.6974795079634272, 0.8026915383515622, 0.449408580512906, 0.449408580512906, 0.5102613017937481, 0.5102613017937481, 0.27674414989590873, 0.5534882997918175, 0.7397856048298689, 0.617100333544278, 0.20570011118142598, 0.20570011118142598, 0.6097522895089562, 0.3338998528914691, 0.11129995096382304, 0.11129995096382304, 0.11129995096382304, 0.41101448259257256, 0.41101448259257256, 0.5657511317894875, 0.5174278809167546, 0.1724759603055849, 0.1724759603055849, 0.6695015557170836, 0.13390031114341672, 0.4560440733414085, 0.5201042118572583, 0.5201042118572583, 0.8183126960985506, 0.40501497685098825, 0.8904988435346016, 0.5632200040658465, 0.585534467046712, 0.24907162632672541, 0.49814325265345083, 0.7654509674481137, 0.1861222210541656, 0.1861222210541656, 0.3722444421083312, 0.4251979319928253, 0.4251979319928253, 0.6818573251780264, 0.6661827193131556, 0.08327283991414446, 0.08327283991414446, 0.08327283991414446, 0.28742157076084807, 0.09580719025361603, 0.047903595126808016, 0.047903595126808016, 0.09580719025361603, 0.09580719025361603, 0.19161438050723206, 0.047903595126808016, 0.09580719025361603, 0.047903595126808016, 0.6968826968356157, 0.3147401093491058, 0.10491336978303527, 0.10491336978303527, 0.20982673956607054, 0.10491336978303527, 0.10491336978303527, 0.776885437902858, 0.230629665918448, 0.230629665918448, 0.5600714512250509, 0.4221632324636541, 0.4221632324636541, 0.3028275144539574, 0.3028275144539574, 0.03810433673693534, 0.07620867347387068, 0.03810433673693534, 0.38104336736935346, 0.07620867347387068, 0.22862602042161206, 0.03810433673693534, 0.03810433673693534, 0.03810433673693534, 0.17222057026671025, 0.3444411405334205, 0.17222057026671025, 0.17222057026671025, 0.3530203822705894, 0.42376517895567867, 0.42376517895567867, 0.6491684353719301, 0.14980810047044543, 0.10819473922865502, 0.06658137798686463, 0.008322672248358079, 0.008322672248358079, 0.14324406686509736, 0.14324406686509736, 0.2864881337301947, 0.14324406686509736, 0.14324406686509736, 0.47472644565080374, 0.23736322282540187, 0.25272218420014714, 0.25272218420014714, 0.25272218420014714, 0.25272218420014714, 0.7084965384497093, 0.07872183760552326, 0.07872183760552326, 0.07872183760552326, 0.7215612616065339, 0.0801734735118371, 0.0801734735118371, 0.0801734735118371, 0.9033491442225143, 0.5952839774740987, 0.6159916315513135, 0.20533054385043784, 0.20533054385043784, 0.4595749163791593, 0.5130147325833879, 0.1710049108611293, 0.1710049108611293, 0.259039484471424, 0.518078968942848, 0.3535017041445821, 0.3535017041445821, 0.5281231487754382, 0.41749833354406, 0.41749833354406, 0.701440661602461, 0.8984828956551566, 0.8901751882528106, 0.48988476993788016, 0.6883258464890382, 0.36799944807769586, 0.36799944807769586, 0.5494021549962025, 0.5140746045942941, 0.10281492091885883, 0.10281492091885883, 0.10281492091885883, 0.05140746045942941, 0.10281492091885883, 0.2333816563068339, 0.2333816563068339, 0.2333816563068339, 0.5311134616413982, 0.5311134616413982, 0.40981843714577926, 0.40981843714577926, 0.1670075206415785, 0.1670075206415785, 0.334015041283157, 0.21797272473910187, 0.43594544947820374, 0.21797272473910187, 0.4537303340219979, 0.4537303340219979, 0.7397864390683919, 0.32997594310629746, 0.32997594310629746, 0.32997594310629746, 0.44147509857943756, 0.14715836619314587, 0.14715836619314587, 0.14715836619314587, 0.29431673238629175, 0.6968742955503427, 0.7882139960077381, 0.9014169657110933, 0.47299584331005173, 0.8122634865650138, 0.8122633173395194, 0.28936358055497347, 0.28936358055497347, 0.2079443089937309, 0.2079443089937309, 0.4158886179874618, 0.5630128172660878, 0.3066208390572346, 0.3066208390572346, 0.3066208390572346, 0.6012464343021479, 0.571944894601401, 0.815287943117696, 0.47040862692222396, 0.47040862692222396, 0.49436706858688423, 0.49436706858688423, 0.44393018413694607, 0.3473190989099155, 0.3473190989099155, 0.7609726131156905, 0.21907228109788557, 0.21907228109788557, 0.21907228109788557, 0.21907228109788557, 0.41634348499291446, 0.6968769328252006, 0.35140976097556714, 0.5271146414633506, 0.5722622385974191, 0.49900838315562956, 0.49900838315562956, 0.3321456249255488, 0.1660728124627744, 0.1660728124627744, 0.1660728124627744, 0.1660728124627744, 0.4218275064134748, 0.4218275064134748, 0.4334591830230851, 0.4334591830230851, 0.44138743378986517, 0.44138743378986517, 0.400496290293075, 0.39865598573140865, 0.19932799286570432, 0.39865598573140865, 0.4594004553029932, 0.33457177591559906, 0.33457177591559906, 0.5632303780683225, 0.27182343917192003, 0.13591171958596002, 0.27182343917192003, 0.13591171958596002, 0.5103258685642256, 0.2551629342821128, 0.2551629342821128, 0.5352632319329814, 0.2676316159664907, 0.8899959235010879, 0.4253209692184133, 0.39597140829235555, 0.39597140829235555, 0.22146556165368098, 0.22146556165368098, 0.44293112330736195, 0.585003429060168, 0.5367117701584586, 0.8984923318233751, 0.18810435381501353, 0.5643130614450406, 0.4331409182289202, 0.36076744199689775, 0.8122723710025049, 0.11342122818730523, 0.22684245637461045, 0.11342122818730523, 0.22684245637461045, 0.11342122818730523, 0.11342122818730523, 0.7222006142441546, 0.4110168538073322, 0.4110168538073322, 0.39175267870031555, 0.39175267870031555, 0.2533471824814203, 0.12667359124071015, 0.2533471824814203, 0.2533471824814203, 0.12667359124071015, 0.12667359124071015, 0.4251345214612279, 0.6043771235814114, 0.11332071067151464, 0.11332071067151464, 0.07554714044767642, 0.03777357022383821, 0.528472275380778, 0.5532909810412003, 0.4159970913914597, 0.4828430840808093, 0.24142154204040464, 0.12071077102020232, 0.48965800251685754, 0.8122772786798779, 0.4647640467893613, 0.8122567599059103, 0.1455495591231724, 0.2910991182463448, 0.2910991182463448, 0.1455495591231724, 0.1455495591231724, 0.3399065525971863, 0.16995327629859314, 0.16995327629859314, 0.3399065525971863, 0.6460298649195703, 0.32301493245978513, 0.8984829655519702, 0.4457368658889105, 0.5861663269760029, 0.19538877565866763, 0.19538877565866763, 0.8899729542036571, 0.3915590797059504, 0.1779813998663411, 0.07119255994653644, 0.10678883991980465, 0.03559627997326822, 0.07119255994653644, 0.07119255994653644, 0.07119255994653644, 0.5621560991229475, 0.8122628096634588, 0.8122783363767349, 0.1981515849021146, 0.1981515849021146, 0.5944547547063438, 0.3616175156617242, 0.10544240419444711, 0.10544240419444711, 0.10544240419444711, 0.31632721258334134, 0.10544240419444711, 0.10544240419444711, 0.4110142971300273, 0.4110142971300273, 0.9160673611424316, 0.7321901675755045, 0.09655254957039619, 0.11264464116546222, 0.048276274785198095, 0.06486717839591427, 0.06486717839591427, 0.19460153518774279, 0.19460153518774279, 0.2594687135836571, 0.12973435679182854, 0.19767019557411503, 0.19767019557411503, 0.09883509778705751, 0.09883509778705751, 0.29650529336117254, 0.4590122582210165, 0.2064533299935473, 0.30967999499032095, 0.30967999499032095, 0.6132838988051897, 0.6968694016911234, 0.6266364959665136, 0.7768753576610514, 0.8375018559295829, 0.41743999182772407, 0.48284228011268715, 0.7337042487723221, 0.5068016478084346, 0.09809064151130992, 0.09809064151130992, 0.06539376100753995, 0.08174220125942494, 0.04904532075565496, 0.04904532075565496, 0.016348440251884987, 0.016348440251884987, 0.016348440251884987, 0.016348440251884987, 0.28667974100879645, 0.28667974100879645, 0.5632480757781119, 0.4213217689573966, 0.4213217689573966, 0.5614453584684863, 0.6662520751608855, 0.1332504150321771, 0.1332504150321771, 0.47576291156678013, 0.47576291156678013, 0.22742250973909686, 0.6822675292172906, 0.6737507980483701, 0.33687539902418506, 0.12925129721311499, 0.12925129721311499, 0.12925129721311499, 0.3877538916393449, 0.12925129721311499, 0.42334253531688326, 0.06195661280738983, 0.5576095152665085, 0.12391322561477966, 0.1858698384221695, 0.06195661280738983, 0.19120342311864408, 0.19120342311864408, 0.19120342311864408, 0.19120342311864408, 0.19120342311864408, 0.5422744807745198, 0.5691137882494852, 0.2461636794361077, 0.0820545598120359, 0.0820545598120359, 0.0820545598120359, 0.2461636794361077, 0.0820545598120359, 0.4008645794246562, 0.10021614485616405, 0.3006484345684921, 0.10021614485616405, 0.36187534214396855, 0.41867357611113953, 0.4585888610905056, 0.3304718878703859, 0.1101572959567953, 0.1101572959567953, 0.2203145919135906, 0.1101572959567953, 0.1101572959567953, 0.41100878054579537, 0.41100878054579537, 0.6931007613045227, 0.4756116585611972, 0.5276533110562208, 0.2638266555281104, 0.10075735326239985, 0.4030294130495994, 0.30227205978719957, 0.10075735326239985, 0.6016109796892223, 0.43615588474982203, 0.40112664595999364, 0.3049095232343666, 0.3049095232343666, 0.2562066519942325, 0.2562066519942325, 0.2562066519942325, 0.2562066519942325, 0.41469171218921114, 0.41469171218921114, 0.5572106275931092, 0.8985177755165011, 0.4206884409162224, 0.4206884409162224, 0.2103442204581112, 0.1320556715502116, 0.2641113431004232, 0.2641113431004232, 0.2641113431004232, 0.3397869935959007, 0.10454984418335406, 0.05227492209167703, 0.05227492209167703, 0.026137461045838514, 0.05227492209167703, 0.026137461045838514, 0.05227492209167703, 0.10454984418335406, 0.07841238313751554, 0.026137461045838514, 0.026137461045838514, 0.026137461045838514, 0.8122768979096839, 0.38850972714547477, 0.38850972714547477, 0.6819467340763464, 0.6042191619968672, 0.3021095809984336, 0.6936502662169223, 0.3271199115740914, 0.3271199115740914, 0.6132936976366727, 0.558950229957051, 0.8122752902172443, 0.8122610328022442, 0.6968592607460886, 0.5301892705698503, 0.7452887625221616, 0.2513688332871575, 0.502737666574315, 0.693543744564239, 0.3865778793110723, 0.3865778793110723, 0.2487165093464102, 0.4974330186928204, 0.30489876636430363, 0.6097975327286073, 0.7699856536381988, 0.22818071365887968, 0.22818071365887968, 0.22818071365887968, 0.22818071365887968, 0.6668200950946606, 0.3334100475473303, 0.15786264206597678, 0.15786264206597678, 0.15786264206597678, 0.15786264206597678, 0.15786264206597678, 0.5571433550673353, 0.08350017995212117, 0.2505005398563635, 0.08350017995212117, 0.08350017995212117, 0.08350017995212117, 0.33400071980848467, 0.08350017995212117, 0.6429246948548897, 0.7170916376578335, 0.4651365039290257, 0.38605295948740015, 0.38605295948740015, 0.5861043989545944, 0.6839878138224936, 0.40139500088598584, 0.10034875022149646, 0.30104625066448937, 0.10034875022149646, 0.2717170400069593, 0.2717170400069593, 0.2717170400069593, 0.12654867863136304, 0.12654867863136304, 0.2530973572627261, 0.3796460358940891, 0.8178515323298394, 0.6968615444720362, 0.5794120626798188, 0.19313735422660627, 0.06437911807553542, 0.19313735422660627, 0.6968564876704184, 0.5160293476745264, 0.24494497494028158, 0.24494497494028158, 0.24494497494028158, 0.24494497494028158, 0.5164400733384804, 0.11575380954138353, 0.11575380954138353, 0.08013725275941937, 0.01780827839098208, 0.04897276557520072, 0.022260347988727603, 0.013356208793236561, 0.04006862637970968, 0.00445206959774552, 0.00890413919549104, 0.00445206959774552, 0.00890413919549104, 0.3503196989776183, 0.2921131462616543, 0.2921131462616543, 0.422979907683214, 0.422979907683214, 0.4793531305575327, 0.2800729455772559, 0.2800729455772559, 0.5010624820875725, 0.3340416547250483, 0.0824872017362585, 0.0824872017362585, 0.329948806945034, 0.0824872017362585, 0.0824872017362585, 0.2474616052087755, 0.0824872017362585, 0.3705762436284977, 0.3705762436284977, 0.32897541306302697, 0.32897541306302697, 0.7668053787156712, 0.44008944622443996, 0.19423309154406615, 0.19423309154406615, 0.19423309154406615, 0.4174357243943504, 0.5771227669252113, 0.13930549546470616, 0.07960314026554638, 0.07960314026554638, 0.019900785066386595, 0.019900785066386595, 0.019900785066386595, 0.059702355199159785, 0.1428073075637227, 0.1428073075637227, 0.4284219226911681, 0.1428073075637227, 0.41143853584299583, 0.20571926792149792, 0.10285963396074896, 0.10285963396074896, 0.6892081503879284, 0.07657868337643649, 0.07657868337643649, 0.07657868337643649, 0.6024538807553355, 0.16159370499228087, 0.16159370499228087, 0.16159370499228087, 0.32318740998456175, 0.35184578117027293, 0.09595794031916535, 0.09595794031916535, 0.0639719602127769, 0.1279439204255538, 0.09595794031916535, 0.03198598010638845, 0.03198598010638845, 0.03198598010638845, 0.03198598010638845, 0.45819704955648555, 0.22909852477824277, 0.22909852477824277, 0.42604590462243963, 0.42604590462243963, 0.6968665197839623, 0.6036464588901744, 0.5632158138908469, 0.16432839070108016, 0.08216419535054008, 0.24649258605162022, 0.3286567814021603, 0.08216419535054008, 0.8376153819366241, 0.8191843610767592, 0.5998852071140077, 0.0922900318636935, 0.0922900318636935, 0.06921752389777013, 0.023072507965923375, 0.023072507965923375, 0.04614501593184675, 0.023072507965923375, 0.023072507965923375, 0.023072507965923375, 0.525839330797095, 0.758105373116846, 0.5923686477928888, 0.7768855546639482, 0.8375452736732276, 0.48342678492388486, 0.6856243889364994, 0.19589659152703714, 0.3917931830540743, 0.8984960364473014, 0.7148462208679588, 0.07942735787421763, 0.07942735787421763, 0.07942735787421763, 0.1112122162679743, 0.7784855138758201, 0.1112122162679743, 0.25175793657329215, 0.25175793657329215, 0.5385438014205802, 0.6982876414320304, 0.48854754429639957, 0.24427377214819979, 0.903362484770374, 0.22538538322155985, 0.22538538322155985, 0.22538538322155985, 0.22538538322155985, 0.6968636379006372, 0.23816564473865706, 0.23816564473865706, 0.23816564473865706, 0.9015398522586899, 0.5443265513051337, 0.05729753171632987, 0.07162191464541234, 0.0859462975744948, 0.07162191464541234, 0.028648765858164935, 0.014324382929082467, 0.0429731487872474, 0.014324382929082467, 0.014324382929082467, 0.028648765858164935, 0.014324382929082467, 0.38936775631495163, 0.5340022212364933, 0.26700111061824666, 0.5203823442848314, 0.6132984031274307, 0.6132937946563718, 0.3674552262399383, 0.48309338244738237, 0.1610311274824608, 0.1610311274824608, 0.5548941473893223, 0.47673756395562794, 0.5244430849945907, 0.5244430849945907, 0.8984975043256094, 0.265204021097263, 0.265204021097263, 0.7235450853696692, 0.3649566359500322, 0.41101027016246966, 0.41101027016246966, 0.5027911013735451, 0.25139555068677255, 0.25139555068677255, 0.6132828316246295, 0.4647099517087656, 0.6682534768614806, 0.5345947242299999, 0.16525227543928797, 0.16525227543928797, 0.49575682631786394, 0.16525227543928797, 0.12566706522787002, 0.5445572826541034, 0.04188902174262334, 0.16755608697049337, 0.04188902174262334, 0.04188902174262334, 0.32729149100470417, 0.6545829820094083, 0.6152644594333662, 0.20508815314445536, 0.20508815314445536, 0.5558417260032995, 0.8297608246421134, 0.23927851269815217, 0.7178355380944565, 0.8122626404382461, 0.4448319659820579, 0.4448319659820579, 0.39196724354286944, 0.39196724354286944, 0.733588638529768, 0.4846405521081257, 0.24232027605406284, 0.3122201795370431, 0.5537284564727939, 0.27686422823639695, 0.7101273864938537, 0.4736898138064348, 0.33293053474981, 0.33293053474981, 0.33293053474981, 0.8903121196451966, 0.35112834664035897, 0.35112834664035897, 0.17027183015475308, 0.5108154904642592, 0.17027183015475308, 0.4595638489463695, 0.4595007555630775, 0.48388678515898265, 0.8899239661227041, 0.6812637260942084, 0.47005431274671344, 0.8184590212224495, 0.4182663738091508, 0.34042197487635995, 0.34042197487635995, 0.5966454081729635, 0.19558042009331666, 0.7823216803732667, 0.7825467620002534, 0.42333604692008375, 0.42333604692008375, 0.43375117459611556, 0.34754123944791526, 0.34754123944791526, 0.34754123944791526, 0.49435218655890145, 0.37076413991917606, 0.4702019938204527, 0.7006999910207858, 0.0778555545578651, 0.0778555545578651, 0.0778555545578651, 0.6968587713781903, 0.6968602938583537, 0.6214747859681853, 0.07768434824602316, 0.15536869649204632, 0.07768434824602316, 0.7212392390343078, 0.0801376932260342, 0.0801376932260342, 0.0801376932260342, 0.377900193846991, 0.377900193846991, 0.4834661934640054, 0.2131258742458021, 0.6393776227374063, 0.6846002012368376, 0.38475343749524765, 0.19237671874762383, 0.6414176875715091, 0.32070884378575454, 0.2569259795204921, 0.2569259795204921, 0.2569259795204921, 0.6819133765877031, 0.5694276112105024, 0.17740223708893063, 0.532206711266792, 0.8277872153138193, 0.10740124398633522, 0.10740124398633522, 0.05370062199316761, 0.05370062199316761, 0.05370062199316761, 0.10740124398633522, 0.05370062199316761, 0.16110186597950282, 0.10740124398633522, 0.05370062199316761, 0.05370062199316761, 0.05370062199316761, 0.33191562964622057, 0.16595781482311028, 0.16595781482311028, 0.16595781482311028, 0.8122790133041685, 0.7727207746746897, 0.28763369023291147, 0.28763369023291147, 0.28763369023291147, 0.5488648011522904, 0.18295493371743013, 0.18295493371743013, 0.4320087374974312, 0.35232999129697784, 0.35232999129697784, 0.37787542172461175, 0.28340656629345884, 0.09446885543115294, 0.18893771086230587, 0.09446885543115294, 0.7841133516045805, 0.7688637716668004, 0.2743769997898223, 0.2743769997898223, 0.25104661004239043, 0.5020932200847809, 0.631438643091375, 0.210479547697125, 0.18225737283950016, 0.18225737283950016, 0.09112868641975008, 0.18225737283950016, 0.27338605925925025, 0.09112868641975008, 0.8141964306731553, 0.4736319099982263, 0.4110098040518921, 0.4110098040518921], \"Term\": [\"accession\", \"accordance\", \"acid\", \"acid\", \"acid\", \"acid\", \"acid\", \"acid\", \"acid\", \"acid\", \"acid\", \"acreage\", \"active\", \"activity\", \"activity\", \"activity\", \"addition\", \"additionally\", \"additionally\", \"adjacent\", \"administer\", \"agent\", \"agent\", \"aggregate\", \"agronomic\", \"agronomic\", \"alcohol\", \"alfalfa\", \"alone\", \"also\", \"also\", \"also\", \"also\", \"also\", \"also\", \"also\", \"also\", \"alteration\", \"alteration\", \"alternative\", \"amend\", \"amino\", \"amino\", \"amino\", \"amino\", \"amylose\", \"amylose\", \"analysis\", \"analyze\", \"annual\", \"apparatus\", \"apparatus\", \"application\", \"application\", \"application\", \"application\", \"apply\", \"appropriate\", \"area\", \"area\", \"area\", \"area\", \"aspect\", \"assembly\", \"assembly\", \"atcc\", \"bacteria\", \"bacteria\", \"bacterial\", \"bacterial\", \"bacterial\", \"base\", \"base\", \"base\", \"base\", \"basis\", \"beam\", \"bee\", \"bee\", \"believe\", \"bermudgrass\", \"biotechnology\", \"biotechnology\", \"boron\", \"boron\", \"brome\", \"brome\", \"cad\", \"calcium\", \"calcium\", \"calcium\", \"calibrate\", \"capable\", \"capable\", \"capable\", \"capable\", \"carbohydrate\", \"carbohydrate\", \"carry\", \"cattle\", \"cattle\", \"cattle\", \"cell\", \"cell\", \"characteristic\", \"check\", \"check\", \"cheniere\", \"chromatography\", \"cinnamyl\", \"citric\", \"clog\", \"coat\", \"coat\", \"cold\", \"combination\", \"combination\", \"combination\", \"commodity\", \"commodity\", \"comparison\", \"complement\", \"complement\", \"complement\", \"complement\", \"composition\", \"composition\", \"composition\", \"composition\", \"composition\", \"composition\", \"composition\", \"composition\", \"composition\", \"composition\", \"compound\", \"comprise\", \"comprise\", \"comprise\", \"comprise\", \"comprise\", \"comprise\", \"computer\", \"concentration\", \"concentration\", \"confer\", \"configure\", \"configure\", \"consist\", \"consist\", \"content\", \"content\", \"content\", \"content\", \"content\", \"content\", \"content\", \"content\", \"content\", \"control\", \"control\", \"control\", \"control\", \"controllable\", \"controller\", \"controller\", \"corn\", \"corn\", \"corn\", \"corn\", \"corn\", \"corn\", \"cotton\", \"cotton\", \"cotton\", \"cotton\", \"cotton\", \"crop\", \"crop\", \"cross\", \"cross\", \"cross\", \"cross\", \"crosse\", \"crosse\", \"crosse\", \"crosse\", \"crossing\", \"crossing\", \"crossing\", \"crossing\", \"crude\", \"cultivar\", \"cyanamide\", \"cyanamide\", \"cyanamide\", \"cytoplasmically\", \"dairy\", \"dairy\", \"dairy\", \"datum\", \"datum\", \"defective\", \"defective\", \"deficiency\", \"deficit\", \"deficit\", \"degree\", \"dehiscent\", \"dehydrogenase\", \"deletion\", \"delivery\", \"derive\", \"derive\", \"descendent\", \"designate\", \"designate\", \"designate\", \"designate\", \"designate\", \"designate\", \"desire\", \"desire\", \"desire\", \"detect\", \"detect\", \"detection\", \"detection\", \"determine\", \"determine\", \"determine\", \"dha\", \"dha\", \"dha\", \"dhb\", \"dhb\", \"digestibility\", \"direct\", \"direct\", \"direct\", \"disclose\", \"disclose\", \"disclose\", \"disclose\", \"disclose\", \"distillation\", \"distinct\", \"dsq\", \"due\", \"dwarf\", \"dwarfism\", \"dwell\", \"dwell\", \"early\", \"early\", \"early\", \"easily\", \"effective\", \"effective\", \"effective\", \"effectiveness\", \"efficiency\", \"element\", \"elevate\", \"elevate\", \"elevated\", \"elevated\", \"embodiment\", \"encode\", \"encode\", \"endogenous\", \"endogenously\", \"endogenously\", \"endogenously\", \"endogenously\", \"enhance\", \"environmental\", \"event\", \"event\", \"example\", \"excess\", \"excess\", \"exhibit\", \"exhibit\", \"exhibit\", \"exhibit\", \"exhibit\", \"exposure\", \"exposure\", \"express\", \"express\", \"extract\", \"extract\", \"facilitate\", \"factor\", \"factor\", \"factor\", \"farmable\", \"farming\", \"farming\", \"fast\", \"fatty\", \"fatty\", \"fatty\", \"fatty\", \"feed\", \"feed\", \"feed\", \"female\", \"female\", \"fermentable\", \"fertile\", \"fertility\", \"fertility\", \"fertilizer\", \"fertilizer\", \"fertilizer\", \"fertilizing\", \"filament\", \"find\", \"first\", \"first\", \"flag\", \"follow\", \"forage\", \"form\", \"form\", \"form\", \"form\", \"form\", \"form\", \"full\", \"function\", \"function\", \"gas\", \"gas\", \"gene\", \"gene\", \"gene\", \"gene\", \"gene\", \"gene\", \"generation\", \"genetic\", \"genetic\", \"genetic\", \"genetic\", \"genetic\", \"genotype\", \"germinate\", \"germination\", \"grain\", \"grain\", \"grain\", \"great\", \"green\", \"ground\", \"group\", \"grow\", \"grow\", \"grow\", \"grow\", \"grow\", \"growth\", \"growth\", \"growth\", \"growth\", \"harvest\", \"harvest\", \"harvesting\", \"herbicide\", \"high\", \"high\", \"high\", \"homozygous\", \"hybrid\", \"hybrid\", \"hybrid\", \"hybrid\", \"hybrid\", \"hybrid\", \"hybrid\", \"hybrid\", \"hybridization\", \"identifiable\", \"identification\", \"identify\", \"identify\", \"identify\", \"impart\", \"improve\", \"improve\", \"improve\", \"improve\", \"improve\", \"improve\", \"improved\", \"improved\", \"impurity\", \"inbreed\", \"inbreed\", \"inbreed\", \"inbreed\", \"include\", \"include\", \"include\", \"include\", \"include\", \"include\", \"increase\", \"increase\", \"increase\", \"increase\", \"increase\", \"indicate\", \"induce\", \"induce\", \"induce\", \"infer\", \"information\", \"inhibition\", \"input\", \"insculant\", \"instruction\", \"introduce\", \"introduction\", \"invention\", \"invention\", \"invention\", \"invention\", \"invention\", \"invention\", \"invention\", \"invention\", \"invention\", \"invention\", \"invention\", \"involve\", \"involve\", \"ion\", \"ionic\", \"ionic\", \"irrigation\", \"isi\", \"isi\", \"isi\", \"japanese\", \"japanese\", \"lcl\", \"lcl\", \"leach\", \"leach\", \"least\", \"least\", \"least\", \"least\", \"least\", \"leave\", \"less\", \"less\", \"less\", \"less\", \"less\", \"level\", \"level\", \"level\", \"level\", \"level\", \"light\", \"likewise\", \"line\", \"line\", \"line\", \"line\", \"line\", \"line\", \"linolenic\", \"linolenic\", \"linolenic\", \"linolenic\", \"list\", \"local\", \"long\", \"low\", \"low\", \"low\", \"low\", \"low\", \"low\", \"lowerstachyose\", \"lowerstachyose\", \"maintenance\", \"maize\", \"make\", \"make\", \"male\", \"male\", \"male\", \"male\", \"manure\", \"material\", \"mature\", \"maturity\", \"maturity\", \"may\", \"may\", \"may\", \"may\", \"mean\", \"mean\", \"measure\", \"mechanized\", \"medium\", \"medium\", \"medium\", \"metal\", \"metal\", \"metal\", \"metal\", \"method\", \"method\", \"method\", \"method\", \"method\", \"method\", \"method\", \"method\", \"method\", \"method\", \"method\", \"method\", \"method\", \"microelement\", \"micronutrient\", \"micronutrient\", \"midrib\", \"milk\", \"milk\", \"minimize\", \"mix\", \"mix\", \"model\", \"modify\", \"molar\", \"morphologically\", \"multi\", \"mutation\", \"name\", \"neem\", \"neem\", \"nitrate\", \"nitrogen\", \"nitrogen\", \"nitrogenous\", \"nitrogenous\", \"non\", \"non\", \"northern\", \"novel\", \"novel\", \"novel\", \"novel\", \"object\", \"object\", \"obtain\", \"obtain\", \"obtain\", \"obtain\", \"obtain\", \"odor\", \"oil\", \"oil\", \"oil\", \"oil\", \"oil\", \"oil\", \"oil\", \"omnidirectional\", \"optimization\", \"organ\", \"organic\", \"organic\", \"organism\", \"overlap\", \"palmitic\", \"palmitic\", \"palmitic\", \"palmitic\", \"parent\", \"parent\", \"parent\", \"part\", \"part\", \"part\", \"part\", \"pass\", \"peak\", \"percent\", \"percent\", \"percent\", \"percent\", \"perform\", \"period\", \"phenotype\", \"phenotype\", \"phenotype\", \"phenotype\", \"plant\", \"plant\", \"plant\", \"plant\", \"plant\", \"plant\", \"plant\", \"plant\", \"plant\", \"plant\", \"plant\", \"plant\", \"plant\", \"planting\", \"pollination\", \"pollination\", \"polynucleotide\", \"polynucleotide\", \"population\", \"possess\", \"possess\", \"potato\", \"potato\", \"preferably\", \"preferably\", \"preferably\", \"preferably\", \"preferably\", \"preferably\", \"preferably\", \"presence\", \"presence\", \"present\", \"present\", \"previous\", \"procedure\", \"process\", \"process\", \"process\", \"processor\", \"produce\", \"produce\", \"produce\", \"produce\", \"produce\", \"produce\", \"produce\", \"produce\", \"product\", \"product\", \"product\", \"product\", \"production\", \"production\", \"production\", \"production\", \"profile\", \"profile\", \"profile\", \"profile\", \"program\", \"protein\", \"protein\", \"protein\", \"protein\", \"provide\", \"provide\", \"provide\", \"provide\", \"provide\", \"provide\", \"provide\", \"provide\", \"provide\", \"provide\", \"quality\", \"quality\", \"quality\", \"rail\", \"rail\", \"range\", \"recombinant\", \"recovery\", \"reduce\", \"reduce\", \"reduce\", \"reduce\", \"reduce\", \"reduction\", \"region\", \"relate\", \"relate\", \"relate\", \"relate\", \"relate\", \"relate\", \"relate\", \"relate\", \"relate\", \"relate\", \"relative\", \"relatively\", \"release\", \"remote\", \"replicating\", \"residue\", \"resistance\", \"result\", \"result\", \"retention\", \"rflp\", \"rflp\", \"rflp\", \"rflp\", \"rice\", \"rice\", \"rice\", \"root\", \"root\", \"rotate\", \"safflower\", \"salt\", \"salt\", \"sample\", \"say\", \"say\", \"say\", \"say\", \"scan\", \"season\", \"season\", \"season\", \"second\", \"seed\", \"seed\", \"seed\", \"seed\", \"seed\", \"seed\", \"seed\", \"seed\", \"seed\", \"seed\", \"seed\", \"seed\", \"select\", \"selective\", \"selective\", \"self\", \"sense\", \"sensing\", \"seq\", \"sequence\", \"sequence\", \"sequence\", \"setpoint\", \"several\", \"sexual\", \"sexual\", \"shatter\", \"shoot\", \"shoot\", \"short\", \"show\", \"significantly\", \"significantly\", \"silage\", \"silage\", \"silage\", \"simulation\", \"simultaneously\", \"site\", \"small\", \"soil\", \"soil\", \"soil\", \"soil\", \"soybean\", \"soybean\", \"soybean\", \"soybean\", \"soybean\", \"soybean\", \"specific\", \"specific\", \"stabilize\", \"stabilize\", \"stabilize\", \"stable\", \"stably\", \"stachyose\", \"stachyose\", \"standability\", \"starch\", \"starch\", \"station\", \"station\", \"stature\", \"stearic\", \"stearic\", \"sterile\", \"sterility\", \"sterility\", \"still\", \"storage\", \"store\", \"store\", \"store\", \"stover\", \"strain\", \"strain\", \"stress\", \"stress\", \"stress\", \"sub\", \"sub_region\", \"substitution\", \"sugar\", \"suitable\", \"summer\", \"superior\", \"support\", \"surfactant\", \"surfactant\", \"synergistically\", \"system\", \"system\", \"tall\", \"tam\", \"tam\", \"target\", \"technique\", \"technique\", \"technique\", \"temperature\", \"temperature\", \"therein\", \"thereof_accorde\", \"thereof_accorde\", \"thereof_accorde\", \"thereof_accorde\", \"thermal\", \"thermogram\", \"thus\", \"thus\", \"thus\", \"thus\", \"tissue_culture\", \"tissue_culture\", \"tissue_culture\", \"tissue_culture\", \"tolerance\", \"tolerance\", \"tolerant\", \"tool\", \"tool\", \"top\", \"total\", \"total\", \"trait\", \"trait\", \"transgenic\", \"transgenic\", \"transgenic\", \"type\", \"unable\", \"unit\", \"unit\", \"upright\", \"use\", \"use\", \"use\", \"use\", \"use\", \"use\", \"use\", \"use\", \"use\", \"use\", \"use\", \"use\", \"useful\", \"useful\", \"useful\", \"useful\", \"utilize\", \"value\", \"variety\", \"variety\", \"variety\", \"vegetable\", \"vegetable\", \"vegetable\", \"water\", \"weed\", \"weed\", \"weight\", \"weight\", \"weight\", \"weight\", \"weight\", \"well\", \"wherein\", \"wild\", \"wild\", \"work\", \"work\", \"wqds\", \"wqds\", \"yield\", \"yield\", \"yield\", \"yield\", \"yield\", \"yield\", \"zea\", \"zone\", \"\\u03bcmol\", \"\\u03bcmol\"]}, \"R\": 30, \"lambda.step\": 0.01, \"plot.opts\": {\"xlab\": \"PC1\", \"ylab\": \"PC2\"}, \"topic.order\": [5, 20, 17, 18, 3, 4, 16, 15, 10, 11, 12, 6, 9, 13, 1, 2, 7, 8, 19, 14]};\n",
       "\n",
       "function LDAvis_load_lib(url, callback){\n",
       "  var s = document.createElement('script');\n",
       "  s.src = url;\n",
       "  s.async = true;\n",
       "  s.onreadystatechange = s.onload = callback;\n",
       "  s.onerror = function(){console.warn(\"failed to load library \" + url);};\n",
       "  document.getElementsByTagName(\"head\")[0].appendChild(s);\n",
       "}\n",
       "\n",
       "if(typeof(LDAvis) !== \"undefined\"){\n",
       "   // already loaded: just create the visualization\n",
       "   !function(LDAvis){\n",
       "       new LDAvis(\"#\" + \"ldavis_el3751145680293923254806997\", ldavis_el3751145680293923254806997_data);\n",
       "   }(LDAvis);\n",
       "}else if(typeof define === \"function\" && define.amd){\n",
       "   // require.js is available: use it to load d3/LDAvis\n",
       "   require.config({paths: {d3: \"https://cdnjs.cloudflare.com/ajax/libs/d3/3.5.5/d3.min\"}});\n",
       "   require([\"d3\"], function(d3){\n",
       "      window.d3 = d3;\n",
       "      LDAvis_load_lib(\"https://cdn.rawgit.com/bmabey/pyLDAvis/files/ldavis.v1.0.0.js\", function(){\n",
       "        new LDAvis(\"#\" + \"ldavis_el3751145680293923254806997\", ldavis_el3751145680293923254806997_data);\n",
       "      });\n",
       "    });\n",
       "}else{\n",
       "    // require.js not available: dynamically load d3 & LDAvis\n",
       "    LDAvis_load_lib(\"https://cdnjs.cloudflare.com/ajax/libs/d3/3.5.5/d3.min.js\", function(){\n",
       "         LDAvis_load_lib(\"https://cdn.rawgit.com/bmabey/pyLDAvis/files/ldavis.v1.0.0.js\", function(){\n",
       "                 new LDAvis(\"#\" + \"ldavis_el3751145680293923254806997\", ldavis_el3751145680293923254806997_data);\n",
       "            })\n",
       "         });\n",
       "}\n",
       "</script>"
      ],
      "text/plain": [
       "PreparedData(topic_coordinates=              x         y  topics  cluster       Freq\n",
       "topic                                                \n",
       "4     -0.287669 -0.007071       1        1  27.535924\n",
       "19    -0.169744  0.002668       2        1   9.964003\n",
       "16    -0.198492 -0.035537       3        1   6.946079\n",
       "17    -0.166179  0.037534       4        1   6.727125\n",
       "2      0.091812 -0.184359       5        1   6.718125\n",
       "3     -0.033232  0.063979       6        1   6.404308\n",
       "15     0.102798 -0.104555       7        1   5.846787\n",
       "14     0.033588 -0.165525       8        1   5.246852\n",
       "9     -0.009591  0.045217       9        1   5.238420\n",
       "10     0.130600 -0.037253      10        1   5.010195\n",
       "11     0.172925  0.200964      11        1   4.349756\n",
       "5      0.037553  0.015555      12        1   2.609812\n",
       "8      0.053146 -0.040047      13        1   2.397604\n",
       "12    -0.009199  0.085737      14        1   1.648342\n",
       "0      0.071722  0.079745      15        1   1.558318\n",
       "1      0.080138  0.037679      16        1   1.457557\n",
       "6     -0.032099  0.054805      17        1   0.117194\n",
       "7     -0.059601 -0.033424      18        1   0.079061\n",
       "18     0.105835 -0.086804      19        1   0.076218\n",
       "13     0.085691  0.070690      20        1   0.068320, topic_info=            Term        Freq       Total Category  logprob  loglift\n",
       "9        inbreed  124.000000  124.000000  Default  30.0000  30.0000\n",
       "2           corn  120.000000  120.000000  Default  29.0000  29.0000\n",
       "13         plant  224.000000  224.000000  Default  28.0000  28.0000\n",
       "22          acid   32.000000   32.000000  Default  27.0000  27.0000\n",
       "62     invention   61.000000   61.000000  Default  26.0000  26.0000\n",
       "..           ...         ...         ...      ...      ...      ...\n",
       "228         crop    0.003056    4.212953  Topic20  -6.4265   0.0598\n",
       "227      believe    0.003056    1.433734  Topic20  -6.4265   1.1377\n",
       "226        apply    0.003056    1.992372  Topic20  -6.4265   0.8086\n",
       "225  alternative    0.003056    1.443939  Topic20  -6.4265   1.1306\n",
       "224     adjacent    0.003056    1.444306  Topic20  -6.4265   1.1303\n",
       "\n",
       "[1002 rows x 6 columns], token_table=      Topic      Freq        Term\n",
       "term                             \n",
       "21        5  0.548845   accession\n",
       "56        8  0.736158  accordance\n",
       "22        2  0.061206        acid\n",
       "22        5  0.306030        acid\n",
       "22        7  0.183618        acid\n",
       "...     ...       ...         ...\n",
       "20       14  0.091129       yield\n",
       "561       4  0.814196         zea\n",
       "243       9  0.473632        zone\n",
       "182       3  0.411010        μmol\n",
       "182       5  0.411010        μmol\n",
       "\n",
       "[926 rows x 3 columns], R=30, lambda_step=0.01, plot_opts={'xlab': 'PC1', 'ylab': 'PC2'}, topic_order=[5, 20, 17, 18, 3, 4, 16, 15, 10, 11, 12, 6, 9, 13, 1, 2, 7, 8, 19, 14])"
      ]
     },
     "execution_count": 28,
     "metadata": {},
     "output_type": "execute_result"
    }
   ],
   "source": [
    "# Visualize the topics\n",
    "pyLDAvis.enable_notebook()\n",
    "vis = pyLDAvis.gensim.prepare(lda_model, corpus, id2word)\n",
    "vis"
   ]
  },
  {
   "cell_type": "code",
   "execution_count": 29,
   "metadata": {},
   "outputs": [
    {
     "name": "stderr",
     "output_type": "stream",
     "text": [
      "/opt/anaconda3/envs/tensorflow_env/lib/python3.7/site-packages/ipykernel/ipkernel.py:287: DeprecationWarning: `should_run_async` will not call `transform_cell` automatically in the future. Please pass the result to `transformed_cell` argument and any exception that happen during thetransform in `preprocessing_exc_tuple` in IPython 7.17 and above.\n",
      "  and should_run_async(code)\n"
     ]
    }
   ],
   "source": [
    "def compute_coherence_values(dictionary, corpus, texts, limit, start=2, step=3):\n",
    "    \"\"\"\n",
    "    Compute c_v coherence for various number of topics\n",
    "\n",
    "    Parameters:\n",
    "    ----------\n",
    "    dictionary : Gensim dictionary\n",
    "    corpus : Gensim corpus\n",
    "    texts : List of input texts\n",
    "    limit : Max num of topics\n",
    "\n",
    "    Returns:\n",
    "    -------\n",
    "    model_list : List of LDA topic models\n",
    "    coherence_values : Coherence values corresponding to the LDA model with respective number of topics\n",
    "    \"\"\"\n",
    "    coherence_values = []\n",
    "    model_list = []\n",
    "    for num_topics in range(start, limit, step):\n",
    "        model = gensim.models.ldamodel.LdaModel(corpus=corpus,\n",
    "                                      id2word = id2word,\n",
    "                                      num_topics = num_topics,\n",
    "                                      random_state = 150,\n",
    "                                      update_every = 1,\n",
    "                                      chunksize = 100,\n",
    "                                      alpha = 'auto',\n",
    "                                      per_word_topics = True)\n",
    "        model_list.append(model)\n",
    "        coherencemodel = CoherenceModel(model=model, texts=texts, dictionary=dictionary, coherence='c_v')\n",
    "        coherence_values.append(coherencemodel.get_coherence())\n",
    "\n",
    "    return model_list, coherence_values"
   ]
  },
  {
   "cell_type": "code",
   "execution_count": 30,
   "metadata": {},
   "outputs": [
    {
     "name": "stderr",
     "output_type": "stream",
     "text": [
      "/opt/anaconda3/envs/tensorflow_env/lib/python3.7/site-packages/ipykernel/ipkernel.py:287: DeprecationWarning: `should_run_async` will not call `transform_cell` automatically in the future. Please pass the result to `transformed_cell` argument and any exception that happen during thetransform in `preprocessing_exc_tuple` in IPython 7.17 and above.\n",
      "  and should_run_async(code)\n"
     ]
    }
   ],
   "source": [
    "model_list, coherence_values = compute_coherence_values(dictionary=id2word, corpus=corpus, texts=data_lemmatized, start=2, limit=40, step=6)"
   ]
  },
  {
   "cell_type": "code",
   "execution_count": 31,
   "metadata": {},
   "outputs": [
    {
     "name": "stderr",
     "output_type": "stream",
     "text": [
      "/opt/anaconda3/envs/tensorflow_env/lib/python3.7/site-packages/ipykernel/ipkernel.py:287: DeprecationWarning: `should_run_async` will not call `transform_cell` automatically in the future. Please pass the result to `transformed_cell` argument and any exception that happen during thetransform in `preprocessing_exc_tuple` in IPython 7.17 and above.\n",
      "  and should_run_async(code)\n",
      "/opt/anaconda3/envs/tensorflow_env/lib/python3.7/site-packages/seaborn/_decorators.py:43: FutureWarning: Pass the following variables as keyword args: x, y. From version 0.12, the only valid positional argument will be `data`, and passing other arguments without an explicit keyword will result in an error or misinterpretation.\n",
      "  FutureWarning\n"
     ]
    },
    {
     "data": {
      "image/png": "[encoded data removed]",
      "text/plain": [
       "<Figure size 864x432 with 1 Axes>"
      ]
     },
     "metadata": {},
     "output_type": "display_data"
    }
   ],
   "source": [
    "limit=40; start=2; step=6;\n",
    "x = range(start, limit, step)\n",
    "\n",
    "sns.set_palette('Accent')\n",
    "sns.set_style('darkgrid')\n",
    "ax = sns.lineplot(x, coherence_values)\n",
    "ax.figure.set_size_inches(12,6)\n",
    "ax.set_title(\"Distribuição dos valores de Coherence\", loc='left', fontsize=18)\n",
    "ax.set_xlabel(\"Número de tópicos\", fontsize=14)\n",
    "ax.set_ylabel(\"Valores de Coherence\", fontsize=14)\n",
    "ax = ax"
   ]
  },
  {
   "cell_type": "code",
   "execution_count": 32,
   "metadata": {},
   "outputs": [
    {
     "name": "stdout",
     "output_type": "stream",
     "text": [
      "Num Topics = 2  has Coherence Value of 0.4081\n",
      "Num Topics = 8  has Coherence Value of 0.4783\n",
      "Num Topics = 14  has Coherence Value of 0.4909\n",
      "Num Topics = 20  has Coherence Value of 0.3827\n",
      "Num Topics = 26  has Coherence Value of 0.5205\n",
      "Num Topics = 32  has Coherence Value of 0.4894\n",
      "Num Topics = 38  has Coherence Value of 0.557\n"
     ]
    },
    {
     "name": "stderr",
     "output_type": "stream",
     "text": [
      "/opt/anaconda3/envs/tensorflow_env/lib/python3.7/site-packages/ipykernel/ipkernel.py:287: DeprecationWarning: `should_run_async` will not call `transform_cell` automatically in the future. Please pass the result to `transformed_cell` argument and any exception that happen during thetransform in `preprocessing_exc_tuple` in IPython 7.17 and above.\n",
      "  and should_run_async(code)\n"
     ]
    }
   ],
   "source": [
    "# Print the coherence scores\n",
    "for m, cv in zip(x, coherence_values):\n",
    "    print(\"Num Topics =\", m, \" has Coherence Value of\", round(cv, 4))"
   ]
  },
  {
   "cell_type": "code",
   "execution_count": 33,
   "metadata": {},
   "outputs": [
    {
     "name": "stdout",
     "output_type": "stream",
     "text": [
      "[(0, '0.036*\"composition\" + 0.023*\"cyanamide\" + 0.021*\"use\" + 0.019*\"stabilize\" + 0.017*\"method\" + 0.016*\"level\" + 0.016*\"activity\" + 0.016*\"reduce\" + 0.016*\"invention\" + 0.016*\"cad\"'), (1, '0.029*\"composition\" + 0.023*\"sequence\" + 0.021*\"calcium\" + 0.017*\"acid\" + 0.017*\"stabilize\" + 0.017*\"amino\" + 0.017*\"salt\" + 0.016*\"method\" + 0.015*\"cyanamide\" + 0.014*\"gene\"'), (2, '0.068*\"soybean\" + 0.055*\"content\" + 0.052*\"acid\" + 0.047*\"less\" + 0.046*\"percent\" + 0.028*\"seed\" + 0.023*\"preferably\" + 0.023*\"linolenic\" + 0.022*\"endogenous\" + 0.021*\"palmitic\"'), (3, '0.060*\"plant\" + 0.030*\"invention\" + 0.020*\"potato\" + 0.019*\"event\" + 0.018*\"induce\" + 0.017*\"agent\" + 0.015*\"starch\" + 0.015*\"soil\" + 0.015*\"provide\" + 0.015*\"application\"'), (4, '0.153*\"plant\" + 0.119*\"inbreed\" + 0.103*\"corn\" + 0.050*\"seed\" + 0.040*\"invention\" + 0.038*\"produce\" + 0.034*\"relate\" + 0.022*\"genetic\" + 0.018*\"method\" + 0.015*\"provide\"'), (5, '0.023*\"plant\" + 0.023*\"hybrid\" + 0.017*\"possess\" + 0.015*\"parent\" + 0.015*\"seed\" + 0.013*\"rice\" + 0.012*\"leave\" + 0.012*\"sequence\" + 0.011*\"grain\" + 0.011*\"form\"'), (6, '0.034*\"corn\" + 0.031*\"plant\" + 0.021*\"seed\" + 0.015*\"fertile\" + 0.015*\"cotton\" + 0.014*\"cattle\" + 0.013*\"recombinant\" + 0.013*\"dairy\" + 0.012*\"transgenic\" + 0.011*\"provide\"'), (7, '0.055*\"inbreed\" + 0.052*\"plant\" + 0.050*\"corn\" + 0.038*\"dsq\" + 0.029*\"invention\" + 0.019*\"relate\" + 0.019*\"acid\" + 0.013*\"seed\" + 0.012*\"genetic\" + 0.011*\"produce\"'), (8, '0.032*\"acid\" + 0.027*\"factor\" + 0.025*\"seed\" + 0.021*\"soybean\" + 0.020*\"plant\" + 0.020*\"endogenously\" + 0.019*\"concentration\" + 0.018*\"say\" + 0.018*\"form\" + 0.016*\"fatty\"'), (9, '0.063*\"plant\" + 0.030*\"method\" + 0.025*\"reduce\" + 0.022*\"increase\" + 0.022*\"alcohol\" + 0.022*\"activity\" + 0.022*\"include\" + 0.019*\"yield\" + 0.019*\"induce\" + 0.017*\"use\"'), (10, '0.032*\"include\" + 0.026*\"composition\" + 0.026*\"system\" + 0.022*\"unit\" + 0.022*\"percent\" + 0.022*\"method\" + 0.021*\"agronomic\" + 0.018*\"tool\" + 0.018*\"base\" + 0.017*\"weight\"'), (11, '0.049*\"second\" + 0.042*\"value\" + 0.031*\"oil\" + 0.031*\"crude\" + 0.031*\"sample\" + 0.030*\"area\" + 0.025*\"element\" + 0.025*\"identify\" + 0.024*\"pass\" + 0.024*\"part\"'), (12, '0.051*\"plant\" + 0.037*\"potato\" + 0.023*\"crop\" + 0.018*\"seed\" + 0.018*\"soil\" + 0.017*\"surfactant\" + 0.017*\"grow\" + 0.016*\"leach\" + 0.014*\"yield\" + 0.012*\"application\"'), (13, '0.002*\"corn\" + 0.002*\"plant\" + 0.002*\"group\" + 0.002*\"microelement\" + 0.002*\"upright\" + 0.002*\"well\" + 0.002*\"administer\" + 0.002*\"citric\" + 0.002*\"consist\" + 0.002*\"fertilizer\"'), (14, '0.063*\"acid\" + 0.046*\"rice\" + 0.043*\"content\" + 0.026*\"soybean\" + 0.023*\"less\" + 0.022*\"seed\" + 0.022*\"line\" + 0.021*\"least\" + 0.021*\"produce\" + 0.021*\"linolenic\"'), (15, '0.037*\"acid\" + 0.034*\"plant\" + 0.021*\"sequence\" + 0.020*\"temperature\" + 0.019*\"starch\" + 0.019*\"amino\" + 0.018*\"include\" + 0.018*\"stress\" + 0.018*\"percent\" + 0.017*\"weight\"'), (16, '0.135*\"plant\" + 0.075*\"inbreed\" + 0.070*\"corn\" + 0.032*\"invention\" + 0.026*\"seed\" + 0.023*\"produce\" + 0.022*\"temperature\" + 0.020*\"relate\" + 0.016*\"soybean\" + 0.015*\"genetic\"'), (17, '0.097*\"plant\" + 0.043*\"corn\" + 0.033*\"inbreed\" + 0.033*\"seed\" + 0.024*\"invention\" + 0.021*\"produce\" + 0.015*\"hybrid\" + 0.014*\"relate\" + 0.014*\"male\" + 0.013*\"wqds\"'), (18, '0.063*\"acid\" + 0.032*\"content\" + 0.028*\"soybean\" + 0.024*\"variety\" + 0.023*\"linolenic\" + 0.020*\"least\" + 0.019*\"less\" + 0.018*\"palmitic\" + 0.016*\"preferably\" + 0.015*\"stearic\"'), (19, '0.093*\"plant\" + 0.066*\"corn\" + 0.045*\"inbreed\" + 0.024*\"produce\" + 0.021*\"invention\" + 0.017*\"hybrid\" + 0.016*\"method\" + 0.016*\"grain\" + 0.016*\"male\" + 0.015*\"seed\"')]\n"
     ]
    },
    {
     "name": "stderr",
     "output_type": "stream",
     "text": [
      "/opt/anaconda3/envs/tensorflow_env/lib/python3.7/site-packages/ipykernel/ipkernel.py:287: DeprecationWarning: `should_run_async` will not call `transform_cell` automatically in the future. Please pass the result to `transformed_cell` argument and any exception that happen during thetransform in `preprocessing_exc_tuple` in IPython 7.17 and above.\n",
      "  and should_run_async(code)\n"
     ]
    }
   ],
   "source": [
    "# Select the model and print the topics\n",
    "optimal_model = model_list[3]\n",
    "model_topics = optimal_model.show_topics(formatted=False)\n",
    "print(optimal_model.print_topics())"
   ]
  },
  {
   "cell_type": "code",
   "execution_count": 34,
   "metadata": {},
   "outputs": [
    {
     "name": "stderr",
     "output_type": "stream",
     "text": [
      "/opt/anaconda3/envs/tensorflow_env/lib/python3.7/site-packages/ipykernel/ipkernel.py:287: DeprecationWarning: `should_run_async` will not call `transform_cell` automatically in the future. Please pass the result to `transformed_cell` argument and any exception that happen during thetransform in `preprocessing_exc_tuple` in IPython 7.17 and above.\n",
      "  and should_run_async(code)\n"
     ]
    },
    {
     "data": {
      "text/plain": [
       "[(13,\n",
       "  [('corn', 0.0016181228),\n",
       "   ('plant', 0.0016181228),\n",
       "   ('group', 0.0016181227),\n",
       "   ('microelement', 0.0016181227),\n",
       "   ('upright', 0.0016181227),\n",
       "   ('well', 0.0016181227),\n",
       "   ('administer', 0.0016181227),\n",
       "   ('citric', 0.0016181227),\n",
       "   ('consist', 0.0016181227),\n",
       "   ('fertilizer', 0.0016181227)]),\n",
       " (8,\n",
       "  [('acid', 0.032470535),\n",
       "   ('factor', 0.026926737),\n",
       "   ('seed', 0.024806036),\n",
       "   ('soybean', 0.021316895),\n",
       "   ('plant', 0.020197587),\n",
       "   ('endogenously', 0.019867107),\n",
       "   ('concentration', 0.019257924),\n",
       "   ('say', 0.018089887),\n",
       "   ('form', 0.018009147),\n",
       "   ('fatty', 0.016190218)]),\n",
       " (6,\n",
       "  [('corn', 0.0336627),\n",
       "   ('plant', 0.031126544),\n",
       "   ('seed', 0.020934047),\n",
       "   ('fertile', 0.015368956),\n",
       "   ('cotton', 0.014976494),\n",
       "   ('cattle', 0.014078211),\n",
       "   ('recombinant', 0.013211134),\n",
       "   ('dairy', 0.0125491405),\n",
       "   ('transgenic', 0.01154219),\n",
       "   ('provide', 0.011107743)]),\n",
       " (1,\n",
       "  [('composition', 0.029282188),\n",
       "   ('sequence', 0.022518536),\n",
       "   ('calcium', 0.020842198),\n",
       "   ('acid', 0.017456785),\n",
       "   ('stabilize', 0.017343195),\n",
       "   ('amino', 0.016952937),\n",
       "   ('salt', 0.016844133),\n",
       "   ('method', 0.016100451),\n",
       "   ('cyanamide', 0.014662114),\n",
       "   ('gene', 0.01368925)]),\n",
       " (12,\n",
       "  [('plant', 0.050947454),\n",
       "   ('potato', 0.03668186),\n",
       "   ('crop', 0.023199031),\n",
       "   ('seed', 0.018015498),\n",
       "   ('soil', 0.017975071),\n",
       "   ('surfactant', 0.017183349),\n",
       "   ('grow', 0.016911319),\n",
       "   ('leach', 0.015852619),\n",
       "   ('yield', 0.01424179),\n",
       "   ('application', 0.012231853)]),\n",
       " (15,\n",
       "  [('acid', 0.036506116),\n",
       "   ('plant', 0.03397625),\n",
       "   ('sequence', 0.021309618),\n",
       "   ('temperature', 0.019652836),\n",
       "   ('starch', 0.01918161),\n",
       "   ('amino', 0.018926065),\n",
       "   ('include', 0.018190326),\n",
       "   ('stress', 0.017611748),\n",
       "   ('percent', 0.01754842),\n",
       "   ('weight', 0.016731605)]),\n",
       " (16,\n",
       "  [('plant', 0.13507767),\n",
       "   ('inbreed', 0.07532499),\n",
       "   ('corn', 0.06986934),\n",
       "   ('invention', 0.03207484),\n",
       "   ('seed', 0.025966989),\n",
       "   ('produce', 0.02329817),\n",
       "   ('temperature', 0.022233622),\n",
       "   ('relate', 0.0200434),\n",
       "   ('soybean', 0.01601551),\n",
       "   ('genetic', 0.015332133)]),\n",
       " (17,\n",
       "  [('plant', 0.09714514),\n",
       "   ('corn', 0.042559396),\n",
       "   ('inbreed', 0.032698344),\n",
       "   ('seed', 0.032582503),\n",
       "   ('invention', 0.024134098),\n",
       "   ('produce', 0.02062828),\n",
       "   ('hybrid', 0.015263535),\n",
       "   ('relate', 0.014272679),\n",
       "   ('male', 0.014182408),\n",
       "   ('wqds', 0.01342007)]),\n",
       " (4,\n",
       "  [('plant', 0.15299554),\n",
       "   ('inbreed', 0.11905),\n",
       "   ('corn', 0.10255405),\n",
       "   ('seed', 0.0503725),\n",
       "   ('invention', 0.040181402),\n",
       "   ('produce', 0.038052965),\n",
       "   ('relate', 0.033576444),\n",
       "   ('genetic', 0.02162214),\n",
       "   ('method', 0.017546898),\n",
       "   ('provide', 0.01502855)]),\n",
       " (19,\n",
       "  [('plant', 0.093201004),\n",
       "   ('corn', 0.06587177),\n",
       "   ('inbreed', 0.044546563),\n",
       "   ('produce', 0.024204457),\n",
       "   ('invention', 0.021475378),\n",
       "   ('hybrid', 0.017018067),\n",
       "   ('method', 0.016142817),\n",
       "   ('grain', 0.015844662),\n",
       "   ('male', 0.015672116),\n",
       "   ('seed', 0.014719709)])]"
      ]
     },
     "execution_count": 34,
     "metadata": {},
     "output_type": "execute_result"
    }
   ],
   "source": [
    "model_topics"
   ]
  },
  {
   "cell_type": "code",
   "execution_count": 35,
   "metadata": {},
   "outputs": [
    {
     "name": "stderr",
     "output_type": "stream",
     "text": [
      "/opt/anaconda3/envs/tensorflow_env/lib/python3.7/site-packages/ipykernel/ipkernel.py:287: DeprecationWarning: `should_run_async` will not call `transform_cell` automatically in the future. Please pass the result to `transformed_cell` argument and any exception that happen during thetransform in `preprocessing_exc_tuple` in IPython 7.17 and above.\n",
      "  and should_run_async(code)\n"
     ]
    },
    {
     "data": {
      "text/plain": [
       "[(0,\n",
       "  '0.036*\"composition\" + 0.023*\"cyanamide\" + 0.021*\"use\" + 0.019*\"stabilize\" + 0.017*\"method\" + 0.016*\"level\" + 0.016*\"activity\" + 0.016*\"reduce\" + 0.016*\"invention\" + 0.016*\"cad\"'),\n",
       " (1,\n",
       "  '0.029*\"composition\" + 0.023*\"sequence\" + 0.021*\"calcium\" + 0.017*\"acid\" + 0.017*\"stabilize\" + 0.017*\"amino\" + 0.017*\"salt\" + 0.016*\"method\" + 0.015*\"cyanamide\" + 0.014*\"gene\"'),\n",
       " (2,\n",
       "  '0.068*\"soybean\" + 0.055*\"content\" + 0.052*\"acid\" + 0.047*\"less\" + 0.046*\"percent\" + 0.028*\"seed\" + 0.023*\"preferably\" + 0.023*\"linolenic\" + 0.022*\"endogenous\" + 0.021*\"palmitic\"'),\n",
       " (3,\n",
       "  '0.060*\"plant\" + 0.030*\"invention\" + 0.020*\"potato\" + 0.019*\"event\" + 0.018*\"induce\" + 0.017*\"agent\" + 0.015*\"starch\" + 0.015*\"soil\" + 0.015*\"provide\" + 0.015*\"application\"'),\n",
       " (4,\n",
       "  '0.153*\"plant\" + 0.119*\"inbreed\" + 0.103*\"corn\" + 0.050*\"seed\" + 0.040*\"invention\" + 0.038*\"produce\" + 0.034*\"relate\" + 0.022*\"genetic\" + 0.018*\"method\" + 0.015*\"provide\"'),\n",
       " (5,\n",
       "  '0.023*\"plant\" + 0.023*\"hybrid\" + 0.017*\"possess\" + 0.015*\"parent\" + 0.015*\"seed\" + 0.013*\"rice\" + 0.012*\"leave\" + 0.012*\"sequence\" + 0.011*\"grain\" + 0.011*\"form\"'),\n",
       " (6,\n",
       "  '0.034*\"corn\" + 0.031*\"plant\" + 0.021*\"seed\" + 0.015*\"fertile\" + 0.015*\"cotton\" + 0.014*\"cattle\" + 0.013*\"recombinant\" + 0.013*\"dairy\" + 0.012*\"transgenic\" + 0.011*\"provide\"'),\n",
       " (7,\n",
       "  '0.055*\"inbreed\" + 0.052*\"plant\" + 0.050*\"corn\" + 0.038*\"dsq\" + 0.029*\"invention\" + 0.019*\"relate\" + 0.019*\"acid\" + 0.013*\"seed\" + 0.012*\"genetic\" + 0.011*\"produce\"'),\n",
       " (8,\n",
       "  '0.032*\"acid\" + 0.027*\"factor\" + 0.025*\"seed\" + 0.021*\"soybean\" + 0.020*\"plant\" + 0.020*\"endogenously\" + 0.019*\"concentration\" + 0.018*\"say\" + 0.018*\"form\" + 0.016*\"fatty\"'),\n",
       " (9,\n",
       "  '0.063*\"plant\" + 0.030*\"method\" + 0.025*\"reduce\" + 0.022*\"increase\" + 0.022*\"alcohol\" + 0.022*\"activity\" + 0.022*\"include\" + 0.019*\"yield\" + 0.019*\"induce\" + 0.017*\"use\"'),\n",
       " (10,\n",
       "  '0.032*\"include\" + 0.026*\"composition\" + 0.026*\"system\" + 0.022*\"unit\" + 0.022*\"percent\" + 0.022*\"method\" + 0.021*\"agronomic\" + 0.018*\"tool\" + 0.018*\"base\" + 0.017*\"weight\"'),\n",
       " (11,\n",
       "  '0.049*\"second\" + 0.042*\"value\" + 0.031*\"oil\" + 0.031*\"crude\" + 0.031*\"sample\" + 0.030*\"area\" + 0.025*\"element\" + 0.025*\"identify\" + 0.024*\"pass\" + 0.024*\"part\"'),\n",
       " (12,\n",
       "  '0.051*\"plant\" + 0.037*\"potato\" + 0.023*\"crop\" + 0.018*\"seed\" + 0.018*\"soil\" + 0.017*\"surfactant\" + 0.017*\"grow\" + 0.016*\"leach\" + 0.014*\"yield\" + 0.012*\"application\"'),\n",
       " (13,\n",
       "  '0.002*\"corn\" + 0.002*\"plant\" + 0.002*\"group\" + 0.002*\"microelement\" + 0.002*\"upright\" + 0.002*\"well\" + 0.002*\"administer\" + 0.002*\"citric\" + 0.002*\"consist\" + 0.002*\"fertilizer\"'),\n",
       " (14,\n",
       "  '0.063*\"acid\" + 0.046*\"rice\" + 0.043*\"content\" + 0.026*\"soybean\" + 0.023*\"less\" + 0.022*\"seed\" + 0.022*\"line\" + 0.021*\"least\" + 0.021*\"produce\" + 0.021*\"linolenic\"'),\n",
       " (15,\n",
       "  '0.037*\"acid\" + 0.034*\"plant\" + 0.021*\"sequence\" + 0.020*\"temperature\" + 0.019*\"starch\" + 0.019*\"amino\" + 0.018*\"include\" + 0.018*\"stress\" + 0.018*\"percent\" + 0.017*\"weight\"'),\n",
       " (16,\n",
       "  '0.135*\"plant\" + 0.075*\"inbreed\" + 0.070*\"corn\" + 0.032*\"invention\" + 0.026*\"seed\" + 0.023*\"produce\" + 0.022*\"temperature\" + 0.020*\"relate\" + 0.016*\"soybean\" + 0.015*\"genetic\"'),\n",
       " (17,\n",
       "  '0.097*\"plant\" + 0.043*\"corn\" + 0.033*\"inbreed\" + 0.033*\"seed\" + 0.024*\"invention\" + 0.021*\"produce\" + 0.015*\"hybrid\" + 0.014*\"relate\" + 0.014*\"male\" + 0.013*\"wqds\"'),\n",
       " (18,\n",
       "  '0.063*\"acid\" + 0.032*\"content\" + 0.028*\"soybean\" + 0.024*\"variety\" + 0.023*\"linolenic\" + 0.020*\"least\" + 0.019*\"less\" + 0.018*\"palmitic\" + 0.016*\"preferably\" + 0.015*\"stearic\"'),\n",
       " (19,\n",
       "  '0.093*\"plant\" + 0.066*\"corn\" + 0.045*\"inbreed\" + 0.024*\"produce\" + 0.021*\"invention\" + 0.017*\"hybrid\" + 0.016*\"method\" + 0.016*\"grain\" + 0.016*\"male\" + 0.015*\"seed\"')]"
      ]
     },
     "execution_count": 35,
     "metadata": {},
     "output_type": "execute_result"
    }
   ],
   "source": [
    "optimal_model.print_topics()"
   ]
  },
  {
   "cell_type": "code",
   "execution_count": 45,
   "metadata": {},
   "outputs": [
    {
     "name": "stderr",
     "output_type": "stream",
     "text": [
      "/opt/anaconda3/envs/tensorflow_env/lib/python3.7/site-packages/ipykernel/ipkernel.py:287: DeprecationWarning: `should_run_async` will not call `transform_cell` automatically in the future. Please pass the result to `transformed_cell` argument and any exception that happen during thetransform in `preprocessing_exc_tuple` in IPython 7.17 and above.\n",
      "  and should_run_async(code)\n"
     ]
    },
    {
     "data": {
      "text/plain": [
       "[(60, 0.035657827),\n",
       " (191, 0.022740817),\n",
       " (88, 0.020993179),\n",
       " (213, 0.019355852),\n",
       " (65, 0.017147256),\n",
       " (40, 0.016265914),\n",
       " (112, 0.016248342),\n",
       " (51, 0.016225882),\n",
       " (62, 0.016211143),\n",
       " (244, 0.01621113)]"
      ]
     },
     "execution_count": 45,
     "metadata": {},
     "output_type": "execute_result"
    }
   ],
   "source": [
    "optimal_model.get_topic_terms(0)"
   ]
  },
  {
   "cell_type": "code",
   "execution_count": 37,
   "metadata": {},
   "outputs": [
    {
     "name": "stderr",
     "output_type": "stream",
     "text": [
      "/opt/anaconda3/envs/tensorflow_env/lib/python3.7/site-packages/ipykernel/ipkernel.py:287: DeprecationWarning: `should_run_async` will not call `transform_cell` automatically in the future. Please pass the result to `transformed_cell` argument and any exception that happen during thetransform in `preprocessing_exc_tuple` in IPython 7.17 and above.\n",
      "  and should_run_async(code)\n"
     ]
    }
   ],
   "source": [
    "c = dict()\n",
    "for i in range(20):\n",
    "    for a,b in optimal_model.get_topic_terms(i):\n",
    "        \n",
    "        if not a in c.keys():\n",
    "            c[a] = 1\n",
    "        else:\n",
    "            c[a] += 1\n",
    "        \n",
    "        "
   ]
  },
  {
   "cell_type": "code",
   "execution_count": 38,
   "metadata": {},
   "outputs": [
    {
     "name": "stdout",
     "output_type": "stream",
     "text": [
      "{60: 3, 191: 2, 88: 2, 213: 2, 65: 6, 40: 1, 112: 2, 51: 2, 62: 7, 244: 1, 457: 3, 186: 1, 22: 7, 445: 2, 455: 1, 275: 1, 52: 5, 29: 3, 39: 3, 48: 3, 16: 11, 49: 2, 42: 3, 33: 1, 47: 2, 13: 13, 235: 2, 596: 1, 129: 2, 142: 1, 138: 2, 164: 2, 50: 3, 143: 2, 9: 5, 2: 7, 14: 6, 81: 4, 276: 3, 8: 3, 298: 1, 325: 1, 331: 2, 320: 1, 127: 2, 36: 2, 350: 1, 344: 1, 1: 1, 559: 1, 3: 1, 428: 1, 433: 1, 389: 1, 34: 1, 343: 1, 395: 1, 35: 1, 10: 1, 419: 1, 75: 3, 20: 2, 87: 1, 382: 1, 70: 1, 490: 1, 24: 1, 55: 2, 106: 1, 110: 1, 46: 1, 512: 1, 522: 1, 90: 1, 514: 1, 96: 1, 103: 1, 102: 1, 228: 1, 240: 1, 229: 1, 230: 1, 415: 1, 417: 1, 409: 1, 410: 1, 411: 1, 412: 1, 413: 1, 414: 1, 11: 1, 63: 2, 489: 2, 460: 1, 279: 2, 442: 1, 68: 1, 66: 1}\n"
     ]
    },
    {
     "name": "stderr",
     "output_type": "stream",
     "text": [
      "/opt/anaconda3/envs/tensorflow_env/lib/python3.7/site-packages/ipykernel/ipkernel.py:287: DeprecationWarning: `should_run_async` will not call `transform_cell` automatically in the future. Please pass the result to `transformed_cell` argument and any exception that happen during thetransform in `preprocessing_exc_tuple` in IPython 7.17 and above.\n",
      "  and should_run_async(code)\n"
     ]
    }
   ],
   "source": [
    "print(c)"
   ]
  },
  {
   "cell_type": "code",
   "execution_count": 39,
   "metadata": {},
   "outputs": [
    {
     "name": "stderr",
     "output_type": "stream",
     "text": [
      "/opt/anaconda3/envs/tensorflow_env/lib/python3.7/site-packages/ipykernel/ipkernel.py:287: DeprecationWarning: `should_run_async` will not call `transform_cell` automatically in the future. Please pass the result to `transformed_cell` argument and any exception that happen during thetransform in `preprocessing_exc_tuple` in IPython 7.17 and above.\n",
      "  and should_run_async(code)\n"
     ]
    },
    {
     "data": {
      "text/plain": [
       "98"
      ]
     },
     "execution_count": 39,
     "metadata": {},
     "output_type": "execute_result"
    }
   ],
   "source": [
    "len(c.keys())"
   ]
  },
  {
   "cell_type": "code",
   "execution_count": null,
   "metadata": {},
   "outputs": [],
   "source": []
  },
  {
   "cell_type": "code",
   "execution_count": 59,
   "metadata": {},
   "outputs": [
    {
     "name": "stderr",
     "output_type": "stream",
     "text": [
      "/opt/anaconda3/envs/tensorflow_env/lib/python3.7/site-packages/ipykernel/ipkernel.py:287: DeprecationWarning: `should_run_async` will not call `transform_cell` automatically in the future. Please pass the result to `transformed_cell` argument and any exception that happen during thetransform in `preprocessing_exc_tuple` in IPython 7.17 and above.\n",
      "  and should_run_async(code)\n"
     ]
    },
    {
     "data": {
      "text/plain": [
       "[(60, 0.035657827),\n",
       " (191, 0.022740817),\n",
       " (88, 0.020993179),\n",
       " (213, 0.019355852),\n",
       " (65, 0.017147256),\n",
       " (40, 0.016265914),\n",
       " (112, 0.016248342),\n",
       " (51, 0.016225882),\n",
       " (62, 0.016211143),\n",
       " (244, 0.01621113)]"
      ]
     },
     "execution_count": 59,
     "metadata": {},
     "output_type": "execute_result"
    }
   ],
   "source": [
    "optimal_model.get_topic_terms(0)"
   ]
  },
  {
   "cell_type": "code",
   "execution_count": null,
   "metadata": {},
   "outputs": [],
   "source": []
  },
  {
   "cell_type": "code",
   "execution_count": 48,
   "metadata": {},
   "outputs": [
    {
     "name": "stderr",
     "output_type": "stream",
     "text": [
      "/opt/anaconda3/envs/tensorflow_env/lib/python3.7/site-packages/ipykernel/ipkernel.py:287: DeprecationWarning: `should_run_async` will not call `transform_cell` automatically in the future. Please pass the result to `transformed_cell` argument and any exception that happen during thetransform in `preprocessing_exc_tuple` in IPython 7.17 and above.\n",
      "  and should_run_async(code)\n"
     ]
    }
   ],
   "source": [
    "# def format_topics_sentences(ldamodel=None, corpus=None, texts=None):\n",
    "#     # Init output\n",
    "#     sent_topics_df = pd.DataFrame()\n",
    "\n",
    "#     # Get main topic in each document\n",
    "#     for i, row in enumerate(ldamodel[corpus]):\n",
    "        \n",
    "#         row = sorted(row, key=lambda x: (x[1]), reverse=True)\n",
    "#         # Get the Dominant topic, Perc Contribution and Keywords for each document\n",
    "#         for j, (topic_num, prop_topic) in enumerate(row):\n",
    "#             print(j, (topic_num, prop_topic))\n",
    "#             if j == 0:  # => dominant topic\n",
    "#                 wp = ldamodel.show_topic(topic_num)\n",
    "#                 topic_keywords = \", \".join([word for word, prop in wp])\n",
    "#                 sent_topics_df = sent_topics_df.append(pd.Series([int(topic_num), round(prop_topic,4), topic_keywords]), ignore_index=True)\n",
    "#             else:\n",
    "#                 break\n",
    "#     sent_topics_df.columns = ['Dominant_Topic', 'Perc_Contribution', 'Topic_Keywords']\n",
    "\n",
    "# # #     Add original text to the end of the output\n",
    "#     contents = pd.Series(texts)\n",
    "#     sent_topics_df = pd.concat([sent_topics_df, contents], axis=1)\n",
    "#     return(sent_topics_df)"
   ]
  },
  {
   "cell_type": "code",
   "execution_count": 42,
   "metadata": {},
   "outputs": [
    {
     "name": "stderr",
     "output_type": "stream",
     "text": [
      "/opt/anaconda3/envs/tensorflow_env/lib/python3.7/site-packages/ipykernel/ipkernel.py:287: DeprecationWarning: `should_run_async` will not call `transform_cell` automatically in the future. Please pass the result to `transformed_cell` argument and any exception that happen during thetransform in `preprocessing_exc_tuple` in IPython 7.17 and above.\n",
      "  and should_run_async(code)\n"
     ]
    },
    {
     "ename": "TypeError",
     "evalue": "'<' not supported between instances of 'int' and 'tuple'",
     "output_type": "error",
     "traceback": [
      "\u001b[0;31m---------------------------------------------------------------------------\u001b[0m",
      "\u001b[0;31mTypeError\u001b[0m                                 Traceback (most recent call last)",
      "\u001b[0;32m<ipython-input-42-176f92d6b350>\u001b[0m in \u001b[0;36m<module>\u001b[0;34m\u001b[0m\n\u001b[1;32m      1\u001b[0m df_topic_sents_keywords = format_topics_sentences(ldamodel=optimal_model,\n\u001b[1;32m      2\u001b[0m                                                   \u001b[0mcorpus\u001b[0m\u001b[0;34m=\u001b[0m\u001b[0mcorpus\u001b[0m\u001b[0;34m,\u001b[0m\u001b[0;34m\u001b[0m\u001b[0;34m\u001b[0m\u001b[0m\n\u001b[0;32m----> 3\u001b[0;31m                                                   texts=data_lemmatized)\n\u001b[0m",
      "\u001b[0;32m<ipython-input-41-5e9be70018d8>\u001b[0m in \u001b[0;36mformat_topics_sentences\u001b[0;34m(ldamodel, corpus, texts)\u001b[0m\n\u001b[1;32m      6\u001b[0m     \u001b[0;32mfor\u001b[0m \u001b[0mi\u001b[0m\u001b[0;34m,\u001b[0m \u001b[0mrow\u001b[0m \u001b[0;32min\u001b[0m \u001b[0menumerate\u001b[0m\u001b[0;34m(\u001b[0m\u001b[0mldamodel\u001b[0m\u001b[0;34m[\u001b[0m\u001b[0mcorpus\u001b[0m\u001b[0;34m]\u001b[0m\u001b[0;34m)\u001b[0m\u001b[0;34m:\u001b[0m\u001b[0;34m\u001b[0m\u001b[0;34m\u001b[0m\u001b[0m\n\u001b[1;32m      7\u001b[0m \u001b[0;34m\u001b[0m\u001b[0m\n\u001b[0;32m----> 8\u001b[0;31m         \u001b[0mrow\u001b[0m \u001b[0;34m=\u001b[0m \u001b[0msorted\u001b[0m\u001b[0;34m(\u001b[0m\u001b[0mrow\u001b[0m\u001b[0;34m,\u001b[0m \u001b[0mkey\u001b[0m\u001b[0;34m=\u001b[0m\u001b[0;32mlambda\u001b[0m \u001b[0mx\u001b[0m\u001b[0;34m:\u001b[0m \u001b[0;34m(\u001b[0m\u001b[0mx\u001b[0m\u001b[0;34m[\u001b[0m\u001b[0;36m1\u001b[0m\u001b[0;34m]\u001b[0m\u001b[0;34m)\u001b[0m\u001b[0;34m,\u001b[0m \u001b[0mreverse\u001b[0m\u001b[0;34m=\u001b[0m\u001b[0;32mTrue\u001b[0m\u001b[0;34m)\u001b[0m\u001b[0;34m\u001b[0m\u001b[0;34m\u001b[0m\u001b[0m\n\u001b[0m\u001b[1;32m      9\u001b[0m         \u001b[0;31m# Get the Dominant topic, Perc Contribution and Keywords for each document\u001b[0m\u001b[0;34m\u001b[0m\u001b[0;34m\u001b[0m\u001b[0;34m\u001b[0m\u001b[0m\n\u001b[1;32m     10\u001b[0m         \u001b[0;32mfor\u001b[0m \u001b[0mj\u001b[0m\u001b[0;34m,\u001b[0m \u001b[0;34m(\u001b[0m\u001b[0mtopic_num\u001b[0m\u001b[0;34m,\u001b[0m \u001b[0mprop_topic\u001b[0m\u001b[0;34m)\u001b[0m \u001b[0;32min\u001b[0m \u001b[0menumerate\u001b[0m\u001b[0;34m(\u001b[0m\u001b[0mrow\u001b[0m\u001b[0;34m)\u001b[0m\u001b[0;34m:\u001b[0m\u001b[0;34m\u001b[0m\u001b[0;34m\u001b[0m\u001b[0m\n",
      "\u001b[0;31mTypeError\u001b[0m: '<' not supported between instances of 'int' and 'tuple'"
     ]
    }
   ],
   "source": [
    "# df_topic_sents_keywords = format_topics_sentences(ldamodel=optimal_model,\n",
    "#                                                   corpus=corpus, \n",
    "#                                                   texts=data_lemmatized)"
   ]
  },
  {
   "cell_type": "code",
   "execution_count": 47,
   "metadata": {},
   "outputs": [
    {
     "name": "stderr",
     "output_type": "stream",
     "text": [
      "/opt/anaconda3/envs/tensorflow_env/lib/python3.7/site-packages/ipykernel/ipkernel.py:287: DeprecationWarning: `should_run_async` will not call `transform_cell` automatically in the future. Please pass the result to `transformed_cell` argument and any exception that happen during thetransform in `preprocessing_exc_tuple` in IPython 7.17 and above.\n",
      "  and should_run_async(code)\n"
     ]
    }
   ],
   "source": [
    "# # Group top 5 sentences under each topic\n",
    "# sent_topics_sorteddf_mallet = pd.DataFrame()\n",
    "\n",
    "# sent_topics_outdf_grpd = df_topic_sents_keywords.groupby('Dominant_Topic')\n",
    "\n",
    "# for i, grp in sent_topics_outdf_grpd:\n",
    "#     sent_topics_sorteddf_mallet = pd.concat([sent_topics_sorteddf_mallet, \n",
    "#                                              grp.sort_values(['Perc_Contribution'], ascending=[0]).head(1)], \n",
    "#                                             axis=0)\n",
    "\n",
    "# # Reset Index    \n",
    "# sent_topics_sorteddf_mallet.reset_index(drop=True, inplace=True)\n",
    "\n",
    "# # Format\n",
    "# sent_topics_sorteddf_mallet.columns = ['Topic_Num', \"Topic_Perc_Contrib\", \"Keywords\", \"Text\"]\n",
    "\n",
    "# # Show\n",
    "# sent_topics_sorteddf_mallet.head()"
   ]
  },
  {
   "cell_type": "code",
   "execution_count": null,
   "metadata": {},
   "outputs": [],
   "source": []
  },
  {
   "cell_type": "code",
   "execution_count": 65,
   "metadata": {},
   "outputs": [
    {
     "name": "stderr",
     "output_type": "stream",
     "text": [
      "/opt/anaconda3/envs/tensorflow_env/lib/python3.7/site-packages/ipykernel/ipkernel.py:287: DeprecationWarning: `should_run_async` will not call `transform_cell` automatically in the future. Please pass the result to `transformed_cell` argument and any exception that happen during thetransform in `preprocessing_exc_tuple` in IPython 7.17 and above.\n",
      "  and should_run_async(code)\n"
     ]
    },
    {
     "data": {
      "text/plain": [
       "[(13,\n",
       "  [('corn', 0.0016181228),\n",
       "   ('plant', 0.0016181228),\n",
       "   ('group', 0.0016181227),\n",
       "   ('microelement', 0.0016181227),\n",
       "   ('upright', 0.0016181227),\n",
       "   ('well', 0.0016181227),\n",
       "   ('administer', 0.0016181227),\n",
       "   ('citric', 0.0016181227),\n",
       "   ('consist', 0.0016181227),\n",
       "   ('fertilizer', 0.0016181227)]),\n",
       " (8,\n",
       "  [('acid', 0.032470535),\n",
       "   ('factor', 0.026926737),\n",
       "   ('seed', 0.024806036),\n",
       "   ('soybean', 0.021316895),\n",
       "   ('plant', 0.020197587),\n",
       "   ('endogenously', 0.019867107),\n",
       "   ('concentration', 0.019257924),\n",
       "   ('say', 0.018089887),\n",
       "   ('form', 0.018009147),\n",
       "   ('fatty', 0.016190218)]),\n",
       " (1,\n",
       "  [('composition', 0.029282188),\n",
       "   ('sequence', 0.022518536),\n",
       "   ('calcium', 0.020842198),\n",
       "   ('acid', 0.017456785),\n",
       "   ('stabilize', 0.017343195),\n",
       "   ('amino', 0.016952937),\n",
       "   ('salt', 0.016844133),\n",
       "   ('method', 0.016100451),\n",
       "   ('cyanamide', 0.014662114),\n",
       "   ('gene', 0.01368925)]),\n",
       " (6,\n",
       "  [('corn', 0.0336627),\n",
       "   ('plant', 0.031126544),\n",
       "   ('seed', 0.020934047),\n",
       "   ('fertile', 0.015368956),\n",
       "   ('cotton', 0.014976494),\n",
       "   ('cattle', 0.014078211),\n",
       "   ('recombinant', 0.013211134),\n",
       "   ('dairy', 0.0125491405),\n",
       "   ('transgenic', 0.01154219),\n",
       "   ('provide', 0.011107743)]),\n",
       " (12,\n",
       "  [('plant', 0.050947454),\n",
       "   ('potato', 0.03668186),\n",
       "   ('crop', 0.023199031),\n",
       "   ('seed', 0.018015498),\n",
       "   ('soil', 0.017975071),\n",
       "   ('surfactant', 0.017183349),\n",
       "   ('grow', 0.016911319),\n",
       "   ('leach', 0.015852619),\n",
       "   ('yield', 0.01424179),\n",
       "   ('application', 0.012231853)]),\n",
       " (15,\n",
       "  [('acid', 0.036506116),\n",
       "   ('plant', 0.03397625),\n",
       "   ('sequence', 0.021309618),\n",
       "   ('temperature', 0.019652836),\n",
       "   ('starch', 0.01918161),\n",
       "   ('amino', 0.018926065),\n",
       "   ('include', 0.018190326),\n",
       "   ('stress', 0.017611748),\n",
       "   ('percent', 0.01754842),\n",
       "   ('weight', 0.016731605)]),\n",
       " (16,\n",
       "  [('plant', 0.13507767),\n",
       "   ('inbreed', 0.07532499),\n",
       "   ('corn', 0.06986934),\n",
       "   ('invention', 0.03207484),\n",
       "   ('seed', 0.025966989),\n",
       "   ('produce', 0.02329817),\n",
       "   ('temperature', 0.022233622),\n",
       "   ('relate', 0.0200434),\n",
       "   ('soybean', 0.01601551),\n",
       "   ('genetic', 0.015332133)]),\n",
       " (17,\n",
       "  [('plant', 0.09714514),\n",
       "   ('corn', 0.042559396),\n",
       "   ('inbreed', 0.032698344),\n",
       "   ('seed', 0.032582503),\n",
       "   ('invention', 0.024134098),\n",
       "   ('produce', 0.02062828),\n",
       "   ('hybrid', 0.015263535),\n",
       "   ('relate', 0.014272679),\n",
       "   ('male', 0.014182408),\n",
       "   ('wqds', 0.01342007)]),\n",
       " (4,\n",
       "  [('plant', 0.15299554),\n",
       "   ('inbreed', 0.11905),\n",
       "   ('corn', 0.10255405),\n",
       "   ('seed', 0.0503725),\n",
       "   ('invention', 0.040181402),\n",
       "   ('produce', 0.038052965),\n",
       "   ('relate', 0.033576444),\n",
       "   ('genetic', 0.02162214),\n",
       "   ('method', 0.017546898),\n",
       "   ('provide', 0.01502855)]),\n",
       " (19,\n",
       "  [('plant', 0.093201004),\n",
       "   ('corn', 0.06587177),\n",
       "   ('inbreed', 0.044546563),\n",
       "   ('produce', 0.024204457),\n",
       "   ('invention', 0.021475378),\n",
       "   ('hybrid', 0.017018067),\n",
       "   ('method', 0.016142817),\n",
       "   ('grain', 0.015844662),\n",
       "   ('male', 0.015672116),\n",
       "   ('seed', 0.014719709)])]"
      ]
     },
     "execution_count": 65,
     "metadata": {},
     "output_type": "execute_result"
    }
   ],
   "source": [
    "optimal_model.show_topics(formatted=False)"
   ]
  },
  {
   "cell_type": "code",
   "execution_count": 82,
   "metadata": {},
   "outputs": [
    {
     "name": "stderr",
     "output_type": "stream",
     "text": [
      "/opt/anaconda3/envs/tensorflow_env/lib/python3.7/site-packages/ipykernel/ipkernel.py:287: DeprecationWarning: `should_run_async` will not call `transform_cell` automatically in the future. Please pass the result to `transformed_cell` argument and any exception that happen during thetransform in `preprocessing_exc_tuple` in IPython 7.17 and above.\n",
      "  and should_run_async(code)\n"
     ]
    }
   ],
   "source": [
    "dictionary_initial = []\n",
    "for i in range(20):\n",
    "    terms  = []\n",
    "    values = []\n",
    "    for term, value in optimal_model.show_topic(i):\n",
    "        terms.append(term)\n",
    "        values.append(value)\n",
    "\n",
    "    dictionary_initial_tmp = [ ['_'.join(terms[:3]), term] for term in terms]\n",
    "    dictionary_initial = dictionary_initial + dictionary_initial_tmp"
   ]
  },
  {
   "cell_type": "code",
   "execution_count": 83,
   "metadata": {},
   "outputs": [
    {
     "name": "stderr",
     "output_type": "stream",
     "text": [
      "/opt/anaconda3/envs/tensorflow_env/lib/python3.7/site-packages/ipykernel/ipkernel.py:287: DeprecationWarning: `should_run_async` will not call `transform_cell` automatically in the future. Please pass the result to `transformed_cell` argument and any exception that happen during thetransform in `preprocessing_exc_tuple` in IPython 7.17 and above.\n",
      "  and should_run_async(code)\n"
     ]
    },
    {
     "data": {
      "text/plain": [
       "[['composition_cyanamide_use', 'composition'],\n",
       " ['composition_cyanamide_use', 'cyanamide'],\n",
       " ['composition_cyanamide_use', 'use'],\n",
       " ['composition_cyanamide_use', 'stabilize'],\n",
       " ['composition_cyanamide_use', 'method'],\n",
       " ['composition_cyanamide_use', 'level'],\n",
       " ['composition_cyanamide_use', 'activity'],\n",
       " ['composition_cyanamide_use', 'reduce'],\n",
       " ['composition_cyanamide_use', 'invention'],\n",
       " ['composition_cyanamide_use', 'cad'],\n",
       " ['composition_sequence_calcium', 'composition'],\n",
       " ['composition_sequence_calcium', 'sequence'],\n",
       " ['composition_sequence_calcium', 'calcium'],\n",
       " ['composition_sequence_calcium', 'acid'],\n",
       " ['composition_sequence_calcium', 'stabilize'],\n",
       " ['composition_sequence_calcium', 'amino'],\n",
       " ['composition_sequence_calcium', 'salt'],\n",
       " ['composition_sequence_calcium', 'method'],\n",
       " ['composition_sequence_calcium', 'cyanamide'],\n",
       " ['composition_sequence_calcium', 'gene'],\n",
       " ['soybean_content_acid', 'soybean'],\n",
       " ['soybean_content_acid', 'content'],\n",
       " ['soybean_content_acid', 'acid'],\n",
       " ['soybean_content_acid', 'less'],\n",
       " ['soybean_content_acid', 'percent'],\n",
       " ['soybean_content_acid', 'seed'],\n",
       " ['soybean_content_acid', 'preferably'],\n",
       " ['soybean_content_acid', 'linolenic'],\n",
       " ['soybean_content_acid', 'endogenous'],\n",
       " ['soybean_content_acid', 'palmitic'],\n",
       " ['plant_invention_potato', 'plant'],\n",
       " ['plant_invention_potato', 'invention'],\n",
       " ['plant_invention_potato', 'potato'],\n",
       " ['plant_invention_potato', 'event'],\n",
       " ['plant_invention_potato', 'induce'],\n",
       " ['plant_invention_potato', 'agent'],\n",
       " ['plant_invention_potato', 'starch'],\n",
       " ['plant_invention_potato', 'soil'],\n",
       " ['plant_invention_potato', 'provide'],\n",
       " ['plant_invention_potato', 'application'],\n",
       " ['plant_inbreed_corn', 'plant'],\n",
       " ['plant_inbreed_corn', 'inbreed'],\n",
       " ['plant_inbreed_corn', 'corn'],\n",
       " ['plant_inbreed_corn', 'seed'],\n",
       " ['plant_inbreed_corn', 'invention'],\n",
       " ['plant_inbreed_corn', 'produce'],\n",
       " ['plant_inbreed_corn', 'relate'],\n",
       " ['plant_inbreed_corn', 'genetic'],\n",
       " ['plant_inbreed_corn', 'method'],\n",
       " ['plant_inbreed_corn', 'provide'],\n",
       " ['plant_hybrid_possess', 'plant'],\n",
       " ['plant_hybrid_possess', 'hybrid'],\n",
       " ['plant_hybrid_possess', 'possess'],\n",
       " ['plant_hybrid_possess', 'parent'],\n",
       " ['plant_hybrid_possess', 'seed'],\n",
       " ['plant_hybrid_possess', 'rice'],\n",
       " ['plant_hybrid_possess', 'leave'],\n",
       " ['plant_hybrid_possess', 'sequence'],\n",
       " ['plant_hybrid_possess', 'grain'],\n",
       " ['plant_hybrid_possess', 'form'],\n",
       " ['corn_plant_seed', 'corn'],\n",
       " ['corn_plant_seed', 'plant'],\n",
       " ['corn_plant_seed', 'seed'],\n",
       " ['corn_plant_seed', 'fertile'],\n",
       " ['corn_plant_seed', 'cotton'],\n",
       " ['corn_plant_seed', 'cattle'],\n",
       " ['corn_plant_seed', 'recombinant'],\n",
       " ['corn_plant_seed', 'dairy'],\n",
       " ['corn_plant_seed', 'transgenic'],\n",
       " ['corn_plant_seed', 'provide'],\n",
       " ['inbreed_plant_corn', 'inbreed'],\n",
       " ['inbreed_plant_corn', 'plant'],\n",
       " ['inbreed_plant_corn', 'corn'],\n",
       " ['inbreed_plant_corn', 'dsq'],\n",
       " ['inbreed_plant_corn', 'invention'],\n",
       " ['inbreed_plant_corn', 'relate'],\n",
       " ['inbreed_plant_corn', 'acid'],\n",
       " ['inbreed_plant_corn', 'seed'],\n",
       " ['inbreed_plant_corn', 'genetic'],\n",
       " ['inbreed_plant_corn', 'produce'],\n",
       " ['acid_factor_seed', 'acid'],\n",
       " ['acid_factor_seed', 'factor'],\n",
       " ['acid_factor_seed', 'seed'],\n",
       " ['acid_factor_seed', 'soybean'],\n",
       " ['acid_factor_seed', 'plant'],\n",
       " ['acid_factor_seed', 'endogenously'],\n",
       " ['acid_factor_seed', 'concentration'],\n",
       " ['acid_factor_seed', 'say'],\n",
       " ['acid_factor_seed', 'form'],\n",
       " ['acid_factor_seed', 'fatty'],\n",
       " ['plant_method_reduce', 'plant'],\n",
       " ['plant_method_reduce', 'method'],\n",
       " ['plant_method_reduce', 'reduce'],\n",
       " ['plant_method_reduce', 'increase'],\n",
       " ['plant_method_reduce', 'alcohol'],\n",
       " ['plant_method_reduce', 'activity'],\n",
       " ['plant_method_reduce', 'include'],\n",
       " ['plant_method_reduce', 'yield'],\n",
       " ['plant_method_reduce', 'induce'],\n",
       " ['plant_method_reduce', 'use'],\n",
       " ['include_composition_system', 'include'],\n",
       " ['include_composition_system', 'composition'],\n",
       " ['include_composition_system', 'system'],\n",
       " ['include_composition_system', 'unit'],\n",
       " ['include_composition_system', 'percent'],\n",
       " ['include_composition_system', 'method'],\n",
       " ['include_composition_system', 'agronomic'],\n",
       " ['include_composition_system', 'tool'],\n",
       " ['include_composition_system', 'base'],\n",
       " ['include_composition_system', 'weight'],\n",
       " ['second_value_oil', 'second'],\n",
       " ['second_value_oil', 'value'],\n",
       " ['second_value_oil', 'oil'],\n",
       " ['second_value_oil', 'crude'],\n",
       " ['second_value_oil', 'sample'],\n",
       " ['second_value_oil', 'area'],\n",
       " ['second_value_oil', 'element'],\n",
       " ['second_value_oil', 'identify'],\n",
       " ['second_value_oil', 'pass'],\n",
       " ['second_value_oil', 'part'],\n",
       " ['plant_potato_crop', 'plant'],\n",
       " ['plant_potato_crop', 'potato'],\n",
       " ['plant_potato_crop', 'crop'],\n",
       " ['plant_potato_crop', 'seed'],\n",
       " ['plant_potato_crop', 'soil'],\n",
       " ['plant_potato_crop', 'surfactant'],\n",
       " ['plant_potato_crop', 'grow'],\n",
       " ['plant_potato_crop', 'leach'],\n",
       " ['plant_potato_crop', 'yield'],\n",
       " ['plant_potato_crop', 'application'],\n",
       " ['corn_plant_group', 'corn'],\n",
       " ['corn_plant_group', 'plant'],\n",
       " ['corn_plant_group', 'group'],\n",
       " ['corn_plant_group', 'microelement'],\n",
       " ['corn_plant_group', 'upright'],\n",
       " ['corn_plant_group', 'well'],\n",
       " ['corn_plant_group', 'administer'],\n",
       " ['corn_plant_group', 'citric'],\n",
       " ['corn_plant_group', 'consist'],\n",
       " ['corn_plant_group', 'fertilizer'],\n",
       " ['acid_rice_content', 'acid'],\n",
       " ['acid_rice_content', 'rice'],\n",
       " ['acid_rice_content', 'content'],\n",
       " ['acid_rice_content', 'soybean'],\n",
       " ['acid_rice_content', 'less'],\n",
       " ['acid_rice_content', 'seed'],\n",
       " ['acid_rice_content', 'line'],\n",
       " ['acid_rice_content', 'least'],\n",
       " ['acid_rice_content', 'produce'],\n",
       " ['acid_rice_content', 'linolenic'],\n",
       " ['acid_plant_sequence', 'acid'],\n",
       " ['acid_plant_sequence', 'plant'],\n",
       " ['acid_plant_sequence', 'sequence'],\n",
       " ['acid_plant_sequence', 'temperature'],\n",
       " ['acid_plant_sequence', 'starch'],\n",
       " ['acid_plant_sequence', 'amino'],\n",
       " ['acid_plant_sequence', 'include'],\n",
       " ['acid_plant_sequence', 'stress'],\n",
       " ['acid_plant_sequence', 'percent'],\n",
       " ['acid_plant_sequence', 'weight'],\n",
       " ['plant_inbreed_corn', 'plant'],\n",
       " ['plant_inbreed_corn', 'inbreed'],\n",
       " ['plant_inbreed_corn', 'corn'],\n",
       " ['plant_inbreed_corn', 'invention'],\n",
       " ['plant_inbreed_corn', 'seed'],\n",
       " ['plant_inbreed_corn', 'produce'],\n",
       " ['plant_inbreed_corn', 'temperature'],\n",
       " ['plant_inbreed_corn', 'relate'],\n",
       " ['plant_inbreed_corn', 'soybean'],\n",
       " ['plant_inbreed_corn', 'genetic'],\n",
       " ['plant_corn_inbreed', 'plant'],\n",
       " ['plant_corn_inbreed', 'corn'],\n",
       " ['plant_corn_inbreed', 'inbreed'],\n",
       " ['plant_corn_inbreed', 'seed'],\n",
       " ['plant_corn_inbreed', 'invention'],\n",
       " ['plant_corn_inbreed', 'produce'],\n",
       " ['plant_corn_inbreed', 'hybrid'],\n",
       " ['plant_corn_inbreed', 'relate'],\n",
       " ['plant_corn_inbreed', 'male'],\n",
       " ['plant_corn_inbreed', 'wqds'],\n",
       " ['acid_content_soybean', 'acid'],\n",
       " ['acid_content_soybean', 'content'],\n",
       " ['acid_content_soybean', 'soybean'],\n",
       " ['acid_content_soybean', 'variety'],\n",
       " ['acid_content_soybean', 'linolenic'],\n",
       " ['acid_content_soybean', 'least'],\n",
       " ['acid_content_soybean', 'less'],\n",
       " ['acid_content_soybean', 'palmitic'],\n",
       " ['acid_content_soybean', 'preferably'],\n",
       " ['acid_content_soybean', 'stearic'],\n",
       " ['plant_corn_inbreed', 'plant'],\n",
       " ['plant_corn_inbreed', 'corn'],\n",
       " ['plant_corn_inbreed', 'inbreed'],\n",
       " ['plant_corn_inbreed', 'produce'],\n",
       " ['plant_corn_inbreed', 'invention'],\n",
       " ['plant_corn_inbreed', 'hybrid'],\n",
       " ['plant_corn_inbreed', 'method'],\n",
       " ['plant_corn_inbreed', 'grain'],\n",
       " ['plant_corn_inbreed', 'male'],\n",
       " ['plant_corn_inbreed', 'seed']]"
      ]
     },
     "execution_count": 83,
     "metadata": {},
     "output_type": "execute_result"
    }
   ],
   "source": [
    "dictionary_initial"
   ]
  },
  {
   "cell_type": "code",
   "execution_count": 89,
   "metadata": {},
   "outputs": [
    {
     "name": "stderr",
     "output_type": "stream",
     "text": [
      "/opt/anaconda3/envs/tensorflow_env/lib/python3.7/site-packages/ipykernel/ipkernel.py:287: DeprecationWarning: `should_run_async` will not call `transform_cell` automatically in the future. Please pass the result to `transformed_cell` argument and any exception that happen during thetransform in `preprocessing_exc_tuple` in IPython 7.17 and above.\n",
      "  and should_run_async(code)\n"
     ]
    },
    {
     "data": {
      "text/html": [
       "<div>\n",
       "<style scoped>\n",
       "    .dataframe tbody tr th:only-of-type {\n",
       "        vertical-align: middle;\n",
       "    }\n",
       "\n",
       "    .dataframe tbody tr th {\n",
       "        vertical-align: top;\n",
       "    }\n",
       "\n",
       "    .dataframe thead th {\n",
       "        text-align: right;\n",
       "    }\n",
       "</style>\n",
       "<table border=\"1\" class=\"dataframe\">\n",
       "  <thead>\n",
       "    <tr style=\"text-align: right;\">\n",
       "      <th></th>\n",
       "      <th>topic</th>\n",
       "      <th>term</th>\n",
       "    </tr>\n",
       "  </thead>\n",
       "  <tbody>\n",
       "    <tr>\n",
       "      <th>0</th>\n",
       "      <td>composition_cyanamide_use</td>\n",
       "      <td>composition</td>\n",
       "    </tr>\n",
       "    <tr>\n",
       "      <th>1</th>\n",
       "      <td>composition_cyanamide_use</td>\n",
       "      <td>cyanamide</td>\n",
       "    </tr>\n",
       "    <tr>\n",
       "      <th>2</th>\n",
       "      <td>composition_cyanamide_use</td>\n",
       "      <td>use</td>\n",
       "    </tr>\n",
       "    <tr>\n",
       "      <th>3</th>\n",
       "      <td>composition_cyanamide_use</td>\n",
       "      <td>stabilize</td>\n",
       "    </tr>\n",
       "    <tr>\n",
       "      <th>4</th>\n",
       "      <td>composition_cyanamide_use</td>\n",
       "      <td>method</td>\n",
       "    </tr>\n",
       "  </tbody>\n",
       "</table>\n",
       "</div>"
      ],
      "text/plain": [
       "                       topic         term\n",
       "0  composition_cyanamide_use  composition\n",
       "1  composition_cyanamide_use    cyanamide\n",
       "2  composition_cyanamide_use          use\n",
       "3  composition_cyanamide_use    stabilize\n",
       "4  composition_cyanamide_use       method"
      ]
     },
     "execution_count": 89,
     "metadata": {},
     "output_type": "execute_result"
    }
   ],
   "source": [
    "df_dictionary = pd.DataFrame(dictionary_initial, columns=['topic', 'term'])\n",
    "df_dictionary.head()"
   ]
  },
  {
   "cell_type": "code",
   "execution_count": 90,
   "metadata": {},
   "outputs": [
    {
     "name": "stdout",
     "output_type": "stream",
     "text": [
      "(200, 2)\n",
      "(184, 2)\n"
     ]
    },
    {
     "name": "stderr",
     "output_type": "stream",
     "text": [
      "/opt/anaconda3/envs/tensorflow_env/lib/python3.7/site-packages/ipykernel/ipkernel.py:287: DeprecationWarning: `should_run_async` will not call `transform_cell` automatically in the future. Please pass the result to `transformed_cell` argument and any exception that happen during thetransform in `preprocessing_exc_tuple` in IPython 7.17 and above.\n",
      "  and should_run_async(code)\n"
     ]
    }
   ],
   "source": [
    "print(df_dictionary.shape)\n",
    "df_dictionary = df_dictionary.drop_duplicates()\n",
    "print(df_dictionary.shape)"
   ]
  },
  {
   "cell_type": "code",
   "execution_count": 96,
   "metadata": {},
   "outputs": [
    {
     "name": "stderr",
     "output_type": "stream",
     "text": [
      "/opt/anaconda3/envs/tensorflow_env/lib/python3.7/site-packages/ipykernel/ipkernel.py:287: DeprecationWarning: `should_run_async` will not call `transform_cell` automatically in the future. Please pass the result to `transformed_cell` argument and any exception that happen during thetransform in `preprocessing_exc_tuple` in IPython 7.17 and above.\n",
      "  and should_run_async(code)\n"
     ]
    },
    {
     "data": {
      "text/plain": [
       "(18,)"
      ]
     },
     "execution_count": 96,
     "metadata": {},
     "output_type": "execute_result"
    }
   ],
   "source": [
    "# Total de topicos\n",
    "df_dictionary['topic'].unique().shape"
   ]
  },
  {
   "cell_type": "code",
   "execution_count": 98,
   "metadata": {},
   "outputs": [
    {
     "name": "stderr",
     "output_type": "stream",
     "text": [
      "/opt/anaconda3/envs/tensorflow_env/lib/python3.7/site-packages/ipykernel/ipkernel.py:287: DeprecationWarning: `should_run_async` will not call `transform_cell` automatically in the future. Please pass the result to `transformed_cell` argument and any exception that happen during thetransform in `preprocessing_exc_tuple` in IPython 7.17 and above.\n",
      "  and should_run_async(code)\n"
     ]
    },
    {
     "data": {
      "text/plain": [
       "(98,)"
      ]
     },
     "execution_count": 98,
     "metadata": {},
     "output_type": "execute_result"
    }
   ],
   "source": [
    "# Total de termos unicos\n",
    "df_dictionary['term'].unique().shape"
   ]
  },
  {
   "cell_type": "code",
   "execution_count": 97,
   "metadata": {},
   "outputs": [
    {
     "name": "stderr",
     "output_type": "stream",
     "text": [
      "/opt/anaconda3/envs/tensorflow_env/lib/python3.7/site-packages/ipykernel/ipkernel.py:287: DeprecationWarning: `should_run_async` will not call `transform_cell` automatically in the future. Please pass the result to `transformed_cell` argument and any exception that happen during thetransform in `preprocessing_exc_tuple` in IPython 7.17 and above.\n",
      "  and should_run_async(code)\n"
     ]
    },
    {
     "data": {
      "text/html": [
       "<div>\n",
       "<style scoped>\n",
       "    .dataframe tbody tr th:only-of-type {\n",
       "        vertical-align: middle;\n",
       "    }\n",
       "\n",
       "    .dataframe tbody tr th {\n",
       "        vertical-align: top;\n",
       "    }\n",
       "\n",
       "    .dataframe thead th {\n",
       "        text-align: right;\n",
       "    }\n",
       "</style>\n",
       "<table border=\"1\" class=\"dataframe\">\n",
       "  <thead>\n",
       "    <tr style=\"text-align: right;\">\n",
       "      <th></th>\n",
       "      <th>topic</th>\n",
       "      <th>term</th>\n",
       "    </tr>\n",
       "  </thead>\n",
       "  <tbody>\n",
       "    <tr>\n",
       "      <th>0</th>\n",
       "      <td>composition_cyanamide_use</td>\n",
       "      <td>composition</td>\n",
       "    </tr>\n",
       "    <tr>\n",
       "      <th>1</th>\n",
       "      <td>composition_cyanamide_use</td>\n",
       "      <td>cyanamide</td>\n",
       "    </tr>\n",
       "    <tr>\n",
       "      <th>2</th>\n",
       "      <td>composition_cyanamide_use</td>\n",
       "      <td>use</td>\n",
       "    </tr>\n",
       "    <tr>\n",
       "      <th>3</th>\n",
       "      <td>composition_cyanamide_use</td>\n",
       "      <td>stabilize</td>\n",
       "    </tr>\n",
       "    <tr>\n",
       "      <th>4</th>\n",
       "      <td>composition_cyanamide_use</td>\n",
       "      <td>method</td>\n",
       "    </tr>\n",
       "  </tbody>\n",
       "</table>\n",
       "</div>"
      ],
      "text/plain": [
       "                       topic         term\n",
       "0  composition_cyanamide_use  composition\n",
       "1  composition_cyanamide_use    cyanamide\n",
       "2  composition_cyanamide_use          use\n",
       "3  composition_cyanamide_use    stabilize\n",
       "4  composition_cyanamide_use       method"
      ]
     },
     "execution_count": 97,
     "metadata": {},
     "output_type": "execute_result"
    }
   ],
   "source": [
    "df_dictionary.head()"
   ]
  },
  {
   "cell_type": "code",
   "execution_count": 139,
   "metadata": {},
   "outputs": [
    {
     "name": "stderr",
     "output_type": "stream",
     "text": [
      "/opt/anaconda3/envs/tensorflow_env/lib/python3.7/site-packages/ipykernel/ipkernel.py:287: DeprecationWarning: `should_run_async` will not call `transform_cell` automatically in the future. Please pass the result to `transformed_cell` argument and any exception that happen during thetransform in `preprocessing_exc_tuple` in IPython 7.17 and above.\n",
      "  and should_run_async(code)\n"
     ]
    },
    {
     "data": {
      "text/html": [
       "<div>\n",
       "<style scoped>\n",
       "    .dataframe tbody tr th:only-of-type {\n",
       "        vertical-align: middle;\n",
       "    }\n",
       "\n",
       "    .dataframe tbody tr th {\n",
       "        vertical-align: top;\n",
       "    }\n",
       "\n",
       "    .dataframe thead th {\n",
       "        text-align: right;\n",
       "    }\n",
       "</style>\n",
       "<table border=\"1\" class=\"dataframe\">\n",
       "  <thead>\n",
       "    <tr style=\"text-align: right;\">\n",
       "      <th></th>\n",
       "      <th>term</th>\n",
       "      <th>feature</th>\n",
       "    </tr>\n",
       "  </thead>\n",
       "  <tbody>\n",
       "    <tr>\n",
       "      <th>0</th>\n",
       "      <td>composition</td>\n",
       "      <td>composition</td>\n",
       "    </tr>\n",
       "    <tr>\n",
       "      <th>1</th>\n",
       "      <td>composition</td>\n",
       "      <td>composing</td>\n",
       "    </tr>\n",
       "    <tr>\n",
       "      <th>2</th>\n",
       "      <td>composition</td>\n",
       "      <td>constitution</td>\n",
       "    </tr>\n",
       "    <tr>\n",
       "      <th>4</th>\n",
       "      <td>composition</td>\n",
       "      <td>physical_composition</td>\n",
       "    </tr>\n",
       "    <tr>\n",
       "      <th>5</th>\n",
       "      <td>composition</td>\n",
       "      <td>makeup</td>\n",
       "    </tr>\n",
       "  </tbody>\n",
       "</table>\n",
       "</div>"
      ],
      "text/plain": [
       "          term               feature\n",
       "0  composition           composition\n",
       "1  composition             composing\n",
       "2  composition          constitution\n",
       "4  composition  physical_composition\n",
       "5  composition                makeup"
      ]
     },
     "execution_count": 139,
     "metadata": {},
     "output_type": "execute_result"
    }
   ],
   "source": [
    "synonyms = []\n",
    "\n",
    "for term in df_dictionary['term'].tolist():\n",
    "    \n",
    "    try:\n",
    "        synsets = wordnet.synsets(term)[:3]\n",
    "    except Exception as e:\n",
    "        print(e)\n",
    "        \n",
    "    for synset in synsets:\n",
    "        for lemma in synset.lemmas():\n",
    "            synonyms.append([term, lemma.name()])\n",
    "            \n",
    "df_synonyms = pd.DataFrame(synonyms, columns=['term', 'feature'])\n",
    "df_synonyms = df_synonyms.drop_duplicates()\n",
    "df_synonyms.head()"
   ]
  },
  {
   "cell_type": "code",
   "execution_count": 143,
   "metadata": {},
   "outputs": [
    {
     "name": "stderr",
     "output_type": "stream",
     "text": [
      "/opt/anaconda3/envs/tensorflow_env/lib/python3.7/site-packages/ipykernel/ipkernel.py:287: DeprecationWarning: `should_run_async` will not call `transform_cell` automatically in the future. Please pass the result to `transformed_cell` argument and any exception that happen during thetransform in `preprocessing_exc_tuple` in IPython 7.17 and above.\n",
      "  and should_run_async(code)\n"
     ]
    },
    {
     "data": {
      "text/html": [
       "<div>\n",
       "<style scoped>\n",
       "    .dataframe tbody tr th:only-of-type {\n",
       "        vertical-align: middle;\n",
       "    }\n",
       "\n",
       "    .dataframe tbody tr th {\n",
       "        vertical-align: top;\n",
       "    }\n",
       "\n",
       "    .dataframe thead th {\n",
       "        text-align: right;\n",
       "    }\n",
       "</style>\n",
       "<table border=\"1\" class=\"dataframe\">\n",
       "  <thead>\n",
       "    <tr style=\"text-align: right;\">\n",
       "      <th></th>\n",
       "      <th>topic</th>\n",
       "      <th>term</th>\n",
       "      <th>feature</th>\n",
       "    </tr>\n",
       "  </thead>\n",
       "  <tbody>\n",
       "    <tr>\n",
       "      <th>0</th>\n",
       "      <td>composition_cyanamide_use</td>\n",
       "      <td>composition</td>\n",
       "      <td>composition</td>\n",
       "    </tr>\n",
       "    <tr>\n",
       "      <th>1</th>\n",
       "      <td>composition_cyanamide_use</td>\n",
       "      <td>composition</td>\n",
       "      <td>composing</td>\n",
       "    </tr>\n",
       "    <tr>\n",
       "      <th>2</th>\n",
       "      <td>composition_cyanamide_use</td>\n",
       "      <td>composition</td>\n",
       "      <td>constitution</td>\n",
       "    </tr>\n",
       "    <tr>\n",
       "      <th>3</th>\n",
       "      <td>composition_cyanamide_use</td>\n",
       "      <td>composition</td>\n",
       "      <td>physical_composition</td>\n",
       "    </tr>\n",
       "    <tr>\n",
       "      <th>4</th>\n",
       "      <td>composition_cyanamide_use</td>\n",
       "      <td>composition</td>\n",
       "      <td>makeup</td>\n",
       "    </tr>\n",
       "  </tbody>\n",
       "</table>\n",
       "</div>"
      ],
      "text/plain": [
       "                       topic         term               feature\n",
       "0  composition_cyanamide_use  composition           composition\n",
       "1  composition_cyanamide_use  composition             composing\n",
       "2  composition_cyanamide_use  composition          constitution\n",
       "3  composition_cyanamide_use  composition  physical_composition\n",
       "4  composition_cyanamide_use  composition                makeup"
      ]
     },
     "execution_count": 143,
     "metadata": {},
     "output_type": "execute_result"
    }
   ],
   "source": [
    "dictionary = pd.merge(df_dictionary, df_synonyms, on = 'term', how = 'inner')\n",
    "dictionary.head()"
   ]
  },
  {
   "cell_type": "code",
   "execution_count": 144,
   "metadata": {},
   "outputs": [
    {
     "name": "stderr",
     "output_type": "stream",
     "text": [
      "/opt/anaconda3/envs/tensorflow_env/lib/python3.7/site-packages/ipykernel/ipkernel.py:287: DeprecationWarning: `should_run_async` will not call `transform_cell` automatically in the future. Please pass the result to `transformed_cell` argument and any exception that happen during thetransform in `preprocessing_exc_tuple` in IPython 7.17 and above.\n",
      "  and should_run_async(code)\n"
     ]
    }
   ],
   "source": [
    "dictionary.to_csv('dictionary.csv')"
   ]
  },
  {
   "cell_type": "code",
   "execution_count": null,
   "metadata": {},
   "outputs": [],
   "source": []
  }
 ],
 "metadata": {
  "kernelspec": {
   "display_name": "Python 3",
   "language": "python",
   "name": "python3"
  },
  "language_info": {
   "codemirror_mode": {
    "name": "ipython",
    "version": 3
   },
   "file_extension": ".py",
   "mimetype": "text/x-python",
   "name": "python",
   "nbconvert_exporter": "python",
   "pygments_lexer": "ipython3",
   "version": "3.7.9"
  }
 },
 "nbformat": 4,
 "nbformat_minor": 2
}
