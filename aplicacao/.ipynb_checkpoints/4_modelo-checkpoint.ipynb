{
 "cells": [
  {
   "cell_type": "code",
   "execution_count": 25,
   "metadata": {},
   "outputs": [],
   "source": [
    "import numpy as np\n",
    "import pandas as pd\n",
    "\n",
    "from sklearn.model_selection import train_test_split\n",
    "from sklearn.ensemble import RandomForestClassifier\n",
    "from sklearn.naive_bayes import GaussianNB\n",
    "from sklearn.svm import SVC\n",
    "# import xgboost as xgb\n",
    "\n",
    "from sklearn.feature_extraction.text import TfidfVectorizer"
   ]
  },
  {
   "cell_type": "code",
   "execution_count": 2,
   "metadata": {},
   "outputs": [
    {
     "data": {
      "text/html": [
       "<div>\n",
       "<style scoped>\n",
       "    .dataframe tbody tr th:only-of-type {\n",
       "        vertical-align: middle;\n",
       "    }\n",
       "\n",
       "    .dataframe tbody tr th {\n",
       "        vertical-align: top;\n",
       "    }\n",
       "\n",
       "    .dataframe thead th {\n",
       "        text-align: right;\n",
       "    }\n",
       "</style>\n",
       "<table border=\"1\" class=\"dataframe\">\n",
       "  <thead>\n",
       "    <tr style=\"text-align: right;\">\n",
       "      <th></th>\n",
       "      <th>Unnamed: 0</th>\n",
       "      <th>idx</th>\n",
       "      <th>title_raw</th>\n",
       "      <th>text_raw</th>\n",
       "      <th>title</th>\n",
       "      <th>text</th>\n",
       "      <th>content</th>\n",
       "      <th>_topic_</th>\n",
       "    </tr>\n",
       "  </thead>\n",
       "  <tbody>\n",
       "    <tr>\n",
       "      <th>0</th>\n",
       "      <td>0</td>\n",
       "      <td>5969222</td>\n",
       "      <td>\\n\\n                    Corn inbred lines for ...</td>\n",
       "      <td>\\n            An inbred corn line designated A...</td>\n",
       "      <td>corn inbred lines for dairy cattle feed</td>\n",
       "      <td>an inbred corn line designated ar5153bm3 is di...</td>\n",
       "      <td>corn inbred lines for dairy cattle feed an inb...</td>\n",
       "      <td>composition_cyanamide_use</td>\n",
       "    </tr>\n",
       "    <tr>\n",
       "      <th>1</th>\n",
       "      <td>1</td>\n",
       "      <td>6114609</td>\n",
       "      <td>\\n\\n                    Corn inbred lines for ...</td>\n",
       "      <td>\\n            An inbred corn line designated A...</td>\n",
       "      <td>corn inbred lines for dairy cattle feed</td>\n",
       "      <td>an inbred corn line designated ar5253bm3 is di...</td>\n",
       "      <td>corn inbred lines for dairy cattle feed an inb...</td>\n",
       "      <td>composition_cyanamide_use</td>\n",
       "    </tr>\n",
       "    <tr>\n",
       "      <th>2</th>\n",
       "      <td>2</td>\n",
       "      <td>5859353</td>\n",
       "      <td>\\n\\n                    Corn Inbred lines for ...</td>\n",
       "      <td>\\n            An inbred corn line designated A...</td>\n",
       "      <td>corn inbred lines for dairy cattle feed</td>\n",
       "      <td>an inbred corn line designated ar5252bm3 is di...</td>\n",
       "      <td>corn inbred lines for dairy cattle feed an inb...</td>\n",
       "      <td>composition_cyanamide_use</td>\n",
       "    </tr>\n",
       "    <tr>\n",
       "      <th>3</th>\n",
       "      <td>3</td>\n",
       "      <td>5714670</td>\n",
       "      <td>\\n\\n                    Soybeans having low li...</td>\n",
       "      <td>\\n            A novel soybean seed and plant d...</td>\n",
       "      <td>soybeans having low linolenic acid and low pal...</td>\n",
       "      <td>a novel soybean seed and plant designated ax77...</td>\n",
       "      <td>soybeans having low linolenic acid and low pal...</td>\n",
       "      <td>composition_cyanamide_use</td>\n",
       "    </tr>\n",
       "    <tr>\n",
       "      <th>4</th>\n",
       "      <td>4</td>\n",
       "      <td>5763745</td>\n",
       "      <td>\\n\\n                    Soybeans having low li...</td>\n",
       "      <td>\\n            Methods are described for the pr...</td>\n",
       "      <td>soybeans having low linolenic acid content and...</td>\n",
       "      <td>methods are described for the production of so...</td>\n",
       "      <td>soybeans having low linolenic acid content and...</td>\n",
       "      <td>composition_cyanamide_use</td>\n",
       "    </tr>\n",
       "  </tbody>\n",
       "</table>\n",
       "</div>"
      ],
      "text/plain": [
       "   Unnamed: 0      idx                                          title_raw  \\\n",
       "0           0  5969222  \\n\\n                    Corn inbred lines for ...   \n",
       "1           1  6114609  \\n\\n                    Corn inbred lines for ...   \n",
       "2           2  5859353  \\n\\n                    Corn Inbred lines for ...   \n",
       "3           3  5714670  \\n\\n                    Soybeans having low li...   \n",
       "4           4  5763745  \\n\\n                    Soybeans having low li...   \n",
       "\n",
       "                                            text_raw  \\\n",
       "0  \\n            An inbred corn line designated A...   \n",
       "1  \\n            An inbred corn line designated A...   \n",
       "2  \\n            An inbred corn line designated A...   \n",
       "3  \\n            A novel soybean seed and plant d...   \n",
       "4  \\n            Methods are described for the pr...   \n",
       "\n",
       "                                               title  \\\n",
       "0            corn inbred lines for dairy cattle feed   \n",
       "1            corn inbred lines for dairy cattle feed   \n",
       "2            corn inbred lines for dairy cattle feed   \n",
       "3  soybeans having low linolenic acid and low pal...   \n",
       "4  soybeans having low linolenic acid content and...   \n",
       "\n",
       "                                                text  \\\n",
       "0  an inbred corn line designated ar5153bm3 is di...   \n",
       "1  an inbred corn line designated ar5253bm3 is di...   \n",
       "2  an inbred corn line designated ar5252bm3 is di...   \n",
       "3  a novel soybean seed and plant designated ax77...   \n",
       "4  methods are described for the production of so...   \n",
       "\n",
       "                                             content  \\\n",
       "0  corn inbred lines for dairy cattle feed an inb...   \n",
       "1  corn inbred lines for dairy cattle feed an inb...   \n",
       "2  corn inbred lines for dairy cattle feed an inb...   \n",
       "3  soybeans having low linolenic acid and low pal...   \n",
       "4  soybeans having low linolenic acid content and...   \n",
       "\n",
       "                     _topic_  \n",
       "0  composition_cyanamide_use  \n",
       "1  composition_cyanamide_use  \n",
       "2  composition_cyanamide_use  \n",
       "3  composition_cyanamide_use  \n",
       "4  composition_cyanamide_use  "
      ]
     },
     "execution_count": 2,
     "metadata": {},
     "output_type": "execute_result"
    }
   ],
   "source": [
    "database = pd.read_csv('database.csv')\n",
    "database.head()"
   ]
  },
  {
   "cell_type": "code",
   "execution_count": 3,
   "metadata": {},
   "outputs": [],
   "source": [
    "database_train = database[database['_topic_'].notna()]\n",
    "# database_ = database[not database['_topic_'].isna()]"
   ]
  },
  {
   "cell_type": "code",
   "execution_count": 4,
   "metadata": {},
   "outputs": [],
   "source": [
    "vectorizer = TfidfVectorizer()\n",
    "doc_vec = vectorizer.fit_transform(database_train['content'])"
   ]
  },
  {
   "cell_type": "code",
   "execution_count": 5,
   "metadata": {},
   "outputs": [
    {
     "data": {
      "text/plain": [
       "(10, 284)"
      ]
     },
     "execution_count": 5,
     "metadata": {},
     "output_type": "execute_result"
    }
   ],
   "source": [
    "df_doc_vec = pd.DataFrame(doc_vec.toarray(), columns = vectorizer.get_feature_names())\n",
    "df_doc_vec.shape"
   ]
  },
  {
   "cell_type": "code",
   "execution_count": 6,
   "metadata": {},
   "outputs": [],
   "source": [
    "X = df_doc_vec\n",
    "y = database_train['_topic_'].to_numpy()"
   ]
  },
  {
   "cell_type": "code",
   "execution_count": 7,
   "metadata": {},
   "outputs": [],
   "source": [
    "X_train, X_test, y_train, y_test = train_test_split(X, y, test_size=0.33, random_state=42)"
   ]
  },
  {
   "cell_type": "code",
   "execution_count": 8,
   "metadata": {},
   "outputs": [
    {
     "name": "stdout",
     "output_type": "stream",
     "text": [
      "(6, 284) (4, 284) (6,) (4,)\n"
     ]
    }
   ],
   "source": [
    "print(X_train.shape, X_test.shape, y_train.shape, y_test.shape)"
   ]
  },
  {
   "cell_type": "code",
   "execution_count": null,
   "metadata": {},
   "outputs": [],
   "source": [
    "# teste com random forest"
   ]
  },
  {
   "cell_type": "code",
   "execution_count": 19,
   "metadata": {},
   "outputs": [],
   "source": [
    "rf = RandomForestClassifier(random_state=185)"
   ]
  },
  {
   "cell_type": "code",
   "execution_count": 20,
   "metadata": {},
   "outputs": [
    {
     "data": {
      "text/plain": [
       "0.5"
      ]
     },
     "execution_count": 20,
     "metadata": {},
     "output_type": "execute_result"
    }
   ],
   "source": [
    "rf.fit(X_train, y_train)\n",
    "rf.score(X_test, y_test)"
   ]
  },
  {
   "cell_type": "code",
   "execution_count": 21,
   "metadata": {},
   "outputs": [],
   "source": [
    "# teste com Naive Bayes"
   ]
  },
  {
   "cell_type": "code",
   "execution_count": 22,
   "metadata": {},
   "outputs": [],
   "source": [
    "nb = GaussianNB()"
   ]
  },
  {
   "cell_type": "code",
   "execution_count": 23,
   "metadata": {},
   "outputs": [
    {
     "data": {
      "text/plain": [
       "0.5"
      ]
     },
     "execution_count": 23,
     "metadata": {},
     "output_type": "execute_result"
    }
   ],
   "source": [
    "nb.fit(X_train, y_train)\n",
    "nb.score(X_test, y_test)"
   ]
  },
  {
   "cell_type": "code",
   "execution_count": 24,
   "metadata": {},
   "outputs": [],
   "source": [
    "# teste com SVM"
   ]
  },
  {
   "cell_type": "code",
   "execution_count": 26,
   "metadata": {},
   "outputs": [],
   "source": [
    "svm = SVC(random_state=150, probability=True)"
   ]
  },
  {
   "cell_type": "code",
   "execution_count": 27,
   "metadata": {},
   "outputs": [
    {
     "data": {
      "text/plain": [
       "0.5"
      ]
     },
     "execution_count": 27,
     "metadata": {},
     "output_type": "execute_result"
    }
   ],
   "source": [
    "svm.fit(X_train, y_train)\n",
    "svm.score(X_test, y_test)"
   ]
  },
  {
   "cell_type": "code",
   "execution_count": null,
   "metadata": {},
   "outputs": [],
   "source": []
  },
  {
   "cell_type": "code",
   "execution_count": null,
   "metadata": {},
   "outputs": [],
   "source": []
  },
  {
   "cell_type": "code",
   "execution_count": null,
   "metadata": {},
   "outputs": [],
   "source": []
  }
 ],
 "metadata": {
  "kernelspec": {
   "display_name": "Python 3",
   "language": "python",
   "name": "python3"
  },
  "language_info": {
   "codemirror_mode": {
    "name": "ipython",
    "version": 3
   },
   "file_extension": ".py",
   "mimetype": "text/x-python",
   "name": "python",
   "nbconvert_exporter": "python",
   "pygments_lexer": "ipython3",
   "version": "3.7.9"
  }
 },
 "nbformat": 4,
 "nbformat_minor": 4
}
