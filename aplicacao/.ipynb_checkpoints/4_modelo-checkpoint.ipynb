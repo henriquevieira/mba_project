{
 "cells": [
  {
   "cell_type": "code",
   "execution_count": 49,
   "metadata": {},
   "outputs": [],
   "source": [
    "import numpy as np\n",
    "import pandas as pd\n",
    "\n",
    "\n",
    "from sklearn.model_selection import train_test_split, cross_val_score, cross_validate\n",
    "from sklearn.ensemble import RandomForestClassifier\n",
    "from sklearn.naive_bayes import GaussianNB\n",
    "from sklearn.svm import SVC\n",
    "# import xgboost as xgb\n",
    "\n",
    "from sklearn.feature_selection import RFE\n",
    "from sklearn.feature_extraction.text import TfidfVectorizer\n",
    "\n",
    "from nltk.corpus import stopwords\n",
    "\n",
    "import matplotlib.pyplot as plt"
   ]
  },
  {
   "cell_type": "code",
   "execution_count": 2,
   "metadata": {},
   "outputs": [
    {
     "data": {
      "text/html": [
       "<div>\n",
       "<style scoped>\n",
       "    .dataframe tbody tr th:only-of-type {\n",
       "        vertical-align: middle;\n",
       "    }\n",
       "\n",
       "    .dataframe tbody tr th {\n",
       "        vertical-align: top;\n",
       "    }\n",
       "\n",
       "    .dataframe thead th {\n",
       "        text-align: right;\n",
       "    }\n",
       "</style>\n",
       "<table border=\"1\" class=\"dataframe\">\n",
       "  <thead>\n",
       "    <tr style=\"text-align: right;\">\n",
       "      <th></th>\n",
       "      <th>idx</th>\n",
       "      <th>title_raw</th>\n",
       "      <th>text_raw</th>\n",
       "      <th>title</th>\n",
       "      <th>text</th>\n",
       "      <th>content</th>\n",
       "      <th>_topic_</th>\n",
       "    </tr>\n",
       "  </thead>\n",
       "  <tbody>\n",
       "    <tr>\n",
       "      <th>0</th>\n",
       "      <td>0387659</td>\n",
       "      <td>\\n\\n                    SYSTEMS AND METHODS FO...</td>\n",
       "      <td>\\n            The present disclosure provides ...</td>\n",
       "      <td>systems and methods for adjusting the output o...</td>\n",
       "      <td>the present disclosure provides systems and me...</td>\n",
       "      <td>systems and methods for adjusting the output o...</td>\n",
       "      <td>method_crop_use; plurality_equipment_datum; le...</td>\n",
       "    </tr>\n",
       "    <tr>\n",
       "      <th>1</th>\n",
       "      <td>10729058</td>\n",
       "      <td>\\n\\n                    Systems and methods fo...</td>\n",
       "      <td>\\n            The present disclosure provides ...</td>\n",
       "      <td>systems and methods for adjusting the output o...</td>\n",
       "      <td>the present disclosure provides systems and me...</td>\n",
       "      <td>systems and methods for adjusting the output o...</td>\n",
       "      <td>method_crop_use; plurality_equipment_datum; le...</td>\n",
       "    </tr>\n",
       "    <tr>\n",
       "      <th>2</th>\n",
       "      <td>6745128</td>\n",
       "      <td>\\n\\n                    Methods and systems fo...</td>\n",
       "      <td>\\n            Methods and systems for characte...</td>\n",
       "      <td>methods and systems for managing farmland</td>\n",
       "      <td>methods and systems for characterizing and man...</td>\n",
       "      <td>methods and systems for managing farmland meth...</td>\n",
       "      <td>method_crop_use; plurality_equipment_datum; le...</td>\n",
       "    </tr>\n",
       "    <tr>\n",
       "      <th>3</th>\n",
       "      <td>6549852</td>\n",
       "      <td>\\n\\n                    Methods and systems fo...</td>\n",
       "      <td>\\n            Methods and systems for characte...</td>\n",
       "      <td>methods and systems for managing farmland</td>\n",
       "      <td>methods and systems for characterizing and man...</td>\n",
       "      <td>methods and systems for managing farmland meth...</td>\n",
       "      <td>method_crop_use; plurality_equipment_datum; le...</td>\n",
       "    </tr>\n",
       "    <tr>\n",
       "      <th>4</th>\n",
       "      <td>0018431</td>\n",
       "      <td>\\n\\n                    METHODS AND SYSTEMS FO...</td>\n",
       "      <td>\\n            Methods and systems for characte...</td>\n",
       "      <td>methods and systems for managing farmland</td>\n",
       "      <td>methods and systems for characterizing and man...</td>\n",
       "      <td>methods and systems for managing farmland meth...</td>\n",
       "      <td>method_crop_use; plurality_equipment_datum; le...</td>\n",
       "    </tr>\n",
       "  </tbody>\n",
       "</table>\n",
       "</div>"
      ],
      "text/plain": [
       "        idx                                          title_raw  \\\n",
       "0   0387659  \\n\\n                    SYSTEMS AND METHODS FO...   \n",
       "1  10729058  \\n\\n                    Systems and methods fo...   \n",
       "2   6745128  \\n\\n                    Methods and systems fo...   \n",
       "3   6549852  \\n\\n                    Methods and systems fo...   \n",
       "4   0018431  \\n\\n                    METHODS AND SYSTEMS FO...   \n",
       "\n",
       "                                            text_raw  \\\n",
       "0  \\n            The present disclosure provides ...   \n",
       "1  \\n            The present disclosure provides ...   \n",
       "2  \\n            Methods and systems for characte...   \n",
       "3  \\n            Methods and systems for characte...   \n",
       "4  \\n            Methods and systems for characte...   \n",
       "\n",
       "                                               title  \\\n",
       "0  systems and methods for adjusting the output o...   \n",
       "1  systems and methods for adjusting the output o...   \n",
       "2          methods and systems for managing farmland   \n",
       "3          methods and systems for managing farmland   \n",
       "4          methods and systems for managing farmland   \n",
       "\n",
       "                                                text  \\\n",
       "0  the present disclosure provides systems and me...   \n",
       "1  the present disclosure provides systems and me...   \n",
       "2  methods and systems for characterizing and man...   \n",
       "3  methods and systems for characterizing and man...   \n",
       "4  methods and systems for characterizing and man...   \n",
       "\n",
       "                                             content  \\\n",
       "0  systems and methods for adjusting the output o...   \n",
       "1  systems and methods for adjusting the output o...   \n",
       "2  methods and systems for managing farmland meth...   \n",
       "3  methods and systems for managing farmland meth...   \n",
       "4  methods and systems for managing farmland meth...   \n",
       "\n",
       "                                             _topic_  \n",
       "0  method_crop_use; plurality_equipment_datum; le...  \n",
       "1  method_crop_use; plurality_equipment_datum; le...  \n",
       "2  method_crop_use; plurality_equipment_datum; le...  \n",
       "3  method_crop_use; plurality_equipment_datum; le...  \n",
       "4  method_crop_use; plurality_equipment_datum; le...  "
      ]
     },
     "execution_count": 2,
     "metadata": {},
     "output_type": "execute_result"
    }
   ],
   "source": [
    "database = pd.read_csv('database.csv')\n",
    "database.head()"
   ]
  },
  {
   "cell_type": "code",
   "execution_count": 3,
   "metadata": {},
   "outputs": [],
   "source": [
    "database_train = database[database['_topic_'].notna()]\n",
    "# database_ = database[not database['_topic_'].isna()]"
   ]
  },
  {
   "cell_type": "code",
   "execution_count": 4,
   "metadata": {},
   "outputs": [],
   "source": [
    "vectorizer = TfidfVectorizer()\n",
    "doc_vec = vectorizer.fit_transform(database_train['content'])"
   ]
  },
  {
   "cell_type": "code",
   "execution_count": 5,
   "metadata": {},
   "outputs": [
    {
     "data": {
      "text/plain": [
       "(300, 2775)"
      ]
     },
     "execution_count": 5,
     "metadata": {},
     "output_type": "execute_result"
    }
   ],
   "source": [
    "df_doc_vec = pd.DataFrame(doc_vec.toarray(), columns = vectorizer.get_feature_names())\n",
    "df_doc_vec.shape"
   ]
  },
  {
   "cell_type": "code",
   "execution_count": 6,
   "metadata": {},
   "outputs": [
    {
     "data": {
      "text/html": [
       "<div>\n",
       "<style scoped>\n",
       "    .dataframe tbody tr th:only-of-type {\n",
       "        vertical-align: middle;\n",
       "    }\n",
       "\n",
       "    .dataframe tbody tr th {\n",
       "        vertical-align: top;\n",
       "    }\n",
       "\n",
       "    .dataframe thead th {\n",
       "        text-align: right;\n",
       "    }\n",
       "</style>\n",
       "<table border=\"1\" class=\"dataframe\">\n",
       "  <thead>\n",
       "    <tr style=\"text-align: right;\">\n",
       "      <th></th>\n",
       "      <th>001</th>\n",
       "      <th>01dhd10</th>\n",
       "      <th>08pb</th>\n",
       "      <th>09dsq1</th>\n",
       "      <th>10</th>\n",
       "      <th>102</th>\n",
       "      <th>104</th>\n",
       "      <th>106</th>\n",
       "      <th>108</th>\n",
       "      <th>10845353</th>\n",
       "      <th>...</th>\n",
       "      <th>yields</th>\n",
       "      <th>you</th>\n",
       "      <th>zea</th>\n",
       "      <th>zein</th>\n",
       "      <th>zeolite</th>\n",
       "      <th>zinc</th>\n",
       "      <th>zn</th>\n",
       "      <th>zone</th>\n",
       "      <th>zones</th>\n",
       "      <th>μmol</th>\n",
       "    </tr>\n",
       "  </thead>\n",
       "  <tbody>\n",
       "    <tr>\n",
       "      <th>0</th>\n",
       "      <td>0.0</td>\n",
       "      <td>0.0</td>\n",
       "      <td>0.0</td>\n",
       "      <td>0.0</td>\n",
       "      <td>0.0</td>\n",
       "      <td>0.0</td>\n",
       "      <td>0.0</td>\n",
       "      <td>0.0</td>\n",
       "      <td>0.0</td>\n",
       "      <td>0.0</td>\n",
       "      <td>...</td>\n",
       "      <td>0.0</td>\n",
       "      <td>0.0</td>\n",
       "      <td>0.0</td>\n",
       "      <td>0.0</td>\n",
       "      <td>0.0</td>\n",
       "      <td>0.0</td>\n",
       "      <td>0.0</td>\n",
       "      <td>0.000000</td>\n",
       "      <td>0.000000</td>\n",
       "      <td>0.0</td>\n",
       "    </tr>\n",
       "    <tr>\n",
       "      <th>1</th>\n",
       "      <td>0.0</td>\n",
       "      <td>0.0</td>\n",
       "      <td>0.0</td>\n",
       "      <td>0.0</td>\n",
       "      <td>0.0</td>\n",
       "      <td>0.0</td>\n",
       "      <td>0.0</td>\n",
       "      <td>0.0</td>\n",
       "      <td>0.0</td>\n",
       "      <td>0.0</td>\n",
       "      <td>...</td>\n",
       "      <td>0.0</td>\n",
       "      <td>0.0</td>\n",
       "      <td>0.0</td>\n",
       "      <td>0.0</td>\n",
       "      <td>0.0</td>\n",
       "      <td>0.0</td>\n",
       "      <td>0.0</td>\n",
       "      <td>0.000000</td>\n",
       "      <td>0.000000</td>\n",
       "      <td>0.0</td>\n",
       "    </tr>\n",
       "    <tr>\n",
       "      <th>2</th>\n",
       "      <td>0.0</td>\n",
       "      <td>0.0</td>\n",
       "      <td>0.0</td>\n",
       "      <td>0.0</td>\n",
       "      <td>0.0</td>\n",
       "      <td>0.0</td>\n",
       "      <td>0.0</td>\n",
       "      <td>0.0</td>\n",
       "      <td>0.0</td>\n",
       "      <td>0.0</td>\n",
       "      <td>...</td>\n",
       "      <td>0.0</td>\n",
       "      <td>0.0</td>\n",
       "      <td>0.0</td>\n",
       "      <td>0.0</td>\n",
       "      <td>0.0</td>\n",
       "      <td>0.0</td>\n",
       "      <td>0.0</td>\n",
       "      <td>0.296266</td>\n",
       "      <td>0.101953</td>\n",
       "      <td>0.0</td>\n",
       "    </tr>\n",
       "    <tr>\n",
       "      <th>3</th>\n",
       "      <td>0.0</td>\n",
       "      <td>0.0</td>\n",
       "      <td>0.0</td>\n",
       "      <td>0.0</td>\n",
       "      <td>0.0</td>\n",
       "      <td>0.0</td>\n",
       "      <td>0.0</td>\n",
       "      <td>0.0</td>\n",
       "      <td>0.0</td>\n",
       "      <td>0.0</td>\n",
       "      <td>...</td>\n",
       "      <td>0.0</td>\n",
       "      <td>0.0</td>\n",
       "      <td>0.0</td>\n",
       "      <td>0.0</td>\n",
       "      <td>0.0</td>\n",
       "      <td>0.0</td>\n",
       "      <td>0.0</td>\n",
       "      <td>0.296266</td>\n",
       "      <td>0.101953</td>\n",
       "      <td>0.0</td>\n",
       "    </tr>\n",
       "    <tr>\n",
       "      <th>4</th>\n",
       "      <td>0.0</td>\n",
       "      <td>0.0</td>\n",
       "      <td>0.0</td>\n",
       "      <td>0.0</td>\n",
       "      <td>0.0</td>\n",
       "      <td>0.0</td>\n",
       "      <td>0.0</td>\n",
       "      <td>0.0</td>\n",
       "      <td>0.0</td>\n",
       "      <td>0.0</td>\n",
       "      <td>...</td>\n",
       "      <td>0.0</td>\n",
       "      <td>0.0</td>\n",
       "      <td>0.0</td>\n",
       "      <td>0.0</td>\n",
       "      <td>0.0</td>\n",
       "      <td>0.0</td>\n",
       "      <td>0.0</td>\n",
       "      <td>0.296266</td>\n",
       "      <td>0.101953</td>\n",
       "      <td>0.0</td>\n",
       "    </tr>\n",
       "  </tbody>\n",
       "</table>\n",
       "<p>5 rows × 2775 columns</p>\n",
       "</div>"
      ],
      "text/plain": [
       "   001  01dhd10  08pb  09dsq1   10  102  104  106  108  10845353  ...  yields  \\\n",
       "0  0.0      0.0   0.0     0.0  0.0  0.0  0.0  0.0  0.0       0.0  ...     0.0   \n",
       "1  0.0      0.0   0.0     0.0  0.0  0.0  0.0  0.0  0.0       0.0  ...     0.0   \n",
       "2  0.0      0.0   0.0     0.0  0.0  0.0  0.0  0.0  0.0       0.0  ...     0.0   \n",
       "3  0.0      0.0   0.0     0.0  0.0  0.0  0.0  0.0  0.0       0.0  ...     0.0   \n",
       "4  0.0      0.0   0.0     0.0  0.0  0.0  0.0  0.0  0.0       0.0  ...     0.0   \n",
       "\n",
       "   you  zea  zein  zeolite  zinc   zn      zone     zones  μmol  \n",
       "0  0.0  0.0   0.0      0.0   0.0  0.0  0.000000  0.000000   0.0  \n",
       "1  0.0  0.0   0.0      0.0   0.0  0.0  0.000000  0.000000   0.0  \n",
       "2  0.0  0.0   0.0      0.0   0.0  0.0  0.296266  0.101953   0.0  \n",
       "3  0.0  0.0   0.0      0.0   0.0  0.0  0.296266  0.101953   0.0  \n",
       "4  0.0  0.0   0.0      0.0   0.0  0.0  0.296266  0.101953   0.0  \n",
       "\n",
       "[5 rows x 2775 columns]"
      ]
     },
     "execution_count": 6,
     "metadata": {},
     "output_type": "execute_result"
    }
   ],
   "source": [
    "df_doc_vec.head()"
   ]
  },
  {
   "cell_type": "code",
   "execution_count": 7,
   "metadata": {},
   "outputs": [],
   "source": [
    "X = df_doc_vec\n",
    "y = database_train['_topic_'].to_numpy()"
   ]
  },
  {
   "cell_type": "code",
   "execution_count": 8,
   "metadata": {},
   "outputs": [],
   "source": [
    "X_train, X_test, y_train, y_test = train_test_split(X, y, random_state=0)"
   ]
  },
  {
   "cell_type": "code",
   "execution_count": 9,
   "metadata": {},
   "outputs": [
    {
     "name": "stdout",
     "output_type": "stream",
     "text": [
      "(225, 2775) (75, 2775) (225,) (75,)\n"
     ]
    }
   ],
   "source": [
    "print(X_train.shape, X_test.shape, y_train.shape, y_test.shape)"
   ]
  },
  {
   "cell_type": "code",
   "execution_count": 10,
   "metadata": {},
   "outputs": [],
   "source": [
    "# teste com random forest"
   ]
  },
  {
   "cell_type": "code",
   "execution_count": 11,
   "metadata": {},
   "outputs": [
    {
     "data": {
      "text/plain": [
       "0.5466666666666666"
      ]
     },
     "execution_count": 11,
     "metadata": {},
     "output_type": "execute_result"
    }
   ],
   "source": [
    "rf = RandomForestClassifier(random_state=42)\n",
    "rf.fit(X_train, y_train)\n",
    "rf.score(X_test, y_test)"
   ]
  },
  {
   "cell_type": "code",
   "execution_count": 12,
   "metadata": {},
   "outputs": [
    {
     "name": "stderr",
     "output_type": "stream",
     "text": [
      "/home/henrique/anaconda3/lib/python3.8/site-packages/sklearn/model_selection/_split.py:670: UserWarning: The least populated class in y has only 1 members, which is less than n_splits=10.\n",
      "  warnings.warn((\"The least populated class in y has only %d\"\n"
     ]
    },
    {
     "name": "stdout",
     "output_type": "stream",
     "text": [
      "[0.8        0.73333333 0.63333333 0.63333333 0.6        0.53333333\n",
      " 0.46666667 0.56666667 0.6        0.73333333]\n",
      "0.63\n"
     ]
    }
   ],
   "source": [
    "rf_scores = cross_val_score(rf, X, y, cv=10)\n",
    "print(rf_scores)\n",
    "print(np.mean(rf_scores))"
   ]
  },
  {
   "cell_type": "code",
   "execution_count": 13,
   "metadata": {},
   "outputs": [],
   "source": [
    "# teste com Naive Bayes"
   ]
  },
  {
   "cell_type": "code",
   "execution_count": 14,
   "metadata": {},
   "outputs": [
    {
     "data": {
      "text/plain": [
       "0.5466666666666666"
      ]
     },
     "execution_count": 14,
     "metadata": {},
     "output_type": "execute_result"
    }
   ],
   "source": [
    "nb = GaussianNB()\n",
    "nb.fit(X_train, y_train)\n",
    "nb.score(X_test, y_test)"
   ]
  },
  {
   "cell_type": "code",
   "execution_count": 15,
   "metadata": {},
   "outputs": [
    {
     "name": "stderr",
     "output_type": "stream",
     "text": [
      "/home/henrique/anaconda3/lib/python3.8/site-packages/sklearn/model_selection/_split.py:670: UserWarning: The least populated class in y has only 1 members, which is less than n_splits=10.\n",
      "  warnings.warn((\"The least populated class in y has only %d\"\n"
     ]
    },
    {
     "name": "stdout",
     "output_type": "stream",
     "text": [
      "[0.8        0.73333333 0.63333333 0.63333333 0.6        0.53333333\n",
      " 0.46666667 0.56666667 0.63333333 0.73333333]\n",
      "0.6333333333333333\n"
     ]
    }
   ],
   "source": [
    "nb_scores = cross_val_score(nb, X, y, cv=10)\n",
    "print(nb_scores)\n",
    "print(np.mean(nb_scores))"
   ]
  },
  {
   "cell_type": "code",
   "execution_count": 16,
   "metadata": {},
   "outputs": [],
   "source": [
    "# teste com SVM"
   ]
  },
  {
   "cell_type": "code",
   "execution_count": 17,
   "metadata": {},
   "outputs": [
    {
     "data": {
      "text/plain": [
       "0.5466666666666666"
      ]
     },
     "execution_count": 17,
     "metadata": {},
     "output_type": "execute_result"
    }
   ],
   "source": [
    "svm = SVC(C=15, random_state=150, probability=True)\n",
    "svm.fit(X_train, y_train)\n",
    "svm.score(X_test, y_test)"
   ]
  },
  {
   "cell_type": "code",
   "execution_count": 18,
   "metadata": {},
   "outputs": [
    {
     "name": "stderr",
     "output_type": "stream",
     "text": [
      "/home/henrique/anaconda3/lib/python3.8/site-packages/sklearn/model_selection/_split.py:670: UserWarning: The least populated class in y has only 1 members, which is less than n_splits=10.\n",
      "  warnings.warn((\"The least populated class in y has only %d\"\n"
     ]
    },
    {
     "name": "stdout",
     "output_type": "stream",
     "text": [
      "[0.76666667 0.73333333 0.63333333 0.63333333 0.56666667 0.5\n",
      " 0.46666667 0.56666667 0.63333333 0.73333333]\n",
      "0.6233333333333333\n"
     ]
    }
   ],
   "source": [
    "svm_scores = cross_val_score(svm, X, y, cv=10)\n",
    "print(svm_scores)\n",
    "print(np.mean(svm_scores))"
   ]
  },
  {
   "cell_type": "code",
   "execution_count": 19,
   "metadata": {},
   "outputs": [],
   "source": [
    "# Removendo colunas que sejam stopwords"
   ]
  },
  {
   "cell_type": "code",
   "execution_count": 20,
   "metadata": {},
   "outputs": [],
   "source": [
    "column_names = df_doc_vec.columns.tolist()"
   ]
  },
  {
   "cell_type": "code",
   "execution_count": 21,
   "metadata": {},
   "outputs": [
    {
     "name": "stdout",
     "output_type": "stream",
     "text": [
      "2775 2687\n"
     ]
    }
   ],
   "source": [
    "keep = []\n",
    "for column_name in column_names:\n",
    "    keep.append(column_name not in stopwords.words('english'))\n",
    "print(len(keep), sum(keep))"
   ]
  },
  {
   "cell_type": "code",
   "execution_count": 22,
   "metadata": {},
   "outputs": [],
   "source": [
    "df_doc_vec_filtered = df_doc_vec[df_doc_vec.columns[keep]]"
   ]
  },
  {
   "cell_type": "code",
   "execution_count": 23,
   "metadata": {},
   "outputs": [
    {
     "data": {
      "text/plain": [
       "(300, 2687)"
      ]
     },
     "execution_count": 23,
     "metadata": {},
     "output_type": "execute_result"
    }
   ],
   "source": [
    "X1 = df_doc_vec_filtered\n",
    "X1.shape"
   ]
  },
  {
   "cell_type": "code",
   "execution_count": 24,
   "metadata": {},
   "outputs": [],
   "source": [
    "X_train, X_test, y_train, y_test = train_test_split(X1, y, random_state=0)"
   ]
  },
  {
   "cell_type": "code",
   "execution_count": 25,
   "metadata": {},
   "outputs": [],
   "source": [
    "# teste com random forest"
   ]
  },
  {
   "cell_type": "code",
   "execution_count": 26,
   "metadata": {},
   "outputs": [
    {
     "data": {
      "text/plain": [
       "0.5466666666666666"
      ]
     },
     "execution_count": 26,
     "metadata": {},
     "output_type": "execute_result"
    }
   ],
   "source": [
    "rf = RandomForestClassifier(random_state=185)\n",
    "rf.fit(X_train, y_train)\n",
    "rf.score(X_test, y_test)"
   ]
  },
  {
   "cell_type": "code",
   "execution_count": 27,
   "metadata": {},
   "outputs": [
    {
     "name": "stderr",
     "output_type": "stream",
     "text": [
      "/home/henrique/anaconda3/lib/python3.8/site-packages/sklearn/model_selection/_split.py:670: UserWarning: The least populated class in y has only 1 members, which is less than n_splits=10.\n",
      "  warnings.warn((\"The least populated class in y has only %d\"\n"
     ]
    },
    {
     "name": "stdout",
     "output_type": "stream",
     "text": [
      "[0.8        0.73333333 0.63333333 0.63333333 0.6        0.5\n",
      " 0.46666667 0.56666667 0.63333333 0.73333333]\n",
      "0.63\n"
     ]
    }
   ],
   "source": [
    "rf_scores = cross_val_score(rf, X1, y, cv=10)\n",
    "print(rf_scores)\n",
    "print(rf_scores.mean())"
   ]
  },
  {
   "cell_type": "code",
   "execution_count": null,
   "metadata": {},
   "outputs": [],
   "source": []
  },
  {
   "cell_type": "code",
   "execution_count": 28,
   "metadata": {},
   "outputs": [],
   "source": [
    "# Removendo caracteristicas"
   ]
  },
  {
   "cell_type": "code",
   "execution_count": 29,
   "metadata": {},
   "outputs": [],
   "source": [
    "model = RandomForestClassifier(n_estimators=100)"
   ]
  },
  {
   "cell_type": "code",
   "execution_count": 30,
   "metadata": {},
   "outputs": [
    {
     "data": {
      "text/plain": [
       "RFE(estimator=RandomForestClassifier(), n_features_to_select=20)"
      ]
     },
     "execution_count": 30,
     "metadata": {},
     "output_type": "execute_result"
    }
   ],
   "source": [
    "rfe = RFE(model, n_features_to_select=20)\n",
    "rfe.fit(X1, y)"
   ]
  },
  {
   "cell_type": "code",
   "execution_count": 31,
   "metadata": {},
   "outputs": [
    {
     "data": {
      "text/plain": [
       "Index(['agronomy', 'also', 'another', 'complements', 'corn', 'cultures',\n",
       "       'described', 'disclosed', 'includes', 'invention', 'method', 'methods',\n",
       "       'one', 'plant', 'plants', 'provided', 'relates', 'seed', 'seeds',\n",
       "       'using'],\n",
       "      dtype='object')"
      ]
     },
     "execution_count": 31,
     "metadata": {},
     "output_type": "execute_result"
    }
   ],
   "source": [
    "X1.columns[rfe.support_]"
   ]
  },
  {
   "cell_type": "code",
   "execution_count": 32,
   "metadata": {},
   "outputs": [
    {
     "data": {
      "text/plain": [
       "(300, 20)"
      ]
     },
     "execution_count": 32,
     "metadata": {},
     "output_type": "execute_result"
    }
   ],
   "source": [
    "X1_rfe = X1[X1.columns[rfe.support_]]\n",
    "X1_rfe.shape"
   ]
  },
  {
   "cell_type": "code",
   "execution_count": 33,
   "metadata": {},
   "outputs": [
    {
     "data": {
      "text/html": [
       "<div>\n",
       "<style scoped>\n",
       "    .dataframe tbody tr th:only-of-type {\n",
       "        vertical-align: middle;\n",
       "    }\n",
       "\n",
       "    .dataframe tbody tr th {\n",
       "        vertical-align: top;\n",
       "    }\n",
       "\n",
       "    .dataframe thead th {\n",
       "        text-align: right;\n",
       "    }\n",
       "</style>\n",
       "<table border=\"1\" class=\"dataframe\">\n",
       "  <thead>\n",
       "    <tr style=\"text-align: right;\">\n",
       "      <th></th>\n",
       "      <th>agronomy</th>\n",
       "      <th>also</th>\n",
       "      <th>another</th>\n",
       "      <th>complements</th>\n",
       "      <th>corn</th>\n",
       "      <th>cultures</th>\n",
       "      <th>described</th>\n",
       "      <th>disclosed</th>\n",
       "      <th>includes</th>\n",
       "      <th>invention</th>\n",
       "      <th>method</th>\n",
       "      <th>methods</th>\n",
       "      <th>one</th>\n",
       "      <th>plant</th>\n",
       "      <th>plants</th>\n",
       "      <th>provided</th>\n",
       "      <th>relates</th>\n",
       "      <th>seed</th>\n",
       "      <th>seeds</th>\n",
       "      <th>using</th>\n",
       "    </tr>\n",
       "  </thead>\n",
       "  <tbody>\n",
       "    <tr>\n",
       "      <th>0</th>\n",
       "      <td>0.305484</td>\n",
       "      <td>0.0</td>\n",
       "      <td>0.0</td>\n",
       "      <td>0.0</td>\n",
       "      <td>0.0</td>\n",
       "      <td>0.0</td>\n",
       "      <td>0.0</td>\n",
       "      <td>0.0</td>\n",
       "      <td>0.0</td>\n",
       "      <td>0.0</td>\n",
       "      <td>0.0</td>\n",
       "      <td>0.068008</td>\n",
       "      <td>0.0</td>\n",
       "      <td>0.0</td>\n",
       "      <td>0.0</td>\n",
       "      <td>0.000000</td>\n",
       "      <td>0.0</td>\n",
       "      <td>0.000000</td>\n",
       "      <td>0.0</td>\n",
       "      <td>0.0</td>\n",
       "    </tr>\n",
       "    <tr>\n",
       "      <th>1</th>\n",
       "      <td>0.305484</td>\n",
       "      <td>0.0</td>\n",
       "      <td>0.0</td>\n",
       "      <td>0.0</td>\n",
       "      <td>0.0</td>\n",
       "      <td>0.0</td>\n",
       "      <td>0.0</td>\n",
       "      <td>0.0</td>\n",
       "      <td>0.0</td>\n",
       "      <td>0.0</td>\n",
       "      <td>0.0</td>\n",
       "      <td>0.068008</td>\n",
       "      <td>0.0</td>\n",
       "      <td>0.0</td>\n",
       "      <td>0.0</td>\n",
       "      <td>0.000000</td>\n",
       "      <td>0.0</td>\n",
       "      <td>0.000000</td>\n",
       "      <td>0.0</td>\n",
       "      <td>0.0</td>\n",
       "    </tr>\n",
       "    <tr>\n",
       "      <th>2</th>\n",
       "      <td>0.073199</td>\n",
       "      <td>0.0</td>\n",
       "      <td>0.0</td>\n",
       "      <td>0.0</td>\n",
       "      <td>0.0</td>\n",
       "      <td>0.0</td>\n",
       "      <td>0.0</td>\n",
       "      <td>0.0</td>\n",
       "      <td>0.0</td>\n",
       "      <td>0.0</td>\n",
       "      <td>0.0</td>\n",
       "      <td>0.065183</td>\n",
       "      <td>0.0</td>\n",
       "      <td>0.0</td>\n",
       "      <td>0.0</td>\n",
       "      <td>0.034642</td>\n",
       "      <td>0.0</td>\n",
       "      <td>0.036034</td>\n",
       "      <td>0.0</td>\n",
       "      <td>0.0</td>\n",
       "    </tr>\n",
       "    <tr>\n",
       "      <th>3</th>\n",
       "      <td>0.073199</td>\n",
       "      <td>0.0</td>\n",
       "      <td>0.0</td>\n",
       "      <td>0.0</td>\n",
       "      <td>0.0</td>\n",
       "      <td>0.0</td>\n",
       "      <td>0.0</td>\n",
       "      <td>0.0</td>\n",
       "      <td>0.0</td>\n",
       "      <td>0.0</td>\n",
       "      <td>0.0</td>\n",
       "      <td>0.065183</td>\n",
       "      <td>0.0</td>\n",
       "      <td>0.0</td>\n",
       "      <td>0.0</td>\n",
       "      <td>0.034642</td>\n",
       "      <td>0.0</td>\n",
       "      <td>0.036034</td>\n",
       "      <td>0.0</td>\n",
       "      <td>0.0</td>\n",
       "    </tr>\n",
       "    <tr>\n",
       "      <th>4</th>\n",
       "      <td>0.073199</td>\n",
       "      <td>0.0</td>\n",
       "      <td>0.0</td>\n",
       "      <td>0.0</td>\n",
       "      <td>0.0</td>\n",
       "      <td>0.0</td>\n",
       "      <td>0.0</td>\n",
       "      <td>0.0</td>\n",
       "      <td>0.0</td>\n",
       "      <td>0.0</td>\n",
       "      <td>0.0</td>\n",
       "      <td>0.065183</td>\n",
       "      <td>0.0</td>\n",
       "      <td>0.0</td>\n",
       "      <td>0.0</td>\n",
       "      <td>0.034642</td>\n",
       "      <td>0.0</td>\n",
       "      <td>0.036034</td>\n",
       "      <td>0.0</td>\n",
       "      <td>0.0</td>\n",
       "    </tr>\n",
       "  </tbody>\n",
       "</table>\n",
       "</div>"
      ],
      "text/plain": [
       "   agronomy  also  another  complements  corn  cultures  described  disclosed  \\\n",
       "0  0.305484   0.0      0.0          0.0   0.0       0.0        0.0        0.0   \n",
       "1  0.305484   0.0      0.0          0.0   0.0       0.0        0.0        0.0   \n",
       "2  0.073199   0.0      0.0          0.0   0.0       0.0        0.0        0.0   \n",
       "3  0.073199   0.0      0.0          0.0   0.0       0.0        0.0        0.0   \n",
       "4  0.073199   0.0      0.0          0.0   0.0       0.0        0.0        0.0   \n",
       "\n",
       "   includes  invention  method   methods  one  plant  plants  provided  \\\n",
       "0       0.0        0.0     0.0  0.068008  0.0    0.0     0.0  0.000000   \n",
       "1       0.0        0.0     0.0  0.068008  0.0    0.0     0.0  0.000000   \n",
       "2       0.0        0.0     0.0  0.065183  0.0    0.0     0.0  0.034642   \n",
       "3       0.0        0.0     0.0  0.065183  0.0    0.0     0.0  0.034642   \n",
       "4       0.0        0.0     0.0  0.065183  0.0    0.0     0.0  0.034642   \n",
       "\n",
       "   relates      seed  seeds  using  \n",
       "0      0.0  0.000000    0.0    0.0  \n",
       "1      0.0  0.000000    0.0    0.0  \n",
       "2      0.0  0.036034    0.0    0.0  \n",
       "3      0.0  0.036034    0.0    0.0  \n",
       "4      0.0  0.036034    0.0    0.0  "
      ]
     },
     "execution_count": 33,
     "metadata": {},
     "output_type": "execute_result"
    }
   ],
   "source": [
    "X1_rfe.head()"
   ]
  },
  {
   "cell_type": "code",
   "execution_count": 34,
   "metadata": {},
   "outputs": [
    {
     "name": "stdout",
     "output_type": "stream",
     "text": [
      "(225, 20) (75, 20) (225,) (75,)\n"
     ]
    }
   ],
   "source": [
    "X_train, X_test, y_train, y_test = train_test_split(X1_rfe, y, random_state=42)\n",
    "print(X_train.shape, X_test.shape, y_train.shape, y_test.shape)"
   ]
  },
  {
   "cell_type": "code",
   "execution_count": 35,
   "metadata": {},
   "outputs": [],
   "source": [
    "# teste com random forest"
   ]
  },
  {
   "cell_type": "code",
   "execution_count": 36,
   "metadata": {},
   "outputs": [],
   "source": [
    "rf = RandomForestClassifier(random_state=42)"
   ]
  },
  {
   "cell_type": "code",
   "execution_count": 37,
   "metadata": {},
   "outputs": [
    {
     "data": {
      "text/plain": [
       "0.6266666666666667"
      ]
     },
     "execution_count": 37,
     "metadata": {},
     "output_type": "execute_result"
    }
   ],
   "source": [
    "rf.fit(X_train, y_train)\n",
    "rf.score(X_test, y_test)"
   ]
  },
  {
   "cell_type": "code",
   "execution_count": 38,
   "metadata": {},
   "outputs": [
    {
     "name": "stderr",
     "output_type": "stream",
     "text": [
      "/home/henrique/anaconda3/lib/python3.8/site-packages/sklearn/model_selection/_split.py:670: UserWarning: The least populated class in y has only 1 members, which is less than n_splits=10.\n",
      "  warnings.warn((\"The least populated class in y has only %d\"\n"
     ]
    },
    {
     "name": "stdout",
     "output_type": "stream",
     "text": [
      "[0.8        0.73333333 0.63333333 0.63333333 0.56666667 0.5\n",
      " 0.46666667 0.53333333 0.6        0.73333333]\n",
      "0.6199999999999999\n"
     ]
    }
   ],
   "source": [
    "rf_scores = cross_val_score(rf, X1_rfe, y, cv=10)\n",
    "print(rf_scores)\n",
    "print(np.mean(rf_scores))"
   ]
  },
  {
   "cell_type": "code",
   "execution_count": null,
   "metadata": {},
   "outputs": [],
   "source": [
    "####### Avaliando a distribuicao do _topic_"
   ]
  },
  {
   "cell_type": "code",
   "execution_count": 61,
   "metadata": {},
   "outputs": [
    {
     "data": {
      "text/plain": [
       "<AxesSubplot:xlabel='0'>"
      ]
     },
     "execution_count": 61,
     "metadata": {},
     "output_type": "execute_result"
    },
    {
     "data": {
      "image/png": "[encoded data removed]",
      "text/plain": [
       "<Figure size 576x432 with 1 Axes>"
      ]
     },
     "metadata": {
      "needs_background": "light"
     },
     "output_type": "display_data"
    }
   ],
   "source": [
    "pd.DataFrame(y).value_counts().plot(xticks=[], figsize = [8,6])"
   ]
  },
  {
   "cell_type": "code",
   "execution_count": null,
   "metadata": {},
   "outputs": [],
   "source": []
  }
 ],
 "metadata": {
  "kernelspec": {
   "display_name": "Python 3",
   "language": "python",
   "name": "python3"
  },
  "language_info": {
   "codemirror_mode": {
    "name": "ipython",
    "version": 3
   },
   "file_extension": ".py",
   "mimetype": "text/x-python",
   "name": "python",
   "nbconvert_exporter": "python",
   "pygments_lexer": "ipython3",
   "version": "3.8.5"
  }
 },
 "nbformat": 4,
 "nbformat_minor": 4
}
