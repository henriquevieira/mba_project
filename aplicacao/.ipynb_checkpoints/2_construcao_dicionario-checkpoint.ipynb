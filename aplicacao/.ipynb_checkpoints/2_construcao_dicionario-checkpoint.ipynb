{
 "cells": [
  {
   "cell_type": "code",
   "execution_count": 1,
   "metadata": {},
   "outputs": [],
   "source": [
    "# Henrique Cursino Vieira"
   ]
  },
  {
   "cell_type": "code",
   "execution_count": 2,
   "metadata": {},
   "outputs": [],
   "source": [
    "import re\n",
    "import glob\n",
    "import numpy as np\n",
    "import pandas as pd\n",
    "\n",
    "\n",
    "# Gensim\n",
    "import gensim\n",
    "import gensim.corpora as corpora\n",
    "from gensim.utils import simple_preprocess\n",
    "from gensim.models import CoherenceModel\n",
    "\n",
    "# spacy for lemmatization\n",
    "import spacy\n",
    "\n",
    "# NLTK Stop words\n",
    "from nltk.corpus import stopwords\n",
    "stop_words = stopwords.words('english')\n",
    "\n",
    "from nltk.corpus import wordnet\n",
    "\n",
    "# Plotting tools\n",
    "import pyLDAvis\n",
    "import pyLDAvis.gensim  # don't skip this\n",
    "\n",
    "import seaborn as sns\n",
    "import matplotlib.pyplot as plt\n",
    "%matplotlib inline"
   ]
  },
  {
   "cell_type": "code",
   "execution_count": 3,
   "metadata": {},
   "outputs": [
    {
     "name": "stderr",
     "output_type": "stream",
     "text": [
      "/home/henrique/anaconda3/lib/python3.8/site-packages/ipykernel/ipkernel.py:287: DeprecationWarning: `should_run_async` will not call `transform_cell` automatically in the future. Please pass the result to `transformed_cell` argument and any exception that happen during thetransform in `preprocessing_exc_tuple` in IPython 7.17 and above.\n",
      "  and should_run_async(code)\n",
      "[nltk_data] Downloading package stopwords to\n",
      "[nltk_data]     /home/henrique/nltk_data...\n",
      "[nltk_data]   Package stopwords is already up-to-date!\n"
     ]
    },
    {
     "data": {
      "text/plain": [
       "True"
      ]
     },
     "execution_count": 3,
     "metadata": {},
     "output_type": "execute_result"
    }
   ],
   "source": [
    "import nltk\n",
    "nltk.download('stopwords')"
   ]
  },
  {
   "cell_type": "code",
   "execution_count": 4,
   "metadata": {},
   "outputs": [
    {
     "name": "stderr",
     "output_type": "stream",
     "text": [
      "/home/henrique/anaconda3/lib/python3.8/site-packages/ipykernel/ipkernel.py:287: DeprecationWarning: `should_run_async` will not call `transform_cell` automatically in the future. Please pass the result to `transformed_cell` argument and any exception that happen during thetransform in `preprocessing_exc_tuple` in IPython 7.17 and above.\n",
      "  and should_run_async(code)\n"
     ]
    }
   ],
   "source": [
    "# TODO: Converter no script anterior para\n",
    "# gerar o corpora dos documentos de patente\n",
    "\n",
    "# NAO CARREGAR A PARTIR DE UMA PLANILHA"
   ]
  },
  {
   "cell_type": "code",
   "execution_count": 5,
   "metadata": {},
   "outputs": [
    {
     "name": "stderr",
     "output_type": "stream",
     "text": [
      "/home/henrique/anaconda3/lib/python3.8/site-packages/ipykernel/ipkernel.py:287: DeprecationWarning: `should_run_async` will not call `transform_cell` automatically in the future. Please pass the result to `transformed_cell` argument and any exception that happen during thetransform in `preprocessing_exc_tuple` in IPython 7.17 and above.\n",
      "  and should_run_async(code)\n"
     ]
    },
    {
     "data": {
      "text/html": [
       "<div>\n",
       "<style scoped>\n",
       "    .dataframe tbody tr th:only-of-type {\n",
       "        vertical-align: middle;\n",
       "    }\n",
       "\n",
       "    .dataframe tbody tr th {\n",
       "        vertical-align: top;\n",
       "    }\n",
       "\n",
       "    .dataframe thead th {\n",
       "        text-align: right;\n",
       "    }\n",
       "</style>\n",
       "<table border=\"1\" class=\"dataframe\">\n",
       "  <thead>\n",
       "    <tr style=\"text-align: right;\">\n",
       "      <th></th>\n",
       "      <th>idx</th>\n",
       "      <th>title_raw</th>\n",
       "      <th>text_raw</th>\n",
       "      <th>title</th>\n",
       "      <th>text</th>\n",
       "      <th>content</th>\n",
       "    </tr>\n",
       "  </thead>\n",
       "  <tbody>\n",
       "    <tr>\n",
       "      <th>0</th>\n",
       "      <td>0387659</td>\n",
       "      <td>\\n\\n                    SYSTEMS AND METHODS FO...</td>\n",
       "      <td>\\n            The present disclosure provides ...</td>\n",
       "      <td>systems and methods for adjusting the output o...</td>\n",
       "      <td>the present disclosure provides systems and me...</td>\n",
       "      <td>systems and methods for adjusting the output o...</td>\n",
       "    </tr>\n",
       "    <tr>\n",
       "      <th>1</th>\n",
       "      <td>10729058</td>\n",
       "      <td>\\n\\n                    Systems and methods fo...</td>\n",
       "      <td>\\n            The present disclosure provides ...</td>\n",
       "      <td>systems and methods for adjusting the output o...</td>\n",
       "      <td>the present disclosure provides systems and me...</td>\n",
       "      <td>systems and methods for adjusting the output o...</td>\n",
       "    </tr>\n",
       "    <tr>\n",
       "      <th>2</th>\n",
       "      <td>6745128</td>\n",
       "      <td>\\n\\n                    Methods and systems fo...</td>\n",
       "      <td>\\n            Methods and systems for characte...</td>\n",
       "      <td>methods and systems for managing farmland</td>\n",
       "      <td>methods and systems for characterizing and man...</td>\n",
       "      <td>methods and systems for managing farmland meth...</td>\n",
       "    </tr>\n",
       "    <tr>\n",
       "      <th>3</th>\n",
       "      <td>6549852</td>\n",
       "      <td>\\n\\n                    Methods and systems fo...</td>\n",
       "      <td>\\n            Methods and systems for characte...</td>\n",
       "      <td>methods and systems for managing farmland</td>\n",
       "      <td>methods and systems for characterizing and man...</td>\n",
       "      <td>methods and systems for managing farmland meth...</td>\n",
       "    </tr>\n",
       "    <tr>\n",
       "      <th>4</th>\n",
       "      <td>0018431</td>\n",
       "      <td>\\n\\n                    METHODS AND SYSTEMS FO...</td>\n",
       "      <td>\\n            Methods and systems for characte...</td>\n",
       "      <td>methods and systems for managing farmland</td>\n",
       "      <td>methods and systems for characterizing and man...</td>\n",
       "      <td>methods and systems for managing farmland meth...</td>\n",
       "    </tr>\n",
       "  </tbody>\n",
       "</table>\n",
       "</div>"
      ],
      "text/plain": [
       "        idx                                          title_raw  \\\n",
       "0   0387659  \\n\\n                    SYSTEMS AND METHODS FO...   \n",
       "1  10729058  \\n\\n                    Systems and methods fo...   \n",
       "2   6745128  \\n\\n                    Methods and systems fo...   \n",
       "3   6549852  \\n\\n                    Methods and systems fo...   \n",
       "4   0018431  \\n\\n                    METHODS AND SYSTEMS FO...   \n",
       "\n",
       "                                            text_raw  \\\n",
       "0  \\n            The present disclosure provides ...   \n",
       "1  \\n            The present disclosure provides ...   \n",
       "2  \\n            Methods and systems for characte...   \n",
       "3  \\n            Methods and systems for characte...   \n",
       "4  \\n            Methods and systems for characte...   \n",
       "\n",
       "                                               title  \\\n",
       "0  systems and methods for adjusting the output o...   \n",
       "1  systems and methods for adjusting the output o...   \n",
       "2          methods and systems for managing farmland   \n",
       "3          methods and systems for managing farmland   \n",
       "4          methods and systems for managing farmland   \n",
       "\n",
       "                                                text  \\\n",
       "0  the present disclosure provides systems and me...   \n",
       "1  the present disclosure provides systems and me...   \n",
       "2  methods and systems for characterizing and man...   \n",
       "3  methods and systems for characterizing and man...   \n",
       "4  methods and systems for characterizing and man...   \n",
       "\n",
       "                                             content  \n",
       "0  systems and methods for adjusting the output o...  \n",
       "1  systems and methods for adjusting the output o...  \n",
       "2  methods and systems for managing farmland meth...  \n",
       "3  methods and systems for managing farmland meth...  \n",
       "4  methods and systems for managing farmland meth...  "
      ]
     },
     "execution_count": 5,
     "metadata": {},
     "output_type": "execute_result"
    }
   ],
   "source": [
    "documents = pd.read_csv('patents_data.csv')\n",
    "documents.head()"
   ]
  },
  {
   "cell_type": "code",
   "execution_count": 6,
   "metadata": {},
   "outputs": [
    {
     "name": "stderr",
     "output_type": "stream",
     "text": [
      "/home/henrique/anaconda3/lib/python3.8/site-packages/ipykernel/ipkernel.py:287: DeprecationWarning: `should_run_async` will not call `transform_cell` automatically in the future. Please pass the result to `transformed_cell` argument and any exception that happen during thetransform in `preprocessing_exc_tuple` in IPython 7.17 and above.\n",
      "  and should_run_async(code)\n"
     ]
    },
    {
     "data": {
      "text/html": [
       "<div>\n",
       "<style scoped>\n",
       "    .dataframe tbody tr th:only-of-type {\n",
       "        vertical-align: middle;\n",
       "    }\n",
       "\n",
       "    .dataframe tbody tr th {\n",
       "        vertical-align: top;\n",
       "    }\n",
       "\n",
       "    .dataframe thead th {\n",
       "        text-align: right;\n",
       "    }\n",
       "</style>\n",
       "<table border=\"1\" class=\"dataframe\">\n",
       "  <thead>\n",
       "    <tr style=\"text-align: right;\">\n",
       "      <th></th>\n",
       "      <th>idx</th>\n",
       "      <th>content</th>\n",
       "    </tr>\n",
       "  </thead>\n",
       "  <tbody>\n",
       "    <tr>\n",
       "      <th>0</th>\n",
       "      <td>0387659</td>\n",
       "      <td>systems and methods for adjusting the output o...</td>\n",
       "    </tr>\n",
       "    <tr>\n",
       "      <th>1</th>\n",
       "      <td>10729058</td>\n",
       "      <td>systems and methods for adjusting the output o...</td>\n",
       "    </tr>\n",
       "    <tr>\n",
       "      <th>2</th>\n",
       "      <td>6745128</td>\n",
       "      <td>methods and systems for managing farmland meth...</td>\n",
       "    </tr>\n",
       "    <tr>\n",
       "      <th>3</th>\n",
       "      <td>6549852</td>\n",
       "      <td>methods and systems for managing farmland meth...</td>\n",
       "    </tr>\n",
       "    <tr>\n",
       "      <th>4</th>\n",
       "      <td>0018431</td>\n",
       "      <td>methods and systems for managing farmland meth...</td>\n",
       "    </tr>\n",
       "  </tbody>\n",
       "</table>\n",
       "</div>"
      ],
      "text/plain": [
       "        idx                                            content\n",
       "0   0387659  systems and methods for adjusting the output o...\n",
       "1  10729058  systems and methods for adjusting the output o...\n",
       "2   6745128  methods and systems for managing farmland meth...\n",
       "3   6549852  methods and systems for managing farmland meth...\n",
       "4   0018431  methods and systems for managing farmland meth..."
      ]
     },
     "execution_count": 6,
     "metadata": {},
     "output_type": "execute_result"
    }
   ],
   "source": [
    "# TODO: provavelemente remover isso\n",
    "documents = documents[['idx', 'content']]\n",
    "documents.head()"
   ]
  },
  {
   "cell_type": "code",
   "execution_count": 7,
   "metadata": {},
   "outputs": [
    {
     "name": "stderr",
     "output_type": "stream",
     "text": [
      "/home/henrique/anaconda3/lib/python3.8/site-packages/ipykernel/ipkernel.py:287: DeprecationWarning: `should_run_async` will not call `transform_cell` automatically in the future. Please pass the result to `transformed_cell` argument and any exception that happen during thetransform in `preprocessing_exc_tuple` in IPython 7.17 and above.\n",
      "  and should_run_async(code)\n"
     ]
    }
   ],
   "source": [
    "# Gerando os tokens"
   ]
  },
  {
   "cell_type": "code",
   "execution_count": 8,
   "metadata": {},
   "outputs": [
    {
     "name": "stderr",
     "output_type": "stream",
     "text": [
      "/home/henrique/anaconda3/lib/python3.8/site-packages/ipykernel/ipkernel.py:287: DeprecationWarning: `should_run_async` will not call `transform_cell` automatically in the future. Please pass the result to `transformed_cell` argument and any exception that happen during thetransform in `preprocessing_exc_tuple` in IPython 7.17 and above.\n",
      "  and should_run_async(code)\n"
     ]
    }
   ],
   "source": [
    "def sent_to_words(document_content):\n",
    "    for content in document_content:\n",
    "        yield(gensim.utils.simple_preprocess(str(content), \n",
    "                                             deacc=True))"
   ]
  },
  {
   "cell_type": "code",
   "execution_count": 9,
   "metadata": {},
   "outputs": [
    {
     "name": "stderr",
     "output_type": "stream",
     "text": [
      "/home/henrique/anaconda3/lib/python3.8/site-packages/ipykernel/ipkernel.py:287: DeprecationWarning: `should_run_async` will not call `transform_cell` automatically in the future. Please pass the result to `transformed_cell` argument and any exception that happen during thetransform in `preprocessing_exc_tuple` in IPython 7.17 and above.\n",
      "  and should_run_async(code)\n"
     ]
    }
   ],
   "source": [
    "data_words = list(sent_to_words(documents['content']))"
   ]
  },
  {
   "cell_type": "code",
   "execution_count": 10,
   "metadata": {},
   "outputs": [
    {
     "name": "stderr",
     "output_type": "stream",
     "text": [
      "/home/henrique/anaconda3/lib/python3.8/site-packages/ipykernel/ipkernel.py:287: DeprecationWarning: `should_run_async` will not call `transform_cell` automatically in the future. Please pass the result to `transformed_cell` argument and any exception that happen during thetransform in `preprocessing_exc_tuple` in IPython 7.17 and above.\n",
      "  and should_run_async(code)\n"
     ]
    }
   ],
   "source": [
    "# Criando os modelos de bigram e trigam"
   ]
  },
  {
   "cell_type": "code",
   "execution_count": 11,
   "metadata": {},
   "outputs": [
    {
     "name": "stderr",
     "output_type": "stream",
     "text": [
      "/home/henrique/anaconda3/lib/python3.8/site-packages/ipykernel/ipkernel.py:287: DeprecationWarning: `should_run_async` will not call `transform_cell` automatically in the future. Please pass the result to `transformed_cell` argument and any exception that happen during thetransform in `preprocessing_exc_tuple` in IPython 7.17 and above.\n",
      "  and should_run_async(code)\n"
     ]
    }
   ],
   "source": [
    "bigram = gensim.models.Phrases(data_words, min_count=5, threshold=100)\n",
    "trigram = gensim.models.Phrases(bigram[data_words], threshold=100)"
   ]
  },
  {
   "cell_type": "code",
   "execution_count": 12,
   "metadata": {},
   "outputs": [
    {
     "name": "stderr",
     "output_type": "stream",
     "text": [
      "/home/henrique/anaconda3/lib/python3.8/site-packages/ipykernel/ipkernel.py:287: DeprecationWarning: `should_run_async` will not call `transform_cell` automatically in the future. Please pass the result to `transformed_cell` argument and any exception that happen during thetransform in `preprocessing_exc_tuple` in IPython 7.17 and above.\n",
      "  and should_run_async(code)\n"
     ]
    }
   ],
   "source": [
    "bigram_mod = gensim.models.phrases.Phraser(bigram)\n",
    "trigram_mod = gensim.models.phrases.Phraser(trigram)"
   ]
  },
  {
   "cell_type": "code",
   "execution_count": 13,
   "metadata": {},
   "outputs": [
    {
     "name": "stdout",
     "output_type": "stream",
     "text": [
      "['systems', 'and', 'methods', 'for', 'adjusting', 'the', 'output', 'of', 'field', 'measurement', 'system', 'to', 'conform', 'to', 'agronomy', 'measurements', 'the', 'present', 'disclosure', 'provides', 'systems', 'and', 'methods', 'for', 'adjusting', 'the', 'output', 'of', 'field', 'measurement', 'system', 'to', 'conform', 'to', 'agronomy', 'measurements', 'in', 'particular', 'the', 'present', 'subject', 'matter', 'is', 'directed', 'to', 'calibration', 'process', 'and', 'system', 'that', 'uses', 'calibration', 'model', 'to', 'convert', 'field', 'measurement', 'data', 'expressed', 'according', 'to', 'an', 'automatic', 'system', 'metric', 'into', 'agronomy', 'data', 'that', 'is', 'expressed', 'according', 'to', 'an', 'agronomy', 'metric']\n"
     ]
    },
    {
     "name": "stderr",
     "output_type": "stream",
     "text": [
      "/home/henrique/anaconda3/lib/python3.8/site-packages/ipykernel/ipkernel.py:287: DeprecationWarning: `should_run_async` will not call `transform_cell` automatically in the future. Please pass the result to `transformed_cell` argument and any exception that happen during thetransform in `preprocessing_exc_tuple` in IPython 7.17 and above.\n",
      "  and should_run_async(code)\n"
     ]
    }
   ],
   "source": [
    "print(trigram_mod[bigram_mod[data_words[0]]])"
   ]
  },
  {
   "cell_type": "code",
   "execution_count": 14,
   "metadata": {},
   "outputs": [
    {
     "name": "stderr",
     "output_type": "stream",
     "text": [
      "/home/henrique/anaconda3/lib/python3.8/site-packages/ipykernel/ipkernel.py:287: DeprecationWarning: `should_run_async` will not call `transform_cell` automatically in the future. Please pass the result to `transformed_cell` argument and any exception that happen during thetransform in `preprocessing_exc_tuple` in IPython 7.17 and above.\n",
      "  and should_run_async(code)\n"
     ]
    }
   ],
   "source": [
    "# Pre processamento \n",
    "# - remocao de stop-words\n",
    "# - aplicando os modelos de bigram e trigram\n",
    "# - lemmatizacao das palavras\n",
    "\n",
    "def remove_stopwords(texts):\n",
    "    return [[word for word in simple_preprocess(str(doc)) if word not in stop_words] for doc in texts]\n",
    "\n",
    "def make_bigrams(texts):\n",
    "    return [bigram_mod[doc] for doc in texts]\n",
    "\n",
    "def make_trigrams(texts):\n",
    "    return [trigram_mod[bigram_mod[doc]] for doc in texts]\n",
    "\n",
    "def lemmatization(texts, allowed_postags=['NOUN', 'ADJ', 'VERB', 'ADV']):\n",
    "    \"\"\"https://spacy.io/api/annotation\"\"\"\n",
    "    texts_out = []\n",
    "    for sent in texts:\n",
    "        doc = nlp(\" \".join(sent)) \n",
    "        texts_out.append([token.lemma_ for token in doc if token.pos_ in allowed_postags])\n",
    "    return texts_out"
   ]
  },
  {
   "cell_type": "code",
   "execution_count": 15,
   "metadata": {},
   "outputs": [
    {
     "name": "stderr",
     "output_type": "stream",
     "text": [
      "/home/henrique/anaconda3/lib/python3.8/site-packages/ipykernel/ipkernel.py:287: DeprecationWarning: `should_run_async` will not call `transform_cell` automatically in the future. Please pass the result to `transformed_cell` argument and any exception that happen during thetransform in `preprocessing_exc_tuple` in IPython 7.17 and above.\n",
      "  and should_run_async(code)\n"
     ]
    },
    {
     "data": {
      "text/plain": [
       "['systems', 'methods', 'adjusting', 'output', 'field']"
      ]
     },
     "execution_count": 15,
     "metadata": {},
     "output_type": "execute_result"
    }
   ],
   "source": [
    "data_words_nostops = remove_stopwords(data_words)\n",
    "data_words_nostops[0][0:5]"
   ]
  },
  {
   "cell_type": "code",
   "execution_count": 16,
   "metadata": {},
   "outputs": [
    {
     "name": "stderr",
     "output_type": "stream",
     "text": [
      "/home/henrique/anaconda3/lib/python3.8/site-packages/ipykernel/ipkernel.py:287: DeprecationWarning: `should_run_async` will not call `transform_cell` automatically in the future. Please pass the result to `transformed_cell` argument and any exception that happen during thetransform in `preprocessing_exc_tuple` in IPython 7.17 and above.\n",
      "  and should_run_async(code)\n"
     ]
    },
    {
     "data": {
      "text/plain": [
       "['systems', 'methods', 'adjusting', 'output', 'field']"
      ]
     },
     "execution_count": 16,
     "metadata": {},
     "output_type": "execute_result"
    }
   ],
   "source": [
    "data_words_bigrams = make_bigrams(data_words_nostops)\n",
    "data_words_bigrams[0][0:5]"
   ]
  },
  {
   "cell_type": "code",
   "execution_count": 17,
   "metadata": {},
   "outputs": [
    {
     "name": "stderr",
     "output_type": "stream",
     "text": [
      "/home/henrique/anaconda3/lib/python3.8/site-packages/ipykernel/ipkernel.py:287: DeprecationWarning: `should_run_async` will not call `transform_cell` automatically in the future. Please pass the result to `transformed_cell` argument and any exception that happen during thetransform in `preprocessing_exc_tuple` in IPython 7.17 and above.\n",
      "  and should_run_async(code)\n"
     ]
    }
   ],
   "source": [
    "nlp = spacy.load('en', disable=['parser', 'ner'])"
   ]
  },
  {
   "cell_type": "code",
   "execution_count": 18,
   "metadata": {},
   "outputs": [
    {
     "name": "stderr",
     "output_type": "stream",
     "text": [
      "/home/henrique/anaconda3/lib/python3.8/site-packages/ipykernel/ipkernel.py:287: DeprecationWarning: `should_run_async` will not call `transform_cell` automatically in the future. Please pass the result to `transformed_cell` argument and any exception that happen during thetransform in `preprocessing_exc_tuple` in IPython 7.17 and above.\n",
      "  and should_run_async(code)\n"
     ]
    },
    {
     "data": {
      "text/plain": [
       "['system', 'method', 'adjust', 'output', 'field']"
      ]
     },
     "execution_count": 18,
     "metadata": {},
     "output_type": "execute_result"
    }
   ],
   "source": [
    "postags = ['NOUN', 'ADJ', 'VERB', 'ADV']\n",
    "data_lemmatized = lemmatization(data_words_bigrams, \n",
    "                                allowed_postags=postags)\n",
    "data_lemmatized[0][0:5]"
   ]
  },
  {
   "cell_type": "code",
   "execution_count": 19,
   "metadata": {},
   "outputs": [
    {
     "name": "stderr",
     "output_type": "stream",
     "text": [
      "/home/henrique/anaconda3/lib/python3.8/site-packages/ipykernel/ipkernel.py:287: DeprecationWarning: `should_run_async` will not call `transform_cell` automatically in the future. Please pass the result to `transformed_cell` argument and any exception that happen during thetransform in `preprocessing_exc_tuple` in IPython 7.17 and above.\n",
      "  and should_run_async(code)\n"
     ]
    }
   ],
   "source": [
    "# Criacao do dicionario para dados e o corpus"
   ]
  },
  {
   "cell_type": "code",
   "execution_count": 20,
   "metadata": {},
   "outputs": [
    {
     "name": "stderr",
     "output_type": "stream",
     "text": [
      "/home/henrique/anaconda3/lib/python3.8/site-packages/ipykernel/ipkernel.py:287: DeprecationWarning: `should_run_async` will not call `transform_cell` automatically in the future. Please pass the result to `transformed_cell` argument and any exception that happen during thetransform in `preprocessing_exc_tuple` in IPython 7.17 and above.\n",
      "  and should_run_async(code)\n"
     ]
    }
   ],
   "source": [
    "id2word = corpora.Dictionary(data_lemmatized)"
   ]
  },
  {
   "cell_type": "code",
   "execution_count": 21,
   "metadata": {},
   "outputs": [
    {
     "name": "stderr",
     "output_type": "stream",
     "text": [
      "/home/henrique/anaconda3/lib/python3.8/site-packages/ipykernel/ipkernel.py:287: DeprecationWarning: `should_run_async` will not call `transform_cell` automatically in the future. Please pass the result to `transformed_cell` argument and any exception that happen during thetransform in `preprocessing_exc_tuple` in IPython 7.17 and above.\n",
      "  and should_run_async(code)\n"
     ]
    }
   ],
   "source": [
    "texts = data_lemmatized"
   ]
  },
  {
   "cell_type": "code",
   "execution_count": 22,
   "metadata": {},
   "outputs": [
    {
     "name": "stderr",
     "output_type": "stream",
     "text": [
      "/home/henrique/anaconda3/lib/python3.8/site-packages/ipykernel/ipkernel.py:287: DeprecationWarning: `should_run_async` will not call `transform_cell` automatically in the future. Please pass the result to `transformed_cell` argument and any exception that happen during thetransform in `preprocessing_exc_tuple` in IPython 7.17 and above.\n",
      "  and should_run_async(code)\n"
     ]
    }
   ],
   "source": [
    "corpus = [id2word.doc2bow(text) for text in texts]"
   ]
  },
  {
   "cell_type": "code",
   "execution_count": 23,
   "metadata": {},
   "outputs": [
    {
     "name": "stderr",
     "output_type": "stream",
     "text": [
      "/home/henrique/anaconda3/lib/python3.8/site-packages/ipykernel/ipkernel.py:287: DeprecationWarning: `should_run_async` will not call `transform_cell` automatically in the future. Please pass the result to `transformed_cell` argument and any exception that happen during thetransform in `preprocessing_exc_tuple` in IPython 7.17 and above.\n",
      "  and should_run_async(code)\n"
     ]
    }
   ],
   "source": [
    "# Construcao da modelagem de topicos"
   ]
  },
  {
   "cell_type": "code",
   "execution_count": 24,
   "metadata": {},
   "outputs": [
    {
     "name": "stderr",
     "output_type": "stream",
     "text": [
      "/home/henrique/anaconda3/lib/python3.8/site-packages/ipykernel/ipkernel.py:287: DeprecationWarning: `should_run_async` will not call `transform_cell` automatically in the future. Please pass the result to `transformed_cell` argument and any exception that happen during thetransform in `preprocessing_exc_tuple` in IPython 7.17 and above.\n",
      "  and should_run_async(code)\n"
     ]
    }
   ],
   "source": [
    "lda_model = gensim.models.ldamodel.LdaModel(corpus=corpus,\n",
    "                                      id2word = id2word,\n",
    "                                      num_topics = 20,\n",
    "                                      random_state = 150,\n",
    "                                      update_every = 1,\n",
    "                                      chunksize = 100,\n",
    "                                      alpha = 'auto',\n",
    "                                      per_word_topics = True)"
   ]
  },
  {
   "cell_type": "code",
   "execution_count": 25,
   "metadata": {},
   "outputs": [
    {
     "name": "stderr",
     "output_type": "stream",
     "text": [
      "/home/henrique/anaconda3/lib/python3.8/site-packages/ipykernel/ipkernel.py:287: DeprecationWarning: `should_run_async` will not call `transform_cell` automatically in the future. Please pass the result to `transformed_cell` argument and any exception that happen during thetransform in `preprocessing_exc_tuple` in IPython 7.17 and above.\n",
      "  and should_run_async(code)\n"
     ]
    },
    {
     "data": {
      "text/plain": [
       "[(0,\n",
       "  '0.058*\"digital\" + 0.053*\"display\" + 0.048*\"different\" + 0.045*\"specify\" + 0.037*\"fertility\" + 0.029*\"grid\" + 0.014*\"response\" + 0.014*\"divide\" + 0.014*\"day\" + 0.014*\"model\"'),\n",
       " (1,\n",
       "  '0.000*\"digital\" + 0.000*\"value\" + 0.000*\"field\" + 0.000*\"agricultural\" + 0.000*\"model\" + 0.000*\"datum\" + 0.000*\"specify\" + 0.000*\"plurality\" + 0.000*\"property\" + 0.000*\"different\"'),\n",
       " (2,\n",
       "  '0.074*\"profile\" + 0.030*\"related\" + 0.030*\"base\" + 0.025*\"grow\" + 0.022*\"crop\" + 0.022*\"need\" + 0.022*\"plot\" + 0.021*\"conductivity\" + 0.021*\"maintenance\" + 0.020*\"automatic\"'),\n",
       " (3,\n",
       "  '0.047*\"lawn\" + 0.022*\"back\" + 0.006*\"time\" + 0.004*\"water\" + 0.004*\"plant\" + 0.003*\"web\" + 0.002*\"irrigation\" + 0.002*\"synthetic\" + 0.002*\"growth\" + 0.002*\"active\"'),\n",
       " (4,\n",
       "  '0.186*\"plant\" + 0.135*\"variety\" + 0.111*\"corn\" + 0.081*\"ch\" + 0.069*\"invention\" + 0.069*\"seed\" + 0.048*\"relate\" + 0.048*\"produce\" + 0.038*\"hybrid\" + 0.021*\"method\"'),\n",
       " (5,\n",
       "  '0.112*\"field\" + 0.072*\"datum\" + 0.069*\"value\" + 0.068*\"include\" + 0.034*\"plurality\" + 0.032*\"high\" + 0.023*\"receive\" + 0.021*\"digital\" + 0.020*\"specify\" + 0.019*\"sample\"'),\n",
       " (6,\n",
       "  '0.241*\"line\" + 0.071*\"soybean\" + 0.048*\"acid\" + 0.039*\"content\" + 0.027*\"less\" + 0.026*\"low\" + 0.023*\"composition\" + 0.019*\"method\" + 0.018*\"produce\" + 0.016*\"disclose\"'),\n",
       " (7,\n",
       "  '0.094*\"system\" + 0.044*\"method\" + 0.031*\"agronomy\" + 0.029*\"crop\" + 0.024*\"field\" + 0.023*\"provide\" + 0.022*\"production\" + 0.020*\"land\" + 0.019*\"yield\" + 0.018*\"image\"'),\n",
       " (8,\n",
       "  '0.056*\"datum\" + 0.044*\"image\" + 0.032*\"data\" + 0.027*\"spatial_structure\" + 0.025*\"select\" + 0.024*\"method\" + 0.024*\"processor\" + 0.022*\"analysis\" + 0.022*\"spatial\" + 0.017*\"show\"'),\n",
       " (9,\n",
       "  '0.039*\"observation\" + 0.036*\"impact\" + 0.036*\"model\" + 0.034*\"input\" + 0.032*\"datum\" + 0.032*\"base\" + 0.027*\"weather\" + 0.024*\"radiation\" + 0.024*\"location\" + 0.024*\"spatial_relationship\"'),\n",
       " (10,\n",
       "  '0.001*\"crop\" + 0.001*\"agricultural\" + 0.001*\"datum\" + 0.001*\"commodity\" + 0.001*\"production\" + 0.001*\"producer\" + 0.001*\"system\" + 0.001*\"method\" + 0.001*\"provide\" + 0.001*\"plan\"'),\n",
       " (11,\n",
       "  '0.070*\"method\" + 0.065*\"crop\" + 0.047*\"management\" + 0.034*\"use\" + 0.033*\"season\" + 0.031*\"growth\" + 0.029*\"plant\" + 0.023*\"plan\" + 0.023*\"material\" + 0.018*\"various\"'),\n",
       " (12,\n",
       "  '0.065*\"soil\" + 0.050*\"water\" + 0.049*\"plant\" + 0.038*\"nutrient\" + 0.027*\"amount\" + 0.025*\"reduce\" + 0.020*\"also\" + 0.017*\"level\" + 0.016*\"extraction\" + 0.015*\"hydrolyze\"'),\n",
       " (13,\n",
       "  '0.049*\"sale\" + 0.045*\"production\" + 0.035*\"farmer\" + 0.035*\"price\" + 0.033*\"entity\" + 0.031*\"portion\" + 0.030*\"effectively\" + 0.022*\"available\" + 0.019*\"call\" + 0.018*\"rebate\"'),\n",
       " (14,\n",
       "  '0.059*\"comprise\" + 0.043*\"method\" + 0.035*\"growth\" + 0.033*\"step\" + 0.032*\"modify\" + 0.028*\"present\" + 0.027*\"rate\" + 0.024*\"map\" + 0.023*\"color\" + 0.022*\"pertain\"'),\n",
       " (15,\n",
       "  '0.044*\"synthetic\" + 0.034*\"site\" + 0.027*\"fertilizer\" + 0.025*\"soil\" + 0.024*\"charge\" + 0.022*\"nitrogen\" + 0.022*\"disclose\" + 0.021*\"degree\" + 0.021*\"apatite\" + 0.019*\"comprise\"'),\n",
       " (16,\n",
       "  '0.074*\"component\" + 0.051*\"delivery\" + 0.020*\"grass\" + 0.018*\"impair\" + 0.004*\"equipment\" + 0.003*\"effective\" + 0.002*\"agricultural\" + 0.002*\"animal\" + 0.002*\"method\" + 0.001*\"service_provider\"'),\n",
       " (17,\n",
       "  '0.043*\"percent\" + 0.042*\"weight\" + 0.039*\"improve\" + 0.030*\"salt\" + 0.025*\"describe\" + 0.024*\"group\" + 0.021*\"fertilizer\" + 0.019*\"well\" + 0.018*\"wherein\" + 0.017*\"flow\"'),\n",
       " (18,\n",
       "  '0.151*\"agricultural\" + 0.047*\"producer\" + 0.041*\"commodity\" + 0.035*\"receive\" + 0.030*\"cloud_base\" + 0.030*\"supplier\" + 0.030*\"modular_component\" + 0.029*\"enterprise_management\" + 0.029*\"service_provider\" + 0.028*\"database\"'),\n",
       " (19,\n",
       "  '0.133*\"plant\" + 0.076*\"seed\" + 0.058*\"maize\" + 0.034*\"production\" + 0.034*\"provide\" + 0.025*\"method\" + 0.024*\"increase\" + 0.024*\"vigor\" + 0.022*\"enhance\" + 0.018*\"especially\"')]"
      ]
     },
     "execution_count": 25,
     "metadata": {},
     "output_type": "execute_result"
    }
   ],
   "source": [
    "lda_model.print_topics()"
   ]
  },
  {
   "cell_type": "code",
   "execution_count": 26,
   "metadata": {},
   "outputs": [
    {
     "name": "stderr",
     "output_type": "stream",
     "text": [
      "/home/henrique/anaconda3/lib/python3.8/site-packages/ipykernel/ipkernel.py:287: DeprecationWarning: `should_run_async` will not call `transform_cell` automatically in the future. Please pass the result to `transformed_cell` argument and any exception that happen during thetransform in `preprocessing_exc_tuple` in IPython 7.17 and above.\n",
      "  and should_run_async(code)\n"
     ]
    },
    {
     "data": {
      "text/plain": [
       "[(195, 0.058039352),\n",
       " (197, 0.053130385),\n",
       " (194, 0.047802866),\n",
       " (228, 0.045287687),\n",
       " (201, 0.03699259),\n",
       " (203, 0.028718347),\n",
       " (222, 0.014328155),\n",
       " (198, 0.014093614),\n",
       " (192, 0.0140061425),\n",
       " (15, 0.013791621)]"
      ]
     },
     "execution_count": 26,
     "metadata": {},
     "output_type": "execute_result"
    }
   ],
   "source": [
    "lda_model.get_topic_terms(0)"
   ]
  },
  {
   "cell_type": "code",
   "execution_count": 27,
   "metadata": {},
   "outputs": [
    {
     "name": "stderr",
     "output_type": "stream",
     "text": [
      "/home/henrique/anaconda3/lib/python3.8/site-packages/ipykernel/ipkernel.py:287: DeprecationWarning: `should_run_async` will not call `transform_cell` automatically in the future. Please pass the result to `transformed_cell` argument and any exception that happen during thetransform in `preprocessing_exc_tuple` in IPython 7.17 and above.\n",
      "  and should_run_async(code)\n"
     ]
    },
    {
     "name": "stdout",
     "output_type": "stream",
     "text": [
      "\n",
      "Perplexity:  -6.840204116904934\n",
      "\n",
      "Coherence Score:  0.6568992933657788\n"
     ]
    }
   ],
   "source": [
    "# Compute Perplexity\n",
    "print('\\nPerplexity: ', lda_model.log_perplexity(corpus))  # a measure of how good the model is. lower the better.\n",
    "\n",
    "# Compute Coherence Score\n",
    "coherence_model_lda = CoherenceModel(model=lda_model, texts=data_lemmatized, dictionary=id2word, coherence='c_v')\n",
    "coherence_lda = coherence_model_lda.get_coherence()\n",
    "print('\\nCoherence Score: ', coherence_lda)"
   ]
  },
  {
   "cell_type": "code",
   "execution_count": 28,
   "metadata": {},
   "outputs": [
    {
     "name": "stderr",
     "output_type": "stream",
     "text": [
      "/home/henrique/anaconda3/lib/python3.8/site-packages/ipykernel/ipkernel.py:287: DeprecationWarning: `should_run_async` will not call `transform_cell` automatically in the future. Please pass the result to `transformed_cell` argument and any exception that happen during thetransform in `preprocessing_exc_tuple` in IPython 7.17 and above.\n",
      "  and should_run_async(code)\n"
     ]
    },
    {
     "data": {
      "text/html": [
       "\n",
       "<link rel=\"stylesheet\" type=\"text/css\" href=\"https://cdn.rawgit.com/bmabey/pyLDAvis/files/ldavis.v1.0.0.css\">\n",
       "\n",
       "\n",
       "<div id=\"ldavis_el217341399887681121921564485816\"></div>\n",
       "<script type=\"text/javascript\">\n",
       "\n",
       "var ldavis_el217341399887681121921564485816_data = {\"mdsDat\": {\"x\": [0.5267542494019412, 0.11202808354737259, 0.13901601481901385, 0.03364415165526139, -0.0028370694602406123, -0.008632613087839766, 0.18155023835019787, -0.01219926781288035, -0.020250350593487856, -0.04454895983719761, -0.08522705528612345, -0.029891749846527368, -0.08466282092192966, -0.08255457829157828, -0.049219058345376175, -0.11744496639903795, -0.11311364177922283, -0.11033885198771574, -0.11573114344408102, -0.11634061068054852], \"y\": [-0.08216833075888072, 0.21168995114848319, 0.08433101251015464, 0.032289948114693004, -0.16435032865141988, 0.04998546740890893, -0.11663193270381854, 0.16635811298241585, 0.11605153265299438, 0.07208872352187752, 0.0853381354294076, -0.0016610925309777213, -0.11094613825757313, -0.08284474144461512, -0.04828256002993581, -0.02390499464911325, -0.04071864733705942, -0.05696984753971679, -0.04363469217013121, -0.04601957769569287], \"topics\": [1, 2, 3, 4, 5, 6, 7, 8, 9, 10, 11, 12, 13, 14, 15, 16, 17, 18, 19, 20], \"cluster\": [1, 1, 1, 1, 1, 1, 1, 1, 1, 1, 1, 1, 1, 1, 1, 1, 1, 1, 1, 1], \"Freq\": [72.09368793936372, 5.888553529024538, 5.1107854749440085, 2.433933348592885, 2.1670980130265067, 1.7237135789080513, 1.6508275496250187, 1.542368149710052, 1.34740079049886, 1.2112619931456607, 1.1105374531098655, 1.0767992862366103, 0.7989047377864381, 0.592476856785327, 0.49926115513363983, 0.39385399695310663, 0.1709785049591207, 0.0762158145319156, 0.05614934129297143, 0.05519248637171444]}, \"tinfo\": {\"Term\": [\"plant\", \"seed\", \"line\", \"method\", \"corn\", \"invention\", \"provide\", \"variety\", \"produce\", \"hybrid\", \"ch\", \"system\", \"soybean\", \"field\", \"crop\", \"datum\", \"agricultural\", \"acid\", \"cross\", \"production\", \"culture\", \"relate\", \"include\", \"content\", \"soil\", \"image\", \"use\", \"tissue\", \"genetic\", \"complement\", \"ch\", \"complement\", \"genetic\", \"accord\", \"tissue\", \"corn\", \"variety\", \"thus\", \"culture\", \"designate\", \"relate\", \"hybrid\", \"invention\", \"cross\", \"plant\", \"produce\", \"seed\", \"patent\", \"provide\", \"trainee\", \"phenotyping\", \"trainer\", \"code\", \"method\", \"breed\", \"uas\", \"collect\", \"throughput\", \"multilayer\", \"acquire\", \"also\", \"trait\", \"observation\", \"express\", \"agronomy\", \"system\", \"measurement\", \"set\", \"processing\", \"video\", \"apply\", \"first\", \"generate\", \"pesticide\", \"type\", \"conform\", \"instruction\", \"tool\", \"configure\", \"adjust\", \"temperature\", \"second\", \"calibration\", \"express\", \"land\", \"combination\", \"zone\", \"subject\", \"link\", \"direct\", \"current\", \"new\", \"achieve\", \"large\", \"output\", \"information\", \"yield\", \"metric\", \"utilize\", \"production\", \"image\", \"fertilizer\", \"crop\", \"field\", \"animal\", \"method\", \"use\", \"datum\", \"process\", \"include\", \"provide\", \"conductivity\", \"plot\", \"present\", \"control\", \"line\", \"soybean\", \"content\", \"acid\", \"less\", \"composition\", \"novel\", \"palmitic\", \"progeny\", \"stearic\", \"capable\", \"nmu\", \"participate\", \"network\", \"total\", \"ground\", \"communication\", \"agronomist\", \"exhibit\", \"facilitate\", \"maintain\", \"feature\", \"vegetable_oil\", \"low\", \"benefit\", \"saturated_fatty\", \"expand\", \"indicative\", \"common\", \"character\", \"least\", \"farmer\", \"disclose\", \"form\", \"describe\", \"select\", \"also\", \"product\", \"base\", \"obtain\", \"map\", \"method\", \"produce\", \"utilize\", \"cross\", \"material\", \"management\", \"season\", \"various\", \"incorporate\", \"precision\", \"result\", \"certain\", \"grazing\", \"prepare\", \"grower\", \"plan\", \"generally\", \"compound\", \"performance\", \"prevention\", \"give\", \"reproductive\", \"toxic\", \"modeling\", \"manage\", \"update\", \"grass\", \"particular\", \"effective\", \"actually\", \"mid\", \"eliminate\", \"growth\", \"sometimes\", \"effect\", \"disclosure\", \"crop\", \"use\", \"grow\", \"control\", \"method\", \"reduce\", \"field\", \"increase\", \"determine\", \"present\", \"plant\", \"yield\", \"nutrient\", \"amount\", \"extraction\", \"engineer\", \"range\", \"treat\", \"solution\", \"cation\", \"find\", \"contact\", \"balanced\", \"partially\", \"test\", \"hydrolyze\", \"soilless\", \"soil\", \"soluble\", \"namely\", \"water\", \"surface\", \"additive\", \"optimal\", \"aforementione\", \"synergistic\", \"standard\", \"percentage\", \"ca\", \"paste\", \"decrease\", \"polyacrylamide\", \"medium\", \"level\", \"reduce\", \"also\", \"improve\", \"specific\", \"application\", \"plant\", \"wherein\", \"use\", \"include\", \"step\", \"color\", \"say\", \"modify\", \"rate\", \"pertain\", \"biomass\", \"selection\", \"anaerobic\", \"microorganism\", \"storage\", \"cause\", \"ohrr_gene\", \"improvement\", \"evaluate\", \"fermentative_potential\", \"homolog\", \"inactivate\", \"consist\", \"anaerobiosis\", \"comprise\", \"property\", \"map\", \"condition\", \"multiple\", \"number\", \"growth\", \"present\", \"size\", \"enhance\", \"obtain\", \"agricultural\", \"method\", \"low\", \"display\", \"plurality\", \"digital\", \"high\", \"use\", \"invention\", \"maize\", \"vigor\", \"especially\", \"quality\", \"characterize\", \"pollination\", \"improved\", \"period\", \"pre\", \"assemblage\", \"enhanced\", \"respect\", \"defoliate\", \"defoliation\", \"enhance\", \"increase\", \"specific\", \"production\", \"profile\", \"product\", \"obtain\", \"consist\", \"acs\", \"ethylene\", \"inhibition\", \"sterility\", \"modulate\", \"expression\", \"staygreen_potential\", \"male\", \"present\", \"provide\", \"seed\", \"plant\", \"modify\", \"method\", \"microorganism\", \"growth\", \"hybrid\", \"invention\", \"produce\", \"corn\", \"impact\", \"spatial_relationship\", \"atmospheric_condition\", \"sun\", \"methodology\", \"weather\", \"resolution\", \"input\", \"service\", \"observation\", \"satellite\", \"energy\", \"power\", \"radiation\", \"solar\", \"estimate\", \"higher_granularity\", \"proven_effective\", \"quantifying\", \"description\", \"qualitative\", \"integration\", \"established_astronomical\", \"sun_electromagnetic\", \"earth\", \"meteorology\", \"solar_irradiance\", \"transmission\", \"estimated_via\", \"proxy\", \"model\", \"location\", \"formula\", \"limited\", \"base\", \"datum\", \"determine\", \"pixel\", \"availability\", \"may\", \"application\", \"use\", \"condition\", \"spatial_structure\", \"spatial\", \"processor\", \"show\", \"identify\", \"element\", \"initial_image\", \"subsoil\", \"formation\", \"order\", \"complex\", \"statistical\", \"associate\", \"removal\", \"decision\", \"separation\", \"station\", \"support\", \"data\", \"identification\", \"successive\", \"analyze\", \"continuously\", \"long\", \"accumulate\", \"hydrology\", \"multivariable\", \"notably\", \"filtering\", \"geomarkete\", \"historical\", \"analysis\", \"physical\", \"image\", \"environment\", \"select\", \"datum\", \"process\", \"possible\", \"component\", \"portion\", \"property\", \"form\", \"method\", \"obtain\", \"producer\", \"commodity\", \"supplier\", \"cloud_base\", \"enterprise_management\", \"modular_component\", \"service_provider\", \"single\", \"cycle\", \"separate\", \"together\", \"centralizing\", \"restricted_access\", \"authorize\", \"computer_implemente\", \"cost_efficiently\", \"inputs_exemplified\", \"equipment\", \"third_party\", \"agricultural\", \"database\", \"harvest\", \"storing\", \"receive\", \"forecasting\", \"overhead\", \"may\", \"monitoring\", \"performance_tracke\", \"plurality\", \"product\", \"crop\", \"datum\", \"market\", \"production\", \"system\", \"method\", \"value\", \"sample\", \"basis\", \"program\", \"high\", \"store\", \"plurality\", \"covariate\", \"multiple\", \"indicate\", \"specify\", \"include\", \"field\", \"area\", \"receive\", \"efficient\", \"digital\", \"cluster\", \"pixel\", \"layer\", \"datum\", \"model\", \"different\", \"interpolate\", \"randomly\", \"grid\", \"demand\", \"visualization\", \"calculation\", \"daily\", \"graphical\", \"fertility\", \"agricultural\", \"size\", \"map\", \"image\", \"obtain\", \"base\", \"provide\", \"need\", \"easy\", \"maintenance\", \"access\", \"usage\", \"automatic\", \"time\", \"effort\", \"similar\", \"web\", \"related\", \"planting\", \"configuration\", \"slow\", \"profile\", \"lawn\", \"giant\", \"action\", \"life\", \"gardener\", \"communicate\", \"adjustment\", \"irrigation\", \"user\", \"appliance\", \"avoid\", \"simplification\", \"intervention\", \"point\", \"report\", \"grow\", \"plot\", \"conductivity\", \"managing_plot\", \"base\", \"organize\", \"item\", \"profile_divide\", \"create_variable\", \"characterizing\", \"crop\", \"prescription\", \"land\", \"database\", \"percent\", \"salt\", \"group\", \"region\", \"flow\", \"weight\", \"uptake\", \"efficiency\", \"improve\", \"well\", \"wherein\", \"permeability\", \"render\", \"describe\", \"fertilizer\", \"polyacrylamide\", \"permeable\", \"water\", \"discovery\", \"exhibit\", \"aqueous\", \"semi\", \"soluble\", \"ferulate\", \"lignified\", \"wall\", \"cell\", \"residue\", \"isolate\", \"neighborhood\", \"grow\", \"highly\", \"soil\", \"hydrolyze\", \"reduce\", \"amide\", \"conserve\", \"use\", \"also\", \"plant\", \"acid\", \"nutrient\", \"synthetic\", \"site\", \"charge\", \"nitrogen\", \"apatite\", \"calcium\", \"moisture\", \"disperse\", \"micronutrient\", \"phosphate\", \"potassium\", \"dissolve\", \"active\", \"degree\", \"agronutrient\", \"optional\", \"zeolite\", \"matrix\", \"horticultural\", \"essential\", \"saturate\", \"medium\", \"fertilizer\", \"disclose\", \"soil\", \"comprise\", \"process\", \"growth\", \"cotton\", \"mechanized_harvesting\", \"shatter\", \"application\", \"transgenic\", \"cation\", \"plant\", \"price\", \"sale\", \"entity\", \"effectively\", \"available\", \"call\", \"rebate\", \"discount\", \"sell\", \"contract\", \"date\", \"encourage\", \"choose\", \"fix\", \"premium\", \"purchasing\", \"option\", \"swap\", \"way\", \"counter\", \"cooperative\", \"earn\", \"purchase\", \"market\", \"bonus\", \"portion\", \"farmer\", \"make\", \"wherein\", \"least\", \"production\", \"select\", \"method\", \"plant\", \"fertility\", \"different\", \"response\", \"divide\", \"grid\", \"day\", \"interpolate\", \"layer\", \"display\", \"graphical\", \"specify\", \"digital\", \"cluster\", \"covariate\", \"update\", \"specified\", \"daily\", \"represent\", \"calculate\", \"assigning\", \"visual\", \"model\", \"may\", \"recalculate\", \"grouping\", \"indicator\", \"request\", \"calculation\", \"property\", \"correspond\", \"physical\", \"particular\", \"agricultural\", \"disclose\", \"select\", \"result\", \"value\", \"field\", \"high\", \"datum\", \"delivery\", \"impair\", \"component\", \"grass\", \"equipment\", \"farm\", \"overhead\", \"forecasting\", \"performance_tracke\", \"monitoring\", \"endophyte\", \"oil\", \"propagate\", \"inoculate\", \"host\", \"fungal\", \"isolated\", \"alkaline\", \"transport\", \"ratio\", \"exclusion\", \"inclusion\", \"isosetoclavine\", \"symptom\", \"ergovaline\", \"alkaloid\", \"abiotic\", \"agroclavine\", \"toxicosis\", \"resist\", \"feed\", \"effective\", \"discover\", \"administration\", \"calcium_cyanamide\", \"ingest\", \"fatal\", \"bag\", \"animal\", \"toxin\", \"ivermectin\", \"service_provider\", \"storing\", \"modular_component\", \"database\", \"agricultural\", \"cloud_base\", \"graze\", \"enterprise_management\", \"sometimes\", \"supplier\", \"process\", \"cost_efficiently\", \"method\", \"commodity\", \"producer\", \"provide\", \"product\", \"system\", \"crop\", \"datum\", \"production\", \"comprise\", \"back\", \"lawn\", \"time\", \"unskilled\", \"web\", \"away\", \"freshly\", \"active\", \"garden\", \"local\", \"seeded\", \"foraminous\", \"conduit\", \"cow\", \"container\", \"dairy\", \"body\", \"place\", \"milk\", \"retain\", \"threshold\", \"contaminate\", \"contaminated\", \"phytoreduction\", \"replanting\", \"plow\", \"remediate\", \"oxygen\", \"vertically\", \"cylindrical\", \"substrate\", \"apart\", \"unusual\", \"completely\", \"bottom\", \"problem\", \"sponge\", \"seasonal\", \"trench\", \"sprinkler\", \"irrigation\", \"endophyte\", \"synthetic\", \"bird\", \"intervene\", \"essential\", \"timing\", \"schedule\", \"application_server\", \"water\", \"actual\", \"scare\", \"amateur\", \"follow\", \"report\", \"usage\", \"user\", \"medium\", \"growth\", \"value\", \"plant\", \"grow\", \"soil\", \"need\", \"base\", \"easy\", \"provide\", \"use\", \"fertilizer\", \"comprise\", \"seek\", \"patient\", \"suspect\", \"suffer\", \"stage\", \"diagnose\", \"intestinal\", \"ischemia\", \"dhb\", \"further\", \"lcl\", \"isi\", \"dsq\", \"locus\", \"wqd\", \"scq\", \"iul\", \"dwarfism\", \"identifiable\", \"morphologically\", \"dwarf\", \"cheniere\", \"dha\", \"gametophytic\", \"endosperm\", \"unable\", \"hybridization\", \"replicating\", \"insculant\", \"functionality\", \"farm\", \"performance_tracke\", \"forecasting\", \"overhead\", \"monitoring\", \"commodity\", \"market\", \"agricultural\", \"crop\", \"producer\", \"datum\", \"supplier\", \"inputs_exemplified\", \"storing\", \"service_provider\", \"modular_component\", \"production\", \"enterprise_management\", \"plan\", \"cost_efficiently\", \"database\", \"cloud_base\", \"receive\", \"third_party\", \"centralizing\", \"effectively\", \"restricted_access\", \"component\", \"computer_implemente\", \"single\", \"system\", \"method\", \"provide\", \"management\", \"growth\", \"input\", \"manage\", \"plant\", \"comprise\", \"field\", \"seek\", \"patient\", \"suspect\", \"suffer\", \"stage\", \"diagnose\", \"intestinal\", \"ischemia\", \"dhb\", \"further\", \"lcl\", \"isi\", \"dsq\", \"locus\", \"wqd\", \"scq\", \"iul\", \"dwarfism\", \"identifiable\", \"morphologically\", \"dwarf\", \"cheniere\", \"dha\", \"gametophytic\", \"endosperm\", \"unable\", \"hybridization\", \"replicating\", \"insculant\", \"functionality\", \"digital\", \"value\", \"field\", \"agricultural\", \"model\", \"datum\", \"specify\", \"plurality\", \"property\", \"different\", \"receive\", \"map\", \"image\", \"display\", \"method\", \"grid\", \"covariate\", \"high\", \"cluster\", \"resolution\", \"graphical\", \"include\", \"number\", \"fertility\", \"layer\", \"agronomy\", \"input\", \"interpolate\", \"update\", \"sample\"], \"Freq\": [6305.0, 2341.0, 562.0, 1019.0, 3663.0, 2304.0, 811.0, 4459.0, 1618.0, 1244.0, 2646.0, 260.0, 167.0, 144.0, 173.0, 146.0, 111.0, 114.0, 708.0, 99.0, 697.0, 1586.0, 87.0, 93.0, 75.0, 77.0, 126.0, 693.0, 703.0, 693.0, 2644.4154013934112, 691.399127233289, 701.9622877411172, 701.0494884404013, 691.6884350893498, 3650.582637654216, 4444.033766063736, 693.1120473945854, 692.7203935218201, 696.0117900626128, 1572.2532036610548, 1233.2103191243157, 2257.696636434824, 686.1419412808475, 6092.426781401726, 1561.2069259345894, 2250.507959825436, 10.626644346501356, 694.3597639470977, 9.138837466365375, 4.723226733654369, 4.683708270961791, 4.244398292290669, 703.2646010635918, 2.937933993215323, 0.5192652368779546, 0.5102241275533986, 0.4876338625786673, 0.40909204641422364, 2.765968544957588, 13.487616544397854, 2.0696669980523192, 1.9191707513647107, 0.9575759815523535, 84.0410625523976, 251.68302846435117, 41.50309878175257, 45.62587960927799, 34.96261592230238, 25.864318864727945, 26.90851967094946, 33.25618881395563, 31.082341626541343, 18.561966894339854, 19.585518540542306, 17.570930808759925, 17.733813230678123, 17.614252846354937, 16.232930158286536, 17.508419034849737, 15.305203598324905, 19.535474914220412, 14.618790063659803, 20.035976096201193, 54.57955514357986, 11.753133593720536, 10.927125994513023, 11.63066185261594, 10.151934180362096, 11.130199372204723, 10.705354764970933, 10.760732965704037, 16.196102493751933, 9.527456265595767, 13.536742867717741, 42.66943425089215, 51.19552985089846, 12.122221723589677, 41.872943464884806, 58.36817413511118, 47.0549313201208, 31.296638459406644, 77.38036762413027, 63.44253417382703, 20.87588380107087, 118.17353979505093, 39.78556557137863, 41.60387517202214, 24.5267052299502, 30.694272249457583, 60.63002369796342, 20.62861947312556, 20.184853543688085, 20.51853847647013, 20.091180764090122, 561.4458666472949, 166.27587404162173, 91.63284873531154, 112.25552977144753, 62.115801578747885, 53.55090169373692, 34.926060463452, 33.09985160620893, 29.364571070450737, 25.067027382354343, 23.016694281535777, 18.051574704904663, 17.084963869174377, 17.08484901368029, 16.994086084791366, 19.356466393451676, 11.135709325625486, 11.135672485183985, 29.639485280345564, 8.597623407173083, 8.268710320150053, 7.9545361185829, 7.37100953024498, 60.732620701386786, 6.554823634870008, 6.267416722908389, 6.246321235980216, 6.021007804623966, 3.3070968158301954, 3.3070350539135633, 21.678634276672653, 17.406389136462593, 38.304545657455066, 18.71551422515488, 21.64596764048638, 22.447585308333007, 37.814091026854186, 22.868766906405664, 28.42467822314692, 23.394237293109626, 17.56924230811207, 43.19260478235036, 42.75139065244103, 18.18700991973918, 20.12360357513937, 25.327455500892082, 51.91365420762135, 36.55035809091127, 19.434990804835802, 17.778841650487127, 17.443042355061444, 15.871988074014673, 13.42577441106053, 10.671491361243751, 11.129160245510695, 10.426247467841065, 25.328097430369404, 8.862338006362643, 8.123383262235487, 7.852201083376886, 7.221760802043872, 6.884584247956632, 6.866364596843006, 6.419707589622758, 7.555578578825725, 16.843148938092693, 11.948803048039156, 4.84391159638376, 18.490537096729145, 12.547648943433176, 2.146625588703481, 1.9141809382856616, 6.825672769838723, 34.16733216779415, 1.2327561564458962, 7.422290488799396, 9.378812584549063, 71.58417740042316, 37.489358494583556, 13.010246855326647, 14.9213772095387, 77.22956529833121, 12.654861486555864, 18.45083448098534, 11.500971578206055, 9.702015820053946, 12.33609189901655, 32.41046200796325, 10.002195253774877, 37.40757415106052, 26.418781489623463, 15.994816401362312, 14.51546215863821, 13.505782791702856, 12.520022312204492, 12.657393729656672, 14.261833737699549, 13.707807798093437, 11.643839374310954, 11.02954022749568, 11.331948292675316, 10.663492116706225, 14.547958030144997, 10.193692270933171, 63.99561461986642, 13.874180521976614, 7.315707963066681, 49.203094006026454, 6.570748562625432, 5.955910942201319, 5.772230794388996, 5.805346921332587, 5.741314966176403, 5.589093714670229, 5.575455446236122, 5.575490364319971, 5.387146355071366, 5.359524312952429, 12.550425855371135, 12.15771135528389, 17.118634714329584, 24.43203073268664, 19.650682808807055, 10.300494743768894, 9.277454615276344, 10.135250425332227, 48.272505017907434, 7.5449828583141185, 11.216680022299947, 10.32968166738246, 25.55782844342867, 17.68095152130408, 15.856757027014172, 25.00451085222504, 21.44339039808934, 17.47260337701061, 10.0957641938671, 9.537545239246533, 8.409367738713598, 11.733143360389988, 8.51760849532974, 6.153374529310627, 6.24379467112931, 5.230247021800819, 5.0221813673613065, 5.401168001290712, 5.434692932380746, 5.242579001259851, 10.195819688194801, 4.891897996875543, 46.6797958192783, 16.141986265119268, 18.470863318628044, 14.521229780998912, 5.354932488557039, 8.18903149976391, 27.090658590081457, 21.643862447515392, 3.6854883482100464, 8.771244916003118, 16.48574973981977, 14.078499110528389, 34.09955857562825, 10.241447829470156, 7.424218542245736, 7.5293208475477815, 7.1454832817665705, 6.7510083102039555, 8.071637779522613, 10.690408625464979, 43.24338114260254, 17.980887501226288, 13.730637968694817, 12.288668993669603, 10.712240220002444, 10.399636535374414, 9.554920949633654, 9.221976343408155, 9.209850468986016, 9.040080527219295, 9.726368060199972, 7.187277294951163, 7.187206596266372, 7.186568908129296, 16.7277960125098, 18.02464788715104, 9.645732360267349, 25.885630449151, 13.517272137943205, 9.189536146893714, 10.779411670410743, 1.6407750766317273, 0.10569127444831976, 0.10569233536608348, 0.10569233536608348, 0.10569233536608348, 0.10569233536608348, 0.10568416520557312, 0.10568237148894168, 0.10567600598235931, 3.596270598513349, 25.245814351661373, 57.08462125376371, 100.0059187880934, 1.1618415362409966, 18.60642526433603, 0.5689363348171267, 1.8894640002672063, 9.789897478361063, 12.921297624867794, 9.151888747248968, 9.952021462365671, 25.26968054156138, 16.861688355614856, 16.860670735005403, 16.85830195489779, 16.856693120258164, 19.022911790772188, 16.48719743135731, 24.198144351744542, 14.467081874051628, 27.31939342425362, 11.00832545406178, 11.41978949113097, 10.464112285290964, 16.980194068773223, 9.087516195883769, 8.924099798360453, 8.45416443210816, 8.452327352229009, 8.45166550643417, 8.451330005552004, 8.451276377730684, 8.449800304648717, 8.449193394670841, 8.448897133657935, 8.447447220488808, 8.447134609530377, 8.447217013255822, 8.446560399443552, 8.445483919030208, 8.444732475533895, 24.991642523938538, 16.94855757818083, 8.565182524214052, 10.099371814546501, 22.27163157856971, 22.7634588678817, 10.433119982552244, 9.094747449790415, 8.515827270657676, 9.968903827244475, 9.598986309749083, 9.660985957176408, 8.925103685015667, 16.418526799317313, 13.39693959350426, 14.504918243466518, 10.686948637021079, 10.362916875556929, 10.322947953481682, 9.874193135830751, 9.874175996008827, 9.148238263489851, 8.434490943651621, 6.986017733265864, 6.859259037561744, 6.23463536377123, 5.880882579761032, 4.940089752150949, 4.0795230033634065, 4.046391156254202, 4.132422778426576, 19.367937072347694, 3.5992337700067205, 3.5905787312617887, 3.471062752975946, 3.544760844954497, 4.402786900805298, 3.820220350727943, 3.0329637626160397, 3.0329417665112355, 3.032918913415335, 3.032821502094059, 3.0328172171385774, 3.965902838156204, 13.780227147328917, 3.356348781466204, 26.759748088281064, 9.429378191913075, 15.3571353280031, 34.59490459406571, 10.63804186913913, 6.541323339429063, 7.095744016595314, 6.585866308648803, 6.554236481267663, 6.357516460428426, 14.92648359026978, 4.475268636754543, 25.66008710331852, 22.743676597601972, 16.42035889580759, 16.43905296577491, 16.21136003587953, 16.30494029645224, 16.01106158655772, 12.93633134229218, 12.035440289726187, 9.711022362349986, 9.643178676480895, 6.2029577417281265, 6.099269802245671, 6.074879890860208, 5.751521991616981, 5.6396718959742795, 5.287012513525778, 6.079731371296257, 4.96084059127714, 83.54192198381364, 15.369844406486292, 10.617859893900581, 4.0735194058084225, 19.56763638912593, 0.5692416979671154, 0.5359982264070609, 7.485312493627536, 0.5775237800941009, 0.4388463163120819, 7.266689767469253, 9.240955715264706, 11.362102467428368, 9.038463160033222, 0.8070199009037218, 2.1788373053840098, 2.8708851192978373, 3.3166817809643927, 34.7321282141525, 9.359139963235526, 4.887937409370023, 8.286953353664245, 16.409772534925803, 5.808595629747302, 17.434618471762597, 2.3321419401080896, 5.628810414516554, 3.7044439001699865, 9.871800261304173, 34.25725041968984, 56.50814828588851, 5.530858722974207, 11.831460378728167, 3.973937133288137, 10.779807492825098, 1.3895701643014027, 4.592145084383604, 1.190534171101064, 36.16246127628378, 7.571419055819152, 1.9628859641879501, 0.7299640818479106, 0.2322603048127521, 1.0660985625163937, 0.18435214816009904, 0.17762187777151717, 0.1766203637173053, 0.17598115703653047, 0.46674504534290934, 0.7772022766753802, 6.236682753522089, 0.8345147973037297, 1.9301829743463321, 2.548726907000238, 1.3580528809267056, 1.4070479155535294, 1.6968841610137975, 10.699633001071266, 9.830131695707468, 10.160826298093829, 9.556478437609925, 9.270332061266721, 9.912592120435308, 8.976825511466895, 5.860287448877962, 5.719767035507599, 5.176020067219947, 14.516394315145453, 3.7807585598929503, 3.6600329951602033, 3.600560784650352, 36.13373239454052, 4.854971310022457, 1.8996094031792503, 1.6676761605520547, 1.4527928830154628, 1.4427859920970127, 1.429107233006221, 1.3958100959379234, 7.002850276309538, 9.145822764683166, 1.358631517520076, 1.3475258513272241, 1.3191829054556432, 1.2236694733567566, 1.20058765891801, 1.1647545266002433, 12.454273697461968, 10.613615767954649, 10.289203795020095, 5.029587772589266, 14.510378332176193, 4.9275671846553655, 4.828178817563738, 4.651332386810694, 4.563628979961116, 4.305026637361346, 10.73312452981755, 4.021526636040138, 4.913614816138775, 3.785779641003525, 15.72145445618753, 10.757225256526347, 8.764030602494122, 6.06786775669299, 6.281748997396216, 15.360361290500538, 5.452521436006537, 5.095064107102688, 14.195316285564692, 6.758629320059417, 6.529756900654874, 2.853724693568406, 1.9081232548719105, 9.037791869733187, 7.795871596352407, 2.264617000646191, 0.28348799021991067, 5.468541069051805, 0.23202593532121882, 3.0371835366210407, 0.5800023489462418, 0.21926483164671864, 1.1767388458669281, 0.1041189977628307, 0.10410971381129451, 0.10410971381129451, 0.10411001022023751, 0.10410317164248109, 0.10410174252793447, 0.10410334101901995, 2.2363516132179675, 0.45491781734312786, 3.0395673420289397, 0.6384919634745908, 1.2262231332655, 0.1710196077321348, 0.26578790901642163, 2.187394002166977, 1.2997401730744824, 5.284728567786033, 0.8943189652731286, 0.5475916401059874, 11.761213395305628, 9.114496193723769, 6.429072037698312, 6.004830009772593, 5.702025731763615, 4.349540319841732, 4.013193230304528, 3.9049715762405204, 3.5845565559486396, 3.360565248506933, 3.24198842773595, 3.2375490635864326, 3.2892525448562973, 5.798863711575622, 1.7002034889423963, 1.5988132201783585, 1.349088498201794, 1.323217915831181, 1.1851989360691295, 0.8483539222636699, 3.105621742581526, 4.366754632005913, 7.349177299219264, 5.925248547612692, 6.77400995381335, 5.172649330970959, 2.8485229933173875, 3.8337676522105477, 0.07079581203512825, 0.07079297792405294, 0.07079297792405294, 1.8088866399190096, 0.07079799453617792, 0.3720652736584475, 2.3048256172916797, 8.023426333859291, 11.188516155332424, 7.480975671247365, 6.71208643145461, 4.918008151442502, 4.300547085088608, 4.002789264332789, 3.9807633943848053, 3.960290538372641, 3.9422229910217057, 2.1961731911978744, 2.120111496942646, 2.105207559223239, 1.5707305943211831, 1.550017567328895, 1.4179059573562, 1.4168116922206697, 1.4085210831337647, 1.390770129613394, 1.3372976327438837, 1.3137369548576918, 1.3038793597902885, 1.0723061620388037, 1.6542365304720124, 1.0332539796149296, 7.0758333724380815, 8.041432488892697, 3.6684386585630455, 2.802472922527475, 3.1738407670926763, 10.216487781349066, 2.740223441227883, 2.2904273344155603, 1.3800583345417607, 6.633429677120312, 8.571904243475435, 2.5692930555177984, 2.5272357618627432, 5.149710495337089, 2.51155053364013, 2.099592097711446, 1.6567134446349108, 9.527223187067712, 1.5056546533083592, 8.120888049507487, 10.407488442206867, 1.2825287664347051, 1.2006721392210988, 2.0427887990564937, 0.1921096849201033, 0.15383965777320274, 0.1444855334761825, 0.12015814480839701, 0.11970871964921619, 0.10507949129200846, 2.473082963166492, 1.8669215886407249, 0.09947336699172017, 0.09726704204460696, 0.09308084782072258, 0.09859470312553596, 0.08444630165521111, 1.3440514780808304, 0.08261009123808007, 0.1621686672678953, 0.3590424592785634, 0.5992411163637961, 0.42493483849726726, 0.2544066628653606, 0.17391639960997063, 0.20498624074539304, 0.23383506069550897, 0.1741028894450555, 0.1596677077954127, 3.9360065954340775, 1.406298598044097, 5.769861047904296, 1.5490079359015896, 0.3250395003728312, 0.06569744265045271, 0.05484965014774978, 0.0538213613727514, 0.050006524520022834, 0.05433491897450669, 0.03098302359181121, 0.030978066498345412, 0.03097632426576991, 0.03097632426576991, 0.03097632426576991, 0.03097632426576991, 0.03097632426576991, 0.030975877946111424, 0.030975617404178805, 0.030975877946111424, 0.030975302488277644, 0.030975302488277644, 0.030975302488277644, 0.030975302488277644, 0.030975302488277644, 0.030975302488277644, 0.030975302488277644, 0.030975302488277644, 0.030975302488277644, 0.030975302488277644, 0.03097632426576991, 0.241852385276142, 0.04354907201547007, 0.040478034803141855, 0.03097551545298778, 0.04240219814623636, 0.03991202897755966, 0.03097546334460126, 0.16892565616878652, 0.040415228338306894, 0.039689458199643673, 0.09944646322546564, 0.05648674612390434, 0.0886239047753322, 0.0922322972629828, 0.1836637928418726, 0.08435148832146672, 0.03817382913805738, 0.07467376018558247, 0.03755269037395131, 0.06607999523732391, 0.08279040262217577, 0.0484302412965232, 0.14822321169887792, 0.0580135399736988, 0.05813778902299103, 0.08936410667148041, 0.059375118520065474, 0.06833236891689168, 0.06468057240884904, 0.06217606210596827, 0.057539181472101304, 0.05037345818442912, 0.7730559019573119, 1.630163985087285, 0.2039633993349868, 0.0301674639233512, 0.10071633696030169, 0.02691060801317414, 0.026405868323310495, 0.057251639387511814, 0.024146811155041817, 0.024117422726844483, 0.024007009089221997, 0.015163784626208864, 0.015163675555753698, 0.015163664446725858, 0.015163568505121777, 0.015163560425828802, 0.015163784626208864, 0.015163675555753698, 0.015163560425828802, 0.015163595772735568, 0.015163525078922034, 0.015163472563517697, 0.015163472563517697, 0.015163472563517697, 0.015163472563517697, 0.015163472563517697, 0.015163472563517697, 0.015163460444578234, 0.015163460444578234, 0.015163460444578234, 0.015163460444578234, 0.015163460444578234, 0.023225173888187515, 0.015163460444578234, 0.015163460444578234, 0.023079031597205396, 0.015163460444578234, 0.02317917645345639, 0.015163659397167748, 0.022382798525066527, 0.08221261503442842, 0.015163592743000703, 0.07524386127512443, 0.02180438982203166, 0.02152896066503696, 0.02015657156380262, 0.020957647601057568, 0.02090840835002014, 0.021299001768906752, 0.13017927239745172, 0.020783294438829255, 0.020735343835021375, 0.020589991294927584, 0.054013600150674024, 0.020496744135054177, 0.0405454147213496, 0.04751826064254554, 0.04408155159144729, 0.06555808168472162, 0.04196368612739017, 0.12550783327847728, 0.03462063084348408, 0.04012240313939995, 0.027412394721455347, 0.03490678324208013, 0.02610082047826867, 0.03774840388979618, 0.03171577558947429, 0.02460001101519334, 0.024659280708459495, 0.012496733596818348, 0.012496733596818348, 0.012496733596818348, 0.012496733596818348, 0.012496733596818348, 0.012496733596818348, 0.012496733596818348, 0.012496733596818348, 0.012496733596818348, 0.012496733596818348, 0.012496733596818348, 0.012496733596818348, 0.012496733596818348, 0.012496733596818348, 0.012496733596818348, 0.012496733596818348, 0.012496733596818348, 0.012496733596818348, 0.012496733596818348, 0.012496733596818348, 0.012496733596818348, 0.012496733596818348, 0.012496733596818348, 0.012496733596818348, 0.012496733596818348, 0.012496733596818348, 0.012496733596818348, 0.012496733596818348, 0.012496733596818348, 0.012496733596818348, 0.01337519463375419, 0.01368616106142723, 0.013582454000347858, 0.013331706831934168, 0.013486389483328287, 0.01667941641646796, 0.013819950223502103, 0.018409427390393876, 0.018894715545882613, 0.015902223552427295, 0.017936058389484383, 0.0150668262275418, 0.014049104526485157, 0.01379939005386148, 0.014919092696233208, 0.014934839074979469, 0.016641599513287326, 0.014750490972188123, 0.015160337277737653, 0.013898140472755649, 0.01473247534116554, 0.014573068180933832, 0.01483745764762249, 0.013650946730201539, 0.01373923775614471, 0.013769937391366229, 0.013654238262027916, 0.01446463958708543, 0.013586979112591989, 0.014030827001429371, 0.01588806937036016, 0.015364131012494236, 0.015262919384901681, 0.014332033412262803, 0.014352815299011081, 0.013967043900070487, 0.013909354299086383, 0.014129373559627243, 0.01404530855103801, 0.01379144543884293, 0.012341730730912269, 0.012341730730912269, 0.012341730730912269, 0.012341730730912269, 0.012341730730912269, 0.012341730730912269, 0.012341730730912269, 0.012341730730912269, 0.012341730730912269, 0.012341730730912269, 0.012341730730912269, 0.012341730730912269, 0.012341730730912269, 0.012341730730912269, 0.012341730730912269, 0.012341730730912269, 0.012341730730912269, 0.012341730730912269, 0.012341730730912269, 0.012341730730912269, 0.012341730730912269, 0.012341730730912269, 0.012341730730912269, 0.012341730730912269, 0.012341730730912269, 0.012341730730912269, 0.012341730730912269, 0.012341730730912269, 0.012341730730912269, 0.012341730730912269, 0.012378307877558418, 0.012376584844857609, 0.012375793536970393, 0.012375414703804426, 0.012374202145138067, 0.012374061728211684, 0.012371351388997252, 0.012369697102083316, 0.012366256887386962, 0.01235924042909682, 0.012357723633756632, 0.012357261428040625, 0.012356475970858677, 0.01235617173418485, 0.012354306821881341, 0.012354138614104946, 0.01235339411185986, 0.012353341455512467, 0.012353009427988625, 0.012352996263901777, 0.01235296993572808, 0.012352914354028055, 0.01235289533923594, 0.012352747608927976, 0.012352117195435575, 0.012351872928490723, 0.012351227888235157, 0.01235068230996911, 0.012350443893729525, 0.012350407326821612], \"Total\": [6305.0, 2341.0, 562.0, 1019.0, 3663.0, 2304.0, 811.0, 4459.0, 1618.0, 1244.0, 2646.0, 260.0, 167.0, 144.0, 173.0, 146.0, 111.0, 114.0, 708.0, 99.0, 697.0, 1586.0, 87.0, 93.0, 75.0, 77.0, 126.0, 693.0, 703.0, 693.0, 2646.5947067905463, 693.0990119342107, 703.72670192252, 703.1167986602301, 693.8548900744979, 3663.562205138502, 4459.879786309745, 696.5486658322912, 697.1633341444398, 700.6117779117146, 1586.6608015729933, 1244.952135465925, 2304.708454652692, 708.0822858497231, 6305.092981359792, 1618.2143862310613, 2341.5083645589116, 12.057058437303397, 811.4859285709684, 10.938962020495266, 6.177839674359071, 6.174754148537271, 5.778506805243012, 1019.5518383306919, 4.816015264018848, 1.9698225357488153, 1.9600667071949731, 1.947606243991749, 1.9201320901453194, 14.903723824286839, 92.87815379707195, 17.890404134765333, 30.783286722667693, 22.320394568734297, 86.920151037142, 260.9686873486693, 43.112825872488735, 47.71164050470555, 36.7919327872911, 27.37836188278972, 28.494456721093147, 35.280343972555876, 33.182449594043234, 20.067651790863408, 21.190761121982376, 19.02772779503715, 19.21991657187721, 19.12393523313453, 17.65938639767281, 19.1358167173115, 16.74086575788211, 21.425516827670215, 16.278714478739975, 22.320394568734297, 60.818952145737036, 13.130257340519043, 12.309682506441847, 13.176451089416611, 11.527713840837551, 12.649922071288778, 12.180284622766248, 12.319097468540376, 18.58519979086875, 10.948749499786095, 15.622524805735464, 51.41566266172093, 69.6840485621816, 14.048138238348216, 62.37201307470106, 99.2826931929986, 77.95352738801492, 49.27907474553994, 173.32891187568225, 144.23472665313955, 30.713205963620158, 1019.5518383306919, 126.46432311684542, 146.56586762063728, 46.822439869900236, 87.09689242443419, 811.4859285709684, 32.22886550774989, 32.10670904324744, 59.53136058987177, 39.46673290111225, 562.8648643575426, 167.73449463530827, 93.05356875530786, 114.71772546826408, 63.519607181569036, 54.91935406992736, 36.32449918643597, 34.49151958172067, 30.720092049913976, 26.426316824996057, 24.356494502253014, 19.40904836347127, 18.42395023024428, 18.423835374750194, 18.35009283646422, 21.48697665376409, 12.474697381506202, 12.4746605410647, 34.0761913844596, 9.936608843683166, 9.607695756660135, 9.293521578352784, 8.71095674719119, 72.57260324422128, 7.893809148497658, 7.6064021594184705, 7.585306725490398, 7.359993442319972, 4.646099126951838, 4.646037365035206, 30.615731087607905, 26.772227309977524, 63.62672805481147, 30.008016012943937, 41.636591292876986, 44.289917831745434, 92.87815379707195, 49.860581883926315, 75.48734107441706, 58.75117431047123, 39.148078418217324, 1019.5518383306919, 1618.2143862310613, 62.37201307470106, 708.0822858497231, 26.675593128064733, 55.05646348850895, 38.82245853901827, 20.789612799164278, 19.140126866187423, 18.83719851535547, 17.335328419402366, 14.770881905489215, 12.032053752801508, 12.659591727621752, 11.86651944651409, 28.84243500989871, 10.208989087525376, 9.470522152596265, 9.19849501399164, 8.565648852422994, 8.230899098726686, 8.211699880747892, 7.765970739139194, 9.532492337286492, 21.602449180425946, 16.223542494139313, 7.700595959544724, 29.967588267872234, 20.39184594209654, 3.4941226718272564, 3.265014049226087, 13.325103902638258, 69.65678600942753, 2.579881256008653, 15.553846852786794, 19.920419279491288, 173.32891187568225, 126.46432311684542, 32.54002623011972, 39.46673290111225, 1019.5518383306919, 45.56115167692991, 144.23472665313955, 36.478032412310775, 22.608809450975354, 59.53136058987177, 6305.092981359792, 69.6840485621816, 39.21552038793866, 27.79913375880602, 17.417657597707624, 15.872477841014652, 14.861585519651623, 13.901614483063026, 14.091591409640253, 15.922717596720517, 15.317536118594383, 13.040523482799378, 12.386294558039488, 12.757159533905185, 12.019776452737853, 16.44098653994759, 11.549345631910855, 75.03369085202512, 16.306350836390276, 8.670742390713608, 59.23688333884758, 7.962461411282544, 7.310689708827381, 7.127200226926665, 7.189940462998757, 7.123526584595953, 6.943777002723785, 6.930171122509891, 6.930257205704516, 6.742307143283969, 6.735874043335449, 16.070144586152406, 17.844385440929507, 28.18879525202194, 45.56115167692991, 92.87815379707195, 25.74951855306194, 28.704289227917105, 38.99024046850912, 6305.092981359792, 18.100749898874735, 126.46432311684542, 87.09689242443419, 27.412682274365626, 19.10479785516912, 17.28266453401911, 27.51831087319899, 23.961249338812728, 19.6530327435173, 11.604873974033119, 11.11772725115144, 9.818315272924416, 13.881103890690383, 10.10379284930441, 7.541188049796449, 7.713690779714541, 6.622405552408016, 6.413518378692686, 6.905679220645261, 6.951313087886975, 6.736822469490733, 13.122813813595195, 6.414009610042297, 65.7947712863665, 26.151131368020575, 39.148078418217324, 33.066790195326746, 12.262198901968496, 20.165853925944425, 69.65678600942753, 59.53136058987177, 10.601566574184137, 27.094123263717258, 58.75117431047123, 111.94382602895386, 1019.5518383306919, 72.57260324422128, 28.231011019008697, 33.584696296654634, 34.662138931739186, 25.43970816757484, 126.46432311684542, 2304.708454652692, 44.74129064764841, 19.42215028842659, 15.187641972627771, 13.690163656851713, 12.113734995648928, 11.878741705872397, 10.956414071392274, 10.623467500347992, 10.611340838675229, 10.441568958551931, 11.355409094501171, 8.58877247437853, 8.588700677512197, 8.58806180519141, 27.094123263717258, 36.478032412310775, 28.704289227917105, 99.2826931929986, 54.9570801555788, 49.860581883926315, 58.75117431047123, 13.122813813595195, 1.4750776222400743, 1.4750930648968918, 1.475094389622373, 1.4750973299212295, 1.4751081163331723, 1.4750817840299182, 1.4750769404183395, 1.475075385021693, 59.53136058987177, 811.4859285709684, 2341.5083645589116, 6305.092981359792, 27.51831087319899, 1019.5518383306919, 13.881103890690383, 69.65678600942753, 1244.952135465925, 2304.708454652692, 1618.2143862310613, 3663.562205138502, 27.178534866435896, 18.357133978204992, 18.360300073019786, 18.363789774795126, 18.365587179233444, 20.928206255916287, 18.4238683586088, 27.059280128005557, 16.19390292039964, 30.783286722667693, 12.51912658840887, 12.98972649075931, 11.992014866014289, 19.6084690155567, 10.543204409667114, 10.396000600502566, 9.909889360590038, 9.912934719318578, 9.913286767224735, 9.914422627074531, 9.91438894327625, 9.916208577847744, 9.91661437528043, 9.917147658377552, 9.918759340244751, 9.919076541377464, 9.91947359265675, 9.920318308210637, 9.921251424239811, 9.922749715216831, 38.361888911350086, 24.27071346710549, 10.15261529734447, 13.428526342576845, 75.48734107441706, 146.56586762063728, 22.608809450975354, 15.146153695698771, 10.408793914886179, 29.13644428303441, 38.99024046850912, 126.46432311684542, 33.066790195326746, 17.81546841184655, 14.793881206033493, 16.045288322446446, 12.083890249550311, 11.759858488086161, 11.758677434775535, 11.271134748359984, 11.27111760853806, 10.545179890376849, 9.831432556180854, 8.382959345795097, 8.256200650090978, 7.6315769763004635, 7.27782420664803, 6.537175844482538, 5.47646461589264, 5.482496208204951, 5.634331691389013, 26.6360566914589, 4.996175382535954, 4.987520343791022, 4.86800436550518, 5.013173359867122, 6.233417859396861, 5.503419777539268, 4.429905594965524, 4.4298835988607195, 4.429860745764819, 4.429763334443543, 4.429759049488061, 5.808288785824387, 20.836064405342572, 4.927155076245673, 77.95352738801492, 20.315825159988297, 44.289917831745434, 146.56586762063728, 46.822439869900236, 17.452807964699574, 24.65054150325421, 21.547149940059917, 26.151131368020575, 30.008016012943937, 1019.5518383306919, 58.75117431047123, 27.46157410039306, 24.372896335951314, 17.983699772818646, 18.012891968694, 17.785485729697186, 17.894685872858588, 17.62216333263825, 14.408599124496444, 13.611934851901479, 11.184081174435933, 11.130865832690658, 7.678549206575802, 7.57916257777366, 7.5539298551745, 7.238966171529564, 7.1227911580724825, 6.763547607132395, 7.818995256894257, 6.446203920248044, 111.94382602895386, 20.65276498945097, 14.478237321473623, 5.5711942693086565, 33.32298551635261, 2.038190372748103, 2.009659532090979, 29.13644428303441, 2.3262978111683186, 1.910206279996062, 33.584696296654634, 49.860581883926315, 173.32891187568225, 146.56586762063728, 3.879046004419765, 99.2826931929986, 260.9686873486693, 1019.5518383306919, 36.55489907867128, 10.824694679190355, 6.300525948319629, 10.761830835760932, 25.43970816757484, 10.253809089364559, 33.584696296654634, 5.055822474633499, 12.262198901968496, 9.058236277972863, 25.05463206268092, 87.09689242443419, 144.23472665313955, 15.178418341972364, 33.32298551635261, 11.459459251721054, 34.662138931739186, 4.5619455882443525, 15.146153695698771, 4.461643785044597, 146.56586762063728, 38.361888911350086, 11.957174859192994, 4.481705926538865, 1.6788138531715804, 8.231174597404486, 1.644214820108941, 1.6472154739396556, 1.6385051488713893, 1.6819029334038638, 4.527699072344961, 8.813733910614648, 111.94382602895386, 10.601566574184137, 39.148078418217324, 77.95352738801492, 58.75117431047123, 75.48734107441706, 811.4859285709684, 12.124863635036641, 11.254474215375, 11.645097719895134, 10.97754636018114, 10.70899105402356, 11.460953050652167, 10.649842111647937, 7.269460233855582, 7.1299622398340485, 6.669666663514453, 19.02780763927412, 5.207227059969202, 5.0676169618069, 5.007572514923775, 54.9570801555788, 7.884853986738451, 3.306014820736467, 3.075544049310438, 2.8604051592351967, 2.8512050366653456, 2.8383692154108258, 2.8038127195069418, 14.080765933845855, 18.52156934065481, 2.766567073746127, 2.7555497990665643, 2.7280599988325482, 2.6334127773442604, 2.610533323547675, 2.575011124656231, 32.54002623011972, 32.10670904324744, 32.22886550774989, 16.762907381090013, 75.48734107441706, 16.802629811514194, 16.836997150490536, 16.896745242002257, 16.93294249625341, 19.98261321102587, 173.32891187568225, 20.88177513657103, 60.818952145737036, 20.65276498945097, 17.862312975354836, 12.298154530904391, 10.77309700959616, 7.492588811745391, 7.836757646844595, 19.384161271549125, 6.90278492590907, 6.581821596496911, 25.74951855306194, 13.95910165662817, 18.100749898874735, 9.717237523408807, 6.6258167379528645, 41.636591292876986, 49.27907474553994, 16.070144586152406, 2.3862222776617794, 59.23688333884758, 2.5868619295216138, 34.0761913844596, 6.847942019820317, 2.667624066710132, 16.306350836390276, 1.475064694060895, 1.4750421018225974, 1.4750441836106718, 1.475111883103544, 1.4750272777600106, 1.4750303577768977, 1.4750557031520253, 32.54002623011972, 7.252616765908505, 75.03369085202512, 16.44098653994759, 45.56115167692991, 2.9739810552008477, 5.6000850459930875, 126.46432311684542, 92.87815379707195, 6305.092981359792, 114.71772546826408, 39.21552038793866, 13.557935320003656, 10.931260978135233, 7.839524635470412, 7.413481876547968, 7.114747972073857, 5.75689536314307, 5.422263228768896, 5.312609645254073, 4.992224098222966, 4.768735623757981, 4.649229587343333, 4.645640472046943, 4.735551093183265, 10.349331034681743, 3.1079559265184256, 3.006744674538211, 2.75744401987383, 2.7316158722252086, 2.593827730420164, 2.257569741497643, 10.20015710347782, 17.844385440929507, 49.27907474553994, 63.62672805481147, 75.03369085202512, 65.7947712863665, 46.822439869900236, 69.65678600942753, 1.4750550961517461, 1.4750073987027068, 1.4750073987027068, 38.99024046850912, 1.475118304906356, 15.922717596720517, 6305.092981359792, 9.492645535608903, 13.267919646401653, 9.020296655775535, 8.241821260994334, 6.36537028504323, 5.7479042633574, 5.4446849146446255, 5.425899409085843, 5.407898855618349, 5.391673095177431, 3.6317203122640755, 3.557997806647558, 3.555827319194137, 3.005179007191698, 2.9844439096218123, 2.8541884134650344, 2.853023940366165, 2.844957826849507, 2.827365799645288, 2.774228303664302, 2.751237333621337, 2.741224031335376, 2.5112530760998766, 3.879046004419765, 2.472827489334852, 21.547149940059917, 26.772227309977524, 17.91154065086922, 18.100749898874735, 30.615731087607905, 99.2826931929986, 44.289917831745434, 1019.5518383306919, 6305.092981359792, 8.813733910614648, 11.957174859192994, 4.036996331728074, 3.993350266423607, 8.231174597404486, 4.102142324480967, 4.481705926538865, 4.461643785044597, 28.231011019008697, 4.527699072344961, 25.05463206268092, 34.662138931739186, 4.5619455882443525, 5.055822474633499, 16.223542494139313, 1.6787485267138271, 1.6819029334038638, 1.6469509125756452, 1.6390478998606453, 1.644941508861364, 1.628144522106247, 38.361888911350086, 29.13644428303441, 1.6270570825695159, 1.6242841127327243, 1.627728043643149, 1.8399458998350917, 1.6385051488713893, 26.151131368020575, 1.6312727915716756, 4.927155076245673, 29.967588267872234, 111.94382602895386, 63.62672805481147, 44.289917831745434, 17.335328419402366, 36.55489907867128, 144.23472665313955, 25.43970816757484, 146.56586762063728, 5.495080804037264, 2.906894786541168, 24.65054150325421, 7.700595959544724, 7.818995256894257, 1.701508056084653, 2.009659532090979, 2.038190372748103, 1.910206279996062, 2.3262978111683186, 1.475015848022522, 1.4750576013827157, 1.4750016808087942, 1.4750047644651627, 1.47500517141765, 1.4750186773654939, 1.4750230080225035, 1.4750049568537895, 1.4750044271371592, 1.4750240118636218, 1.47499884045807, 1.47499884045807, 1.47499884045807, 1.47499884045807, 1.47499884045807, 1.47499884045807, 1.47499884045807, 1.47499884045807, 1.47499884045807, 1.4750002710044525, 1.4750590654272555, 20.39184594209654, 2.3077083873870436, 2.130478496742241, 1.4750132213471785, 2.422082997489501, 2.205465444174871, 1.475011319745674, 30.713205963620158, 2.4211070468391793, 2.3983123752084876, 17.62216333263825, 5.5711942693086565, 17.894685872858588, 20.65276498945097, 111.94382602895386, 18.012891968694, 2.5793299340505014, 17.785485729697186, 2.579881256008653, 17.983699772818646, 46.822439869900236, 7.1227911580724825, 1019.5518383306919, 24.372896335951314, 27.46157410039306, 811.4859285709684, 49.860581883926315, 260.9686873486693, 173.32891187568225, 146.56586762063728, 99.2826931929986, 65.7947712863665, 2.265767021992503, 7.884853986738451, 10.649842111647937, 1.881210359475231, 6.669666663514453, 2.067619255920399, 2.0370130184240396, 4.735551093183265, 2.2156196597476048, 2.241079281727062, 2.2712516802650486, 1.475003535643378, 1.4750019448743084, 1.4750056496784834, 1.4750031581062462, 1.4750028117616023, 1.475025048546394, 1.4750146748172608, 1.475005750819365, 1.4750101480997615, 1.4750038563102472, 1.4749997912797552, 1.4749997912797552, 1.4749997912797552, 1.4749997912797552, 1.4749997912797552, 1.4749997912797552, 1.474998728994774, 1.474998728994774, 1.474998728994774, 1.474998728994774, 1.474998728994774, 2.285594443745078, 1.474998728994774, 1.474998728994774, 2.2753688007448645, 1.474998728994774, 2.2992188146943953, 1.4750210774786894, 2.342446285217659, 14.080765933845855, 1.475015848022522, 13.557935320003656, 2.4543892121647235, 2.4218830202061707, 2.257569741497643, 2.422579742249335, 2.4245132021840536, 2.5254691912707554, 59.23688333884758, 2.559691174474939, 2.565323030215415, 2.5681437885219793, 14.877413637666743, 2.575011124656231, 10.70899105402356, 18.52156934065481, 17.844385440929507, 69.65678600942753, 36.55489907867128, 6305.092981359792, 32.54002623011972, 75.03369085202512, 12.124863635036641, 75.48734107441706, 11.254474215375, 811.4859285709684, 126.46432311684542, 49.27907474553994, 65.7947712863665, 1.4749971643469328, 1.474997186736557, 1.474997186736557, 1.474997186736557, 1.474997231515805, 1.474997231515805, 1.4749972800266573, 1.4749972800266573, 1.474997333039314, 1.4749973512033974, 1.4749973662947051, 1.4749973662947051, 1.4749974029526554, 1.4749974390474891, 1.4749974448586518, 1.4749974448586518, 1.4749975619523408, 1.4749976032861702, 1.4749976032861702, 1.4749976032861702, 1.4749976032861702, 1.4749976315561386, 1.4749976812325405, 1.4749977609542453, 1.4749977609542453, 1.4749977609542453, 1.4749977609542453, 1.4749977701145103, 1.4749977701145103, 1.4749978133545707, 1.701508056084653, 1.910206279996062, 2.038190372748103, 2.009659532090979, 2.3262978111683186, 24.372896335951314, 3.879046004419765, 111.94382602895386, 173.32891187568225, 27.46157410039306, 146.56586762063728, 17.983699772818646, 6.763547607132395, 5.5711942693086565, 17.62216333263825, 17.894685872858588, 99.2826931929986, 17.785485729697186, 28.84243500989871, 7.1227911580724825, 20.65276498945097, 18.012891968694, 33.32298551635261, 6.446203920248044, 7.678549206575802, 8.241821260994334, 7.57916257777366, 24.65054150325421, 7.238966171529564, 14.408599124496444, 260.9686873486693, 1019.5518383306919, 811.4859285709684, 55.05646348850895, 69.65678600942753, 27.059280128005557, 21.602449180425946, 6305.092981359792, 65.7947712863665, 144.23472665313955, 1.4749971643469328, 1.474997186736557, 1.474997186736557, 1.474997186736557, 1.474997231515805, 1.474997231515805, 1.4749972800266573, 1.4749972800266573, 1.474997333039314, 1.4749973512033974, 1.4749973662947051, 1.4749973662947051, 1.4749974029526554, 1.4749974390474891, 1.4749974448586518, 1.4749974448586518, 1.4749975619523408, 1.4749976032861702, 1.4749976032861702, 1.4749976032861702, 1.4749976032861702, 1.4749976315561386, 1.4749976812325405, 1.4749977609542453, 1.4749977609542453, 1.4749977609542453, 1.4749977609542453, 1.4749977701145103, 1.4749977701145103, 1.4749978133545707, 34.662138931739186, 36.55489907867128, 144.23472665313955, 111.94382602895386, 38.361888911350086, 146.56586762063728, 25.05463206268092, 33.584696296654634, 26.151131368020575, 11.957174859192994, 33.32298551635261, 39.148078418217324, 77.95352738801492, 28.231011019008697, 1019.5518383306919, 8.231174597404486, 5.055822474633499, 25.43970816757484, 4.5619455882443525, 18.4238683586088, 4.527699072344961, 87.09689242443419, 20.165853925944425, 8.813733910614648, 4.461643785044597, 86.920151037142, 27.059280128005557, 4.481705926538865, 16.223542494139313, 10.824694679190355], \"Category\": [\"Default\", \"Default\", \"Default\", \"Default\", \"Default\", \"Default\", \"Default\", \"Default\", \"Default\", \"Default\", \"Default\", \"Default\", \"Default\", \"Default\", \"Default\", \"Default\", \"Default\", \"Default\", \"Default\", \"Default\", \"Default\", \"Default\", \"Default\", \"Default\", \"Default\", \"Default\", \"Default\", \"Default\", \"Default\", \"Default\", \"Topic1\", \"Topic1\", \"Topic1\", \"Topic1\", \"Topic1\", \"Topic1\", \"Topic1\", \"Topic1\", \"Topic1\", \"Topic1\", \"Topic1\", \"Topic1\", \"Topic1\", \"Topic1\", \"Topic1\", \"Topic1\", \"Topic1\", \"Topic1\", \"Topic1\", \"Topic1\", \"Topic1\", \"Topic1\", \"Topic1\", \"Topic1\", \"Topic1\", \"Topic1\", \"Topic1\", \"Topic1\", \"Topic1\", \"Topic1\", \"Topic1\", \"Topic1\", \"Topic1\", \"Topic1\", \"Topic2\", \"Topic2\", \"Topic2\", \"Topic2\", \"Topic2\", \"Topic2\", \"Topic2\", \"Topic2\", \"Topic2\", \"Topic2\", \"Topic2\", \"Topic2\", \"Topic2\", \"Topic2\", \"Topic2\", \"Topic2\", \"Topic2\", \"Topic2\", \"Topic2\", \"Topic2\", \"Topic2\", \"Topic2\", \"Topic2\", \"Topic2\", \"Topic2\", \"Topic2\", \"Topic2\", \"Topic2\", \"Topic2\", \"Topic2\", \"Topic2\", \"Topic2\", \"Topic2\", \"Topic2\", \"Topic2\", \"Topic2\", \"Topic2\", \"Topic2\", \"Topic2\", \"Topic2\", \"Topic2\", \"Topic2\", \"Topic2\", \"Topic2\", \"Topic2\", \"Topic2\", \"Topic2\", \"Topic2\", \"Topic2\", \"Topic2\", \"Topic2\", \"Topic3\", \"Topic3\", \"Topic3\", \"Topic3\", \"Topic3\", \"Topic3\", \"Topic3\", \"Topic3\", \"Topic3\", \"Topic3\", \"Topic3\", \"Topic3\", \"Topic3\", \"Topic3\", \"Topic3\", \"Topic3\", \"Topic3\", \"Topic3\", \"Topic3\", \"Topic3\", \"Topic3\", \"Topic3\", \"Topic3\", \"Topic3\", \"Topic3\", \"Topic3\", \"Topic3\", \"Topic3\", \"Topic3\", \"Topic3\", \"Topic3\", \"Topic3\", \"Topic3\", \"Topic3\", \"Topic3\", \"Topic3\", \"Topic3\", \"Topic3\", \"Topic3\", \"Topic3\", \"Topic3\", \"Topic3\", \"Topic3\", \"Topic3\", \"Topic3\", \"Topic4\", \"Topic4\", \"Topic4\", \"Topic4\", \"Topic4\", \"Topic4\", \"Topic4\", \"Topic4\", \"Topic4\", \"Topic4\", \"Topic4\", \"Topic4\", \"Topic4\", \"Topic4\", \"Topic4\", \"Topic4\", \"Topic4\", \"Topic4\", \"Topic4\", \"Topic4\", \"Topic4\", \"Topic4\", \"Topic4\", \"Topic4\", \"Topic4\", \"Topic4\", \"Topic4\", \"Topic4\", \"Topic4\", \"Topic4\", \"Topic4\", \"Topic4\", \"Topic4\", \"Topic4\", \"Topic4\", \"Topic4\", \"Topic4\", \"Topic4\", \"Topic4\", \"Topic4\", \"Topic4\", \"Topic4\", \"Topic4\", \"Topic4\", \"Topic5\", \"Topic5\", \"Topic5\", \"Topic5\", \"Topic5\", \"Topic5\", \"Topic5\", \"Topic5\", \"Topic5\", \"Topic5\", \"Topic5\", \"Topic5\", \"Topic5\", \"Topic5\", \"Topic5\", \"Topic5\", \"Topic5\", \"Topic5\", \"Topic5\", \"Topic5\", \"Topic5\", \"Topic5\", \"Topic5\", \"Topic5\", \"Topic5\", \"Topic5\", \"Topic5\", \"Topic5\", \"Topic5\", \"Topic5\", \"Topic5\", \"Topic5\", \"Topic5\", \"Topic5\", \"Topic5\", \"Topic5\", \"Topic5\", \"Topic5\", \"Topic5\", \"Topic5\", \"Topic5\", \"Topic6\", \"Topic6\", \"Topic6\", \"Topic6\", \"Topic6\", \"Topic6\", \"Topic6\", \"Topic6\", \"Topic6\", \"Topic6\", \"Topic6\", \"Topic6\", \"Topic6\", \"Topic6\", \"Topic6\", \"Topic6\", \"Topic6\", \"Topic6\", \"Topic6\", \"Topic6\", \"Topic6\", \"Topic6\", \"Topic6\", \"Topic6\", \"Topic6\", \"Topic6\", \"Topic6\", \"Topic6\", \"Topic6\", \"Topic6\", \"Topic6\", \"Topic6\", \"Topic6\", \"Topic6\", \"Topic6\", \"Topic6\", \"Topic6\", \"Topic6\", \"Topic6\", \"Topic6\", \"Topic7\", \"Topic7\", \"Topic7\", \"Topic7\", \"Topic7\", \"Topic7\", \"Topic7\", \"Topic7\", \"Topic7\", \"Topic7\", \"Topic7\", \"Topic7\", \"Topic7\", \"Topic7\", \"Topic7\", \"Topic7\", \"Topic7\", \"Topic7\", \"Topic7\", \"Topic7\", \"Topic7\", \"Topic7\", \"Topic7\", \"Topic7\", \"Topic7\", \"Topic7\", \"Topic7\", \"Topic7\", \"Topic7\", \"Topic7\", \"Topic7\", \"Topic7\", \"Topic7\", \"Topic7\", \"Topic7\", \"Topic7\", \"Topic7\", \"Topic7\", \"Topic7\", \"Topic7\", \"Topic7\", \"Topic7\", \"Topic8\", \"Topic8\", \"Topic8\", \"Topic8\", \"Topic8\", \"Topic8\", \"Topic8\", \"Topic8\", \"Topic8\", \"Topic8\", \"Topic8\", \"Topic8\", \"Topic8\", \"Topic8\", \"Topic8\", \"Topic8\", \"Topic8\", \"Topic8\", \"Topic8\", \"Topic8\", \"Topic8\", \"Topic8\", \"Topic8\", \"Topic8\", \"Topic8\", \"Topic8\", \"Topic8\", \"Topic8\", \"Topic8\", \"Topic8\", \"Topic8\", \"Topic8\", \"Topic8\", \"Topic8\", \"Topic8\", \"Topic8\", \"Topic8\", \"Topic8\", \"Topic8\", \"Topic8\", \"Topic8\", \"Topic8\", \"Topic8\", \"Topic9\", \"Topic9\", \"Topic9\", \"Topic9\", \"Topic9\", \"Topic9\", \"Topic9\", \"Topic9\", \"Topic9\", \"Topic9\", \"Topic9\", \"Topic9\", \"Topic9\", \"Topic9\", \"Topic9\", \"Topic9\", \"Topic9\", \"Topic9\", \"Topic9\", \"Topic9\", \"Topic9\", \"Topic9\", \"Topic9\", \"Topic9\", \"Topic9\", \"Topic9\", \"Topic9\", \"Topic9\", \"Topic9\", \"Topic9\", \"Topic9\", \"Topic9\", \"Topic9\", \"Topic9\", \"Topic9\", \"Topic9\", \"Topic9\", \"Topic9\", \"Topic9\", \"Topic9\", \"Topic9\", \"Topic9\", \"Topic9\", \"Topic9\", \"Topic9\", \"Topic10\", \"Topic10\", \"Topic10\", \"Topic10\", \"Topic10\", \"Topic10\", \"Topic10\", \"Topic10\", \"Topic10\", \"Topic10\", \"Topic10\", \"Topic10\", \"Topic10\", \"Topic10\", \"Topic10\", \"Topic10\", \"Topic10\", \"Topic10\", \"Topic10\", \"Topic10\", \"Topic10\", \"Topic10\", \"Topic10\", \"Topic10\", \"Topic10\", \"Topic10\", \"Topic10\", \"Topic10\", \"Topic10\", \"Topic10\", \"Topic10\", \"Topic10\", \"Topic10\", \"Topic10\", \"Topic10\", \"Topic10\", \"Topic10\", \"Topic11\", \"Topic11\", \"Topic11\", \"Topic11\", \"Topic11\", \"Topic11\", \"Topic11\", \"Topic11\", \"Topic11\", \"Topic11\", \"Topic11\", \"Topic11\", \"Topic11\", \"Topic11\", \"Topic11\", \"Topic11\", \"Topic11\", \"Topic11\", \"Topic11\", \"Topic11\", \"Topic11\", \"Topic11\", \"Topic11\", \"Topic11\", \"Topic11\", \"Topic11\", \"Topic11\", \"Topic11\", \"Topic11\", \"Topic11\", \"Topic11\", \"Topic11\", \"Topic11\", \"Topic11\", \"Topic11\", \"Topic11\", \"Topic11\", \"Topic11\", \"Topic11\", \"Topic12\", \"Topic12\", \"Topic12\", \"Topic12\", \"Topic12\", \"Topic12\", \"Topic12\", \"Topic12\", \"Topic12\", \"Topic12\", \"Topic12\", \"Topic12\", \"Topic12\", \"Topic12\", \"Topic12\", \"Topic12\", \"Topic12\", \"Topic12\", \"Topic12\", \"Topic12\", \"Topic12\", \"Topic12\", \"Topic12\", \"Topic12\", \"Topic12\", \"Topic12\", \"Topic12\", \"Topic12\", \"Topic12\", \"Topic12\", \"Topic12\", \"Topic12\", \"Topic12\", \"Topic12\", \"Topic12\", \"Topic12\", \"Topic12\", \"Topic12\", \"Topic12\", \"Topic12\", \"Topic12\", \"Topic12\", \"Topic12\", \"Topic12\", \"Topic13\", \"Topic13\", \"Topic13\", \"Topic13\", \"Topic13\", \"Topic13\", \"Topic13\", \"Topic13\", \"Topic13\", \"Topic13\", \"Topic13\", \"Topic13\", \"Topic13\", \"Topic13\", \"Topic13\", \"Topic13\", \"Topic13\", \"Topic13\", \"Topic13\", \"Topic13\", \"Topic13\", \"Topic13\", \"Topic13\", \"Topic13\", \"Topic13\", \"Topic13\", \"Topic13\", \"Topic13\", \"Topic13\", \"Topic13\", \"Topic13\", \"Topic13\", \"Topic13\", \"Topic13\", \"Topic13\", \"Topic13\", \"Topic13\", \"Topic13\", \"Topic13\", \"Topic13\", \"Topic13\", \"Topic13\", \"Topic14\", \"Topic14\", \"Topic14\", \"Topic14\", \"Topic14\", \"Topic14\", \"Topic14\", \"Topic14\", \"Topic14\", \"Topic14\", \"Topic14\", \"Topic14\", \"Topic14\", \"Topic14\", \"Topic14\", \"Topic14\", \"Topic14\", \"Topic14\", \"Topic14\", \"Topic14\", \"Topic14\", \"Topic14\", \"Topic14\", \"Topic14\", \"Topic14\", \"Topic14\", \"Topic14\", \"Topic14\", \"Topic14\", \"Topic14\", \"Topic14\", \"Topic14\", \"Topic14\", \"Topic14\", \"Topic14\", \"Topic15\", \"Topic15\", \"Topic15\", \"Topic15\", \"Topic15\", \"Topic15\", \"Topic15\", \"Topic15\", \"Topic15\", \"Topic15\", \"Topic15\", \"Topic15\", \"Topic15\", \"Topic15\", \"Topic15\", \"Topic15\", \"Topic15\", \"Topic15\", \"Topic15\", \"Topic15\", \"Topic15\", \"Topic15\", \"Topic15\", \"Topic15\", \"Topic15\", \"Topic15\", \"Topic15\", \"Topic15\", \"Topic15\", \"Topic15\", \"Topic15\", \"Topic15\", \"Topic15\", \"Topic15\", \"Topic16\", \"Topic16\", \"Topic16\", \"Topic16\", \"Topic16\", \"Topic16\", \"Topic16\", \"Topic16\", \"Topic16\", \"Topic16\", \"Topic16\", \"Topic16\", \"Topic16\", \"Topic16\", \"Topic16\", \"Topic16\", \"Topic16\", \"Topic16\", \"Topic16\", \"Topic16\", \"Topic16\", \"Topic16\", \"Topic16\", \"Topic16\", \"Topic16\", \"Topic16\", \"Topic16\", \"Topic16\", \"Topic16\", \"Topic16\", \"Topic16\", \"Topic16\", \"Topic16\", \"Topic16\", \"Topic16\", \"Topic16\", \"Topic16\", \"Topic16\", \"Topic16\", \"Topic16\", \"Topic17\", \"Topic17\", \"Topic17\", \"Topic17\", \"Topic17\", \"Topic17\", \"Topic17\", \"Topic17\", \"Topic17\", \"Topic17\", \"Topic17\", \"Topic17\", \"Topic17\", \"Topic17\", \"Topic17\", \"Topic17\", \"Topic17\", \"Topic17\", \"Topic17\", \"Topic17\", \"Topic17\", \"Topic17\", \"Topic17\", \"Topic17\", \"Topic17\", \"Topic17\", \"Topic17\", \"Topic17\", \"Topic17\", \"Topic17\", \"Topic17\", \"Topic17\", \"Topic17\", \"Topic17\", \"Topic17\", \"Topic17\", \"Topic17\", \"Topic17\", \"Topic17\", \"Topic17\", \"Topic17\", \"Topic17\", \"Topic17\", \"Topic17\", \"Topic17\", \"Topic17\", \"Topic17\", \"Topic17\", \"Topic17\", \"Topic17\", \"Topic17\", \"Topic17\", \"Topic17\", \"Topic17\", \"Topic17\", \"Topic17\", \"Topic17\", \"Topic17\", \"Topic17\", \"Topic17\", \"Topic17\", \"Topic17\", \"Topic17\", \"Topic18\", \"Topic18\", \"Topic18\", \"Topic18\", \"Topic18\", \"Topic18\", \"Topic18\", \"Topic18\", \"Topic18\", \"Topic18\", \"Topic18\", \"Topic18\", \"Topic18\", \"Topic18\", \"Topic18\", \"Topic18\", \"Topic18\", \"Topic18\", \"Topic18\", \"Topic18\", \"Topic18\", \"Topic18\", \"Topic18\", \"Topic18\", \"Topic18\", \"Topic18\", \"Topic18\", \"Topic18\", \"Topic18\", \"Topic18\", \"Topic18\", \"Topic18\", \"Topic18\", \"Topic18\", \"Topic18\", \"Topic18\", \"Topic18\", \"Topic18\", \"Topic18\", \"Topic18\", \"Topic18\", \"Topic18\", \"Topic18\", \"Topic18\", \"Topic18\", \"Topic18\", \"Topic18\", \"Topic18\", \"Topic18\", \"Topic18\", \"Topic18\", \"Topic18\", \"Topic18\", \"Topic18\", \"Topic18\", \"Topic18\", \"Topic18\", \"Topic18\", \"Topic18\", \"Topic18\", \"Topic18\", \"Topic18\", \"Topic18\", \"Topic18\", \"Topic18\", \"Topic18\", \"Topic18\", \"Topic18\", \"Topic18\", \"Topic18\", \"Topic19\", \"Topic19\", \"Topic19\", \"Topic19\", \"Topic19\", \"Topic19\", \"Topic19\", \"Topic19\", \"Topic19\", \"Topic19\", \"Topic19\", \"Topic19\", \"Topic19\", \"Topic19\", \"Topic19\", \"Topic19\", \"Topic19\", \"Topic19\", \"Topic19\", \"Topic19\", \"Topic19\", \"Topic19\", \"Topic19\", \"Topic19\", \"Topic19\", \"Topic19\", \"Topic19\", \"Topic19\", \"Topic19\", \"Topic19\", \"Topic19\", \"Topic19\", \"Topic19\", \"Topic19\", \"Topic19\", \"Topic19\", \"Topic19\", \"Topic19\", \"Topic19\", \"Topic19\", \"Topic19\", \"Topic19\", \"Topic19\", \"Topic19\", \"Topic19\", \"Topic19\", \"Topic19\", \"Topic19\", \"Topic19\", \"Topic19\", \"Topic19\", \"Topic19\", \"Topic19\", \"Topic19\", \"Topic19\", \"Topic19\", \"Topic19\", \"Topic19\", \"Topic19\", \"Topic19\", \"Topic19\", \"Topic19\", \"Topic19\", \"Topic19\", \"Topic19\", \"Topic19\", \"Topic19\", \"Topic19\", \"Topic19\", \"Topic19\", \"Topic20\", \"Topic20\", \"Topic20\", \"Topic20\", \"Topic20\", \"Topic20\", \"Topic20\", \"Topic20\", \"Topic20\", \"Topic20\", \"Topic20\", \"Topic20\", \"Topic20\", \"Topic20\", \"Topic20\", \"Topic20\", \"Topic20\", \"Topic20\", \"Topic20\", \"Topic20\", \"Topic20\", \"Topic20\", \"Topic20\", \"Topic20\", \"Topic20\", \"Topic20\", \"Topic20\", \"Topic20\", \"Topic20\", \"Topic20\", \"Topic20\", \"Topic20\", \"Topic20\", \"Topic20\", \"Topic20\", \"Topic20\", \"Topic20\", \"Topic20\", \"Topic20\", \"Topic20\", \"Topic20\", \"Topic20\", \"Topic20\", \"Topic20\", \"Topic20\", \"Topic20\", \"Topic20\", \"Topic20\", \"Topic20\", \"Topic20\", \"Topic20\", \"Topic20\", \"Topic20\", \"Topic20\", \"Topic20\", \"Topic20\", \"Topic20\", \"Topic20\", \"Topic20\", \"Topic20\"], \"logprob\": [30.0, 29.0, 28.0, 27.0, 26.0, 25.0, 24.0, 23.0, 22.0, 21.0, 20.0, 19.0, 18.0, 17.0, 16.0, 15.0, 14.0, 13.0, 12.0, 11.0, 10.0, 9.0, 8.0, 7.0, 6.0, 5.0, 4.0, 3.0, 2.0, 1.0, -2.518699884414673, -3.8601999282836914, -3.8450000286102295, -3.846299886703491, -3.859800100326538, -2.1963000297546387, -1.9996000528335571, -3.8577001094818115, -3.858299970626831, -3.8534998893737793, -3.038599967956543, -3.2815001010894775, -2.676800012588501, -3.867799997329712, -1.6841000318527222, -3.0457000732421875, -2.680000066757202, -8.035499572753906, -3.8559000492095947, -8.186400413513184, -8.846400260925293, -8.8548002243042, -8.953300476074219, -3.8431999683380127, -9.321200370788574, -11.054200172424316, -11.071800231933594, -11.11709976196289, -11.292699813842773, -9.381500244140625, -7.797100067138672, -9.671500205993652, -9.746999740600586, -10.442299842834473, -3.462599992752075, -2.365799903869629, -4.1682000160217285, -4.073500156402588, -4.339700222015381, -4.64109992980957, -4.601500034332275, -4.389699935913086, -4.457300186157227, -4.972799777984619, -4.9191999435424805, -5.027699947357178, -5.018499851226807, -5.025199890136719, -5.106900215148926, -5.031300067901611, -5.165800094604492, -4.9217000007629395, -5.211599826812744, -4.896399974822998, -3.8942999839782715, -5.429800033569336, -5.502699851989746, -5.440299987792969, -5.576300144195557, -5.484300136566162, -5.523200035095215, -5.51800012588501, -5.1092000007629395, -5.639800071716309, -5.28849983215332, -4.140500068664551, -3.9583001136779785, -5.398900032043457, -4.159299850463867, -3.827199935913086, -4.042600154876709, -4.450399875640869, -3.5452001094818115, -3.743799924850464, -4.855400085449219, -3.121799945831299, -4.210400104522705, -4.165800094604492, -4.694200038909912, -4.469900131225586, -3.7892000675201416, -4.867300033569336, -4.888999938964844, -4.872600078582764, -4.893700122833252, -1.4218000173568726, -2.6386001110076904, -3.234499931335449, -3.0315001010894775, -3.623300075531006, -3.771699905395508, -4.199100017547607, -4.252799987792969, -4.372499942779541, -4.530700206756592, -4.616099834442139, -4.859099864959717, -4.914100170135498, -4.914100170135498, -4.919400215148926, -4.789299964904785, -5.342100143432617, -5.342100143432617, -4.3632001876831055, -5.600800037384033, -5.639800071716309, -5.678500175476074, -5.754700183868408, -3.6458001136779785, -5.872099876403809, -5.916900157928467, -5.920300006866455, -5.956999778747559, -6.55620002746582, -6.55620002746582, -4.676000118255615, -4.895500183105469, -4.1066999435424805, -4.82289981842041, -4.677499771118164, -4.64109992980957, -4.11959981918335, -4.622499942779541, -4.40500020980835, -4.599800109863281, -4.886099815368652, -3.986599922180176, -3.9969000816345215, -4.851600170135498, -4.750400066375732, -3.778599977493286, -3.0608999729156494, -3.411799907684326, -4.043399810791016, -4.132400035858154, -4.151500225067139, -4.2459001541137695, -4.413300037384033, -4.642899990081787, -4.600900173187256, -4.666100025177002, -3.7785000801086426, -4.82859992980957, -4.9156999588012695, -4.9496002197265625, -5.033299922943115, -5.081200122833252, -5.083799839019775, -5.151100158691406, -4.9882001876831055, -4.186500072479248, -4.529799938201904, -5.432700157165527, -4.093200206756592, -4.480899810791016, -6.246500015258789, -6.361199855804443, -5.089799880981445, -3.4791998863220215, -6.801199913024902, -5.00600004196167, -4.771999835968018, -2.7395999431610107, -3.386399984359741, -4.444699764251709, -4.307600021362305, -2.6637001037597656, -4.472400188446045, -4.095300197601318, -4.567999839782715, -4.738100051879883, -4.497900009155273, -3.5320000648498535, -4.707600116729736, -3.2725000381469727, -3.6201999187469482, -4.122099876403809, -4.219099998474121, -4.291200160980225, -4.367000102996826, -4.356100082397461, -4.236700057983398, -4.276400089263916, -4.439499855041504, -4.49370002746582, -4.466700077056885, -4.527500152587891, -4.216899871826172, -4.5725998878479, -2.7355000972747803, -4.2642998695373535, -4.904300212860107, -2.9983999729156494, -5.01170015335083, -5.109899997711182, -5.141300201416016, -5.135499954223633, -5.146599769592285, -5.173500061035156, -5.175899982452393, -5.175899982452393, -5.210299968719482, -5.215400218963623, -4.36460018157959, -4.396399974822998, -4.054200172424316, -3.6984000205993652, -3.9161999225616455, -4.562099933624268, -4.6666998863220215, -4.5782999992370605, -3.0174999237060547, -4.8734002113342285, -4.476900100708008, -4.559299945831299, -3.424499988555908, -3.7929000854492188, -3.9017999172210693, -3.4463999271392822, -3.5999999046325684, -3.804800033569336, -4.353300094604492, -4.410200119018555, -4.536099910736084, -4.203000068664551, -4.5233001708984375, -4.848400115966797, -4.833799839019775, -5.011000156402588, -5.051599979400635, -4.978799819946289, -4.972599983215332, -5.008600234985352, -4.343400001525879, -5.0777997970581055, -2.8220999240875244, -3.884000062942505, -3.7492001056671143, -3.989799976348877, -4.987400054931641, -4.562600135803223, -3.3661999702453613, -3.5906999111175537, -5.361000061035156, -4.493899822235107, -3.8629000186920166, -4.0208001136779785, -3.1361000537872314, -4.339000225067139, -4.660699844360352, -4.646599769592285, -4.69890022277832, -4.75570011138916, -4.577099800109863, -4.29610013961792, -2.8554000854492188, -3.7328999042510986, -4.002600193023682, -4.113500118255615, -4.250800132751465, -4.280399799346924, -4.365200042724609, -4.400599956512451, -4.401899814605713, -4.420499801635742, -4.347400188446045, -4.649899959564209, -4.649899959564209, -4.650000095367432, -3.8050999641418457, -3.7304999828338623, -4.3557000160217285, -3.368499994277954, -4.018199920654297, -4.404099941253662, -4.24459981918335, -6.126999855041504, -8.869400024414062, -8.869400024414062, -8.869400024414062, -8.869400024414062, -8.869400024414062, -8.869500160217285, -8.869500160217285, -8.869600296020508, -5.342299938201904, -3.3935999870300293, -2.577699899673462, -2.0169999599456787, -6.4721999168396, -3.698699951171875, -7.186200141906738, -5.985899925231934, -4.34089994430542, -4.063300132751465, -4.408299922943115, -4.324399948120117, -3.3245999813079834, -3.7291998863220215, -3.729300022125244, -3.7293999195098877, -3.7295000553131104, -3.608599901199341, -3.751699924468994, -3.368000030517578, -3.8824000358581543, -3.2467000484466553, -4.155600070953369, -4.118899822235107, -4.206299781799316, -3.7221999168395996, -4.347400188446045, -4.365499973297119, -4.419600009918213, -4.4197998046875, -4.419899940490723, -4.419899940490723, -4.419899940490723, -4.420100212097168, -4.420199871063232, -4.420199871063232, -4.420400142669678, -4.420400142669678, -4.420400142669678, -4.420499801635742, -4.420599937438965, -4.4207000732421875, -3.335700035095215, -3.724100112915039, -4.406499862670898, -4.241799831390381, -3.450900077819824, -3.4291000366210938, -4.2093000411987305, -4.34660005569458, -4.412300109863281, -4.254799842834473, -4.292600154876709, -4.286200046539307, -4.3653998374938965, -3.620699882507324, -3.8241000175476074, -3.7446000576019287, -4.050099849700928, -4.080900192260742, -4.084700107574463, -4.129199981689453, -4.129199981689453, -4.205599784851074, -4.286799907684326, -4.475200176239014, -4.493500232696533, -4.589000225067139, -4.64739990234375, -4.821700096130371, -5.0131001472473145, -5.021299839019775, -5.000199794769287, -3.4554998874664307, -5.138400077819824, -5.1407999992370605, -5.174699783325195, -5.153600215911865, -4.9369001388549805, -5.078800201416016, -5.309599876403809, -5.309599876403809, -5.309599876403809, -5.309599876403809, -5.309599876403809, -5.041399955749512, -3.7959001064300537, -5.2083001136779785, -3.132200002670288, -4.175300121307373, -3.6875, -2.8754000663757324, -4.054699897766113, -4.540999889373779, -4.45959997177124, -4.534200191497803, -4.539000034332275, -4.569499969482422, -3.7160000801086426, -4.920499801635742, -3.067699909210205, -3.1882998943328857, -3.5141000747680664, -3.5129001140594482, -3.526900053024292, -3.5211000442504883, -3.539299964904785, -3.7525999546051025, -3.824700117111206, -4.039299964904785, -4.046299934387207, -4.487599849700928, -4.50439977645874, -4.508399963378906, -4.5630998611450195, -4.582799911499023, -4.647299766540527, -4.507599830627441, -4.710999965667725, -1.8871999979019165, -3.580199956893921, -3.9500999450683594, -4.908100128173828, -3.33870005607605, -6.875999927520752, -6.936200141906738, -4.299699783325195, -6.861599922180176, -7.136199951171875, -4.3292999267578125, -4.089000225067139, -3.8822999000549316, -4.111100196838379, -6.5269999504089355, -5.53380012512207, -5.257999897003174, -5.11359977722168, -2.678100109100342, -3.9893999099731445, -4.638999938964844, -4.111100196838379, -3.4279000759124756, -4.466400146484375, -3.367300033569336, -5.379000186920166, -4.497900009155273, -4.916200160980225, -3.9361000061035156, -2.6919000148773193, -2.1914000511169434, -4.515399932861328, -3.755000114440918, -4.8460001945495605, -3.848099946975708, -5.8968000411987305, -4.701399803161621, -6.051400184631348, -2.6377999782562256, -4.201399803161621, -5.551400184631348, -6.540500164031982, -7.685699939727783, -6.161799907684326, -7.9166998863220215, -7.95389986038208, -7.959499835968018, -7.963200092315674, -6.987800121307373, -6.477799892425537, -4.395299911499023, -6.406700134277344, -5.56820011138916, -5.290200233459473, -5.9197001457214355, -5.884300231933594, -5.697000026702881, -3.824700117111206, -3.9094998836517334, -3.8763999938964844, -3.937700033187866, -3.968100070953369, -3.901099920272827, -4.00029993057251, -4.426700115203857, -4.451000213623047, -4.550899982452393, -3.5195999145507812, -4.864999771118164, -4.897500038146973, -4.91379976272583, -2.6077001094818115, -4.6149001121521, -5.553299903869629, -5.683499813079834, -5.821400165557861, -5.828400135040283, -5.837900161743164, -5.861499786376953, -4.248600006103516, -3.981600046157837, -5.888400077819824, -5.896699905395508, -5.917900085449219, -5.993100166320801, -6.0121002197265625, -6.042399883270264, -3.6728999614715576, -3.8327999114990234, -3.863800048828125, -4.579599857330322, -3.5201001167297363, -4.600100040435791, -4.620500087738037, -4.657800197601318, -4.676799774169922, -4.735099792480469, -3.8215999603271484, -4.803299903869629, -4.60290002822876, -4.863699913024902, -3.141400098800659, -3.5208001136779785, -3.725800037384033, -4.093400001525879, -4.058800220489502, -3.164599895477295, -4.200300216674805, -4.268099784851074, -3.243499994277954, -3.985599994659424, -4.020100116729736, -4.847799777984619, -5.25029993057251, -3.694999933242798, -3.8427999019622803, -5.078999996185303, -7.1570000648498535, -4.197400093078613, -7.3572998046875, -4.7855000495910645, -6.441100120544434, -7.413899898529053, -5.733699798583984, -8.158599853515625, -8.158699989318848, -8.158699989318848, -8.158699989318848, -8.15880012512207, -8.15880012512207, -8.15880012512207, -5.091599941253662, -6.684100151062012, -4.7846999168396, -6.345099925994873, -5.692500114440918, -7.662399768829346, -7.221499919891357, -5.113699913024902, -5.634300231933594, -4.231599807739258, -6.0081000328063965, -6.498600006103516, -3.132699966430664, -3.3875999450683594, -3.7367000579833984, -3.8048999309539795, -3.8566999435424805, -4.127399921417236, -4.207900047302246, -4.235199928283691, -4.320899963378906, -4.38539981842041, -4.421299934387207, -4.422699928283691, -4.406799793243408, -3.8397998809814453, -5.066699981689453, -5.128200054168701, -5.298099994659424, -5.317399978637695, -5.427599906921387, -5.761899948120117, -4.464300155639648, -4.123499870300293, -3.6029000282287598, -3.8183000087738037, -3.6844000816345215, -3.9540998935699463, -4.5507001876831055, -4.253600120544434, -8.245400428771973, -8.245499610900879, -8.245499610900879, -5.004799842834473, -8.245400428771973, -6.58620023727417, -4.762499809265137, -3.343899965286255, -3.011399984359741, -3.4138998985290527, -3.52239990234375, -3.833400011062622, -3.967600107192993, -4.039299964904785, -4.0447998046875, -4.050000190734863, -4.054599761962891, -4.639599800109863, -4.674799919128418, -4.6819000244140625, -4.974800109863281, -4.98799991607666, -5.077099800109863, -5.077899932861328, -5.083799839019775, -5.096499919891357, -5.135700225830078, -5.15339994430542, -5.160999774932861, -5.356500148773193, -4.922999858856201, -5.393599987030029, -3.469599962234497, -3.3417000770568848, -4.126500129699707, -4.3958001136779785, -4.271399974822998, -3.102299928665161, -4.418300151824951, -4.597599983215332, -5.1041998863220215, -3.296999931335449, -3.0406999588012695, -4.245500087738037, -4.26200008392334, -3.5501999855041504, -4.2683000564575195, -4.447400093078613, -4.684299945831299, -2.934999942779541, -4.779900074005127, -3.0947000980377197, -2.84660005569458, -4.940299987792969, -5.00629997253418, -4.474800109863281, -6.838799953460693, -7.060999870300293, -7.123700141906738, -7.30810022354126, -7.3119001388549805, -7.442200183868408, -4.283699989318848, -4.564899921417236, -7.497000217437744, -7.519499778747559, -7.563399791717529, -7.505899906158447, -7.660799980163574, -4.893499851226807, -7.682799816131592, -7.008299827575684, -6.213500022888184, -5.701300144195557, -6.045000076293945, -6.558000087738037, -6.938300132751465, -6.77400016784668, -6.642300128936768, -6.937300205230713, -7.023799896240234, -2.984600067138672, -4.013800144195557, -2.602099895477295, -3.917099952697754, -5.478499889373779, -7.077400207519531, -7.257900238037109, -7.276800155639648, -7.350299835205078, -7.267300128936768, -7.828999996185303, -7.82919979095459, -7.82919979095459, -7.82919979095459, -7.82919979095459, -7.82919979095459, -7.82919979095459, -7.8292999267578125, -7.8292999267578125, -7.8292999267578125, -7.8292999267578125, -7.8292999267578125, -7.8292999267578125, -7.8292999267578125, -7.8292999267578125, -7.8292999267578125, -7.8292999267578125, -7.8292999267578125, -7.8292999267578125, -7.8292999267578125, -7.82919979095459, -5.774099826812744, -7.48859977722168, -7.561699867248535, -7.8292999267578125, -7.5152997970581055, -7.575799942016602, -7.8292999267578125, -6.132999897003174, -7.563300132751465, -7.581399917602539, -6.662899971008301, -7.228499889373779, -6.77810001373291, -6.7382001876831055, -6.0493998527526855, -6.827499866485596, -7.620299816131592, -6.9492998123168945, -7.63670015335083, -7.071599960327148, -6.846199989318848, -7.382299900054932, -6.263800144195557, -7.2017998695373535, -7.199699878692627, -6.769800186157227, -7.178599834442139, -7.038099765777588, -7.0929999351501465, -7.132500171661377, -7.210000038146973, -7.3429999351501465, -3.8041999340057373, -3.0580999851226807, -5.136600017547607, -7.047699928283691, -5.842199802398682, -7.1620001792907715, -7.1809000968933105, -6.4070000648498535, -7.270400047302246, -7.271599769592285, -7.276199817657471, -7.735599994659424, -7.735599994659424, -7.735599994659424, -7.735599994659424, -7.735599994659424, -7.735599994659424, -7.735599994659424, -7.735599994659424, -7.735599994659424, -7.735599994659424, -7.735599994659424, -7.735599994659424, -7.735599994659424, -7.735599994659424, -7.735599994659424, -7.735599994659424, -7.735599994659424, -7.735599994659424, -7.735599994659424, -7.735599994659424, -7.735599994659424, -7.309299945831299, -7.735599994659424, -7.735599994659424, -7.3155999183654785, -7.735599994659424, -7.311200141906738, -7.735599994659424, -7.346199989318848, -6.045199871063232, -7.735599994659424, -6.133800029754639, -7.372399806976318, -7.3850998878479, -7.451000213623047, -7.4120001792907715, -7.414400100708008, -7.3958001136779785, -5.585599899291992, -7.420400142669678, -7.422699928283691, -7.429699897766113, -6.4653000831604, -7.434199810028076, -6.752099990844727, -6.593400001525879, -6.668499946594238, -6.271599769592285, -6.717700004577637, -5.622099876403809, -6.910099983215332, -6.762599945068359, -7.143499851226807, -6.901800155639648, -7.192500114440918, -6.823599815368652, -6.997700214385986, -7.251800060272217, -7.2494001388549805, -7.623499870300293, -7.623499870300293, -7.623499870300293, -7.623499870300293, -7.623499870300293, -7.623499870300293, -7.623499870300293, -7.623499870300293, -7.623499870300293, -7.623499870300293, -7.623499870300293, -7.623499870300293, -7.623499870300293, -7.623499870300293, -7.623499870300293, -7.623499870300293, -7.623499870300293, -7.623499870300293, -7.623499870300293, -7.623499870300293, -7.623499870300293, -7.623499870300293, -7.623499870300293, -7.623499870300293, -7.623499870300293, -7.623499870300293, -7.623499870300293, -7.623499870300293, -7.623499870300293, -7.623499870300293, -7.555500030517578, -7.532599925994873, -7.540200233459473, -7.558800220489502, -7.547299861907959, -7.334799766540527, -7.522799968719482, -7.236100196838379, -7.210100173950195, -7.382500171661377, -7.2621002197265625, -7.436500072479248, -7.506400108337402, -7.5243000984191895, -7.446300029754639, -7.445300102233887, -7.336999893188477, -7.457699775695801, -7.430300235748291, -7.517199993133545, -7.458899974822998, -7.469799995422363, -7.4517998695373535, -7.535099983215332, -7.52869987487793, -7.526500225067139, -7.534900188446045, -7.477200031280518, -7.53980016708374, -7.507699966430664, -7.383399963378906, -7.416900157928467, -7.423500061035156, -7.486499786376953, -7.485000133514404, -7.512199878692627, -7.51639986038208, -7.500699996948242, -7.506700038909912, -7.524899959564209, -7.618800163269043, -7.618800163269043, -7.618800163269043, -7.618800163269043, -7.618800163269043, -7.618800163269043, -7.618800163269043, -7.618800163269043, -7.618800163269043, -7.618800163269043, -7.618800163269043, -7.618800163269043, -7.618800163269043, -7.618800163269043, -7.618800163269043, -7.618800163269043, -7.618800163269043, -7.618800163269043, -7.618800163269043, -7.618800163269043, -7.618800163269043, -7.618800163269043, -7.618800163269043, -7.618800163269043, -7.618800163269043, -7.618800163269043, -7.618800163269043, -7.618800163269043, -7.618800163269043, -7.618800163269043, -7.615799903869629, -7.616000175476074, -7.616000175476074, -7.616000175476074, -7.616099834442139, -7.616199970245361, -7.616399765014648, -7.616499900817871, -7.616799831390381, -7.617400169372559, -7.617499828338623, -7.617499828338623, -7.617599964141846, -7.617599964141846, -7.617800235748291, -7.617800235748291, -7.617800235748291, -7.617800235748291, -7.6178998947143555, -7.6178998947143555, -7.6178998947143555, -7.6178998947143555, -7.6178998947143555, -7.6178998947143555, -7.6178998947143555, -7.618000030517578, -7.618000030517578, -7.618000030517578, -7.618100166320801, -7.618100166320801], \"loglift\": [30.0, 29.0, 28.0, 27.0, 26.0, 25.0, 24.0, 23.0, 22.0, 21.0, 20.0, 19.0, 18.0, 17.0, 16.0, 15.0, 14.0, 13.0, 12.0, 11.0, 10.0, 9.0, 8.0, 7.0, 6.0, 5.0, 4.0, 3.0, 2.0, 1.0, 0.3264, 0.3247, 0.3247, 0.3243, 0.3241, 0.3237, 0.3236, 0.3223, 0.3208, 0.3206, 0.3181, 0.3177, 0.3066, 0.2957, 0.2929, 0.2913, 0.2876, 0.2009, 0.1713, 0.1474, 0.0587, 0.0508, 0.0187, -0.0442, -0.167, -1.0061, -1.0187, -1.0576, -1.219, -1.357, -1.6023, -1.8297, -2.4479, -2.8216, 2.7985, 2.7959, 2.7941, 2.7875, 2.7812, 2.7753, 2.7749, 2.7731, 2.7668, 2.7542, 2.7534, 2.7525, 2.7517, 2.7499, 2.7479, 2.7433, 2.7425, 2.7398, 2.7246, 2.7242, 2.7239, 2.7214, 2.713, 2.7074, 2.7051, 2.7042, 2.7031, 2.6969, 2.6946, 2.6931, 2.6889, 2.6457, 2.5238, 2.6847, 2.4337, 2.301, 2.3274, 2.3782, 2.0257, 2.0109, 2.4461, 0.6772, 1.6757, 1.5729, 2.1856, 1.7892, 0.2381, 2.386, 2.368, 1.767, 2.157, 2.9713, 2.9651, 2.9584, 2.9521, 2.9515, 2.9486, 2.9346, 2.9326, 2.9287, 2.921, 2.9172, 2.9013, 2.8984, 2.8984, 2.897, 2.8694, 2.8603, 2.8603, 2.8343, 2.8291, 2.8237, 2.8182, 2.8068, 2.7957, 2.7879, 2.7802, 2.7796, 2.773, 2.6339, 2.6339, 2.6286, 2.5433, 2.4664, 2.5017, 2.3197, 2.2942, 2.0752, 2.1944, 1.9971, 2.053, 2.1726, -0.1876, -0.6599, 1.7414, -0.5868, 3.6638, 3.6569, 3.6554, 3.6483, 3.6419, 3.6388, 3.6275, 3.6202, 3.5957, 3.5868, 3.5863, 3.5857, 3.5742, 3.5622, 3.5574, 3.545, 3.5371, 3.5367, 3.5253, 3.4832, 3.4668, 3.4098, 3.2521, 3.2328, 3.2301, 3.2285, 3.1817, 3.0467, 3.0034, 2.9772, 2.9758, 2.9624, 2.8313, 2.4998, 2.7989, 2.743, 1.1353, 2.4346, 1.6593, 2.5614, 2.8697, 2.1417, -1.555, 1.7745, 3.7846, 3.7809, 3.7466, 3.7424, 3.7361, 3.7271, 3.7244, 3.7216, 3.7207, 3.7185, 3.7158, 3.7133, 3.7121, 3.7095, 3.7069, 3.6727, 3.6703, 3.6619, 3.6462, 3.6397, 3.6268, 3.6209, 3.6179, 3.6161, 3.6148, 3.6143, 3.6143, 3.6074, 3.6032, 3.5846, 3.4481, 3.333, 3.2086, 2.2786, 2.9156, 2.7023, 2.4845, -1.0405, 2.9567, 1.4092, 1.6998, 3.9906, 3.9832, 3.9746, 3.9649, 3.9497, 3.9431, 3.9214, 3.9074, 3.9058, 3.8926, 3.8899, 3.8573, 3.8493, 3.8247, 3.8161, 3.815, 3.8146, 3.8099, 3.8083, 3.7898, 3.7175, 3.5782, 3.3095, 3.2378, 3.2322, 3.1595, 3.1163, 3.0489, 3.0041, 2.9329, 2.7899, 1.9873, 0.6629, 2.1025, 2.725, 2.5654, 2.4815, 2.7341, 1.3091, -1.3127, 4.0698, 4.0268, 4.003, 3.9959, 3.9809, 3.9709, 3.967, 3.9624, 3.9622, 3.9598, 3.949, 3.9258, 3.9257, 3.9257, 3.6216, 3.3989, 3.0134, 2.7596, 2.7013, 2.4127, 2.4082, 2.0247, 1.4679, 1.4679, 1.4679, 1.4679, 1.4679, 1.4679, 1.4679, 1.4678, 1.2973, 0.6337, 0.3899, -0.04, 0.939, 0.1003, 0.9094, 0.4966, -0.7416, -1.0799, -1.0712, -1.8045, 4.099, 4.0869, 4.0866, 4.0863, 4.0861, 4.0764, 4.0608, 4.0601, 4.0591, 4.0525, 4.0432, 4.043, 4.0356, 4.0279, 4.0233, 4.0192, 4.013, 4.0125, 4.0123, 4.0122, 4.0122, 4.0118, 4.0117, 4.0116, 4.0113, 4.0112, 4.0112, 4.011, 4.0108, 4.0106, 3.7433, 3.8128, 4.0018, 3.8869, 2.9512, 2.3095, 3.3985, 3.6618, 3.9711, 3.0993, 2.7702, 1.6, 2.8622, 4.2253, 4.2078, 4.2061, 4.1841, 4.1805, 4.1768, 4.1747, 4.1747, 4.1649, 4.1537, 4.1247, 4.1216, 4.1048, 4.0939, 4.0269, 4.0125, 4.0033, 3.997, 3.9883, 3.979, 3.9784, 3.9688, 3.9604, 3.9593, 3.9419, 3.9282, 3.9282, 3.9282, 3.9281, 3.9281, 3.9254, 3.8935, 3.9231, 3.2378, 3.5394, 3.2478, 2.8632, 2.8251, 3.3256, 3.0617, 3.1217, 2.9232, 2.7552, 0.083, 1.7322, 4.3457, 4.3443, 4.3226, 4.3221, 4.3208, 4.3205, 4.3176, 4.3057, 4.2904, 4.2723, 4.27, 4.2001, 4.1963, 4.1956, 4.1835, 4.18, 4.1672, 4.1619, 4.1516, 4.1209, 4.1181, 4.1034, 4.1004, 3.8811, 3.138, 3.0919, 3.0545, 3.0202, 2.9427, 2.8827, 2.7279, 1.6886, 1.6275, 2.8435, 0.5943, -0.0963, -1.3146, 4.4492, 4.3548, 4.2465, 4.239, 4.0619, 3.932, 3.8447, 3.7266, 3.7217, 3.6062, 3.5689, 3.5672, 3.5633, 3.4908, 3.4648, 3.4413, 3.3324, 3.3116, 3.3069, 3.1792, 3.1009, 2.8776, 2.6934, 2.6856, 2.5223, 2.4564, 2.3122, 2.2731, 2.2728, 2.243, 2.2281, 2.072, 1.6128, 1.9584, 1.4906, 1.0798, 0.7331, 0.5179, -1.6697, 4.4061, 4.3959, 4.3948, 4.3925, 4.3869, 4.386, 4.3603, 4.3157, 4.3108, 4.2776, 4.2606, 4.2111, 4.2058, 4.2013, 4.1119, 4.0462, 3.9771, 3.9191, 3.8537, 3.85, 3.845, 3.8337, 3.8327, 3.8255, 3.82, 3.8158, 3.8046, 3.7648, 3.7544, 3.7378, 3.5708, 3.4242, 3.3894, 3.3273, 2.8821, 3.3045, 3.2821, 3.2412, 3.22, 2.9961, 1.7493, 2.884, 2.0153, 2.8346, 4.702, 4.6958, 4.6233, 4.6188, 4.6085, 4.597, 4.5938, 4.5736, 4.2342, 4.1044, 3.8101, 3.6044, 3.5848, 3.3021, 2.9858, 2.8701, 2.6994, 2.4472, 2.4183, 2.412, 2.361, 2.331, 2.2009, 2.1788, 2.1787, 2.1787, 2.1786, 2.1786, 2.1786, 2.1786, 2.1521, 2.0607, 1.6235, 1.5813, 1.2146, 1.9738, 1.7818, 0.7724, 0.5606, -2.2546, -0.0245, 0.5584, 4.9864, 4.9469, 4.9303, 4.9179, 4.9073, 4.8483, 4.8277, 4.8208, 4.7974, 4.7786, 4.7681, 4.7675, 4.7642, 4.5494, 4.5254, 4.497, 4.4137, 4.4038, 4.3454, 4.1499, 3.9394, 3.7209, 3.2257, 2.7548, 2.7238, 2.5855, 2.3291, 2.2289, 2.092, 2.092, 2.092, 2.058, 2.092, 1.3722, -2.7855, 5.1316, 5.1293, 5.1127, 5.0945, 5.0418, 5.0097, 4.9921, 4.9901, 4.9883, 4.9867, 4.7968, 4.7821, 4.7756, 4.651, 4.6446, 4.6002, 4.5998, 4.5968, 4.5903, 4.5701, 4.5606, 4.5567, 4.4488, 4.4475, 4.4271, 4.1862, 4.097, 3.7141, 3.4343, 3.0332, 3.0258, 2.5171, -0.7986, -3.1272, 5.2528, 5.2041, 5.0851, 5.0794, 5.068, 5.0463, 4.7787, 4.5463, 4.4507, 4.436, 4.4103, 4.3338, 4.268, 4.0993, 3.4648, 3.3692, 3.1452, 3.1034, 2.9239, 2.9165, 2.7965, 2.7953, 2.7892, 2.7423, 2.7216, 2.6755, 2.6105, 2.5715, 2.5687, 2.554, 2.1231, 1.1125, 0.3069, 0.5281, 0.3774, 0.935, 0.3533, -0.8876, 0.5525, -1.2852, 6.0377, 5.6453, 4.9192, 4.7677, 3.191, 3.1172, 2.7703, 2.7372, 2.7286, 2.6145, 2.5084, 2.5082, 2.5082, 2.5082, 2.5082, 2.5082, 2.5082, 2.5082, 2.5082, 2.5082, 2.5082, 2.5082, 2.5082, 2.5082, 2.5082, 2.5082, 2.5082, 2.5082, 2.5082, 2.5082, 2.5082, 1.9368, 2.4013, 2.408, 2.5082, 2.3262, 2.3594, 2.5082, 1.1684, 2.2786, 2.27, 1.1941, 1.78, 1.0635, 0.9601, -0.0413, 1.0075, 2.1583, 0.8984, 2.1416, 0.765, 0.0336, 1.3805, -2.4648, 0.3308, 0.2137, -2.7425, -0.3617, -1.8764, -1.5221, -1.3939, -1.0819, -0.8034, 6.104, 5.6031, 3.224, 3.0464, 2.9863, 2.8377, 2.8337, 2.764, 2.6602, 2.6476, 2.6296, 2.6019, 2.6018, 2.6018, 2.6018, 2.6018, 2.6018, 2.6018, 2.6018, 2.6018, 2.6018, 2.6018, 2.6018, 2.6018, 2.6018, 2.6018, 2.6018, 2.6018, 2.6018, 2.6018, 2.6018, 2.6018, 2.5902, 2.6018, 2.6018, 2.5884, 2.6018, 2.5823, 2.6018, 2.5287, 2.0361, 2.6018, 1.9854, 2.4558, 2.4565, 2.4608, 2.4293, 2.4261, 2.4038, 1.059, 2.3659, 2.3614, 2.3532, 1.561, 2.346, 1.6029, 1.2138, 1.176, 0.211, 0.4096, -3.6451, 0.3336, -0.3544, 1.0873, -0.4997, 1.1128, -2.7963, -1.1115, -0.4232, -0.7098, 2.714, 2.714, 2.714, 2.714, 2.714, 2.714, 2.714, 2.714, 2.714, 2.714, 2.714, 2.714, 2.714, 2.714, 2.714, 2.714, 2.714, 2.714, 2.714, 2.714, 2.714, 2.714, 2.714, 2.714, 2.714, 2.714, 2.714, 2.714, 2.714, 2.714, 2.639, 2.5463, 2.4739, 2.4693, 2.3346, 0.1979, 1.8477, -1.228, -1.6392, 0.0308, -1.5235, 0.4002, 1.3082, 1.4842, 0.4106, 0.3963, -1.2089, 0.39, -0.066, 1.2456, 0.2394, 0.3652, -0.2319, 1.3275, 1.159, 1.0904, 1.1658, 0.0441, 1.2068, 0.5506, -2.2217, -3.6179, -3.3963, -0.7687, -1.0025, -0.0842, 0.1369, -5.5237, -0.9671, -1.7702, 2.7187, 2.7187, 2.7187, 2.7187, 2.7187, 2.7187, 2.7187, 2.7187, 2.7187, 2.7187, 2.7187, 2.7187, 2.7187, 2.7187, 2.7187, 2.7187, 2.7187, 2.7187, 2.7187, 2.7187, 2.7187, 2.7187, 2.7187, 2.7187, 2.7187, 2.7187, 2.7187, 2.7187, 2.7187, 2.7187, -0.4354, -0.4887, -1.8614, -1.6079, -0.5371, -1.8775, -0.1113, -0.4045, -0.1546, 0.6274, -0.3976, -0.5588, -1.2476, -0.2319, -3.8188, 1.0004, 1.4877, -0.128, 1.5905, 0.1946, 1.598, -1.3588, 0.1042, 0.9319, 1.6127, -1.3568, -0.1899, 1.6081, 0.3216, 0.7262]}, \"token.table\": {\"Topic\": [12, 1, 9, 2, 7, 15, 3, 13, 1, 2, 12, 14, 12, 4, 5, 2, 12, 4, 5, 3, 6, 10, 11, 15, 16, 3, 1, 2, 12, 14, 1, 2, 3, 5, 9, 13, 12, 5, 5, 6, 6, 2, 9, 9, 2, 4, 14, 12, 2, 4, 5, 8, 14, 12, 2, 5, 13, 2, 11, 7, 9, 8, 10, 12, 5, 8, 15, 12, 12, 18, 5, 3, 5, 6, 8, 11, 12, 11, 3, 6, 12, 15, 1, 5, 14, 2, 15, 3, 5, 6, 10, 4, 1, 7, 3, 7, 2, 9, 12, 14, 15, 10, 6, 11, 16, 1, 1, 6, 2, 10, 3, 12, 3, 1, 9, 2, 3, 9, 17, 3, 4, 3, 6, 9, 10, 14, 10, 3, 4, 6, 8, 2, 12, 12, 2, 2, 2, 5, 6, 7, 5, 3, 9, 15, 2, 3, 4, 9, 15, 1, 3, 7, 10, 15, 11, 16, 2, 12, 2, 4, 8, 10, 12, 1, 3, 7, 1, 6, 2, 10, 3, 9, 10, 12, 15, 2, 3, 8, 9, 10, 11, 16, 9, 5, 7, 7, 2, 14, 17, 2, 3, 13, 8, 1, 3, 7, 3, 4, 8, 11, 16, 3, 6, 11, 16, 2, 2, 3, 4, 14, 2, 4, 15, 4, 5, 14, 2, 6, 16, 14, 16, 15, 8, 12, 4, 5, 4, 5, 15, 13, 5, 11, 12, 9, 2, 4, 15, 8, 5, 6, 7, 7, 10, 15, 2, 9, 10, 7, 14, 8, 8, 8, 6, 3, 13, 3, 1, 2, 5, 3, 3, 15, 4, 3, 6, 11, 16, 2, 12, 13, 14, 2, 3, 4, 6, 11, 9, 5, 1, 2, 15, 13, 1, 4, 8, 12, 10, 2, 3, 9, 9, 8, 12, 12, 12, 4, 2, 12, 1, 9, 12, 4, 6, 16, 4, 17, 4, 4, 6, 11, 16, 3, 5, 13, 4, 5, 12, 13, 4, 4, 6, 7, 10, 14, 10, 12, 1, 6, 11, 8, 5, 9, 6, 14, 1, 3, 7, 9, 5, 13, 9, 9, 2, 9, 11, 5, 8, 17, 5, 13, 7, 6, 6, 1, 2, 3, 5, 6, 9, 11, 4, 2, 4, 7, 9, 11, 3, 2, 4, 12, 4, 9, 8, 15, 10, 2, 8, 11, 16, 12, 12, 1, 2, 3, 6, 7, 9, 5, 12, 2, 12, 4, 2, 12, 2, 12, 18, 11, 16, 3, 9, 15, 3, 3, 5, 12, 2, 4, 8, 3, 2, 12, 3, 8, 3, 9, 3, 6, 3, 12, 7, 2, 3, 15, 4, 12, 4, 8, 2, 12, 3, 6, 11, 10, 15, 4, 14, 4, 6, 8, 10, 16, 2, 5, 14, 8, 1, 2, 3, 4, 6, 7, 8, 9, 10, 11, 12, 15, 8, 1, 2, 14, 6, 7, 4, 2, 8, 11, 16, 4, 8, 6, 7, 10, 14, 10, 6, 11, 9, 5, 12, 3, 2, 14, 3, 9, 3, 2, 6, 5, 13, 1, 8, 3, 6, 7, 8, 9, 11, 6, 5, 15, 14, 9, 2, 12, 1, 2, 10, 3, 5, 3, 2, 4, 5, 1, 5, 13, 5, 4, 7, 5, 13, 5, 6, 10, 2, 1, 14, 9, 8, 11, 4, 8, 10, 1, 2, 3, 4, 5, 7, 12, 13, 14, 15, 12, 2, 12, 6, 10, 11, 12, 7, 5, 13, 3, 8, 9, 15, 2, 9, 14, 8, 7, 4, 15, 4, 2, 12, 2, 4, 6, 7, 4, 15, 12, 1, 2, 3, 6, 9, 12, 14, 15, 2, 9, 1, 2, 3, 7, 14, 10, 3, 6, 7, 8, 10, 1, 2, 6, 7, 10, 15, 2, 7, 12, 2, 12, 3, 8, 11, 6, 9, 11, 16, 8, 1, 2, 3, 6, 7, 9, 10, 11, 12, 8, 15, 15, 8, 7, 8, 5, 8, 5, 6, 8, 15, 10, 11, 2, 4, 5, 13, 13, 1, 2, 3, 4, 7, 2, 12, 9, 5, 13, 12, 4, 8, 7, 16, 10, 4, 10, 15, 13, 11, 8, 5, 14, 3, 6, 12, 12, 4, 11, 12, 1, 2, 1, 2, 3, 7, 12, 12, 3, 6, 9, 15, 6, 15, 5, 10, 9, 8, 10, 2, 9, 12, 12, 10, 14, 2, 6, 11, 12, 5, 13, 14, 5, 8, 8, 5, 13, 5, 4, 3, 9, 8, 9, 4, 5, 7, 3, 4, 6, 11, 16, 12, 5, 9, 9, 3, 6, 7, 6, 9, 11, 10, 2, 9, 9, 8, 8, 10, 9, 5, 15, 5, 14, 1, 2, 3, 9, 10, 2, 5, 10, 1, 3, 7, 12, 12, 1, 7, 10, 2, 3, 4, 4, 1, 1, 1, 2, 8, 5, 2, 1, 12, 4, 11, 16, 13, 12, 2, 3, 4, 5, 6, 8, 9, 11, 12, 13, 2, 12, 2, 3, 12, 11, 1, 3, 7, 4, 3, 2, 7, 5, 12, 13, 15, 8, 12, 5, 13, 5, 13, 5, 13, 15, 2, 3, 4, 12, 14, 2], \"Freq\": [0.9109503774243218, 0.996989406789507, 0.7268208062784757, 0.8609000807115936, 0.0538062550444746, 0.0538062550444746, 0.976309454731859, 0.008717048702963028, 0.2012919747688329, 0.7380705741523873, 0.6502914502064818, 0.6335059934879476, 0.3906721287208121, 0.5723897492568849, 0.8207159979386387, 0.9406444609033088, 0.35665720218854446, 0.46937812398910417, 0.8344992605818519, 0.044665259151556676, 0.1250627256243587, 0.7503763537461522, 0.053598310981868014, 0.008933051830311334, 0.008933051830311334, 0.8817875214952471, 0.011504812038035786, 0.966404211195006, 0.011504812038035786, 0.6435097688918733, 0.13996832913371104, 0.18303550732869905, 0.4091381928523861, 0.21533589097494008, 0.03230038364624101, 0.010766794548747002, 0.3893862970092967, 0.6724992402027693, 0.9352809416863178, 0.8148037395031801, 0.7795435778848214, 0.2879622506091669, 0.6719119180880561, 0.6162689625461487, 0.6837449670631758, 0.2604742731669241, 0.8433186985049419, 0.36145879472422454, 0.4103591003221067, 0.02564744377013167, 0.2564744377013167, 0.2564744377013167, 0.05129488754026334, 0.39596602621662713, 0.9475527210179491, 0.7301463688694017, 0.1460292737738803, 0.5270641393430218, 0.3952981045072664, 0.8619394303409502, 0.7862070996116194, 0.9259107929821513, 0.7942885511294434, 0.8725277868083551, 0.09607261015801706, 0.8646534914221535, 0.7855002578166657, 0.36290398393044737, 0.48364803971360326, 0.4413516439658503, 0.8880783472778229, 0.3709231190484904, 0.0927307797621226, 0.0132472542517318, 0.2914395935380996, 0.0132472542517318, 0.19870881377597702, 0.7935845421497734, 0.8867708692111251, 0.8617069019772072, 0.40743334229293626, 0.4043953750566655, 0.6229216137277299, 0.8657687329499414, 0.694818951480149, 0.9214486819330865, 0.6959058148375571, 0.9443066611195821, 0.8792468945680149, 0.7956306036105215, 0.7813976102232547, 0.8801099408403561, 0.9990196055391901, 0.00037784402630075266, 0.645711552510785, 0.9080601485793635, 0.5504785527215477, 0.15013051437860392, 0.20017401917147187, 0.7653525282454794, 0.5624570094290359, 0.8882527041081265, 0.21920471883244144, 0.21920471883244144, 0.21920471883244144, 0.6922203494457565, 0.5101867177934405, 0.9421717066286467, 0.9139196352967776, 0.9436711863445536, 0.6457029688835346, 0.35231498233934305, 0.8817849173886617, 0.9969715554371473, 0.8350273109115349, 0.36510354138921763, 0.08113412030871503, 0.2839694210805026, 0.24340236092614506, 0.983259925658325, 0.8447263911216201, 0.13678898526492655, 0.7143424786057276, 0.045596328421642185, 0.015198776140547396, 0.07599388070273698, 0.8288476362270697, 0.060483645016221, 0.181450935048663, 0.4536273376216575, 0.2721764025729945, 0.6515897990560745, 0.3102808566933688, 0.789325639673794, 0.9060337454368467, 0.9459878864093691, 0.5357061500604402, 0.1785687166868134, 0.7620316909198263, 0.15240633818396523, 0.920208457569066, 0.9886778253709074, 0.7978978010259798, 0.7418847414131599, 0.5067559062999197, 0.025337795314995987, 0.38006692972493983, 0.07601338594498797, 0.3634728228566681, 0.9965710408517474, 0.00027295837875972265, 0.0027295837875972264, 0.8423664076125568, 0.3604606004052239, 0.39558350991051794, 0.19779175495525897, 0.6496212930761364, 0.2952824059436983, 0.44424210114021356, 0.4153952114557841, 0.005769377936885891, 0.0634631573057448, 0.0634631573057448, 0.9688139552548987, 0.028245304817927072, 0.0014122652408963537, 0.9940281797097821, 0.00430315229311594, 0.9030987649861506, 0.8815793001186525, 0.18771547372488123, 0.7133188001545486, 0.7262950025171792, 0.19367866733791442, 0.5507032006969629, 0.2865605797709355, 0.006822870946927036, 0.15692603177932182, 0.23880048314244626, 0.06140583852234332, 0.24562335408937327, 0.7313251863779694, 0.7648562802880797, 0.7422941652163252, 0.8150243282232558, 0.8150849584906992, 0.28987380826322695, 0.5797476165264539, 0.7279237817688103, 0.2161560233567843, 0.5283813904276949, 0.2161560233567843, 0.8069052834356101, 0.9934174987388011, 0.004281971977322419, 0.0014273239924408063, 0.0442305466003589, 0.44230546600358894, 0.44230546600358894, 0.16726359056816392, 0.7526861575567376, 0.1442496093459955, 0.20194945308439372, 0.3173491405611901, 0.288499218691991, 0.8695705742698948, 0.14144998925996818, 0.5972332879865324, 0.14144998925996818, 0.0942999928399788, 0.45179771940170904, 0.45179771940170904, 0.7372049679545978, 0.4333303139450272, 0.38656875675808844, 0.7529256367580723, 0.35422039944891565, 0.24795427961424096, 0.35422039944891565, 0.6457667178618651, 0.7512489012607354, 0.36480053748575014, 0.806552485605785, 0.8885355111781914, 0.4500494357603762, 0.4500494357603762, 0.6375097201554983, 0.29423525545638385, 0.8493268390966642, 0.7596681141678445, 0.5235849151519852, 0.3490566101013235, 0.8253707712790824, 0.8504357786383051, 0.37523159568084435, 0.5253242339531821, 0.5621138934552785, 0.8468230649679368, 0.9450320328209777, 0.3321753545002961, 0.6274423362783371, 0.8806375813305111, 0.899609954047199, 0.7760276925613111, 0.4922271146384369, 0.4430044031745932, 0.7673620206777346, 0.9218020825900279, 0.44295420053628676, 0.8067269430121174, 0.8657175336797229, 0.8063498905444761, 0.7796032855555933, 0.8803800771491576, 0.08803800771491575, 0.791002950459079, 0.04480207538090605, 0.8960415076181211, 0.9186080223615025, 0.9057416007395138, 0.6349863910525072, 0.29881712520117987, 0.4534190289134769, 0.8608147011391507, 0.724041740174083, 0.11345929093634988, 0.7942150365544491, 0.6290702526391426, 0.02029258879481105, 0.1623407103584884, 0.14204812156367735, 0.4367880153543362, 0.006933143100862479, 0.12479657581552463, 0.027732572403449916, 0.39518915674916133, 0.6772370832259943, 0.9139851142903467, 0.028344394849944974, 0.9353650300481842, 0.6655177595789793, 0.7656227575719213, 0.0672159841995784, 0.4032959051974704, 0.2016479525987352, 0.2016479525987352, 0.49063130381275155, 0.1332977161260712, 0.6331641515988382, 0.1999465741891068, 0.8534705043972817, 0.886471095024555, 0.4909148792645726, 0.4513410032270233, 0.3507288978310587, 0.8815760231340956, 0.9342287980319868, 0.03013641283974151, 0.9975463458785878, 0.6772377383250008, 0.6049579655406592, 0.8504538709608157, 0.2208627349171608, 0.4417254698343216, 0.6493003952249444, 0.2597201580899778, 0.3876975902922316, 0.9142246391177228, 0.1214893437341649, 0.1214893437341649, 0.6074467186708244, 0.8842565571769996, 0.09282381836061142, 0.8354143652455027, 0.3995079754412408, 0.12292553090499715, 0.36877659271499147, 0.061462765452498576, 0.8427070839999004, 0.4881075046356338, 0.3876147830930033, 0.028712206155037282, 0.014356103077518641, 0.057424412310074564, 0.7597609954690533, 0.13813836281255515, 0.039308627025627145, 0.27516038917939, 0.6289380324100343, 0.8072744012475713, 0.8272876113078897, 0.6886709920075484, 0.719288562719576, 0.3855306149564582, 0.9903995220977295, 0.0008032437324393589, 0.008032437324393588, 0.6772153346584687, 0.912354010116951, 0.0608236006744634, 0.8006124072389316, 0.850350368597627, 0.6029233259202852, 0.3463602085073979, 0.0384844676119331, 0.03679374200685663, 0.9198435501714157, 0.3440096988133072, 0.38835677565749577, 0.543699485920494, 0.9127073817071667, 0.7550126552098455, 0.7421896632490559, 0.011481465895785045, 0.3559254427693364, 0.06888879537471027, 0.11481465895785045, 0.011481465895785045, 0.03444439768735513, 0.39036984045669154, 0.9404326379778836, 0.1644825557525162, 0.3289651115050324, 0.4934476672575486, 0.44158706808376136, 0.44158706808376136, 0.8152181176548327, 0.8363210308677708, 0.09724663149625241, 0.05834797889775145, 0.4128677675523523, 0.8872221141225428, 0.8869415552249192, 0.03695589813437163, 0.7392570128030631, 0.9365285188770172, 0.8067599564082943, 0.22312932093076457, 0.44625864186152914, 0.4129018584534573, 0.37973537935381263, 0.9797334649602217, 0.0039050492403197496, 0.004338943600355277, 0.004772837960390805, 0.005640626680461861, 0.0013016830801065834, 0.4261131836285862, 0.4971320475666839, 0.6533231491150737, 0.296965067779579, 0.4169598632509533, 0.9043233738754096, 0.08221121580685542, 0.9133463141334424, 0.6341271516770645, 0.2536508606708258, 0.22413263993687574, 0.4482652798737515, 0.7185848326484933, 0.1306517877542715, 0.09798884081570364, 0.9760765651899377, 0.3547508827743433, 0.6030765007163836, 0.34960082377538987, 0.0744683351314115, 0.0744683351314115, 0.744683351314115, 0.9966868346638208, 0.8674746908250323, 0.44621357582198584, 0.24721152133133217, 0.7004326437721078, 0.1604256320619518, 0.6417025282478072, 0.8405375757945851, 0.13779304521222707, 0.832665833996079, 0.858730449544914, 0.9610809026194256, 0.66995911931326, 0.05582992660943834, 0.22331970643775337, 0.7869478066127686, 0.13887314234342976, 0.9444849288377035, 0.03632634341683475, 0.5965552259318005, 0.2982776129659003, 0.45979268273928375, 0.45979268273928375, 0.051088075859920416, 0.2577953442317016, 0.5155906884634032, 0.9371862841054551, 0.36608368334944086, 0.17160638928448121, 0.10296383357068872, 0.34321277856896243, 0.24024894499827368, 0.06864255571379248, 0.9741880554111658, 0.6724804303137113, 0.22416014343790377, 0.8065266929464624, 0.6895186429667167, 0.11573712641546596, 0.042175393524279965, 0.07552337910161762, 0.03334798557733765, 0.01863563899910045, 0.0009808231052158133, 0.014712346578237199, 0.0029424693156474397, 0.0009808231052158133, 0.0019616462104316266, 0.0019616462104316266, 0.9256442407255262, 0.07118380977133525, 0.8542057172560229, 0.8012460821668326, 0.8644845607738748, 0.07204038006448957, 0.6125547914484668, 0.05213507615909556, 0.6516884519886944, 0.20854030463638223, 0.05213507615909556, 0.8392348734137322, 0.10490435917671652, 0.9084859937514677, 0.036339439750058704, 0.8941201937647693, 0.7376993390466926, 0.4298675755095078, 0.4077572089617085, 0.48930865075405017, 0.6772186972974961, 0.807312648049263, 0.907226698056531, 0.9227177541598338, 0.8929225560631376, 0.8093363010680016, 0.9274025012929966, 0.6772221909838042, 0.9635370282839149, 0.5454765288093218, 0.39671020277041585, 0.9435039911233697, 0.02550010786819918, 0.0649703203565743, 0.877099324813753, 0.39148153666608, 0.2723349820285774, 0.18723030014464695, 0.01702093637678609, 0.06808374550714436, 0.01702093637678609, 0.777837765519302, 0.8418452981483407, 0.3505052957500445, 0.6651712122204619, 0.8137166129437094, 0.6546594267322443, 0.2975724666964747, 0.06401014000200993, 0.896141960028139, 0.4975967242369337, 0.9567569188076271, 0.862260910884189, 0.9227120019078884, 0.3336938531927455, 0.6006489357469419, 0.7415859132108086, 0.9123286626833492, 0.055983791202165685, 0.895740659234651, 0.8657794871055057, 0.8697074888697952, 0.8471810169048088, 0.6174594359298115, 0.3087297179649057, 0.4190724432343678, 0.8650064456646049, 0.05088273209791794, 0.9467973731062297, 0.8093444089771935, 0.629097571493356, 0.6088706268782389, 0.5942102649173456, 0.33011681384296976, 0.8667784114420302, 0.034671136457681204, 0.034671136457681204, 0.9662030390368905, 0.0017446213771184825, 0.00126881554699526, 0.00507526218798104, 0.007612893281971561, 0.01586019433744075, 0.00047580583012322254, 0.0007930097168720375, 0.000317203886748815, 0.0001586019433744075, 0.7681631613013737, 0.6229227658636761, 0.34260752122502186, 0.2382037321205992, 0.2084282656055243, 0.5061829307562733, 0.3830634878244018, 0.8418400069307326, 0.8089535181408424, 0.12445438740628344, 0.18563940062269216, 0.1392295504670191, 0.32486895108971126, 0.32486895108971126, 0.5156763323244944, 0.40108159180794006, 0.6452681984488235, 0.8338882257676551, 0.8481491770764384, 0.9024696525941558, 0.6701415944029048, 0.8689063783944377, 0.7183297349912529, 0.19155459599766742, 0.35275525020627174, 0.20157442868929815, 0.36955311926371326, 0.06719147622976604, 0.817217717023257, 0.8427576875161222, 0.4394891938716221, 0.021357280884519842, 0.5339320221129961, 0.06407184265355953, 0.042714561769039684, 0.23493008972971827, 0.042714561769039684, 0.06407184265355953, 0.021357280884519842, 0.9512954973675619, 0.934853877260395, 0.9646435066219391, 0.0018538952721754115, 0.0265724989011809, 0.005561685816526235, 0.0006179650907251372, 0.9467774827819451, 0.4612862331519354, 0.1403914622636325, 0.18050330862467037, 0.02005592318051893, 0.18050330862467037, 0.010072248927172737, 0.5841904377760186, 0.010072248927172737, 0.2618784721064911, 0.020144497854345474, 0.10072248927172736, 0.0727840705633622, 0.25474424697176773, 0.6550566350702598, 0.6510129520480659, 0.2959149782036663, 0.9440075880267815, 0.09292099227921877, 0.7433679382337501, 0.6118282140391798, 0.2676748436421411, 0.038239263377448734, 0.038239263377448734, 0.807026397985795, 0.8552212374429439, 0.0751707427723625, 0.017252301619886477, 0.007393843551379918, 0.030807681464082994, 0.004929229034253279, 0.003696921775689959, 0.0024646145171266396, 0.0024646145171266396, 0.8062281353052534, 0.39820757593776995, 0.3503622939825415, 0.8069080248687891, 0.8765417493014547, 0.8069977382727962, 0.050998372142497896, 0.8669723264224642, 0.9420260026420236, 0.8764150693087585, 0.04173405091946469, 0.7346614290279972, 0.6001863185453592, 0.36011179112721553, 0.13169113991115652, 0.28533080314083914, 0.5267645596446261, 0.021948523318526085, 0.8007913086855097, 0.9907599648529423, 0.0031512721528401473, 0.0006302544305680295, 0.0031512721528401473, 0.0006302544305680295, 0.15766398614456695, 0.7883199307228348, 0.8244222214819665, 0.45277437011137295, 0.3018495800742486, 0.38834783680148255, 0.8524422594171166, 0.8684386844592159, 0.8150175151201114, 0.7431267589772177, 0.7916441873928596, 0.9229706881175775, 0.07536976607114187, 0.8290674267825606, 0.8944431436731243, 0.8314322266568691, 0.8786555453624545, 0.5882262340796943, 0.29411311703984716, 0.7888091997043075, 0.9257831724098841, 0.3898144554200756, 0.41245393058663427, 0.953056591272121, 0.025758286250597864, 0.4349303309493476, 0.04667331985702857, 0.9334663971405713, 0.9613461280220703, 0.00768735242309963, 0.005124901615399753, 0.024343282673148826, 0.0012812254038499383, 0.4402858602985394, 0.4967270448226297, 0.04515700407478452, 0.3386775305608839, 0.06773550611217677, 0.8994644115742559, 0.7396588040555416, 0.3748654139386505, 0.8941279881674632, 0.7303982186595425, 0.8645229052450378, 0.9079475486625516, 0.9641253059714696, 0.910302872074608, 0.8415191831562423, 0.36656085292403473, 0.9022389954550372, 0.8233267889223255, 0.4716284112364577, 0.37730272898916617, 0.09432568224729154, 0.7987902298127554, 0.8529501784233858, 0.03998203961359621, 0.09329142576505783, 0.8658499207409629, 0.8536304192061246, 0.8064944097358442, 0.8585611913093837, 0.06132579937924169, 0.9225359735527472, 0.3876147391167549, 0.9896592848174763, 0.8787416783296947, 0.9260704868300091, 0.8980959484265181, 0.3135419911825169, 0.3135419911825169, 0.3483799902027966, 0.15965111720630826, 0.039912779301577064, 0.07982555860315413, 0.3991277930157706, 0.3193022344126165, 0.42690413279085304, 0.8640830484110339, 0.7295946678474143, 0.847847611349279, 0.9460266508404631, 0.9484661055701702, 0.0364794655988527, 0.8907546041603178, 0.2925742008510433, 0.5851484017020866, 0.717978911996614, 0.9107156334104604, 0.8872234633080959, 0.8020017412018401, 0.9257348406009869, 0.8066835622077249, 0.8896945679766687, 0.709933354849028, 0.8791251396309728, 0.35149905934015035, 0.842279442456846, 0.8850905183398355, 0.0038318773419124498, 0.9656330901619373, 0.0038318773419124498, 0.0076637546838248995, 0.01149563202573735, 0.8960110078499103, 0.9151584510121593, 0.775650299286158, 0.9949053583670984, 0.0014356498677735908, 0.0014356498677735908, 0.8450829510567605, 0.4127831099056052, 0.9973266887629793, 0.0014412235386748256, 0.8984027074183775, 0.9412288726439955, 0.9264258307303277, 0.7726014173297104, 0.4130341949586769, 0.822747165877126, 0.80974883853221, 0.11179177311671354, 0.7825424118169948, 0.8064257367002761, 0.9351431818108965, 0.9438075340886585, 0.5076599449197876, 0.4375229397046671, 0.7396658284918322, 0.06163881904098602, 0.12327763808197204, 0.724345326367172, 0.8404153065959037, 0.3162947384223328, 0.08698105306614153, 0.29257263304065784, 0.08698105306614153, 0.06325894768446656, 0.0790736846055832, 0.03162947384223328, 0.00790736846055832, 0.00790736846055832, 0.01581473692111664, 0.4319288421440625, 0.48591994741207034, 0.6733789391998279, 0.28859097394278344, 0.01603283188571019, 0.9574640029692074, 0.9964394138248994, 0.0031390980633547684, 0.0002242212902396263, 0.9139179350547492, 0.8035856683890802, 0.9496550637802706, 0.9267768878673527, 0.8271873406929525, 0.050644122899568524, 0.08440687149928087, 0.3536861060303752, 0.9078656702663568, 0.7496626521609921, 0.15476553037160368, 0.7738276518580184, 0.42982708684201276, 0.5014649346490149, 0.4419706390450339, 0.3867243091644047, 0.1657389896418877, 0.7318748128488954, 0.04305145957934679, 0.1435048652644893, 0.05740194610579572, 0.36265468774439746, 0.8936055007303015], \"Term\": [\"access\", \"accord\", \"accumulate\", \"achieve\", \"achieve\", \"achieve\", \"acid\", \"acid\", \"acquire\", \"acquire\", \"action\", \"active\", \"actual\", \"actually\", \"additive\", \"adjust\", \"adjustment\", \"administration\", \"aforementione\", \"agricultural\", \"agricultural\", \"agricultural\", \"agricultural\", \"agricultural\", \"agricultural\", \"agronomist\", \"agronomy\", \"agronomy\", \"agronomy\", \"agronutrient\", \"also\", \"also\", \"also\", \"also\", \"also\", \"also\", \"amateur\", \"amide\", \"amount\", \"anaerobic\", \"anaerobiosis\", \"analysis\", \"analysis\", \"analyze\", \"animal\", \"animal\", \"apatite\", \"appliance\", \"application\", \"application\", \"application\", \"application\", \"application\", \"application_server\", \"apply\", \"aqueous\", \"aqueous\", \"area\", \"area\", \"assemblage\", \"associate\", \"atmospheric_condition\", \"authorize\", \"automatic\", \"availability\", \"availability\", \"available\", \"avoid\", \"away\", \"back\", \"balanced\", \"base\", \"base\", \"base\", \"base\", \"base\", \"base\", \"basis\", \"benefit\", \"biomass\", \"bird\", \"bonus\", \"breed\", \"ca\", \"calcium\", \"calibration\", \"call\", \"capable\", \"cation\", \"cause\", \"centralizing\", \"certain\", \"ch\", \"ch\", \"character\", \"characterize\", \"characterizing\", \"characterizing\", \"characterizing\", \"charge\", \"choose\", \"cloud_base\", \"cluster\", \"cluster\", \"cluster\", \"code\", \"collect\", \"color\", \"combination\", \"commodity\", \"common\", \"communicate\", \"communication\", \"complement\", \"complex\", \"component\", \"component\", \"component\", \"component\", \"composition\", \"compound\", \"comprise\", \"comprise\", \"comprise\", \"comprise\", \"comprise\", \"computer_implemente\", \"condition\", \"condition\", \"condition\", \"condition\", \"conductivity\", \"conductivity\", \"configuration\", \"configure\", \"conform\", \"conserve\", \"conserve\", \"consist\", \"consist\", \"contact\", \"content\", \"continuously\", \"contract\", \"control\", \"control\", \"control\", \"control\", \"cooperative\", \"corn\", \"corn\", \"corn\", \"cost_efficiently\", \"counter\", \"covariate\", \"covariate\", \"create_variable\", \"create_variable\", \"crop\", \"crop\", \"crop\", \"crop\", \"crop\", \"cross\", \"cross\", \"cross\", \"culture\", \"culture\", \"current\", \"cycle\", \"data\", \"data\", \"database\", \"database\", \"date\", \"datum\", \"datum\", \"datum\", \"datum\", \"datum\", \"datum\", \"day\", \"decision\", \"decrease\", \"defoliate\", \"defoliation\", \"degree\", \"degree\", \"delivery\", \"describe\", \"describe\", \"describe\", \"description\", \"designate\", \"designate\", \"designate\", \"determine\", \"determine\", \"determine\", \"different\", \"different\", \"digital\", \"digital\", \"digital\", \"digital\", \"direct\", \"disclose\", \"disclose\", \"disclose\", \"disclose\", \"disclosure\", \"disclosure\", \"discount\", \"discover\", \"discovery\", \"disperse\", \"display\", \"display\", \"display\", \"dissolve\", \"divide\", \"earn\", \"earth\", \"easy\", \"effect\", \"effect\", \"effective\", \"effective\", \"effectively\", \"efficiency\", \"efficient\", \"efficient\", \"effort\", \"element\", \"eliminate\", \"eliminate\", \"encourage\", \"energy\", \"engineer\", \"enhance\", \"enhance\", \"enhanced\", \"enterprise_management\", \"entity\", \"environment\", \"environment\", \"equipment\", \"especially\", \"essential\", \"established_astronomical\", \"estimate\", \"estimated_via\", \"evaluate\", \"exhibit\", \"exhibit\", \"expand\", \"express\", \"express\", \"extraction\", \"facilitate\", \"farmer\", \"farmer\", \"fatal\", \"feature\", \"fermentative_potential\", \"fertility\", \"fertility\", \"fertilizer\", \"fertilizer\", \"fertilizer\", \"fertilizer\", \"field\", \"field\", \"field\", \"field\", \"field\", \"filtering\", \"find\", \"first\", \"first\", \"fix\", \"flow\", \"follow\", \"follow\", \"follow\", \"follow\", \"forecasting\", \"form\", \"form\", \"form\", \"formation\", \"formula\", \"freshly\", \"garden\", \"gardener\", \"generally\", \"generate\", \"generate\", \"genetic\", \"geomarkete\", \"giant\", \"give\", \"graphical\", \"graphical\", \"grass\", \"grass\", \"graze\", \"grazing\", \"grid\", \"grid\", \"grid\", \"ground\", \"group\", \"group\", \"grow\", \"grow\", \"grow\", \"grow\", \"grower\", \"growth\", \"growth\", \"growth\", \"growth\", \"growth\", \"harvest\", \"harvest\", \"high\", \"high\", \"high\", \"higher_granularity\", \"highly\", \"historical\", \"homolog\", \"horticultural\", \"hybrid\", \"hybrid\", \"hybrid\", \"hydrology\", \"hydrolyze\", \"hydrolyze\", \"identification\", \"identify\", \"image\", \"image\", \"image\", \"impact\", \"impact\", \"impair\", \"improve\", \"improve\", \"improved\", \"improvement\", \"inactivate\", \"include\", \"include\", \"include\", \"include\", \"include\", \"include\", \"include\", \"incorporate\", \"increase\", \"increase\", \"increase\", \"indicate\", \"indicate\", \"indicative\", \"information\", \"information\", \"information\", \"ingest\", \"initial_image\", \"input\", \"input\", \"inputs_exemplified\", \"instruction\", \"integration\", \"interpolate\", \"interpolate\", \"intervene\", \"intervention\", \"invention\", \"invention\", \"invention\", \"invention\", \"invention\", \"invention\", \"irrigation\", \"irrigation\", \"item\", \"item\", \"ivermectin\", \"land\", \"land\", \"large\", \"lawn\", \"lawn\", \"layer\", \"layer\", \"least\", \"least\", \"least\", \"less\", \"level\", \"level\", \"life\", \"limited\", \"limited\", \"limited\", \"line\", \"link\", \"local\", \"location\", \"location\", \"long\", \"long\", \"low\", \"low\", \"maintain\", \"maintenance\", \"maize\", \"make\", \"make\", \"make\", \"manage\", \"manage\", \"management\", \"management\", \"managing_plot\", \"managing_plot\", \"map\", \"map\", \"map\", \"market\", \"market\", \"material\", \"matrix\", \"may\", \"may\", \"may\", \"may\", \"may\", \"measurement\", \"medium\", \"medium\", \"meteorology\", \"method\", \"method\", \"method\", \"method\", \"method\", \"method\", \"method\", \"method\", \"method\", \"method\", \"method\", \"method\", \"methodology\", \"metric\", \"metric\", \"micronutrient\", \"microorganism\", \"microorganism\", \"mid\", \"model\", \"model\", \"model\", \"model\", \"modeling\", \"modeling\", \"modify\", \"modify\", \"modular_component\", \"moisture\", \"monitoring\", \"multiple\", \"multiple\", \"multivariable\", \"namely\", \"need\", \"network\", \"new\", \"nitrogen\", \"nmu\", \"notably\", \"novel\", \"number\", \"number\", \"nutrient\", \"nutrient\", \"observation\", \"observation\", \"obtain\", \"obtain\", \"obtain\", \"obtain\", \"obtain\", \"obtain\", \"ohrr_gene\", \"optimal\", \"option\", \"optional\", \"order\", \"organize\", \"organize\", \"output\", \"output\", \"overhead\", \"palmitic\", \"partially\", \"participate\", \"particular\", \"particular\", \"paste\", \"patent\", \"percent\", \"percent\", \"percentage\", \"performance\", \"period\", \"permeability\", \"permeability\", \"permeable\", \"pertain\", \"pertain\", \"pesticide\", \"phenotyping\", \"phosphate\", \"physical\", \"pixel\", \"pixel\", \"plan\", \"plan\", \"plan\", \"plant\", \"plant\", \"plant\", \"plant\", \"plant\", \"plant\", \"plant\", \"plant\", \"plant\", \"plant\", \"planting\", \"plot\", \"plot\", \"plurality\", \"plurality\", \"plurality\", \"point\", \"pollination\", \"polyacrylamide\", \"polyacrylamide\", \"portion\", \"portion\", \"portion\", \"portion\", \"possible\", \"possible\", \"potassium\", \"power\", \"pre\", \"precision\", \"premium\", \"prepare\", \"prescription\", \"prescription\", \"present\", \"present\", \"present\", \"present\", \"prevention\", \"price\", \"problem\", \"process\", \"process\", \"process\", \"process\", \"process\", \"process\", \"process\", \"process\", \"processing\", \"processor\", \"produce\", \"produce\", \"produce\", \"produce\", \"produce\", \"producer\", \"product\", \"product\", \"product\", \"product\", \"product\", \"production\", \"production\", \"production\", \"production\", \"production\", \"production\", \"profile\", \"profile\", \"profile\", \"profile_divide\", \"profile_divide\", \"progeny\", \"program\", \"program\", \"property\", \"property\", \"property\", \"property\", \"proven_effective\", \"provide\", \"provide\", \"provide\", \"provide\", \"provide\", \"provide\", \"provide\", \"provide\", \"provide\", \"proxy\", \"purchase\", \"purchasing\", \"qualitative\", \"quality\", \"quantifying\", \"radiation\", \"radiation\", \"range\", \"rate\", \"rate\", \"rebate\", \"receive\", \"receive\", \"reduce\", \"reduce\", \"reduce\", \"reduce\", \"region\", \"relate\", \"relate\", \"relate\", \"relate\", \"relate\", \"related\", \"related\", \"removal\", \"render\", \"render\", \"report\", \"reproductive\", \"resolution\", \"respect\", \"response\", \"restricted_access\", \"result\", \"sale\", \"sale\", \"salt\", \"sample\", \"satellite\", \"saturate\", \"saturate\", \"saturated_fatty\", \"say\", \"scare\", \"schedule\", \"season\", \"season\", \"seasonal\", \"second\", \"second\", \"seed\", \"seed\", \"seed\", \"seed\", \"seed\", \"seeded\", \"select\", \"select\", \"select\", \"select\", \"selection\", \"sell\", \"semi\", \"separate\", \"separation\", \"service\", \"service_provider\", \"set\", \"show\", \"similar\", \"simplification\", \"single\", \"site\", \"size\", \"size\", \"size\", \"slow\", \"soil\", \"soil\", \"soil\", \"soilless\", \"solar\", \"solar_irradiance\", \"soluble\", \"soluble\", \"solution\", \"sometimes\", \"soybean\", \"spatial\", \"spatial_relationship\", \"spatial_structure\", \"specific\", \"specific\", \"specific\", \"specify\", \"specify\", \"specify\", \"specify\", \"specify\", \"sprinkler\", \"standard\", \"station\", \"statistical\", \"stearic\", \"step\", \"step\", \"storage\", \"store\", \"store\", \"storing\", \"subject\", \"subsoil\", \"successive\", \"sun\", \"sun_electromagnetic\", \"supplier\", \"support\", \"surface\", \"swap\", \"synergistic\", \"synthetic\", \"system\", \"system\", \"system\", \"system\", \"system\", \"temperature\", \"test\", \"third_party\", \"thus\", \"thus\", \"thus\", \"time\", \"timing\", \"tissue\", \"tissue\", \"together\", \"tool\", \"total\", \"toxic\", \"toxin\", \"trainee\", \"trainer\", \"trait\", \"trait\", \"transmission\", \"treat\", \"type\", \"uas\", \"unusual\", \"update\", \"update\", \"update\", \"uptake\", \"usage\", \"use\", \"use\", \"use\", \"use\", \"use\", \"use\", \"use\", \"use\", \"use\", \"use\", \"user\", \"user\", \"utilize\", \"utilize\", \"utilize\", \"value\", \"variety\", \"variety\", \"variety\", \"various\", \"vegetable_oil\", \"video\", \"vigor\", \"water\", \"water\", \"water\", \"way\", \"weather\", \"web\", \"weight\", \"weight\", \"well\", \"well\", \"wherein\", \"wherein\", \"wherein\", \"yield\", \"yield\", \"yield\", \"yield\", \"zeolite\", \"zone\"]}, \"R\": 30, \"lambda.step\": 0.01, \"plot.opts\": {\"xlab\": \"PC1\", \"ylab\": \"PC2\"}, \"topic.order\": [5, 8, 7, 12, 13, 15, 20, 10, 9, 19, 6, 3, 18, 16, 14, 1, 17, 4, 11, 2]};\n",
       "\n",
       "function LDAvis_load_lib(url, callback){\n",
       "  var s = document.createElement('script');\n",
       "  s.src = url;\n",
       "  s.async = true;\n",
       "  s.onreadystatechange = s.onload = callback;\n",
       "  s.onerror = function(){console.warn(\"failed to load library \" + url);};\n",
       "  document.getElementsByTagName(\"head\")[0].appendChild(s);\n",
       "}\n",
       "\n",
       "if(typeof(LDAvis) !== \"undefined\"){\n",
       "   // already loaded: just create the visualization\n",
       "   !function(LDAvis){\n",
       "       new LDAvis(\"#\" + \"ldavis_el217341399887681121921564485816\", ldavis_el217341399887681121921564485816_data);\n",
       "   }(LDAvis);\n",
       "}else if(typeof define === \"function\" && define.amd){\n",
       "   // require.js is available: use it to load d3/LDAvis\n",
       "   require.config({paths: {d3: \"https://cdnjs.cloudflare.com/ajax/libs/d3/3.5.5/d3.min\"}});\n",
       "   require([\"d3\"], function(d3){\n",
       "      window.d3 = d3;\n",
       "      LDAvis_load_lib(\"https://cdn.rawgit.com/bmabey/pyLDAvis/files/ldavis.v1.0.0.js\", function(){\n",
       "        new LDAvis(\"#\" + \"ldavis_el217341399887681121921564485816\", ldavis_el217341399887681121921564485816_data);\n",
       "      });\n",
       "    });\n",
       "}else{\n",
       "    // require.js not available: dynamically load d3 & LDAvis\n",
       "    LDAvis_load_lib(\"https://cdnjs.cloudflare.com/ajax/libs/d3/3.5.5/d3.min.js\", function(){\n",
       "         LDAvis_load_lib(\"https://cdn.rawgit.com/bmabey/pyLDAvis/files/ldavis.v1.0.0.js\", function(){\n",
       "                 new LDAvis(\"#\" + \"ldavis_el217341399887681121921564485816\", ldavis_el217341399887681121921564485816_data);\n",
       "            })\n",
       "         });\n",
       "}\n",
       "</script>"
      ],
      "text/plain": [
       "PreparedData(topic_coordinates=              x         y  topics  cluster       Freq\n",
       "topic                                                \n",
       "4      0.526754 -0.082168       1        1  72.093688\n",
       "7      0.112028  0.211690       2        1   5.888554\n",
       "6      0.139016  0.084331       3        1   5.110785\n",
       "11     0.033644  0.032290       4        1   2.433933\n",
       "12    -0.002837 -0.164350       5        1   2.167098\n",
       "14    -0.008633  0.049985       6        1   1.723714\n",
       "19     0.181550 -0.116632       7        1   1.650828\n",
       "9     -0.012199  0.166358       8        1   1.542368\n",
       "8     -0.020250  0.116052       9        1   1.347401\n",
       "18    -0.044549  0.072089      10        1   1.211262\n",
       "5     -0.085227  0.085338      11        1   1.110537\n",
       "2     -0.029892 -0.001661      12        1   1.076799\n",
       "17    -0.084663 -0.110946      13        1   0.798905\n",
       "15    -0.082555 -0.082845      14        1   0.592477\n",
       "13    -0.049219 -0.048283      15        1   0.499261\n",
       "0     -0.117445 -0.023905      16        1   0.393854\n",
       "16    -0.113114 -0.040719      17        1   0.170979\n",
       "3     -0.110339 -0.056970      18        1   0.076216\n",
       "10    -0.115731 -0.043635      19        1   0.056149\n",
       "1     -0.116341 -0.046020      20        1   0.055192, topic_info=            Term         Freq        Total Category  logprob  loglift\n",
       "144        plant  6305.000000  6305.000000  Default  30.0000  30.0000\n",
       "43          seed  2341.000000  2341.000000  Default  29.0000  29.0000\n",
       "608         line   562.000000   562.000000  Default  28.0000  28.0000\n",
       "13        method  1019.000000  1019.000000  Default  27.0000  27.0000\n",
       "621         corn  3663.000000  3663.000000  Default  26.0000  26.0000\n",
       "..           ...          ...          ...      ...      ...      ...\n",
       "2       agronomy     0.012352    86.920151  Topic20  -7.6180  -1.3568\n",
       "62         input     0.012351    27.059280  Topic20  -7.6180  -0.1899\n",
       "209  interpolate     0.012351     4.481706  Topic20  -7.6180   1.6081\n",
       "230       update     0.012350    16.223542  Topic20  -7.6181   0.3216\n",
       "223       sample     0.012350    10.824695  Topic20  -7.6181   0.7262\n",
       "\n",
       "[949 rows x 6 columns], token_table=      Topic      Freq        Term\n",
       "term                             \n",
       "377      12  0.910950      access\n",
       "0         1  0.996989      accord\n",
       "151       9  0.726821  accumulate\n",
       "46        2  0.860900     achieve\n",
       "46        7  0.053806     achieve\n",
       "...     ...       ...         ...\n",
       "45        3  0.043051       yield\n",
       "45        4  0.143505       yield\n",
       "45       12  0.057402       yield\n",
       "602      14  0.362655     zeolite\n",
       "348       2  0.893606        zone\n",
       "\n",
       "[824 rows x 3 columns], R=30, lambda_step=0.01, plot_opts={'xlab': 'PC1', 'ylab': 'PC2'}, topic_order=[5, 8, 7, 12, 13, 15, 20, 10, 9, 19, 6, 3, 18, 16, 14, 1, 17, 4, 11, 2])"
      ]
     },
     "execution_count": 28,
     "metadata": {},
     "output_type": "execute_result"
    }
   ],
   "source": [
    "# Visualize the topics\n",
    "pyLDAvis.enable_notebook()\n",
    "vis = pyLDAvis.gensim.prepare(lda_model, corpus, id2word)\n",
    "vis"
   ]
  },
  {
   "cell_type": "code",
   "execution_count": 29,
   "metadata": {},
   "outputs": [
    {
     "name": "stderr",
     "output_type": "stream",
     "text": [
      "/home/henrique/anaconda3/lib/python3.8/site-packages/ipykernel/ipkernel.py:287: DeprecationWarning: `should_run_async` will not call `transform_cell` automatically in the future. Please pass the result to `transformed_cell` argument and any exception that happen during thetransform in `preprocessing_exc_tuple` in IPython 7.17 and above.\n",
      "  and should_run_async(code)\n"
     ]
    }
   ],
   "source": [
    "def compute_coherence_values(dictionary, corpus, texts, limit, start=2, step=3):\n",
    "    \"\"\"\n",
    "    Compute c_v coherence for various number of topics\n",
    "\n",
    "    Parameters:\n",
    "    ----------\n",
    "    dictionary : Gensim dictionary\n",
    "    corpus : Gensim corpus\n",
    "    texts : List of input texts\n",
    "    limit : Max num of topics\n",
    "\n",
    "    Returns:\n",
    "    -------\n",
    "    model_list : List of LDA topic models\n",
    "    coherence_values : Coherence values corresponding to the LDA model with respective number of topics\n",
    "    \"\"\"\n",
    "    coherence_values = []\n",
    "    model_list = []\n",
    "    for num_topics in range(start, limit, step):\n",
    "        model = gensim.models.ldamodel.LdaModel(corpus=corpus,\n",
    "                                      id2word = id2word,\n",
    "                                      num_topics = num_topics,\n",
    "                                      random_state = 150,\n",
    "                                      update_every = 1,\n",
    "                                      chunksize = 100,\n",
    "                                      alpha = 'auto',\n",
    "                                      per_word_topics = True)\n",
    "        model_list.append(model)\n",
    "        coherencemodel = CoherenceModel(model=model, texts=texts, dictionary=dictionary, coherence='c_v')\n",
    "        coherence_values.append(coherencemodel.get_coherence())\n",
    "\n",
    "    return model_list, coherence_values"
   ]
  },
  {
   "cell_type": "code",
   "execution_count": 30,
   "metadata": {},
   "outputs": [
    {
     "name": "stderr",
     "output_type": "stream",
     "text": [
      "/home/henrique/anaconda3/lib/python3.8/site-packages/ipykernel/ipkernel.py:287: DeprecationWarning: `should_run_async` will not call `transform_cell` automatically in the future. Please pass the result to `transformed_cell` argument and any exception that happen during thetransform in `preprocessing_exc_tuple` in IPython 7.17 and above.\n",
      "  and should_run_async(code)\n"
     ]
    }
   ],
   "source": [
    "model_list, coherence_values = compute_coherence_values(dictionary=id2word, corpus=corpus, texts=data_lemmatized, start=2, limit=40, step=6)"
   ]
  },
  {
   "cell_type": "code",
   "execution_count": 31,
   "metadata": {},
   "outputs": [
    {
     "name": "stderr",
     "output_type": "stream",
     "text": [
      "/home/henrique/anaconda3/lib/python3.8/site-packages/ipykernel/ipkernel.py:287: DeprecationWarning: `should_run_async` will not call `transform_cell` automatically in the future. Please pass the result to `transformed_cell` argument and any exception that happen during thetransform in `preprocessing_exc_tuple` in IPython 7.17 and above.\n",
      "  and should_run_async(code)\n",
      "/home/henrique/anaconda3/lib/python3.8/site-packages/seaborn/_decorators.py:36: FutureWarning: Pass the following variables as keyword args: x, y. From version 0.12, the only valid positional argument will be `data`, and passing other arguments without an explicit keyword will result in an error or misinterpretation.\n",
      "  warnings.warn(\n"
     ]
    },
    {
     "data": {
      "image/png": "[encoded data removed]",
      "text/plain": [
       "<Figure size 864x432 with 1 Axes>"
      ]
     },
     "metadata": {},
     "output_type": "display_data"
    }
   ],
   "source": [
    "limit=40; start=2; step=6;\n",
    "x = range(start, limit, step)\n",
    "\n",
    "sns.set_palette('Accent')\n",
    "sns.set_style('darkgrid')\n",
    "ax = sns.lineplot(x, coherence_values)\n",
    "ax.figure.set_size_inches(12,6)\n",
    "ax.set_title(\"Distribuição dos valores de Coherence\", loc='left', fontsize=18)\n",
    "ax.set_xlabel(\"Número de tópicos\", fontsize=14)\n",
    "ax.set_ylabel(\"Valores de Coherence\", fontsize=14)\n",
    "ax = ax"
   ]
  },
  {
   "cell_type": "code",
   "execution_count": 32,
   "metadata": {},
   "outputs": [
    {
     "name": "stdout",
     "output_type": "stream",
     "text": [
      "Num Topics = 2  has Coherence Value of 0.591\n",
      "Num Topics = 8  has Coherence Value of 0.4307\n",
      "Num Topics = 14  has Coherence Value of 0.6155\n",
      "Num Topics = 20  has Coherence Value of 0.6569\n",
      "Num Topics = 26  has Coherence Value of 0.7121\n",
      "Num Topics = 32  has Coherence Value of 0.5905\n",
      "Num Topics = 38  has Coherence Value of 0.5965\n"
     ]
    },
    {
     "name": "stderr",
     "output_type": "stream",
     "text": [
      "/home/henrique/anaconda3/lib/python3.8/site-packages/ipykernel/ipkernel.py:287: DeprecationWarning: `should_run_async` will not call `transform_cell` automatically in the future. Please pass the result to `transformed_cell` argument and any exception that happen during thetransform in `preprocessing_exc_tuple` in IPython 7.17 and above.\n",
      "  and should_run_async(code)\n"
     ]
    }
   ],
   "source": [
    "# Print the coherence scores\n",
    "for m, cv in zip(x, coherence_values):\n",
    "    print(\"Num Topics =\", m, \" has Coherence Value of\", round(cv, 4))"
   ]
  },
  {
   "cell_type": "code",
   "execution_count": 33,
   "metadata": {},
   "outputs": [
    {
     "name": "stdout",
     "output_type": "stream",
     "text": [
      "[(0, '0.058*\"digital\" + 0.053*\"display\" + 0.048*\"different\" + 0.045*\"specify\" + 0.037*\"fertility\" + 0.029*\"grid\" + 0.014*\"response\" + 0.014*\"divide\" + 0.014*\"day\" + 0.014*\"model\"'), (1, '0.000*\"digital\" + 0.000*\"value\" + 0.000*\"field\" + 0.000*\"agricultural\" + 0.000*\"model\" + 0.000*\"datum\" + 0.000*\"specify\" + 0.000*\"plurality\" + 0.000*\"property\" + 0.000*\"different\"'), (2, '0.074*\"profile\" + 0.030*\"related\" + 0.030*\"base\" + 0.025*\"grow\" + 0.022*\"crop\" + 0.022*\"need\" + 0.022*\"plot\" + 0.021*\"conductivity\" + 0.021*\"maintenance\" + 0.020*\"automatic\"'), (3, '0.047*\"lawn\" + 0.022*\"back\" + 0.006*\"time\" + 0.004*\"water\" + 0.004*\"plant\" + 0.003*\"web\" + 0.002*\"irrigation\" + 0.002*\"synthetic\" + 0.002*\"growth\" + 0.002*\"active\"'), (4, '0.186*\"plant\" + 0.135*\"variety\" + 0.111*\"corn\" + 0.081*\"ch\" + 0.069*\"invention\" + 0.069*\"seed\" + 0.048*\"relate\" + 0.048*\"produce\" + 0.038*\"hybrid\" + 0.021*\"method\"'), (5, '0.112*\"field\" + 0.072*\"datum\" + 0.069*\"value\" + 0.068*\"include\" + 0.034*\"plurality\" + 0.032*\"high\" + 0.023*\"receive\" + 0.021*\"digital\" + 0.020*\"specify\" + 0.019*\"sample\"'), (6, '0.241*\"line\" + 0.071*\"soybean\" + 0.048*\"acid\" + 0.039*\"content\" + 0.027*\"less\" + 0.026*\"low\" + 0.023*\"composition\" + 0.019*\"method\" + 0.018*\"produce\" + 0.016*\"disclose\"'), (7, '0.094*\"system\" + 0.044*\"method\" + 0.031*\"agronomy\" + 0.029*\"crop\" + 0.024*\"field\" + 0.023*\"provide\" + 0.022*\"production\" + 0.020*\"land\" + 0.019*\"yield\" + 0.018*\"image\"'), (8, '0.056*\"datum\" + 0.044*\"image\" + 0.032*\"data\" + 0.027*\"spatial_structure\" + 0.025*\"select\" + 0.024*\"method\" + 0.024*\"processor\" + 0.022*\"analysis\" + 0.022*\"spatial\" + 0.017*\"show\"'), (9, '0.039*\"observation\" + 0.036*\"impact\" + 0.036*\"model\" + 0.034*\"input\" + 0.032*\"datum\" + 0.032*\"base\" + 0.027*\"weather\" + 0.024*\"radiation\" + 0.024*\"location\" + 0.024*\"spatial_relationship\"'), (10, '0.001*\"crop\" + 0.001*\"agricultural\" + 0.001*\"datum\" + 0.001*\"commodity\" + 0.001*\"production\" + 0.001*\"producer\" + 0.001*\"system\" + 0.001*\"method\" + 0.001*\"provide\" + 0.001*\"plan\"'), (11, '0.070*\"method\" + 0.065*\"crop\" + 0.047*\"management\" + 0.034*\"use\" + 0.033*\"season\" + 0.031*\"growth\" + 0.029*\"plant\" + 0.023*\"plan\" + 0.023*\"material\" + 0.018*\"various\"'), (12, '0.065*\"soil\" + 0.050*\"water\" + 0.049*\"plant\" + 0.038*\"nutrient\" + 0.027*\"amount\" + 0.025*\"reduce\" + 0.020*\"also\" + 0.017*\"level\" + 0.016*\"extraction\" + 0.015*\"hydrolyze\"'), (13, '0.049*\"sale\" + 0.045*\"production\" + 0.035*\"farmer\" + 0.035*\"price\" + 0.033*\"entity\" + 0.031*\"portion\" + 0.030*\"effectively\" + 0.022*\"available\" + 0.019*\"call\" + 0.018*\"rebate\"'), (14, '0.059*\"comprise\" + 0.043*\"method\" + 0.035*\"growth\" + 0.033*\"step\" + 0.032*\"modify\" + 0.028*\"present\" + 0.027*\"rate\" + 0.024*\"map\" + 0.023*\"color\" + 0.022*\"pertain\"'), (15, '0.044*\"synthetic\" + 0.034*\"site\" + 0.027*\"fertilizer\" + 0.025*\"soil\" + 0.024*\"charge\" + 0.022*\"nitrogen\" + 0.022*\"disclose\" + 0.021*\"degree\" + 0.021*\"apatite\" + 0.019*\"comprise\"'), (16, '0.074*\"component\" + 0.051*\"delivery\" + 0.020*\"grass\" + 0.018*\"impair\" + 0.004*\"equipment\" + 0.003*\"effective\" + 0.002*\"agricultural\" + 0.002*\"animal\" + 0.002*\"method\" + 0.001*\"service_provider\"'), (17, '0.043*\"percent\" + 0.042*\"weight\" + 0.039*\"improve\" + 0.030*\"salt\" + 0.025*\"describe\" + 0.024*\"group\" + 0.021*\"fertilizer\" + 0.019*\"well\" + 0.018*\"wherein\" + 0.017*\"flow\"'), (18, '0.151*\"agricultural\" + 0.047*\"producer\" + 0.041*\"commodity\" + 0.035*\"receive\" + 0.030*\"cloud_base\" + 0.030*\"supplier\" + 0.030*\"modular_component\" + 0.029*\"enterprise_management\" + 0.029*\"service_provider\" + 0.028*\"database\"'), (19, '0.133*\"plant\" + 0.076*\"seed\" + 0.058*\"maize\" + 0.034*\"production\" + 0.034*\"provide\" + 0.025*\"method\" + 0.024*\"increase\" + 0.024*\"vigor\" + 0.022*\"enhance\" + 0.018*\"especially\"')]\n"
     ]
    },
    {
     "name": "stderr",
     "output_type": "stream",
     "text": [
      "/home/henrique/anaconda3/lib/python3.8/site-packages/ipykernel/ipkernel.py:287: DeprecationWarning: `should_run_async` will not call `transform_cell` automatically in the future. Please pass the result to `transformed_cell` argument and any exception that happen during thetransform in `preprocessing_exc_tuple` in IPython 7.17 and above.\n",
      "  and should_run_async(code)\n"
     ]
    }
   ],
   "source": [
    "# Select the model and print the topics\n",
    "optimal_model = model_list[3]\n",
    "model_topics = optimal_model.show_topics(formatted=False)\n",
    "print(optimal_model.print_topics())"
   ]
  },
  {
   "cell_type": "code",
   "execution_count": 34,
   "metadata": {},
   "outputs": [
    {
     "name": "stderr",
     "output_type": "stream",
     "text": [
      "/home/henrique/anaconda3/lib/python3.8/site-packages/ipykernel/ipkernel.py:287: DeprecationWarning: `should_run_async` will not call `transform_cell` automatically in the future. Please pass the result to `transformed_cell` argument and any exception that happen during thetransform in `preprocessing_exc_tuple` in IPython 7.17 and above.\n",
      "  and should_run_async(code)\n"
     ]
    },
    {
     "data": {
      "text/plain": [
       "[(1,\n",
       "  [('digital', 0.0004925986),\n",
       "   ('value', 0.00049253006),\n",
       "   ('field', 0.00049249857),\n",
       "   ('agricultural', 0.0004924835),\n",
       "   ('model', 0.00049243524),\n",
       "   ('datum', 0.00049242965),\n",
       "   ('specify', 0.0004923218),\n",
       "   ('plurality', 0.00049225596),\n",
       "   ('property', 0.00049211906),\n",
       "   ('different', 0.00049183983)]),\n",
       " (10,\n",
       "  [('crop', 0.00073910743),\n",
       "   ('agricultural', 0.00072012434),\n",
       "   ('datum', 0.0007016075),\n",
       "   ('commodity', 0.00065245124),\n",
       "   ('production', 0.00065097195),\n",
       "   ('producer', 0.0006220497),\n",
       "   ('system', 0.000621496),\n",
       "   ('method', 0.000601001),\n",
       "   ('provide', 0.0005970419),\n",
       "   ('plan', 0.0005930292)]),\n",
       " (16,\n",
       "  [('component', 0.07412005),\n",
       "   ('delivery', 0.050562225),\n",
       "   ('grass', 0.019898668),\n",
       "   ('impair', 0.018065413),\n",
       "   ('equipment', 0.004175481),\n",
       "   ('effective', 0.0031068532),\n",
       "   ('agricultural', 0.0023593584),\n",
       "   ('animal', 0.0021700312),\n",
       "   ('method', 0.0019040861),\n",
       "   ('service_provider', 0.0012774965)]),\n",
       " (3,\n",
       "  [('lawn', 0.046978384),\n",
       "   ('back', 0.022278076),\n",
       "   ('time', 0.005877857),\n",
       "   ('water', 0.0037515317),\n",
       "   ('plant', 0.0036169093),\n",
       "   ('web', 0.002902463),\n",
       "   ('irrigation', 0.0023692192),\n",
       "   ('synthetic', 0.0021683923),\n",
       "   ('growth', 0.0018892656),\n",
       "   ('active', 0.0016498889)]),\n",
       " (0,\n",
       "  [('digital', 0.058039352),\n",
       "   ('display', 0.053130385),\n",
       "   ('different', 0.047802866),\n",
       "   ('specify', 0.045287687),\n",
       "   ('fertility', 0.03699259),\n",
       "   ('grid', 0.028718347),\n",
       "   ('response', 0.014328155),\n",
       "   ('divide', 0.014093614),\n",
       "   ('day', 0.0140061425),\n",
       "   ('model', 0.013791621)]),\n",
       " (11,\n",
       "  [('method', 0.06969262),\n",
       "   ('crop', 0.06459817),\n",
       "   ('management', 0.046847325),\n",
       "   ('use', 0.033830717),\n",
       "   ('season', 0.032983355),\n",
       "   ('growth', 0.030832892),\n",
       "   ('plant', 0.029247478),\n",
       "   ('plan', 0.022856291),\n",
       "   ('material', 0.022855712),\n",
       "   ('various', 0.017538302)]),\n",
       " (19,\n",
       "  [('plant', 0.13305643),\n",
       "   ('seed', 0.075950265),\n",
       "   ('maize', 0.057534695),\n",
       "   ('production', 0.034440458),\n",
       "   ('provide', 0.03358919),\n",
       "   ('method', 0.02475558),\n",
       "   ('increase', 0.023981534),\n",
       "   ('vigor', 0.023923311),\n",
       "   ('enhance', 0.022256091),\n",
       "   ('especially', 0.018268416)]),\n",
       " (7,\n",
       "  [('system', 0.09387656),\n",
       "   ('method', 0.044078164),\n",
       "   ('agronomy', 0.031346913),\n",
       "   ('crop', 0.028862506),\n",
       "   ('field', 0.023663761),\n",
       "   ('provide', 0.022614708),\n",
       "   ('production', 0.02177105),\n",
       "   ('land', 0.020357912),\n",
       "   ('yield', 0.019095687),\n",
       "   ('image', 0.017551264)]),\n",
       " (6,\n",
       "  [('line', 0.241286),\n",
       "   ('soybean', 0.07145843),\n",
       "   ('acid', 0.04824274),\n",
       "   ('content', 0.039379973),\n",
       "   ('less', 0.026694778),\n",
       "   ('low', 0.026100345),\n",
       "   ('composition', 0.023013942),\n",
       "   ('method', 0.018562378),\n",
       "   ('produce', 0.018372763),\n",
       "   ('disclose', 0.016461695)]),\n",
       " (4,\n",
       "  [('plant', 0.18561153),\n",
       "   ('variety', 0.13539168),\n",
       "   ('corn', 0.111218445),\n",
       "   ('ch', 0.08056461),\n",
       "   ('invention', 0.06878286),\n",
       "   ('seed', 0.06856385),\n",
       "   ('relate', 0.047900178),\n",
       "   ('produce', 0.047563642),\n",
       "   ('hybrid', 0.037570916),\n",
       "   ('method', 0.02142562)])]"
      ]
     },
     "execution_count": 34,
     "metadata": {},
     "output_type": "execute_result"
    }
   ],
   "source": [
    "model_topics"
   ]
  },
  {
   "cell_type": "code",
   "execution_count": 35,
   "metadata": {},
   "outputs": [
    {
     "name": "stderr",
     "output_type": "stream",
     "text": [
      "/home/henrique/anaconda3/lib/python3.8/site-packages/ipykernel/ipkernel.py:287: DeprecationWarning: `should_run_async` will not call `transform_cell` automatically in the future. Please pass the result to `transformed_cell` argument and any exception that happen during thetransform in `preprocessing_exc_tuple` in IPython 7.17 and above.\n",
      "  and should_run_async(code)\n"
     ]
    },
    {
     "data": {
      "text/plain": [
       "[(0,\n",
       "  '0.058*\"digital\" + 0.053*\"display\" + 0.048*\"different\" + 0.045*\"specify\" + 0.037*\"fertility\" + 0.029*\"grid\" + 0.014*\"response\" + 0.014*\"divide\" + 0.014*\"day\" + 0.014*\"model\"'),\n",
       " (1,\n",
       "  '0.000*\"digital\" + 0.000*\"value\" + 0.000*\"field\" + 0.000*\"agricultural\" + 0.000*\"model\" + 0.000*\"datum\" + 0.000*\"specify\" + 0.000*\"plurality\" + 0.000*\"property\" + 0.000*\"different\"'),\n",
       " (2,\n",
       "  '0.074*\"profile\" + 0.030*\"related\" + 0.030*\"base\" + 0.025*\"grow\" + 0.022*\"crop\" + 0.022*\"need\" + 0.022*\"plot\" + 0.021*\"conductivity\" + 0.021*\"maintenance\" + 0.020*\"automatic\"'),\n",
       " (3,\n",
       "  '0.047*\"lawn\" + 0.022*\"back\" + 0.006*\"time\" + 0.004*\"water\" + 0.004*\"plant\" + 0.003*\"web\" + 0.002*\"irrigation\" + 0.002*\"synthetic\" + 0.002*\"growth\" + 0.002*\"active\"'),\n",
       " (4,\n",
       "  '0.186*\"plant\" + 0.135*\"variety\" + 0.111*\"corn\" + 0.081*\"ch\" + 0.069*\"invention\" + 0.069*\"seed\" + 0.048*\"relate\" + 0.048*\"produce\" + 0.038*\"hybrid\" + 0.021*\"method\"'),\n",
       " (5,\n",
       "  '0.112*\"field\" + 0.072*\"datum\" + 0.069*\"value\" + 0.068*\"include\" + 0.034*\"plurality\" + 0.032*\"high\" + 0.023*\"receive\" + 0.021*\"digital\" + 0.020*\"specify\" + 0.019*\"sample\"'),\n",
       " (6,\n",
       "  '0.241*\"line\" + 0.071*\"soybean\" + 0.048*\"acid\" + 0.039*\"content\" + 0.027*\"less\" + 0.026*\"low\" + 0.023*\"composition\" + 0.019*\"method\" + 0.018*\"produce\" + 0.016*\"disclose\"'),\n",
       " (7,\n",
       "  '0.094*\"system\" + 0.044*\"method\" + 0.031*\"agronomy\" + 0.029*\"crop\" + 0.024*\"field\" + 0.023*\"provide\" + 0.022*\"production\" + 0.020*\"land\" + 0.019*\"yield\" + 0.018*\"image\"'),\n",
       " (8,\n",
       "  '0.056*\"datum\" + 0.044*\"image\" + 0.032*\"data\" + 0.027*\"spatial_structure\" + 0.025*\"select\" + 0.024*\"method\" + 0.024*\"processor\" + 0.022*\"analysis\" + 0.022*\"spatial\" + 0.017*\"show\"'),\n",
       " (9,\n",
       "  '0.039*\"observation\" + 0.036*\"impact\" + 0.036*\"model\" + 0.034*\"input\" + 0.032*\"datum\" + 0.032*\"base\" + 0.027*\"weather\" + 0.024*\"radiation\" + 0.024*\"location\" + 0.024*\"spatial_relationship\"'),\n",
       " (10,\n",
       "  '0.001*\"crop\" + 0.001*\"agricultural\" + 0.001*\"datum\" + 0.001*\"commodity\" + 0.001*\"production\" + 0.001*\"producer\" + 0.001*\"system\" + 0.001*\"method\" + 0.001*\"provide\" + 0.001*\"plan\"'),\n",
       " (11,\n",
       "  '0.070*\"method\" + 0.065*\"crop\" + 0.047*\"management\" + 0.034*\"use\" + 0.033*\"season\" + 0.031*\"growth\" + 0.029*\"plant\" + 0.023*\"plan\" + 0.023*\"material\" + 0.018*\"various\"'),\n",
       " (12,\n",
       "  '0.065*\"soil\" + 0.050*\"water\" + 0.049*\"plant\" + 0.038*\"nutrient\" + 0.027*\"amount\" + 0.025*\"reduce\" + 0.020*\"also\" + 0.017*\"level\" + 0.016*\"extraction\" + 0.015*\"hydrolyze\"'),\n",
       " (13,\n",
       "  '0.049*\"sale\" + 0.045*\"production\" + 0.035*\"farmer\" + 0.035*\"price\" + 0.033*\"entity\" + 0.031*\"portion\" + 0.030*\"effectively\" + 0.022*\"available\" + 0.019*\"call\" + 0.018*\"rebate\"'),\n",
       " (14,\n",
       "  '0.059*\"comprise\" + 0.043*\"method\" + 0.035*\"growth\" + 0.033*\"step\" + 0.032*\"modify\" + 0.028*\"present\" + 0.027*\"rate\" + 0.024*\"map\" + 0.023*\"color\" + 0.022*\"pertain\"'),\n",
       " (15,\n",
       "  '0.044*\"synthetic\" + 0.034*\"site\" + 0.027*\"fertilizer\" + 0.025*\"soil\" + 0.024*\"charge\" + 0.022*\"nitrogen\" + 0.022*\"disclose\" + 0.021*\"degree\" + 0.021*\"apatite\" + 0.019*\"comprise\"'),\n",
       " (16,\n",
       "  '0.074*\"component\" + 0.051*\"delivery\" + 0.020*\"grass\" + 0.018*\"impair\" + 0.004*\"equipment\" + 0.003*\"effective\" + 0.002*\"agricultural\" + 0.002*\"animal\" + 0.002*\"method\" + 0.001*\"service_provider\"'),\n",
       " (17,\n",
       "  '0.043*\"percent\" + 0.042*\"weight\" + 0.039*\"improve\" + 0.030*\"salt\" + 0.025*\"describe\" + 0.024*\"group\" + 0.021*\"fertilizer\" + 0.019*\"well\" + 0.018*\"wherein\" + 0.017*\"flow\"'),\n",
       " (18,\n",
       "  '0.151*\"agricultural\" + 0.047*\"producer\" + 0.041*\"commodity\" + 0.035*\"receive\" + 0.030*\"cloud_base\" + 0.030*\"supplier\" + 0.030*\"modular_component\" + 0.029*\"enterprise_management\" + 0.029*\"service_provider\" + 0.028*\"database\"'),\n",
       " (19,\n",
       "  '0.133*\"plant\" + 0.076*\"seed\" + 0.058*\"maize\" + 0.034*\"production\" + 0.034*\"provide\" + 0.025*\"method\" + 0.024*\"increase\" + 0.024*\"vigor\" + 0.022*\"enhance\" + 0.018*\"especially\"')]"
      ]
     },
     "execution_count": 35,
     "metadata": {},
     "output_type": "execute_result"
    }
   ],
   "source": [
    "optimal_model.print_topics()"
   ]
  },
  {
   "cell_type": "code",
   "execution_count": 36,
   "metadata": {},
   "outputs": [
    {
     "name": "stderr",
     "output_type": "stream",
     "text": [
      "/home/henrique/anaconda3/lib/python3.8/site-packages/ipykernel/ipkernel.py:287: DeprecationWarning: `should_run_async` will not call `transform_cell` automatically in the future. Please pass the result to `transformed_cell` argument and any exception that happen during thetransform in `preprocessing_exc_tuple` in IPython 7.17 and above.\n",
      "  and should_run_async(code)\n"
     ]
    },
    {
     "data": {
      "text/plain": [
       "[(195, 0.058039352),\n",
       " (197, 0.053130385),\n",
       " (194, 0.047802866),\n",
       " (228, 0.045287687),\n",
       " (201, 0.03699259),\n",
       " (203, 0.028718347),\n",
       " (222, 0.014328155),\n",
       " (198, 0.014093614),\n",
       " (192, 0.0140061425),\n",
       " (15, 0.013791621)]"
      ]
     },
     "execution_count": 36,
     "metadata": {},
     "output_type": "execute_result"
    }
   ],
   "source": [
    "optimal_model.get_topic_terms(0)"
   ]
  },
  {
   "cell_type": "code",
   "execution_count": 37,
   "metadata": {},
   "outputs": [
    {
     "name": "stderr",
     "output_type": "stream",
     "text": [
      "/home/henrique/anaconda3/lib/python3.8/site-packages/ipykernel/ipkernel.py:287: DeprecationWarning: `should_run_async` will not call `transform_cell` automatically in the future. Please pass the result to `transformed_cell` argument and any exception that happen during thetransform in `preprocessing_exc_tuple` in IPython 7.17 and above.\n",
      "  and should_run_async(code)\n"
     ]
    }
   ],
   "source": [
    "c = dict()\n",
    "for i in range(20):\n",
    "    for a,b in optimal_model.get_topic_terms(i):\n",
    "        \n",
    "        if not a in c.keys():\n",
    "            c[a] = 1\n",
    "        else:\n",
    "            c[a] += 1\n",
    "        \n",
    "        "
   ]
  },
  {
   "cell_type": "code",
   "execution_count": 38,
   "metadata": {},
   "outputs": [
    {
     "name": "stderr",
     "output_type": "stream",
     "text": [
      "/home/henrique/anaconda3/lib/python3.8/site-packages/ipykernel/ipkernel.py:287: DeprecationWarning: `should_run_async` will not call `transform_cell` automatically in the future. Please pass the result to `transformed_cell` argument and any exception that happen during thetransform in `preprocessing_exc_tuple` in IPython 7.17 and above.\n",
      "  and should_run_async(code)\n"
     ]
    },
    {
     "name": "stdout",
     "output_type": "stream",
     "text": [
      "{195: 3, 197: 1, 194: 2, 228: 3, 201: 1, 203: 1, 222: 1, 198: 1, 192: 1, 15: 3, 231: 2, 10: 3, 47: 4, 6: 5, 112: 2, 217: 1, 39: 1, 42: 1, 154: 2, 396: 1, 28: 4, 404: 1, 37: 1, 26: 1, 103: 1, 3: 1, 400: 1, 386: 1, 417: 1, 423: 2, 144: 5, 424: 1, 399: 1, 304: 2, 100: 3, 586: 1, 617: 1, 621: 1, 619: 1, 287: 1, 43: 2, 41: 1, 498: 2, 624: 1, 13: 9, 140: 1, 205: 1, 74: 2, 223: 1, 608: 1, 614: 1, 425: 1, 605: 1, 607: 1, 258: 1, 604: 1, 196: 2, 22: 2, 2: 1, 20: 3, 70: 4, 33: 1, 45: 1, 206: 2, 92: 1, 299: 1, 76: 1, 168: 1, 153: 1, 298: 1, 297: 1, 142: 1, 360: 1, 62: 1, 125: 1, 370: 1, 257: 1, 373: 1, 86: 2, 114: 2, 111: 2, 270: 1, 23: 1, 224: 1, 550: 1, 556: 1, 457: 2, 447: 1, 428: 1, 337: 1, 131: 1, 256: 1, 136: 1, 444: 1, 75: 1, 60: 1, 69: 1, 59: 1, 67: 1, 95: 1, 48: 1, 50: 1, 73: 1, 88: 2, 572: 1, 568: 1, 18: 1, 570: 1, 211: 1, 188: 1, 110: 1, 174: 1, 29: 2, 590: 1, 598: 1, 475: 1, 588: 1, 87: 1, 94: 1, 631: 1, 634: 1, 97: 1, 437: 1, 309: 1, 119: 2, 449: 1, 464: 1, 446: 1, 455: 1, 434: 1, 442: 1, 465: 1, 81: 1, 441: 1, 85: 1, 122: 1, 106: 1, 96: 1, 93: 1, 579: 1, 327: 1, 585: 1, 563: 1, 235: 1}\n"
     ]
    }
   ],
   "source": [
    "print(c)"
   ]
  },
  {
   "cell_type": "code",
   "execution_count": 39,
   "metadata": {},
   "outputs": [
    {
     "name": "stderr",
     "output_type": "stream",
     "text": [
      "/home/henrique/anaconda3/lib/python3.8/site-packages/ipykernel/ipkernel.py:287: DeprecationWarning: `should_run_async` will not call `transform_cell` automatically in the future. Please pass the result to `transformed_cell` argument and any exception that happen during thetransform in `preprocessing_exc_tuple` in IPython 7.17 and above.\n",
      "  and should_run_async(code)\n"
     ]
    },
    {
     "data": {
      "text/plain": [
       "144"
      ]
     },
     "execution_count": 39,
     "metadata": {},
     "output_type": "execute_result"
    }
   ],
   "source": [
    "len(c.keys())"
   ]
  },
  {
   "cell_type": "code",
   "execution_count": null,
   "metadata": {},
   "outputs": [],
   "source": []
  },
  {
   "cell_type": "code",
   "execution_count": 40,
   "metadata": {},
   "outputs": [
    {
     "name": "stderr",
     "output_type": "stream",
     "text": [
      "/home/henrique/anaconda3/lib/python3.8/site-packages/ipykernel/ipkernel.py:287: DeprecationWarning: `should_run_async` will not call `transform_cell` automatically in the future. Please pass the result to `transformed_cell` argument and any exception that happen during thetransform in `preprocessing_exc_tuple` in IPython 7.17 and above.\n",
      "  and should_run_async(code)\n"
     ]
    },
    {
     "data": {
      "text/plain": [
       "[(195, 0.058039352),\n",
       " (197, 0.053130385),\n",
       " (194, 0.047802866),\n",
       " (228, 0.045287687),\n",
       " (201, 0.03699259),\n",
       " (203, 0.028718347),\n",
       " (222, 0.014328155),\n",
       " (198, 0.014093614),\n",
       " (192, 0.0140061425),\n",
       " (15, 0.013791621)]"
      ]
     },
     "execution_count": 40,
     "metadata": {},
     "output_type": "execute_result"
    }
   ],
   "source": [
    "optimal_model.get_topic_terms(0)"
   ]
  },
  {
   "cell_type": "code",
   "execution_count": null,
   "metadata": {},
   "outputs": [],
   "source": []
  },
  {
   "cell_type": "code",
   "execution_count": 41,
   "metadata": {},
   "outputs": [
    {
     "name": "stderr",
     "output_type": "stream",
     "text": [
      "/home/henrique/anaconda3/lib/python3.8/site-packages/ipykernel/ipkernel.py:287: DeprecationWarning: `should_run_async` will not call `transform_cell` automatically in the future. Please pass the result to `transformed_cell` argument and any exception that happen during thetransform in `preprocessing_exc_tuple` in IPython 7.17 and above.\n",
      "  and should_run_async(code)\n"
     ]
    }
   ],
   "source": [
    "# def format_topics_sentences(ldamodel=None, corpus=None, texts=None):\n",
    "#     # Init output\n",
    "#     sent_topics_df = pd.DataFrame()\n",
    "\n",
    "#     # Get main topic in each document\n",
    "#     for i, row in enumerate(ldamodel[corpus]):\n",
    "        \n",
    "#         row = sorted(row, key=lambda x: (x[1]), reverse=True)\n",
    "#         # Get the Dominant topic, Perc Contribution and Keywords for each document\n",
    "#         for j, (topic_num, prop_topic) in enumerate(row):\n",
    "#             print(j, (topic_num, prop_topic))\n",
    "#             if j == 0:  # => dominant topic\n",
    "#                 wp = ldamodel.show_topic(topic_num)\n",
    "#                 topic_keywords = \", \".join([word for word, prop in wp])\n",
    "#                 sent_topics_df = sent_topics_df.append(pd.Series([int(topic_num), round(prop_topic,4), topic_keywords]), ignore_index=True)\n",
    "#             else:\n",
    "#                 break\n",
    "#     sent_topics_df.columns = ['Dominant_Topic', 'Perc_Contribution', 'Topic_Keywords']\n",
    "\n",
    "# # #     Add original text to the end of the output\n",
    "#     contents = pd.Series(texts)\n",
    "#     sent_topics_df = pd.concat([sent_topics_df, contents], axis=1)\n",
    "#     return(sent_topics_df)"
   ]
  },
  {
   "cell_type": "code",
   "execution_count": 42,
   "metadata": {},
   "outputs": [
    {
     "name": "stderr",
     "output_type": "stream",
     "text": [
      "/home/henrique/anaconda3/lib/python3.8/site-packages/ipykernel/ipkernel.py:287: DeprecationWarning: `should_run_async` will not call `transform_cell` automatically in the future. Please pass the result to `transformed_cell` argument and any exception that happen during thetransform in `preprocessing_exc_tuple` in IPython 7.17 and above.\n",
      "  and should_run_async(code)\n"
     ]
    }
   ],
   "source": [
    "# df_topic_sents_keywords = format_topics_sentences(ldamodel=optimal_model,\n",
    "#                                                   corpus=corpus, \n",
    "#                                                   texts=data_lemmatized)"
   ]
  },
  {
   "cell_type": "code",
   "execution_count": 43,
   "metadata": {},
   "outputs": [
    {
     "name": "stderr",
     "output_type": "stream",
     "text": [
      "/home/henrique/anaconda3/lib/python3.8/site-packages/ipykernel/ipkernel.py:287: DeprecationWarning: `should_run_async` will not call `transform_cell` automatically in the future. Please pass the result to `transformed_cell` argument and any exception that happen during thetransform in `preprocessing_exc_tuple` in IPython 7.17 and above.\n",
      "  and should_run_async(code)\n"
     ]
    }
   ],
   "source": [
    "# # Group top 5 sentences under each topic\n",
    "# sent_topics_sorteddf_mallet = pd.DataFrame()\n",
    "\n",
    "# sent_topics_outdf_grpd = df_topic_sents_keywords.groupby('Dominant_Topic')\n",
    "\n",
    "# for i, grp in sent_topics_outdf_grpd:\n",
    "#     sent_topics_sorteddf_mallet = pd.concat([sent_topics_sorteddf_mallet, \n",
    "#                                              grp.sort_values(['Perc_Contribution'], ascending=[0]).head(1)], \n",
    "#                                             axis=0)\n",
    "\n",
    "# # Reset Index    \n",
    "# sent_topics_sorteddf_mallet.reset_index(drop=True, inplace=True)\n",
    "\n",
    "# # Format\n",
    "# sent_topics_sorteddf_mallet.columns = ['Topic_Num', \"Topic_Perc_Contrib\", \"Keywords\", \"Text\"]\n",
    "\n",
    "# # Show\n",
    "# sent_topics_sorteddf_mallet.head()"
   ]
  },
  {
   "cell_type": "code",
   "execution_count": null,
   "metadata": {},
   "outputs": [],
   "source": []
  },
  {
   "cell_type": "code",
   "execution_count": 44,
   "metadata": {},
   "outputs": [
    {
     "name": "stderr",
     "output_type": "stream",
     "text": [
      "/home/henrique/anaconda3/lib/python3.8/site-packages/ipykernel/ipkernel.py:287: DeprecationWarning: `should_run_async` will not call `transform_cell` automatically in the future. Please pass the result to `transformed_cell` argument and any exception that happen during thetransform in `preprocessing_exc_tuple` in IPython 7.17 and above.\n",
      "  and should_run_async(code)\n"
     ]
    },
    {
     "data": {
      "text/plain": [
       "[(1,\n",
       "  [('digital', 0.0004925986),\n",
       "   ('value', 0.00049253006),\n",
       "   ('field', 0.00049249857),\n",
       "   ('agricultural', 0.0004924835),\n",
       "   ('model', 0.00049243524),\n",
       "   ('datum', 0.00049242965),\n",
       "   ('specify', 0.0004923218),\n",
       "   ('plurality', 0.00049225596),\n",
       "   ('property', 0.00049211906),\n",
       "   ('different', 0.00049183983)]),\n",
       " (10,\n",
       "  [('crop', 0.00073910743),\n",
       "   ('agricultural', 0.00072012434),\n",
       "   ('datum', 0.0007016075),\n",
       "   ('commodity', 0.00065245124),\n",
       "   ('production', 0.00065097195),\n",
       "   ('producer', 0.0006220497),\n",
       "   ('system', 0.000621496),\n",
       "   ('method', 0.000601001),\n",
       "   ('provide', 0.0005970419),\n",
       "   ('plan', 0.0005930292)]),\n",
       " (16,\n",
       "  [('component', 0.07412005),\n",
       "   ('delivery', 0.050562225),\n",
       "   ('grass', 0.019898668),\n",
       "   ('impair', 0.018065413),\n",
       "   ('equipment', 0.004175481),\n",
       "   ('effective', 0.0031068532),\n",
       "   ('agricultural', 0.0023593584),\n",
       "   ('animal', 0.0021700312),\n",
       "   ('method', 0.0019040861),\n",
       "   ('service_provider', 0.0012774965)]),\n",
       " (3,\n",
       "  [('lawn', 0.046978384),\n",
       "   ('back', 0.022278076),\n",
       "   ('time', 0.005877857),\n",
       "   ('water', 0.0037515317),\n",
       "   ('plant', 0.0036169093),\n",
       "   ('web', 0.002902463),\n",
       "   ('irrigation', 0.0023692192),\n",
       "   ('synthetic', 0.0021683923),\n",
       "   ('growth', 0.0018892656),\n",
       "   ('active', 0.0016498889)]),\n",
       " (0,\n",
       "  [('digital', 0.058039352),\n",
       "   ('display', 0.053130385),\n",
       "   ('different', 0.047802866),\n",
       "   ('specify', 0.045287687),\n",
       "   ('fertility', 0.03699259),\n",
       "   ('grid', 0.028718347),\n",
       "   ('response', 0.014328155),\n",
       "   ('divide', 0.014093614),\n",
       "   ('day', 0.0140061425),\n",
       "   ('model', 0.013791621)]),\n",
       " (11,\n",
       "  [('method', 0.06969262),\n",
       "   ('crop', 0.06459817),\n",
       "   ('management', 0.046847325),\n",
       "   ('use', 0.033830717),\n",
       "   ('season', 0.032983355),\n",
       "   ('growth', 0.030832892),\n",
       "   ('plant', 0.029247478),\n",
       "   ('plan', 0.022856291),\n",
       "   ('material', 0.022855712),\n",
       "   ('various', 0.017538302)]),\n",
       " (19,\n",
       "  [('plant', 0.13305643),\n",
       "   ('seed', 0.075950265),\n",
       "   ('maize', 0.057534695),\n",
       "   ('production', 0.034440458),\n",
       "   ('provide', 0.03358919),\n",
       "   ('method', 0.02475558),\n",
       "   ('increase', 0.023981534),\n",
       "   ('vigor', 0.023923311),\n",
       "   ('enhance', 0.022256091),\n",
       "   ('especially', 0.018268416)]),\n",
       " (7,\n",
       "  [('system', 0.09387656),\n",
       "   ('method', 0.044078164),\n",
       "   ('agronomy', 0.031346913),\n",
       "   ('crop', 0.028862506),\n",
       "   ('field', 0.023663761),\n",
       "   ('provide', 0.022614708),\n",
       "   ('production', 0.02177105),\n",
       "   ('land', 0.020357912),\n",
       "   ('yield', 0.019095687),\n",
       "   ('image', 0.017551264)]),\n",
       " (6,\n",
       "  [('line', 0.241286),\n",
       "   ('soybean', 0.07145843),\n",
       "   ('acid', 0.04824274),\n",
       "   ('content', 0.039379973),\n",
       "   ('less', 0.026694778),\n",
       "   ('low', 0.026100345),\n",
       "   ('composition', 0.023013942),\n",
       "   ('method', 0.018562378),\n",
       "   ('produce', 0.018372763),\n",
       "   ('disclose', 0.016461695)]),\n",
       " (4,\n",
       "  [('plant', 0.18561153),\n",
       "   ('variety', 0.13539168),\n",
       "   ('corn', 0.111218445),\n",
       "   ('ch', 0.08056461),\n",
       "   ('invention', 0.06878286),\n",
       "   ('seed', 0.06856385),\n",
       "   ('relate', 0.047900178),\n",
       "   ('produce', 0.047563642),\n",
       "   ('hybrid', 0.037570916),\n",
       "   ('method', 0.02142562)])]"
      ]
     },
     "execution_count": 44,
     "metadata": {},
     "output_type": "execute_result"
    }
   ],
   "source": [
    "optimal_model.show_topics(formatted=False)"
   ]
  },
  {
   "cell_type": "code",
   "execution_count": 45,
   "metadata": {},
   "outputs": [
    {
     "name": "stderr",
     "output_type": "stream",
     "text": [
      "/home/henrique/anaconda3/lib/python3.8/site-packages/ipykernel/ipkernel.py:287: DeprecationWarning: `should_run_async` will not call `transform_cell` automatically in the future. Please pass the result to `transformed_cell` argument and any exception that happen during thetransform in `preprocessing_exc_tuple` in IPython 7.17 and above.\n",
      "  and should_run_async(code)\n"
     ]
    }
   ],
   "source": [
    "dictionary_initial = []\n",
    "for i in range(20):\n",
    "    terms  = []\n",
    "    values = []\n",
    "    for term, value in optimal_model.show_topic(i):\n",
    "        terms.append(term)\n",
    "        values.append(value)\n",
    "\n",
    "    dictionary_initial_tmp = [ ['_'.join(terms[:3]), term] for term in terms]\n",
    "    dictionary_initial = dictionary_initial + dictionary_initial_tmp"
   ]
  },
  {
   "cell_type": "code",
   "execution_count": 46,
   "metadata": {},
   "outputs": [
    {
     "name": "stderr",
     "output_type": "stream",
     "text": [
      "/home/henrique/anaconda3/lib/python3.8/site-packages/ipykernel/ipkernel.py:287: DeprecationWarning: `should_run_async` will not call `transform_cell` automatically in the future. Please pass the result to `transformed_cell` argument and any exception that happen during thetransform in `preprocessing_exc_tuple` in IPython 7.17 and above.\n",
      "  and should_run_async(code)\n"
     ]
    },
    {
     "data": {
      "text/plain": [
       "[['digital_display_different', 'digital'],\n",
       " ['digital_display_different', 'display'],\n",
       " ['digital_display_different', 'different'],\n",
       " ['digital_display_different', 'specify'],\n",
       " ['digital_display_different', 'fertility'],\n",
       " ['digital_display_different', 'grid'],\n",
       " ['digital_display_different', 'response'],\n",
       " ['digital_display_different', 'divide'],\n",
       " ['digital_display_different', 'day'],\n",
       " ['digital_display_different', 'model'],\n",
       " ['digital_value_field', 'digital'],\n",
       " ['digital_value_field', 'value'],\n",
       " ['digital_value_field', 'field'],\n",
       " ['digital_value_field', 'agricultural'],\n",
       " ['digital_value_field', 'model'],\n",
       " ['digital_value_field', 'datum'],\n",
       " ['digital_value_field', 'specify'],\n",
       " ['digital_value_field', 'plurality'],\n",
       " ['digital_value_field', 'property'],\n",
       " ['digital_value_field', 'different'],\n",
       " ['profile_related_base', 'profile'],\n",
       " ['profile_related_base', 'related'],\n",
       " ['profile_related_base', 'base'],\n",
       " ['profile_related_base', 'grow'],\n",
       " ['profile_related_base', 'crop'],\n",
       " ['profile_related_base', 'need'],\n",
       " ['profile_related_base', 'plot'],\n",
       " ['profile_related_base', 'conductivity'],\n",
       " ['profile_related_base', 'maintenance'],\n",
       " ['profile_related_base', 'automatic'],\n",
       " ['lawn_back_time', 'lawn'],\n",
       " ['lawn_back_time', 'back'],\n",
       " ['lawn_back_time', 'time'],\n",
       " ['lawn_back_time', 'water'],\n",
       " ['lawn_back_time', 'plant'],\n",
       " ['lawn_back_time', 'web'],\n",
       " ['lawn_back_time', 'irrigation'],\n",
       " ['lawn_back_time', 'synthetic'],\n",
       " ['lawn_back_time', 'growth'],\n",
       " ['lawn_back_time', 'active'],\n",
       " ['plant_variety_corn', 'plant'],\n",
       " ['plant_variety_corn', 'variety'],\n",
       " ['plant_variety_corn', 'corn'],\n",
       " ['plant_variety_corn', 'ch'],\n",
       " ['plant_variety_corn', 'invention'],\n",
       " ['plant_variety_corn', 'seed'],\n",
       " ['plant_variety_corn', 'relate'],\n",
       " ['plant_variety_corn', 'produce'],\n",
       " ['plant_variety_corn', 'hybrid'],\n",
       " ['plant_variety_corn', 'method'],\n",
       " ['field_datum_value', 'field'],\n",
       " ['field_datum_value', 'datum'],\n",
       " ['field_datum_value', 'value'],\n",
       " ['field_datum_value', 'include'],\n",
       " ['field_datum_value', 'plurality'],\n",
       " ['field_datum_value', 'high'],\n",
       " ['field_datum_value', 'receive'],\n",
       " ['field_datum_value', 'digital'],\n",
       " ['field_datum_value', 'specify'],\n",
       " ['field_datum_value', 'sample'],\n",
       " ['line_soybean_acid', 'line'],\n",
       " ['line_soybean_acid', 'soybean'],\n",
       " ['line_soybean_acid', 'acid'],\n",
       " ['line_soybean_acid', 'content'],\n",
       " ['line_soybean_acid', 'less'],\n",
       " ['line_soybean_acid', 'low'],\n",
       " ['line_soybean_acid', 'composition'],\n",
       " ['line_soybean_acid', 'method'],\n",
       " ['line_soybean_acid', 'produce'],\n",
       " ['line_soybean_acid', 'disclose'],\n",
       " ['system_method_agronomy', 'system'],\n",
       " ['system_method_agronomy', 'method'],\n",
       " ['system_method_agronomy', 'agronomy'],\n",
       " ['system_method_agronomy', 'crop'],\n",
       " ['system_method_agronomy', 'field'],\n",
       " ['system_method_agronomy', 'provide'],\n",
       " ['system_method_agronomy', 'production'],\n",
       " ['system_method_agronomy', 'land'],\n",
       " ['system_method_agronomy', 'yield'],\n",
       " ['system_method_agronomy', 'image'],\n",
       " ['datum_image_data', 'datum'],\n",
       " ['datum_image_data', 'image'],\n",
       " ['datum_image_data', 'data'],\n",
       " ['datum_image_data', 'spatial_structure'],\n",
       " ['datum_image_data', 'select'],\n",
       " ['datum_image_data', 'method'],\n",
       " ['datum_image_data', 'processor'],\n",
       " ['datum_image_data', 'analysis'],\n",
       " ['datum_image_data', 'spatial'],\n",
       " ['datum_image_data', 'show'],\n",
       " ['observation_impact_model', 'observation'],\n",
       " ['observation_impact_model', 'impact'],\n",
       " ['observation_impact_model', 'model'],\n",
       " ['observation_impact_model', 'input'],\n",
       " ['observation_impact_model', 'datum'],\n",
       " ['observation_impact_model', 'base'],\n",
       " ['observation_impact_model', 'weather'],\n",
       " ['observation_impact_model', 'radiation'],\n",
       " ['observation_impact_model', 'location'],\n",
       " ['observation_impact_model', 'spatial_relationship'],\n",
       " ['crop_agricultural_datum', 'crop'],\n",
       " ['crop_agricultural_datum', 'agricultural'],\n",
       " ['crop_agricultural_datum', 'datum'],\n",
       " ['crop_agricultural_datum', 'commodity'],\n",
       " ['crop_agricultural_datum', 'production'],\n",
       " ['crop_agricultural_datum', 'producer'],\n",
       " ['crop_agricultural_datum', 'system'],\n",
       " ['crop_agricultural_datum', 'method'],\n",
       " ['crop_agricultural_datum', 'provide'],\n",
       " ['crop_agricultural_datum', 'plan'],\n",
       " ['method_crop_management', 'method'],\n",
       " ['method_crop_management', 'crop'],\n",
       " ['method_crop_management', 'management'],\n",
       " ['method_crop_management', 'use'],\n",
       " ['method_crop_management', 'season'],\n",
       " ['method_crop_management', 'growth'],\n",
       " ['method_crop_management', 'plant'],\n",
       " ['method_crop_management', 'plan'],\n",
       " ['method_crop_management', 'material'],\n",
       " ['method_crop_management', 'various'],\n",
       " ['soil_water_plant', 'soil'],\n",
       " ['soil_water_plant', 'water'],\n",
       " ['soil_water_plant', 'plant'],\n",
       " ['soil_water_plant', 'nutrient'],\n",
       " ['soil_water_plant', 'amount'],\n",
       " ['soil_water_plant', 'reduce'],\n",
       " ['soil_water_plant', 'also'],\n",
       " ['soil_water_plant', 'level'],\n",
       " ['soil_water_plant', 'extraction'],\n",
       " ['soil_water_plant', 'hydrolyze'],\n",
       " ['sale_production_farmer', 'sale'],\n",
       " ['sale_production_farmer', 'production'],\n",
       " ['sale_production_farmer', 'farmer'],\n",
       " ['sale_production_farmer', 'price'],\n",
       " ['sale_production_farmer', 'entity'],\n",
       " ['sale_production_farmer', 'portion'],\n",
       " ['sale_production_farmer', 'effectively'],\n",
       " ['sale_production_farmer', 'available'],\n",
       " ['sale_production_farmer', 'call'],\n",
       " ['sale_production_farmer', 'rebate'],\n",
       " ['comprise_method_growth', 'comprise'],\n",
       " ['comprise_method_growth', 'method'],\n",
       " ['comprise_method_growth', 'growth'],\n",
       " ['comprise_method_growth', 'step'],\n",
       " ['comprise_method_growth', 'modify'],\n",
       " ['comprise_method_growth', 'present'],\n",
       " ['comprise_method_growth', 'rate'],\n",
       " ['comprise_method_growth', 'map'],\n",
       " ['comprise_method_growth', 'color'],\n",
       " ['comprise_method_growth', 'pertain'],\n",
       " ['synthetic_site_fertilizer', 'synthetic'],\n",
       " ['synthetic_site_fertilizer', 'site'],\n",
       " ['synthetic_site_fertilizer', 'fertilizer'],\n",
       " ['synthetic_site_fertilizer', 'soil'],\n",
       " ['synthetic_site_fertilizer', 'charge'],\n",
       " ['synthetic_site_fertilizer', 'nitrogen'],\n",
       " ['synthetic_site_fertilizer', 'disclose'],\n",
       " ['synthetic_site_fertilizer', 'degree'],\n",
       " ['synthetic_site_fertilizer', 'apatite'],\n",
       " ['synthetic_site_fertilizer', 'comprise'],\n",
       " ['component_delivery_grass', 'component'],\n",
       " ['component_delivery_grass', 'delivery'],\n",
       " ['component_delivery_grass', 'grass'],\n",
       " ['component_delivery_grass', 'impair'],\n",
       " ['component_delivery_grass', 'equipment'],\n",
       " ['component_delivery_grass', 'effective'],\n",
       " ['component_delivery_grass', 'agricultural'],\n",
       " ['component_delivery_grass', 'animal'],\n",
       " ['component_delivery_grass', 'method'],\n",
       " ['component_delivery_grass', 'service_provider'],\n",
       " ['percent_weight_improve', 'percent'],\n",
       " ['percent_weight_improve', 'weight'],\n",
       " ['percent_weight_improve', 'improve'],\n",
       " ['percent_weight_improve', 'salt'],\n",
       " ['percent_weight_improve', 'describe'],\n",
       " ['percent_weight_improve', 'group'],\n",
       " ['percent_weight_improve', 'fertilizer'],\n",
       " ['percent_weight_improve', 'well'],\n",
       " ['percent_weight_improve', 'wherein'],\n",
       " ['percent_weight_improve', 'flow'],\n",
       " ['agricultural_producer_commodity', 'agricultural'],\n",
       " ['agricultural_producer_commodity', 'producer'],\n",
       " ['agricultural_producer_commodity', 'commodity'],\n",
       " ['agricultural_producer_commodity', 'receive'],\n",
       " ['agricultural_producer_commodity', 'cloud_base'],\n",
       " ['agricultural_producer_commodity', 'supplier'],\n",
       " ['agricultural_producer_commodity', 'modular_component'],\n",
       " ['agricultural_producer_commodity', 'enterprise_management'],\n",
       " ['agricultural_producer_commodity', 'service_provider'],\n",
       " ['agricultural_producer_commodity', 'database'],\n",
       " ['plant_seed_maize', 'plant'],\n",
       " ['plant_seed_maize', 'seed'],\n",
       " ['plant_seed_maize', 'maize'],\n",
       " ['plant_seed_maize', 'production'],\n",
       " ['plant_seed_maize', 'provide'],\n",
       " ['plant_seed_maize', 'method'],\n",
       " ['plant_seed_maize', 'increase'],\n",
       " ['plant_seed_maize', 'vigor'],\n",
       " ['plant_seed_maize', 'enhance'],\n",
       " ['plant_seed_maize', 'especially']]"
      ]
     },
     "execution_count": 46,
     "metadata": {},
     "output_type": "execute_result"
    }
   ],
   "source": [
    "dictionary_initial"
   ]
  },
  {
   "cell_type": "code",
   "execution_count": 47,
   "metadata": {},
   "outputs": [
    {
     "name": "stderr",
     "output_type": "stream",
     "text": [
      "/home/henrique/anaconda3/lib/python3.8/site-packages/ipykernel/ipkernel.py:287: DeprecationWarning: `should_run_async` will not call `transform_cell` automatically in the future. Please pass the result to `transformed_cell` argument and any exception that happen during thetransform in `preprocessing_exc_tuple` in IPython 7.17 and above.\n",
      "  and should_run_async(code)\n"
     ]
    },
    {
     "data": {
      "text/html": [
       "<div>\n",
       "<style scoped>\n",
       "    .dataframe tbody tr th:only-of-type {\n",
       "        vertical-align: middle;\n",
       "    }\n",
       "\n",
       "    .dataframe tbody tr th {\n",
       "        vertical-align: top;\n",
       "    }\n",
       "\n",
       "    .dataframe thead th {\n",
       "        text-align: right;\n",
       "    }\n",
       "</style>\n",
       "<table border=\"1\" class=\"dataframe\">\n",
       "  <thead>\n",
       "    <tr style=\"text-align: right;\">\n",
       "      <th></th>\n",
       "      <th>topic</th>\n",
       "      <th>term</th>\n",
       "    </tr>\n",
       "  </thead>\n",
       "  <tbody>\n",
       "    <tr>\n",
       "      <th>0</th>\n",
       "      <td>digital_display_different</td>\n",
       "      <td>digital</td>\n",
       "    </tr>\n",
       "    <tr>\n",
       "      <th>1</th>\n",
       "      <td>digital_display_different</td>\n",
       "      <td>display</td>\n",
       "    </tr>\n",
       "    <tr>\n",
       "      <th>2</th>\n",
       "      <td>digital_display_different</td>\n",
       "      <td>different</td>\n",
       "    </tr>\n",
       "    <tr>\n",
       "      <th>3</th>\n",
       "      <td>digital_display_different</td>\n",
       "      <td>specify</td>\n",
       "    </tr>\n",
       "    <tr>\n",
       "      <th>4</th>\n",
       "      <td>digital_display_different</td>\n",
       "      <td>fertility</td>\n",
       "    </tr>\n",
       "  </tbody>\n",
       "</table>\n",
       "</div>"
      ],
      "text/plain": [
       "                       topic       term\n",
       "0  digital_display_different    digital\n",
       "1  digital_display_different    display\n",
       "2  digital_display_different  different\n",
       "3  digital_display_different    specify\n",
       "4  digital_display_different  fertility"
      ]
     },
     "execution_count": 47,
     "metadata": {},
     "output_type": "execute_result"
    }
   ],
   "source": [
    "df_dictionary = pd.DataFrame(dictionary_initial, columns=['topic', 'term'])\n",
    "df_dictionary.head()"
   ]
  },
  {
   "cell_type": "code",
   "execution_count": 48,
   "metadata": {},
   "outputs": [
    {
     "name": "stderr",
     "output_type": "stream",
     "text": [
      "/home/henrique/anaconda3/lib/python3.8/site-packages/ipykernel/ipkernel.py:287: DeprecationWarning: `should_run_async` will not call `transform_cell` automatically in the future. Please pass the result to `transformed_cell` argument and any exception that happen during thetransform in `preprocessing_exc_tuple` in IPython 7.17 and above.\n",
      "  and should_run_async(code)\n"
     ]
    },
    {
     "name": "stdout",
     "output_type": "stream",
     "text": [
      "(200, 2)\n",
      "(200, 2)\n"
     ]
    }
   ],
   "source": [
    "print(df_dictionary.shape)\n",
    "df_dictionary = df_dictionary.drop_duplicates()\n",
    "print(df_dictionary.shape)"
   ]
  },
  {
   "cell_type": "code",
   "execution_count": 49,
   "metadata": {},
   "outputs": [
    {
     "name": "stderr",
     "output_type": "stream",
     "text": [
      "/home/henrique/anaconda3/lib/python3.8/site-packages/ipykernel/ipkernel.py:287: DeprecationWarning: `should_run_async` will not call `transform_cell` automatically in the future. Please pass the result to `transformed_cell` argument and any exception that happen during thetransform in `preprocessing_exc_tuple` in IPython 7.17 and above.\n",
      "  and should_run_async(code)\n"
     ]
    },
    {
     "data": {
      "text/plain": [
       "(20,)"
      ]
     },
     "execution_count": 49,
     "metadata": {},
     "output_type": "execute_result"
    }
   ],
   "source": [
    "# Total de topicos\n",
    "df_dictionary['topic'].unique().shape"
   ]
  },
  {
   "cell_type": "code",
   "execution_count": 50,
   "metadata": {},
   "outputs": [
    {
     "name": "stderr",
     "output_type": "stream",
     "text": [
      "/home/henrique/anaconda3/lib/python3.8/site-packages/ipykernel/ipkernel.py:287: DeprecationWarning: `should_run_async` will not call `transform_cell` automatically in the future. Please pass the result to `transformed_cell` argument and any exception that happen during thetransform in `preprocessing_exc_tuple` in IPython 7.17 and above.\n",
      "  and should_run_async(code)\n"
     ]
    },
    {
     "data": {
      "text/plain": [
       "(144,)"
      ]
     },
     "execution_count": 50,
     "metadata": {},
     "output_type": "execute_result"
    }
   ],
   "source": [
    "# Total de termos unicos\n",
    "df_dictionary['term'].unique().shape"
   ]
  },
  {
   "cell_type": "code",
   "execution_count": 51,
   "metadata": {},
   "outputs": [
    {
     "name": "stderr",
     "output_type": "stream",
     "text": [
      "/home/henrique/anaconda3/lib/python3.8/site-packages/ipykernel/ipkernel.py:287: DeprecationWarning: `should_run_async` will not call `transform_cell` automatically in the future. Please pass the result to `transformed_cell` argument and any exception that happen during thetransform in `preprocessing_exc_tuple` in IPython 7.17 and above.\n",
      "  and should_run_async(code)\n"
     ]
    },
    {
     "data": {
      "text/html": [
       "<div>\n",
       "<style scoped>\n",
       "    .dataframe tbody tr th:only-of-type {\n",
       "        vertical-align: middle;\n",
       "    }\n",
       "\n",
       "    .dataframe tbody tr th {\n",
       "        vertical-align: top;\n",
       "    }\n",
       "\n",
       "    .dataframe thead th {\n",
       "        text-align: right;\n",
       "    }\n",
       "</style>\n",
       "<table border=\"1\" class=\"dataframe\">\n",
       "  <thead>\n",
       "    <tr style=\"text-align: right;\">\n",
       "      <th></th>\n",
       "      <th>topic</th>\n",
       "      <th>term</th>\n",
       "    </tr>\n",
       "  </thead>\n",
       "  <tbody>\n",
       "    <tr>\n",
       "      <th>0</th>\n",
       "      <td>digital_display_different</td>\n",
       "      <td>digital</td>\n",
       "    </tr>\n",
       "    <tr>\n",
       "      <th>1</th>\n",
       "      <td>digital_display_different</td>\n",
       "      <td>display</td>\n",
       "    </tr>\n",
       "    <tr>\n",
       "      <th>2</th>\n",
       "      <td>digital_display_different</td>\n",
       "      <td>different</td>\n",
       "    </tr>\n",
       "    <tr>\n",
       "      <th>3</th>\n",
       "      <td>digital_display_different</td>\n",
       "      <td>specify</td>\n",
       "    </tr>\n",
       "    <tr>\n",
       "      <th>4</th>\n",
       "      <td>digital_display_different</td>\n",
       "      <td>fertility</td>\n",
       "    </tr>\n",
       "  </tbody>\n",
       "</table>\n",
       "</div>"
      ],
      "text/plain": [
       "                       topic       term\n",
       "0  digital_display_different    digital\n",
       "1  digital_display_different    display\n",
       "2  digital_display_different  different\n",
       "3  digital_display_different    specify\n",
       "4  digital_display_different  fertility"
      ]
     },
     "execution_count": 51,
     "metadata": {},
     "output_type": "execute_result"
    }
   ],
   "source": [
    "df_dictionary.head()"
   ]
  },
  {
   "cell_type": "code",
   "execution_count": 52,
   "metadata": {},
   "outputs": [
    {
     "name": "stderr",
     "output_type": "stream",
     "text": [
      "/home/henrique/anaconda3/lib/python3.8/site-packages/ipykernel/ipkernel.py:287: DeprecationWarning: `should_run_async` will not call `transform_cell` automatically in the future. Please pass the result to `transformed_cell` argument and any exception that happen during thetransform in `preprocessing_exc_tuple` in IPython 7.17 and above.\n",
      "  and should_run_async(code)\n"
     ]
    },
    {
     "data": {
      "text/html": [
       "<div>\n",
       "<style scoped>\n",
       "    .dataframe tbody tr th:only-of-type {\n",
       "        vertical-align: middle;\n",
       "    }\n",
       "\n",
       "    .dataframe tbody tr th {\n",
       "        vertical-align: top;\n",
       "    }\n",
       "\n",
       "    .dataframe thead th {\n",
       "        text-align: right;\n",
       "    }\n",
       "</style>\n",
       "<table border=\"1\" class=\"dataframe\">\n",
       "  <thead>\n",
       "    <tr style=\"text-align: right;\">\n",
       "      <th></th>\n",
       "      <th>term</th>\n",
       "      <th>feature</th>\n",
       "    </tr>\n",
       "  </thead>\n",
       "  <tbody>\n",
       "    <tr>\n",
       "      <th>0</th>\n",
       "      <td>digital</td>\n",
       "      <td>digital</td>\n",
       "    </tr>\n",
       "    <tr>\n",
       "      <th>3</th>\n",
       "      <td>display</td>\n",
       "      <td>display</td>\n",
       "    </tr>\n",
       "    <tr>\n",
       "      <th>4</th>\n",
       "      <td>display</td>\n",
       "      <td>show</td>\n",
       "    </tr>\n",
       "    <tr>\n",
       "      <th>6</th>\n",
       "      <td>display</td>\n",
       "      <td>exhibit</td>\n",
       "    </tr>\n",
       "    <tr>\n",
       "      <th>7</th>\n",
       "      <td>display</td>\n",
       "      <td>showing</td>\n",
       "    </tr>\n",
       "  </tbody>\n",
       "</table>\n",
       "</div>"
      ],
      "text/plain": [
       "      term  feature\n",
       "0  digital  digital\n",
       "3  display  display\n",
       "4  display     show\n",
       "6  display  exhibit\n",
       "7  display  showing"
      ]
     },
     "execution_count": 52,
     "metadata": {},
     "output_type": "execute_result"
    }
   ],
   "source": [
    "synonyms = []\n",
    "\n",
    "for term in df_dictionary['term'].tolist():\n",
    "    \n",
    "    try:\n",
    "        synsets = wordnet.synsets(term)[:3]\n",
    "    except Exception as e:\n",
    "        print(e)\n",
    "        \n",
    "    for synset in synsets:\n",
    "        for lemma in synset.lemmas():\n",
    "            synonyms.append([term, lemma.name()])\n",
    "            \n",
    "df_synonyms = pd.DataFrame(synonyms, columns=['term', 'feature'])\n",
    "df_synonyms = df_synonyms.drop_duplicates()\n",
    "df_synonyms.head()"
   ]
  },
  {
   "cell_type": "code",
   "execution_count": 53,
   "metadata": {},
   "outputs": [
    {
     "name": "stderr",
     "output_type": "stream",
     "text": [
      "/home/henrique/anaconda3/lib/python3.8/site-packages/ipykernel/ipkernel.py:287: DeprecationWarning: `should_run_async` will not call `transform_cell` automatically in the future. Please pass the result to `transformed_cell` argument and any exception that happen during thetransform in `preprocessing_exc_tuple` in IPython 7.17 and above.\n",
      "  and should_run_async(code)\n"
     ]
    },
    {
     "data": {
      "text/plain": [
       "(616,)"
      ]
     },
     "execution_count": 53,
     "metadata": {},
     "output_type": "execute_result"
    }
   ],
   "source": [
    "df_synonyms['feature'].unique().shape"
   ]
  },
  {
   "cell_type": "code",
   "execution_count": 54,
   "metadata": {},
   "outputs": [
    {
     "name": "stderr",
     "output_type": "stream",
     "text": [
      "/home/henrique/anaconda3/lib/python3.8/site-packages/ipykernel/ipkernel.py:287: DeprecationWarning: `should_run_async` will not call `transform_cell` automatically in the future. Please pass the result to `transformed_cell` argument and any exception that happen during thetransform in `preprocessing_exc_tuple` in IPython 7.17 and above.\n",
      "  and should_run_async(code)\n"
     ]
    },
    {
     "data": {
      "text/html": [
       "<div>\n",
       "<style scoped>\n",
       "    .dataframe tbody tr th:only-of-type {\n",
       "        vertical-align: middle;\n",
       "    }\n",
       "\n",
       "    .dataframe tbody tr th {\n",
       "        vertical-align: top;\n",
       "    }\n",
       "\n",
       "    .dataframe thead th {\n",
       "        text-align: right;\n",
       "    }\n",
       "</style>\n",
       "<table border=\"1\" class=\"dataframe\">\n",
       "  <thead>\n",
       "    <tr style=\"text-align: right;\">\n",
       "      <th></th>\n",
       "      <th>topic</th>\n",
       "      <th>term</th>\n",
       "      <th>feature</th>\n",
       "    </tr>\n",
       "  </thead>\n",
       "  <tbody>\n",
       "    <tr>\n",
       "      <th>0</th>\n",
       "      <td>digital_display_different</td>\n",
       "      <td>digital</td>\n",
       "      <td>digital</td>\n",
       "    </tr>\n",
       "    <tr>\n",
       "      <th>1</th>\n",
       "      <td>digital_value_field</td>\n",
       "      <td>digital</td>\n",
       "      <td>digital</td>\n",
       "    </tr>\n",
       "    <tr>\n",
       "      <th>2</th>\n",
       "      <td>field_datum_value</td>\n",
       "      <td>digital</td>\n",
       "      <td>digital</td>\n",
       "    </tr>\n",
       "    <tr>\n",
       "      <th>3</th>\n",
       "      <td>digital_display_different</td>\n",
       "      <td>display</td>\n",
       "      <td>display</td>\n",
       "    </tr>\n",
       "    <tr>\n",
       "      <th>4</th>\n",
       "      <td>digital_display_different</td>\n",
       "      <td>display</td>\n",
       "      <td>show</td>\n",
       "    </tr>\n",
       "  </tbody>\n",
       "</table>\n",
       "</div>"
      ],
      "text/plain": [
       "                       topic     term  feature\n",
       "0  digital_display_different  digital  digital\n",
       "1        digital_value_field  digital  digital\n",
       "2          field_datum_value  digital  digital\n",
       "3  digital_display_different  display  display\n",
       "4  digital_display_different  display     show"
      ]
     },
     "execution_count": 54,
     "metadata": {},
     "output_type": "execute_result"
    }
   ],
   "source": [
    "dictionary = pd.merge(df_dictionary, df_synonyms, on = 'term', how = 'inner')\n",
    "dictionary.head()"
   ]
  },
  {
   "cell_type": "code",
   "execution_count": 55,
   "metadata": {},
   "outputs": [
    {
     "name": "stderr",
     "output_type": "stream",
     "text": [
      "/home/henrique/anaconda3/lib/python3.8/site-packages/ipykernel/ipkernel.py:287: DeprecationWarning: `should_run_async` will not call `transform_cell` automatically in the future. Please pass the result to `transformed_cell` argument and any exception that happen during thetransform in `preprocessing_exc_tuple` in IPython 7.17 and above.\n",
      "  and should_run_async(code)\n"
     ]
    },
    {
     "data": {
      "text/plain": [
       "(901, 3)"
      ]
     },
     "execution_count": 55,
     "metadata": {},
     "output_type": "execute_result"
    }
   ],
   "source": [
    "dictionary.shape"
   ]
  },
  {
   "cell_type": "code",
   "execution_count": 56,
   "metadata": {},
   "outputs": [
    {
     "name": "stderr",
     "output_type": "stream",
     "text": [
      "/home/henrique/anaconda3/lib/python3.8/site-packages/ipykernel/ipkernel.py:287: DeprecationWarning: `should_run_async` will not call `transform_cell` automatically in the future. Please pass the result to `transformed_cell` argument and any exception that happen during thetransform in `preprocessing_exc_tuple` in IPython 7.17 and above.\n",
      "  and should_run_async(code)\n"
     ]
    }
   ],
   "source": [
    "dictionary.to_csv('dictionary.csv')"
   ]
  },
  {
   "cell_type": "code",
   "execution_count": null,
   "metadata": {},
   "outputs": [],
   "source": []
  }
 ],
 "metadata": {
  "kernelspec": {
   "display_name": "Python 3",
   "language": "python",
   "name": "python3"
  },
  "language_info": {
   "codemirror_mode": {
    "name": "ipython",
    "version": 3
   },
   "file_extension": ".py",
   "mimetype": "text/x-python",
   "name": "python",
   "nbconvert_exporter": "python",
   "pygments_lexer": "ipython3",
   "version": "3.8.5"
  }
 },
 "nbformat": 4,
 "nbformat_minor": 2
}
